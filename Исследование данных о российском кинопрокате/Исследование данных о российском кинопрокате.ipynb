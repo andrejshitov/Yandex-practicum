{
 "cells": [
  {
   "cell_type": "markdown",
   "metadata": {
    "id": "sIfNaMOxgFyK"
   },
   "source": [
    "## Исследование данных о российском кинопрокате\n",
    "\n"
   ]
  },
  {
   "cell_type": "markdown",
   "metadata": {},
   "source": [
    "В текущем исследовании необходимо изучить рынок российского кинопроката и выявить текущие тренды. Уделить внимание фильмам, которые получили государственную поддержку. Ответить на вопрос, насколько такие фильмы интересны зрителю.\n",
    "Будем работать с данными, опубликованными на портале открытых данных Министерства культуры. Набор данных содержит информацию о прокатных удостоверениях, сборах и государственной поддержке фильмов, а также информацию с сайта КиноПоиск."
   ]
  },
  {
   "cell_type": "markdown",
   "metadata": {
    "id": "3bSlkCsbgFyL"
   },
   "source": [
    "###  Откроем файлы с данными и объединим их в один датафрейм. "
   ]
  },
  {
   "cell_type": "code",
   "execution_count": 1,
   "metadata": {
    "id": "dw87FlzMgFyM"
   },
   "outputs": [],
   "source": [
    "# Импортируем библиотеки\n",
    "import pandas as pd\n",
    "import numpy as np\n",
    "import matplotlib.pyplot as plt\n",
    "import seaborn as sns\n",
    "pd.set_option('chained_assignment', None)"
   ]
  },
  {
   "cell_type": "code",
   "execution_count": 2,
   "metadata": {},
   "outputs": [],
   "source": [
    "pd.set_option('display.float_format', '{:.2f}'.format)"
   ]
  },
  {
   "cell_type": "code",
   "execution_count": 3,
   "metadata": {},
   "outputs": [],
   "source": [
    "# Скачиваем датасеты\n",
    "try:\n",
    "    mkrf_movies = pd.read_csv('mkrf_movies.csv', parse_dates=['show_start_date'])\n",
    "    mkrf_shows = pd.read_csv('mkrf_shows.csv')\n",
    "except:\n",
    "    mkrf_movies = pd.read_csv('/datasets/mkrf_movies.csv', parse_dates=['show_start_date'])\n",
    "    mkrf_shows = pd.read_csv('/datasets/mkrf_shows.csv')"
   ]
  },
  {
   "cell_type": "code",
   "execution_count": 4,
   "metadata": {},
   "outputs": [
    {
     "name": "stdout",
     "output_type": "stream",
     "text": [
      "<class 'pandas.core.frame.DataFrame'>\n",
      "RangeIndex: 7486 entries, 0 to 7485\n",
      "Data columns (total 15 columns):\n",
      " #   Column                 Non-Null Count  Dtype              \n",
      "---  ------                 --------------  -----              \n",
      " 0   title                  7486 non-null   object             \n",
      " 1   puNumber               7486 non-null   object             \n",
      " 2   show_start_date        7486 non-null   datetime64[ns, UTC]\n",
      " 3   type                   7486 non-null   object             \n",
      " 4   film_studio            7468 non-null   object             \n",
      " 5   production_country     7484 non-null   object             \n",
      " 6   director               7477 non-null   object             \n",
      " 7   producer               6918 non-null   object             \n",
      " 8   age_restriction        7486 non-null   object             \n",
      " 9   refundable_support     332 non-null    float64            \n",
      " 10  nonrefundable_support  332 non-null    float64            \n",
      " 11  budget                 332 non-null    float64            \n",
      " 12  financing_source       332 non-null    object             \n",
      " 13  ratings                6519 non-null   object             \n",
      " 14  genres                 6510 non-null   object             \n",
      "dtypes: datetime64[ns, UTC](1), float64(3), object(11)\n",
      "memory usage: 877.4+ KB\n",
      "<class 'pandas.core.frame.DataFrame'>\n",
      "RangeIndex: 3158 entries, 0 to 3157\n",
      "Data columns (total 2 columns):\n",
      " #   Column      Non-Null Count  Dtype  \n",
      "---  ------      --------------  -----  \n",
      " 0   puNumber    3158 non-null   int64  \n",
      " 1   box_office  3158 non-null   float64\n",
      "dtypes: float64(1), int64(1)\n",
      "memory usage: 49.5 KB\n"
     ]
    }
   ],
   "source": [
    "#выведем информацию о датафреймах\n",
    "mkrf_movies.info()\n",
    "mkrf_shows.info()"
   ]
  },
  {
   "cell_type": "code",
   "execution_count": 5,
   "metadata": {},
   "outputs": [
    {
     "data": {
      "text/plain": [
       "1797          нет\n",
       "5249    231001111\n",
       "1011    231001012\n",
       "3992    226019110\n",
       "4355    226017410\n",
       "Name: puNumber, dtype: object"
      ]
     },
     "execution_count": 5,
     "metadata": {},
     "output_type": "execute_result"
    }
   ],
   "source": [
    "# Объединять таблицы будем по puNumber, но у данного признака в первой таблице не целочисленные значения.\n",
    "# Посмотрим на него и приведем к целочисленному\n",
    "# Посмотрим на данные\n",
    "mkrf_movies['puNumber'].sort_values(ascending=False).head(5)"
   ]
  },
  {
   "cell_type": "code",
   "execution_count": 6,
   "metadata": {},
   "outputs": [
    {
     "data": {
      "text/plain": [
       "7486"
      ]
     },
     "execution_count": 6,
     "metadata": {},
     "output_type": "execute_result"
    }
   ],
   "source": [
    "# проверим, есть ли нули.\n",
    "mkrf_movies['puNumber'].fillna(0).astype(bool).sum()"
   ]
  },
  {
   "cell_type": "code",
   "execution_count": 7,
   "metadata": {},
   "outputs": [],
   "source": [
    "# Заменим \"Нет\" на ноль\n",
    "mkrf_movies.loc[mkrf_movies['puNumber'] == 'нет', 'puNumber'] = 0\n",
    "mkrf_movies['puNumber'] = mkrf_movies['puNumber'].astype(int)"
   ]
  },
  {
   "cell_type": "code",
   "execution_count": 8,
   "metadata": {},
   "outputs": [],
   "source": [
    "# Объеденим датафреймы\n",
    "data = mkrf_movies.merge(mkrf_shows, on='puNumber', how='left')"
   ]
  },
  {
   "cell_type": "code",
   "execution_count": 9,
   "metadata": {},
   "outputs": [
    {
     "name": "stdout",
     "output_type": "stream",
     "text": [
      "<class 'pandas.core.frame.DataFrame'>\n",
      "Int64Index: 7486 entries, 0 to 7485\n",
      "Data columns (total 16 columns):\n",
      " #   Column                 Non-Null Count  Dtype              \n",
      "---  ------                 --------------  -----              \n",
      " 0   title                  7486 non-null   object             \n",
      " 1   puNumber               7486 non-null   int32              \n",
      " 2   show_start_date        7486 non-null   datetime64[ns, UTC]\n",
      " 3   type                   7486 non-null   object             \n",
      " 4   film_studio            7468 non-null   object             \n",
      " 5   production_country     7484 non-null   object             \n",
      " 6   director               7477 non-null   object             \n",
      " 7   producer               6918 non-null   object             \n",
      " 8   age_restriction        7486 non-null   object             \n",
      " 9   refundable_support     332 non-null    float64            \n",
      " 10  nonrefundable_support  332 non-null    float64            \n",
      " 11  budget                 332 non-null    float64            \n",
      " 12  financing_source       332 non-null    object             \n",
      " 13  ratings                6519 non-null   object             \n",
      " 14  genres                 6510 non-null   object             \n",
      " 15  box_office             3158 non-null   float64            \n",
      "dtypes: datetime64[ns, UTC](1), float64(4), int32(1), object(10)\n",
      "memory usage: 965.0+ KB\n"
     ]
    }
   ],
   "source": [
    "data.info()"
   ]
  },
  {
   "cell_type": "markdown",
   "metadata": {},
   "source": [
    "###### В данной части исследования был подготовлен датафрейм для дальнейшего анализа, для этого прочитали данные из различных источников. Затем объеденили их по номеру прокатного удостоверения. Внимание, номер прокатного удостоверения равный нулю, означает отсутствие оного."
   ]
  },
  {
   "cell_type": "markdown",
   "metadata": {
    "id": "KLDGpPG0gFyM"
   },
   "source": [
    "### Предобработка данных"
   ]
  },
  {
   "cell_type": "markdown",
   "metadata": {
    "id": "ssWwKXsxgFyO"
   },
   "source": [
    "#### Шаг 2.1. Проверьте типы данных\n",
    "\n",
    "- Проверьте типы данных в датафрейме и преобразуйте их там, где это необходимо."
   ]
  },
  {
   "cell_type": "markdown",
   "metadata": {},
   "source": [
    "###### Дату начала проката перевели в дату на этапе чтения файла"
   ]
  },
  {
   "cell_type": "code",
   "execution_count": 10,
   "metadata": {
    "id": "kVGSplJOgFyO"
   },
   "outputs": [
    {
     "data": {
      "text/plain": [
       "array(['7.2', '6.6', '6.8', '7.7', '8.3', '8.0', '7.8', '8.1', '7.1',\n",
       "       '6.0', '7.4', '5.8', '8.7', '6.3', '6.9', '5.0', '4.3', '7.3',\n",
       "       '7.0', '6.4', nan, '8.2', '7.5', '6.7', '7.9', '5.9', '6.2', '5.6',\n",
       "       '6.5', '2.4', '7.6', '6.1', '8.6', '8.5', '8.8', '5.5', '5.1',\n",
       "       '5.7', '5.4', '99%', '4.4', '4.5', '5.3', '4.1', '8.4', '2.6',\n",
       "       '3.8', '4.6', '4.8', '4.0', '3.0', '1.6', '4.2', '5.2', '4.7',\n",
       "       '4.9', '3.9', '2.7', '3.3', '2.9', '28%', '3.7', '1.4', '3.1',\n",
       "       '97%', '3.5', '3.2', '2.8', '1.5', '2.1', '2.5', '9.2', '3.4',\n",
       "       '1.1', '3.6', '83%', '64%', '91%', '94%', '62%', '79%', '90%',\n",
       "       '19%', '88%', '1.0', '89%', '1.3', '1.9', '1.8', '1.2', '1.7',\n",
       "       '9.0', '98%', '8.9', '9.1'], dtype=object)"
      ]
     },
     "execution_count": 10,
     "metadata": {},
     "output_type": "execute_result"
    }
   ],
   "source": [
    "# Посмотрим почему признак \"рейтинг\" не \"float\"\n",
    "data['ratings'].unique()"
   ]
  },
  {
   "cell_type": "code",
   "execution_count": 11,
   "metadata": {},
   "outputs": [],
   "source": [
    "unknown_ratings = ['99%', '28%', '97%','83%', '64%',\n",
    "                  '91%', '94%', '62%', '79%', '90%',\n",
    "                  '19%', '88%', '89%', '98%']"
   ]
  },
  {
   "cell_type": "code",
   "execution_count": 12,
   "metadata": {},
   "outputs": [
    {
     "data": {
      "text/plain": [
       "0.0038738979428266096"
      ]
     },
     "execution_count": 12,
     "metadata": {},
     "output_type": "execute_result"
    }
   ],
   "source": [
    "# доля не вбросов\n",
    "len(data.loc[data['ratings'].isin(unknown_ratings)]) / len(data['ratings'])"
   ]
  },
  {
   "cell_type": "code",
   "execution_count": 13,
   "metadata": {},
   "outputs": [],
   "source": [
    "# Заменим проценты на NAN\n",
    "data.loc[data['ratings'].isin(unknown_ratings), 'ratings'] = np.nan"
   ]
  },
  {
   "cell_type": "code",
   "execution_count": 14,
   "metadata": {},
   "outputs": [
    {
     "data": {
      "text/plain": [
       "array(['7.2', '6.6', '6.8', '7.7', '8.3', '8.0', '7.8', '8.1', '7.1',\n",
       "       '6.0', '7.4', '5.8', '8.7', '6.3', '6.9', '5.0', '4.3', '7.3',\n",
       "       '7.0', '6.4', nan, '8.2', '7.5', '6.7', '7.9', '5.9', '6.2', '5.6',\n",
       "       '6.5', '2.4', '7.6', '6.1', '8.6', '8.5', '8.8', '5.5', '5.1',\n",
       "       '5.7', '5.4', '4.4', '4.5', '5.3', '4.1', '8.4', '2.6', '3.8',\n",
       "       '4.6', '4.8', '4.0', '3.0', '1.6', '4.2', '5.2', '4.7', '4.9',\n",
       "       '3.9', '2.7', '3.3', '2.9', '3.7', '1.4', '3.1', '3.5', '3.2',\n",
       "       '2.8', '1.5', '2.1', '2.5', '9.2', '3.4', '1.1', '3.6', '1.0',\n",
       "       '1.3', '1.9', '1.8', '1.2', '1.7', '9.0', '8.9', '9.1'],\n",
       "      dtype=object)"
      ]
     },
     "execution_count": 14,
     "metadata": {},
     "output_type": "execute_result"
    }
   ],
   "source": [
    "data['ratings'].unique()"
   ]
  },
  {
   "cell_type": "code",
   "execution_count": 15,
   "metadata": {},
   "outputs": [],
   "source": [
    "data['ratings'] = data['ratings'].astype(float)"
   ]
  },
  {
   "cell_type": "code",
   "execution_count": 16,
   "metadata": {
    "scrolled": true
   },
   "outputs": [
    {
     "name": "stdout",
     "output_type": "stream",
     "text": [
      "<class 'pandas.core.frame.DataFrame'>\n",
      "Int64Index: 7486 entries, 0 to 7485\n",
      "Data columns (total 16 columns):\n",
      " #   Column                 Non-Null Count  Dtype              \n",
      "---  ------                 --------------  -----              \n",
      " 0   title                  7486 non-null   object             \n",
      " 1   puNumber               7486 non-null   int32              \n",
      " 2   show_start_date        7486 non-null   datetime64[ns, UTC]\n",
      " 3   type                   7486 non-null   object             \n",
      " 4   film_studio            7468 non-null   object             \n",
      " 5   production_country     7484 non-null   object             \n",
      " 6   director               7477 non-null   object             \n",
      " 7   producer               6918 non-null   object             \n",
      " 8   age_restriction        7486 non-null   object             \n",
      " 9   refundable_support     332 non-null    float64            \n",
      " 10  nonrefundable_support  332 non-null    float64            \n",
      " 11  budget                 332 non-null    float64            \n",
      " 12  financing_source       332 non-null    object             \n",
      " 13  ratings                6490 non-null   float64            \n",
      " 14  genres                 6510 non-null   object             \n",
      " 15  box_office             3158 non-null   float64            \n",
      "dtypes: datetime64[ns, UTC](1), float64(5), int32(1), object(9)\n",
      "memory usage: 965.0+ KB\n"
     ]
    }
   ],
   "source": [
    "data.info()"
   ]
  },
  {
   "cell_type": "markdown",
   "metadata": {},
   "source": [
    "###### Дату начала проката перевели в тип данных - дата на этапе чтения файла. \n",
    "###### Доля не верных значений в признаке - рейтинг составляет 0,4%.  Перевели в численный формат, предварительно убрав вбросы."
   ]
  },
  {
   "cell_type": "markdown",
   "metadata": {
    "id": "i0MOLbF-gFyP"
   },
   "source": [
    "#### Изучим пропуски в датафрейме"
   ]
  },
  {
   "cell_type": "code",
   "execution_count": 17,
   "metadata": {},
   "outputs": [
    {
     "data": {
      "text/plain": [
       "title                       0\n",
       "puNumber                    0\n",
       "show_start_date             0\n",
       "type                        0\n",
       "film_studio                18\n",
       "production_country          2\n",
       "director                    9\n",
       "producer                  568\n",
       "age_restriction             0\n",
       "refundable_support       7154\n",
       "nonrefundable_support    7154\n",
       "budget                   7154\n",
       "financing_source         7154\n",
       "ratings                   996\n",
       "genres                    976\n",
       "box_office               4328\n",
       "dtype: int64"
      ]
     },
     "execution_count": 17,
     "metadata": {},
     "output_type": "execute_result"
    }
   ],
   "source": [
    "data.isna().sum()"
   ]
  },
  {
   "cell_type": "markdown",
   "metadata": {
    "id": "8MJD_lkngFyP"
   },
   "source": [
    "##### Студия"
   ]
  },
  {
   "cell_type": "code",
   "execution_count": 18,
   "metadata": {},
   "outputs": [
    {
     "data": {
      "text/html": [
       "<div>\n",
       "<style scoped>\n",
       "    .dataframe tbody tr th:only-of-type {\n",
       "        vertical-align: middle;\n",
       "    }\n",
       "\n",
       "    .dataframe tbody tr th {\n",
       "        vertical-align: top;\n",
       "    }\n",
       "\n",
       "    .dataframe thead th {\n",
       "        text-align: right;\n",
       "    }\n",
       "</style>\n",
       "<table border=\"1\" class=\"dataframe\">\n",
       "  <thead>\n",
       "    <tr style=\"text-align: right;\">\n",
       "      <th></th>\n",
       "      <th>title</th>\n",
       "      <th>puNumber</th>\n",
       "      <th>show_start_date</th>\n",
       "      <th>type</th>\n",
       "      <th>film_studio</th>\n",
       "      <th>production_country</th>\n",
       "      <th>director</th>\n",
       "      <th>producer</th>\n",
       "      <th>age_restriction</th>\n",
       "      <th>refundable_support</th>\n",
       "      <th>nonrefundable_support</th>\n",
       "      <th>budget</th>\n",
       "      <th>financing_source</th>\n",
       "      <th>ratings</th>\n",
       "      <th>genres</th>\n",
       "      <th>box_office</th>\n",
       "    </tr>\n",
       "  </thead>\n",
       "  <tbody>\n",
       "    <tr>\n",
       "      <th>1293</th>\n",
       "      <td>Stars in Shorts</td>\n",
       "      <td>121011114</td>\n",
       "      <td>2014-06-03 12:00:00+00:00</td>\n",
       "      <td>Художественный</td>\n",
       "      <td>NaN</td>\n",
       "      <td>США, Великобритания</td>\n",
       "      <td>Роберт Фестингер, Руперт Френд, Джей Камен, Ни...</td>\n",
       "      <td>Татьяна Келли, Роберта Мунро, Руперт Френд, До...</td>\n",
       "      <td>«16+» - для детей старше 16 лет</td>\n",
       "      <td>NaN</td>\n",
       "      <td>NaN</td>\n",
       "      <td>NaN</td>\n",
       "      <td>NaN</td>\n",
       "      <td>7.30</td>\n",
       "      <td>комедия</td>\n",
       "      <td>NaN</td>\n",
       "    </tr>\n",
       "    <tr>\n",
       "      <th>4441</th>\n",
       "      <td>Мульт личности. Выпуск 5</td>\n",
       "      <td>214000410</td>\n",
       "      <td>2010-01-25 12:00:00+00:00</td>\n",
       "      <td>Художественный</td>\n",
       "      <td>NaN</td>\n",
       "      <td>NaN</td>\n",
       "      <td>NaN</td>\n",
       "      <td>NaN</td>\n",
       "      <td>«0+» - для любой зрительской аудитории</td>\n",
       "      <td>NaN</td>\n",
       "      <td>NaN</td>\n",
       "      <td>NaN</td>\n",
       "      <td>NaN</td>\n",
       "      <td>4.00</td>\n",
       "      <td>мультфильм,комедия</td>\n",
       "      <td>NaN</td>\n",
       "    </tr>\n",
       "    <tr>\n",
       "      <th>6105</th>\n",
       "      <td>Значит любит</td>\n",
       "      <td>111013818</td>\n",
       "      <td>2018-08-10 12:00:00+00:00</td>\n",
       "      <td>Художественный</td>\n",
       "      <td>NaN</td>\n",
       "      <td>Россия</td>\n",
       "      <td>А.Краевский</td>\n",
       "      <td>Е.Щербакова</td>\n",
       "      <td>«18+» - запрещено для детей</td>\n",
       "      <td>NaN</td>\n",
       "      <td>NaN</td>\n",
       "      <td>NaN</td>\n",
       "      <td>NaN</td>\n",
       "      <td>NaN</td>\n",
       "      <td>NaN</td>\n",
       "      <td>NaN</td>\n",
       "    </tr>\n",
       "    <tr>\n",
       "      <th>6181</th>\n",
       "      <td>Несейка. Младшая дочь</td>\n",
       "      <td>112007018</td>\n",
       "      <td>2018-09-01 12:00:00+00:00</td>\n",
       "      <td>Документальный</td>\n",
       "      <td>NaN</td>\n",
       "      <td>Россия</td>\n",
       "      <td>В.Марин</td>\n",
       "      <td>Д.Якунин, Ф.Абрютин, О.Филонова</td>\n",
       "      <td>«6+» - для детей старше 6 лет</td>\n",
       "      <td>NaN</td>\n",
       "      <td>NaN</td>\n",
       "      <td>NaN</td>\n",
       "      <td>NaN</td>\n",
       "      <td>NaN</td>\n",
       "      <td>NaN</td>\n",
       "      <td>NaN</td>\n",
       "    </tr>\n",
       "    <tr>\n",
       "      <th>6379</th>\n",
       "      <td>Ян Антонышев</td>\n",
       "      <td>112011818</td>\n",
       "      <td>2018-11-15 12:00:00+00:00</td>\n",
       "      <td>Документальный</td>\n",
       "      <td>NaN</td>\n",
       "      <td>Россия</td>\n",
       "      <td>Е.Окопная</td>\n",
       "      <td>Е.Герасимов</td>\n",
       "      <td>«12+» - для детей старше 12 лет</td>\n",
       "      <td>NaN</td>\n",
       "      <td>NaN</td>\n",
       "      <td>NaN</td>\n",
       "      <td>NaN</td>\n",
       "      <td>NaN</td>\n",
       "      <td>NaN</td>\n",
       "      <td>NaN</td>\n",
       "    </tr>\n",
       "    <tr>\n",
       "      <th>6380</th>\n",
       "      <td>Ян Антонышев</td>\n",
       "      <td>112011918</td>\n",
       "      <td>2018-11-15 12:00:00+00:00</td>\n",
       "      <td>Документальный</td>\n",
       "      <td>NaN</td>\n",
       "      <td>Россия</td>\n",
       "      <td>Е.Окопная</td>\n",
       "      <td>Е.Герасимов</td>\n",
       "      <td>«12+» - для детей старше 12 лет</td>\n",
       "      <td>NaN</td>\n",
       "      <td>NaN</td>\n",
       "      <td>NaN</td>\n",
       "      <td>NaN</td>\n",
       "      <td>NaN</td>\n",
       "      <td>NaN</td>\n",
       "      <td>NaN</td>\n",
       "    </tr>\n",
       "    <tr>\n",
       "      <th>6399</th>\n",
       "      <td>Доживем до каникул?..</td>\n",
       "      <td>111021918</td>\n",
       "      <td>2018-11-15 12:00:00+00:00</td>\n",
       "      <td>Художественный</td>\n",
       "      <td>NaN</td>\n",
       "      <td>Россия</td>\n",
       "      <td>Я.Хальпукова (псевдоним Яна Мартынец)</td>\n",
       "      <td>Я.Хальпукова (псевдоним Яна Мартынец)</td>\n",
       "      <td>«12+» - для детей старше 12 лет</td>\n",
       "      <td>NaN</td>\n",
       "      <td>NaN</td>\n",
       "      <td>NaN</td>\n",
       "      <td>NaN</td>\n",
       "      <td>NaN</td>\n",
       "      <td>NaN</td>\n",
       "      <td>41225.00</td>\n",
       "    </tr>\n",
       "    <tr>\n",
       "      <th>6485</th>\n",
       "      <td>До и После</td>\n",
       "      <td>112014418</td>\n",
       "      <td>2018-12-05 12:00:00+00:00</td>\n",
       "      <td>Документальный</td>\n",
       "      <td>NaN</td>\n",
       "      <td>Россия</td>\n",
       "      <td>А.Новокреповская</td>\n",
       "      <td>А.Новокреповская</td>\n",
       "      <td>«6+» - для детей старше 6 лет</td>\n",
       "      <td>NaN</td>\n",
       "      <td>NaN</td>\n",
       "      <td>NaN</td>\n",
       "      <td>NaN</td>\n",
       "      <td>6.90</td>\n",
       "      <td>драма,криминал,детектив</td>\n",
       "      <td>NaN</td>\n",
       "    </tr>\n",
       "    <tr>\n",
       "      <th>6494</th>\n",
       "      <td>Калмыцкий геше Нгаванг Вангьял</td>\n",
       "      <td>113002018</td>\n",
       "      <td>2018-12-05 12:00:00+00:00</td>\n",
       "      <td>Научно-популярный</td>\n",
       "      <td>NaN</td>\n",
       "      <td>Россия</td>\n",
       "      <td>И.Долгина</td>\n",
       "      <td>И.Долгина</td>\n",
       "      <td>«12+» - для детей старше 12 лет</td>\n",
       "      <td>NaN</td>\n",
       "      <td>NaN</td>\n",
       "      <td>NaN</td>\n",
       "      <td>NaN</td>\n",
       "      <td>NaN</td>\n",
       "      <td>NaN</td>\n",
       "      <td>NaN</td>\n",
       "    </tr>\n",
       "    <tr>\n",
       "      <th>6497</th>\n",
       "      <td>Мой папа Чингисхан</td>\n",
       "      <td>112014918</td>\n",
       "      <td>2018-12-06 12:00:00+00:00</td>\n",
       "      <td>Документальный</td>\n",
       "      <td>NaN</td>\n",
       "      <td>Россия</td>\n",
       "      <td>А.Сайфуллина</td>\n",
       "      <td>А.Сайфуллина</td>\n",
       "      <td>«12+» - для детей старше 12 лет</td>\n",
       "      <td>NaN</td>\n",
       "      <td>NaN</td>\n",
       "      <td>NaN</td>\n",
       "      <td>NaN</td>\n",
       "      <td>NaN</td>\n",
       "      <td>NaN</td>\n",
       "      <td>NaN</td>\n",
       "    </tr>\n",
       "    <tr>\n",
       "      <th>6498</th>\n",
       "      <td>В плену города грёз</td>\n",
       "      <td>112014818</td>\n",
       "      <td>2018-12-06 12:00:00+00:00</td>\n",
       "      <td>Документальный</td>\n",
       "      <td>NaN</td>\n",
       "      <td>Россия</td>\n",
       "      <td>В.Витовцев</td>\n",
       "      <td>О.Мичи</td>\n",
       "      <td>«18+» - запрещено для детей</td>\n",
       "      <td>NaN</td>\n",
       "      <td>NaN</td>\n",
       "      <td>NaN</td>\n",
       "      <td>NaN</td>\n",
       "      <td>7.90</td>\n",
       "      <td>фантастика,боевик,триллер</td>\n",
       "      <td>NaN</td>\n",
       "    </tr>\n",
       "    <tr>\n",
       "      <th>6499</th>\n",
       "      <td>Последнее фото</td>\n",
       "      <td>112014518</td>\n",
       "      <td>2018-12-06 12:00:00+00:00</td>\n",
       "      <td>Документальный</td>\n",
       "      <td>NaN</td>\n",
       "      <td>Россия</td>\n",
       "      <td>Е.Севастьянов</td>\n",
       "      <td>Е.Севастьянов</td>\n",
       "      <td>«18+» - запрещено для детей</td>\n",
       "      <td>NaN</td>\n",
       "      <td>NaN</td>\n",
       "      <td>NaN</td>\n",
       "      <td>NaN</td>\n",
       "      <td>NaN</td>\n",
       "      <td>NaN</td>\n",
       "      <td>NaN</td>\n",
       "    </tr>\n",
       "    <tr>\n",
       "      <th>6507</th>\n",
       "      <td>Мой селфхарм</td>\n",
       "      <td>113001918</td>\n",
       "      <td>2018-12-06 12:00:00+00:00</td>\n",
       "      <td>Научно-популярный</td>\n",
       "      <td>NaN</td>\n",
       "      <td>Россия</td>\n",
       "      <td>Я.Лаптев (псевдоним Яков Раскалов)</td>\n",
       "      <td>Я.Лаптев (псевдоним Яков Раскалов)</td>\n",
       "      <td>«18+» - запрещено для детей</td>\n",
       "      <td>NaN</td>\n",
       "      <td>NaN</td>\n",
       "      <td>NaN</td>\n",
       "      <td>NaN</td>\n",
       "      <td>NaN</td>\n",
       "      <td>NaN</td>\n",
       "      <td>NaN</td>\n",
       "    </tr>\n",
       "    <tr>\n",
       "      <th>6511</th>\n",
       "      <td>Обстоятельства места и времени</td>\n",
       "      <td>112015018</td>\n",
       "      <td>2018-12-12 12:00:00+00:00</td>\n",
       "      <td>Документальный</td>\n",
       "      <td>NaN</td>\n",
       "      <td>Россия</td>\n",
       "      <td>Д.Кабаков</td>\n",
       "      <td>Д.Кабаков</td>\n",
       "      <td>«12+» - для детей старше 12 лет</td>\n",
       "      <td>NaN</td>\n",
       "      <td>NaN</td>\n",
       "      <td>NaN</td>\n",
       "      <td>NaN</td>\n",
       "      <td>NaN</td>\n",
       "      <td>NaN</td>\n",
       "      <td>NaN</td>\n",
       "    </tr>\n",
       "    <tr>\n",
       "      <th>6638</th>\n",
       "      <td>Эрик Булатов. Моя Третьяковка, серии 1-2</td>\n",
       "      <td>113000319</td>\n",
       "      <td>2019-01-28 12:00:00+00:00</td>\n",
       "      <td>Научно-популярный</td>\n",
       "      <td>NaN</td>\n",
       "      <td>Россия</td>\n",
       "      <td>С.Гарькавый</td>\n",
       "      <td>Т.Пинская</td>\n",
       "      <td>«6+» - для детей старше 6 лет</td>\n",
       "      <td>NaN</td>\n",
       "      <td>NaN</td>\n",
       "      <td>NaN</td>\n",
       "      <td>NaN</td>\n",
       "      <td>NaN</td>\n",
       "      <td>NaN</td>\n",
       "      <td>NaN</td>\n",
       "    </tr>\n",
       "    <tr>\n",
       "      <th>6639</th>\n",
       "      <td>Брови</td>\n",
       "      <td>111000719</td>\n",
       "      <td>2019-03-01 12:00:00+00:00</td>\n",
       "      <td>Художественный</td>\n",
       "      <td>NaN</td>\n",
       "      <td>Россия</td>\n",
       "      <td>О.Штром</td>\n",
       "      <td>В.Максимов, В.Степанов, Г.Киракосян, О.Штром</td>\n",
       "      <td>«16+» - для детей старше 16 лет</td>\n",
       "      <td>NaN</td>\n",
       "      <td>NaN</td>\n",
       "      <td>NaN</td>\n",
       "      <td>NaN</td>\n",
       "      <td>NaN</td>\n",
       "      <td>NaN</td>\n",
       "      <td>NaN</td>\n",
       "    </tr>\n",
       "    <tr>\n",
       "      <th>6662</th>\n",
       "      <td>Топливо</td>\n",
       "      <td>111001419</td>\n",
       "      <td>2019-02-12 12:00:00+00:00</td>\n",
       "      <td>Художественный</td>\n",
       "      <td>NaN</td>\n",
       "      <td>Россия</td>\n",
       "      <td>М.Архипов</td>\n",
       "      <td>М.Архипов</td>\n",
       "      <td>«12+» - для детей старше 12 лет</td>\n",
       "      <td>NaN</td>\n",
       "      <td>NaN</td>\n",
       "      <td>NaN</td>\n",
       "      <td>NaN</td>\n",
       "      <td>6.10</td>\n",
       "      <td>короткометражка,фантастика</td>\n",
       "      <td>NaN</td>\n",
       "    </tr>\n",
       "    <tr>\n",
       "      <th>6722</th>\n",
       "      <td>Путешествие в Париж</td>\n",
       "      <td>111002919</td>\n",
       "      <td>2019-03-01 12:00:00+00:00</td>\n",
       "      <td>Художественный</td>\n",
       "      <td>NaN</td>\n",
       "      <td>Россия</td>\n",
       "      <td>М.Олейник (псевдоним - Мария Полякова)</td>\n",
       "      <td>Н.Савко</td>\n",
       "      <td>«16+» - для детей старше 16 лет</td>\n",
       "      <td>NaN</td>\n",
       "      <td>NaN</td>\n",
       "      <td>NaN</td>\n",
       "      <td>NaN</td>\n",
       "      <td>NaN</td>\n",
       "      <td>NaN</td>\n",
       "      <td>NaN</td>\n",
       "    </tr>\n",
       "  </tbody>\n",
       "</table>\n",
       "</div>"
      ],
      "text/plain": [
       "                                         title   puNumber  \\\n",
       "1293                           Stars in Shorts  121011114   \n",
       "4441                  Мульт личности. Выпуск 5  214000410   \n",
       "6105                              Значит любит  111013818   \n",
       "6181                     Несейка. Младшая дочь  112007018   \n",
       "6379                              Ян Антонышев  112011818   \n",
       "6380                              Ян Антонышев  112011918   \n",
       "6399                     Доживем до каникул?..  111021918   \n",
       "6485                                До и После  112014418   \n",
       "6494            Калмыцкий геше Нгаванг Вангьял  113002018   \n",
       "6497                        Мой папа Чингисхан  112014918   \n",
       "6498                       В плену города грёз  112014818   \n",
       "6499                            Последнее фото  112014518   \n",
       "6507                              Мой селфхарм  113001918   \n",
       "6511            Обстоятельства места и времени  112015018   \n",
       "6638  Эрик Булатов. Моя Третьяковка, серии 1-2  113000319   \n",
       "6639                                     Брови  111000719   \n",
       "6662                                   Топливо  111001419   \n",
       "6722                       Путешествие в Париж  111002919   \n",
       "\n",
       "               show_start_date               type film_studio  \\\n",
       "1293 2014-06-03 12:00:00+00:00     Художественный         NaN   \n",
       "4441 2010-01-25 12:00:00+00:00     Художественный         NaN   \n",
       "6105 2018-08-10 12:00:00+00:00     Художественный         NaN   \n",
       "6181 2018-09-01 12:00:00+00:00     Документальный         NaN   \n",
       "6379 2018-11-15 12:00:00+00:00     Документальный         NaN   \n",
       "6380 2018-11-15 12:00:00+00:00     Документальный         NaN   \n",
       "6399 2018-11-15 12:00:00+00:00     Художественный         NaN   \n",
       "6485 2018-12-05 12:00:00+00:00     Документальный         NaN   \n",
       "6494 2018-12-05 12:00:00+00:00  Научно-популярный         NaN   \n",
       "6497 2018-12-06 12:00:00+00:00     Документальный         NaN   \n",
       "6498 2018-12-06 12:00:00+00:00     Документальный         NaN   \n",
       "6499 2018-12-06 12:00:00+00:00     Документальный         NaN   \n",
       "6507 2018-12-06 12:00:00+00:00  Научно-популярный         NaN   \n",
       "6511 2018-12-12 12:00:00+00:00     Документальный         NaN   \n",
       "6638 2019-01-28 12:00:00+00:00  Научно-популярный         NaN   \n",
       "6639 2019-03-01 12:00:00+00:00     Художественный         NaN   \n",
       "6662 2019-02-12 12:00:00+00:00     Художественный         NaN   \n",
       "6722 2019-03-01 12:00:00+00:00     Художественный         NaN   \n",
       "\n",
       "       production_country                                           director  \\\n",
       "1293  США, Великобритания  Роберт Фестингер, Руперт Френд, Джей Камен, Ни...   \n",
       "4441                  NaN                                                NaN   \n",
       "6105               Россия                                        А.Краевский   \n",
       "6181               Россия                                            В.Марин   \n",
       "6379               Россия                                          Е.Окопная   \n",
       "6380               Россия                                          Е.Окопная   \n",
       "6399               Россия              Я.Хальпукова (псевдоним Яна Мартынец)   \n",
       "6485               Россия                                   А.Новокреповская   \n",
       "6494               Россия                                          И.Долгина   \n",
       "6497               Россия                                       А.Сайфуллина   \n",
       "6498               Россия                                         В.Витовцев   \n",
       "6499               Россия                                      Е.Севастьянов   \n",
       "6507               Россия                 Я.Лаптев (псевдоним Яков Раскалов)   \n",
       "6511               Россия                                          Д.Кабаков   \n",
       "6638               Россия                                        С.Гарькавый   \n",
       "6639               Россия                                            О.Штром   \n",
       "6662               Россия                                          М.Архипов   \n",
       "6722               Россия             М.Олейник (псевдоним - Мария Полякова)   \n",
       "\n",
       "                                               producer  \\\n",
       "1293  Татьяна Келли, Роберта Мунро, Руперт Френд, До...   \n",
       "4441                                                NaN   \n",
       "6105                                        Е.Щербакова   \n",
       "6181                    Д.Якунин, Ф.Абрютин, О.Филонова   \n",
       "6379                                        Е.Герасимов   \n",
       "6380                                        Е.Герасимов   \n",
       "6399              Я.Хальпукова (псевдоним Яна Мартынец)   \n",
       "6485                                   А.Новокреповская   \n",
       "6494                                          И.Долгина   \n",
       "6497                                       А.Сайфуллина   \n",
       "6498                                             О.Мичи   \n",
       "6499                                      Е.Севастьянов   \n",
       "6507                 Я.Лаптев (псевдоним Яков Раскалов)   \n",
       "6511                                          Д.Кабаков   \n",
       "6638                                          Т.Пинская   \n",
       "6639       В.Максимов, В.Степанов, Г.Киракосян, О.Штром   \n",
       "6662                                          М.Архипов   \n",
       "6722                                            Н.Савко   \n",
       "\n",
       "                             age_restriction  refundable_support  \\\n",
       "1293         «16+» - для детей старше 16 лет                 NaN   \n",
       "4441  «0+» - для любой зрительской аудитории                 NaN   \n",
       "6105             «18+» - запрещено для детей                 NaN   \n",
       "6181           «6+» - для детей старше 6 лет                 NaN   \n",
       "6379         «12+» - для детей старше 12 лет                 NaN   \n",
       "6380         «12+» - для детей старше 12 лет                 NaN   \n",
       "6399         «12+» - для детей старше 12 лет                 NaN   \n",
       "6485           «6+» - для детей старше 6 лет                 NaN   \n",
       "6494         «12+» - для детей старше 12 лет                 NaN   \n",
       "6497         «12+» - для детей старше 12 лет                 NaN   \n",
       "6498             «18+» - запрещено для детей                 NaN   \n",
       "6499             «18+» - запрещено для детей                 NaN   \n",
       "6507             «18+» - запрещено для детей                 NaN   \n",
       "6511         «12+» - для детей старше 12 лет                 NaN   \n",
       "6638           «6+» - для детей старше 6 лет                 NaN   \n",
       "6639         «16+» - для детей старше 16 лет                 NaN   \n",
       "6662         «12+» - для детей старше 12 лет                 NaN   \n",
       "6722         «16+» - для детей старше 16 лет                 NaN   \n",
       "\n",
       "      nonrefundable_support  budget financing_source  ratings  \\\n",
       "1293                    NaN     NaN              NaN     7.30   \n",
       "4441                    NaN     NaN              NaN     4.00   \n",
       "6105                    NaN     NaN              NaN      NaN   \n",
       "6181                    NaN     NaN              NaN      NaN   \n",
       "6379                    NaN     NaN              NaN      NaN   \n",
       "6380                    NaN     NaN              NaN      NaN   \n",
       "6399                    NaN     NaN              NaN      NaN   \n",
       "6485                    NaN     NaN              NaN     6.90   \n",
       "6494                    NaN     NaN              NaN      NaN   \n",
       "6497                    NaN     NaN              NaN      NaN   \n",
       "6498                    NaN     NaN              NaN     7.90   \n",
       "6499                    NaN     NaN              NaN      NaN   \n",
       "6507                    NaN     NaN              NaN      NaN   \n",
       "6511                    NaN     NaN              NaN      NaN   \n",
       "6638                    NaN     NaN              NaN      NaN   \n",
       "6639                    NaN     NaN              NaN      NaN   \n",
       "6662                    NaN     NaN              NaN     6.10   \n",
       "6722                    NaN     NaN              NaN      NaN   \n",
       "\n",
       "                          genres  box_office  \n",
       "1293                     комедия         NaN  \n",
       "4441          мультфильм,комедия         NaN  \n",
       "6105                         NaN         NaN  \n",
       "6181                         NaN         NaN  \n",
       "6379                         NaN         NaN  \n",
       "6380                         NaN         NaN  \n",
       "6399                         NaN    41225.00  \n",
       "6485     драма,криминал,детектив         NaN  \n",
       "6494                         NaN         NaN  \n",
       "6497                         NaN         NaN  \n",
       "6498   фантастика,боевик,триллер         NaN  \n",
       "6499                         NaN         NaN  \n",
       "6507                         NaN         NaN  \n",
       "6511                         NaN         NaN  \n",
       "6638                         NaN         NaN  \n",
       "6639                         NaN         NaN  \n",
       "6662  короткометражка,фантастика         NaN  \n",
       "6722                         NaN         NaN  "
      ]
     },
     "execution_count": 18,
     "metadata": {},
     "output_type": "execute_result"
    }
   ],
   "source": [
    "data[data['film_studio'].isna() == True]"
   ]
  },
  {
   "cell_type": "markdown",
   "metadata": {},
   "source": [
    "###### В интернете про студии, на которых сняты данные фильмы найти ничего не удалось. Скорее всего в данных фильмах не использовались студийные съемки."
   ]
  },
  {
   "cell_type": "markdown",
   "metadata": {},
   "source": [
    "##### Страна"
   ]
  },
  {
   "cell_type": "code",
   "execution_count": 19,
   "metadata": {},
   "outputs": [
    {
     "data": {
      "text/html": [
       "<div>\n",
       "<style scoped>\n",
       "    .dataframe tbody tr th:only-of-type {\n",
       "        vertical-align: middle;\n",
       "    }\n",
       "\n",
       "    .dataframe tbody tr th {\n",
       "        vertical-align: top;\n",
       "    }\n",
       "\n",
       "    .dataframe thead th {\n",
       "        text-align: right;\n",
       "    }\n",
       "</style>\n",
       "<table border=\"1\" class=\"dataframe\">\n",
       "  <thead>\n",
       "    <tr style=\"text-align: right;\">\n",
       "      <th></th>\n",
       "      <th>title</th>\n",
       "      <th>puNumber</th>\n",
       "      <th>show_start_date</th>\n",
       "      <th>type</th>\n",
       "      <th>film_studio</th>\n",
       "      <th>production_country</th>\n",
       "      <th>director</th>\n",
       "      <th>producer</th>\n",
       "      <th>age_restriction</th>\n",
       "      <th>refundable_support</th>\n",
       "      <th>nonrefundable_support</th>\n",
       "      <th>budget</th>\n",
       "      <th>financing_source</th>\n",
       "      <th>ratings</th>\n",
       "      <th>genres</th>\n",
       "      <th>box_office</th>\n",
       "    </tr>\n",
       "  </thead>\n",
       "  <tbody>\n",
       "    <tr>\n",
       "      <th>3186</th>\n",
       "      <td>Детский юмористический киножурнал \"Ералаш. Ну ...</td>\n",
       "      <td>111001216</td>\n",
       "      <td>2016-02-09 12:00:00+00:00</td>\n",
       "      <td>Художественный</td>\n",
       "      <td>ООО \"Продюсерский центр ЕРАЛАШ\"</td>\n",
       "      <td>NaN</td>\n",
       "      <td>Р.Светлов, И.Магитон, А.Арутюнян, Л.Мирский, А...</td>\n",
       "      <td>ООО \"Продюсерский центр ЕРАЛАШ\"</td>\n",
       "      <td>«0+» - для любой зрительской аудитории</td>\n",
       "      <td>NaN</td>\n",
       "      <td>NaN</td>\n",
       "      <td>NaN</td>\n",
       "      <td>NaN</td>\n",
       "      <td>7.20</td>\n",
       "      <td>детский,комедия</td>\n",
       "      <td>194527.00</td>\n",
       "    </tr>\n",
       "    <tr>\n",
       "      <th>4441</th>\n",
       "      <td>Мульт личности. Выпуск 5</td>\n",
       "      <td>214000410</td>\n",
       "      <td>2010-01-25 12:00:00+00:00</td>\n",
       "      <td>Художественный</td>\n",
       "      <td>NaN</td>\n",
       "      <td>NaN</td>\n",
       "      <td>NaN</td>\n",
       "      <td>NaN</td>\n",
       "      <td>«0+» - для любой зрительской аудитории</td>\n",
       "      <td>NaN</td>\n",
       "      <td>NaN</td>\n",
       "      <td>NaN</td>\n",
       "      <td>NaN</td>\n",
       "      <td>4.00</td>\n",
       "      <td>мультфильм,комедия</td>\n",
       "      <td>NaN</td>\n",
       "    </tr>\n",
       "  </tbody>\n",
       "</table>\n",
       "</div>"
      ],
      "text/plain": [
       "                                                  title   puNumber  \\\n",
       "3186  Детский юмористический киножурнал \"Ералаш. Ну ...  111001216   \n",
       "4441                           Мульт личности. Выпуск 5  214000410   \n",
       "\n",
       "               show_start_date            type  \\\n",
       "3186 2016-02-09 12:00:00+00:00  Художественный   \n",
       "4441 2010-01-25 12:00:00+00:00  Художественный   \n",
       "\n",
       "                          film_studio production_country  \\\n",
       "3186  ООО \"Продюсерский центр ЕРАЛАШ\"                NaN   \n",
       "4441                              NaN                NaN   \n",
       "\n",
       "                                               director  \\\n",
       "3186  Р.Светлов, И.Магитон, А.Арутюнян, Л.Мирский, А...   \n",
       "4441                                                NaN   \n",
       "\n",
       "                             producer                         age_restriction  \\\n",
       "3186  ООО \"Продюсерский центр ЕРАЛАШ\"  «0+» - для любой зрительской аудитории   \n",
       "4441                              NaN  «0+» - для любой зрительской аудитории   \n",
       "\n",
       "      refundable_support  nonrefundable_support  budget financing_source  \\\n",
       "3186                 NaN                    NaN     NaN              NaN   \n",
       "4441                 NaN                    NaN     NaN              NaN   \n",
       "\n",
       "      ratings              genres  box_office  \n",
       "3186     7.20     детский,комедия   194527.00  \n",
       "4441     4.00  мультфильм,комедия         NaN  "
      ]
     },
     "execution_count": 19,
     "metadata": {},
     "output_type": "execute_result"
    }
   ],
   "source": [
    "data[data['production_country'].isna() == True]"
   ]
  },
  {
   "cell_type": "code",
   "execution_count": 20,
   "metadata": {},
   "outputs": [],
   "source": [
    "# Заполним пропуски\n",
    "data.loc[data['production_country'].isna() == True, 'production_country'] = 'Россия'"
   ]
  },
  {
   "cell_type": "markdown",
   "metadata": {},
   "source": [
    "#####  Возвратные, не возвратные средства поддержки"
   ]
  },
  {
   "cell_type": "code",
   "execution_count": 21,
   "metadata": {},
   "outputs": [],
   "source": [
    "# Заполним нулями\n",
    "data.loc[data['refundable_support'].isna() == True, 'refundable_support'] = 0\n",
    "data.loc[data['nonrefundable_support'].isna() == True, 'nonrefundable_support'] = 0"
   ]
  },
  {
   "cell_type": "markdown",
   "metadata": {},
   "source": [
    "###### Данные поля - численные. Принимаем, что картины без сумм, не поддерживались государством. Заменили пропуски на 0"
   ]
  },
  {
   "cell_type": "markdown",
   "metadata": {},
   "source": [
    "##### Бюджет"
   ]
  },
  {
   "cell_type": "code",
   "execution_count": 22,
   "metadata": {},
   "outputs": [],
   "source": [
    "# Проверим есть ли значения поддержки больше чем значения бюджета\n",
    "data['budget'] = data['budget'].fillna(0)\n",
    "data.loc[data['refundable_support'] > data['budget'], 'budget'] = data['refundable_support'] + data['nonrefundable_support']"
   ]
  },
  {
   "cell_type": "code",
   "execution_count": 23,
   "metadata": {},
   "outputs": [],
   "source": [
    "data.loc[data['nonrefundable_support'] > data['budget'], 'budget'] = data['refundable_support'] + data['nonrefundable_support']"
   ]
  },
  {
   "cell_type": "code",
   "execution_count": 24,
   "metadata": {},
   "outputs": [
    {
     "data": {
      "text/html": [
       "<div>\n",
       "<style scoped>\n",
       "    .dataframe tbody tr th:only-of-type {\n",
       "        vertical-align: middle;\n",
       "    }\n",
       "\n",
       "    .dataframe tbody tr th {\n",
       "        vertical-align: top;\n",
       "    }\n",
       "\n",
       "    .dataframe thead th {\n",
       "        text-align: right;\n",
       "    }\n",
       "</style>\n",
       "<table border=\"1\" class=\"dataframe\">\n",
       "  <thead>\n",
       "    <tr style=\"text-align: right;\">\n",
       "      <th></th>\n",
       "      <th>title</th>\n",
       "      <th>puNumber</th>\n",
       "      <th>show_start_date</th>\n",
       "      <th>type</th>\n",
       "      <th>film_studio</th>\n",
       "      <th>production_country</th>\n",
       "      <th>director</th>\n",
       "      <th>producer</th>\n",
       "      <th>age_restriction</th>\n",
       "      <th>refundable_support</th>\n",
       "      <th>nonrefundable_support</th>\n",
       "      <th>budget</th>\n",
       "      <th>financing_source</th>\n",
       "      <th>ratings</th>\n",
       "      <th>genres</th>\n",
       "      <th>box_office</th>\n",
       "    </tr>\n",
       "  </thead>\n",
       "  <tbody>\n",
       "  </tbody>\n",
       "</table>\n",
       "</div>"
      ],
      "text/plain": [
       "Empty DataFrame\n",
       "Columns: [title, puNumber, show_start_date, type, film_studio, production_country, director, producer, age_restriction, refundable_support, nonrefundable_support, budget, financing_source, ratings, genres, box_office]\n",
       "Index: []"
      ]
     },
     "execution_count": 24,
     "metadata": {},
     "output_type": "execute_result"
    }
   ],
   "source": [
    "data.loc[data['refundable_support'] > data['budget']]"
   ]
  },
  {
   "cell_type": "code",
   "execution_count": 25,
   "metadata": {
    "scrolled": true
   },
   "outputs": [
    {
     "data": {
      "text/html": [
       "<div>\n",
       "<style scoped>\n",
       "    .dataframe tbody tr th:only-of-type {\n",
       "        vertical-align: middle;\n",
       "    }\n",
       "\n",
       "    .dataframe tbody tr th {\n",
       "        vertical-align: top;\n",
       "    }\n",
       "\n",
       "    .dataframe thead th {\n",
       "        text-align: right;\n",
       "    }\n",
       "</style>\n",
       "<table border=\"1\" class=\"dataframe\">\n",
       "  <thead>\n",
       "    <tr style=\"text-align: right;\">\n",
       "      <th></th>\n",
       "      <th>title</th>\n",
       "      <th>puNumber</th>\n",
       "      <th>show_start_date</th>\n",
       "      <th>type</th>\n",
       "      <th>film_studio</th>\n",
       "      <th>production_country</th>\n",
       "      <th>director</th>\n",
       "      <th>producer</th>\n",
       "      <th>age_restriction</th>\n",
       "      <th>refundable_support</th>\n",
       "      <th>nonrefundable_support</th>\n",
       "      <th>budget</th>\n",
       "      <th>financing_source</th>\n",
       "      <th>ratings</th>\n",
       "      <th>genres</th>\n",
       "      <th>box_office</th>\n",
       "    </tr>\n",
       "  </thead>\n",
       "  <tbody>\n",
       "  </tbody>\n",
       "</table>\n",
       "</div>"
      ],
      "text/plain": [
       "Empty DataFrame\n",
       "Columns: [title, puNumber, show_start_date, type, film_studio, production_country, director, producer, age_restriction, refundable_support, nonrefundable_support, budget, financing_source, ratings, genres, box_office]\n",
       "Index: []"
      ]
     },
     "execution_count": 25,
     "metadata": {},
     "output_type": "execute_result"
    }
   ],
   "source": [
    "data.loc[data['nonrefundable_support'] > data['budget']]"
   ]
  },
  {
   "cell_type": "markdown",
   "metadata": {},
   "source": [
    "###### Заменили значения бюджета суммой поддержек, если сумма поддержки превышает сумму бюджета"
   ]
  },
  {
   "cell_type": "markdown",
   "metadata": {},
   "source": [
    "##### Источники финансирования"
   ]
  },
  {
   "cell_type": "code",
   "execution_count": 26,
   "metadata": {
    "scrolled": true
   },
   "outputs": [
    {
     "data": {
      "text/html": [
       "<div>\n",
       "<style scoped>\n",
       "    .dataframe tbody tr th:only-of-type {\n",
       "        vertical-align: middle;\n",
       "    }\n",
       "\n",
       "    .dataframe tbody tr th {\n",
       "        vertical-align: top;\n",
       "    }\n",
       "\n",
       "    .dataframe thead th {\n",
       "        text-align: right;\n",
       "    }\n",
       "</style>\n",
       "<table border=\"1\" class=\"dataframe\">\n",
       "  <thead>\n",
       "    <tr style=\"text-align: right;\">\n",
       "      <th></th>\n",
       "      <th>title</th>\n",
       "      <th>puNumber</th>\n",
       "      <th>show_start_date</th>\n",
       "      <th>type</th>\n",
       "      <th>film_studio</th>\n",
       "      <th>production_country</th>\n",
       "      <th>director</th>\n",
       "      <th>producer</th>\n",
       "      <th>age_restriction</th>\n",
       "      <th>refundable_support</th>\n",
       "      <th>nonrefundable_support</th>\n",
       "      <th>budget</th>\n",
       "      <th>financing_source</th>\n",
       "      <th>ratings</th>\n",
       "      <th>genres</th>\n",
       "      <th>box_office</th>\n",
       "    </tr>\n",
       "  </thead>\n",
       "  <tbody>\n",
       "  </tbody>\n",
       "</table>\n",
       "</div>"
      ],
      "text/plain": [
       "Empty DataFrame\n",
       "Columns: [title, puNumber, show_start_date, type, film_studio, production_country, director, producer, age_restriction, refundable_support, nonrefundable_support, budget, financing_source, ratings, genres, box_office]\n",
       "Index: []"
      ]
     },
     "execution_count": 26,
     "metadata": {},
     "output_type": "execute_result"
    }
   ],
   "source": [
    "# Проверим есть ли не заполеные источники финансирования при не нулевой поддержке\n",
    "data.query('refundable_support != 0 & financing_source.isna()')"
   ]
  },
  {
   "cell_type": "code",
   "execution_count": 27,
   "metadata": {},
   "outputs": [
    {
     "data": {
      "text/html": [
       "<div>\n",
       "<style scoped>\n",
       "    .dataframe tbody tr th:only-of-type {\n",
       "        vertical-align: middle;\n",
       "    }\n",
       "\n",
       "    .dataframe tbody tr th {\n",
       "        vertical-align: top;\n",
       "    }\n",
       "\n",
       "    .dataframe thead th {\n",
       "        text-align: right;\n",
       "    }\n",
       "</style>\n",
       "<table border=\"1\" class=\"dataframe\">\n",
       "  <thead>\n",
       "    <tr style=\"text-align: right;\">\n",
       "      <th></th>\n",
       "      <th>title</th>\n",
       "      <th>puNumber</th>\n",
       "      <th>show_start_date</th>\n",
       "      <th>type</th>\n",
       "      <th>film_studio</th>\n",
       "      <th>production_country</th>\n",
       "      <th>director</th>\n",
       "      <th>producer</th>\n",
       "      <th>age_restriction</th>\n",
       "      <th>refundable_support</th>\n",
       "      <th>nonrefundable_support</th>\n",
       "      <th>budget</th>\n",
       "      <th>financing_source</th>\n",
       "      <th>ratings</th>\n",
       "      <th>genres</th>\n",
       "      <th>box_office</th>\n",
       "    </tr>\n",
       "  </thead>\n",
       "  <tbody>\n",
       "  </tbody>\n",
       "</table>\n",
       "</div>"
      ],
      "text/plain": [
       "Empty DataFrame\n",
       "Columns: [title, puNumber, show_start_date, type, film_studio, production_country, director, producer, age_restriction, refundable_support, nonrefundable_support, budget, financing_source, ratings, genres, box_office]\n",
       "Index: []"
      ]
     },
     "execution_count": 27,
     "metadata": {},
     "output_type": "execute_result"
    }
   ],
   "source": [
    "data.query('nonrefundable_support != 0 & financing_source.isna()')"
   ]
  },
  {
   "cell_type": "code",
   "execution_count": 28,
   "metadata": {},
   "outputs": [],
   "source": [
    "# заполним остальные пропуски фразой \"без поддержки\"\n",
    "data.loc[data['financing_source'].isna(),'financing_source'] = \"без поддержки\""
   ]
  },
  {
   "cell_type": "markdown",
   "metadata": {},
   "source": [
    "###### Проверили есть ли не заполеные источники финансирования при не нулевой поддержке. Таких не оказалось. Пропуски заполнили фразой \"без поддержки\""
   ]
  },
  {
   "cell_type": "markdown",
   "metadata": {},
   "source": [
    "##### Сборы"
   ]
  },
  {
   "cell_type": "code",
   "execution_count": 29,
   "metadata": {},
   "outputs": [],
   "source": [
    "# пропуски заменим на нули\n",
    "data['box_office'] = data['box_office'].fillna(0)"
   ]
  },
  {
   "cell_type": "code",
   "execution_count": 30,
   "metadata": {},
   "outputs": [
    {
     "data": {
      "text/plain": [
       "title                      0\n",
       "puNumber                   0\n",
       "show_start_date            0\n",
       "type                       0\n",
       "film_studio               18\n",
       "production_country         0\n",
       "director                   9\n",
       "producer                 568\n",
       "age_restriction            0\n",
       "refundable_support         0\n",
       "nonrefundable_support      0\n",
       "budget                     0\n",
       "financing_source           0\n",
       "ratings                  996\n",
       "genres                   976\n",
       "box_office                 0\n",
       "dtype: int64"
      ]
     },
     "execution_count": 30,
     "metadata": {},
     "output_type": "execute_result"
    }
   ],
   "source": [
    "data.isna().sum()"
   ]
  },
  {
   "cell_type": "markdown",
   "metadata": {},
   "source": [
    "######  Остались не заполненными поля директор, продюссер, рэйтинг и жанр. Ввиду сложности заполнения этих полей. оставим их пустыми."
   ]
  },
  {
   "cell_type": "markdown",
   "metadata": {
    "id": "4c6k1t9ygFyQ"
   },
   "source": [
    "#### Изучим дубликаты в датафрейме\n",
    "- Проверьте, есть ли в данных дубликаты. Опишите причины, которые могли повлиять на появление дублей."
   ]
  },
  {
   "cell_type": "code",
   "execution_count": 31,
   "metadata": {
    "id": "aKck8RIdgFyQ"
   },
   "outputs": [],
   "source": [
    "# Удалим пробелы и явные дубликаты\n",
    "data['title'] = data['title'].str.strip()\n",
    "data['type'] = data['type'].str.strip()\n",
    "data['film_studio'] = data['film_studio'].str.strip()\n",
    "data['production_country'] = data['production_country'].str.strip()\n",
    "data['age_restriction'] = data['age_restriction'].str.strip()\n",
    "data['financing_source'] = data['financing_source'].str.strip()\n",
    "data['genres'] = data['genres'].str.strip()\n",
    "data = data.drop_duplicates()"
   ]
  },
  {
   "cell_type": "markdown",
   "metadata": {},
   "source": [
    "##### Работа с неявными дубликатими"
   ]
  },
  {
   "cell_type": "markdown",
   "metadata": {},
   "source": [
    "###### Название фильма"
   ]
  },
  {
   "cell_type": "code",
   "execution_count": 32,
   "metadata": {},
   "outputs": [
    {
     "data": {
      "text/plain": [
       "714"
      ]
     },
     "execution_count": 32,
     "metadata": {},
     "output_type": "execute_result"
    }
   ],
   "source": [
    "# посчитаем количество дубликатов в названии фильмов.\n",
    "len(data) - len(data['title'].unique())"
   ]
  },
  {
   "cell_type": "code",
   "execution_count": 33,
   "metadata": {
    "scrolled": true
   },
   "outputs": [
    {
     "data": {
      "text/plain": [
       "['\"sos\" над тайгой',\n",
       " '\"v\" значит вендетта',\n",
       " '\"артишок\" анимационный альманах авторских фильмов',\n",
       " '\"бежин луг\" сергея эйзенштейна',\n",
       " '\"державная\" размышления 100 лет спустя',\n",
       " '\"зеленое яблоко\" анимационный альманах выпуск № 7',\n",
       " '\"машины песенки\". серия \"опять новый год!\"',\n",
       " '\"море\"',\n",
       " '\"сезон дождей\", \"диета матроскина\", \"шарик хочет телефон\" из анимационного сериала \"простоквашино\"',\n",
       " '\"старый\" новый год',\n",
       " '\"уорнер бразерс пикчерз\" и \"леджендари пикчерз\": тихоокеанский рубеж',\n",
       " '\"фееринки\". серия \"фантик спешит на помощь\"',\n",
       " '\"хороший день\", \"бог из машины/deus ex\", \"голод\", \"психотроника\", \"темная ночь\"',\n",
       " '\"чудовище из простоквашино\", \"ген героя\", \"ненастоящий детектив\", \"мама и тама\", \"как бы не стало зимы\" из анимационного сериала \"простоквашино\"',\n",
       " '#всё_исправить!?!',\n",
       " '#москва-руаян',\n",
       " '#яволонтер истории неравнодушных',\n",
       " '(не)жданный принц',\n",
       " '(не)идеальный мужчина',\n",
       " '... в стиле jazz',\n",
       " '... и я там был',\n",
       " '... имени сергея герасимова',\n",
       " '007 координаты скайфолл',\n",
       " '007: спектр',\n",
       " '1+1',\n",
       " '1+1. нарушая правила',\n",
       " '1+1: голливудская история',\n",
       " '10 000 км.: любовь на расстоянии',\n",
       " '10 000 лет до н.э.',\n",
       " '10 лет спустя',\n",
       " '10 лет спустя.',\n",
       " '10 мгновений судьбы',\n",
       " '100 вещей и ничего лишнего',\n",
       " '100 лет дизайна',\n",
       " '100 лет чувашской автономии',\n",
       " '100 миллионов евро',\n",
       " '1001 рецепт влюбленного кулинара',\n",
       " '11 минут',\n",
       " '11-11-11',\n",
       " '118 секунд, до... и после',\n",
       " '12 лет рабства',\n",
       " '12 мелодий любви',\n",
       " '12 месяцев',\n",
       " '12 месяцев. новая сказка',\n",
       " '120/80',\n",
       " '127 часов',\n",
       " '128 ударов сердца в минуту',\n",
       " '13 грехов',\n",
       " '13 убийц',\n",
       " '13 часов: тайные солдаты бенгази',\n",
       " '13-й район: кирпичные особняки',\n",
       " '13.',\n",
       " '14+',\n",
       " '1408 /по рассказу стивена кинга/',\n",
       " '1812: уланская баллада',\n",
       " '1915',\n",
       " '1937. время смерти (\"судоходное кладбище\", \"трагедия праздника\")',\n",
       " '2 + 2',\n",
       " '2 спальни, 1 ванная',\n",
       " '2+1',\n",
       " '20 000 дней на земле',\n",
       " '2001 год: космическая одиссея',\n",
       " '2012',\n",
       " '2016: конец ночи',\n",
       " '20:17',\n",
       " '21 и больше',\n",
       " '21 и больше (в переводе гоблина)',\n",
       " '21 мост',\n",
       " '22 мили',\n",
       " '22 минуты',\n",
       " '22 пули: бессмертный',\n",
       " '22 ярда',\n",
       " '24 снега',\n",
       " '24 часа на жизнь',\n",
       " '28 панфиловцев',\n",
       " '28 спален',\n",
       " '2:22 (2017)',\n",
       " '2рас: легенда',\n",
       " '3 дня с роми шнайдер',\n",
       " '3 идиота',\n",
       " '3 сердца',\n",
       " '3 счастливых поросёнка',\n",
       " '30 безумных желаний',\n",
       " '30 свиданий',\n",
       " '300 спартанцев /по роману-комиксу фрэнка миллера и линн варли/',\n",
       " '300 спартанцев: расцвет империи /по произведению фрэнка миллера \"ксеркс\"/',\n",
       " '300 спартанцев: расцвет империи /по произведению фрэнка миллера \"ксеркс\"/ (на английском языке)',\n",
       " '300 спартанцев: расцвет империи /по произведению фрэнка миллера \"ксеркс\"/.',\n",
       " '302 бис',\n",
       " '31: праздник смерти',\n",
       " '321-я сибирская, фильм первый \"братья\"',\n",
       " '34 - й скорый',\n",
       " '36, набережная орфевр',\n",
       " '38-я параллель',\n",
       " '4 дня в мае',\n",
       " '4.3.2.1.',\n",
       " '44 котёнка',\n",
       " '45 лет',\n",
       " '47 ронинов',\n",
       " '4:44. последний день на земле',\n",
       " '5 000 раз вокруг света',\n",
       " '5-я волна',\n",
       " '50 весенних дней',\n",
       " '50 первых поцелуев',\n",
       " '500 дней лета',\n",
       " '6 дней',\n",
       " '695',\n",
       " '7 главных желаний',\n",
       " '7 дней и ночей с мэрилин',\n",
       " '7 социопатов',\n",
       " '7 ящиков',\n",
       " '7-ой гном 3d',\n",
       " '72 метра (3 серии)',\n",
       " '72 часа',\n",
       " '8 1/2 (восемь с половиной)',\n",
       " '8 лучших свиданий',\n",
       " '8 новых свиданий',\n",
       " '8 первых свиданий',\n",
       " '8 подруг оушена',\n",
       " '9 месяцев строгого режима',\n",
       " '9/11',\n",
       " '901 километр',\n",
       " '999',\n",
       " 'all inclusive или все включено',\n",
       " 'angry birds 2 в кино',\n",
       " 'angry birds в кино',\n",
       " 'aroused: откровения лучших порномоделей',\n",
       " 'beef: русский хип-хоп',\n",
       " 'best erotic shorts. альманах',\n",
       " 'best of shnit 2015. лучшее шнит 2015',\n",
       " 'best of shnit 2017',\n",
       " 'bjork. biophilia live',\n",
       " 'blood-c: последний темный',\n",
       " 'bon jovi. the circle tour',\n",
       " 'bts: открой свою душу. фильм',\n",
       " 'cirque du soleil: сказочный мир в 3d',\n",
       " 'citizenfour. правда сноудена',\n",
       " 'coldplay: a head full of dreams',\n",
       " 'ded_005',\n",
       " 'def leppard. viva hysteria',\n",
       " 'die erste liebe (первая любовь)',\n",
       " 'dream theatre. live at luna park',\n",
       " 'duran duran. unstaged',\n",
       " 'elton john. the million dollar piano',\n",
       " 'everybody in the place: рейв как забастовка',\n",
       " 'fair play (честная игра)',\n",
       " 'ford против ferrari',\n",
       " 'g (джи)',\n",
       " 'g.i.joe: бросок кобры 2',\n",
       " 'generation п',\n",
       " 'george michael: live in london',\n",
       " 'gimme danger. история игги и the stooges',\n",
       " \"guns n'roses. 2012 tour\",\n",
       " 'italian best shorts 2: любовь в вечном городе (лучшие итальянские короткометражки - 2: любовь в вечном городе',\n",
       " 'italian best shorts 3: итальянские фантазии (лучшие итальянские короткометражки 3: итальянские фантазии)',\n",
       " 'kinematic shorts: lucly seven. программа короткометражного кино',\n",
       " 'kinematic shorts: spring. shorts. fun. программа короткометражного кино',\n",
       " 'kingsman: золотое кольцо',\n",
       " 'kingsman: секретная служба',\n",
       " 'kiss rocks vegas',\n",
       " 'led zeppelin. celebration day',\n",
       " 'liaf-2014. программа лондонского международного анимационного фестиваля',\n",
       " 'lil peep: всё для всех',\n",
       " 'magnetisme animal/магнетизм',\n",
       " 'mamma mia! 2',\n",
       " 'metallica: сквозь невозможное',\n",
       " 'muse. live at rome',\n",
       " 'my little pony в кино',\n",
       " 'mylene farmer. timeless 2013 the movie',\n",
       " 'need for speed: жажда скорости',\n",
       " 'no comment (нет комментариев)',\n",
       " 'one direction: where we are',\n",
       " 'one direction: это мы',\n",
       " 'oscar shorts - 2014. фильмы',\n",
       " 'oscar shorts - анимация',\n",
       " 'oscar shorts - фильмы',\n",
       " 'p.s. я люблю тебя /по одноименному произведению сесилии ахерн/',\n",
       " 'paul mccartney. rockshow',\n",
       " 'prada и чувства',\n",
       " 'pro кино',\n",
       " 'pro любовь',\n",
       " 'queen. live in bohemia',\n",
       " 'queen. live in budapest 1986',\n",
       " 'queen. rock montreal',\n",
       " 'salsa belly dance - часть 1 и 2',\n",
       " 'sex doll / влюбленные одиночки',\n",
       " 'shnit shorts 2019. анимационная программа',\n",
       " 'shnit shorts 2019. игровое кино',\n",
       " 'slove. прямо в сердце',\n",
       " 'sos, дед мороз или всё сбудется!',\n",
       " 'stars in shorts',\n",
       " 'starперцы',\n",
       " 'superалиби',\n",
       " 'superзять',\n",
       " 'superнянь',\n",
       " 'superнянь 2',\n",
       " \"the chemical brothers - don't think (не думай)\",\n",
       " \"the doors - live at the bowl'68. концерт\",\n",
       " \"the doors. when you' re strange\",\n",
       " \"the prodigy - world's on fire (продиджи. миры в огне). фильм-концерт\",\n",
       " 'tomb raider: лара крофт',\n",
       " 'turbo (турбо)',\n",
       " 'u2 3d.',\n",
       " 'uglydolls. куклы с характером',\n",
       " 'update/delete (апдейт/делит)',\n",
       " 'va-банк',\n",
       " 'weekend  (уик-энд)',\n",
       " 'weekend  (уик-энд).',\n",
       " 'whisky с молоком',\n",
       " 'winx club 3d: волшебное приключение',\n",
       " 'winx club: спасаем животных!',\n",
       " 'winx club: спасаем океан',\n",
       " 'wtf! какого черта?',\n",
       " 'yesterday (вчера)',\n",
       " 'zолушка',\n",
       " 'zомбилэнд: контрольный выстрел',\n",
       " 'а был ли каротин?',\n",
       " 'а вот и она',\n",
       " 'а если это любовь?',\n",
       " 'а зори здесь тихие..._',\n",
       " 'а мама лучше! (рабочее название \"вся прелесть любви\")',\n",
       " 'а.адан. жизель. хореография матса эка',\n",
       " 'а.к.а',\n",
       " 'а.с.пушкин \"сказка о царе салтане\"',\n",
       " 'аб ово',\n",
       " 'абатуар. лабиринт страха',\n",
       " 'аббатство даунтон',\n",
       " 'абсолютная власть',\n",
       " 'аванпост',\n",
       " 'авантюристы.',\n",
       " 'аварийное состояние',\n",
       " 'авария - дочь мента',\n",
       " 'аватар. специальная версия',\n",
       " 'аватар_',\n",
       " 'август /по пьесе трэйси леттс/',\n",
       " 'август. восьмого',\n",
       " 'автобан',\n",
       " 'автобиография лжеца 3d',\n",
       " 'автомобиль, скрипка и собака клякса',\n",
       " 'автостопом по галактике',\n",
       " 'агасфер',\n",
       " 'агент 044: операция гегард',\n",
       " 'агент 117: миссия в рио',\n",
       " 'агент джонни инглиш 2: перезагрузка',\n",
       " 'агент джонни инглиш 3.0',\n",
       " 'агент джонни инглиш: перезагрузка',\n",
       " 'агент мамбо',\n",
       " 'агент под прикрытием',\n",
       " 'агент эмерсон',\n",
       " 'агенты а.н.к.л',\n",
       " 'агитатор',\n",
       " 'агора',\n",
       " 'агорафобия',\n",
       " 'адвокат дьявола /по роману эндрю нейдермана/',\n",
       " 'аджами',\n",
       " 'адмирал ушаков',\n",
       " 'адмиралъ',\n",
       " 'адольф адан. жизель /по мотивам легенды, пересказанной генрихом гейне/. постановка royal opera house',\n",
       " 'адольф адан. жизель в 3d. постановка мариинского театра. хореография жана коралли, жюля перро, мариуса петипа',\n",
       " 'адский бункер: черное солнце',\n",
       " 'адъютант его превосходительства',\n",
       " 'адъютант его превосходительства.',\n",
       " 'азартные игры',\n",
       " 'азбука смерти',\n",
       " 'азор (azor)',\n",
       " 'аисты',\n",
       " 'ай вэйвэй: никогда не извиняйся',\n",
       " 'айболит - 66',\n",
       " 'айка',\n",
       " 'айрис',\n",
       " 'айсылу. фильм',\n",
       " 'академия вампиров',\n",
       " 'аквамен',\n",
       " 'акварель',\n",
       " 'аквариум.',\n",
       " 'акрам хан: родом из карри хауса',\n",
       " 'аксель',\n",
       " 'акт убийства',\n",
       " 'акулы',\n",
       " 'акулы 3d',\n",
       " 'акция',\n",
       " 'аладдин',\n",
       " 'албазинские скаски',\n",
       " 'алекс и эмма',\n",
       " 'александр буйнов \"юбилейный концерт в кремле. live.\"',\n",
       " 'александр и ужасный, кошмарный, нехороший, очень плохой день',\n",
       " 'александр калягин и et cetera',\n",
       " 'александр невский (восстановленная версия)',\n",
       " 'алешкина любовь',\n",
       " 'али, рули!',\n",
       " 'алиби',\n",
       " 'алиса в зазеркалье (2016)',\n",
       " 'алиса в стране чудес /по книгам льюиса кэрролла \"алиса в стране чудес\" и \"алиса в зазеркалье\"/',\n",
       " 'алиса в стране чудес /по одноименному произведению льюиса кэрола/',\n",
       " 'алиса знает, что делать! зеленая месть',\n",
       " 'алиса знает, что делать! серии \"подмена растронаса\", \"старики-разбойники\"',\n",
       " 'алиса знает, что делать! серии \"энергия прошлого\", \"устаревшие модели\", \"долой креатив!\"',\n",
       " 'алиса знает, что делать! серия \"гуманитарная помощь\"',\n",
       " 'алиса знает, что делать! серия \"зеленая месть\"',\n",
       " 'алита: боевой ангел',\n",
       " 'алла пугачёва. тот самый концерт',\n",
       " 'алмазы для марии',\n",
       " 'алоис небель и его призраки',\n",
       " 'алые паруса',\n",
       " 'альберт гогуадзе. пэри-пэртан',\n",
       " 'альдабра: путешествие по таинственному острову',\n",
       " 'альманах документальных фильмов \"вокзалы россии: история, любовь и великие тайны…\" фильм первый \"вокзалы россии связь времен\"',\n",
       " 'альфа',\n",
       " 'альфа и омега',\n",
       " 'альфаго',\n",
       " 'амазония: инструкция по выживанию',\n",
       " 'амаль',\n",
       " 'амальгама',\n",
       " 'амбивалентность',\n",
       " 'амели',\n",
       " 'амелия',\n",
       " 'америка',\n",
       " 'американец (по роману мартина бута \"очень скрытный джентльмен\")',\n",
       " 'американская дочь',\n",
       " 'американская пастораль',\n",
       " 'американский грайдхаус',\n",
       " 'американский пирог: все в сборе',\n",
       " 'амилькаре понкьелли. джоконда /по пьесе виктора гюго \"анджело, тиран падуанский\"/. постановка парижской национальной оперы',\n",
       " 'амун',\n",
       " 'амундсен',\n",
       " 'анаболики. реальная история',\n",
       " 'анализируй то!',\n",
       " 'анализируй это!',\n",
       " 'ананас',\n",
       " 'анархисты',\n",
       " 'анархия в жирмунае',\n",
       " 'анатолий крупнов. он был',\n",
       " 'анатомия измены',\n",
       " 'анатомия любви /по произведению скотта спенсера/',\n",
       " 'ангел',\n",
       " 'ангел _',\n",
       " 'ангел мой',\n",
       " 'ангел-хранитель.',\n",
       " 'ангел-хранитель._',\n",
       " 'ангелы революции',\n",
       " 'ангелы чарли',\n",
       " 'ангельское личико',\n",
       " 'андердог',\n",
       " 'андре рьё. концерт в маастрихте',\n",
       " 'андреа бочелли: любовь в портофино',\n",
       " 'андрей рублев.',\n",
       " 'андроид',\n",
       " 'анжелика, маркиза ангелов',\n",
       " 'аниматор',\n",
       " 'анимационный альманах \"ладушки\" (ф. \"дрип-дроп\")',\n",
       " 'анимационный альманах \"ладушки\" (ф. \"ладушки\")',\n",
       " 'анимационный альманах \"ладушки\" (ф. \"про бабу, которая хотела улететь\")',\n",
       " 'анимационный сериал \"котяткины истории-2\"',\n",
       " 'анимационный сериал \"лунтик и его друзья\" (490-502 серии)',\n",
       " 'анимационный фильм \"динозавр рики\", серия \"пылесос\"',\n",
       " 'анимационный фильм \"динозавр рики\", серия \"ремонт\"',\n",
       " 'анимационный фильм \"динозавр рики\", серия \"спорт\"',\n",
       " 'анимационный фильм \"динозавр рики\", серия \"темные силы\"',\n",
       " 'анимационный фильм \"малышарики 3\", серия \"брызгалки\"',\n",
       " 'анимационный фильм \"малышарики 3\", серия \"дом для рыбки\"',\n",
       " 'анимационный фильм \"малышарики 3\", серия \"нужная вещь\"',\n",
       " 'анимационный фильм \"малышарики 3\", серия \"подарок\"',\n",
       " 'анимационный фильм \"малышарики 3\", серия \"слон\"',\n",
       " 'анимационный фильм \"пинкод. гуманитарные технологии 3\", серия \"собратья по разуму. часть 3\"',\n",
       " 'анимационный фильм \"пинкод. гуманитарные технологии\", серии \"бортовой дневник 4\", \"игры с памятью\"',\n",
       " 'анимационный фильм \"сказки полуночи\"',\n",
       " 'анимационный фильм \"смешарики 7\", серия \"красная книга\"',\n",
       " 'анимационный фильм \"смешарики 7\", серия \"слишком фигурное катание\"',\n",
       " 'анимационный фильм \"смешарики. начало\"',\n",
       " 'анимационный фильм \"смешарики. спорт 2\", серия \"эксклюзивное интервью/таланты и поклонница\"',\n",
       " 'анимированная жизнь',\n",
       " 'анина: история самого необычного наказания /по произведению сергио лопеса суареса/',\n",
       " 'анкор, ещё анкор!',\n",
       " 'анна',\n",
       " 'анна каренина /по одноименному роману л.н.толстого/.',\n",
       " 'анна каренина. интимный дневник',\n",
       " 'анна каренина. история вронского',\n",
       " 'анна каренина. мюзикл',\n",
       " 'анна павлова',\n",
       " 'аннушка',\n",
       " 'аномалия',\n",
       " 'аномия',\n",
       " 'анон',\n",
       " 'аноним',\n",
       " 'анонимные романтики',\n",
       " 'антиганг',\n",
       " 'антикиллер - 2.',\n",
       " 'антон чехов',\n",
       " 'антон чехов и исаак левитан: двойной портрет в интерьере эпохи',\n",
       " 'антропоид',\n",
       " 'антураж',\n",
       " 'апартаменты 1303 3d',\n",
       " 'апгрейд',\n",
       " 'апокалипсис сегодня. расширенная версия',\n",
       " 'аполлон 18',\n",
       " 'аполлон-11',\n",
       " 'апостасия',\n",
       " 'апостол камчатки',\n",
       " 'апофеоз',\n",
       " 'аптекарь.',\n",
       " 'арахисовый сокол',\n",
       " 'арбузные корки',\n",
       " 'арвентур. тайна морского пейзажа',\n",
       " 'аргентина',\n",
       " 'арена смелых',\n",
       " 'арестант no name',\n",
       " 'арестуйте меня',\n",
       " 'ариран',\n",
       " 'арифметика свободы',\n",
       " 'ариэтти из страны лилипутов',\n",
       " 'арктика 3d',\n",
       " 'арло: говорящий поросенок',\n",
       " 'армагеддец',\n",
       " 'армен и я',\n",
       " 'армия машин',\n",
       " 'арриго бойто. мефистофель /по произведению гёте/. постановка оперного театра сан-франциско',\n",
       " 'артемизия',\n",
       " 'артист.',\n",
       " 'артур и война двух миров',\n",
       " 'артур сеймур салливан. микадо. постановка sydney opera house',\n",
       " 'артур чилингаров. монологи',\n",
       " 'аршалуйс',\n",
       " 'асса',\n",
       " 'астерикс и обеликс в британии 3d',\n",
       " 'астерикс и тайное зелье',\n",
       " 'астерикс: земля богов',\n",
       " 'астрал',\n",
       " 'астрал 3',\n",
       " 'астрал 4: последний ключ',\n",
       " 'астрал на улице арлетт',\n",
       " 'астрал. глава 2',\n",
       " 'астрал. глава вторая',\n",
       " 'астрал: новое измерение',\n",
       " 'ася_',\n",
       " 'атака на перл-харбор',\n",
       " 'атака пауков',\n",
       " 'атака титанов. фильм второй: конец света',\n",
       " 'атака титанов. фильм первый. жестокий мир',\n",
       " 'атаман_',\n",
       " 'атлантида',\n",
       " 'атлантида: затерянный мир',\n",
       " 'атлантика',\n",
       " 'атомный иван',\n",
       " 'аттестат зрелости',\n",
       " 'аустерлиц (2016)',\n",
       " 'аутло/outlaw',\n",
       " 'афганский алфавит',\n",
       " 'афера доктора нока',\n",
       " 'афера по-американски',\n",
       " 'афера по-английски',\n",
       " 'афера под прикрытием',\n",
       " 'аферисты поневоле',\n",
       " 'афтершок',\n",
       " 'аэлита, не приставай к мужчинам',\n",
       " 'аэронавты',\n",
       " 'аэросмит. рок для восходящего солнца',\n",
       " 'аэротачки',\n",
       " 'баария',\n",
       " 'баба яга',\n",
       " 'бабадук',\n",
       " 'бабай',\n",
       " 'бабич',\n",
       " 'бабло',\n",
       " 'бабоньки',\n",
       " 'бабочки',\n",
       " 'бабочки (2016)',\n",
       " 'бабушка легкого поведения',\n",
       " 'бабушка лёгкого поведения 2',\n",
       " 'бабье царство_',\n",
       " 'баги',\n",
       " 'багровая мята',\n",
       " 'багровый пик',\n",
       " 'байбаймэн',\n",
       " 'байгал',\n",
       " 'байкал - сердце мира 3d',\n",
       " 'байкал. магия воды',\n",
       " 'байкеры-3',\n",
       " 'байконур. падение \"сатаны\"',\n",
       " 'бал (2016)',\n",
       " 'балбесы /по книге \"вселенная баллинга и баха\"/',\n",
       " 'балерина',\n",
       " 'балет сегодня',\n",
       " 'балканский рубеж',\n",
       " 'балкон европы',\n",
       " 'баллада о доблестном рыцаре айвенго',\n",
       " 'баллистика: экс против сивер.',\n",
       " 'бальные танцы',\n",
       " 'бамблби',\n",
       " 'банда котиков',\n",
       " 'банда ольсена: рок-звезды зажигают',\n",
       " 'бандитки.',\n",
       " 'бандиты',\n",
       " 'банды индостана',\n",
       " 'банкомат',\n",
       " 'банщик президента, или пасечники вселенной',\n",
       " 'бар \"гадкий койот\"',\n",
       " 'барашек шон.',\n",
       " 'барбара.',\n",
       " 'бармен.',\n",
       " 'бархатный сезон',\n",
       " 'баския: взрыв реальности',\n",
       " 'басни и.а.крылова',\n",
       " 'бассейн',\n",
       " 'батальонъ',\n",
       " 'бахубали: рождение легенды',\n",
       " 'бачата на 33-м километре',\n",
       " 'бег иноходца',\n",
       " 'беги без оглядки',\n",
       " 'беги.',\n",
       " 'беглец (2015)',\n",
       " 'беглецы',\n",
       " 'беглецы -',\n",
       " 'бегство рогатых викингов или пять дней из джизни джонни воробьёва',\n",
       " 'бегущая от реальности',\n",
       " 'бегущий в лабиринте /по произведению джеймса дашнера/',\n",
       " 'бегущий в лабиринте: испытание огнем /по произведению джеймса дашнера/',\n",
       " 'бегущий в лабиринте: лекарство от смерти',\n",
       " 'бегущий по лезвию 2049',\n",
       " 'бедная богатая девочка',\n",
       " 'бедуин',\n",
       " 'без вины виноватые',\n",
       " 'без границ',\n",
       " 'без грома пушек',\n",
       " 'без истерики!',\n",
       " 'без компромиссов_',\n",
       " 'без меня',\n",
       " 'без мужчин',\n",
       " 'без права на ошибку .',\n",
       " 'без свидетелей',\n",
       " 'без солнца',\n",
       " 'без срока давности.',\n",
       " 'без тормозов (2016)',\n",
       " 'без ума от тиффани',\n",
       " 'безбашенные',\n",
       " 'безбрачная неделя',\n",
       " 'безопасность не гарантируется',\n",
       " 'безответная любовь_',\n",
       " 'безотцовщина',\n",
       " 'безумная свадьба',\n",
       " 'безумное свидание',\n",
       " 'безумные преподы',\n",
       " 'безумные соседи',\n",
       " 'безумный макс 2: воин дороги',\n",
       " 'безумный макс: дорога ярости',\n",
       " 'безумцы',\n",
       " 'безупречная жизнь',\n",
       " 'белая белая ночь',\n",
       " 'белая графиня',\n",
       " 'белая лента',\n",
       " 'белая мама/white мама',\n",
       " 'белая мгла /по комиксу грега рукка и стива либера/',\n",
       " 'белка и стрелка. звездные собаки',\n",
       " 'белка и стрелка. лунные приключения',\n",
       " 'белка и стрелка. тайны космоса (1-5 серии)',\n",
       " 'белки в деле',\n",
       " 'белль и себастьян',\n",
       " 'белль и себастьян: друзья навек',\n",
       " 'белль и себастьян: приключения продолжаются',\n",
       " 'белое вино из баббудойу',\n",
       " 'белоснежка (snow white; blancanieves)',\n",
       " 'белоснежка и охотник',\n",
       " 'белоснежка и охотник 2',\n",
       " 'белоснежка. сказка для взрослых',\n",
       " 'белоснежка: месть гномов',\n",
       " 'белые ночи (2017)',\n",
       " 'белые ночи почтальона алексея тряпицына',\n",
       " 'белые ночи.',\n",
       " 'белый бог',\n",
       " 'белый лебедь',\n",
       " 'белый параллелепипед',\n",
       " 'белый парень рик',\n",
       " 'белый песок',\n",
       " 'белый тигр',\n",
       " 'белый ягель',\n",
       " 'бельканто',\n",
       " 'бемоль',\n",
       " 'бен-гур (2016)',\n",
       " 'бенджамин бриттен. питер граймс /по поэме джорджа крэбба \"городок\"/. постановка english national opera',\n",
       " 'беовульф',\n",
       " 'бергдорф гудман: больше века на вершине модного олимпа',\n",
       " 'бергман',\n",
       " 'берег.',\n",
       " 'берегись автомобиля (цветная версия)',\n",
       " 'берегите мужчин!',\n",
       " 'березовский - это кто?',\n",
       " 'беременный',\n",
       " 'берлин, я люблю тебя',\n",
       " 'берлинале шортс: чудо; майк; темная комната; три камня для жана жене; титьки; любовные игры; оптический звук.',\n",
       " 'берлинский синдром',\n",
       " 'берлинский фейсконтрольщик',\n",
       " 'бернини',\n",
       " 'берсерк: золотой век. фильм i: бехерит властителя',\n",
       " 'берсерк: золотой век. фильм ii: битва за долдрей',\n",
       " 'берсерк: золотой век. фильм iii: сошествие',\n",
       " 'берцы',\n",
       " 'беспредел (outrage; autoreiji)',\n",
       " 'беспредел _',\n",
       " 'бесславные придурки',\n",
       " 'бесславные ублюдки',\n",
       " 'бессмертный гарнизон',\n",
       " 'бессонная ночь',\n",
       " 'бестолковая защита',\n",
       " 'бесшабашное ограбление',\n",
       " 'бесы.',\n",
       " 'бешеное золото',\n",
       " 'бешеные деньги.',\n",
       " 'бибинур',\n",
       " 'библиотекарь.',\n",
       " 'бивень',\n",
       " 'бизнесмены',\n",
       " 'билет на вегас',\n",
       " 'бирмингемский орнамент',\n",
       " 'бирмингемский орнамент. часть 2',\n",
       " 'битва',\n",
       " 'битва в пути',\n",
       " 'битва за землю',\n",
       " 'битва за москву',\n",
       " 'битва за севастополь',\n",
       " 'битва полов',\n",
       " 'битва с экстрасенсами',\n",
       " 'битва титанов.',\n",
       " 'битва у красной скалы',\n",
       " 'бладрейн',\n",
       " 'бладфест',\n",
       " 'блеф .',\n",
       " 'ближе, чем кажется',\n",
       " 'ближе, чем кажется (2017)',\n",
       " 'ближе, чем кажется.',\n",
       " 'близкий враг',\n",
       " 'близнецы',\n",
       " 'близнецы-убийцы',\n",
       " 'близнецы_',\n",
       " 'блокада. день 901-й',\n",
       " 'блокада. искупление',\n",
       " 'блокбастер',\n",
       " 'блокбастер 3d',\n",
       " 'блондинка в эфире',\n",
       " 'блондинка и блондинка',\n",
       " 'блондинка и разбойницы',\n",
       " 'блуждание ягнят',\n",
       " 'блэйд - 2',\n",
       " 'блэйд. троица',\n",
       " 'блэйд: троица',\n",
       " 'блэки летит на луну',\n",
       " 'боб марли',\n",
       " 'бобби фишер против всего мира',\n",
       " 'бобр добр (серии: \"соседи\", \"пришельцы\", \"поход\", \"батут\", \"зависть погубила\", \"горки\", \"симулянт\", \"вой в лесу\", \"на испуг\", \"подмена\", \"ку-ку\", \"помощники\", \"клад\")',\n",
       " 'бобро поржаловать!',\n",
       " 'бобёр',\n",
       " 'богатырша',\n",
       " 'богатырята',\n",
       " 'богемская рапсодия',\n",
       " 'боги египта',\n",
       " 'богиня',\n",
       " 'боевая кукла',\n",
       " 'боевой конь',\n",
       " 'боец',\n",
       " 'боже мой!',\n",
       " 'боже, благослови америку',\n",
       " 'боже, храни мой каблук',\n",
       " 'божественная любовь',\n",
       " 'бои без правил',\n",
       " 'бой',\n",
       " 'бой без правил',\n",
       " 'бой после победы',\n",
       " 'бой с тенью-3: последний раунд',\n",
       " 'бойся своих желаний',\n",
       " 'бойфренд из будущего',\n",
       " 'бойцовая воля',\n",
       " 'бойцовский клуб',\n",
       " 'болевой порог',\n",
       " 'болеро17',\n",
       " 'болливуд: величайшая история любви',\n",
       " 'болотные солдаты',\n",
       " 'болт и блип спешат на помощь',\n",
       " 'боль и слава',\n",
       " 'большая афера',\n",
       " 'большая афера в маленьком городе',\n",
       " 'большая вечеринка',\n",
       " 'большая игра',\n",
       " 'большая игра / big game',\n",
       " 'большая поэзия',\n",
       " 'большая ржака',\n",
       " 'большая свадьба',\n",
       " 'больше - меньше',\n",
       " 'больше чем секс',\n",
       " 'больше, чем друг',\n",
       " 'больше, чем любовь \"любимая женщина режиссера тодоровского\"',\n",
       " 'больше, чем любовь.',\n",
       " 'больше, чем любовь_',\n",
       " 'большие \"мамочки\": сын как отец',\n",
       " 'большие глаза',\n",
       " 'большие надежды /по роману чарльза диккенса/',\n",
       " 'большое путешествие',\n",
       " 'большое путешествие вглубь океанов 3d: возвращение',\n",
       " 'большой',\n",
       " 'большой аттракцион',\n",
       " 'большой белый танец',\n",
       " 'большой вавилон',\n",
       " 'большой всплеск',\n",
       " 'большой злой лис и другие сказки',\n",
       " 'большой и добрый великан',\n",
       " 'большой и маленький',\n",
       " 'большой кошачий побег',\n",
       " 'большой лебовски.',\n",
       " 'большой собачий побег',\n",
       " 'большой солдат',\n",
       " 'большой фитиль',\n",
       " 'бомж с дробовиком',\n",
       " 'бомж.',\n",
       " 'борг\\\\макинрой',\n",
       " 'борец и клоун',\n",
       " 'борис годунов',\n",
       " 'борцу не больно',\n",
       " 'босиком по городу',\n",
       " 'босиком по мостовой',\n",
       " 'босс-молокосос',\n",
       " 'брак за решеткой',\n",
       " 'брандо без купюр',\n",
       " 'братва из джунглей',\n",
       " 'братец медвежонок /по одноименному произведению лорны кемерун/',\n",
       " 'братство',\n",
       " 'братц',\n",
       " 'братья      .',\n",
       " 'братья гримм',\n",
       " 'братья из гримсби',\n",
       " 'братья карамазовы',\n",
       " 'братья медведи: тайна трёх миров',\n",
       " 'братья систерс',\n",
       " 'братья ч',\n",
       " 'бременские разбойники',\n",
       " 'брестская крепость.',\n",
       " 'бригада. наследник',\n",
       " 'бриджит джонс 3',\n",
       " 'брови',\n",
       " 'бросок кобры',\n",
       " 'бруклин',\n",
       " 'брюс ли: рождение дракона',\n",
       " 'бугай',\n",
       " 'буги-вуги.',\n",
       " 'буду помнить',\n",
       " 'будущее.',\n",
       " 'будь что будет',\n",
       " 'будьте моим мужем',\n",
       " 'букашки 2',\n",
       " 'букашки 3d',\n",
       " 'букашки. приключение в долине муравьев',\n",
       " 'буквоежка',\n",
       " 'букшоп',\n",
       " 'бульвар страха',\n",
       " 'бумажные города /по произведению джона грина/',\n",
       " 'бункер-42. капсула времени',\n",
       " 'бункер_',\n",
       " 'бунт ушастых',\n",
       " 'бунтари без стыда',\n",
       " 'бунюэль в лабиринте черепах',\n",
       " 'бурлеск',\n",
       " 'буря /по одноименной пьесе у.шекспира/',\n",
       " 'бык',\n",
       " 'было. есть. будет',\n",
       " 'быстрее, чем кролики',\n",
       " 'быть астрид линдгрен',\n",
       " 'быть или не быть_',\n",
       " 'быть харви вайнштейном',\n",
       " 'бьютифул',\n",
       " 'бэйбэрикээн',\n",
       " 'бэст сай-фай (best sci-fi)',\n",
       " 'бэтмен против супермена: на заре справедливости',\n",
       " 'бэтмэн и робин /по мотивам комиксов боба кейна/',\n",
       " 'бэтмэн: начало',\n",
       " 'бёрдмэн',\n",
       " 'в активном поиске (2016)',\n",
       " 'в белом плену',\n",
       " 'в гостях у элис',\n",
       " 'в двух шагах от славы.',\n",
       " 'в доме',\n",
       " 'в доме отца',\n",
       " 'в другой стране',\n",
       " 'в квадрате 45',\n",
       " 'в кейптаунском порту...',\n",
       " 'в краю крови и меда',\n",
       " 'в маленьком городе...',\n",
       " 'в метре друг от друга',\n",
       " 'в небо... за мечтой',\n",
       " 'в объятиях лжи',\n",
       " 'в одной упряжке.',\n",
       " 'в одну сторону (2006)',\n",
       " 'в ожидании молнии',\n",
       " 'в ожидании моря',\n",
       " 'в ожидании шарлотты корде',\n",
       " 'в окружении',\n",
       " 'в первый раз.',\n",
       " 'в плену города грёз',\n",
       " 'в погоне за ветром',\n",
       " 'в погоне за счастьем .',\n",
       " 'в поисках дори.     песочник',\n",
       " 'в поисках евы',\n",
       " 'в поисках истины',\n",
       " 'в поисках йети',\n",
       " 'в поисках немо.',\n",
       " 'в поисках немо_',\n",
       " 'в поисках света',\n",
       " 'в постели с викторией',\n",
       " 'в ритме сердца',\n",
       " 'в россии идет снег',\n",
       " 'в сердце моря',\n",
       " 'в следующий раз я буду стрелять в сердце /по роману ивана стефановича \"убийца вне подозрений\"/',\n",
       " 'в сочи всегда солнечно',\n",
       " 'в спорте только девушки',\n",
       " 'в стране без женщин',\n",
       " 'в субботу',\n",
       " 'в тихом омуте',\n",
       " 'в тумане /по одноименной повести василя быкова/',\n",
       " 'в фокусе',\n",
       " 'в центре внимания',\n",
       " 'в четверг и больше никогда',\n",
       " 'в шесть часов вечера после войны',\n",
       " 'вавилон',\n",
       " 'вайолет эвергарден: вечность и призрак пера',\n",
       " 'вакансия',\n",
       " 'вакантна жизнь шеф-повара',\n",
       " 'валентин и валентина',\n",
       " 'валентина',\n",
       " 'валериан и город тысячи планет',\n",
       " 'вальгалла: рагнарек',\n",
       " 'вальс для моники',\n",
       " 'вам и не снилось',\n",
       " 'вампирский засос',\n",
       " 'вампирша против франкенштейнш',\n",
       " 'ван гог. на пороге вечности',\n",
       " 'ван гог. с любовью, винсент',\n",
       " 'ван гог: золото и лазурь',\n",
       " 'ван гоги',\n",
       " 'ванька тепляшин',\n",
       " 'варда глазами аньес',\n",
       " 'варенье из сакуры.',\n",
       " 'варкрафт',\n",
       " 'вас ожидает гражданка никанорова',\n",
       " 'василиса',\n",
       " 'васса',\n",
       " 'вася',\n",
       " 'ватерлоо',\n",
       " 'ватиканские записи',\n",
       " 'ваш репетитор',\n",
       " 'ваша честь',\n",
       " 'вверх',\n",
       " 'вдали от обезумевшей толпы /по одноименному произведению томаса харди/',\n",
       " 'вдвоем на льдине.',\n",
       " 'вдовы',\n",
       " 'вдохновенный свидетель истины',\n",
       " 'вдребезги_',\n",
       " 'ведьма',\n",
       " 'ведьма .',\n",
       " 'ведьма войны',\n",
       " 'ведьма из блэр: новая глава',\n",
       " 'ведьмин ключ',\n",
       " 'ведьмина гора',\n",
       " 'ведьмы',\n",
       " 'ведьмы из сугаррамурди',\n",
       " 'везуха! (11)',\n",
       " 'везучая.',\n",
       " 'везучий случай',\n",
       " 'век адалин',\n",
       " 'великая красота',\n",
       " 'великая мистификация хип-хопа',\n",
       " 'великая стена',\n",
       " 'великие битвы россии',\n",
       " 'великий воин албании скандербег',\n",
       " 'великий гэтсби /по одноименному роману фрэнсиса скотта фицджеральда/',\n",
       " 'великий диктатор',\n",
       " 'великий мастер',\n",
       " 'великий северный путь',\n",
       " 'великий уравнитель',\n",
       " 'великий уравнитель 2',\n",
       " 'великолепная',\n",
       " 'великолепная афера /по роману эрика гарсии/',\n",
       " 'великолепная семерка (2016)',\n",
       " 'величайший кутюрье',\n",
       " 'величайший шоумен',\n",
       " 'велкам хом',\n",
       " 'велотачки',\n",
       " 'вельзевул',\n",
       " 'венера в мехах',\n",
       " 'венецианские львы',\n",
       " 'венецианский детектив',\n",
       " 'венеция зовет',\n",
       " 'веном',\n",
       " 'вера (2016)',\n",
       " 'верка-фуэте',\n",
       " 'верность',\n",
       " 'вернуть бена',\n",
       " 'вероника решает умереть',\n",
       " 'вероника решает умереть (2009)',\n",
       " 'вертолёты',\n",
       " 'вес воды',\n",
       " 'веселые каникулы',\n",
       " 'весенние надежды',\n",
       " 'весна',\n",
       " 'вествуд: панк, икона, активист',\n",
       " 'весури',\n",
       " 'весь этот джем',\n",
       " 'весь этот мир',\n",
       " 'весёлая карусель №49',\n",
       " 'весёлая ферма',\n",
       " 'весёлые ребята ;)',\n",
       " 'ветер крепчает',\n",
       " 'ветреная река',\n",
       " 'вечер с беверли лафф линн',\n",
       " 'вечеринка',\n",
       " 'вечеринка .',\n",
       " 'вечерний лабиринт',\n",
       " 'вечерняя школа',\n",
       " 'вечная жизнь александра христофорова',\n",
       " 'вечно молодой/ все будет рок-н-ролл',\n",
       " 'вечное возвращение.',\n",
       " 'вечность (2016)',\n",
       " 'вечный зов.',\n",
       " 'вечный холод',\n",
       " 'взломать блогеров',\n",
       " 'взорвать гитлера',\n",
       " 'взрослая дочь или тест на ...',\n",
       " 'взрослые дети.',\n",
       " 'взрослые игры',\n",
       " 'взрывная блондинка',\n",
       " 'видели ночь',\n",
       " 'виджай и я',\n",
       " 'видно будет',\n",
       " 'видок: охотник на призраков',\n",
       " 'вижу лишь тебя',\n",
       " 'византия',\n",
       " 'визит',\n",
       " 'визит (2015)',\n",
       " 'вий 3d',\n",
       " 'викинг .',\n",
       " 'викинг 18+',\n",
       " 'викинги',\n",
       " 'викинги. британский музей',\n",
       " 'виктор',\n",
       " 'виктор франкенштейн',\n",
       " 'виктория и абдул',\n",
       " 'виктория: история любви /по роману кнута гамсуна/',\n",
       " 'виктория_',\n",
       " 'вилли и крутые тачки',\n",
       " 'виноваты звезды /по произведению д.грина/',\n",
       " 'винченцо беллини. норма /по произведению александра суме \"норма или детоубийство\"/. постановка театро комунале (болонья)',\n",
       " 'винченцо беллини. пуритане. постановка театро комунале (болонья)',\n",
       " 'винчестер. дом, который построили призраки',\n",
       " 'виолет и дейзи',\n",
       " 'вирус (2016)',\n",
       " 'вирус любви',\n",
       " 'виселица',\n",
       " 'високосный год',\n",
       " 'вита и вирджиния',\n",
       " 'витя глушаков - друг апачей',\n",
       " 'вишенка на новогоднем торте',\n",
       " 'вкус америки',\n",
       " 'вкус жизни',\n",
       " 'вкус средиземного моря',\n",
       " 'владение 18',\n",
       " 'владимир маканин. цена личного голоса',\n",
       " 'владыка времени',\n",
       " 'властелин колец: братство кольца /по произведению джона рональда руэла толкиена \"властелин колец: хранители\"/',\n",
       " 'властелин колец: возвращение короля /по произведению джона рональда руэла толкиена \"властелин колец: возвращение государя\"/',\n",
       " 'властелин колец: две крепости /по произведению джона рональда руэла толкиена \"властелин колец: две твердыни\"/',\n",
       " 'властелин любви',\n",
       " 'властелин разметки',\n",
       " 'властелин танца 3d',\n",
       " 'власть',\n",
       " 'власть убеждений',\n",
       " 'влечение .',\n",
       " 'влюбленные_',\n",
       " 'влюбленный скорпион /по роману карлоса бардема/',\n",
       " 'вмаяковский',\n",
       " 'вне времени (2014)',\n",
       " 'вне игры (серии 1-12)',\n",
       " 'вне поля зрения /по роману элмора леонарда/',\n",
       " 'вне/себя',\n",
       " 'внеклассные занятия в 3d (монстры из бездны; язык насекомых; как устроена клетка; путешествие к солнцу)',\n",
       " 'внимание, черепаха!',\n",
       " 'внутри льюина дэвиса',\n",
       " 'во власти стихии',\n",
       " 'во все тяжкое',\n",
       " 'во всем виноват енот',\n",
       " 'во имя чести',\n",
       " 'вода в руке',\n",
       " 'воды слонам! /по произведению сары груэн/',\n",
       " 'водяная',\n",
       " 'вождь разнокожих',\n",
       " 'возврата нет.',\n",
       " 'возвращение буратино',\n",
       " 'возвращение буратино 3d',\n",
       " 'возвращение в \"а\"',\n",
       " 'возвращение в бургундию',\n",
       " 'возвращение в простоквашино. часть 2 из анимационного сериала \"простоквашино\"',\n",
       " 'возвращение василия бортникова',\n",
       " 'возвращение героя',\n",
       " 'возвращение саввы',\n",
       " 'возвращение супермена',\n",
       " 'воздушный маршал',\n",
       " 'возлюбленные',\n",
       " ...]"
      ]
     },
     "execution_count": 33,
     "metadata": {},
     "output_type": "execute_result"
    }
   ],
   "source": [
    "# Проверим не явные дубликаты глазами\n",
    "data['title'] = data['title'].str.lower()\n",
    "sorted(data['title'].unique())"
   ]
  },
  {
   "cell_type": "code",
   "execution_count": 34,
   "metadata": {},
   "outputs": [
    {
     "name": "stderr",
     "output_type": "stream",
     "text": [
      "C:\\Users\\User\\AppData\\Local\\Temp\\ipykernel_8476\\1266936102.py:12: FutureWarning: The default value of regex will change from True to False in a future version. In addition, single character regular expressions will *not* be treated as literal strings when regex=True.\n",
      "  data['title'] = data['title'].str.replace('.' , '')\n"
     ]
    },
    {
     "data": {
      "text/plain": [
       "['\"sos\" над тайгой',\n",
       " '\"v\" значит вендетта',\n",
       " '\"артишок\" анимационный альманах авторских фильмов',\n",
       " '\"бежин луг\" сергея эйзенштейна',\n",
       " '\"державная\" размышления 100 лет спустя',\n",
       " '\"зеленое яблоко\" анимационный альманах выпуск № 7',\n",
       " '\"машины песенки\" серия \"опять новый год!\"',\n",
       " '\"море\"',\n",
       " '\"сезон дождей\", \"диета матроскина\", \"шарик хочет телефон\" из анимационного сериала \"простоквашино\"',\n",
       " '\"старый\" новый год',\n",
       " '\"уорнер бразерс пикчерз\" и \"леджендари пикчерз\": тихоокеанский рубеж',\n",
       " '\"фееринки\" серия \"фантик спешит на помощь\"',\n",
       " '\"хороший день\", \"бог из машины/deus ex\", \"голод\", \"психотроника\", \"темная ночь\"',\n",
       " '\"чудовище из простоквашино\", \"ген героя\", \"ненастоящий детектив\", \"мама и тама\", \"как бы не стало зимы\" из анимационного сериала \"простоквашино\"',\n",
       " '#всёисправить!?!',\n",
       " '#москваруаян',\n",
       " '#яволонтер истории неравнодушных',\n",
       " '(не)жданный принц',\n",
       " '(не)идеальный мужчина',\n",
       " '007 координаты скайфолл',\n",
       " '007: спектр',\n",
       " '1+1',\n",
       " '1+1 нарушая правила',\n",
       " '1+1: голливудская история',\n",
       " '10 000 км: любовь на расстоянии',\n",
       " '10 000 лет до нэ',\n",
       " '10 лет спустя',\n",
       " '10 мгновений судьбы',\n",
       " '100 вещей и ничего лишнего',\n",
       " '100 лет дизайна',\n",
       " '100 лет чувашской автономии',\n",
       " '100 миллионов евро',\n",
       " '1001 рецепт влюбленного кулинара',\n",
       " '11 минут',\n",
       " '111111',\n",
       " '118 секунд, до и после',\n",
       " '12 лет рабства',\n",
       " '12 мелодий любви',\n",
       " '12 месяцев',\n",
       " '12 месяцев новая сказка',\n",
       " '120/80',\n",
       " '127 часов',\n",
       " '128 ударов сердца в минуту',\n",
       " '13',\n",
       " '13 грехов',\n",
       " '13 убийц',\n",
       " '13 часов: тайные солдаты бенгази',\n",
       " '13й район: кирпичные особняки',\n",
       " '14+',\n",
       " '1408 /по рассказу стивена кинга/',\n",
       " '1812: уланская баллада',\n",
       " '1915',\n",
       " '1937 время смерти (\"судоходное кладбище\", \"трагедия праздника\")',\n",
       " '2 + 2',\n",
       " '2 спальни, 1 ванная',\n",
       " '2+1',\n",
       " '20 000 дней на земле',\n",
       " '2001 год: космическая одиссея',\n",
       " '2012',\n",
       " '2016: конец ночи',\n",
       " '20:17',\n",
       " '21 и больше',\n",
       " '21 и больше (в переводе гоблина)',\n",
       " '21 мост',\n",
       " '22 мили',\n",
       " '22 минуты',\n",
       " '22 пули: бессмертный',\n",
       " '22 ярда',\n",
       " '24 снега',\n",
       " '24 часа на жизнь',\n",
       " '28 панфиловцев',\n",
       " '28 спален',\n",
       " '2:22 (2017)',\n",
       " '2рас: легенда',\n",
       " '3 дня с роми шнайдер',\n",
       " '3 идиота',\n",
       " '3 сердца',\n",
       " '3 счастливых поросёнка',\n",
       " '30 безумных желаний',\n",
       " '30 свиданий',\n",
       " '300 спартанцев /по романукомиксу фрэнка миллера и линн варли/',\n",
       " '300 спартанцев: расцвет империи /по произведению фрэнка миллера \"ксеркс\"/',\n",
       " '300 спартанцев: расцвет империи /по произведению фрэнка миллера \"ксеркс\"/ (на английском языке)',\n",
       " '302 бис',\n",
       " '31: праздник смерти',\n",
       " '321я сибирская, фильм первый \"братья\"',\n",
       " '34  й скорый',\n",
       " '36, набережная орфевр',\n",
       " '38я параллель',\n",
       " '4 дня в мае',\n",
       " '4321',\n",
       " '44 котёнка',\n",
       " '45 лет',\n",
       " '47 ронинов',\n",
       " '4:44 последний день на земле',\n",
       " '5 000 раз вокруг света',\n",
       " '50 весенних дней',\n",
       " '50 первых поцелуев',\n",
       " '500 дней лета',\n",
       " '5я волна',\n",
       " '6 дней',\n",
       " '695',\n",
       " '7 главных желаний',\n",
       " '7 дней и ночей с мэрилин',\n",
       " '7 социопатов',\n",
       " '7 ящиков',\n",
       " '72 метра (3 серии)',\n",
       " '72 часа',\n",
       " '7ой гном 3d',\n",
       " '8 1/2 (восемь с половиной)',\n",
       " '8 лучших свиданий',\n",
       " '8 новых свиданий',\n",
       " '8 первых свиданий',\n",
       " '8 подруг оушена',\n",
       " '9 месяцев строгого режима',\n",
       " '9/11',\n",
       " '901 километр',\n",
       " '999',\n",
       " 'all inclusive или все включено',\n",
       " 'angry birds 2 в кино',\n",
       " 'angry birds в кино',\n",
       " 'aroused: откровения лучших порномоделей',\n",
       " 'beef: русский хипхоп',\n",
       " 'best erotic shorts альманах',\n",
       " 'best of shnit 2015 лучшее шнит 2015',\n",
       " 'best of shnit 2017',\n",
       " 'bjork biophilia live',\n",
       " 'bloodc: последний темный',\n",
       " 'bon jovi the circle tour',\n",
       " 'bts: открой свою душу фильм',\n",
       " 'cirque du soleil: сказочный мир в 3d',\n",
       " 'citizenfour правда сноудена',\n",
       " 'coldplay: a head full of dreams',\n",
       " 'ded005',\n",
       " 'def leppard viva hysteria',\n",
       " 'die erste liebe (первая любовь)',\n",
       " 'dream theatre live at luna park',\n",
       " 'duran duran unstaged',\n",
       " 'elton john the million dollar piano',\n",
       " 'everybody in the place: рейв как забастовка',\n",
       " 'fair play (честная игра)',\n",
       " 'ford против ferrari',\n",
       " 'g (джи)',\n",
       " 'generation п',\n",
       " 'george michael: live in london',\n",
       " 'gijoe: бросок кобры 2',\n",
       " 'gimme danger история игги и the stooges',\n",
       " \"guns n'roses 2012 tour\",\n",
       " 'italian best shorts 2: любовь в вечном городе (лучшие итальянские короткометражки  2: любовь в вечном городе',\n",
       " 'italian best shorts 3: итальянские фантазии (лучшие итальянские короткометражки 3: итальянские фантазии)',\n",
       " 'kinematic shorts: lucly seven программа короткометражного кино',\n",
       " 'kinematic shorts: spring shorts fun программа короткометражного кино',\n",
       " 'kingsman: золотое кольцо',\n",
       " 'kingsman: секретная служба',\n",
       " 'kiss rocks vegas',\n",
       " 'led zeppelin celebration day',\n",
       " 'liaf2014 программа лондонского международного анимационного фестиваля',\n",
       " 'lil peep: всё для всех',\n",
       " 'magnetisme animal/магнетизм',\n",
       " 'mamma mia! 2',\n",
       " 'metallica: сквозь невозможное',\n",
       " 'muse live at rome',\n",
       " 'my little pony в кино',\n",
       " 'mylene farmer timeless 2013 the movie',\n",
       " 'need for speed: жажда скорости',\n",
       " 'no comment (нет комментариев)',\n",
       " 'one direction: where we are',\n",
       " 'one direction: это мы',\n",
       " 'oscar shorts  2014 фильмы',\n",
       " 'oscar shorts  анимация',\n",
       " 'oscar shorts  фильмы',\n",
       " 'paul mccartney rockshow',\n",
       " 'prada и чувства',\n",
       " 'pro кино',\n",
       " 'pro любовь',\n",
       " 'ps я люблю тебя /по одноименному произведению сесилии ахерн/',\n",
       " 'queen live in bohemia',\n",
       " 'queen live in budapest 1986',\n",
       " 'queen rock montreal',\n",
       " 'salsa belly dance  часть 1 и 2',\n",
       " 'sex doll / влюбленные одиночки',\n",
       " 'shnit shorts 2019 анимационная программа',\n",
       " 'shnit shorts 2019 игровое кино',\n",
       " 'slove прямо в сердце',\n",
       " 'sos, дед мороз или всё сбудется!',\n",
       " 'stars in shorts',\n",
       " 'starперцы',\n",
       " 'superалиби',\n",
       " 'superзять',\n",
       " 'superнянь',\n",
       " 'superнянь 2',\n",
       " \"the chemical brothers  don't think (не думай)\",\n",
       " \"the doors  live at the bowl'68 концерт\",\n",
       " \"the doors when you' re strange\",\n",
       " \"the prodigy  world's on fire (продиджи миры в огне) фильмконцерт\",\n",
       " 'tomb raider: лара крофт',\n",
       " 'turbo (турбо)',\n",
       " 'u2 3d',\n",
       " 'uglydolls куклы с характером',\n",
       " 'update/delete (апдейт/делит)',\n",
       " 'vaбанк',\n",
       " 'weekend  (уикэнд)',\n",
       " 'whisky с молоком',\n",
       " 'winx club 3d: волшебное приключение',\n",
       " 'winx club: спасаем животных!',\n",
       " 'winx club: спасаем океан',\n",
       " 'wtf! какого черта?',\n",
       " 'yesterday (вчера)',\n",
       " 'zолушка',\n",
       " 'zомбилэнд: контрольный выстрел',\n",
       " 'а был ли каротин?',\n",
       " 'а вот и она',\n",
       " 'а если это любовь?',\n",
       " 'а зори здесь тихие',\n",
       " 'а мама лучше! (рабочее название \"вся прелесть любви\")',\n",
       " 'аадан жизель хореография матса эка',\n",
       " 'аб ово',\n",
       " 'абатуар лабиринт страха',\n",
       " 'аббатство даунтон',\n",
       " 'абсолютная власть',\n",
       " 'аванпост',\n",
       " 'авантюристы',\n",
       " 'аварийное состояние',\n",
       " 'авария  дочь мента',\n",
       " 'аватар',\n",
       " 'аватар специальная версия',\n",
       " 'август /по пьесе трэйси леттс/',\n",
       " 'август восьмого',\n",
       " 'автобан',\n",
       " 'автобиография лжеца 3d',\n",
       " 'автомобиль, скрипка и собака клякса',\n",
       " 'автостопом по галактике',\n",
       " 'агасфер',\n",
       " 'агент 044: операция гегард',\n",
       " 'агент 117: миссия в рио',\n",
       " 'агент джонни инглиш 2: перезагрузка',\n",
       " 'агент джонни инглиш 30',\n",
       " 'агент джонни инглиш: перезагрузка',\n",
       " 'агент мамбо',\n",
       " 'агент под прикрытием',\n",
       " 'агент эмерсон',\n",
       " 'агенты анкл',\n",
       " 'агитатор',\n",
       " 'агора',\n",
       " 'агорафобия',\n",
       " 'адвокат дьявола /по роману эндрю нейдермана/',\n",
       " 'аджами',\n",
       " 'адмирал ушаков',\n",
       " 'адмиралъ',\n",
       " 'адольф адан жизель /по мотивам легенды, пересказанной генрихом гейне/ постановка royal opera house',\n",
       " 'адольф адан жизель в 3d постановка мариинского театра хореография жана коралли, жюля перро, мариуса петипа',\n",
       " 'адский бункер: черное солнце',\n",
       " 'адъютант его превосходительства',\n",
       " 'азартные игры',\n",
       " 'азбука смерти',\n",
       " 'азор (azor)',\n",
       " 'аисты',\n",
       " 'ай вэйвэй: никогда не извиняйся',\n",
       " 'айболит  66',\n",
       " 'айка',\n",
       " 'айрис',\n",
       " 'айсылу фильм',\n",
       " 'ака',\n",
       " 'академия вампиров',\n",
       " 'аквамен',\n",
       " 'акварель',\n",
       " 'аквариум',\n",
       " 'акрам хан: родом из карри хауса',\n",
       " 'аксель',\n",
       " 'акт убийства',\n",
       " 'акулы',\n",
       " 'акулы 3d',\n",
       " 'акция',\n",
       " 'аладдин',\n",
       " 'албазинские скаски',\n",
       " 'алекс и эмма',\n",
       " 'александр буйнов \"юбилейный концерт в кремле live\"',\n",
       " 'александр и ужасный, кошмарный, нехороший, очень плохой день',\n",
       " 'александр калягин и et cetera',\n",
       " 'александр невский (восстановленная версия)',\n",
       " 'алешкина любовь',\n",
       " 'али, рули!',\n",
       " 'алиби',\n",
       " 'алиса в зазеркалье (2016)',\n",
       " 'алиса в стране чудес /по книгам льюиса кэрролла \"алиса в стране чудес\" и \"алиса в зазеркалье\"/',\n",
       " 'алиса в стране чудес /по одноименному произведению льюиса кэрола/',\n",
       " 'алиса знает, что делать! зеленая месть',\n",
       " 'алиса знает, что делать! серии \"подмена растронаса\", \"старикиразбойники\"',\n",
       " 'алиса знает, что делать! серии \"энергия прошлого\", \"устаревшие модели\", \"долой креатив!\"',\n",
       " 'алиса знает, что делать! серия \"гуманитарная помощь\"',\n",
       " 'алиса знает, что делать! серия \"зеленая месть\"',\n",
       " 'алита: боевой ангел',\n",
       " 'алла пугачёва тот самый концерт',\n",
       " 'алмазы для марии',\n",
       " 'алоис небель и его призраки',\n",
       " 'алые паруса',\n",
       " 'альберт гогуадзе пэрипэртан',\n",
       " 'альдабра: путешествие по таинственному острову',\n",
       " 'альманах документальных фильмов \"вокзалы россии: история, любовь и великие тайны…\" фильм первый \"вокзалы россии связь времен\"',\n",
       " 'альфа',\n",
       " 'альфа и омега',\n",
       " 'альфаго',\n",
       " 'амазония: инструкция по выживанию',\n",
       " 'амаль',\n",
       " 'амальгама',\n",
       " 'амбивалентность',\n",
       " 'амели',\n",
       " 'амелия',\n",
       " 'америка',\n",
       " 'американец (по роману мартина бута \"очень скрытный джентльмен\")',\n",
       " 'американская дочь',\n",
       " 'американская пастораль',\n",
       " 'американский грайдхаус',\n",
       " 'американский пирог: все в сборе',\n",
       " 'амилькаре понкьелли джоконда /по пьесе виктора гюго \"анджело, тиран падуанский\"/ постановка парижской национальной оперы',\n",
       " 'амун',\n",
       " 'амундсен',\n",
       " 'анаболики реальная история',\n",
       " 'анализируй то!',\n",
       " 'анализируй это!',\n",
       " 'ананас',\n",
       " 'анархисты',\n",
       " 'анархия в жирмунае',\n",
       " 'анатолий крупнов он был',\n",
       " 'анатомия измены',\n",
       " 'анатомия любви /по произведению скотта спенсера/',\n",
       " 'ангел',\n",
       " 'ангел мой',\n",
       " 'ангелхранитель',\n",
       " 'ангелы революции',\n",
       " 'ангелы чарли',\n",
       " 'ангельское личико',\n",
       " 'андердог',\n",
       " 'андре рьё концерт в маастрихте',\n",
       " 'андреа бочелли: любовь в портофино',\n",
       " 'андрей рублев',\n",
       " 'андроид',\n",
       " 'анжелика, маркиза ангелов',\n",
       " 'аниматор',\n",
       " 'анимационный альманах \"ладушки\" (ф \"дрипдроп\")',\n",
       " 'анимационный альманах \"ладушки\" (ф \"ладушки\")',\n",
       " 'анимационный альманах \"ладушки\" (ф \"про бабу, которая хотела улететь\")',\n",
       " 'анимационный сериал \"котяткины истории2\"',\n",
       " 'анимационный сериал \"лунтик и его друзья\" (490502 серии)',\n",
       " 'анимационный фильм \"динозавр рики\", серия \"пылесос\"',\n",
       " 'анимационный фильм \"динозавр рики\", серия \"ремонт\"',\n",
       " 'анимационный фильм \"динозавр рики\", серия \"спорт\"',\n",
       " 'анимационный фильм \"динозавр рики\", серия \"темные силы\"',\n",
       " 'анимационный фильм \"малышарики 3\", серия \"брызгалки\"',\n",
       " 'анимационный фильм \"малышарики 3\", серия \"дом для рыбки\"',\n",
       " 'анимационный фильм \"малышарики 3\", серия \"нужная вещь\"',\n",
       " 'анимационный фильм \"малышарики 3\", серия \"подарок\"',\n",
       " 'анимационный фильм \"малышарики 3\", серия \"слон\"',\n",
       " 'анимационный фильм \"пинкод гуманитарные технологии 3\", серия \"собратья по разуму часть 3\"',\n",
       " 'анимационный фильм \"пинкод гуманитарные технологии\", серии \"бортовой дневник 4\", \"игры с памятью\"',\n",
       " 'анимационный фильм \"сказки полуночи\"',\n",
       " 'анимационный фильм \"смешарики 7\", серия \"красная книга\"',\n",
       " 'анимационный фильм \"смешарики 7\", серия \"слишком фигурное катание\"',\n",
       " 'анимационный фильм \"смешарики начало\"',\n",
       " 'анимационный фильм \"смешарики спорт 2\", серия \"эксклюзивное интервью/таланты и поклонница\"',\n",
       " 'анимированная жизнь',\n",
       " 'анина: история самого необычного наказания /по произведению сергио лопеса суареса/',\n",
       " 'анкор, ещё анкор!',\n",
       " 'анна',\n",
       " 'анна каренина /по одноименному роману лнтолстого/',\n",
       " 'анна каренина интимный дневник',\n",
       " 'анна каренина история вронского',\n",
       " 'анна каренина мюзикл',\n",
       " 'анна павлова',\n",
       " 'аннушка',\n",
       " 'аномалия',\n",
       " 'аномия',\n",
       " 'анон',\n",
       " 'аноним',\n",
       " 'анонимные романтики',\n",
       " 'антиганг',\n",
       " 'антикиллер  2',\n",
       " 'антон чехов',\n",
       " 'антон чехов и исаак левитан: двойной портрет в интерьере эпохи',\n",
       " 'антропоид',\n",
       " 'антураж',\n",
       " 'апартаменты 1303 3d',\n",
       " 'апгрейд',\n",
       " 'апокалипсис сегодня расширенная версия',\n",
       " 'аполлон 18',\n",
       " 'аполлон11',\n",
       " 'апостасия',\n",
       " 'апостол камчатки',\n",
       " 'апофеоз',\n",
       " 'аптекарь',\n",
       " 'арахисовый сокол',\n",
       " 'арбузные корки',\n",
       " 'арвентур тайна морского пейзажа',\n",
       " 'аргентина',\n",
       " 'арена смелых',\n",
       " 'арестант no name',\n",
       " 'арестуйте меня',\n",
       " 'ариран',\n",
       " 'арифметика свободы',\n",
       " 'ариэтти из страны лилипутов',\n",
       " 'арктика 3d',\n",
       " 'арло: говорящий поросенок',\n",
       " 'армагеддец',\n",
       " 'армен и я',\n",
       " 'армия машин',\n",
       " 'арриго бойто мефистофель /по произведению гёте/ постановка оперного театра санфранциско',\n",
       " 'артемизия',\n",
       " 'артист',\n",
       " 'артур и война двух миров',\n",
       " 'артур сеймур салливан микадо постановка sydney opera house',\n",
       " 'артур чилингаров монологи',\n",
       " 'аршалуйс',\n",
       " 'аспушкин \"сказка о царе салтане\"',\n",
       " 'асса',\n",
       " 'астерикс и обеликс в британии 3d',\n",
       " 'астерикс и тайное зелье',\n",
       " 'астерикс: земля богов',\n",
       " 'астрал',\n",
       " 'астрал 3',\n",
       " 'астрал 4: последний ключ',\n",
       " 'астрал глава 2',\n",
       " 'астрал глава вторая',\n",
       " 'астрал на улице арлетт',\n",
       " 'астрал: новое измерение',\n",
       " 'ася',\n",
       " 'атака на перлхарбор',\n",
       " 'атака пауков',\n",
       " 'атака титанов фильм второй: конец света',\n",
       " 'атака титанов фильм первый жестокий мир',\n",
       " 'атаман',\n",
       " 'атлантида',\n",
       " 'атлантида: затерянный мир',\n",
       " 'атлантика',\n",
       " 'атомный иван',\n",
       " 'аттестат зрелости',\n",
       " 'аустерлиц (2016)',\n",
       " 'аутло/outlaw',\n",
       " 'афганский алфавит',\n",
       " 'афера доктора нока',\n",
       " 'афера поамерикански',\n",
       " 'афера поанглийски',\n",
       " 'афера под прикрытием',\n",
       " 'аферисты поневоле',\n",
       " 'афтершок',\n",
       " 'аэлита, не приставай к мужчинам',\n",
       " 'аэронавты',\n",
       " 'аэросмит рок для восходящего солнца',\n",
       " 'аэротачки',\n",
       " 'баария',\n",
       " 'баба яга',\n",
       " 'бабадук',\n",
       " 'бабай',\n",
       " 'бабич',\n",
       " 'бабло',\n",
       " 'бабоньки',\n",
       " 'бабочки',\n",
       " 'бабочки (2016)',\n",
       " 'бабушка легкого поведения',\n",
       " 'бабушка лёгкого поведения 2',\n",
       " 'бабье царство',\n",
       " 'баги',\n",
       " 'багровая мята',\n",
       " 'багровый пик',\n",
       " 'байбаймэн',\n",
       " 'байгал',\n",
       " 'байкал  сердце мира 3d',\n",
       " 'байкал магия воды',\n",
       " 'байкеры3',\n",
       " 'байконур падение \"сатаны\"',\n",
       " 'бал (2016)',\n",
       " 'балбесы /по книге \"вселенная баллинга и баха\"/',\n",
       " 'балерина',\n",
       " 'балет сегодня',\n",
       " 'балканский рубеж',\n",
       " 'балкон европы',\n",
       " 'баллада о доблестном рыцаре айвенго',\n",
       " 'баллистика: экс против сивер',\n",
       " 'бальные танцы',\n",
       " 'бамблби',\n",
       " 'банда котиков',\n",
       " 'банда ольсена: рокзвезды зажигают',\n",
       " 'бандитки',\n",
       " 'бандиты',\n",
       " 'банды индостана',\n",
       " 'банкомат',\n",
       " 'банщик президента, или пасечники вселенной',\n",
       " 'бар \"гадкий койот\"',\n",
       " 'барашек шон',\n",
       " 'барбара',\n",
       " 'бармен',\n",
       " 'бархатный сезон',\n",
       " 'баския: взрыв реальности',\n",
       " 'басни иакрылова',\n",
       " 'бассейн',\n",
       " 'батальонъ',\n",
       " 'бахубали: рождение легенды',\n",
       " 'бачата на 33м километре',\n",
       " 'бег иноходца',\n",
       " 'беги',\n",
       " 'беги без оглядки',\n",
       " 'беглец (2015)',\n",
       " 'беглецы',\n",
       " 'бегство рогатых викингов или пять дней из джизни джонни воробьёва',\n",
       " 'бегущая от реальности',\n",
       " 'бегущий в лабиринте /по произведению джеймса дашнера/',\n",
       " 'бегущий в лабиринте: испытание огнем /по произведению джеймса дашнера/',\n",
       " 'бегущий в лабиринте: лекарство от смерти',\n",
       " 'бегущий по лезвию 2049',\n",
       " 'бедная богатая девочка',\n",
       " 'бедуин',\n",
       " 'без вины виноватые',\n",
       " 'без границ',\n",
       " 'без грома пушек',\n",
       " 'без истерики!',\n",
       " 'без компромиссов',\n",
       " 'без меня',\n",
       " 'без мужчин',\n",
       " 'без права на ошибку',\n",
       " 'без свидетелей',\n",
       " 'без солнца',\n",
       " 'без срока давности',\n",
       " 'без тормозов (2016)',\n",
       " 'без ума от тиффани',\n",
       " 'безбашенные',\n",
       " 'безбрачная неделя',\n",
       " 'безопасность не гарантируется',\n",
       " 'безответная любовь',\n",
       " 'безотцовщина',\n",
       " 'безумная свадьба',\n",
       " 'безумное свидание',\n",
       " 'безумные преподы',\n",
       " 'безумные соседи',\n",
       " 'безумный макс 2: воин дороги',\n",
       " 'безумный макс: дорога ярости',\n",
       " 'безумцы',\n",
       " 'безупречная жизнь',\n",
       " 'белая белая ночь',\n",
       " 'белая графиня',\n",
       " 'белая лента',\n",
       " 'белая мама/white мама',\n",
       " 'белая мгла /по комиксу грега рукка и стива либера/',\n",
       " 'белка и стрелка звездные собаки',\n",
       " 'белка и стрелка лунные приключения',\n",
       " 'белка и стрелка тайны космоса (15 серии)',\n",
       " 'белки в деле',\n",
       " 'белль и себастьян',\n",
       " 'белль и себастьян: друзья навек',\n",
       " 'белль и себастьян: приключения продолжаются',\n",
       " 'белое вино из баббудойу',\n",
       " 'белоснежка (snow white; blancanieves)',\n",
       " 'белоснежка и охотник',\n",
       " 'белоснежка и охотник 2',\n",
       " 'белоснежка сказка для взрослых',\n",
       " 'белоснежка: месть гномов',\n",
       " 'белые ночи',\n",
       " 'белые ночи (2017)',\n",
       " 'белые ночи почтальона алексея тряпицына',\n",
       " 'белый бог',\n",
       " 'белый лебедь',\n",
       " 'белый параллелепипед',\n",
       " 'белый парень рик',\n",
       " 'белый песок',\n",
       " 'белый тигр',\n",
       " 'белый ягель',\n",
       " 'бельканто',\n",
       " 'бемоль',\n",
       " 'бенгур (2016)',\n",
       " 'бенджамин бриттен питер граймс /по поэме джорджа крэбба \"городок\"/ постановка english national opera',\n",
       " 'беовульф',\n",
       " 'бергдорф гудман: больше века на вершине модного олимпа',\n",
       " 'бергман',\n",
       " 'берег',\n",
       " 'берегись автомобиля (цветная версия)',\n",
       " 'берегите мужчин!',\n",
       " 'березовский  это кто?',\n",
       " 'беременный',\n",
       " 'берлин, я люблю тебя',\n",
       " 'берлинале шортс: чудо; майк; темная комната; три камня для жана жене; титьки; любовные игры; оптический звук',\n",
       " 'берлинский синдром',\n",
       " 'берлинский фейсконтрольщик',\n",
       " 'бернини',\n",
       " 'берсерк: золотой век фильм i: бехерит властителя',\n",
       " 'берсерк: золотой век фильм ii: битва за долдрей',\n",
       " 'берсерк: золотой век фильм iii: сошествие',\n",
       " 'берцы',\n",
       " 'беспредел',\n",
       " 'беспредел (outrage; autoreiji)',\n",
       " 'бесславные придурки',\n",
       " 'бесславные ублюдки',\n",
       " 'бессмертный гарнизон',\n",
       " 'бессонная ночь',\n",
       " 'бестолковая защита',\n",
       " 'бесшабашное ограбление',\n",
       " 'бесы',\n",
       " 'бешеное золото',\n",
       " 'бешеные деньги',\n",
       " 'бибинур',\n",
       " 'библиотекарь',\n",
       " 'бивень',\n",
       " 'бизнесмены',\n",
       " 'билет на вегас',\n",
       " 'бирмингемский орнамент',\n",
       " 'бирмингемский орнамент часть 2',\n",
       " 'битва',\n",
       " 'битва в пути',\n",
       " 'битва за землю',\n",
       " 'битва за москву',\n",
       " 'битва за севастополь',\n",
       " 'битва полов',\n",
       " 'битва с экстрасенсами',\n",
       " 'битва титанов',\n",
       " 'битва у красной скалы',\n",
       " 'бладрейн',\n",
       " 'бладфест',\n",
       " 'блеф',\n",
       " 'ближе, чем кажется',\n",
       " 'ближе, чем кажется (2017)',\n",
       " 'близкий враг',\n",
       " 'близнецы',\n",
       " 'близнецыубийцы',\n",
       " 'блокада день 901й',\n",
       " 'блокада искупление',\n",
       " 'блокбастер',\n",
       " 'блокбастер 3d',\n",
       " 'блондинка в эфире',\n",
       " 'блондинка и блондинка',\n",
       " 'блондинка и разбойницы',\n",
       " 'блуждание ягнят',\n",
       " 'блэйд  2',\n",
       " 'блэйд троица',\n",
       " 'блэйд: троица',\n",
       " 'блэки летит на луну',\n",
       " 'боб марли',\n",
       " 'бобби фишер против всего мира',\n",
       " 'бобр добр (серии: \"соседи\", \"пришельцы\", \"поход\", \"батут\", \"зависть погубила\", \"горки\", \"симулянт\", \"вой в лесу\", \"на испуг\", \"подмена\", \"куку\", \"помощники\", \"клад\")',\n",
       " 'бобро поржаловать!',\n",
       " 'бобёр',\n",
       " 'богатырша',\n",
       " 'богатырята',\n",
       " 'богемская рапсодия',\n",
       " 'боги египта',\n",
       " 'богиня',\n",
       " 'боевая кукла',\n",
       " 'боевой конь',\n",
       " 'боец',\n",
       " 'боже мой!',\n",
       " 'боже, благослови америку',\n",
       " 'боже, храни мой каблук',\n",
       " 'божественная любовь',\n",
       " 'бои без правил',\n",
       " 'бой',\n",
       " 'бой без правил',\n",
       " 'бой после победы',\n",
       " 'бой с тенью3: последний раунд',\n",
       " 'бойся своих желаний',\n",
       " 'бойфренд из будущего',\n",
       " 'бойцовая воля',\n",
       " 'бойцовский клуб',\n",
       " 'болевой порог',\n",
       " 'болеро17',\n",
       " 'болливуд: величайшая история любви',\n",
       " 'болотные солдаты',\n",
       " 'болт и блип спешат на помощь',\n",
       " 'боль и слава',\n",
       " 'большая афера',\n",
       " 'большая афера в маленьком городе',\n",
       " 'большая вечеринка',\n",
       " 'большая игра',\n",
       " 'большая поэзия',\n",
       " 'большая ржака',\n",
       " 'большая свадьба',\n",
       " 'больше  меньше',\n",
       " 'больше чем секс',\n",
       " 'больше, чем друг',\n",
       " 'больше, чем любовь',\n",
       " 'больше, чем любовь \"любимая женщина режиссера тодоровского\"',\n",
       " 'большие \"мамочки\": сын как отец',\n",
       " 'большие глаза',\n",
       " 'большие надежды /по роману чарльза диккенса/',\n",
       " 'большое путешествие',\n",
       " 'большое путешествие вглубь океанов 3d: возвращение',\n",
       " 'большой',\n",
       " 'большой аттракцион',\n",
       " 'большой белый танец',\n",
       " 'большой вавилон',\n",
       " 'большой всплеск',\n",
       " 'большой злой лис и другие сказки',\n",
       " 'большой и добрый великан',\n",
       " 'большой и маленький',\n",
       " 'большой кошачий побег',\n",
       " 'большой лебовски',\n",
       " 'большой собачий побег',\n",
       " 'большой солдат',\n",
       " 'большой фитиль',\n",
       " 'бомж',\n",
       " 'бомж с дробовиком',\n",
       " 'борг\\\\макинрой',\n",
       " 'борец и клоун',\n",
       " 'борис годунов',\n",
       " 'борцу не больно',\n",
       " 'босиком по городу',\n",
       " 'босиком по мостовой',\n",
       " 'боссмолокосос',\n",
       " 'брак за решеткой',\n",
       " 'брандо без купюр',\n",
       " 'братва из джунглей',\n",
       " 'братец медвежонок /по одноименному произведению лорны кемерун/',\n",
       " 'братство',\n",
       " 'братц',\n",
       " 'братья',\n",
       " 'братья гримм',\n",
       " 'братья из гримсби',\n",
       " 'братья карамазовы',\n",
       " 'братья медведи: тайна трёх миров',\n",
       " 'братья систерс',\n",
       " 'братья ч',\n",
       " 'бременские разбойники',\n",
       " 'брестская крепость',\n",
       " 'бригада наследник',\n",
       " 'бриджит джонс 3',\n",
       " 'брови',\n",
       " 'бросок кобры',\n",
       " 'бруклин',\n",
       " 'брюс ли: рождение дракона',\n",
       " 'бугай',\n",
       " 'бугивуги',\n",
       " 'буду помнить',\n",
       " 'будущее',\n",
       " 'будь что будет',\n",
       " 'будьте моим мужем',\n",
       " 'букашки 2',\n",
       " 'букашки 3d',\n",
       " 'букашки приключение в долине муравьев',\n",
       " 'буквоежка',\n",
       " 'букшоп',\n",
       " 'бульвар страха',\n",
       " 'бумажные города /по произведению джона грина/',\n",
       " 'бункер',\n",
       " 'бункер42 капсула времени',\n",
       " 'бунт ушастых',\n",
       " 'бунтари без стыда',\n",
       " 'бунюэль в лабиринте черепах',\n",
       " 'бурлеск',\n",
       " 'буря /по одноименной пьесе ушекспира/',\n",
       " 'бык',\n",
       " 'было есть будет',\n",
       " 'быстрее, чем кролики',\n",
       " 'быть астрид линдгрен',\n",
       " 'быть или не быть',\n",
       " 'быть харви вайнштейном',\n",
       " 'бьютифул',\n",
       " 'бэйбэрикээн',\n",
       " 'бэст сайфай (best scifi)',\n",
       " 'бэтмен против супермена: на заре справедливости',\n",
       " 'бэтмэн и робин /по мотивам комиксов боба кейна/',\n",
       " 'бэтмэн: начало',\n",
       " 'бёрдмэн',\n",
       " 'в активном поиске (2016)',\n",
       " 'в белом плену',\n",
       " 'в гостях у элис',\n",
       " 'в двух шагах от славы',\n",
       " 'в доме',\n",
       " 'в доме отца',\n",
       " 'в другой стране',\n",
       " 'в квадрате 45',\n",
       " 'в кейптаунском порту',\n",
       " 'в краю крови и меда',\n",
       " 'в маленьком городе',\n",
       " 'в метре друг от друга',\n",
       " 'в небо за мечтой',\n",
       " 'в объятиях лжи',\n",
       " 'в одной упряжке',\n",
       " 'в одну сторону (2006)',\n",
       " 'в ожидании молнии',\n",
       " 'в ожидании моря',\n",
       " 'в ожидании шарлотты корде',\n",
       " 'в окружении',\n",
       " 'в первый раз',\n",
       " 'в плену города грёз',\n",
       " 'в погоне за ветром',\n",
       " 'в погоне за счастьем',\n",
       " 'в поисках дори     песочник',\n",
       " 'в поисках евы',\n",
       " 'в поисках истины',\n",
       " 'в поисках йети',\n",
       " 'в поисках немо',\n",
       " 'в поисках света',\n",
       " 'в постели с викторией',\n",
       " 'в ритме сердца',\n",
       " 'в россии идет снег',\n",
       " 'в сердце моря',\n",
       " 'в следующий раз я буду стрелять в сердце /по роману ивана стефановича \"убийца вне подозрений\"/',\n",
       " 'в сочи всегда солнечно',\n",
       " 'в спорте только девушки',\n",
       " 'в стиле jazz',\n",
       " 'в стране без женщин',\n",
       " 'в субботу',\n",
       " 'в тихом омуте',\n",
       " 'в тумане /по одноименной повести василя быкова/',\n",
       " 'в фокусе',\n",
       " 'в центре внимания',\n",
       " 'в четверг и больше никогда',\n",
       " 'в шесть часов вечера после войны',\n",
       " 'вавилон',\n",
       " 'вайолет эвергарден: вечность и призрак пера',\n",
       " 'вакансия',\n",
       " 'вакантна жизнь шефповара',\n",
       " 'валентин и валентина',\n",
       " 'валентина',\n",
       " 'валериан и город тысячи планет',\n",
       " 'вальгалла: рагнарек',\n",
       " 'вальс для моники',\n",
       " 'вам и не снилось',\n",
       " 'вампирский засос',\n",
       " 'вампирша против франкенштейнш',\n",
       " 'ван гог на пороге вечности',\n",
       " 'ван гог с любовью, винсент',\n",
       " 'ван гог: золото и лазурь',\n",
       " 'ван гоги',\n",
       " 'ванька тепляшин',\n",
       " 'варда глазами аньес',\n",
       " 'варенье из сакуры',\n",
       " 'варкрафт',\n",
       " 'вас ожидает гражданка никанорова',\n",
       " 'василиса',\n",
       " 'васса',\n",
       " 'вася',\n",
       " 'ватерлоо',\n",
       " 'ватиканские записи',\n",
       " 'ваш репетитор',\n",
       " 'ваша честь',\n",
       " 'вверх',\n",
       " 'вдали от обезумевшей толпы /по одноименному произведению томаса харди/',\n",
       " 'вдвоем на льдине',\n",
       " 'вдовы',\n",
       " 'вдохновенный свидетель истины',\n",
       " 'вдребезги',\n",
       " 'ведьма',\n",
       " 'ведьма войны',\n",
       " 'ведьма из блэр: новая глава',\n",
       " 'ведьмин ключ',\n",
       " 'ведьмина гора',\n",
       " 'ведьмы',\n",
       " 'ведьмы из сугаррамурди',\n",
       " 'везуха! (11)',\n",
       " 'везучая',\n",
       " 'везучий случай',\n",
       " 'век адалин',\n",
       " 'великая красота',\n",
       " 'великая мистификация хипхопа',\n",
       " 'великая стена',\n",
       " 'великие битвы россии',\n",
       " 'великий воин албании скандербег',\n",
       " 'великий гэтсби /по одноименному роману фрэнсиса скотта фицджеральда/',\n",
       " 'великий диктатор',\n",
       " 'великий мастер',\n",
       " 'великий северный путь',\n",
       " 'великий уравнитель',\n",
       " 'великий уравнитель 2',\n",
       " 'великолепная',\n",
       " 'великолепная афера /по роману эрика гарсии/',\n",
       " 'великолепная семерка (2016)',\n",
       " 'величайший кутюрье',\n",
       " 'величайший шоумен',\n",
       " 'велкам хом',\n",
       " 'велотачки',\n",
       " 'вельзевул',\n",
       " 'венера в мехах',\n",
       " 'венецианские львы',\n",
       " 'венецианский детектив',\n",
       " 'венеция зовет',\n",
       " 'веном',\n",
       " 'вера (2016)',\n",
       " 'веркафуэте',\n",
       " 'верность',\n",
       " 'вернуть бена',\n",
       " 'вероника решает умереть',\n",
       " 'вероника решает умереть (2009)',\n",
       " 'вертолёты',\n",
       " 'вес воды',\n",
       " 'веселые каникулы',\n",
       " 'весенние надежды',\n",
       " 'весна',\n",
       " 'вествуд: панк, икона, активист',\n",
       " 'весури',\n",
       " 'весь этот джем',\n",
       " 'весь этот мир',\n",
       " 'весёлая карусель №49',\n",
       " 'весёлая ферма',\n",
       " 'весёлые ребята ;)',\n",
       " 'ветер крепчает',\n",
       " 'ветреная река',\n",
       " 'вечер с беверли лафф линн',\n",
       " 'вечеринка',\n",
       " 'вечерний лабиринт',\n",
       " 'вечерняя школа',\n",
       " 'вечная жизнь александра христофорова',\n",
       " 'вечно молодой/ все будет рокнролл',\n",
       " 'вечное возвращение',\n",
       " 'вечность (2016)',\n",
       " 'вечный зов',\n",
       " 'вечный холод',\n",
       " 'взломать блогеров',\n",
       " 'взорвать гитлера',\n",
       " 'взрослая дочь или тест на',\n",
       " 'взрослые дети',\n",
       " 'взрослые игры',\n",
       " 'взрывная блондинка',\n",
       " 'видели ночь',\n",
       " 'виджай и я',\n",
       " 'видно будет',\n",
       " 'видок: охотник на призраков',\n",
       " 'вижу лишь тебя',\n",
       " 'византия',\n",
       " 'визит',\n",
       " 'визит (2015)',\n",
       " 'вий 3d',\n",
       " 'викинг',\n",
       " 'викинг 18+',\n",
       " 'викинги',\n",
       " 'викинги британский музей',\n",
       " 'виктор',\n",
       " 'виктор франкенштейн',\n",
       " 'виктория',\n",
       " 'виктория и абдул',\n",
       " 'виктория: история любви /по роману кнута гамсуна/',\n",
       " 'вилли и крутые тачки',\n",
       " 'виноваты звезды /по произведению дгрина/',\n",
       " 'винченцо беллини норма /по произведению александра суме \"норма или детоубийство\"/ постановка театро комунале (болонья)',\n",
       " 'винченцо беллини пуритане постановка театро комунале (болонья)',\n",
       " 'винчестер дом, который построили призраки',\n",
       " 'виолет и дейзи',\n",
       " 'вирус (2016)',\n",
       " 'вирус любви',\n",
       " 'виселица',\n",
       " 'високосный год',\n",
       " 'вита и вирджиния',\n",
       " 'витя глушаков  друг апачей',\n",
       " 'вишенка на новогоднем торте',\n",
       " 'вкус америки',\n",
       " 'вкус жизни',\n",
       " 'вкус средиземного моря',\n",
       " 'владение 18',\n",
       " 'владимир маканин цена личного голоса',\n",
       " 'владыка времени',\n",
       " 'властелин колец: братство кольца /по произведению джона рональда руэла толкиена \"властелин колец: хранители\"/',\n",
       " 'властелин колец: возвращение короля /по произведению джона рональда руэла толкиена \"властелин колец: возвращение государя\"/',\n",
       " 'властелин колец: две крепости /по произведению джона рональда руэла толкиена \"властелин колец: две твердыни\"/',\n",
       " 'властелин любви',\n",
       " 'властелин разметки',\n",
       " 'властелин танца 3d',\n",
       " 'власть',\n",
       " 'власть убеждений',\n",
       " 'влечение',\n",
       " 'влюбленные',\n",
       " 'влюбленный скорпион /по роману карлоса бардема/',\n",
       " 'вмаяковский',\n",
       " 'вне времени (2014)',\n",
       " 'вне игры (серии 112)',\n",
       " 'вне поля зрения /по роману элмора леонарда/',\n",
       " 'вне/себя',\n",
       " 'внеклассные занятия в 3d (монстры из бездны; язык насекомых; как устроена клетка; путешествие к солнцу)',\n",
       " 'внимание, черепаха!',\n",
       " 'внутри льюина дэвиса',\n",
       " 'во власти стихии',\n",
       " 'во все тяжкое',\n",
       " 'во всем виноват енот',\n",
       " 'во имя чести',\n",
       " 'вода в руке',\n",
       " 'воды слонам! /по произведению сары груэн/',\n",
       " 'водяная',\n",
       " 'вождь разнокожих',\n",
       " 'возврата нет',\n",
       " 'возвращение буратино',\n",
       " 'возвращение буратино 3d',\n",
       " 'возвращение в \"а\"',\n",
       " 'возвращение в бургундию',\n",
       " 'возвращение в простоквашино часть 2 из анимационного сериала \"простоквашино\"',\n",
       " 'возвращение василия бортникова',\n",
       " 'возвращение героя',\n",
       " 'возвращение саввы',\n",
       " 'возвращение супермена',\n",
       " 'воздушный маршал',\n",
       " 'возлюбленные',\n",
       " 'возмездие',\n",
       " 'возмещение ущерба',\n",
       " 'возмутитель спокойствия',\n",
       " 'возьми меня штурмом',\n",
       " 'воин (2015)',\n",
       " 'воинcom',\n",
       " 'воины света',\n",
       " 'вой банши',\n",
       " 'война',\n",
       " 'война (2016)',\n",
       " 'война анны',\n",
       " 'война богов: бессмертные 3d',\n",
       " 'война драконов',\n",
       " 'война миров z',\n",
       " 'война полов',\n",
       " 'война против всех',\n",
       " ...]"
      ]
     },
     "execution_count": 34,
     "metadata": {},
     "output_type": "execute_result"
    }
   ],
   "source": [
    "data = data.replace({'title':{'300 спартанцев: Расцвет империи /По произведению Фрэнка Миллера \"Ксеркс\"/.' : '300 спартанцев: Расцвет империи /По произведению Фрэнка Миллера \"Ксеркс\"/'}})\n",
    "data = data.replace({'title':{'Адъютант его превосходительства.' : 'Адъютант его превосходительства'}})\n",
    "data = data.replace({'title':{'Алиса знает, что делать! Серия \"Зеленая месть\"' : 'Алиса знает, что делать! Зеленая месть'}})\n",
    "data = data.replace({'title':{'Ангел _' : 'Ангел'}})\n",
    "data = data.replace({'title':{'Ангел-хранитель._' : 'Ангел-хранитель.'}})\n",
    "data = data.replace({'title':{'Астрал. Глава вторая' : 'Астрал. Глава 2'}})\n",
    "data = data.replace({'title':{'большая игра / big game' : 'большая игра'}})\n",
    "data = data.replace({'title':{'больше, чем любовь_' : 'больше, чем любовь.'}})\n",
    "data = data.replace({'title':{'в поисках немо_' : 'в поисках немо.'}})\n",
    "data['title'] = data['title'].str.replace('_' , '')\n",
    "data['title'] = data['title'].str.replace('-' , '')\n",
    "data['title'] = data['title'].str.replace('.' , '')\n",
    "data['title'] = data['title'].str.strip()\n",
    "sorted(data['title'].unique())"
   ]
  },
  {
   "cell_type": "code",
   "execution_count": 35,
   "metadata": {
    "scrolled": true
   },
   "outputs": [
    {
     "data": {
      "text/html": [
       "<div>\n",
       "<style scoped>\n",
       "    .dataframe tbody tr th:only-of-type {\n",
       "        vertical-align: middle;\n",
       "    }\n",
       "\n",
       "    .dataframe tbody tr th {\n",
       "        vertical-align: top;\n",
       "    }\n",
       "\n",
       "    .dataframe thead th {\n",
       "        text-align: right;\n",
       "    }\n",
       "</style>\n",
       "<table border=\"1\" class=\"dataframe\">\n",
       "  <thead>\n",
       "    <tr style=\"text-align: right;\">\n",
       "      <th></th>\n",
       "      <th>title</th>\n",
       "      <th>puNumber</th>\n",
       "      <th>show_start_date</th>\n",
       "      <th>type</th>\n",
       "      <th>film_studio</th>\n",
       "      <th>production_country</th>\n",
       "      <th>director</th>\n",
       "      <th>producer</th>\n",
       "      <th>age_restriction</th>\n",
       "      <th>refundable_support</th>\n",
       "      <th>nonrefundable_support</th>\n",
       "      <th>budget</th>\n",
       "      <th>financing_source</th>\n",
       "      <th>ratings</th>\n",
       "      <th>genres</th>\n",
       "      <th>box_office</th>\n",
       "    </tr>\n",
       "  </thead>\n",
       "  <tbody>\n",
       "    <tr>\n",
       "      <th>779</th>\n",
       "      <td>10 лет спустя</td>\n",
       "      <td>221002813</td>\n",
       "      <td>2013-01-15 12:00:00+00:00</td>\n",
       "      <td>Художественный</td>\n",
       "      <td>Энчо Бай Филмз, Босс Медиа, Темпл Хилл Интерте...</td>\n",
       "      <td>США</td>\n",
       "      <td>Джеми Линден</td>\n",
       "      <td>Марти Бауэн, Вик Годфри, Рейд Каролин, Ченнинг...</td>\n",
       "      <td>«16+» - для детей старше 16 лет</td>\n",
       "      <td>0.00</td>\n",
       "      <td>0.00</td>\n",
       "      <td>0.00</td>\n",
       "      <td>без поддержки</td>\n",
       "      <td>6.00</td>\n",
       "      <td>драма,мелодрама,комедия</td>\n",
       "      <td>0.00</td>\n",
       "    </tr>\n",
       "    <tr>\n",
       "      <th>778</th>\n",
       "      <td>10 лет спустя</td>\n",
       "      <td>121030812</td>\n",
       "      <td>2012-12-13 12:00:00+00:00</td>\n",
       "      <td>Художественный</td>\n",
       "      <td>Энчо Бай Филмз, Босс Медиа, Темпл Хилл Интерте...</td>\n",
       "      <td>США</td>\n",
       "      <td>Джеми Линден</td>\n",
       "      <td>Марти Бауэн, Вик Годфри, Рейд Каролин, Ченнинг...</td>\n",
       "      <td>«16+» - для детей старше 16 лет</td>\n",
       "      <td>0.00</td>\n",
       "      <td>0.00</td>\n",
       "      <td>0.00</td>\n",
       "      <td>без поддержки</td>\n",
       "      <td>6.00</td>\n",
       "      <td>драма,мелодрама,комедия</td>\n",
       "      <td>0.00</td>\n",
       "    </tr>\n",
       "    <tr>\n",
       "      <th>455</th>\n",
       "      <td>100 миллионов евро</td>\n",
       "      <td>121013712</td>\n",
       "      <td>2012-06-06 12:00:00+00:00</td>\n",
       "      <td>Художественный</td>\n",
       "      <td>Патэ, Эсквуд, Серенити Фильм, ТФ1 Фильм Продюк...</td>\n",
       "      <td>Франция</td>\n",
       "      <td>Оливер Барру</td>\n",
       "      <td>Ричард Грандпьерр</td>\n",
       "      <td>«16+» - для детей старше 16 лет</td>\n",
       "      <td>0.00</td>\n",
       "      <td>0.00</td>\n",
       "      <td>0.00</td>\n",
       "      <td>без поддержки</td>\n",
       "      <td>6.10</td>\n",
       "      <td>комедия</td>\n",
       "      <td>0.00</td>\n",
       "    </tr>\n",
       "    <tr>\n",
       "      <th>454</th>\n",
       "      <td>100 миллионов евро</td>\n",
       "      <td>221024616</td>\n",
       "      <td>2016-05-25 12:00:00+00:00</td>\n",
       "      <td>Художественный</td>\n",
       "      <td>Патэ, Эсквуд, Серенити Фильм, ТФ1 Фильм Продюк...</td>\n",
       "      <td>Франция</td>\n",
       "      <td>Оливер Барру</td>\n",
       "      <td>Ричард Грандпьерр</td>\n",
       "      <td>«16+» - для детей старше 16 лет</td>\n",
       "      <td>0.00</td>\n",
       "      <td>0.00</td>\n",
       "      <td>0.00</td>\n",
       "      <td>без поддержки</td>\n",
       "      <td>6.10</td>\n",
       "      <td>комедия</td>\n",
       "      <td>0.00</td>\n",
       "    </tr>\n",
       "    <tr>\n",
       "      <th>5058</th>\n",
       "      <td>127 часов</td>\n",
       "      <td>221069011</td>\n",
       "      <td>2011-05-18 12:00:00+00:00</td>\n",
       "      <td>Художественный</td>\n",
       "      <td>Фокс Серчлайт Пикчерз, Клод Эйт Филмз, Филм Фо...</td>\n",
       "      <td>США - Великобритания</td>\n",
       "      <td>Дэнни Бойл</td>\n",
       "      <td>Бернард Беллью, Тесса Росс, Гаррет Смит</td>\n",
       "      <td>«16+» - для детей старше 16 лет</td>\n",
       "      <td>0.00</td>\n",
       "      <td>0.00</td>\n",
       "      <td>0.00</td>\n",
       "      <td>без поддержки</td>\n",
       "      <td>7.70</td>\n",
       "      <td>триллер,биография,драма</td>\n",
       "      <td>0.00</td>\n",
       "    </tr>\n",
       "    <tr>\n",
       "      <th>...</th>\n",
       "      <td>...</td>\n",
       "      <td>...</td>\n",
       "      <td>...</td>\n",
       "      <td>...</td>\n",
       "      <td>...</td>\n",
       "      <td>...</td>\n",
       "      <td>...</td>\n",
       "      <td>...</td>\n",
       "      <td>...</td>\n",
       "      <td>...</td>\n",
       "      <td>...</td>\n",
       "      <td>...</td>\n",
       "      <td>...</td>\n",
       "      <td>...</td>\n",
       "      <td>...</td>\n",
       "      <td>...</td>\n",
       "    </tr>\n",
       "    <tr>\n",
       "      <th>4505</th>\n",
       "      <td>я ненавижу день святого валентина</td>\n",
       "      <td>221139210</td>\n",
       "      <td>2010-12-03 12:00:00+00:00</td>\n",
       "      <td>Художественный</td>\n",
       "      <td>Блю Стар Пикчерз, Ай Хэйт Вдэй Продакшнз, Ай С...</td>\n",
       "      <td>США</td>\n",
       "      <td>Ниа Вардалос</td>\n",
       "      <td>Доминик Йанно, Мэдлейн Шерак, Уильям Шерак</td>\n",
       "      <td>«16+» - для детей старше 16 лет</td>\n",
       "      <td>0.00</td>\n",
       "      <td>0.00</td>\n",
       "      <td>0.00</td>\n",
       "      <td>без поддержки</td>\n",
       "      <td>5.00</td>\n",
       "      <td>мелодрама,комедия</td>\n",
       "      <td>0.00</td>\n",
       "    </tr>\n",
       "    <tr>\n",
       "      <th>1703</th>\n",
       "      <td>я, снова я и мама</td>\n",
       "      <td>121013116</td>\n",
       "      <td>2016-05-23 12:00:00+00:00</td>\n",
       "      <td>Художественный</td>\n",
       "      <td>Гомон, Эль Джи Эм Продакшнз, Ректанль Продюксь...</td>\n",
       "      <td>Франция - Бельгия</td>\n",
       "      <td>Гийом Гальенн</td>\n",
       "      <td>Жан-Батист Дюпон, Алис Жирар, Сирил Кольбо-Жюстен</td>\n",
       "      <td>«16+» - для детей старше 16 лет</td>\n",
       "      <td>0.00</td>\n",
       "      <td>0.00</td>\n",
       "      <td>0.00</td>\n",
       "      <td>без поддержки</td>\n",
       "      <td>6.30</td>\n",
       "      <td>комедия,мелодрама,драма</td>\n",
       "      <td>0.00</td>\n",
       "    </tr>\n",
       "    <tr>\n",
       "      <th>1704</th>\n",
       "      <td>я, снова я и мама</td>\n",
       "      <td>121030213</td>\n",
       "      <td>2013-11-21 12:00:00+00:00</td>\n",
       "      <td>Художественный</td>\n",
       "      <td>Гомон, Эль Джи Эм Продакшнз, Ректанль Продюксь...</td>\n",
       "      <td>Франция - Бельгия</td>\n",
       "      <td>Гийом Гальенн</td>\n",
       "      <td>Жан-Батист Дюпон, Алис Жирар, Сирил Кольбо-Жюстен</td>\n",
       "      <td>«16+» - для детей старше 16 лет</td>\n",
       "      <td>0.00</td>\n",
       "      <td>0.00</td>\n",
       "      <td>0.00</td>\n",
       "      <td>без поддержки</td>\n",
       "      <td>6.30</td>\n",
       "      <td>комедия,мелодрама,драма</td>\n",
       "      <td>0.00</td>\n",
       "    </tr>\n",
       "    <tr>\n",
       "      <th>6379</th>\n",
       "      <td>ян антонышев</td>\n",
       "      <td>112011818</td>\n",
       "      <td>2018-11-15 12:00:00+00:00</td>\n",
       "      <td>Документальный</td>\n",
       "      <td>NaN</td>\n",
       "      <td>Россия</td>\n",
       "      <td>Е.Окопная</td>\n",
       "      <td>Е.Герасимов</td>\n",
       "      <td>«12+» - для детей старше 12 лет</td>\n",
       "      <td>0.00</td>\n",
       "      <td>0.00</td>\n",
       "      <td>0.00</td>\n",
       "      <td>без поддержки</td>\n",
       "      <td>NaN</td>\n",
       "      <td>NaN</td>\n",
       "      <td>0.00</td>\n",
       "    </tr>\n",
       "    <tr>\n",
       "      <th>6380</th>\n",
       "      <td>ян антонышев</td>\n",
       "      <td>112011918</td>\n",
       "      <td>2018-11-15 12:00:00+00:00</td>\n",
       "      <td>Документальный</td>\n",
       "      <td>NaN</td>\n",
       "      <td>Россия</td>\n",
       "      <td>Е.Окопная</td>\n",
       "      <td>Е.Герасимов</td>\n",
       "      <td>«12+» - для детей старше 12 лет</td>\n",
       "      <td>0.00</td>\n",
       "      <td>0.00</td>\n",
       "      <td>0.00</td>\n",
       "      <td>без поддержки</td>\n",
       "      <td>NaN</td>\n",
       "      <td>NaN</td>\n",
       "      <td>0.00</td>\n",
       "    </tr>\n",
       "  </tbody>\n",
       "</table>\n",
       "<p>1473 rows × 16 columns</p>\n",
       "</div>"
      ],
      "text/plain": [
       "                                  title   puNumber           show_start_date  \\\n",
       "779                       10 лет спустя  221002813 2013-01-15 12:00:00+00:00   \n",
       "778                       10 лет спустя  121030812 2012-12-13 12:00:00+00:00   \n",
       "455                  100 миллионов евро  121013712 2012-06-06 12:00:00+00:00   \n",
       "454                  100 миллионов евро  221024616 2016-05-25 12:00:00+00:00   \n",
       "5058                          127 часов  221069011 2011-05-18 12:00:00+00:00   \n",
       "...                                 ...        ...                       ...   \n",
       "4505  я ненавижу день святого валентина  221139210 2010-12-03 12:00:00+00:00   \n",
       "1703                  я, снова я и мама  121013116 2016-05-23 12:00:00+00:00   \n",
       "1704                  я, снова я и мама  121030213 2013-11-21 12:00:00+00:00   \n",
       "6379                       ян антонышев  112011818 2018-11-15 12:00:00+00:00   \n",
       "6380                       ян антонышев  112011918 2018-11-15 12:00:00+00:00   \n",
       "\n",
       "                type                                        film_studio  \\\n",
       "779   Художественный  Энчо Бай Филмз, Босс Медиа, Темпл Хилл Интерте...   \n",
       "778   Художественный  Энчо Бай Филмз, Босс Медиа, Темпл Хилл Интерте...   \n",
       "455   Художественный  Патэ, Эсквуд, Серенити Фильм, ТФ1 Фильм Продюк...   \n",
       "454   Художественный  Патэ, Эсквуд, Серенити Фильм, ТФ1 Фильм Продюк...   \n",
       "5058  Художественный  Фокс Серчлайт Пикчерз, Клод Эйт Филмз, Филм Фо...   \n",
       "...              ...                                                ...   \n",
       "4505  Художественный  Блю Стар Пикчерз, Ай Хэйт Вдэй Продакшнз, Ай С...   \n",
       "1703  Художественный  Гомон, Эль Джи Эм Продакшнз, Ректанль Продюксь...   \n",
       "1704  Художественный  Гомон, Эль Джи Эм Продакшнз, Ректанль Продюксь...   \n",
       "6379  Документальный                                                NaN   \n",
       "6380  Документальный                                                NaN   \n",
       "\n",
       "        production_country       director  \\\n",
       "779                    США   Джеми Линден   \n",
       "778                    США   Джеми Линден   \n",
       "455                Франция   Оливер Барру   \n",
       "454                Франция   Оливер Барру   \n",
       "5058  США - Великобритания     Дэнни Бойл   \n",
       "...                    ...            ...   \n",
       "4505                   США   Ниа Вардалос   \n",
       "1703     Франция - Бельгия  Гийом Гальенн   \n",
       "1704     Франция - Бельгия  Гийом Гальенн   \n",
       "6379                Россия      Е.Окопная   \n",
       "6380                Россия      Е.Окопная   \n",
       "\n",
       "                                               producer  \\\n",
       "779   Марти Бауэн, Вик Годфри, Рейд Каролин, Ченнинг...   \n",
       "778   Марти Бауэн, Вик Годфри, Рейд Каролин, Ченнинг...   \n",
       "455                                   Ричард Грандпьерр   \n",
       "454                                   Ричард Грандпьерр   \n",
       "5058            Бернард Беллью, Тесса Росс, Гаррет Смит   \n",
       "...                                                 ...   \n",
       "4505         Доминик Йанно, Мэдлейн Шерак, Уильям Шерак   \n",
       "1703  Жан-Батист Дюпон, Алис Жирар, Сирил Кольбо-Жюстен   \n",
       "1704  Жан-Батист Дюпон, Алис Жирар, Сирил Кольбо-Жюстен   \n",
       "6379                                        Е.Герасимов   \n",
       "6380                                        Е.Герасимов   \n",
       "\n",
       "                      age_restriction  refundable_support  \\\n",
       "779   «16+» - для детей старше 16 лет                0.00   \n",
       "778   «16+» - для детей старше 16 лет                0.00   \n",
       "455   «16+» - для детей старше 16 лет                0.00   \n",
       "454   «16+» - для детей старше 16 лет                0.00   \n",
       "5058  «16+» - для детей старше 16 лет                0.00   \n",
       "...                               ...                 ...   \n",
       "4505  «16+» - для детей старше 16 лет                0.00   \n",
       "1703  «16+» - для детей старше 16 лет                0.00   \n",
       "1704  «16+» - для детей старше 16 лет                0.00   \n",
       "6379  «12+» - для детей старше 12 лет                0.00   \n",
       "6380  «12+» - для детей старше 12 лет                0.00   \n",
       "\n",
       "      nonrefundable_support  budget financing_source  ratings  \\\n",
       "779                    0.00    0.00    без поддержки     6.00   \n",
       "778                    0.00    0.00    без поддержки     6.00   \n",
       "455                    0.00    0.00    без поддержки     6.10   \n",
       "454                    0.00    0.00    без поддержки     6.10   \n",
       "5058                   0.00    0.00    без поддержки     7.70   \n",
       "...                     ...     ...              ...      ...   \n",
       "4505                   0.00    0.00    без поддержки     5.00   \n",
       "1703                   0.00    0.00    без поддержки     6.30   \n",
       "1704                   0.00    0.00    без поддержки     6.30   \n",
       "6379                   0.00    0.00    без поддержки      NaN   \n",
       "6380                   0.00    0.00    без поддержки      NaN   \n",
       "\n",
       "                       genres  box_office  \n",
       "779   драма,мелодрама,комедия        0.00  \n",
       "778   драма,мелодрама,комедия        0.00  \n",
       "455                   комедия        0.00  \n",
       "454                   комедия        0.00  \n",
       "5058  триллер,биография,драма        0.00  \n",
       "...                       ...         ...  \n",
       "4505        мелодрама,комедия        0.00  \n",
       "1703  комедия,мелодрама,драма        0.00  \n",
       "1704  комедия,мелодрама,драма        0.00  \n",
       "6379                      NaN        0.00  \n",
       "6380                      NaN        0.00  \n",
       "\n",
       "[1473 rows x 16 columns]"
      ]
     },
     "execution_count": 35,
     "metadata": {},
     "output_type": "execute_result"
    }
   ],
   "source": [
    "# Посмиорим на дубликаты в названии\n",
    "data[data['title'].duplicated(keep=False)].sort_values(by = 'title')"
   ]
  },
  {
   "cell_type": "markdown",
   "metadata": {},
   "source": [
    "###### Наблюдаем множество дублей в названии фильма с разными прокатными удостоверениями. Не понятно почему так. Попробуем отфильтровать по совпадениям названия и прокатного удостоверения."
   ]
  },
  {
   "cell_type": "code",
   "execution_count": 36,
   "metadata": {},
   "outputs": [
    {
     "data": {
      "text/html": [
       "<div>\n",
       "<style scoped>\n",
       "    .dataframe tbody tr th:only-of-type {\n",
       "        vertical-align: middle;\n",
       "    }\n",
       "\n",
       "    .dataframe tbody tr th {\n",
       "        vertical-align: top;\n",
       "    }\n",
       "\n",
       "    .dataframe thead th {\n",
       "        text-align: right;\n",
       "    }\n",
       "</style>\n",
       "<table border=\"1\" class=\"dataframe\">\n",
       "  <thead>\n",
       "    <tr style=\"text-align: right;\">\n",
       "      <th></th>\n",
       "      <th>title</th>\n",
       "      <th>puNumber</th>\n",
       "      <th>show_start_date</th>\n",
       "      <th>type</th>\n",
       "      <th>film_studio</th>\n",
       "      <th>production_country</th>\n",
       "      <th>director</th>\n",
       "      <th>producer</th>\n",
       "      <th>age_restriction</th>\n",
       "      <th>refundable_support</th>\n",
       "      <th>nonrefundable_support</th>\n",
       "      <th>budget</th>\n",
       "      <th>financing_source</th>\n",
       "      <th>ratings</th>\n",
       "      <th>genres</th>\n",
       "      <th>box_office</th>\n",
       "    </tr>\n",
       "  </thead>\n",
       "  <tbody>\n",
       "    <tr>\n",
       "      <th>4638</th>\n",
       "      <td>как жениться и остаться холостым</td>\n",
       "      <td>221154310</td>\n",
       "      <td>2010-12-17 12:00:00+00:00</td>\n",
       "      <td>Художественный</td>\n",
       "      <td>Ше Вам, Скрипт Ассосье, Тэ Фэ 1 Фильм Продюксь...</td>\n",
       "      <td>Франция</td>\n",
       "      <td>Эрик Лартиго</td>\n",
       "      <td>Амандин Било, Алан Шаба</td>\n",
       "      <td>«16+» - для детей старше 16 лет</td>\n",
       "      <td>0.00</td>\n",
       "      <td>0.00</td>\n",
       "      <td>0.00</td>\n",
       "      <td>без поддержки</td>\n",
       "      <td>7.00</td>\n",
       "      <td>мелодрама,комедия</td>\n",
       "      <td>0.00</td>\n",
       "    </tr>\n",
       "    <tr>\n",
       "      <th>4639</th>\n",
       "      <td>иоанна  женщина на папском престоле /по роману...</td>\n",
       "      <td>221154310</td>\n",
       "      <td>2010-12-17 12:00:00+00:00</td>\n",
       "      <td>Художественный</td>\n",
       "      <td>Константин Фильм, А Эр Ди Дегето Фильм, Дюне Ф...</td>\n",
       "      <td>Германия - Великобритания - Италия - Испания</td>\n",
       "      <td>Зенке Вортманн</td>\n",
       "      <td>Оливер Бербен, Дорис Д.Хайнце, Фарук Элтан</td>\n",
       "      <td>«16+» - для детей старше 16 лет</td>\n",
       "      <td>0.00</td>\n",
       "      <td>0.00</td>\n",
       "      <td>0.00</td>\n",
       "      <td>без поддержки</td>\n",
       "      <td>7.60</td>\n",
       "      <td>драма,мелодрама,история</td>\n",
       "      <td>0.00</td>\n",
       "    </tr>\n",
       "    <tr>\n",
       "      <th>5067</th>\n",
       "      <td>анализируй это!</td>\n",
       "      <td>221054410</td>\n",
       "      <td>2010-05-25 12:00:00+00:00</td>\n",
       "      <td>Художественный</td>\n",
       "      <td>Уорнер Бразерс, Вилладж Роудшоу Филмз ЛТД</td>\n",
       "      <td>США-Австралия</td>\n",
       "      <td>ХЭрольд Рэмис</td>\n",
       "      <td>Джейн Розенталь, Пола Уейнстейн</td>\n",
       "      <td>«16+» - для детей старше 16 лет</td>\n",
       "      <td>0.00</td>\n",
       "      <td>0.00</td>\n",
       "      <td>0.00</td>\n",
       "      <td>без поддержки</td>\n",
       "      <td>7.40</td>\n",
       "      <td>комедия,криминал</td>\n",
       "      <td>0.00</td>\n",
       "    </tr>\n",
       "  </tbody>\n",
       "</table>\n",
       "</div>"
      ],
      "text/plain": [
       "                                                  title   puNumber  \\\n",
       "4638                   как жениться и остаться холостым  221154310   \n",
       "4639  иоанна  женщина на папском престоле /по роману...  221154310   \n",
       "5067                                    анализируй это!  221054410   \n",
       "\n",
       "               show_start_date            type  \\\n",
       "4638 2010-12-17 12:00:00+00:00  Художественный   \n",
       "4639 2010-12-17 12:00:00+00:00  Художественный   \n",
       "5067 2010-05-25 12:00:00+00:00  Художественный   \n",
       "\n",
       "                                            film_studio  \\\n",
       "4638  Ше Вам, Скрипт Ассосье, Тэ Фэ 1 Фильм Продюксь...   \n",
       "4639  Константин Фильм, А Эр Ди Дегето Фильм, Дюне Ф...   \n",
       "5067          Уорнер Бразерс, Вилладж Роудшоу Филмз ЛТД   \n",
       "\n",
       "                                production_country        director  \\\n",
       "4638                                       Франция    Эрик Лартиго   \n",
       "4639  Германия - Великобритания - Италия - Испания  Зенке Вортманн   \n",
       "5067                                 США-Австралия   ХЭрольд Рэмис   \n",
       "\n",
       "                                        producer  \\\n",
       "4638                     Амандин Било, Алан Шаба   \n",
       "4639  Оливер Бербен, Дорис Д.Хайнце, Фарук Элтан   \n",
       "5067             Джейн Розенталь, Пола Уейнстейн   \n",
       "\n",
       "                      age_restriction  refundable_support  \\\n",
       "4638  «16+» - для детей старше 16 лет                0.00   \n",
       "4639  «16+» - для детей старше 16 лет                0.00   \n",
       "5067  «16+» - для детей старше 16 лет                0.00   \n",
       "\n",
       "      nonrefundable_support  budget financing_source  ratings  \\\n",
       "4638                   0.00    0.00    без поддержки     7.00   \n",
       "4639                   0.00    0.00    без поддержки     7.60   \n",
       "5067                   0.00    0.00    без поддержки     7.40   \n",
       "\n",
       "                       genres  box_office  \n",
       "4638        мелодрама,комедия        0.00  \n",
       "4639  драма,мелодрама,история        0.00  \n",
       "5067         комедия,криминал        0.00  "
      ]
     },
     "execution_count": 36,
     "metadata": {},
     "output_type": "execute_result"
    }
   ],
   "source": [
    "#data.loc[data['puNumber'].duplicated(keep=False)].sort_values(by = 'title')\n",
    "data[(data['title'].duplicated(keep=False)) & (data['puNumber'].duplicated(keep=False))]"
   ]
  },
  {
   "cell_type": "code",
   "execution_count": 37,
   "metadata": {},
   "outputs": [
    {
     "data": {
      "text/html": [
       "<div>\n",
       "<style scoped>\n",
       "    .dataframe tbody tr th:only-of-type {\n",
       "        vertical-align: middle;\n",
       "    }\n",
       "\n",
       "    .dataframe tbody tr th {\n",
       "        vertical-align: top;\n",
       "    }\n",
       "\n",
       "    .dataframe thead th {\n",
       "        text-align: right;\n",
       "    }\n",
       "</style>\n",
       "<table border=\"1\" class=\"dataframe\">\n",
       "  <thead>\n",
       "    <tr style=\"text-align: right;\">\n",
       "      <th></th>\n",
       "      <th>title</th>\n",
       "      <th>puNumber</th>\n",
       "      <th>show_start_date</th>\n",
       "      <th>type</th>\n",
       "      <th>film_studio</th>\n",
       "      <th>production_country</th>\n",
       "      <th>director</th>\n",
       "      <th>producer</th>\n",
       "      <th>age_restriction</th>\n",
       "      <th>refundable_support</th>\n",
       "      <th>nonrefundable_support</th>\n",
       "      <th>budget</th>\n",
       "      <th>financing_source</th>\n",
       "      <th>ratings</th>\n",
       "      <th>genres</th>\n",
       "      <th>box_office</th>\n",
       "    </tr>\n",
       "  </thead>\n",
       "  <tbody>\n",
       "    <tr>\n",
       "      <th>3130</th>\n",
       "      <td>13 часов: тайные солдаты бенгази</td>\n",
       "      <td>121001016</td>\n",
       "      <td>2016-01-15 12:00:00+00:00</td>\n",
       "      <td>Художественный</td>\n",
       "      <td>Парамаунт, Дан Филмз, Латина Пикчарз,3 Арт Инт...</td>\n",
       "      <td>США</td>\n",
       "      <td>Майкл Бэй</td>\n",
       "      <td>Майкл Бэй, Эрвин Стофф</td>\n",
       "      <td>«18+» - запрещено для детей</td>\n",
       "      <td>0.00</td>\n",
       "      <td>0.00</td>\n",
       "      <td>0.00</td>\n",
       "      <td>без поддержки</td>\n",
       "      <td>6.70</td>\n",
       "      <td>боевик,триллер,драма</td>\n",
       "      <td>18439240.55</td>\n",
       "    </tr>\n",
       "    <tr>\n",
       "      <th>1494</th>\n",
       "      <td>13й район: кирпичные особняки</td>\n",
       "      <td>121008314</td>\n",
       "      <td>2014-04-25 12:00:00+00:00</td>\n",
       "      <td>Художественный</td>\n",
       "      <td>Брик Мэншэнс Продакшнз,Синэ+ Канал+, Д8, Европ...</td>\n",
       "      <td>Франция-Канада</td>\n",
       "      <td>Камиль Деламарр</td>\n",
       "      <td>Люк Бессон, Клод Леже, Джонатан Вэнджер</td>\n",
       "      <td>«16+» - для детей старше 16 лет</td>\n",
       "      <td>0.00</td>\n",
       "      <td>0.00</td>\n",
       "      <td>0.00</td>\n",
       "      <td>без поддержки</td>\n",
       "      <td>5.50</td>\n",
       "      <td>боевик,криминал</td>\n",
       "      <td>750.00</td>\n",
       "    </tr>\n",
       "    <tr>\n",
       "      <th>1481</th>\n",
       "      <td>weekend  (уикэнд)</td>\n",
       "      <td>111014713</td>\n",
       "      <td>2013-12-24 12:00:00+00:00</td>\n",
       "      <td>Художественный</td>\n",
       "      <td>ООО \"Киностудия \"ВЕРТИКАЛЬ\"</td>\n",
       "      <td>Россия</td>\n",
       "      <td>С.Говорухин</td>\n",
       "      <td>С.Говорухин, Е.Маскина</td>\n",
       "      <td>«18+» - запрещено для детей</td>\n",
       "      <td>0.00</td>\n",
       "      <td>0.00</td>\n",
       "      <td>0.00</td>\n",
       "      <td>без поддержки</td>\n",
       "      <td>7.40</td>\n",
       "      <td>мелодрама</td>\n",
       "      <td>7755.00</td>\n",
       "    </tr>\n",
       "    <tr>\n",
       "      <th>1984</th>\n",
       "      <td>weekend  (уикэнд)</td>\n",
       "      <td>111008914</td>\n",
       "      <td>2014-08-13 12:00:00+00:00</td>\n",
       "      <td>Художественный</td>\n",
       "      <td>ООО \"Киностудия \"ВЕРТИКАЛЬ\"</td>\n",
       "      <td>Россия</td>\n",
       "      <td>С.Говорухин</td>\n",
       "      <td>С.Говорухин, Е.Маскина</td>\n",
       "      <td>«16+» - для детей старше 16 лет</td>\n",
       "      <td>0.00</td>\n",
       "      <td>0.00</td>\n",
       "      <td>0.00</td>\n",
       "      <td>без поддержки</td>\n",
       "      <td>7.40</td>\n",
       "      <td>мелодрама</td>\n",
       "      <td>38044.00</td>\n",
       "    </tr>\n",
       "    <tr>\n",
       "      <th>3924</th>\n",
       "      <td>аватар</td>\n",
       "      <td>121008910</td>\n",
       "      <td>2010-05-12 12:00:00+00:00</td>\n",
       "      <td>Художественный</td>\n",
       "      <td>ХХ век Фокс, Дан Интертейнмент, Гиант Студиос,...</td>\n",
       "      <td>США</td>\n",
       "      <td>Джеймс Кэмерон</td>\n",
       "      <td>Брук Бретон, Джеймс Кэмерон, Джон Лондау</td>\n",
       "      <td>«16+» - для детей старше 16 лет</td>\n",
       "      <td>0.00</td>\n",
       "      <td>0.00</td>\n",
       "      <td>0.00</td>\n",
       "      <td>без поддержки</td>\n",
       "      <td>7.90</td>\n",
       "      <td>фантастика,боевик,драма</td>\n",
       "      <td>6950.00</td>\n",
       "    </tr>\n",
       "    <tr>\n",
       "      <th>...</th>\n",
       "      <td>...</td>\n",
       "      <td>...</td>\n",
       "      <td>...</td>\n",
       "      <td>...</td>\n",
       "      <td>...</td>\n",
       "      <td>...</td>\n",
       "      <td>...</td>\n",
       "      <td>...</td>\n",
       "      <td>...</td>\n",
       "      <td>...</td>\n",
       "      <td>...</td>\n",
       "      <td>...</td>\n",
       "      <td>...</td>\n",
       "      <td>...</td>\n",
       "      <td>...</td>\n",
       "      <td>...</td>\n",
       "    </tr>\n",
       "    <tr>\n",
       "      <th>2289</th>\n",
       "      <td>эксперимент: зло</td>\n",
       "      <td>221021314</td>\n",
       "      <td>2014-07-08 12:00:00+00:00</td>\n",
       "      <td>Художественный</td>\n",
       "      <td>Эксклюзив Медиа, Хаммер Филм Продакшнз, Трэвил...</td>\n",
       "      <td>США - Великобритания</td>\n",
       "      <td>Джон Пог</td>\n",
       "      <td>Тобин Армруст, Джеймс ГейРис, Саймон Оукс, Бен...</td>\n",
       "      <td>«16+» - для детей старше 16 лет</td>\n",
       "      <td>0.00</td>\n",
       "      <td>0.00</td>\n",
       "      <td>0.00</td>\n",
       "      <td>без поддержки</td>\n",
       "      <td>4.70</td>\n",
       "      <td>ужасы,триллер,детектив</td>\n",
       "      <td>1030.00</td>\n",
       "    </tr>\n",
       "    <tr>\n",
       "      <th>3175</th>\n",
       "      <td>элвин и бурундуки: грандиозное бурундуключение</td>\n",
       "      <td>121026415</td>\n",
       "      <td>2015-12-30 12:00:00+00:00</td>\n",
       "      <td>Художественный</td>\n",
       "      <td>Фокс 2000, Ридженси Энтерпрайзис, Багдасарян П...</td>\n",
       "      <td>США</td>\n",
       "      <td>Уолт Бекер</td>\n",
       "      <td>Росс Багдасарян младший, Дженис Карман</td>\n",
       "      <td>«6+» - для детей старше 6 лет</td>\n",
       "      <td>0.00</td>\n",
       "      <td>0.00</td>\n",
       "      <td>0.00</td>\n",
       "      <td>без поддержки</td>\n",
       "      <td>5.80</td>\n",
       "      <td>семейный,комедия,музыка</td>\n",
       "      <td>216000243.90</td>\n",
       "    </tr>\n",
       "    <tr>\n",
       "      <th>1812</th>\n",
       "      <td>этим утром в ньюйорке</td>\n",
       "      <td>121009614</td>\n",
       "      <td>2014-05-21 12:00:00+00:00</td>\n",
       "      <td>Художественный</td>\n",
       "      <td>Лэндскейп Интертейнмент, Форс Мажор, Проминент...</td>\n",
       "      <td>США</td>\n",
       "      <td>Фил Олден Робинсон</td>\n",
       "      <td>Боб Купер, Тайлер Митчелл, Дэниэл Дж. Уолкер</td>\n",
       "      <td>«12+» - для детей старше 12 лет</td>\n",
       "      <td>0.00</td>\n",
       "      <td>0.00</td>\n",
       "      <td>0.00</td>\n",
       "      <td>без поддержки</td>\n",
       "      <td>6.20</td>\n",
       "      <td>драма,комедия</td>\n",
       "      <td>360.00</td>\n",
       "    </tr>\n",
       "    <tr>\n",
       "      <th>1811</th>\n",
       "      <td>этим утром в ньюйорке</td>\n",
       "      <td>221033214</td>\n",
       "      <td>2014-08-20 12:00:00+00:00</td>\n",
       "      <td>Художественный</td>\n",
       "      <td>Лэндскейп Интертейнмент, Форс Мажор, Проминент...</td>\n",
       "      <td>США</td>\n",
       "      <td>Фил Олден Робинсон</td>\n",
       "      <td>Боб Купер, Тайлер Митчелл, Дэниэл Дж. Уолкер</td>\n",
       "      <td>«12+» - для детей старше 12 лет</td>\n",
       "      <td>0.00</td>\n",
       "      <td>0.00</td>\n",
       "      <td>0.00</td>\n",
       "      <td>без поддержки</td>\n",
       "      <td>6.20</td>\n",
       "      <td>драма,комедия</td>\n",
       "      <td>1090.00</td>\n",
       "    </tr>\n",
       "    <tr>\n",
       "      <th>2621</th>\n",
       "      <td>этот неловкий момент</td>\n",
       "      <td>121013615</td>\n",
       "      <td>2015-07-07 12:00:00+00:00</td>\n",
       "      <td>Художественный</td>\n",
       "      <td>Антр Шьен э Люп, Ля Пти Рейн</td>\n",
       "      <td>Франция</td>\n",
       "      <td>Жан-Франсуа Рише</td>\n",
       "      <td>Себастьян Деллуа, Дэниэл Делюм, Тома Лангманн</td>\n",
       "      <td>«16+» - для детей старше 16 лет</td>\n",
       "      <td>0.00</td>\n",
       "      <td>0.00</td>\n",
       "      <td>0.00</td>\n",
       "      <td>без поддержки</td>\n",
       "      <td>6.30</td>\n",
       "      <td>мелодрама,комедия</td>\n",
       "      <td>63238149.90</td>\n",
       "    </tr>\n",
       "  </tbody>\n",
       "</table>\n",
       "<p>312 rows × 16 columns</p>\n",
       "</div>"
      ],
      "text/plain": [
       "                                               title   puNumber  \\\n",
       "3130                13 часов: тайные солдаты бенгази  121001016   \n",
       "1494                   13й район: кирпичные особняки  121008314   \n",
       "1481                               weekend  (уикэнд)  111014713   \n",
       "1984                               weekend  (уикэнд)  111008914   \n",
       "3924                                          аватар  121008910   \n",
       "...                                              ...        ...   \n",
       "2289                                эксперимент: зло  221021314   \n",
       "3175  элвин и бурундуки: грандиозное бурундуключение  121026415   \n",
       "1812                           этим утром в ньюйорке  121009614   \n",
       "1811                           этим утром в ньюйорке  221033214   \n",
       "2621                            этот неловкий момент  121013615   \n",
       "\n",
       "               show_start_date            type  \\\n",
       "3130 2016-01-15 12:00:00+00:00  Художественный   \n",
       "1494 2014-04-25 12:00:00+00:00  Художественный   \n",
       "1481 2013-12-24 12:00:00+00:00  Художественный   \n",
       "1984 2014-08-13 12:00:00+00:00  Художественный   \n",
       "3924 2010-05-12 12:00:00+00:00  Художественный   \n",
       "...                        ...             ...   \n",
       "2289 2014-07-08 12:00:00+00:00  Художественный   \n",
       "3175 2015-12-30 12:00:00+00:00  Художественный   \n",
       "1812 2014-05-21 12:00:00+00:00  Художественный   \n",
       "1811 2014-08-20 12:00:00+00:00  Художественный   \n",
       "2621 2015-07-07 12:00:00+00:00  Художественный   \n",
       "\n",
       "                                            film_studio    production_country  \\\n",
       "3130  Парамаунт, Дан Филмз, Латина Пикчарз,3 Арт Инт...                   США   \n",
       "1494  Брик Мэншэнс Продакшнз,Синэ+ Канал+, Д8, Европ...        Франция-Канада   \n",
       "1481                        ООО \"Киностудия \"ВЕРТИКАЛЬ\"                Россия   \n",
       "1984                        ООО \"Киностудия \"ВЕРТИКАЛЬ\"                Россия   \n",
       "3924  ХХ век Фокс, Дан Интертейнмент, Гиант Студиос,...                   США   \n",
       "...                                                 ...                   ...   \n",
       "2289  Эксклюзив Медиа, Хаммер Филм Продакшнз, Трэвил...  США - Великобритания   \n",
       "3175  Фокс 2000, Ридженси Энтерпрайзис, Багдасарян П...                   США   \n",
       "1812  Лэндскейп Интертейнмент, Форс Мажор, Проминент...                   США   \n",
       "1811  Лэндскейп Интертейнмент, Форс Мажор, Проминент...                   США   \n",
       "2621                       Антр Шьен э Люп, Ля Пти Рейн               Франция   \n",
       "\n",
       "                director                                           producer  \\\n",
       "3130           Майкл Бэй                             Майкл Бэй, Эрвин Стофф   \n",
       "1494     Камиль Деламарр            Люк Бессон, Клод Леже, Джонатан Вэнджер   \n",
       "1481         С.Говорухин                             С.Говорухин, Е.Маскина   \n",
       "1984         С.Говорухин                             С.Говорухин, Е.Маскина   \n",
       "3924      Джеймс Кэмерон           Брук Бретон, Джеймс Кэмерон, Джон Лондау   \n",
       "...                  ...                                                ...   \n",
       "2289            Джон Пог  Тобин Армруст, Джеймс ГейРис, Саймон Оукс, Бен...   \n",
       "3175          Уолт Бекер             Росс Багдасарян младший, Дженис Карман   \n",
       "1812  Фил Олден Робинсон       Боб Купер, Тайлер Митчелл, Дэниэл Дж. Уолкер   \n",
       "1811  Фил Олден Робинсон       Боб Купер, Тайлер Митчелл, Дэниэл Дж. Уолкер   \n",
       "2621    Жан-Франсуа Рише      Себастьян Деллуа, Дэниэл Делюм, Тома Лангманн   \n",
       "\n",
       "                      age_restriction  refundable_support  \\\n",
       "3130      «18+» - запрещено для детей                0.00   \n",
       "1494  «16+» - для детей старше 16 лет                0.00   \n",
       "1481      «18+» - запрещено для детей                0.00   \n",
       "1984  «16+» - для детей старше 16 лет                0.00   \n",
       "3924  «16+» - для детей старше 16 лет                0.00   \n",
       "...                               ...                 ...   \n",
       "2289  «16+» - для детей старше 16 лет                0.00   \n",
       "3175    «6+» - для детей старше 6 лет                0.00   \n",
       "1812  «12+» - для детей старше 12 лет                0.00   \n",
       "1811  «12+» - для детей старше 12 лет                0.00   \n",
       "2621  «16+» - для детей старше 16 лет                0.00   \n",
       "\n",
       "      nonrefundable_support  budget financing_source  ratings  \\\n",
       "3130                   0.00    0.00    без поддержки     6.70   \n",
       "1494                   0.00    0.00    без поддержки     5.50   \n",
       "1481                   0.00    0.00    без поддержки     7.40   \n",
       "1984                   0.00    0.00    без поддержки     7.40   \n",
       "3924                   0.00    0.00    без поддержки     7.90   \n",
       "...                     ...     ...              ...      ...   \n",
       "2289                   0.00    0.00    без поддержки     4.70   \n",
       "3175                   0.00    0.00    без поддержки     5.80   \n",
       "1812                   0.00    0.00    без поддержки     6.20   \n",
       "1811                   0.00    0.00    без поддержки     6.20   \n",
       "2621                   0.00    0.00    без поддержки     6.30   \n",
       "\n",
       "                       genres   box_office  \n",
       "3130     боевик,триллер,драма  18439240.55  \n",
       "1494          боевик,криминал       750.00  \n",
       "1481                мелодрама      7755.00  \n",
       "1984                мелодрама     38044.00  \n",
       "3924  фантастика,боевик,драма      6950.00  \n",
       "...                       ...          ...  \n",
       "2289   ужасы,триллер,детектив      1030.00  \n",
       "3175  семейный,комедия,музыка 216000243.90  \n",
       "1812            драма,комедия       360.00  \n",
       "1811            драма,комедия      1090.00  \n",
       "2621        мелодрама,комедия  63238149.90  \n",
       "\n",
       "[312 rows x 16 columns]"
      ]
     },
     "execution_count": 37,
     "metadata": {},
     "output_type": "execute_result"
    }
   ],
   "source": [
    "# Посмотрим на дубликаты с ненулевыми сборами.\n",
    "data[(data['title'].duplicated(keep=False)) & (data['box_office'] > 0)].sort_values(by = 'title')"
   ]
  },
  {
   "cell_type": "markdown",
   "metadata": {},
   "source": [
    "###### Наблюдается 714 дубликатов в названии фильмов. Но при этом нет дубликатов, если смотреть вместе с прокатными удостоверениями. Это связано с тем что одни и те же фильмы выходили по несколюку раз, в разное время. При этом данные картины имеют разные сборы, поэтому на анализ не повлияют."
   ]
  },
  {
   "cell_type": "markdown",
   "metadata": {},
   "source": [
    "###### Прокатные удостоверения"
   ]
  },
  {
   "cell_type": "code",
   "execution_count": 38,
   "metadata": {},
   "outputs": [
    {
     "data": {
      "text/html": [
       "<div>\n",
       "<style scoped>\n",
       "    .dataframe tbody tr th:only-of-type {\n",
       "        vertical-align: middle;\n",
       "    }\n",
       "\n",
       "    .dataframe tbody tr th {\n",
       "        vertical-align: top;\n",
       "    }\n",
       "\n",
       "    .dataframe thead th {\n",
       "        text-align: right;\n",
       "    }\n",
       "</style>\n",
       "<table border=\"1\" class=\"dataframe\">\n",
       "  <thead>\n",
       "    <tr style=\"text-align: right;\">\n",
       "      <th></th>\n",
       "      <th>title</th>\n",
       "      <th>puNumber</th>\n",
       "      <th>show_start_date</th>\n",
       "      <th>type</th>\n",
       "      <th>film_studio</th>\n",
       "      <th>production_country</th>\n",
       "      <th>director</th>\n",
       "      <th>producer</th>\n",
       "      <th>age_restriction</th>\n",
       "      <th>refundable_support</th>\n",
       "      <th>nonrefundable_support</th>\n",
       "      <th>budget</th>\n",
       "      <th>financing_source</th>\n",
       "      <th>ratings</th>\n",
       "      <th>genres</th>\n",
       "      <th>box_office</th>\n",
       "    </tr>\n",
       "  </thead>\n",
       "  <tbody>\n",
       "    <tr>\n",
       "      <th>5067</th>\n",
       "      <td>анализируй это!</td>\n",
       "      <td>221054410</td>\n",
       "      <td>2010-05-25 12:00:00+00:00</td>\n",
       "      <td>Художественный</td>\n",
       "      <td>Уорнер Бразерс, Вилладж Роудшоу Филмз ЛТД</td>\n",
       "      <td>США-Австралия</td>\n",
       "      <td>ХЭрольд Рэмис</td>\n",
       "      <td>Джейн Розенталь, Пола Уейнстейн</td>\n",
       "      <td>«16+» - для детей старше 16 лет</td>\n",
       "      <td>0.00</td>\n",
       "      <td>0.00</td>\n",
       "      <td>0.00</td>\n",
       "      <td>без поддержки</td>\n",
       "      <td>7.40</td>\n",
       "      <td>комедия,криминал</td>\n",
       "      <td>0.00</td>\n",
       "    </tr>\n",
       "    <tr>\n",
       "      <th>5068</th>\n",
       "      <td>анализируй то!</td>\n",
       "      <td>221054410</td>\n",
       "      <td>2010-05-25 12:00:00+00:00</td>\n",
       "      <td>Художественный</td>\n",
       "      <td>Уорнер Бразерс, Виллидж Роадшоу Пикчерз, Эн-Пи...</td>\n",
       "      <td>США</td>\n",
       "      <td>Гарольд Реймис</td>\n",
       "      <td>Джейн Розенталь, Паул Уэйнстейн</td>\n",
       "      <td>«12+» - для детей старше 12 лет</td>\n",
       "      <td>0.00</td>\n",
       "      <td>0.00</td>\n",
       "      <td>0.00</td>\n",
       "      <td>без поддержки</td>\n",
       "      <td>6.80</td>\n",
       "      <td>комедия,криминал</td>\n",
       "      <td>0.00</td>\n",
       "    </tr>\n",
       "    <tr>\n",
       "      <th>4638</th>\n",
       "      <td>как жениться и остаться холостым</td>\n",
       "      <td>221154310</td>\n",
       "      <td>2010-12-17 12:00:00+00:00</td>\n",
       "      <td>Художественный</td>\n",
       "      <td>Ше Вам, Скрипт Ассосье, Тэ Фэ 1 Фильм Продюксь...</td>\n",
       "      <td>Франция</td>\n",
       "      <td>Эрик Лартиго</td>\n",
       "      <td>Амандин Било, Алан Шаба</td>\n",
       "      <td>«16+» - для детей старше 16 лет</td>\n",
       "      <td>0.00</td>\n",
       "      <td>0.00</td>\n",
       "      <td>0.00</td>\n",
       "      <td>без поддержки</td>\n",
       "      <td>7.00</td>\n",
       "      <td>мелодрама,комедия</td>\n",
       "      <td>0.00</td>\n",
       "    </tr>\n",
       "    <tr>\n",
       "      <th>4639</th>\n",
       "      <td>иоанна  женщина на папском престоле /по роману...</td>\n",
       "      <td>221154310</td>\n",
       "      <td>2010-12-17 12:00:00+00:00</td>\n",
       "      <td>Художественный</td>\n",
       "      <td>Константин Фильм, А Эр Ди Дегето Фильм, Дюне Ф...</td>\n",
       "      <td>Германия - Великобритания - Италия - Испания</td>\n",
       "      <td>Зенке Вортманн</td>\n",
       "      <td>Оливер Бербен, Дорис Д.Хайнце, Фарук Элтан</td>\n",
       "      <td>«16+» - для детей старше 16 лет</td>\n",
       "      <td>0.00</td>\n",
       "      <td>0.00</td>\n",
       "      <td>0.00</td>\n",
       "      <td>без поддержки</td>\n",
       "      <td>7.60</td>\n",
       "      <td>драма,мелодрама,история</td>\n",
       "      <td>0.00</td>\n",
       "    </tr>\n",
       "  </tbody>\n",
       "</table>\n",
       "</div>"
      ],
      "text/plain": [
       "                                                  title   puNumber  \\\n",
       "5067                                    анализируй это!  221054410   \n",
       "5068                                     анализируй то!  221054410   \n",
       "4638                   как жениться и остаться холостым  221154310   \n",
       "4639  иоанна  женщина на папском престоле /по роману...  221154310   \n",
       "\n",
       "               show_start_date            type  \\\n",
       "5067 2010-05-25 12:00:00+00:00  Художественный   \n",
       "5068 2010-05-25 12:00:00+00:00  Художественный   \n",
       "4638 2010-12-17 12:00:00+00:00  Художественный   \n",
       "4639 2010-12-17 12:00:00+00:00  Художественный   \n",
       "\n",
       "                                            film_studio  \\\n",
       "5067          Уорнер Бразерс, Вилладж Роудшоу Филмз ЛТД   \n",
       "5068  Уорнер Бразерс, Виллидж Роадшоу Пикчерз, Эн-Пи...   \n",
       "4638  Ше Вам, Скрипт Ассосье, Тэ Фэ 1 Фильм Продюксь...   \n",
       "4639  Константин Фильм, А Эр Ди Дегето Фильм, Дюне Ф...   \n",
       "\n",
       "                                production_country        director  \\\n",
       "5067                                 США-Австралия   ХЭрольд Рэмис   \n",
       "5068                                           США  Гарольд Реймис   \n",
       "4638                                       Франция    Эрик Лартиго   \n",
       "4639  Германия - Великобритания - Италия - Испания  Зенке Вортманн   \n",
       "\n",
       "                                        producer  \\\n",
       "5067             Джейн Розенталь, Пола Уейнстейн   \n",
       "5068             Джейн Розенталь, Паул Уэйнстейн   \n",
       "4638                     Амандин Било, Алан Шаба   \n",
       "4639  Оливер Бербен, Дорис Д.Хайнце, Фарук Элтан   \n",
       "\n",
       "                      age_restriction  refundable_support  \\\n",
       "5067  «16+» - для детей старше 16 лет                0.00   \n",
       "5068  «12+» - для детей старше 12 лет                0.00   \n",
       "4638  «16+» - для детей старше 16 лет                0.00   \n",
       "4639  «16+» - для детей старше 16 лет                0.00   \n",
       "\n",
       "      nonrefundable_support  budget financing_source  ratings  \\\n",
       "5067                   0.00    0.00    без поддержки     7.40   \n",
       "5068                   0.00    0.00    без поддержки     6.80   \n",
       "4638                   0.00    0.00    без поддержки     7.00   \n",
       "4639                   0.00    0.00    без поддержки     7.60   \n",
       "\n",
       "                       genres  box_office  \n",
       "5067         комедия,криминал        0.00  \n",
       "5068         комедия,криминал        0.00  \n",
       "4638        мелодрама,комедия        0.00  \n",
       "4639  драма,мелодрама,история        0.00  "
      ]
     },
     "execution_count": 38,
     "metadata": {},
     "output_type": "execute_result"
    }
   ],
   "source": [
    "data[data['puNumber'].duplicated(keep=False)].sort_values(by = 'puNumber')"
   ]
  },
  {
   "cell_type": "markdown",
   "metadata": {},
   "source": [
    "###### Есть 4 дубликата прокатных удостоверений. Скорее всего это не не ошибка. По крайней мере в реестре на официальном сайте так все и есть: под одним номером - два фильма."
   ]
  },
  {
   "cell_type": "markdown",
   "metadata": {
    "id": "52fOPrEBgFyQ"
   },
   "source": [
    "#### Изучим категориальные значения"
   ]
  },
  {
   "cell_type": "code",
   "execution_count": 39,
   "metadata": {
    "id": "PnXKIVdFgFyR"
   },
   "outputs": [
    {
     "data": {
      "text/plain": [
       "['Анимационный',\n",
       " 'Документальный',\n",
       " 'Музыкально-развлекательный',\n",
       " 'Научно-популярный',\n",
       " 'Прочие',\n",
       " 'Художественный']"
      ]
     },
     "execution_count": 39,
     "metadata": {},
     "output_type": "execute_result"
    }
   ],
   "source": [
    "# Посмотрим на данные\n",
    "sorted(data['type'].unique())"
   ]
  },
  {
   "cell_type": "markdown",
   "metadata": {},
   "source": [
    "###### Пробелы были удалены ранее, Больше проблемм не видно"
   ]
  },
  {
   "cell_type": "markdown",
   "metadata": {
    "id": "XFSN5lrEgFyR"
   },
   "source": [
    "#### Проверим количественные значения\n"
   ]
  },
  {
   "cell_type": "markdown",
   "metadata": {
    "id": "YbzClBxagFyS"
   },
   "source": [
    "###### Поле бюджет было предъобработано ранее. см п. 1.2.2.4"
   ]
  },
  {
   "cell_type": "markdown",
   "metadata": {
    "id": "Eu6oWp2CgFyS"
   },
   "source": [
    "#### Добавим новые столбцы\n",
    "\n",
    "\n",
    "\n"
   ]
  },
  {
   "cell_type": "markdown",
   "metadata": {
    "id": "7GgW-UpAgFyS"
   },
   "source": [
    "- Создадим столбец с информацией о годе проката. Выделите год из даты премьеры фильма."
   ]
  },
  {
   "cell_type": "code",
   "execution_count": 40,
   "metadata": {
    "id": "I-yd1DkWgFyT"
   },
   "outputs": [],
   "source": [
    "# Добавляем столбец с годом\n",
    "data['year'] = data['show_start_date'].dt.year"
   ]
  },
  {
   "cell_type": "code",
   "execution_count": 41,
   "metadata": {
    "scrolled": true
   },
   "outputs": [
    {
     "data": {
      "text/html": [
       "<div>\n",
       "<style scoped>\n",
       "    .dataframe tbody tr th:only-of-type {\n",
       "        vertical-align: middle;\n",
       "    }\n",
       "\n",
       "    .dataframe tbody tr th {\n",
       "        vertical-align: top;\n",
       "    }\n",
       "\n",
       "    .dataframe thead th {\n",
       "        text-align: right;\n",
       "    }\n",
       "</style>\n",
       "<table border=\"1\" class=\"dataframe\">\n",
       "  <thead>\n",
       "    <tr style=\"text-align: right;\">\n",
       "      <th></th>\n",
       "      <th>title</th>\n",
       "      <th>puNumber</th>\n",
       "      <th>show_start_date</th>\n",
       "      <th>type</th>\n",
       "      <th>film_studio</th>\n",
       "      <th>production_country</th>\n",
       "      <th>director</th>\n",
       "      <th>producer</th>\n",
       "      <th>age_restriction</th>\n",
       "      <th>refundable_support</th>\n",
       "      <th>nonrefundable_support</th>\n",
       "      <th>budget</th>\n",
       "      <th>financing_source</th>\n",
       "      <th>ratings</th>\n",
       "      <th>genres</th>\n",
       "      <th>box_office</th>\n",
       "      <th>year</th>\n",
       "      <th>director_first</th>\n",
       "      <th>genre_first</th>\n",
       "    </tr>\n",
       "  </thead>\n",
       "  <tbody>\n",
       "    <tr>\n",
       "      <th>0</th>\n",
       "      <td>открытый простор</td>\n",
       "      <td>221048915</td>\n",
       "      <td>2015-11-27 12:00:00+00:00</td>\n",
       "      <td>Художественный</td>\n",
       "      <td>Тачстоун Пикчерз, Кобальт Пикчерз, Бикон Пикче...</td>\n",
       "      <td>США</td>\n",
       "      <td>Кевин Костнер</td>\n",
       "      <td>Дэвид Валдес, Кевин Костнер, Джейк Эбертс</td>\n",
       "      <td>«18+» - запрещено для детей</td>\n",
       "      <td>0.00</td>\n",
       "      <td>0.00</td>\n",
       "      <td>0.00</td>\n",
       "      <td>без поддержки</td>\n",
       "      <td>7.20</td>\n",
       "      <td>боевик,драма,мелодрама</td>\n",
       "      <td>0.00</td>\n",
       "      <td>2015</td>\n",
       "      <td>Кевин Костнер</td>\n",
       "      <td>боевик</td>\n",
       "    </tr>\n",
       "    <tr>\n",
       "      <th>1</th>\n",
       "      <td>особо важное задание</td>\n",
       "      <td>111013716</td>\n",
       "      <td>2016-09-13 12:00:00+00:00</td>\n",
       "      <td>Художественный</td>\n",
       "      <td>Киностудия \"Мосфильм\"</td>\n",
       "      <td>СССР</td>\n",
       "      <td>Е.Матвеев</td>\n",
       "      <td>NaN</td>\n",
       "      <td>«6+» - для детей старше 6 лет</td>\n",
       "      <td>0.00</td>\n",
       "      <td>0.00</td>\n",
       "      <td>0.00</td>\n",
       "      <td>без поддержки</td>\n",
       "      <td>6.60</td>\n",
       "      <td>драма,военный</td>\n",
       "      <td>0.00</td>\n",
       "      <td>2016</td>\n",
       "      <td>Е.Матвеев</td>\n",
       "      <td>драма</td>\n",
       "    </tr>\n",
       "    <tr>\n",
       "      <th>2</th>\n",
       "      <td>особо опасен</td>\n",
       "      <td>221038416</td>\n",
       "      <td>2016-10-10 12:00:00+00:00</td>\n",
       "      <td>Художественный</td>\n",
       "      <td>Юниверсал Пикчерз, Кикстарт Продакшнз, Марк Пл...</td>\n",
       "      <td>США</td>\n",
       "      <td>Тимур Бекмамбетов</td>\n",
       "      <td>Джим Лемли, Джейсон Нетер, Марк Е.Платт, Яйн Смит</td>\n",
       "      <td>«18+» - запрещено для детей</td>\n",
       "      <td>0.00</td>\n",
       "      <td>0.00</td>\n",
       "      <td>0.00</td>\n",
       "      <td>без поддержки</td>\n",
       "      <td>6.80</td>\n",
       "      <td>фантастика,боевик,триллер</td>\n",
       "      <td>0.00</td>\n",
       "      <td>2016</td>\n",
       "      <td>Тимур Бекмамбетов</td>\n",
       "      <td>фантастика</td>\n",
       "    </tr>\n",
       "  </tbody>\n",
       "</table>\n",
       "</div>"
      ],
      "text/plain": [
       "                  title   puNumber           show_start_date            type  \\\n",
       "0      открытый простор  221048915 2015-11-27 12:00:00+00:00  Художественный   \n",
       "1  особо важное задание  111013716 2016-09-13 12:00:00+00:00  Художественный   \n",
       "2          особо опасен  221038416 2016-10-10 12:00:00+00:00  Художественный   \n",
       "\n",
       "                                         film_studio production_country  \\\n",
       "0  Тачстоун Пикчерз, Кобальт Пикчерз, Бикон Пикче...                США   \n",
       "1                              Киностудия \"Мосфильм\"               СССР   \n",
       "2  Юниверсал Пикчерз, Кикстарт Продакшнз, Марк Пл...                США   \n",
       "\n",
       "            director                                           producer  \\\n",
       "0      Кевин Костнер          Дэвид Валдес, Кевин Костнер, Джейк Эбертс   \n",
       "1          Е.Матвеев                                                NaN   \n",
       "2  Тимур Бекмамбетов  Джим Лемли, Джейсон Нетер, Марк Е.Платт, Яйн Смит   \n",
       "\n",
       "                 age_restriction  refundable_support  nonrefundable_support  \\\n",
       "0    «18+» - запрещено для детей                0.00                   0.00   \n",
       "1  «6+» - для детей старше 6 лет                0.00                   0.00   \n",
       "2    «18+» - запрещено для детей                0.00                   0.00   \n",
       "\n",
       "   budget financing_source  ratings                     genres  box_office  \\\n",
       "0    0.00    без поддержки     7.20     боевик,драма,мелодрама        0.00   \n",
       "1    0.00    без поддержки     6.60              драма,военный        0.00   \n",
       "2    0.00    без поддержки     6.80  фантастика,боевик,триллер        0.00   \n",
       "\n",
       "   year     director_first genre_first  \n",
       "0  2015      Кевин Костнер      боевик  \n",
       "1  2016          Е.Матвеев       драма  \n",
       "2  2016  Тимур Бекмамбетов  фантастика  "
      ]
     },
     "execution_count": 41,
     "metadata": {},
     "output_type": "execute_result"
    }
   ],
   "source": [
    "# Добавим столбцы с режисером и жанром\n",
    "data['director_first'] = data['director'].str.split(\",\").str[0].str.strip()\n",
    "data['genre_first'] = data['genres'].str.split(\",\").str[0].str.strip()\n",
    "data.head(3)"
   ]
  },
  {
   "cell_type": "markdown",
   "metadata": {
    "id": "1FsCXHwdgFyU"
   },
   "source": [
    "- Посчитаем, какую долю от общего бюджета фильма составляет государственная поддержка."
   ]
  },
  {
   "cell_type": "code",
   "execution_count": 42,
   "metadata": {
    "id": "LV6qFuZLgFyV"
   },
   "outputs": [
    {
     "data": {
      "text/plain": [
       "count   332.00\n",
       "mean      0.54\n",
       "std       0.20\n",
       "min       0.04\n",
       "25%       0.38\n",
       "50%       0.61\n",
       "75%       0.66\n",
       "max       1.00\n",
       "Name: budget_ratio, dtype: float64"
      ]
     },
     "execution_count": 42,
     "metadata": {},
     "output_type": "execute_result"
    }
   ],
   "source": [
    "# Доля гос поддержки в бюджете фильма.\n",
    "data['budget_ratio'] = (data['refundable_support'] + data['nonrefundable_support']) / data['budget']\n",
    "data['budget_ratio'].describe()"
   ]
  },
  {
   "cell_type": "markdown",
   "metadata": {
    "id": "6t4EukPLgFyV"
   },
   "source": [
    "## Исследовательский анализ данных\n"
   ]
  },
  {
   "cell_type": "markdown",
   "metadata": {
    "id": "vAH8WCzugFyV"
   },
   "source": [
    "- Посмотрим, сколько фильмов выходило в прокат каждый год.Данные о прокате в кинотеатрах известны не для всех фильмов. Посчитаем, какую долю составляют фильмы с указанной информацией о прокате в кинотеатрах."
   ]
  },
  {
   "cell_type": "markdown",
   "metadata": {},
   "source": [
    "#### Анализ фильмов по годам"
   ]
  },
  {
   "cell_type": "code",
   "execution_count": 43,
   "metadata": {},
   "outputs": [
    {
     "data": {
      "text/plain": [
       "0.4186481432006412"
      ]
     },
     "execution_count": 43,
     "metadata": {},
     "output_type": "execute_result"
    }
   ],
   "source": [
    "# Доля фильмов с указанной информацией о прокате в кинотеатрах\n",
    "data['box_office'].astype(bool).sum() / len(data)"
   ]
  },
  {
   "cell_type": "code",
   "execution_count": 44,
   "metadata": {},
   "outputs": [
    {
     "data": {
      "text/html": [
       "<div>\n",
       "<style scoped>\n",
       "    .dataframe tbody tr th:only-of-type {\n",
       "        vertical-align: middle;\n",
       "    }\n",
       "\n",
       "    .dataframe tbody tr th {\n",
       "        vertical-align: top;\n",
       "    }\n",
       "\n",
       "    .dataframe thead th {\n",
       "        text-align: right;\n",
       "    }\n",
       "</style>\n",
       "<table border=\"1\" class=\"dataframe\">\n",
       "  <thead>\n",
       "    <tr style=\"text-align: right;\">\n",
       "      <th></th>\n",
       "      <th>year</th>\n",
       "      <th>count</th>\n",
       "      <th>sum</th>\n",
       "      <th>ratio</th>\n",
       "    </tr>\n",
       "  </thead>\n",
       "  <tbody>\n",
       "    <tr>\n",
       "      <th>0</th>\n",
       "      <td>2010</td>\n",
       "      <td>985</td>\n",
       "      <td>101</td>\n",
       "      <td>0.10</td>\n",
       "    </tr>\n",
       "    <tr>\n",
       "      <th>1</th>\n",
       "      <td>2011</td>\n",
       "      <td>622</td>\n",
       "      <td>109</td>\n",
       "      <td>0.18</td>\n",
       "    </tr>\n",
       "    <tr>\n",
       "      <th>2</th>\n",
       "      <td>2012</td>\n",
       "      <td>593</td>\n",
       "      <td>123</td>\n",
       "      <td>0.21</td>\n",
       "    </tr>\n",
       "    <tr>\n",
       "      <th>3</th>\n",
       "      <td>2013</td>\n",
       "      <td>630</td>\n",
       "      <td>179</td>\n",
       "      <td>0.28</td>\n",
       "    </tr>\n",
       "    <tr>\n",
       "      <th>4</th>\n",
       "      <td>2014</td>\n",
       "      <td>807</td>\n",
       "      <td>273</td>\n",
       "      <td>0.34</td>\n",
       "    </tr>\n",
       "    <tr>\n",
       "      <th>5</th>\n",
       "      <td>2015</td>\n",
       "      <td>705</td>\n",
       "      <td>462</td>\n",
       "      <td>0.66</td>\n",
       "    </tr>\n",
       "    <tr>\n",
       "      <th>6</th>\n",
       "      <td>2016</td>\n",
       "      <td>818</td>\n",
       "      <td>525</td>\n",
       "      <td>0.64</td>\n",
       "    </tr>\n",
       "    <tr>\n",
       "      <th>7</th>\n",
       "      <td>2017</td>\n",
       "      <td>505</td>\n",
       "      <td>357</td>\n",
       "      <td>0.71</td>\n",
       "    </tr>\n",
       "    <tr>\n",
       "      <th>8</th>\n",
       "      <td>2018</td>\n",
       "      <td>891</td>\n",
       "      <td>475</td>\n",
       "      <td>0.53</td>\n",
       "    </tr>\n",
       "    <tr>\n",
       "      <th>9</th>\n",
       "      <td>2019</td>\n",
       "      <td>930</td>\n",
       "      <td>530</td>\n",
       "      <td>0.57</td>\n",
       "    </tr>\n",
       "  </tbody>\n",
       "</table>\n",
       "</div>"
      ],
      "text/plain": [
       "   year  count  sum  ratio\n",
       "0  2010    985  101   0.10\n",
       "1  2011    622  109   0.18\n",
       "2  2012    593  123   0.21\n",
       "3  2013    630  179   0.28\n",
       "4  2014    807  273   0.34\n",
       "5  2015    705  462   0.66\n",
       "6  2016    818  525   0.64\n",
       "7  2017    505  357   0.71\n",
       "8  2018    891  475   0.53\n",
       "9  2019    930  530   0.57"
      ]
     },
     "metadata": {},
     "output_type": "display_data"
    },
    {
     "data": {
      "text/plain": [
       "Text(0.5, 1.0, 'Доля фильмов в прокате')"
      ]
     },
     "execution_count": 44,
     "metadata": {},
     "output_type": "execute_result"
    },
    {
     "data": {
      "image/png": "[encoded data removed]",
      "text/plain": [
       "<Figure size 640x480 with 1 Axes>"
      ]
     },
     "metadata": {},
     "output_type": "display_data"
    }
   ],
   "source": [
    "# Доля фильмов с указанной информацией о прокате в кинотеатрах по годам\n",
    "data['is_show_cinema'] = data['box_office'].astype(bool)\n",
    "cinema_by_year = data.groupby('year').agg({'is_show_cinema': ['count', 'sum']}).droplevel(0, axis=1).reset_index()\n",
    "cinema_by_year['ratio']=cinema_by_year['sum'] / cinema_by_year['count']\n",
    "display(cinema_by_year)\n",
    "sns.barplot(x = cinema_by_year['year'] , y = cinema_by_year['ratio'])\n",
    "plt.title('Доля фильмов в прокате')"
   ]
  },
  {
   "cell_type": "code",
   "execution_count": 45,
   "metadata": {
    "id": "ABeV47y7gFyW"
   },
   "outputs": [
    {
     "data": {
      "text/html": [
       "<div>\n",
       "<style scoped>\n",
       "    .dataframe tbody tr th:only-of-type {\n",
       "        vertical-align: middle;\n",
       "    }\n",
       "\n",
       "    .dataframe tbody tr th {\n",
       "        vertical-align: top;\n",
       "    }\n",
       "\n",
       "    .dataframe thead th {\n",
       "        text-align: right;\n",
       "    }\n",
       "</style>\n",
       "<table border=\"1\" class=\"dataframe\">\n",
       "  <thead>\n",
       "    <tr style=\"text-align: right;\">\n",
       "      <th></th>\n",
       "      <th>year</th>\n",
       "      <th>count</th>\n",
       "      <th>sum</th>\n",
       "    </tr>\n",
       "  </thead>\n",
       "  <tbody>\n",
       "    <tr>\n",
       "      <th>0</th>\n",
       "      <td>2010</td>\n",
       "      <td>985</td>\n",
       "      <td>2428654.00</td>\n",
       "    </tr>\n",
       "    <tr>\n",
       "      <th>1</th>\n",
       "      <td>2011</td>\n",
       "      <td>622</td>\n",
       "      <td>14102765.00</td>\n",
       "    </tr>\n",
       "    <tr>\n",
       "      <th>2</th>\n",
       "      <td>2012</td>\n",
       "      <td>593</td>\n",
       "      <td>6955423.00</td>\n",
       "    </tr>\n",
       "    <tr>\n",
       "      <th>3</th>\n",
       "      <td>2013</td>\n",
       "      <td>630</td>\n",
       "      <td>29799706.20</td>\n",
       "    </tr>\n",
       "    <tr>\n",
       "      <th>4</th>\n",
       "      <td>2014</td>\n",
       "      <td>807</td>\n",
       "      <td>7444951859.20</td>\n",
       "    </tr>\n",
       "    <tr>\n",
       "      <th>5</th>\n",
       "      <td>2015</td>\n",
       "      <td>705</td>\n",
       "      <td>39497365196.40</td>\n",
       "    </tr>\n",
       "    <tr>\n",
       "      <th>6</th>\n",
       "      <td>2016</td>\n",
       "      <td>818</td>\n",
       "      <td>47866299741.91</td>\n",
       "    </tr>\n",
       "    <tr>\n",
       "      <th>7</th>\n",
       "      <td>2017</td>\n",
       "      <td>505</td>\n",
       "      <td>48563707217.51</td>\n",
       "    </tr>\n",
       "    <tr>\n",
       "      <th>8</th>\n",
       "      <td>2018</td>\n",
       "      <td>891</td>\n",
       "      <td>49668403134.32</td>\n",
       "    </tr>\n",
       "    <tr>\n",
       "      <th>9</th>\n",
       "      <td>2019</td>\n",
       "      <td>930</td>\n",
       "      <td>48425708779.59</td>\n",
       "    </tr>\n",
       "  </tbody>\n",
       "</table>\n",
       "</div>"
      ],
      "text/plain": [
       "   year  count            sum\n",
       "0  2010    985     2428654.00\n",
       "1  2011    622    14102765.00\n",
       "2  2012    593     6955423.00\n",
       "3  2013    630    29799706.20\n",
       "4  2014    807  7444951859.20\n",
       "5  2015    705 39497365196.40\n",
       "6  2016    818 47866299741.91\n",
       "7  2017    505 48563707217.51\n",
       "8  2018    891 49668403134.32\n",
       "9  2019    930 48425708779.59"
      ]
     },
     "metadata": {},
     "output_type": "display_data"
    },
    {
     "data": {
      "text/plain": [
       "Text(0.5, 1.0, 'Количество фильмов по годам')"
      ]
     },
     "execution_count": 45,
     "metadata": {},
     "output_type": "execute_result"
    },
    {
     "data": {
      "image/png": "[encoded data removed]",
      "text/plain": [
       "<Figure size 640x480 with 1 Axes>"
      ]
     },
     "metadata": {},
     "output_type": "display_data"
    }
   ],
   "source": [
    "#кличество фильмов и сборы по годам.\n",
    "film_by_year = data.groupby('year').agg({'box_office': ['count', 'sum']}).droplevel(0, axis=1).reset_index()\n",
    "display(film_by_year)\n",
    "sns.barplot(x = film_by_year['year'] , y = film_by_year['count'])\n",
    "plt.title('Количество фильмов по годам')"
   ]
  },
  {
   "cell_type": "markdown",
   "metadata": {
    "id": "BEOdcIrIgFyW"
   },
   "source": [
    "- Изучим, как менялась динамика проката по годам. В каком году сумма сборов была минимальной? А максимальной?"
   ]
  },
  {
   "cell_type": "code",
   "execution_count": 46,
   "metadata": {
    "scrolled": true
   },
   "outputs": [
    {
     "data": {
      "text/plain": [
       "<AxesSubplot:xlabel='year', ylabel='sum'>"
      ]
     },
     "metadata": {},
     "output_type": "display_data"
    },
    {
     "data": {
      "text/plain": [
       "Text(0.5, 1.0, 'Сборы по годам')"
      ]
     },
     "execution_count": 46,
     "metadata": {},
     "output_type": "execute_result"
    },
    {
     "data": {
      "image/png": "[encoded data removed]",
      "text/plain": [
       "<Figure size 640x480 with 1 Axes>"
      ]
     },
     "metadata": {},
     "output_type": "display_data"
    }
   ],
   "source": [
    "display(sns.barplot(x = film_by_year['year'] , y = film_by_year['sum']))\n",
    "plt.title('Сборы по годам')"
   ]
  },
  {
   "cell_type": "code",
   "execution_count": 47,
   "metadata": {},
   "outputs": [
    {
     "data": {
      "text/html": [
       "<div>\n",
       "<style scoped>\n",
       "    .dataframe tbody tr th:only-of-type {\n",
       "        vertical-align: middle;\n",
       "    }\n",
       "\n",
       "    .dataframe tbody tr th {\n",
       "        vertical-align: top;\n",
       "    }\n",
       "\n",
       "    .dataframe thead th {\n",
       "        text-align: right;\n",
       "    }\n",
       "</style>\n",
       "<table border=\"1\" class=\"dataframe\">\n",
       "  <thead>\n",
       "    <tr style=\"text-align: right;\">\n",
       "      <th></th>\n",
       "      <th>year</th>\n",
       "      <th>count</th>\n",
       "      <th>sum</th>\n",
       "    </tr>\n",
       "  </thead>\n",
       "  <tbody>\n",
       "    <tr>\n",
       "      <th>count</th>\n",
       "      <td>10.00</td>\n",
       "      <td>10.00</td>\n",
       "      <td>10.00</td>\n",
       "    </tr>\n",
       "    <tr>\n",
       "      <th>mean</th>\n",
       "      <td>2014.50</td>\n",
       "      <td>748.60</td>\n",
       "      <td>24151972247.71</td>\n",
       "    </tr>\n",
       "    <tr>\n",
       "      <th>std</th>\n",
       "      <td>3.03</td>\n",
       "      <td>160.85</td>\n",
       "      <td>24138278781.26</td>\n",
       "    </tr>\n",
       "    <tr>\n",
       "      <th>min</th>\n",
       "      <td>2010.00</td>\n",
       "      <td>505.00</td>\n",
       "      <td>2428654.00</td>\n",
       "    </tr>\n",
       "    <tr>\n",
       "      <th>25%</th>\n",
       "      <td>2012.25</td>\n",
       "      <td>624.00</td>\n",
       "      <td>18027000.30</td>\n",
       "    </tr>\n",
       "    <tr>\n",
       "      <th>50%</th>\n",
       "      <td>2014.50</td>\n",
       "      <td>756.00</td>\n",
       "      <td>23471158527.80</td>\n",
       "    </tr>\n",
       "    <tr>\n",
       "      <th>75%</th>\n",
       "      <td>2016.75</td>\n",
       "      <td>872.75</td>\n",
       "      <td>48285856520.17</td>\n",
       "    </tr>\n",
       "    <tr>\n",
       "      <th>max</th>\n",
       "      <td>2019.00</td>\n",
       "      <td>985.00</td>\n",
       "      <td>49668403134.32</td>\n",
       "    </tr>\n",
       "  </tbody>\n",
       "</table>\n",
       "</div>"
      ],
      "text/plain": [
       "         year  count            sum\n",
       "count   10.00  10.00          10.00\n",
       "mean  2014.50 748.60 24151972247.71\n",
       "std      3.03 160.85 24138278781.26\n",
       "min   2010.00 505.00     2428654.00\n",
       "25%   2012.25 624.00    18027000.30\n",
       "50%   2014.50 756.00 23471158527.80\n",
       "75%   2016.75 872.75 48285856520.17\n",
       "max   2019.00 985.00 49668403134.32"
      ]
     },
     "execution_count": 47,
     "metadata": {},
     "output_type": "execute_result"
    }
   ],
   "source": [
    "film_by_year.describe()"
   ]
  },
  {
   "cell_type": "markdown",
   "metadata": {},
   "source": [
    "###### Проанализировали фильмы по годам. В выборке содержится информация о сборах только для 41% фильмов. Причем с годами эта доля растет, если в 2010 году есть информация о сборах только для 10% картин, то в 2017 году - 70%. \n",
    "###### Общее распределение фильмов по годам не линейно. Максимальное количество картин вышло в 2010 году - 985. Минимальное в 2017году - 505.  Среднее и медианное значения практически совпадают, 748 и 756 штук в год соответственно. \n",
    "###### Сборы в целом повторяют график распределения доли фильмов в прокате. До 2015 года информации о сборах крайне мало менее 30%. Соответственно сборы так же на минимальном уровне - менее 1млрд. После 2015 информации о сборах гораздо больше и сумма вырастает до 49 млрд. руб.  Среднее значение сборов по всем годам   24 млрд. руб.  Медианное значение - 23  млрд. руб."
   ]
  },
  {
   "cell_type": "markdown",
   "metadata": {
    "id": "G-7qS-N-gFyY"
   },
   "source": [
    "- С помощью сводной таблицы посчитайте среднюю и медианную сумму сборов для каждого года."
   ]
  },
  {
   "cell_type": "code",
   "execution_count": 48,
   "metadata": {
    "scrolled": false
   },
   "outputs": [
    {
     "data": {
      "text/html": [
       "<div>\n",
       "<style scoped>\n",
       "    .dataframe tbody tr th:only-of-type {\n",
       "        vertical-align: middle;\n",
       "    }\n",
       "\n",
       "    .dataframe tbody tr th {\n",
       "        vertical-align: top;\n",
       "    }\n",
       "\n",
       "    .dataframe thead th {\n",
       "        text-align: right;\n",
       "    }\n",
       "</style>\n",
       "<table border=\"1\" class=\"dataframe\">\n",
       "  <thead>\n",
       "    <tr style=\"text-align: right;\">\n",
       "      <th></th>\n",
       "      <th>mean</th>\n",
       "      <th>median</th>\n",
       "    </tr>\n",
       "    <tr>\n",
       "      <th>year</th>\n",
       "      <th></th>\n",
       "      <th></th>\n",
       "    </tr>\n",
       "  </thead>\n",
       "  <tbody>\n",
       "    <tr>\n",
       "      <th>2010</th>\n",
       "      <td>2465.64</td>\n",
       "      <td>0.00</td>\n",
       "    </tr>\n",
       "    <tr>\n",
       "      <th>2011</th>\n",
       "      <td>22673.26</td>\n",
       "      <td>0.00</td>\n",
       "    </tr>\n",
       "    <tr>\n",
       "      <th>2012</th>\n",
       "      <td>11729.21</td>\n",
       "      <td>0.00</td>\n",
       "    </tr>\n",
       "    <tr>\n",
       "      <th>2013</th>\n",
       "      <td>47301.12</td>\n",
       "      <td>0.00</td>\n",
       "    </tr>\n",
       "    <tr>\n",
       "      <th>2014</th>\n",
       "      <td>9225466.99</td>\n",
       "      <td>0.00</td>\n",
       "    </tr>\n",
       "    <tr>\n",
       "      <th>2015</th>\n",
       "      <td>56024631.48</td>\n",
       "      <td>739938.00</td>\n",
       "    </tr>\n",
       "    <tr>\n",
       "      <th>2016</th>\n",
       "      <td>58516258.85</td>\n",
       "      <td>479832.50</td>\n",
       "    </tr>\n",
       "    <tr>\n",
       "      <th>2017</th>\n",
       "      <td>96165756.87</td>\n",
       "      <td>2522174.00</td>\n",
       "    </tr>\n",
       "    <tr>\n",
       "      <th>2018</th>\n",
       "      <td>55744560.20</td>\n",
       "      <td>289040.00</td>\n",
       "    </tr>\n",
       "    <tr>\n",
       "      <th>2019</th>\n",
       "      <td>52070654.60</td>\n",
       "      <td>597710.00</td>\n",
       "    </tr>\n",
       "  </tbody>\n",
       "</table>\n",
       "</div>"
      ],
      "text/plain": [
       "            mean     median\n",
       "year                       \n",
       "2010     2465.64       0.00\n",
       "2011    22673.26       0.00\n",
       "2012    11729.21       0.00\n",
       "2013    47301.12       0.00\n",
       "2014  9225466.99       0.00\n",
       "2015 56024631.48  739938.00\n",
       "2016 58516258.85  479832.50\n",
       "2017 96165756.87 2522174.00\n",
       "2018 55744560.20  289040.00\n",
       "2019 52070654.60  597710.00"
      ]
     },
     "metadata": {},
     "output_type": "display_data"
    },
    {
     "data": {
      "text/plain": [
       "Text(0, 0.5, 'Рубли')"
      ]
     },
     "execution_count": 48,
     "metadata": {},
     "output_type": "execute_result"
    },
    {
     "data": {
      "image/png": "[encoded data removed]",
      "text/plain": [
       "<Figure size 640x480 with 1 Axes>"
      ]
     },
     "metadata": {},
     "output_type": "display_data"
    }
   ],
   "source": [
    "# Среднее и медиана по годам\n",
    "sum_by_year = data.pivot_table(index = 'year', values = 'box_office', aggfunc =('mean', 'median'))\n",
    "display(sum_by_year)\n",
    "sns.lineplot(data = sum_by_year)\n",
    "plt.title('Средрее и медианное значение сборов')\n",
    "plt.xlabel('Год')\n",
    "plt.ylabel('Рубли')"
   ]
  },
  {
   "cell_type": "markdown",
   "metadata": {},
   "source": [
    "###### Из за недостаточности данных по сборам (Большое количество нулевых значений), видим что среднее о медианное значения сильно различаются. До 2014 года в расчет не берем так как данных по сборам менее 10%. А с 2014 акуратность данных возрастает до 70%.   Максимальное среднее значение приходится на 2017 год(более 90милн). Максимум медианы так же в 2017(2,5 млн). Как видим между средним и медианой колосальная разница. Виной тому неоднородность данных, присутстуют как нулевые значения так и крайне большие. "
   ]
  },
  {
   "cell_type": "markdown",
   "metadata": {},
   "source": [
    "#### Влияние возрастного ограничения"
   ]
  },
  {
   "cell_type": "markdown",
   "metadata": {
    "id": "Ok89WFwJgFyZ"
   },
   "source": [
    "- Определим, влияет ли возрастное ограничение аудитории («6+», «12+», «16+», «18+» и т. д.) на сборы фильма в прокате в период с 2015 по 2019 год? Фильмы с каким возрастным ограничением собрали больше всего денег в прокате? Меняется ли картина в зависимости от года?"
   ]
  },
  {
   "cell_type": "code",
   "execution_count": 49,
   "metadata": {
    "id": "jsSbEqfjgFya",
    "scrolled": true
   },
   "outputs": [
    {
     "data": {
      "text/html": [
       "<div>\n",
       "<style scoped>\n",
       "    .dataframe tbody tr th:only-of-type {\n",
       "        vertical-align: middle;\n",
       "    }\n",
       "\n",
       "    .dataframe tbody tr th {\n",
       "        vertical-align: top;\n",
       "    }\n",
       "\n",
       "    .dataframe thead th {\n",
       "        text-align: right;\n",
       "    }\n",
       "</style>\n",
       "<table border=\"1\" class=\"dataframe\">\n",
       "  <thead>\n",
       "    <tr style=\"text-align: right;\">\n",
       "      <th></th>\n",
       "      <th>age_restriction</th>\n",
       "      <th>count</th>\n",
       "      <th>sum</th>\n",
       "      <th>mean</th>\n",
       "    </tr>\n",
       "  </thead>\n",
       "  <tbody>\n",
       "    <tr>\n",
       "      <th>0</th>\n",
       "      <td>«0+» - для любой зрительской аудитории</td>\n",
       "      <td>317</td>\n",
       "      <td>809077425.97</td>\n",
       "      <td>2552294.72</td>\n",
       "    </tr>\n",
       "    <tr>\n",
       "      <th>1</th>\n",
       "      <td>«12+» - для детей старше 12 лет</td>\n",
       "      <td>789</td>\n",
       "      <td>60619446628.33</td>\n",
       "      <td>76830730.83</td>\n",
       "    </tr>\n",
       "    <tr>\n",
       "      <th>2</th>\n",
       "      <td>«16+» - для детей старше 16 лет</td>\n",
       "      <td>1172</td>\n",
       "      <td>76034733643.63</td>\n",
       "      <td>64876052.60</td>\n",
       "    </tr>\n",
       "    <tr>\n",
       "      <th>3</th>\n",
       "      <td>«18+» - запрещено для детей</td>\n",
       "      <td>1086</td>\n",
       "      <td>40759615572.12</td>\n",
       "      <td>37531874.38</td>\n",
       "    </tr>\n",
       "    <tr>\n",
       "      <th>4</th>\n",
       "      <td>«6+» - для детей старше 6 лет</td>\n",
       "      <td>485</td>\n",
       "      <td>55798610799.68</td>\n",
       "      <td>115048682.06</td>\n",
       "    </tr>\n",
       "  </tbody>\n",
       "</table>\n",
       "</div>"
      ],
      "text/plain": [
       "                          age_restriction  count            sum         mean\n",
       "0  «0+» - для любой зрительской аудитории    317   809077425.97   2552294.72\n",
       "1         «12+» - для детей старше 12 лет    789 60619446628.33  76830730.83\n",
       "2         «16+» - для детей старше 16 лет   1172 76034733643.63  64876052.60\n",
       "3             «18+» - запрещено для детей   1086 40759615572.12  37531874.38\n",
       "4           «6+» - для детей старше 6 лет    485 55798610799.68 115048682.06"
      ]
     },
     "execution_count": 49,
     "metadata": {},
     "output_type": "execute_result"
    }
   ],
   "source": [
    "# Сводная по возрастному ограничению\n",
    "data_from_2015 = data.loc[data['year'] > 2014]\n",
    "data_from_2015.groupby('age_restriction').agg({'box_office': ['count', 'sum', 'mean']}).droplevel(0, axis=1).reset_index()"
   ]
  },
  {
   "cell_type": "code",
   "execution_count": 50,
   "metadata": {},
   "outputs": [
    {
     "data": {
      "text/html": [
       "<div>\n",
       "<style scoped>\n",
       "    .dataframe tbody tr th:only-of-type {\n",
       "        vertical-align: middle;\n",
       "    }\n",
       "\n",
       "    .dataframe tbody tr th {\n",
       "        vertical-align: top;\n",
       "    }\n",
       "\n",
       "    .dataframe thead th {\n",
       "        text-align: right;\n",
       "    }\n",
       "</style>\n",
       "<table border=\"1\" class=\"dataframe\">\n",
       "  <thead>\n",
       "    <tr style=\"text-align: right;\">\n",
       "      <th>age_restriction</th>\n",
       "      <th>«0+» - для любой зрительской аудитории</th>\n",
       "      <th>«12+» - для детей старше 12 лет</th>\n",
       "      <th>«16+» - для детей старше 16 лет</th>\n",
       "      <th>«18+» - запрещено для детей</th>\n",
       "      <th>«6+» - для детей старше 6 лет</th>\n",
       "    </tr>\n",
       "    <tr>\n",
       "      <th>year</th>\n",
       "      <th></th>\n",
       "      <th></th>\n",
       "      <th></th>\n",
       "      <th></th>\n",
       "      <th></th>\n",
       "    </tr>\n",
       "  </thead>\n",
       "  <tbody>\n",
       "    <tr>\n",
       "      <th>2015</th>\n",
       "      <td>379054578.37</td>\n",
       "      <td>13616082008.91</td>\n",
       "      <td>11368120870.27</td>\n",
       "      <td>5432308367.44</td>\n",
       "      <td>8701799371.41</td>\n",
       "    </tr>\n",
       "    <tr>\n",
       "      <th>2016</th>\n",
       "      <td>150228848.67</td>\n",
       "      <td>12204446524.39</td>\n",
       "      <td>16664548541.74</td>\n",
       "      <td>6793929818.87</td>\n",
       "      <td>12053146008.24</td>\n",
       "    </tr>\n",
       "    <tr>\n",
       "      <th>2017</th>\n",
       "      <td>229598930.00</td>\n",
       "      <td>7851427660.67</td>\n",
       "      <td>18745042900.06</td>\n",
       "      <td>9651495581.02</td>\n",
       "      <td>12086142145.76</td>\n",
       "    </tr>\n",
       "    <tr>\n",
       "      <th>2018</th>\n",
       "      <td>32449002.11</td>\n",
       "      <td>14267291660.69</td>\n",
       "      <td>16503602346.96</td>\n",
       "      <td>8760085501.15</td>\n",
       "      <td>10104974623.41</td>\n",
       "    </tr>\n",
       "    <tr>\n",
       "      <th>2019</th>\n",
       "      <td>17746066.82</td>\n",
       "      <td>12680198773.67</td>\n",
       "      <td>12753418984.60</td>\n",
       "      <td>10121796303.64</td>\n",
       "      <td>12852548650.86</td>\n",
       "    </tr>\n",
       "  </tbody>\n",
       "</table>\n",
       "</div>"
      ],
      "text/plain": [
       "age_restriction  «0+» - для любой зрительской аудитории  \\\n",
       "year                                                      \n",
       "2015                                       379054578.37   \n",
       "2016                                       150228848.67   \n",
       "2017                                       229598930.00   \n",
       "2018                                        32449002.11   \n",
       "2019                                        17746066.82   \n",
       "\n",
       "age_restriction  «12+» - для детей старше 12 лет  \\\n",
       "year                                               \n",
       "2015                              13616082008.91   \n",
       "2016                              12204446524.39   \n",
       "2017                               7851427660.67   \n",
       "2018                              14267291660.69   \n",
       "2019                              12680198773.67   \n",
       "\n",
       "age_restriction  «16+» - для детей старше 16 лет  «18+» - запрещено для детей  \\\n",
       "year                                                                            \n",
       "2015                              11368120870.27                5432308367.44   \n",
       "2016                              16664548541.74                6793929818.87   \n",
       "2017                              18745042900.06                9651495581.02   \n",
       "2018                              16503602346.96                8760085501.15   \n",
       "2019                              12753418984.60               10121796303.64   \n",
       "\n",
       "age_restriction  «6+» - для детей старше 6 лет  \n",
       "year                                            \n",
       "2015                             8701799371.41  \n",
       "2016                            12053146008.24  \n",
       "2017                            12086142145.76  \n",
       "2018                            10104974623.41  \n",
       "2019                            12852548650.86  "
      ]
     },
     "execution_count": 50,
     "metadata": {},
     "output_type": "execute_result"
    }
   ],
   "source": [
    "# Сводная по возрастному ограничению и годам\n",
    "pivot_adge_year = data_from_2015.pivot_table(index = 'year', columns = 'age_restriction', values = 'box_office', aggfunc = 'sum')\n",
    "pivot_adge_year"
   ]
  },
  {
   "cell_type": "code",
   "execution_count": 51,
   "metadata": {
    "scrolled": true
   },
   "outputs": [
    {
     "data": {
      "text/plain": [
       "Text(0, 0.5, 'Рубли')"
      ]
     },
     "execution_count": 51,
     "metadata": {},
     "output_type": "execute_result"
    },
    {
     "data": {
      "image/png": "[encoded data removed]",
      "text/plain": [
       "<Figure size 640x480 with 1 Axes>"
      ]
     },
     "metadata": {},
     "output_type": "display_data"
    }
   ],
   "source": [
    "sns.lineplot(data = pivot_adge_year)\n",
    "plt.title('Сборы по годам для разных возрастныхгрупп')\n",
    "plt.xlabel('Год')\n",
    "plt.ylabel('Рубли')"
   ]
  },
  {
   "cell_type": "markdown",
   "metadata": {},
   "source": [
    "###### На графике и по сводным таблицм видно, что больше всего сборы у фильмов категории 16+, возможно это объясняется что таких фильмов больше всего. Так как если посмотреть на среднее значение, то у детских 6+ картин оно в два раза больше. \n",
    "###### Если смотреть расперделение по годам, то в лидерах так же категория 16+ (во всех периодах), а в аутсайдерах фильмы для любой зрительской аудитории 0+."
   ]
  },
  {
   "cell_type": "markdown",
   "metadata": {
    "id": "l_Kg6Ku4gFya"
   },
   "source": [
    "###  Исследуем фильмы, которые получили государственную поддержку\n",
    "\n",
    "На этом этапе нет конкретных инструкций и заданий — поищите интересные закономерности в данных. Посмотрите, сколько выделяют средств на поддержку кино. Проверьте, хорошо ли окупаются такие фильмы, какой у них рейтинг."
   ]
  },
  {
   "cell_type": "code",
   "execution_count": 52,
   "metadata": {
    "scrolled": true
   },
   "outputs": [
    {
     "data": {
      "text/html": [
       "<div>\n",
       "<style scoped>\n",
       "    .dataframe tbody tr th:only-of-type {\n",
       "        vertical-align: middle;\n",
       "    }\n",
       "\n",
       "    .dataframe tbody tr th {\n",
       "        vertical-align: top;\n",
       "    }\n",
       "\n",
       "    .dataframe thead th {\n",
       "        text-align: right;\n",
       "    }\n",
       "</style>\n",
       "<table border=\"1\" class=\"dataframe\">\n",
       "  <thead>\n",
       "    <tr style=\"text-align: right;\">\n",
       "      <th></th>\n",
       "      <th>title</th>\n",
       "      <th>puNumber</th>\n",
       "      <th>show_start_date</th>\n",
       "      <th>type</th>\n",
       "      <th>film_studio</th>\n",
       "      <th>production_country</th>\n",
       "      <th>director</th>\n",
       "      <th>producer</th>\n",
       "      <th>age_restriction</th>\n",
       "      <th>refundable_support</th>\n",
       "      <th>...</th>\n",
       "      <th>ratings</th>\n",
       "      <th>genres</th>\n",
       "      <th>box_office</th>\n",
       "      <th>year</th>\n",
       "      <th>director_first</th>\n",
       "      <th>genre_first</th>\n",
       "      <th>budget_ratio</th>\n",
       "      <th>is_show_cinema</th>\n",
       "      <th>grant</th>\n",
       "      <th>paybak</th>\n",
       "    </tr>\n",
       "  </thead>\n",
       "  <tbody>\n",
       "    <tr>\n",
       "      <th>1281</th>\n",
       "      <td>пока еще жива</td>\n",
       "      <td>111005313</td>\n",
       "      <td>2013-10-11 12:00:00+00:00</td>\n",
       "      <td>Художественный</td>\n",
       "      <td>АНО содействия развитию кинематографии \"Ангел-...</td>\n",
       "      <td>Россия</td>\n",
       "      <td>А.Атанесян</td>\n",
       "      <td>А.Атанесян, М.Бабаханов, Р.Бутко</td>\n",
       "      <td>«16+» - для детей старше 16 лет</td>\n",
       "      <td>0.00</td>\n",
       "      <td>...</td>\n",
       "      <td>8.10</td>\n",
       "      <td>драма,мелодрама</td>\n",
       "      <td>365353.60</td>\n",
       "      <td>2013</td>\n",
       "      <td>А.Атанесян</td>\n",
       "      <td>драма</td>\n",
       "      <td>0.33</td>\n",
       "      <td>True</td>\n",
       "      <td>26500000.00</td>\n",
       "      <td>-26134646.40</td>\n",
       "    </tr>\n",
       "    <tr>\n",
       "      <th>1448</th>\n",
       "      <td>бесславные придурки</td>\n",
       "      <td>111003314</td>\n",
       "      <td>2014-03-28 12:00:00+00:00</td>\n",
       "      <td>Художественный</td>\n",
       "      <td>ООО \"Компания \"АТК-Студио\"</td>\n",
       "      <td>Россия</td>\n",
       "      <td>А.Якимчук</td>\n",
       "      <td>А.Тютрюмов</td>\n",
       "      <td>«12+» - для детей старше 12 лет</td>\n",
       "      <td>0.00</td>\n",
       "      <td>...</td>\n",
       "      <td>NaN</td>\n",
       "      <td>NaN</td>\n",
       "      <td>28140.00</td>\n",
       "      <td>2014</td>\n",
       "      <td>А.Якимчук</td>\n",
       "      <td>NaN</td>\n",
       "      <td>0.70</td>\n",
       "      <td>True</td>\n",
       "      <td>26000000.00</td>\n",
       "      <td>-25971860.00</td>\n",
       "    </tr>\n",
       "    <tr>\n",
       "      <th>1498</th>\n",
       "      <td>невидимки</td>\n",
       "      <td>111004213</td>\n",
       "      <td>2013-09-10 12:00:00+00:00</td>\n",
       "      <td>Художественный</td>\n",
       "      <td>ООО \"Компания \"РЕАЛ-ДАКОТА\"</td>\n",
       "      <td>Россия</td>\n",
       "      <td>Р.Давлетьяров, С.Комаров</td>\n",
       "      <td>Р.Давлетьяров, А.Котелевский, А.Олейников</td>\n",
       "      <td>«12+» - для детей старше 12 лет</td>\n",
       "      <td>0.00</td>\n",
       "      <td>...</td>\n",
       "      <td>5.30</td>\n",
       "      <td>комедия,фантастика</td>\n",
       "      <td>19957031.50</td>\n",
       "      <td>2013</td>\n",
       "      <td>Р.Давлетьяров</td>\n",
       "      <td>комедия</td>\n",
       "      <td>0.61</td>\n",
       "      <td>True</td>\n",
       "      <td>107847945.00</td>\n",
       "      <td>-87890913.50</td>\n",
       "    </tr>\n",
       "    <tr>\n",
       "      <th>1524</th>\n",
       "      <td>берцы</td>\n",
       "      <td>111004314</td>\n",
       "      <td>2014-05-05 12:00:00+00:00</td>\n",
       "      <td>Художественный</td>\n",
       "      <td>ООО \"Студия \"Пассажир\"</td>\n",
       "      <td>Россия</td>\n",
       "      <td>Е.Миндадзе (псевдоним Катя Шагалова)</td>\n",
       "      <td>Л.Антонова</td>\n",
       "      <td>«16+» - для детей старше 16 лет</td>\n",
       "      <td>0.00</td>\n",
       "      <td>...</td>\n",
       "      <td>4.20</td>\n",
       "      <td>драма</td>\n",
       "      <td>55917.50</td>\n",
       "      <td>2014</td>\n",
       "      <td>Е.Миндадзе (псевдоним Катя Шагалова)</td>\n",
       "      <td>драма</td>\n",
       "      <td>0.69</td>\n",
       "      <td>True</td>\n",
       "      <td>28000000.00</td>\n",
       "      <td>-27944082.50</td>\n",
       "    </tr>\n",
       "    <tr>\n",
       "      <th>1792</th>\n",
       "      <td>братья ч</td>\n",
       "      <td>111004414</td>\n",
       "      <td>2014-04-23 12:00:00+00:00</td>\n",
       "      <td>Художественный</td>\n",
       "      <td>ООО \"Студия \"Пассажир\"</td>\n",
       "      <td>Россия</td>\n",
       "      <td>М.Угаров</td>\n",
       "      <td>А.Миндадзе, Л.Антонова</td>\n",
       "      <td>«16+» - для детей старше 16 лет</td>\n",
       "      <td>0.00</td>\n",
       "      <td>...</td>\n",
       "      <td>6.40</td>\n",
       "      <td>драма</td>\n",
       "      <td>232100.00</td>\n",
       "      <td>2014</td>\n",
       "      <td>М.Угаров</td>\n",
       "      <td>драма</td>\n",
       "      <td>0.62</td>\n",
       "      <td>True</td>\n",
       "      <td>25000000.00</td>\n",
       "      <td>-24767900.00</td>\n",
       "    </tr>\n",
       "    <tr>\n",
       "      <th>...</th>\n",
       "      <td>...</td>\n",
       "      <td>...</td>\n",
       "      <td>...</td>\n",
       "      <td>...</td>\n",
       "      <td>...</td>\n",
       "      <td>...</td>\n",
       "      <td>...</td>\n",
       "      <td>...</td>\n",
       "      <td>...</td>\n",
       "      <td>...</td>\n",
       "      <td>...</td>\n",
       "      <td>...</td>\n",
       "      <td>...</td>\n",
       "      <td>...</td>\n",
       "      <td>...</td>\n",
       "      <td>...</td>\n",
       "      <td>...</td>\n",
       "      <td>...</td>\n",
       "      <td>...</td>\n",
       "      <td>...</td>\n",
       "      <td>...</td>\n",
       "    </tr>\n",
       "    <tr>\n",
       "      <th>7464</th>\n",
       "      <td>союз спасения</td>\n",
       "      <td>111022019</td>\n",
       "      <td>2019-12-26 12:00:00+00:00</td>\n",
       "      <td>Художественный</td>\n",
       "      <td>ЗАО \"Дирекция кино\"</td>\n",
       "      <td>Россия</td>\n",
       "      <td>А.Кравчук</td>\n",
       "      <td>А.Максимов, К.Эрнст</td>\n",
       "      <td>«12+» - для детей старше 12 лет</td>\n",
       "      <td>100000000.00</td>\n",
       "      <td>...</td>\n",
       "      <td>6.00</td>\n",
       "      <td>история,биография,драма</td>\n",
       "      <td>717703185.53</td>\n",
       "      <td>2019</td>\n",
       "      <td>А.Кравчук</td>\n",
       "      <td>история</td>\n",
       "      <td>0.51</td>\n",
       "      <td>True</td>\n",
       "      <td>500000000.00</td>\n",
       "      <td>217703185.53</td>\n",
       "    </tr>\n",
       "    <tr>\n",
       "      <th>7466</th>\n",
       "      <td>иван царевич и серый волк 4</td>\n",
       "      <td>114005019</td>\n",
       "      <td>2019-12-20 12:00:00+00:00</td>\n",
       "      <td>Анимационный</td>\n",
       "      <td>ООО \"Студия анимационного кино \"Мельница\"</td>\n",
       "      <td>Россия</td>\n",
       "      <td>Д.Шмидт, К.Феоктистов</td>\n",
       "      <td>С.Сельянов, А.Боярский</td>\n",
       "      <td>«6+» - для детей старше 6 лет</td>\n",
       "      <td>100000000.00</td>\n",
       "      <td>...</td>\n",
       "      <td>6.70</td>\n",
       "      <td>мультфильм,приключения,семейный</td>\n",
       "      <td>501069235.00</td>\n",
       "      <td>2019</td>\n",
       "      <td>Д.Шмидт</td>\n",
       "      <td>мультфильм</td>\n",
       "      <td>0.53</td>\n",
       "      <td>True</td>\n",
       "      <td>100000000.00</td>\n",
       "      <td>401069235.00</td>\n",
       "    </tr>\n",
       "    <tr>\n",
       "      <th>7474</th>\n",
       "      <td>вторжение</td>\n",
       "      <td>111022519</td>\n",
       "      <td>2019-12-23 12:00:00+00:00</td>\n",
       "      <td>Художественный</td>\n",
       "      <td>ООО \"Арт Пикчерс Студия\", ООО \"Водород 2011\"</td>\n",
       "      <td>Россия</td>\n",
       "      <td>Ф.Бондарчук</td>\n",
       "      <td>Ф.Бондарчук, М.Врубель, А.Андрющенко, Д.Рудовский</td>\n",
       "      <td>«12+» - для детей старше 12 лет</td>\n",
       "      <td>100000000.00</td>\n",
       "      <td>...</td>\n",
       "      <td>5.70</td>\n",
       "      <td>фантастика,боевик</td>\n",
       "      <td>0.00</td>\n",
       "      <td>2019</td>\n",
       "      <td>Ф.Бондарчук</td>\n",
       "      <td>фантастика</td>\n",
       "      <td>0.53</td>\n",
       "      <td>False</td>\n",
       "      <td>500000000.00</td>\n",
       "      <td>-500000000.00</td>\n",
       "    </tr>\n",
       "    <tr>\n",
       "      <th>7476</th>\n",
       "      <td>я свободен</td>\n",
       "      <td>111023019</td>\n",
       "      <td>2019-12-26 12:00:00+00:00</td>\n",
       "      <td>Художественный</td>\n",
       "      <td>АО \"ТПО \"Киностудия им. М.Горького\"</td>\n",
       "      <td>Россия</td>\n",
       "      <td>И.Северов</td>\n",
       "      <td>С.Зернов</td>\n",
       "      <td>«12+» - для детей старше 12 лет</td>\n",
       "      <td>0.00</td>\n",
       "      <td>...</td>\n",
       "      <td>5.90</td>\n",
       "      <td>драма</td>\n",
       "      <td>0.00</td>\n",
       "      <td>2019</td>\n",
       "      <td>И.Северов</td>\n",
       "      <td>драма</td>\n",
       "      <td>0.65</td>\n",
       "      <td>False</td>\n",
       "      <td>30000000.00</td>\n",
       "      <td>-30000000.00</td>\n",
       "    </tr>\n",
       "    <tr>\n",
       "      <th>7478</th>\n",
       "      <td>(не)идеальный мужчина</td>\n",
       "      <td>111023119</td>\n",
       "      <td>2019-12-24 12:00:00+00:00</td>\n",
       "      <td>Художественный</td>\n",
       "      <td>ООО \"Нон-Стоп Продакшн\"</td>\n",
       "      <td>Россия</td>\n",
       "      <td>М.Бальчюнас (псевдоним М.Вайсберг)</td>\n",
       "      <td>С.Мелькумов, А.Роднянский, М.Вайсберг, Р.Минас...</td>\n",
       "      <td>«12+» - для детей старше 12 лет</td>\n",
       "      <td>40000000.00</td>\n",
       "      <td>...</td>\n",
       "      <td>4.50</td>\n",
       "      <td>комедия,фантастика,мелодрама</td>\n",
       "      <td>0.00</td>\n",
       "      <td>2019</td>\n",
       "      <td>М.Бальчюнас (псевдоним М.Вайсберг)</td>\n",
       "      <td>комедия</td>\n",
       "      <td>0.67</td>\n",
       "      <td>False</td>\n",
       "      <td>100000000.00</td>\n",
       "      <td>-100000000.00</td>\n",
       "    </tr>\n",
       "  </tbody>\n",
       "</table>\n",
       "<p>332 rows × 23 columns</p>\n",
       "</div>"
      ],
      "text/plain": [
       "                            title   puNumber           show_start_date  \\\n",
       "1281                пока еще жива  111005313 2013-10-11 12:00:00+00:00   \n",
       "1448          бесславные придурки  111003314 2014-03-28 12:00:00+00:00   \n",
       "1498                    невидимки  111004213 2013-09-10 12:00:00+00:00   \n",
       "1524                        берцы  111004314 2014-05-05 12:00:00+00:00   \n",
       "1792                     братья ч  111004414 2014-04-23 12:00:00+00:00   \n",
       "...                           ...        ...                       ...   \n",
       "7464                союз спасения  111022019 2019-12-26 12:00:00+00:00   \n",
       "7466  иван царевич и серый волк 4  114005019 2019-12-20 12:00:00+00:00   \n",
       "7474                    вторжение  111022519 2019-12-23 12:00:00+00:00   \n",
       "7476                   я свободен  111023019 2019-12-26 12:00:00+00:00   \n",
       "7478        (не)идеальный мужчина  111023119 2019-12-24 12:00:00+00:00   \n",
       "\n",
       "                type                                        film_studio  \\\n",
       "1281  Художественный  АНО содействия развитию кинематографии \"Ангел-...   \n",
       "1448  Художественный                         ООО \"Компания \"АТК-Студио\"   \n",
       "1498  Художественный                        ООО \"Компания \"РЕАЛ-ДАКОТА\"   \n",
       "1524  Художественный                             ООО \"Студия \"Пассажир\"   \n",
       "1792  Художественный                             ООО \"Студия \"Пассажир\"   \n",
       "...              ...                                                ...   \n",
       "7464  Художественный                                ЗАО \"Дирекция кино\"   \n",
       "7466    Анимационный          ООО \"Студия анимационного кино \"Мельница\"   \n",
       "7474  Художественный       ООО \"Арт Пикчерс Студия\", ООО \"Водород 2011\"   \n",
       "7476  Художественный                АО \"ТПО \"Киностудия им. М.Горького\"   \n",
       "7478  Художественный                            ООО \"Нон-Стоп Продакшн\"   \n",
       "\n",
       "     production_country                              director  \\\n",
       "1281             Россия                            А.Атанесян   \n",
       "1448             Россия                             А.Якимчук   \n",
       "1498             Россия              Р.Давлетьяров, С.Комаров   \n",
       "1524             Россия  Е.Миндадзе (псевдоним Катя Шагалова)   \n",
       "1792             Россия                              М.Угаров   \n",
       "...                 ...                                   ...   \n",
       "7464             Россия                             А.Кравчук   \n",
       "7466             Россия                 Д.Шмидт, К.Феоктистов   \n",
       "7474             Россия                           Ф.Бондарчук   \n",
       "7476             Россия                             И.Северов   \n",
       "7478             Россия    М.Бальчюнас (псевдоним М.Вайсберг)   \n",
       "\n",
       "                                               producer  \\\n",
       "1281                   А.Атанесян, М.Бабаханов, Р.Бутко   \n",
       "1448                                         А.Тютрюмов   \n",
       "1498          Р.Давлетьяров, А.Котелевский, А.Олейников   \n",
       "1524                                         Л.Антонова   \n",
       "1792                             А.Миндадзе, Л.Антонова   \n",
       "...                                                 ...   \n",
       "7464                                А.Максимов, К.Эрнст   \n",
       "7466                             С.Сельянов, А.Боярский   \n",
       "7474  Ф.Бондарчук, М.Врубель, А.Андрющенко, Д.Рудовский   \n",
       "7476                                           С.Зернов   \n",
       "7478  С.Мелькумов, А.Роднянский, М.Вайсберг, Р.Минас...   \n",
       "\n",
       "                      age_restriction  refundable_support  ...  ratings  \\\n",
       "1281  «16+» - для детей старше 16 лет                0.00  ...     8.10   \n",
       "1448  «12+» - для детей старше 12 лет                0.00  ...      NaN   \n",
       "1498  «12+» - для детей старше 12 лет                0.00  ...     5.30   \n",
       "1524  «16+» - для детей старше 16 лет                0.00  ...     4.20   \n",
       "1792  «16+» - для детей старше 16 лет                0.00  ...     6.40   \n",
       "...                               ...                 ...  ...      ...   \n",
       "7464  «12+» - для детей старше 12 лет        100000000.00  ...     6.00   \n",
       "7466    «6+» - для детей старше 6 лет        100000000.00  ...     6.70   \n",
       "7474  «12+» - для детей старше 12 лет        100000000.00  ...     5.70   \n",
       "7476  «12+» - для детей старше 12 лет                0.00  ...     5.90   \n",
       "7478  «12+» - для детей старше 12 лет         40000000.00  ...     4.50   \n",
       "\n",
       "                               genres   box_office  year  \\\n",
       "1281                  драма,мелодрама    365353.60  2013   \n",
       "1448                              NaN     28140.00  2014   \n",
       "1498               комедия,фантастика  19957031.50  2013   \n",
       "1524                            драма     55917.50  2014   \n",
       "1792                            драма    232100.00  2014   \n",
       "...                               ...          ...   ...   \n",
       "7464          история,биография,драма 717703185.53  2019   \n",
       "7466  мультфильм,приключения,семейный 501069235.00  2019   \n",
       "7474                фантастика,боевик         0.00  2019   \n",
       "7476                            драма         0.00  2019   \n",
       "7478     комедия,фантастика,мелодрама         0.00  2019   \n",
       "\n",
       "                            director_first  genre_first  budget_ratio  \\\n",
       "1281                            А.Атанесян        драма          0.33   \n",
       "1448                             А.Якимчук          NaN          0.70   \n",
       "1498                         Р.Давлетьяров      комедия          0.61   \n",
       "1524  Е.Миндадзе (псевдоним Катя Шагалова)        драма          0.69   \n",
       "1792                              М.Угаров        драма          0.62   \n",
       "...                                    ...          ...           ...   \n",
       "7464                             А.Кравчук      история          0.51   \n",
       "7466                               Д.Шмидт   мультфильм          0.53   \n",
       "7474                           Ф.Бондарчук   фантастика          0.53   \n",
       "7476                             И.Северов        драма          0.65   \n",
       "7478    М.Бальчюнас (псевдоним М.Вайсберг)      комедия          0.67   \n",
       "\n",
       "     is_show_cinema        grant        paybak  \n",
       "1281           True  26500000.00  -26134646.40  \n",
       "1448           True  26000000.00  -25971860.00  \n",
       "1498           True 107847945.00  -87890913.50  \n",
       "1524           True  28000000.00  -27944082.50  \n",
       "1792           True  25000000.00  -24767900.00  \n",
       "...             ...          ...           ...  \n",
       "7464           True 500000000.00  217703185.53  \n",
       "7466           True 100000000.00  401069235.00  \n",
       "7474          False 500000000.00 -500000000.00  \n",
       "7476          False  30000000.00  -30000000.00  \n",
       "7478          False 100000000.00 -100000000.00  \n",
       "\n",
       "[332 rows x 23 columns]"
      ]
     },
     "execution_count": 52,
     "metadata": {},
     "output_type": "execute_result"
    }
   ],
   "source": [
    "# Заведем столбец с господдержкой. Отфильтруем фильмы получившие господдержку\n",
    "data['grant'] = data['refundable_support'] + data['nonrefundable_support']\n",
    "data_granted = data.loc[data['grant'] > 0 ]\n",
    "data_granted['paybak'] = data_granted['box_office'] - data_granted['grant']\n",
    "data_granted"
   ]
  },
  {
   "cell_type": "code",
   "execution_count": 53,
   "metadata": {},
   "outputs": [
    {
     "data": {
      "text/plain": [
       "0.4629762405010332"
      ]
     },
     "execution_count": 53,
     "metadata": {},
     "output_type": "execute_result"
    }
   ],
   "source": [
    "# доля поддержки в бюджете\n",
    "data_granted['grant'].sum()/data_granted['budget'].sum()"
   ]
  },
  {
   "cell_type": "code",
   "execution_count": 54,
   "metadata": {},
   "outputs": [
    {
     "data": {
      "text/plain": [
       "count          332.00\n",
       "mean      66002473.68\n",
       "std      302569683.10\n",
       "min     -500000000.00\n",
       "25%      -29721261.88\n",
       "50%      -20700217.88\n",
       "75%       38651075.92\n",
       "max     3013568690.79\n",
       "Name: paybak, dtype: float64"
      ]
     },
     "execution_count": 54,
     "metadata": {},
     "output_type": "execute_result"
    }
   ],
   "source": [
    "data_granted['paybak'].describe()"
   ]
  },
  {
   "cell_type": "code",
   "execution_count": 55,
   "metadata": {},
   "outputs": [
    {
     "data": {
      "text/html": [
       "<div>\n",
       "<style scoped>\n",
       "    .dataframe tbody tr th:only-of-type {\n",
       "        vertical-align: middle;\n",
       "    }\n",
       "\n",
       "    .dataframe tbody tr th {\n",
       "        vertical-align: top;\n",
       "    }\n",
       "\n",
       "    .dataframe thead th {\n",
       "        text-align: right;\n",
       "    }\n",
       "</style>\n",
       "<table border=\"1\" class=\"dataframe\">\n",
       "  <thead>\n",
       "    <tr style=\"text-align: right;\">\n",
       "      <th></th>\n",
       "      <th>title</th>\n",
       "      <th>puNumber</th>\n",
       "      <th>show_start_date</th>\n",
       "      <th>type</th>\n",
       "      <th>film_studio</th>\n",
       "      <th>production_country</th>\n",
       "      <th>director</th>\n",
       "      <th>producer</th>\n",
       "      <th>age_restriction</th>\n",
       "      <th>refundable_support</th>\n",
       "      <th>...</th>\n",
       "      <th>ratings</th>\n",
       "      <th>genres</th>\n",
       "      <th>box_office</th>\n",
       "      <th>year</th>\n",
       "      <th>director_first</th>\n",
       "      <th>genre_first</th>\n",
       "      <th>budget_ratio</th>\n",
       "      <th>is_show_cinema</th>\n",
       "      <th>grant</th>\n",
       "      <th>paybak</th>\n",
       "    </tr>\n",
       "  </thead>\n",
       "  <tbody>\n",
       "    <tr>\n",
       "      <th>7474</th>\n",
       "      <td>вторжение</td>\n",
       "      <td>111022519</td>\n",
       "      <td>2019-12-23 12:00:00+00:00</td>\n",
       "      <td>Художественный</td>\n",
       "      <td>ООО \"Арт Пикчерс Студия\", ООО \"Водород 2011\"</td>\n",
       "      <td>Россия</td>\n",
       "      <td>Ф.Бондарчук</td>\n",
       "      <td>Ф.Бондарчук, М.Врубель, А.Андрющенко, Д.Рудовский</td>\n",
       "      <td>«12+» - для детей старше 12 лет</td>\n",
       "      <td>100000000.00</td>\n",
       "      <td>...</td>\n",
       "      <td>5.70</td>\n",
       "      <td>фантастика,боевик</td>\n",
       "      <td>0.00</td>\n",
       "      <td>2019</td>\n",
       "      <td>Ф.Бондарчук</td>\n",
       "      <td>фантастика</td>\n",
       "      <td>0.53</td>\n",
       "      <td>False</td>\n",
       "      <td>500000000.00</td>\n",
       "      <td>-500000000.00</td>\n",
       "    </tr>\n",
       "  </tbody>\n",
       "</table>\n",
       "<p>1 rows × 23 columns</p>\n",
       "</div>"
      ],
      "text/plain": [
       "          title   puNumber           show_start_date            type  \\\n",
       "7474  вторжение  111022519 2019-12-23 12:00:00+00:00  Художественный   \n",
       "\n",
       "                                       film_studio production_country  \\\n",
       "7474  ООО \"Арт Пикчерс Студия\", ООО \"Водород 2011\"             Россия   \n",
       "\n",
       "          director                                           producer  \\\n",
       "7474   Ф.Бондарчук  Ф.Бондарчук, М.Врубель, А.Андрющенко, Д.Рудовский   \n",
       "\n",
       "                      age_restriction  refundable_support  ...  ratings  \\\n",
       "7474  «12+» - для детей старше 12 лет        100000000.00  ...     5.70   \n",
       "\n",
       "                 genres box_office  year director_first  genre_first  \\\n",
       "7474  фантастика,боевик       0.00  2019    Ф.Бондарчук   фантастика   \n",
       "\n",
       "      budget_ratio is_show_cinema        grant        paybak  \n",
       "7474          0.53          False 500000000.00 -500000000.00  \n",
       "\n",
       "[1 rows x 23 columns]"
      ]
     },
     "execution_count": 55,
     "metadata": {},
     "output_type": "execute_result"
    }
   ],
   "source": [
    "# провальный фильм\n",
    "data_granted.loc[data_granted['paybak'] == data_granted['paybak'].min()]"
   ]
  },
  {
   "cell_type": "code",
   "execution_count": 56,
   "metadata": {},
   "outputs": [
    {
     "data": {
      "text/html": [
       "<div>\n",
       "<style scoped>\n",
       "    .dataframe tbody tr th:only-of-type {\n",
       "        vertical-align: middle;\n",
       "    }\n",
       "\n",
       "    .dataframe tbody tr th {\n",
       "        vertical-align: top;\n",
       "    }\n",
       "\n",
       "    .dataframe thead th {\n",
       "        text-align: right;\n",
       "    }\n",
       "</style>\n",
       "<table border=\"1\" class=\"dataframe\">\n",
       "  <thead>\n",
       "    <tr style=\"text-align: right;\">\n",
       "      <th></th>\n",
       "      <th>title</th>\n",
       "      <th>puNumber</th>\n",
       "      <th>show_start_date</th>\n",
       "      <th>type</th>\n",
       "      <th>film_studio</th>\n",
       "      <th>production_country</th>\n",
       "      <th>director</th>\n",
       "      <th>producer</th>\n",
       "      <th>age_restriction</th>\n",
       "      <th>refundable_support</th>\n",
       "      <th>...</th>\n",
       "      <th>ratings</th>\n",
       "      <th>genres</th>\n",
       "      <th>box_office</th>\n",
       "      <th>year</th>\n",
       "      <th>director_first</th>\n",
       "      <th>genre_first</th>\n",
       "      <th>budget_ratio</th>\n",
       "      <th>is_show_cinema</th>\n",
       "      <th>grant</th>\n",
       "      <th>paybak</th>\n",
       "    </tr>\n",
       "  </thead>\n",
       "  <tbody>\n",
       "    <tr>\n",
       "      <th>7456</th>\n",
       "      <td>холоп</td>\n",
       "      <td>111021719</td>\n",
       "      <td>2019-12-19 12:00:00+00:00</td>\n",
       "      <td>Художественный</td>\n",
       "      <td>ООО \"МЕМ-МЕДИА\" по заказу АО \"ВБД Груп\"</td>\n",
       "      <td>Россия</td>\n",
       "      <td>К.Шипенко</td>\n",
       "      <td>Э.Илоян, Д.Жалинский, В.Дусмухаметов, Т.Бадзие...</td>\n",
       "      <td>«12+» - для детей старше 12 лет</td>\n",
       "      <td>25000000.00</td>\n",
       "      <td>...</td>\n",
       "      <td>6.80</td>\n",
       "      <td>комедия</td>\n",
       "      <td>3073568690.79</td>\n",
       "      <td>2019</td>\n",
       "      <td>К.Шипенко</td>\n",
       "      <td>комедия</td>\n",
       "      <td>0.38</td>\n",
       "      <td>True</td>\n",
       "      <td>60000000.00</td>\n",
       "      <td>3013568690.79</td>\n",
       "    </tr>\n",
       "  </tbody>\n",
       "</table>\n",
       "<p>1 rows × 23 columns</p>\n",
       "</div>"
      ],
      "text/plain": [
       "      title   puNumber           show_start_date            type  \\\n",
       "7456  холоп  111021719 2019-12-19 12:00:00+00:00  Художественный   \n",
       "\n",
       "                                  film_studio production_country   director  \\\n",
       "7456  ООО \"МЕМ-МЕДИА\" по заказу АО \"ВБД Груп\"             Россия  К.Шипенко   \n",
       "\n",
       "                                               producer  \\\n",
       "7456  Э.Илоян, Д.Жалинский, В.Дусмухаметов, Т.Бадзие...   \n",
       "\n",
       "                      age_restriction  refundable_support  ...  ratings  \\\n",
       "7456  «12+» - для детей старше 12 лет         25000000.00  ...     6.80   \n",
       "\n",
       "       genres    box_office  year director_first  genre_first  budget_ratio  \\\n",
       "7456  комедия 3073568690.79  2019      К.Шипенко      комедия          0.38   \n",
       "\n",
       "     is_show_cinema       grant        paybak  \n",
       "7456           True 60000000.00 3013568690.79  \n",
       "\n",
       "[1 rows x 23 columns]"
      ]
     },
     "execution_count": 56,
     "metadata": {},
     "output_type": "execute_result"
    }
   ],
   "source": [
    "# успешный фильм\n",
    "data_granted.loc[data_granted['paybak'] == data_granted['paybak'].max()]"
   ]
  },
  {
   "cell_type": "code",
   "execution_count": 57,
   "metadata": {},
   "outputs": [
    {
     "data": {
      "text/plain": [
       "count   314.00\n",
       "mean      6.00\n",
       "std       1.12\n",
       "min       1.00\n",
       "25%       5.30\n",
       "50%       6.20\n",
       "75%       6.70\n",
       "max       8.50\n",
       "Name: ratings, dtype: float64"
      ]
     },
     "execution_count": 57,
     "metadata": {},
     "output_type": "execute_result"
    }
   ],
   "source": [
    "# Рейтинг\n",
    "data_granted['ratings'].describe()"
   ]
  },
  {
   "cell_type": "code",
   "execution_count": 58,
   "metadata": {},
   "outputs": [
    {
     "data": {
      "text/html": [
       "<div>\n",
       "<style scoped>\n",
       "    .dataframe tbody tr th:only-of-type {\n",
       "        vertical-align: middle;\n",
       "    }\n",
       "\n",
       "    .dataframe tbody tr th {\n",
       "        vertical-align: top;\n",
       "    }\n",
       "\n",
       "    .dataframe thead th {\n",
       "        text-align: right;\n",
       "    }\n",
       "</style>\n",
       "<table border=\"1\" class=\"dataframe\">\n",
       "  <thead>\n",
       "    <tr style=\"text-align: right;\">\n",
       "      <th></th>\n",
       "      <th>title</th>\n",
       "      <th>puNumber</th>\n",
       "      <th>show_start_date</th>\n",
       "      <th>type</th>\n",
       "      <th>film_studio</th>\n",
       "      <th>production_country</th>\n",
       "      <th>director</th>\n",
       "      <th>producer</th>\n",
       "      <th>age_restriction</th>\n",
       "      <th>refundable_support</th>\n",
       "      <th>...</th>\n",
       "      <th>ratings</th>\n",
       "      <th>genres</th>\n",
       "      <th>box_office</th>\n",
       "      <th>year</th>\n",
       "      <th>director_first</th>\n",
       "      <th>genre_first</th>\n",
       "      <th>budget_ratio</th>\n",
       "      <th>is_show_cinema</th>\n",
       "      <th>grant</th>\n",
       "      <th>paybak</th>\n",
       "    </tr>\n",
       "  </thead>\n",
       "  <tbody>\n",
       "    <tr>\n",
       "      <th>3515</th>\n",
       "      <td>взломать блогеров</td>\n",
       "      <td>111016616</td>\n",
       "      <td>2016-10-28 12:00:00+00:00</td>\n",
       "      <td>Художественный</td>\n",
       "      <td>ООО \"ТаББаК\"</td>\n",
       "      <td>Россия</td>\n",
       "      <td>М.Свешников</td>\n",
       "      <td>Т.Бекмамбетов</td>\n",
       "      <td>«6+» - для детей старше 6 лет</td>\n",
       "      <td>0.00</td>\n",
       "      <td>...</td>\n",
       "      <td>1.00</td>\n",
       "      <td>комедия,мультфильм,фантастика</td>\n",
       "      <td>7323648.00</td>\n",
       "      <td>2016</td>\n",
       "      <td>М.Свешников</td>\n",
       "      <td>комедия</td>\n",
       "      <td>0.69</td>\n",
       "      <td>True</td>\n",
       "      <td>25000000.00</td>\n",
       "      <td>-17676352.00</td>\n",
       "    </tr>\n",
       "  </tbody>\n",
       "</table>\n",
       "<p>1 rows × 23 columns</p>\n",
       "</div>"
      ],
      "text/plain": [
       "                  title   puNumber           show_start_date            type  \\\n",
       "3515  взломать блогеров  111016616 2016-10-28 12:00:00+00:00  Художественный   \n",
       "\n",
       "       film_studio production_country     director       producer  \\\n",
       "3515  ООО \"ТаББаК\"             Россия  М.Свешников  Т.Бекмамбетов   \n",
       "\n",
       "                    age_restriction  refundable_support  ...  ratings  \\\n",
       "3515  «6+» - для детей старше 6 лет                0.00  ...     1.00   \n",
       "\n",
       "                             genres box_office  year director_first  \\\n",
       "3515  комедия,мультфильм,фантастика 7323648.00  2016    М.Свешников   \n",
       "\n",
       "      genre_first  budget_ratio is_show_cinema       grant       paybak  \n",
       "3515      комедия          0.69           True 25000000.00 -17676352.00  \n",
       "\n",
       "[1 rows x 23 columns]"
      ]
     },
     "execution_count": 58,
     "metadata": {},
     "output_type": "execute_result"
    }
   ],
   "source": [
    "data_granted.loc[data_granted['ratings'] == data_granted['ratings'].min()]"
   ]
  },
  {
   "cell_type": "code",
   "execution_count": 59,
   "metadata": {},
   "outputs": [
    {
     "data": {
      "text/html": [
       "<div>\n",
       "<style scoped>\n",
       "    .dataframe tbody tr th:only-of-type {\n",
       "        vertical-align: middle;\n",
       "    }\n",
       "\n",
       "    .dataframe tbody tr th {\n",
       "        vertical-align: top;\n",
       "    }\n",
       "\n",
       "    .dataframe thead th {\n",
       "        text-align: right;\n",
       "    }\n",
       "</style>\n",
       "<table border=\"1\" class=\"dataframe\">\n",
       "  <thead>\n",
       "    <tr style=\"text-align: right;\">\n",
       "      <th></th>\n",
       "      <th>title</th>\n",
       "      <th>puNumber</th>\n",
       "      <th>show_start_date</th>\n",
       "      <th>type</th>\n",
       "      <th>film_studio</th>\n",
       "      <th>production_country</th>\n",
       "      <th>director</th>\n",
       "      <th>producer</th>\n",
       "      <th>age_restriction</th>\n",
       "      <th>refundable_support</th>\n",
       "      <th>...</th>\n",
       "      <th>ratings</th>\n",
       "      <th>genres</th>\n",
       "      <th>box_office</th>\n",
       "      <th>year</th>\n",
       "      <th>director_first</th>\n",
       "      <th>genre_first</th>\n",
       "      <th>budget_ratio</th>\n",
       "      <th>is_show_cinema</th>\n",
       "      <th>grant</th>\n",
       "      <th>paybak</th>\n",
       "    </tr>\n",
       "  </thead>\n",
       "  <tbody>\n",
       "    <tr>\n",
       "      <th>1870</th>\n",
       "      <td>а зори здесь тихие</td>\n",
       "      <td>111002915</td>\n",
       "      <td>2015-03-16 12:00:00+00:00</td>\n",
       "      <td>Художественный</td>\n",
       "      <td>ООО \"Компания \"Реал-Дакота\"</td>\n",
       "      <td>Россия</td>\n",
       "      <td>Р.Давлетьяров</td>\n",
       "      <td>NaN</td>\n",
       "      <td>«12+» - для детей старше 12 лет</td>\n",
       "      <td>50000000.00</td>\n",
       "      <td>...</td>\n",
       "      <td>8.50</td>\n",
       "      <td>драма,военный,история</td>\n",
       "      <td>249166767.70</td>\n",
       "      <td>2015</td>\n",
       "      <td>Р.Давлетьяров</td>\n",
       "      <td>драма</td>\n",
       "      <td>0.68</td>\n",
       "      <td>True</td>\n",
       "      <td>150000000.00</td>\n",
       "      <td>99166767.70</td>\n",
       "    </tr>\n",
       "    <tr>\n",
       "      <th>3627</th>\n",
       "      <td>большой</td>\n",
       "      <td>111017416</td>\n",
       "      <td>2016-11-22 12:00:00+00:00</td>\n",
       "      <td>Художественный</td>\n",
       "      <td>ЗАО \"ПРОДЮСЕРСКАЯ КОМПАНИЯ ВАЛЕРИЯ ТОДОРОВСКОГО\"</td>\n",
       "      <td>Россия</td>\n",
       "      <td>В.Тодоровский</td>\n",
       "      <td>В.Тодоровский, А.Златопольский</td>\n",
       "      <td>«12+» - для детей старше 12 лет</td>\n",
       "      <td>10000000.00</td>\n",
       "      <td>...</td>\n",
       "      <td>8.50</td>\n",
       "      <td>криминал,комедия,боевик</td>\n",
       "      <td>228578204.00</td>\n",
       "      <td>2016</td>\n",
       "      <td>В.Тодоровский</td>\n",
       "      <td>криминал</td>\n",
       "      <td>0.66</td>\n",
       "      <td>True</td>\n",
       "      <td>210000000.00</td>\n",
       "      <td>18578204.00</td>\n",
       "    </tr>\n",
       "  </tbody>\n",
       "</table>\n",
       "<p>2 rows × 23 columns</p>\n",
       "</div>"
      ],
      "text/plain": [
       "                   title   puNumber           show_start_date            type  \\\n",
       "1870  а зори здесь тихие  111002915 2015-03-16 12:00:00+00:00  Художественный   \n",
       "3627             большой  111017416 2016-11-22 12:00:00+00:00  Художественный   \n",
       "\n",
       "                                           film_studio production_country  \\\n",
       "1870                       ООО \"Компания \"Реал-Дакота\"             Россия   \n",
       "3627  ЗАО \"ПРОДЮСЕРСКАЯ КОМПАНИЯ ВАЛЕРИЯ ТОДОРОВСКОГО\"             Россия   \n",
       "\n",
       "           director                        producer  \\\n",
       "1870  Р.Давлетьяров                             NaN   \n",
       "3627  В.Тодоровский  В.Тодоровский, А.Златопольский   \n",
       "\n",
       "                      age_restriction  refundable_support  ...  ratings  \\\n",
       "1870  «12+» - для детей старше 12 лет         50000000.00  ...     8.50   \n",
       "3627  «12+» - для детей старше 12 лет         10000000.00  ...     8.50   \n",
       "\n",
       "                       genres   box_office  year director_first  genre_first  \\\n",
       "1870    драма,военный,история 249166767.70  2015  Р.Давлетьяров        драма   \n",
       "3627  криминал,комедия,боевик 228578204.00  2016  В.Тодоровский     криминал   \n",
       "\n",
       "      budget_ratio is_show_cinema        grant      paybak  \n",
       "1870          0.68           True 150000000.00 99166767.70  \n",
       "3627          0.66           True 210000000.00 18578204.00  \n",
       "\n",
       "[2 rows x 23 columns]"
      ]
     },
     "execution_count": 59,
     "metadata": {},
     "output_type": "execute_result"
    }
   ],
   "source": [
    "data_granted.loc[data_granted['ratings'] == data_granted['ratings'].max()]"
   ]
  },
  {
   "cell_type": "code",
   "execution_count": 60,
   "metadata": {},
   "outputs": [
    {
     "data": {
      "text/html": [
       "<div>\n",
       "<style scoped>\n",
       "    .dataframe tbody tr th:only-of-type {\n",
       "        vertical-align: middle;\n",
       "    }\n",
       "\n",
       "    .dataframe tbody tr th {\n",
       "        vertical-align: top;\n",
       "    }\n",
       "\n",
       "    .dataframe thead th {\n",
       "        text-align: right;\n",
       "    }\n",
       "</style>\n",
       "<table border=\"1\" class=\"dataframe\">\n",
       "  <thead>\n",
       "    <tr style=\"text-align: right;\">\n",
       "      <th></th>\n",
       "      <th>paybak</th>\n",
       "    </tr>\n",
       "    <tr>\n",
       "      <th>director_first</th>\n",
       "      <th></th>\n",
       "    </tr>\n",
       "  </thead>\n",
       "  <tbody>\n",
       "    <tr>\n",
       "      <th>П.Лунгин</th>\n",
       "      <td>-203256726.79</td>\n",
       "    </tr>\n",
       "    <tr>\n",
       "      <th>Р.Давлетьяров</th>\n",
       "      <td>-160585012.56</td>\n",
       "    </tr>\n",
       "    <tr>\n",
       "      <th>И.Джендубаев</th>\n",
       "      <td>-139828551.50</td>\n",
       "    </tr>\n",
       "    <tr>\n",
       "      <th>В.Саков</th>\n",
       "      <td>-137634765.60</td>\n",
       "    </tr>\n",
       "    <tr>\n",
       "      <th>А.Котт</th>\n",
       "      <td>-125526964.77</td>\n",
       "    </tr>\n",
       "    <tr>\n",
       "      <th>...</th>\n",
       "      <td>...</td>\n",
       "    </tr>\n",
       "    <tr>\n",
       "      <th>О.Трофим</th>\n",
       "      <td>1360731797.89</td>\n",
       "    </tr>\n",
       "    <tr>\n",
       "      <th>Д.Дьяченко</th>\n",
       "      <td>2053898634.12</td>\n",
       "    </tr>\n",
       "    <tr>\n",
       "      <th>А.Сидоров</th>\n",
       "      <td>2091754004.52</td>\n",
       "    </tr>\n",
       "    <tr>\n",
       "      <th>А.Мегердичев</th>\n",
       "      <td>2379686144.00</td>\n",
       "    </tr>\n",
       "    <tr>\n",
       "      <th>К.Шипенко</th>\n",
       "      <td>3515772217.79</td>\n",
       "    </tr>\n",
       "  </tbody>\n",
       "</table>\n",
       "<p>270 rows × 1 columns</p>\n",
       "</div>"
      ],
      "text/plain": [
       "                      paybak\n",
       "director_first              \n",
       "П.Лунгин       -203256726.79\n",
       "Р.Давлетьяров  -160585012.56\n",
       "И.Джендубаев   -139828551.50\n",
       "В.Саков        -137634765.60\n",
       "А.Котт         -125526964.77\n",
       "...                      ...\n",
       "О.Трофим       1360731797.89\n",
       "Д.Дьяченко     2053898634.12\n",
       "А.Сидоров      2091754004.52\n",
       "А.Мегердичев   2379686144.00\n",
       "К.Шипенко      3515772217.79\n",
       "\n",
       "[270 rows x 1 columns]"
      ]
     },
     "execution_count": 60,
     "metadata": {},
     "output_type": "execute_result"
    }
   ],
   "source": [
    "data_granted.pivot_table(index = 'director_first', values = 'paybak', aggfunc='sum').sort_values(by = 'paybak')"
   ]
  },
  {
   "cell_type": "markdown",
   "metadata": {},
   "source": [
    "###### Всего в выборке 332 фильма которые получали гос поддержку. Доля этой поддержки в общем бюджете картин 46%. Успешными, в финансовом плане, данные фильмы назвать сложно, так как медианное значение и первая квартиль сборов за вычетом поддержки оказалась отрицательной. \n",
    "###### Самый провальный в финансовом плане фильм - \"Вторжение\" Ф.Бондарчука. Самый успешный в финансовом плане фильм - \"Холоп\" К.Шипенко. \n",
    "###### Фильм, с господдержкой,  получивший меньше всего зрительских симпатий \"Взломать блогеров\" М.Свешникова, оценка 1.0\n",
    "###### Фильмы, с господдержкой,  получивший больше всего зрительских симпатий \"А зори здесь тихие\" Р.Давлетьярова, оценка 8.5 и \"Большой\" В.Тодоровского оценка 8.5.\n",
    "###### Самый провальный в прокате режисер - П.Лунгин (потратил гораздо больше, чем фильм заработал в прокате)\n",
    "###### Самый успешный в прокате режисер - К.Шипенко (заработал гораздо больше, чем было господдержки)"
   ]
  },
  {
   "cell_type": "markdown",
   "metadata": {},
   "source": [
    "#### Зависимости"
   ]
  },
  {
   "cell_type": "code",
   "execution_count": 61,
   "metadata": {},
   "outputs": [
    {
     "data": {
      "text/plain": [
       "<AxesSubplot:>"
      ]
     },
     "execution_count": 61,
     "metadata": {},
     "output_type": "execute_result"
    },
    {
     "data": {
      "image/png": "[encoded data removed]",
      "text/plain": [
       "<Figure size 640x480 with 2 Axes>"
      ]
     },
     "metadata": {},
     "output_type": "display_data"
    }
   ],
   "source": [
    "data_granted.corr()\n",
    "sns.heatmap(\n",
    "    data_granted.corr(), annot = True, vmin=-1, vmax=1,\n",
    "    center= 0, cmap= 'coolwarm', linewidths=3, linecolor='black',\n",
    ")"
   ]
  },
  {
   "cell_type": "markdown",
   "metadata": {},
   "source": [
    "##### Зависят ли сборы от суммы господдержки. "
   ]
  },
  {
   "cell_type": "code",
   "execution_count": 62,
   "metadata": {
    "scrolled": false
   },
   "outputs": [
    {
     "data": {
      "text/plain": [
       "0.45632186146154813"
      ]
     },
     "execution_count": 62,
     "metadata": {},
     "output_type": "execute_result"
    },
    {
     "data": {
      "image/png": "[encoded data removed]",
      "text/plain": [
       "<Figure size 640x480 with 1 Axes>"
      ]
     },
     "metadata": {},
     "output_type": "display_data"
    }
   ],
   "source": [
    "data_granted.plot(x= 'grant', y= 'box_office', kind= 'scatter', grid = True)\n",
    "data_granted['grant'].corr(data_granted['box_office'])"
   ]
  },
  {
   "cell_type": "markdown",
   "metadata": {},
   "source": [
    "###### Наблюдается не сильная линейная зависимость сборов от господдержки. Коэффициент кореляции Пирсона - 0.45. "
   ]
  },
  {
   "cell_type": "markdown",
   "metadata": {},
   "source": [
    "##### Зависит ли рейтинг от суммы господдержки."
   ]
  },
  {
   "cell_type": "code",
   "execution_count": 63,
   "metadata": {},
   "outputs": [
    {
     "data": {
      "text/plain": [
       "0.11828746275619732"
      ]
     },
     "execution_count": 63,
     "metadata": {},
     "output_type": "execute_result"
    },
    {
     "data": {
      "image/png": "[encoded data removed]",
      "text/plain": [
       "<Figure size 640x480 with 1 Axes>"
      ]
     },
     "metadata": {},
     "output_type": "display_data"
    }
   ],
   "source": [
    "data_granted.plot(x= 'grant', y= 'ratings', kind= 'scatter', grid = True)\n",
    "data_granted['grant'].corr(data_granted['ratings'])"
   ]
  },
  {
   "cell_type": "markdown",
   "metadata": {},
   "source": [
    "###### Такой зависимости не наблюдается. Коэффициент кореляции Пирсона - 0.11"
   ]
  },
  {
   "cell_type": "markdown",
   "metadata": {},
   "source": [
    "##### Зависит ли окупаемость от суммы господдержки"
   ]
  },
  {
   "cell_type": "code",
   "execution_count": 64,
   "metadata": {},
   "outputs": [
    {
     "data": {
      "text/plain": [
       "0.25536626569500404"
      ]
     },
     "execution_count": 64,
     "metadata": {},
     "output_type": "execute_result"
    },
    {
     "data": {
      "image/png": "[encoded data removed]",
      "text/plain": [
       "<Figure size 640x480 with 1 Axes>"
      ]
     },
     "metadata": {},
     "output_type": "display_data"
    }
   ],
   "source": [
    "data_granted.plot(x= 'grant', y= 'paybak', kind= 'scatter', grid = True)\n",
    "data_granted['grant'].corr(data_granted['paybak'])"
   ]
  },
  {
   "cell_type": "markdown",
   "metadata": {},
   "source": [
    "###### Зависимости практически нет.  Коэффициент кореляции Пирсона - 0.25. Из графика видно крайне странная картина, чем боьше господдержка, тем меньше окупаемость картин."
   ]
  },
  {
   "cell_type": "markdown",
   "metadata": {},
   "source": [
    "##### Зависит ли сумма сборов от рейтинга"
   ]
  },
  {
   "cell_type": "code",
   "execution_count": 65,
   "metadata": {
    "scrolled": true
   },
   "outputs": [
    {
     "data": {
      "text/plain": [
       "0.15184839872301328"
      ]
     },
     "execution_count": 65,
     "metadata": {},
     "output_type": "execute_result"
    },
    {
     "data": {
      "image/png": "[encoded data removed]",
      "text/plain": [
       "<Figure size 640x480 with 1 Axes>"
      ]
     },
     "metadata": {},
     "output_type": "display_data"
    }
   ],
   "source": [
    "data_granted.plot(x= 'ratings', y= 'box_office', kind= 'scatter', grid = True)\n",
    "data_granted['ratings'].corr(data_granted['box_office'])"
   ]
  },
  {
   "cell_type": "markdown",
   "metadata": {},
   "source": [
    "###### Такой зависимости так же - нет. Коэффициент кореляции Пирсона - 0.15"
   ]
  },
  {
   "cell_type": "markdown",
   "metadata": {
    "id": "V2gYwMcPgFyd"
   },
   "source": [
    "### Общий вывод"
   ]
  },
  {
   "cell_type": "markdown",
   "metadata": {},
   "source": [
    "###### В данной работе был проведен исследовательский анализ данных российского кинопроката с 2010 по 2019 год. Были проанализированы 7486 кинокартин. Проведена предобработка данных. Были удалены явные и не явные дубликаты. В данных содержится много пропусков. \n",
    "######  Были посчитаны дополнительные признаки. Доля господдержки в бюджете, Сумма господдержки, Окупаемость фильма. Доля господдержки в общем бюджете фильмов составила 46%. \n",
    "######  Был проведен исследовательский анализ данных.\n",
    "###### Проанализировали фильмы по годам. В выборке содержится информация о сборах только для 41% фильмов.Общее распределение фильмов по годам не линейно. Максимальное количество картин вышло в 2010 году - 985. Минимальное в 2017году - 505. Среднее и медианное значения практически совпадают, 748 и 756 штук в год соответственно. Сборы в целом повторяют график распределения доли фильмов в прокате.Среднее значение сборов по всем годам 24 млрд. руб. Медианное значение - 23 млрд. руб\n",
    "###### Проанализировали фильмы получившие господдержку. Всего таких фильмов в выборке 332. Успешными, в финансовом плане, данные фильмы назвать сложно, так как медианная окупаемость таких картин - отрицательная.\n",
    "###### Посмотрели, как влияет возрастное ограничение на кассовые сборы. Больше всего сборы у фильмов категории 16+. Возможно это объясняется что таких фильмов больше всего. Так как если посмотреть на среднее значение, то у детских 6+ картин оно в два раза больше. Меньше всего кассовые сборы у фильмов для любой зрительской аудитории 0+.\n",
    "###### Посмотрели другие зависимости. Наблюдается не сильная линейная зависимость сборов от господдержки. Остальные параметры слабо корелируются друг с другом. Возможно если данные были бы полнее кореляции удалось бы найти.\n",
    "\n"
   ]
  }
 ],
 "metadata": {
  "ExecuteTimeLog": [
   {
    "duration": 537,
    "start_time": "2021-07-07T10:12:08.634Z"
   },
   {
    "duration": 206,
    "start_time": "2021-07-07T10:12:30.191Z"
   },
   {
    "duration": 227,
    "start_time": "2021-07-07T10:12:33.078Z"
   },
   {
    "duration": 153,
    "start_time": "2021-07-07T10:13:42.146Z"
   },
   {
    "duration": 233,
    "start_time": "2021-07-07T10:30:09.252Z"
   },
   {
    "duration": 19,
    "start_time": "2021-07-07T10:30:15.577Z"
   },
   {
    "duration": 18,
    "start_time": "2021-07-07T10:30:57.348Z"
   },
   {
    "duration": 19,
    "start_time": "2021-07-07T10:31:17.452Z"
   },
   {
    "duration": 21,
    "start_time": "2021-07-07T10:31:32.227Z"
   },
   {
    "duration": 27,
    "start_time": "2021-07-07T10:32:06.588Z"
   },
   {
    "duration": 23,
    "start_time": "2021-07-07T10:32:43.645Z"
   },
   {
    "duration": 24,
    "start_time": "2021-07-07T10:33:06.948Z"
   },
   {
    "duration": 7,
    "start_time": "2021-07-07T10:33:28.558Z"
   },
   {
    "duration": 23,
    "start_time": "2021-07-07T10:33:43.761Z"
   },
   {
    "duration": 28,
    "start_time": "2021-07-07T10:34:13.466Z"
   },
   {
    "duration": 23,
    "start_time": "2021-07-07T10:35:56.187Z"
   },
   {
    "duration": 6,
    "start_time": "2021-07-07T10:36:48.182Z"
   },
   {
    "duration": 14,
    "start_time": "2021-07-07T10:37:49.641Z"
   },
   {
    "duration": 6,
    "start_time": "2021-07-07T10:38:06.694Z"
   },
   {
    "duration": 6,
    "start_time": "2021-07-07T10:38:13.493Z"
   },
   {
    "duration": 19,
    "start_time": "2021-07-07T10:38:44.056Z"
   },
   {
    "duration": 186,
    "start_time": "2021-07-07T10:48:35.618Z"
   },
   {
    "duration": 24,
    "start_time": "2021-07-07T10:48:51.498Z"
   },
   {
    "duration": 20,
    "start_time": "2021-07-07T10:48:59.415Z"
   },
   {
    "duration": 20,
    "start_time": "2021-07-07T10:53:02.195Z"
   },
   {
    "duration": 188,
    "start_time": "2021-07-07T10:54:40.486Z"
   },
   {
    "duration": 115,
    "start_time": "2021-07-07T10:54:52.552Z"
   },
   {
    "duration": 214,
    "start_time": "2021-07-07T10:54:56.354Z"
   },
   {
    "duration": 47,
    "start_time": "2021-07-07T10:54:58.282Z"
   },
   {
    "duration": 217,
    "start_time": "2021-07-07T10:59:16.075Z"
   },
   {
    "duration": 51,
    "start_time": "2021-07-07T10:59:16.243Z"
   },
   {
    "duration": 578,
    "start_time": "2021-07-07T10:59:18.774Z"
   },
   {
    "duration": 161,
    "start_time": "2021-07-07T10:59:21.238Z"
   },
   {
    "duration": 59,
    "start_time": "2021-07-07T10:59:21.453Z"
   },
   {
    "duration": 3,
    "start_time": "2021-07-07T11:02:10.786Z"
   },
   {
    "duration": 13,
    "start_time": "2021-07-07T11:07:07.722Z"
   },
   {
    "duration": 26,
    "start_time": "2021-07-07T11:07:17.958Z"
   },
   {
    "duration": 22,
    "start_time": "2021-07-07T11:08:17.939Z"
   },
   {
    "duration": 212,
    "start_time": "2021-07-07T11:08:19.665Z"
   },
   {
    "duration": 21,
    "start_time": "2021-07-07T11:08:29.945Z"
   },
   {
    "duration": 31,
    "start_time": "2021-07-07T11:08:38.899Z"
   },
   {
    "duration": 23,
    "start_time": "2021-07-07T11:08:54.527Z"
   },
   {
    "duration": 8,
    "start_time": "2021-07-07T11:18:55.974Z"
   },
   {
    "duration": 7,
    "start_time": "2021-07-07T11:19:03.639Z"
   },
   {
    "duration": 7,
    "start_time": "2021-07-07T11:19:06.444Z"
   },
   {
    "duration": 578,
    "start_time": "2021-07-07T12:09:59.576Z"
   },
   {
    "duration": 195,
    "start_time": "2021-07-07T12:10:00.156Z"
   },
   {
    "duration": 115,
    "start_time": "2021-07-07T12:10:00.353Z"
   },
   {
    "duration": 3,
    "start_time": "2021-07-07T12:10:00.470Z"
   },
   {
    "duration": 32,
    "start_time": "2021-07-07T12:10:00.474Z"
   },
   {
    "duration": 23,
    "start_time": "2021-07-07T12:10:00.508Z"
   },
   {
    "duration": 19,
    "start_time": "2021-07-07T12:10:00.533Z"
   },
   {
    "duration": 44,
    "start_time": "2021-07-07T12:10:00.553Z"
   },
   {
    "duration": 7,
    "start_time": "2021-07-07T12:10:00.600Z"
   },
   {
    "duration": 7,
    "start_time": "2021-07-07T12:19:45.761Z"
   },
   {
    "duration": 21,
    "start_time": "2021-07-07T12:21:35.482Z"
   },
   {
    "duration": 21,
    "start_time": "2021-07-07T12:29:23.569Z"
   },
   {
    "duration": 525,
    "start_time": "2021-07-07T12:29:44.542Z"
   },
   {
    "duration": 214,
    "start_time": "2021-07-07T12:29:45.069Z"
   },
   {
    "duration": 92,
    "start_time": "2021-07-07T12:29:45.285Z"
   },
   {
    "duration": 3,
    "start_time": "2021-07-07T12:29:45.379Z"
   },
   {
    "duration": 28,
    "start_time": "2021-07-07T12:29:45.384Z"
   },
   {
    "duration": 23,
    "start_time": "2021-07-07T12:29:45.413Z"
   },
   {
    "duration": 21,
    "start_time": "2021-07-07T12:29:45.437Z"
   },
   {
    "duration": 41,
    "start_time": "2021-07-07T12:29:45.460Z"
   },
   {
    "duration": 7,
    "start_time": "2021-07-07T12:29:45.502Z"
   },
   {
    "duration": 20,
    "start_time": "2021-07-07T12:29:45.511Z"
   },
   {
    "duration": 12,
    "start_time": "2021-07-07T12:34:02.800Z"
   },
   {
    "duration": 7,
    "start_time": "2021-07-07T12:35:10.479Z"
   },
   {
    "duration": 8,
    "start_time": "2021-07-07T12:35:22.440Z"
   },
   {
    "duration": 6,
    "start_time": "2021-07-07T12:35:35.649Z"
   },
   {
    "duration": 6,
    "start_time": "2021-07-07T12:35:43.107Z"
   },
   {
    "duration": 22,
    "start_time": "2021-07-07T12:38:03.029Z"
   },
   {
    "duration": 10,
    "start_time": "2021-07-07T12:38:06.592Z"
   },
   {
    "duration": 563,
    "start_time": "2021-07-07T12:38:46.493Z"
   },
   {
    "duration": 265,
    "start_time": "2021-07-07T12:38:47.058Z"
   },
   {
    "duration": 94,
    "start_time": "2021-07-07T12:38:47.325Z"
   },
   {
    "duration": 3,
    "start_time": "2021-07-07T12:38:47.422Z"
   },
   {
    "duration": 30,
    "start_time": "2021-07-07T12:38:47.427Z"
   },
   {
    "duration": 16,
    "start_time": "2021-07-07T12:38:53.305Z"
   },
   {
    "duration": 10,
    "start_time": "2021-07-07T12:38:53.499Z"
   },
   {
    "duration": 8,
    "start_time": "2021-07-07T12:39:48.161Z"
   },
   {
    "duration": 27,
    "start_time": "2021-07-07T12:41:17.629Z"
   },
   {
    "duration": 17,
    "start_time": "2021-07-07T12:41:17.867Z"
   },
   {
    "duration": 21,
    "start_time": "2021-07-07T12:41:19.310Z"
   },
   {
    "duration": 7,
    "start_time": "2021-07-07T12:41:19.544Z"
   },
   {
    "duration": 20,
    "start_time": "2021-07-07T12:41:20.504Z"
   },
   {
    "duration": 554,
    "start_time": "2021-07-07T12:56:23.696Z"
   },
   {
    "duration": 200,
    "start_time": "2021-07-07T12:56:25.234Z"
   },
   {
    "duration": 119,
    "start_time": "2021-07-07T12:56:25.480Z"
   },
   {
    "duration": 4,
    "start_time": "2021-07-07T12:56:25.762Z"
   },
   {
    "duration": 26,
    "start_time": "2021-07-07T12:56:27.172Z"
   },
   {
    "duration": 12,
    "start_time": "2021-07-07T12:56:29.051Z"
   },
   {
    "duration": 10,
    "start_time": "2021-07-07T12:56:29.291Z"
   },
   {
    "duration": 8,
    "start_time": "2021-07-07T12:56:29.623Z"
   },
   {
    "duration": 28,
    "start_time": "2021-07-07T12:56:32.137Z"
   },
   {
    "duration": 19,
    "start_time": "2021-07-07T12:56:39.785Z"
   },
   {
    "duration": 20,
    "start_time": "2021-07-07T12:56:44.297Z"
   },
   {
    "duration": 7,
    "start_time": "2021-07-07T12:56:45.392Z"
   },
   {
    "duration": 23,
    "start_time": "2021-07-07T12:56:46.615Z"
   },
   {
    "duration": 4,
    "start_time": "2021-07-07T12:57:06.625Z"
   },
   {
    "duration": 32,
    "start_time": "2021-07-07T12:57:36.690Z"
   },
   {
    "duration": 18,
    "start_time": "2021-07-07T12:58:00.149Z"
   },
   {
    "duration": 15,
    "start_time": "2021-07-07T12:59:16.793Z"
   },
   {
    "duration": 7,
    "start_time": "2021-07-07T13:19:22.624Z"
   },
   {
    "duration": 6,
    "start_time": "2021-07-07T14:17:33.527Z"
   },
   {
    "duration": 9,
    "start_time": "2021-07-07T14:17:48.409Z"
   },
   {
    "duration": 8,
    "start_time": "2021-07-07T14:20:13.060Z"
   },
   {
    "duration": 8,
    "start_time": "2021-07-07T14:20:37.957Z"
   },
   {
    "duration": 8,
    "start_time": "2021-07-07T14:20:47.470Z"
   },
   {
    "duration": 9,
    "start_time": "2021-07-07T14:20:54.503Z"
   },
   {
    "duration": 10,
    "start_time": "2021-07-07T14:28:57.763Z"
   },
   {
    "duration": 3,
    "start_time": "2021-07-07T14:30:23.377Z"
   },
   {
    "duration": 3,
    "start_time": "2021-07-07T14:30:36.489Z"
   },
   {
    "duration": 103,
    "start_time": "2021-07-07T14:30:52.351Z"
   },
   {
    "duration": 8,
    "start_time": "2021-07-07T14:30:54.763Z"
   },
   {
    "duration": 8,
    "start_time": "2021-07-07T14:31:29.301Z"
   },
   {
    "duration": 13,
    "start_time": "2021-07-07T14:31:44.516Z"
   },
   {
    "duration": 7,
    "start_time": "2021-07-07T14:33:10.972Z"
   },
   {
    "duration": 11,
    "start_time": "2021-07-07T14:33:27.780Z"
   },
   {
    "duration": 8,
    "start_time": "2021-07-07T14:34:44.588Z"
   },
   {
    "duration": 57,
    "start_time": "2021-07-07T14:35:59.042Z"
   },
   {
    "duration": 3,
    "start_time": "2021-07-07T14:36:28.168Z"
   },
   {
    "duration": 5,
    "start_time": "2021-07-07T14:36:46.254Z"
   },
   {
    "duration": 4,
    "start_time": "2021-07-07T14:36:52.714Z"
   },
   {
    "duration": 3,
    "start_time": "2021-07-07T14:36:56.612Z"
   },
   {
    "duration": 4,
    "start_time": "2021-07-07T14:36:57.049Z"
   },
   {
    "duration": 3,
    "start_time": "2021-07-07T14:39:21.214Z"
   },
   {
    "duration": 7,
    "start_time": "2021-07-07T14:39:52.406Z"
   },
   {
    "duration": 11,
    "start_time": "2021-07-07T14:39:58.576Z"
   },
   {
    "duration": 9,
    "start_time": "2021-07-07T14:40:26.301Z"
   },
   {
    "duration": 10,
    "start_time": "2021-07-07T14:40:31.704Z"
   },
   {
    "duration": 11,
    "start_time": "2021-07-07T14:40:36.249Z"
   },
   {
    "duration": 10,
    "start_time": "2021-07-07T14:40:39.783Z"
   },
   {
    "duration": 9,
    "start_time": "2021-07-07T14:40:48.558Z"
   },
   {
    "duration": 10,
    "start_time": "2021-07-07T14:40:57.143Z"
   },
   {
    "duration": 9,
    "start_time": "2021-07-07T14:41:06.074Z"
   },
   {
    "duration": 4324,
    "start_time": "2021-07-07T14:41:22.004Z"
   },
   {
    "duration": 11,
    "start_time": "2021-07-07T14:41:33.392Z"
   },
   {
    "duration": 9,
    "start_time": "2021-07-07T14:41:39.288Z"
   },
   {
    "duration": 569,
    "start_time": "2021-07-07T14:42:14.387Z"
   },
   {
    "duration": 197,
    "start_time": "2021-07-07T14:42:14.959Z"
   },
   {
    "duration": 84,
    "start_time": "2021-07-07T14:42:16.052Z"
   },
   {
    "duration": 4,
    "start_time": "2021-07-07T14:42:16.900Z"
   },
   {
    "duration": 27,
    "start_time": "2021-07-07T14:42:19.898Z"
   },
   {
    "duration": 12,
    "start_time": "2021-07-07T14:42:21.577Z"
   },
   {
    "duration": 9,
    "start_time": "2021-07-07T14:42:21.813Z"
   },
   {
    "duration": 9,
    "start_time": "2021-07-07T14:42:22.569Z"
   },
   {
    "duration": 29,
    "start_time": "2021-07-07T14:42:25.837Z"
   },
   {
    "duration": 20,
    "start_time": "2021-07-07T14:42:27.003Z"
   },
   {
    "duration": 21,
    "start_time": "2021-07-07T14:42:28.767Z"
   },
   {
    "duration": 7,
    "start_time": "2021-07-07T14:42:29.838Z"
   },
   {
    "duration": 4,
    "start_time": "2021-07-07T14:43:25.493Z"
   },
   {
    "duration": 7,
    "start_time": "2021-07-07T14:43:26.573Z"
   },
   {
    "duration": 10,
    "start_time": "2021-07-07T14:43:31.639Z"
   },
   {
    "duration": 9,
    "start_time": "2021-07-07T14:43:32.046Z"
   },
   {
    "duration": 10,
    "start_time": "2021-07-07T14:43:33.301Z"
   },
   {
    "duration": 12,
    "start_time": "2021-07-07T14:43:33.658Z"
   },
   {
    "duration": 8,
    "start_time": "2021-07-07T14:43:34.552Z"
   },
   {
    "duration": 9,
    "start_time": "2021-07-07T14:43:35.058Z"
   },
   {
    "duration": 12,
    "start_time": "2021-07-07T14:43:35.914Z"
   },
   {
    "duration": 17,
    "start_time": "2021-07-07T14:45:34.368Z"
   },
   {
    "duration": 512,
    "start_time": "2021-07-07T14:51:58.236Z"
   },
   {
    "duration": 223,
    "start_time": "2021-07-07T14:51:58.750Z"
   },
   {
    "duration": 93,
    "start_time": "2021-07-07T14:51:58.977Z"
   },
   {
    "duration": 4,
    "start_time": "2021-07-07T14:51:59.071Z"
   },
   {
    "duration": 37,
    "start_time": "2021-07-07T14:51:59.077Z"
   },
   {
    "duration": 18,
    "start_time": "2021-07-07T14:51:59.116Z"
   },
   {
    "duration": 10,
    "start_time": "2021-07-07T14:51:59.137Z"
   },
   {
    "duration": 8,
    "start_time": "2021-07-07T14:51:59.149Z"
   },
   {
    "duration": 54,
    "start_time": "2021-07-07T14:51:59.158Z"
   },
   {
    "duration": 18,
    "start_time": "2021-07-07T14:51:59.213Z"
   },
   {
    "duration": 22,
    "start_time": "2021-07-07T14:51:59.232Z"
   },
   {
    "duration": 36,
    "start_time": "2021-07-07T14:51:59.255Z"
   },
   {
    "duration": 7,
    "start_time": "2021-07-07T14:51:59.293Z"
   },
   {
    "duration": 10,
    "start_time": "2021-07-07T14:51:59.302Z"
   },
   {
    "duration": 9,
    "start_time": "2021-07-07T14:51:59.313Z"
   },
   {
    "duration": 11,
    "start_time": "2021-07-07T14:51:59.324Z"
   },
   {
    "duration": 8,
    "start_time": "2021-07-07T14:51:59.337Z"
   },
   {
    "duration": 46,
    "start_time": "2021-07-07T14:51:59.347Z"
   },
   {
    "duration": 22,
    "start_time": "2021-07-07T14:51:59.395Z"
   },
   {
    "duration": 24,
    "start_time": "2021-07-07T14:57:32.911Z"
   },
   {
    "duration": 7,
    "start_time": "2021-07-07T14:58:22.070Z"
   },
   {
    "duration": 4,
    "start_time": "2021-07-07T14:59:11.239Z"
   },
   {
    "duration": 25,
    "start_time": "2021-07-07T15:07:22.208Z"
   },
   {
    "duration": 16,
    "start_time": "2021-07-07T15:08:25.560Z"
   },
   {
    "duration": 15,
    "start_time": "2021-07-07T15:08:40.647Z"
   },
   {
    "duration": 14,
    "start_time": "2021-07-07T15:08:46.669Z"
   },
   {
    "duration": 533,
    "start_time": "2021-07-07T15:18:07.440Z"
   },
   {
    "duration": 173,
    "start_time": "2021-07-07T15:18:07.974Z"
   },
   {
    "duration": 84,
    "start_time": "2021-07-07T15:18:08.149Z"
   },
   {
    "duration": 3,
    "start_time": "2021-07-07T15:18:08.235Z"
   },
   {
    "duration": 30,
    "start_time": "2021-07-07T15:18:08.240Z"
   },
   {
    "duration": 22,
    "start_time": "2021-07-07T15:18:08.272Z"
   },
   {
    "duration": 11,
    "start_time": "2021-07-07T15:18:08.295Z"
   },
   {
    "duration": 11,
    "start_time": "2021-07-07T15:18:08.309Z"
   },
   {
    "duration": 40,
    "start_time": "2021-07-07T15:18:08.322Z"
   },
   {
    "duration": 42,
    "start_time": "2021-07-07T15:18:08.364Z"
   },
   {
    "duration": 22,
    "start_time": "2021-07-07T15:18:08.408Z"
   },
   {
    "duration": 5,
    "start_time": "2021-07-07T15:18:08.432Z"
   },
   {
    "duration": 13,
    "start_time": "2021-07-07T15:18:08.439Z"
   },
   {
    "duration": 9,
    "start_time": "2021-07-07T15:18:08.454Z"
   },
   {
    "duration": 32,
    "start_time": "2021-07-07T15:18:08.465Z"
   },
   {
    "duration": 10,
    "start_time": "2021-07-07T15:18:08.501Z"
   },
   {
    "duration": 7,
    "start_time": "2021-07-07T15:18:08.513Z"
   },
   {
    "duration": 11,
    "start_time": "2021-07-07T15:18:08.521Z"
   },
   {
    "duration": 17,
    "start_time": "2021-07-07T15:18:08.534Z"
   },
   {
    "duration": 44,
    "start_time": "2021-07-07T15:18:08.553Z"
   },
   {
    "duration": 22,
    "start_time": "2021-07-07T15:18:08.599Z"
   },
   {
    "duration": 61,
    "start_time": "2021-07-07T15:18:08.622Z"
   },
   {
    "duration": 7,
    "start_time": "2021-07-07T15:18:39.457Z"
   },
   {
    "duration": 5,
    "start_time": "2021-07-07T16:05:17.020Z"
   },
   {
    "duration": 5,
    "start_time": "2021-07-07T16:51:28.794Z"
   },
   {
    "duration": 546,
    "start_time": "2021-07-07T16:52:26.306Z"
   },
   {
    "duration": 203,
    "start_time": "2021-07-07T16:52:27.523Z"
   },
   {
    "duration": 85,
    "start_time": "2021-07-07T16:52:27.736Z"
   },
   {
    "duration": 4,
    "start_time": "2021-07-07T16:52:27.899Z"
   },
   {
    "duration": 25,
    "start_time": "2021-07-07T16:52:28.674Z"
   },
   {
    "duration": 8,
    "start_time": "2021-07-07T16:52:32.956Z"
   },
   {
    "duration": 18,
    "start_time": "2021-07-07T16:52:35.616Z"
   },
   {
    "duration": 6,
    "start_time": "2021-07-07T16:52:36.913Z"
   },
   {
    "duration": 11,
    "start_time": "2021-07-07T16:52:40.258Z"
   },
   {
    "duration": 10,
    "start_time": "2021-07-07T16:52:46.251Z"
   },
   {
    "duration": 8,
    "start_time": "2021-07-07T16:52:47.182Z"
   },
   {
    "duration": 27,
    "start_time": "2021-07-07T16:53:20.391Z"
   },
   {
    "duration": 20,
    "start_time": "2021-07-07T16:53:22.022Z"
   },
   {
    "duration": 23,
    "start_time": "2021-07-07T16:53:23.690Z"
   },
   {
    "duration": 8,
    "start_time": "2021-07-07T16:53:24.261Z"
   },
   {
    "duration": 4,
    "start_time": "2021-07-07T16:53:38.733Z"
   },
   {
    "duration": 7,
    "start_time": "2021-07-07T16:53:40.445Z"
   },
   {
    "duration": 11,
    "start_time": "2021-07-07T16:53:41.348Z"
   },
   {
    "duration": 13,
    "start_time": "2021-07-07T16:53:45.250Z"
   },
   {
    "duration": 12,
    "start_time": "2021-07-07T16:53:45.467Z"
   },
   {
    "duration": 4,
    "start_time": "2021-07-07T16:55:32.704Z"
   },
   {
    "duration": 12,
    "start_time": "2021-07-07T16:55:49.012Z"
   },
   {
    "duration": 18,
    "start_time": "2021-07-07T16:55:49.547Z"
   },
   {
    "duration": 611,
    "start_time": "2021-07-07T16:58:35.156Z"
   },
   {
    "duration": 200,
    "start_time": "2021-07-07T16:58:35.770Z"
   },
   {
    "duration": 86,
    "start_time": "2021-07-07T16:58:35.972Z"
   },
   {
    "duration": 3,
    "start_time": "2021-07-07T16:58:36.060Z"
   },
   {
    "duration": 27,
    "start_time": "2021-07-07T16:58:36.065Z"
   },
   {
    "duration": 8,
    "start_time": "2021-07-07T16:58:36.094Z"
   },
   {
    "duration": 17,
    "start_time": "2021-07-07T16:58:36.103Z"
   },
   {
    "duration": 5,
    "start_time": "2021-07-07T16:58:36.123Z"
   },
   {
    "duration": 11,
    "start_time": "2021-07-07T16:58:36.130Z"
   },
   {
    "duration": 7,
    "start_time": "2021-07-07T16:58:36.143Z"
   },
   {
    "duration": 37,
    "start_time": "2021-07-07T16:58:36.152Z"
   },
   {
    "duration": 27,
    "start_time": "2021-07-07T16:58:36.191Z"
   },
   {
    "duration": 19,
    "start_time": "2021-07-07T16:58:36.219Z"
   },
   {
    "duration": 49,
    "start_time": "2021-07-07T16:58:36.240Z"
   },
   {
    "duration": 6,
    "start_time": "2021-07-07T16:58:36.291Z"
   },
   {
    "duration": 3,
    "start_time": "2021-07-07T16:58:36.299Z"
   },
   {
    "duration": 13,
    "start_time": "2021-07-07T16:58:36.304Z"
   },
   {
    "duration": 10,
    "start_time": "2021-07-07T16:58:36.319Z"
   },
   {
    "duration": 10,
    "start_time": "2021-07-07T16:58:36.331Z"
   },
   {
    "duration": 44,
    "start_time": "2021-07-07T16:58:36.343Z"
   },
   {
    "duration": 4,
    "start_time": "2021-07-07T16:58:36.388Z"
   },
   {
    "duration": 13,
    "start_time": "2021-07-07T16:58:36.394Z"
   },
   {
    "duration": 16,
    "start_time": "2021-07-07T16:58:36.410Z"
   },
   {
    "duration": 8,
    "start_time": "2021-07-07T17:02:31.629Z"
   },
   {
    "duration": 8,
    "start_time": "2021-07-07T17:02:34.308Z"
   },
   {
    "duration": 6,
    "start_time": "2021-07-07T17:05:13.483Z"
   },
   {
    "duration": 17,
    "start_time": "2021-07-07T17:05:20.606Z"
   },
   {
    "duration": 7,
    "start_time": "2021-07-07T17:05:34.638Z"
   },
   {
    "duration": 3,
    "start_time": "2021-07-07T17:06:31.883Z"
   },
   {
    "duration": 570,
    "start_time": "2021-07-07T17:06:37.165Z"
   },
   {
    "duration": 174,
    "start_time": "2021-07-07T17:06:37.737Z"
   },
   {
    "duration": 47,
    "start_time": "2021-07-07T17:06:37.913Z"
   },
   {
    "duration": 3,
    "start_time": "2021-07-07T17:06:37.962Z"
   },
   {
    "duration": 27,
    "start_time": "2021-07-07T17:06:37.967Z"
   },
   {
    "duration": 7,
    "start_time": "2021-07-07T17:06:37.996Z"
   },
   {
    "duration": 16,
    "start_time": "2021-07-07T17:06:38.005Z"
   },
   {
    "duration": 6,
    "start_time": "2021-07-07T17:06:38.024Z"
   },
   {
    "duration": 12,
    "start_time": "2021-07-07T17:06:38.031Z"
   },
   {
    "duration": 41,
    "start_time": "2021-07-07T17:06:38.045Z"
   },
   {
    "duration": 8,
    "start_time": "2021-07-07T17:06:38.088Z"
   },
   {
    "duration": 26,
    "start_time": "2021-07-07T17:06:38.098Z"
   },
   {
    "duration": 17,
    "start_time": "2021-07-07T17:06:38.126Z"
   },
   {
    "duration": 43,
    "start_time": "2021-07-07T17:06:38.144Z"
   },
   {
    "duration": 6,
    "start_time": "2021-07-07T17:06:38.188Z"
   },
   {
    "duration": 5,
    "start_time": "2021-07-07T17:06:38.195Z"
   },
   {
    "duration": 9,
    "start_time": "2021-07-07T17:06:38.201Z"
   },
   {
    "duration": 12,
    "start_time": "2021-07-07T17:06:38.212Z"
   },
   {
    "duration": 11,
    "start_time": "2021-07-07T17:06:38.226Z"
   },
   {
    "duration": 47,
    "start_time": "2021-07-07T17:06:38.239Z"
   },
   {
    "duration": 4,
    "start_time": "2021-07-07T17:06:38.288Z"
   },
   {
    "duration": 13,
    "start_time": "2021-07-07T17:06:38.293Z"
   },
   {
    "duration": 5,
    "start_time": "2021-07-07T17:06:38.309Z"
   },
   {
    "duration": 18,
    "start_time": "2021-07-07T17:06:38.325Z"
   },
   {
    "duration": 20,
    "start_time": "2021-07-07T17:07:02.805Z"
   },
   {
    "duration": 19,
    "start_time": "2021-07-07T17:07:08.527Z"
   },
   {
    "duration": 19,
    "start_time": "2021-07-07T17:07:12.758Z"
   },
   {
    "duration": 22,
    "start_time": "2021-07-07T17:07:17.497Z"
   },
   {
    "duration": 19,
    "start_time": "2021-07-07T17:07:19.645Z"
   },
   {
    "duration": 10,
    "start_time": "2021-07-07T17:07:34.239Z"
   },
   {
    "duration": 17,
    "start_time": "2021-07-07T17:07:54.144Z"
   },
   {
    "duration": 14,
    "start_time": "2021-07-07T17:08:14.357Z"
   },
   {
    "duration": 616,
    "start_time": "2021-07-07T17:08:45.254Z"
   },
   {
    "duration": 178,
    "start_time": "2021-07-07T17:08:45.872Z"
   },
   {
    "duration": 60,
    "start_time": "2021-07-07T17:08:46.054Z"
   },
   {
    "duration": 3,
    "start_time": "2021-07-07T17:08:46.116Z"
   },
   {
    "duration": 26,
    "start_time": "2021-07-07T17:08:46.121Z"
   },
   {
    "duration": 7,
    "start_time": "2021-07-07T17:08:46.149Z"
   },
   {
    "duration": 17,
    "start_time": "2021-07-07T17:08:46.158Z"
   },
   {
    "duration": 14,
    "start_time": "2021-07-07T17:08:46.176Z"
   },
   {
    "duration": 17,
    "start_time": "2021-07-07T17:08:46.193Z"
   },
   {
    "duration": 9,
    "start_time": "2021-07-07T17:08:46.211Z"
   },
   {
    "duration": 21,
    "start_time": "2021-07-07T17:08:46.221Z"
   },
   {
    "duration": 49,
    "start_time": "2021-07-07T17:08:46.244Z"
   },
   {
    "duration": 24,
    "start_time": "2021-07-07T17:08:46.295Z"
   },
   {
    "duration": 22,
    "start_time": "2021-07-07T17:08:46.321Z"
   },
   {
    "duration": 6,
    "start_time": "2021-07-07T17:08:46.345Z"
   },
   {
    "duration": 5,
    "start_time": "2021-07-07T17:08:46.353Z"
   },
   {
    "duration": 13,
    "start_time": "2021-07-07T17:08:46.386Z"
   },
   {
    "duration": 12,
    "start_time": "2021-07-07T17:08:46.402Z"
   },
   {
    "duration": 10,
    "start_time": "2021-07-07T17:08:46.415Z"
   },
   {
    "duration": 7,
    "start_time": "2021-07-07T17:08:46.427Z"
   },
   {
    "duration": 8,
    "start_time": "2021-07-07T17:08:46.435Z"
   },
   {
    "duration": 68,
    "start_time": "2021-07-07T17:08:46.446Z"
   },
   {
    "duration": 13,
    "start_time": "2021-07-07T17:08:46.516Z"
   },
   {
    "duration": 78,
    "start_time": "2021-07-07T17:08:46.530Z"
   },
   {
    "duration": 40,
    "start_time": "2021-07-07T17:09:08.185Z"
   },
   {
    "duration": 16,
    "start_time": "2021-07-07T17:09:19.324Z"
   },
   {
    "duration": 21,
    "start_time": "2021-07-07T17:09:23.290Z"
   },
   {
    "duration": 13,
    "start_time": "2021-07-07T17:09:54.812Z"
   },
   {
    "duration": 13,
    "start_time": "2021-07-07T17:10:02.039Z"
   },
   {
    "duration": 10,
    "start_time": "2021-07-07T17:10:29.632Z"
   },
   {
    "duration": 13,
    "start_time": "2021-07-07T17:10:52.372Z"
   },
   {
    "duration": 13,
    "start_time": "2021-07-07T17:11:17.270Z"
   },
   {
    "duration": 13,
    "start_time": "2021-07-07T17:14:59.284Z"
   },
   {
    "duration": 547,
    "start_time": "2021-07-07T17:18:52.403Z"
   },
   {
    "duration": 163,
    "start_time": "2021-07-07T17:18:52.952Z"
   },
   {
    "duration": 44,
    "start_time": "2021-07-07T17:18:53.117Z"
   },
   {
    "duration": 3,
    "start_time": "2021-07-07T17:18:53.162Z"
   },
   {
    "duration": 26,
    "start_time": "2021-07-07T17:18:53.167Z"
   },
   {
    "duration": 6,
    "start_time": "2021-07-07T17:18:53.195Z"
   },
   {
    "duration": 15,
    "start_time": "2021-07-07T17:18:53.203Z"
   },
   {
    "duration": 5,
    "start_time": "2021-07-07T17:18:53.220Z"
   },
   {
    "duration": 11,
    "start_time": "2021-07-07T17:18:53.228Z"
   },
   {
    "duration": 9,
    "start_time": "2021-07-07T17:18:53.241Z"
   },
   {
    "duration": 41,
    "start_time": "2021-07-07T17:18:53.252Z"
   },
   {
    "duration": 33,
    "start_time": "2021-07-07T17:18:53.295Z"
   },
   {
    "duration": 19,
    "start_time": "2021-07-07T17:18:53.330Z"
   },
   {
    "duration": 49,
    "start_time": "2021-07-07T17:18:53.350Z"
   },
   {
    "duration": 5,
    "start_time": "2021-07-07T17:18:53.401Z"
   },
   {
    "duration": 5,
    "start_time": "2021-07-07T17:18:53.408Z"
   },
   {
    "duration": 11,
    "start_time": "2021-07-07T17:18:53.414Z"
   },
   {
    "duration": 9,
    "start_time": "2021-07-07T17:18:53.427Z"
   },
   {
    "duration": 10,
    "start_time": "2021-07-07T17:18:53.437Z"
   },
   {
    "duration": 39,
    "start_time": "2021-07-07T17:18:53.448Z"
   },
   {
    "duration": 26,
    "start_time": "2021-07-07T17:18:55.799Z"
   },
   {
    "duration": 598,
    "start_time": "2021-07-07T17:20:17.862Z"
   },
   {
    "duration": 161,
    "start_time": "2021-07-07T17:20:18.462Z"
   },
   {
    "duration": 45,
    "start_time": "2021-07-07T17:20:18.626Z"
   },
   {
    "duration": 4,
    "start_time": "2021-07-07T17:20:18.673Z"
   },
   {
    "duration": 38,
    "start_time": "2021-07-07T17:20:26.877Z"
   },
   {
    "duration": 7,
    "start_time": "2021-07-07T17:20:37.405Z"
   },
   {
    "duration": 19,
    "start_time": "2021-07-07T17:20:51.534Z"
   },
   {
    "duration": 5,
    "start_time": "2021-07-07T17:20:57.228Z"
   },
   {
    "duration": 7,
    "start_time": "2021-07-07T17:21:08.235Z"
   },
   {
    "duration": 19,
    "start_time": "2021-07-07T17:21:42.158Z"
   },
   {
    "duration": 14,
    "start_time": "2021-07-07T17:21:50.225Z"
   },
   {
    "duration": 22,
    "start_time": "2021-07-07T17:22:54.104Z"
   },
   {
    "duration": 5,
    "start_time": "2021-07-07T17:22:56.371Z"
   },
   {
    "duration": 14,
    "start_time": "2021-07-07T17:22:58.316Z"
   },
   {
    "duration": 5,
    "start_time": "2021-07-07T17:22:58.493Z"
   },
   {
    "duration": 35,
    "start_time": "2021-07-07T17:22:59.666Z"
   },
   {
    "duration": 6,
    "start_time": "2021-07-07T17:23:02.410Z"
   },
   {
    "duration": 611,
    "start_time": "2021-07-07T17:24:59.664Z"
   },
   {
    "duration": 178,
    "start_time": "2021-07-07T17:25:01.945Z"
   },
   {
    "duration": 47,
    "start_time": "2021-07-07T17:25:02.125Z"
   },
   {
    "duration": 2,
    "start_time": "2021-07-07T17:25:07.903Z"
   },
   {
    "duration": 254,
    "start_time": "2021-07-07T17:25:08.232Z"
   },
   {
    "duration": 182,
    "start_time": "2021-07-07T17:25:08.671Z"
   },
   {
    "duration": 6,
    "start_time": "2021-07-07T17:25:13.104Z"
   },
   {
    "duration": 36,
    "start_time": "2021-07-07T17:25:13.662Z"
   },
   {
    "duration": 7,
    "start_time": "2021-07-07T17:25:14.528Z"
   },
   {
    "duration": 24,
    "start_time": "2021-07-07T17:25:27.982Z"
   },
   {
    "duration": 3,
    "start_time": "2021-07-07T17:25:48.982Z"
   },
   {
    "duration": 165,
    "start_time": "2021-07-07T17:25:48.987Z"
   },
   {
    "duration": 50,
    "start_time": "2021-07-07T17:25:49.154Z"
   },
   {
    "duration": 4,
    "start_time": "2021-07-07T17:25:49.206Z"
   },
   {
    "duration": 26,
    "start_time": "2021-07-07T17:25:49.212Z"
   },
   {
    "duration": 7,
    "start_time": "2021-07-07T17:25:49.240Z"
   },
   {
    "duration": 16,
    "start_time": "2021-07-07T17:25:49.249Z"
   },
   {
    "duration": 22,
    "start_time": "2021-07-07T17:25:49.266Z"
   },
   {
    "duration": 16,
    "start_time": "2021-07-07T17:25:49.291Z"
   },
   {
    "duration": 9,
    "start_time": "2021-07-07T17:25:49.309Z"
   },
   {
    "duration": 7,
    "start_time": "2021-07-07T17:25:49.319Z"
   },
   {
    "duration": 28,
    "start_time": "2021-07-07T17:25:49.328Z"
   },
   {
    "duration": 44,
    "start_time": "2021-07-07T17:25:49.357Z"
   },
   {
    "duration": 22,
    "start_time": "2021-07-07T17:25:49.403Z"
   },
   {
    "duration": 7,
    "start_time": "2021-07-07T17:25:49.427Z"
   },
   {
    "duration": 3,
    "start_time": "2021-07-07T17:25:49.436Z"
   },
   {
    "duration": 44,
    "start_time": "2021-07-07T17:25:49.441Z"
   },
   {
    "duration": 12,
    "start_time": "2021-07-07T17:25:49.488Z"
   },
   {
    "duration": 13,
    "start_time": "2021-07-07T17:25:49.502Z"
   },
   {
    "duration": 10,
    "start_time": "2021-07-07T17:25:49.516Z"
   },
   {
    "duration": 62,
    "start_time": "2021-07-07T17:25:49.527Z"
   },
   {
    "duration": 26,
    "start_time": "2021-07-07T17:26:51.809Z"
   },
   {
    "duration": 26,
    "start_time": "2021-07-07T17:26:55.759Z"
   },
   {
    "duration": 26,
    "start_time": "2021-07-07T17:27:04.501Z"
   },
   {
    "duration": 25,
    "start_time": "2021-07-07T17:28:24.859Z"
   },
   {
    "duration": 21,
    "start_time": "2021-07-07T17:28:55.250Z"
   },
   {
    "duration": 21,
    "start_time": "2021-07-07T17:28:58.885Z"
   },
   {
    "duration": 7,
    "start_time": "2021-07-07T17:45:40.972Z"
   },
   {
    "duration": 13,
    "start_time": "2021-07-07T17:45:42.529Z"
   },
   {
    "duration": 27,
    "start_time": "2021-07-07T17:45:51.026Z"
   },
   {
    "duration": 518,
    "start_time": "2021-07-07T17:46:15.532Z"
   },
   {
    "duration": 235,
    "start_time": "2021-07-07T17:46:16.053Z"
   },
   {
    "duration": 80,
    "start_time": "2021-07-07T17:46:16.292Z"
   },
   {
    "duration": 5,
    "start_time": "2021-07-07T17:46:16.373Z"
   },
   {
    "duration": 26,
    "start_time": "2021-07-07T17:46:16.380Z"
   },
   {
    "duration": 7,
    "start_time": "2021-07-07T17:46:16.408Z"
   },
   {
    "duration": 16,
    "start_time": "2021-07-07T17:46:16.418Z"
   },
   {
    "duration": 5,
    "start_time": "2021-07-07T17:46:16.436Z"
   },
   {
    "duration": 13,
    "start_time": "2021-07-07T17:46:16.442Z"
   },
   {
    "duration": 35,
    "start_time": "2021-07-07T17:46:16.456Z"
   },
   {
    "duration": 8,
    "start_time": "2021-07-07T17:46:16.493Z"
   },
   {
    "duration": 28,
    "start_time": "2021-07-07T17:46:16.502Z"
   },
   {
    "duration": 17,
    "start_time": "2021-07-07T17:46:16.532Z"
   },
   {
    "duration": 44,
    "start_time": "2021-07-07T17:46:16.551Z"
   },
   {
    "duration": 6,
    "start_time": "2021-07-07T17:46:16.597Z"
   },
   {
    "duration": 4,
    "start_time": "2021-07-07T17:46:16.605Z"
   },
   {
    "duration": 9,
    "start_time": "2021-07-07T17:46:16.610Z"
   },
   {
    "duration": 9,
    "start_time": "2021-07-07T17:46:16.621Z"
   },
   {
    "duration": 10,
    "start_time": "2021-07-07T17:46:16.632Z"
   },
   {
    "duration": 43,
    "start_time": "2021-07-07T17:46:16.644Z"
   },
   {
    "duration": 26,
    "start_time": "2021-07-07T17:46:16.689Z"
   },
   {
    "duration": 19,
    "start_time": "2021-07-07T17:46:16.718Z"
   },
   {
    "duration": 8,
    "start_time": "2021-07-07T17:46:16.738Z"
   },
   {
    "duration": 43,
    "start_time": "2021-07-07T17:46:16.747Z"
   },
   {
    "duration": 19,
    "start_time": "2021-07-07T17:46:16.791Z"
   },
   {
    "duration": 9,
    "start_time": "2021-07-07T17:46:16.812Z"
   },
   {
    "duration": 60,
    "start_time": "2021-07-07T17:46:16.822Z"
   },
   {
    "duration": -8,
    "start_time": "2021-07-07T17:46:16.892Z"
   },
   {
    "duration": 12,
    "start_time": "2021-07-07T17:48:47.707Z"
   },
   {
    "duration": 553,
    "start_time": "2021-07-07T18:10:09.350Z"
   },
   {
    "duration": 230,
    "start_time": "2021-07-07T18:10:09.905Z"
   },
   {
    "duration": 97,
    "start_time": "2021-07-07T18:10:10.137Z"
   },
   {
    "duration": 5,
    "start_time": "2021-07-07T18:10:10.236Z"
   },
   {
    "duration": 29,
    "start_time": "2021-07-07T18:10:10.242Z"
   },
   {
    "duration": 7,
    "start_time": "2021-07-07T18:10:10.272Z"
   },
   {
    "duration": 15,
    "start_time": "2021-07-07T18:10:10.281Z"
   },
   {
    "duration": 4,
    "start_time": "2021-07-07T18:10:10.299Z"
   },
   {
    "duration": 14,
    "start_time": "2021-07-07T18:10:10.305Z"
   },
   {
    "duration": 8,
    "start_time": "2021-07-07T18:10:10.321Z"
   },
   {
    "duration": 8,
    "start_time": "2021-07-07T18:10:10.331Z"
   },
   {
    "duration": 56,
    "start_time": "2021-07-07T18:10:10.341Z"
   },
   {
    "duration": 19,
    "start_time": "2021-07-07T18:10:10.399Z"
   },
   {
    "duration": 23,
    "start_time": "2021-07-07T18:10:10.419Z"
   },
   {
    "duration": 6,
    "start_time": "2021-07-07T18:10:10.444Z"
   },
   {
    "duration": 9,
    "start_time": "2021-07-07T18:10:10.451Z"
   },
   {
    "duration": 30,
    "start_time": "2021-07-07T18:10:10.462Z"
   },
   {
    "duration": 9,
    "start_time": "2021-07-07T18:10:10.494Z"
   },
   {
    "duration": 14,
    "start_time": "2021-07-07T18:10:10.505Z"
   },
   {
    "duration": 7,
    "start_time": "2021-07-07T18:10:10.521Z"
   },
   {
    "duration": 26,
    "start_time": "2021-07-07T18:10:10.530Z"
   },
   {
    "duration": 44,
    "start_time": "2021-07-07T18:10:10.558Z"
   },
   {
    "duration": 7,
    "start_time": "2021-07-07T18:10:10.605Z"
   },
   {
    "duration": 11,
    "start_time": "2021-07-07T18:10:10.614Z"
   },
   {
    "duration": 19,
    "start_time": "2021-07-07T18:10:10.626Z"
   },
   {
    "duration": 44,
    "start_time": "2021-07-07T18:10:10.646Z"
   },
   {
    "duration": 516,
    "start_time": "2021-07-07T18:14:00.826Z"
   },
   {
    "duration": 230,
    "start_time": "2021-07-07T18:14:01.344Z"
   },
   {
    "duration": 105,
    "start_time": "2021-07-07T18:14:01.576Z"
   },
   {
    "duration": 5,
    "start_time": "2021-07-07T18:14:01.683Z"
   },
   {
    "duration": 46,
    "start_time": "2021-07-07T18:14:01.690Z"
   },
   {
    "duration": 7,
    "start_time": "2021-07-07T18:14:01.738Z"
   },
   {
    "duration": 20,
    "start_time": "2021-07-07T18:14:01.747Z"
   },
   {
    "duration": 16,
    "start_time": "2021-07-07T18:14:01.769Z"
   },
   {
    "duration": 14,
    "start_time": "2021-07-07T18:14:01.787Z"
   },
   {
    "duration": 15,
    "start_time": "2021-07-07T18:14:01.803Z"
   },
   {
    "duration": 12,
    "start_time": "2021-07-07T18:14:01.820Z"
   },
   {
    "duration": 35,
    "start_time": "2021-07-07T18:14:01.833Z"
   },
   {
    "duration": 31,
    "start_time": "2021-07-07T18:14:01.869Z"
   },
   {
    "duration": 37,
    "start_time": "2021-07-07T18:14:01.902Z"
   },
   {
    "duration": 8,
    "start_time": "2021-07-07T18:14:01.942Z"
   },
   {
    "duration": 16,
    "start_time": "2021-07-07T18:14:01.952Z"
   },
   {
    "duration": 13,
    "start_time": "2021-07-07T18:14:01.970Z"
   },
   {
    "duration": 32,
    "start_time": "2021-07-07T18:14:01.985Z"
   },
   {
    "duration": 11,
    "start_time": "2021-07-07T18:14:02.019Z"
   },
   {
    "duration": 22,
    "start_time": "2021-07-07T18:14:02.031Z"
   },
   {
    "duration": 27,
    "start_time": "2021-07-07T18:14:02.055Z"
   },
   {
    "duration": 18,
    "start_time": "2021-07-07T18:14:02.084Z"
   },
   {
    "duration": 18,
    "start_time": "2021-07-07T18:14:02.106Z"
   },
   {
    "duration": 11,
    "start_time": "2021-07-07T18:14:02.126Z"
   },
   {
    "duration": 21,
    "start_time": "2021-07-07T18:14:02.138Z"
   },
   {
    "duration": 32,
    "start_time": "2021-07-07T18:14:02.161Z"
   },
   {
    "duration": 28,
    "start_time": "2021-07-07T18:14:44.295Z"
   },
   {
    "duration": 6,
    "start_time": "2021-07-07T18:15:05.834Z"
   },
   {
    "duration": 511,
    "start_time": "2021-07-07T18:15:41.541Z"
   },
   {
    "duration": 183,
    "start_time": "2021-07-07T18:15:42.054Z"
   },
   {
    "duration": 50,
    "start_time": "2021-07-07T18:15:42.239Z"
   },
   {
    "duration": 5,
    "start_time": "2021-07-07T18:15:42.291Z"
   },
   {
    "duration": 48,
    "start_time": "2021-07-07T18:15:42.297Z"
   },
   {
    "duration": 8,
    "start_time": "2021-07-07T18:15:42.346Z"
   },
   {
    "duration": 17,
    "start_time": "2021-07-07T18:15:42.356Z"
   },
   {
    "duration": 15,
    "start_time": "2021-07-07T18:15:42.375Z"
   },
   {
    "duration": 12,
    "start_time": "2021-07-07T18:15:42.392Z"
   },
   {
    "duration": 7,
    "start_time": "2021-07-07T18:15:42.406Z"
   },
   {
    "duration": 7,
    "start_time": "2021-07-07T18:15:42.415Z"
   },
   {
    "duration": 29,
    "start_time": "2021-07-07T18:15:42.423Z"
   },
   {
    "duration": 43,
    "start_time": "2021-07-07T18:15:42.453Z"
   },
   {
    "duration": 18,
    "start_time": "2021-07-07T18:15:42.497Z"
   },
   {
    "duration": 6,
    "start_time": "2021-07-07T18:15:42.516Z"
   },
   {
    "duration": 3,
    "start_time": "2021-07-07T18:15:42.523Z"
   },
   {
    "duration": 18,
    "start_time": "2021-07-07T18:15:42.528Z"
   },
   {
    "duration": 10,
    "start_time": "2021-07-07T18:15:42.547Z"
   },
   {
    "duration": 36,
    "start_time": "2021-07-07T18:15:42.559Z"
   },
   {
    "duration": 8,
    "start_time": "2021-07-07T18:15:42.597Z"
   },
   {
    "duration": 28,
    "start_time": "2021-07-07T18:15:42.606Z"
   },
   {
    "duration": 52,
    "start_time": "2021-07-07T18:15:42.635Z"
   },
   {
    "duration": 7,
    "start_time": "2021-07-07T18:15:42.690Z"
   },
   {
    "duration": 10,
    "start_time": "2021-07-07T18:15:42.699Z"
   },
   {
    "duration": 19,
    "start_time": "2021-07-07T18:15:42.711Z"
   },
   {
    "duration": 9,
    "start_time": "2021-07-07T18:15:42.732Z"
   },
   {
    "duration": 5,
    "start_time": "2021-07-07T18:15:42.743Z"
   },
   {
    "duration": 1450,
    "start_time": "2021-07-07T18:15:51.984Z"
   },
   {
    "duration": 161,
    "start_time": "2021-07-07T18:15:53.435Z"
   },
   {
    "duration": 124,
    "start_time": "2021-07-07T18:15:53.598Z"
   },
   {
    "duration": 5,
    "start_time": "2021-07-07T18:15:53.724Z"
   },
   {
    "duration": 34,
    "start_time": "2021-07-07T18:15:53.730Z"
   },
   {
    "duration": 7,
    "start_time": "2021-07-07T18:15:53.765Z"
   },
   {
    "duration": 15,
    "start_time": "2021-07-07T18:15:53.773Z"
   },
   {
    "duration": 5,
    "start_time": "2021-07-07T18:15:53.791Z"
   },
   {
    "duration": 19,
    "start_time": "2021-07-07T18:15:53.798Z"
   },
   {
    "duration": 9,
    "start_time": "2021-07-07T18:15:53.818Z"
   },
   {
    "duration": 19,
    "start_time": "2021-07-07T18:15:53.828Z"
   },
   {
    "duration": 27,
    "start_time": "2021-07-07T18:15:53.848Z"
   },
   {
    "duration": 16,
    "start_time": "2021-07-07T18:15:53.884Z"
   },
   {
    "duration": 29,
    "start_time": "2021-07-07T18:15:53.901Z"
   },
   {
    "duration": 5,
    "start_time": "2021-07-07T18:15:53.932Z"
   },
   {
    "duration": 15,
    "start_time": "2021-07-07T18:15:53.939Z"
   },
   {
    "duration": 13,
    "start_time": "2021-07-07T18:15:53.956Z"
   },
   {
    "duration": 20,
    "start_time": "2021-07-07T18:15:53.971Z"
   },
   {
    "duration": 14,
    "start_time": "2021-07-07T18:15:53.992Z"
   },
   {
    "duration": 9,
    "start_time": "2021-07-07T18:15:54.009Z"
   },
   {
    "duration": 28,
    "start_time": "2021-07-07T18:15:54.020Z"
   },
   {
    "duration": 50,
    "start_time": "2021-07-07T18:15:54.051Z"
   },
   {
    "duration": 8,
    "start_time": "2021-07-07T18:15:54.105Z"
   },
   {
    "duration": 11,
    "start_time": "2021-07-07T18:15:54.115Z"
   },
   {
    "duration": 20,
    "start_time": "2021-07-07T18:15:54.128Z"
   },
   {
    "duration": 13,
    "start_time": "2021-07-07T18:15:54.184Z"
   },
   {
    "duration": 7,
    "start_time": "2021-07-07T18:15:54.199Z"
   },
   {
    "duration": 7,
    "start_time": "2021-07-07T18:17:08.042Z"
   },
   {
    "duration": 8,
    "start_time": "2021-07-07T18:17:21.008Z"
   },
   {
    "duration": 7,
    "start_time": "2021-07-07T18:17:29.003Z"
   },
   {
    "duration": 8,
    "start_time": "2021-07-07T18:17:32.492Z"
   },
   {
    "duration": 9,
    "start_time": "2021-07-07T18:17:41.758Z"
   },
   {
    "duration": 255,
    "start_time": "2021-07-07T18:20:20.897Z"
   },
   {
    "duration": 173,
    "start_time": "2021-07-07T18:20:26.636Z"
   },
   {
    "duration": 7,
    "start_time": "2021-07-07T18:21:47.164Z"
   },
   {
    "duration": 254,
    "start_time": "2021-07-07T18:23:08.703Z"
   },
   {
    "duration": 21,
    "start_time": "2021-07-07T18:23:22.506Z"
   },
   {
    "duration": 315,
    "start_time": "2021-07-07T18:25:54.801Z"
   },
   {
    "duration": 34,
    "start_time": "2021-07-07T18:26:51.817Z"
   },
   {
    "duration": 327,
    "start_time": "2021-07-07T18:26:56.147Z"
   },
   {
    "duration": 342,
    "start_time": "2021-07-07T18:27:15.887Z"
   },
   {
    "duration": 302,
    "start_time": "2021-07-07T18:28:18.569Z"
   },
   {
    "duration": 226,
    "start_time": "2021-07-07T18:29:20.879Z"
   },
   {
    "duration": 207,
    "start_time": "2021-07-07T18:29:58.114Z"
   },
   {
    "duration": 140,
    "start_time": "2021-07-07T18:32:04.372Z"
   },
   {
    "duration": 158,
    "start_time": "2021-07-07T18:32:32.508Z"
   },
   {
    "duration": 145,
    "start_time": "2021-07-07T18:32:41.365Z"
   },
   {
    "duration": 132,
    "start_time": "2021-07-07T18:32:45.199Z"
   },
   {
    "duration": 11,
    "start_time": "2021-07-07T18:35:24.679Z"
   },
   {
    "duration": 268,
    "start_time": "2021-07-07T18:36:16.145Z"
   },
   {
    "duration": 227,
    "start_time": "2021-07-07T18:37:04.918Z"
   },
   {
    "duration": 3,
    "start_time": "2021-07-07T18:37:33.012Z"
   },
   {
    "duration": 671,
    "start_time": "2021-07-07T18:37:38.295Z"
   },
   {
    "duration": 54,
    "start_time": "2021-07-07T18:37:53.406Z"
   },
   {
    "duration": 631,
    "start_time": "2021-07-07T18:37:56.463Z"
   },
   {
    "duration": 19,
    "start_time": "2021-07-07T18:39:40.535Z"
   },
   {
    "duration": 20,
    "start_time": "2021-07-07T18:40:12.236Z"
   },
   {
    "duration": 633,
    "start_time": "2021-07-07T18:42:00.398Z"
   },
   {
    "duration": 218,
    "start_time": "2021-07-07T18:42:01.033Z"
   },
   {
    "duration": 49,
    "start_time": "2021-07-07T18:42:01.253Z"
   },
   {
    "duration": 5,
    "start_time": "2021-07-07T18:42:01.303Z"
   },
   {
    "duration": 27,
    "start_time": "2021-07-07T18:42:01.310Z"
   },
   {
    "duration": 8,
    "start_time": "2021-07-07T18:42:01.339Z"
   },
   {
    "duration": 20,
    "start_time": "2021-07-07T18:42:01.348Z"
   },
   {
    "duration": 6,
    "start_time": "2021-07-07T18:42:01.386Z"
   },
   {
    "duration": 16,
    "start_time": "2021-07-07T18:42:01.394Z"
   },
   {
    "duration": 9,
    "start_time": "2021-07-07T18:42:01.411Z"
   },
   {
    "duration": 11,
    "start_time": "2021-07-07T18:42:01.421Z"
   },
   {
    "duration": 31,
    "start_time": "2021-07-07T18:42:01.434Z"
   },
   {
    "duration": 18,
    "start_time": "2021-07-07T18:42:01.485Z"
   },
   {
    "duration": 23,
    "start_time": "2021-07-07T18:42:01.505Z"
   },
   {
    "duration": 6,
    "start_time": "2021-07-07T18:42:01.530Z"
   },
   {
    "duration": 10,
    "start_time": "2021-07-07T18:42:01.538Z"
   },
   {
    "duration": 13,
    "start_time": "2021-07-07T18:42:01.550Z"
   },
   {
    "duration": 24,
    "start_time": "2021-07-07T18:42:01.564Z"
   },
   {
    "duration": 20,
    "start_time": "2021-07-07T18:42:01.590Z"
   },
   {
    "duration": 8,
    "start_time": "2021-07-07T18:42:01.611Z"
   },
   {
    "duration": 31,
    "start_time": "2021-07-07T18:42:01.620Z"
   },
   {
    "duration": 39,
    "start_time": "2021-07-07T18:42:01.653Z"
   },
   {
    "duration": 8,
    "start_time": "2021-07-07T18:42:01.696Z"
   },
   {
    "duration": 13,
    "start_time": "2021-07-07T18:42:01.705Z"
   },
   {
    "duration": 20,
    "start_time": "2021-07-07T18:42:01.720Z"
   },
   {
    "duration": 12,
    "start_time": "2021-07-07T18:42:01.741Z"
   },
   {
    "duration": 35,
    "start_time": "2021-07-07T18:42:01.755Z"
   },
   {
    "duration": 14,
    "start_time": "2021-07-07T18:42:01.792Z"
   },
   {
    "duration": 188,
    "start_time": "2021-07-07T18:42:01.808Z"
   },
   {
    "duration": 19,
    "start_time": "2021-07-07T18:42:01.998Z"
   },
   {
    "duration": 175,
    "start_time": "2021-07-07T18:42:02.019Z"
   },
   {
    "duration": 134,
    "start_time": "2021-07-07T18:42:02.196Z"
   },
   {
    "duration": 10,
    "start_time": "2021-07-07T18:42:02.331Z"
   },
   {
    "duration": 19,
    "start_time": "2021-07-07T18:42:02.343Z"
   },
   {
    "duration": 628,
    "start_time": "2021-07-07T18:46:30.701Z"
   },
   {
    "duration": 183,
    "start_time": "2021-07-07T18:46:31.331Z"
   },
   {
    "duration": 48,
    "start_time": "2021-07-07T18:46:31.516Z"
   },
   {
    "duration": 5,
    "start_time": "2021-07-07T18:46:31.566Z"
   },
   {
    "duration": 28,
    "start_time": "2021-07-07T18:46:31.572Z"
   },
   {
    "duration": 8,
    "start_time": "2021-07-07T18:46:31.602Z"
   },
   {
    "duration": 19,
    "start_time": "2021-07-07T18:46:31.611Z"
   },
   {
    "duration": 6,
    "start_time": "2021-07-07T18:46:31.633Z"
   },
   {
    "duration": 17,
    "start_time": "2021-07-07T18:46:31.642Z"
   },
   {
    "duration": 10,
    "start_time": "2021-07-07T18:46:31.684Z"
   },
   {
    "duration": 9,
    "start_time": "2021-07-07T18:46:31.695Z"
   },
   {
    "duration": 28,
    "start_time": "2021-07-07T18:46:31.705Z"
   },
   {
    "duration": 18,
    "start_time": "2021-07-07T18:46:31.735Z"
   },
   {
    "duration": 48,
    "start_time": "2021-07-07T18:46:31.755Z"
   },
   {
    "duration": 6,
    "start_time": "2021-07-07T18:46:31.804Z"
   },
   {
    "duration": 4,
    "start_time": "2021-07-07T18:46:31.812Z"
   },
   {
    "duration": 9,
    "start_time": "2021-07-07T18:46:31.817Z"
   },
   {
    "duration": 10,
    "start_time": "2021-07-07T18:46:31.827Z"
   },
   {
    "duration": 12,
    "start_time": "2021-07-07T18:46:31.838Z"
   },
   {
    "duration": 39,
    "start_time": "2021-07-07T18:46:31.851Z"
   },
   {
    "duration": 24,
    "start_time": "2021-07-07T18:46:31.892Z"
   },
   {
    "duration": 15,
    "start_time": "2021-07-07T18:46:31.918Z"
   },
   {
    "duration": 7,
    "start_time": "2021-07-07T18:46:31.936Z"
   },
   {
    "duration": 8,
    "start_time": "2021-07-07T18:46:31.944Z"
   },
   {
    "duration": 19,
    "start_time": "2021-07-07T18:46:31.984Z"
   },
   {
    "duration": 10,
    "start_time": "2021-07-07T18:46:32.004Z"
   },
   {
    "duration": 5,
    "start_time": "2021-07-07T18:46:32.016Z"
   },
   {
    "duration": 9,
    "start_time": "2021-07-07T18:46:32.023Z"
   },
   {
    "duration": 199,
    "start_time": "2021-07-07T18:46:32.033Z"
   },
   {
    "duration": 19,
    "start_time": "2021-07-07T18:46:32.234Z"
   },
   {
    "duration": 159,
    "start_time": "2021-07-07T18:46:32.255Z"
   },
   {
    "duration": 134,
    "start_time": "2021-07-07T18:46:32.416Z"
   },
   {
    "duration": 10,
    "start_time": "2021-07-07T18:46:32.552Z"
   },
   {
    "duration": 34,
    "start_time": "2021-07-07T18:46:32.563Z"
   },
   {
    "duration": 1039,
    "start_time": "2021-07-08T08:41:09.419Z"
   },
   {
    "duration": 333,
    "start_time": "2021-07-08T08:41:10.459Z"
   },
   {
    "duration": 173,
    "start_time": "2021-07-08T08:41:10.794Z"
   },
   {
    "duration": 5,
    "start_time": "2021-07-08T08:41:10.968Z"
   },
   {
    "duration": 25,
    "start_time": "2021-07-08T08:41:10.975Z"
   },
   {
    "duration": 9,
    "start_time": "2021-07-08T08:41:11.002Z"
   },
   {
    "duration": 18,
    "start_time": "2021-07-08T08:41:11.013Z"
   },
   {
    "duration": 6,
    "start_time": "2021-07-08T08:41:11.033Z"
   },
   {
    "duration": 44,
    "start_time": "2021-07-08T08:41:11.042Z"
   },
   {
    "duration": 10,
    "start_time": "2021-07-08T08:41:11.088Z"
   },
   {
    "duration": 9,
    "start_time": "2021-07-08T08:41:11.100Z"
   },
   {
    "duration": 27,
    "start_time": "2021-07-08T08:41:11.111Z"
   },
   {
    "duration": 46,
    "start_time": "2021-07-08T08:41:11.140Z"
   },
   {
    "duration": 17,
    "start_time": "2021-07-08T08:41:11.187Z"
   },
   {
    "duration": 6,
    "start_time": "2021-07-08T08:41:11.206Z"
   },
   {
    "duration": 5,
    "start_time": "2021-07-08T08:41:11.213Z"
   },
   {
    "duration": 10,
    "start_time": "2021-07-08T08:41:11.219Z"
   },
   {
    "duration": 9,
    "start_time": "2021-07-08T08:41:11.230Z"
   },
   {
    "duration": 45,
    "start_time": "2021-07-08T08:41:11.241Z"
   },
   {
    "duration": 7,
    "start_time": "2021-07-08T08:41:11.287Z"
   },
   {
    "duration": 24,
    "start_time": "2021-07-08T08:41:11.296Z"
   },
   {
    "duration": 16,
    "start_time": "2021-07-08T08:41:11.322Z"
   },
   {
    "duration": 7,
    "start_time": "2021-07-08T08:41:11.341Z"
   },
   {
    "duration": 41,
    "start_time": "2021-07-08T08:41:11.349Z"
   },
   {
    "duration": 17,
    "start_time": "2021-07-08T08:41:11.391Z"
   },
   {
    "duration": 9,
    "start_time": "2021-07-08T08:41:11.410Z"
   },
   {
    "duration": 5,
    "start_time": "2021-07-08T08:41:11.421Z"
   },
   {
    "duration": 6,
    "start_time": "2021-07-08T08:41:11.428Z"
   },
   {
    "duration": 198,
    "start_time": "2021-07-08T08:41:11.435Z"
   },
   {
    "duration": 18,
    "start_time": "2021-07-08T08:41:11.635Z"
   },
   {
    "duration": 155,
    "start_time": "2021-07-08T08:41:11.655Z"
   },
   {
    "duration": 138,
    "start_time": "2021-07-08T08:41:11.811Z"
   },
   {
    "duration": 10,
    "start_time": "2021-07-08T08:41:11.950Z"
   },
   {
    "duration": 29,
    "start_time": "2021-07-08T08:41:11.961Z"
   },
   {
    "duration": 171,
    "start_time": "2021-07-08T08:47:44.522Z"
   },
   {
    "duration": 124,
    "start_time": "2021-07-08T08:47:46.872Z"
   },
   {
    "duration": 191,
    "start_time": "2021-07-08T08:47:58.148Z"
   },
   {
    "duration": 191,
    "start_time": "2021-07-08T08:48:07.412Z"
   },
   {
    "duration": 261,
    "start_time": "2021-07-08T08:48:10.385Z"
   },
   {
    "duration": 255,
    "start_time": "2021-07-08T08:48:14.494Z"
   },
   {
    "duration": 219,
    "start_time": "2021-07-08T08:48:22.752Z"
   },
   {
    "duration": 173,
    "start_time": "2021-07-08T08:49:06.395Z"
   },
   {
    "duration": 180,
    "start_time": "2021-07-08T08:49:21.011Z"
   },
   {
    "duration": 6,
    "start_time": "2021-07-08T08:50:31.697Z"
   },
   {
    "duration": 10,
    "start_time": "2021-07-08T08:50:47.394Z"
   },
   {
    "duration": 11,
    "start_time": "2021-07-08T08:53:49.332Z"
   },
   {
    "duration": 171,
    "start_time": "2021-07-08T08:54:28.408Z"
   },
   {
    "duration": 636,
    "start_time": "2021-07-08T09:02:48.385Z"
   },
   {
    "duration": 227,
    "start_time": "2021-07-08T09:02:49.023Z"
   },
   {
    "duration": 104,
    "start_time": "2021-07-08T09:02:49.252Z"
   },
   {
    "duration": 5,
    "start_time": "2021-07-08T09:02:49.358Z"
   },
   {
    "duration": 27,
    "start_time": "2021-07-08T09:02:49.365Z"
   },
   {
    "duration": 8,
    "start_time": "2021-07-08T09:02:49.394Z"
   },
   {
    "duration": 18,
    "start_time": "2021-07-08T09:02:49.404Z"
   },
   {
    "duration": 6,
    "start_time": "2021-07-08T09:02:49.424Z"
   },
   {
    "duration": 11,
    "start_time": "2021-07-08T09:02:49.433Z"
   },
   {
    "duration": 13,
    "start_time": "2021-07-08T09:02:49.485Z"
   },
   {
    "duration": 9,
    "start_time": "2021-07-08T09:02:49.500Z"
   },
   {
    "duration": 38,
    "start_time": "2021-07-08T09:02:49.511Z"
   },
   {
    "duration": 42,
    "start_time": "2021-07-08T09:02:49.551Z"
   },
   {
    "duration": 21,
    "start_time": "2021-07-08T09:02:49.594Z"
   },
   {
    "duration": 6,
    "start_time": "2021-07-08T09:02:49.616Z"
   },
   {
    "duration": 3,
    "start_time": "2021-07-08T09:02:49.623Z"
   },
   {
    "duration": 9,
    "start_time": "2021-07-08T09:02:49.628Z"
   },
   {
    "duration": 52,
    "start_time": "2021-07-08T09:02:49.638Z"
   },
   {
    "duration": 11,
    "start_time": "2021-07-08T09:02:49.692Z"
   },
   {
    "duration": 8,
    "start_time": "2021-07-08T09:02:49.704Z"
   },
   {
    "duration": 27,
    "start_time": "2021-07-08T09:02:49.713Z"
   },
   {
    "duration": 59,
    "start_time": "2021-07-08T09:02:49.741Z"
   },
   {
    "duration": 8,
    "start_time": "2021-07-08T09:02:49.803Z"
   },
   {
    "duration": 14,
    "start_time": "2021-07-08T09:02:49.813Z"
   },
   {
    "duration": 20,
    "start_time": "2021-07-08T09:02:49.829Z"
   },
   {
    "duration": 44,
    "start_time": "2021-07-08T09:02:49.851Z"
   },
   {
    "duration": 14,
    "start_time": "2021-07-08T09:02:49.896Z"
   },
   {
    "duration": 221,
    "start_time": "2021-07-08T09:02:49.912Z"
   },
   {
    "duration": 6,
    "start_time": "2021-07-08T09:02:50.134Z"
   },
   {
    "duration": 206,
    "start_time": "2021-07-08T09:02:50.142Z"
   },
   {
    "duration": 19,
    "start_time": "2021-07-08T09:02:50.350Z"
   },
   {
    "duration": 21,
    "start_time": "2021-07-08T09:02:50.370Z"
   },
   {
    "duration": 20,
    "start_time": "2021-07-08T09:02:50.393Z"
   },
   {
    "duration": 5,
    "start_time": "2021-07-08T09:02:50.414Z"
   },
   {
    "duration": 5,
    "start_time": "2021-07-08T09:03:34.173Z"
   },
   {
    "duration": 6,
    "start_time": "2021-07-08T09:04:49.062Z"
   },
   {
    "duration": 9,
    "start_time": "2021-07-08T09:04:50.118Z"
   },
   {
    "duration": 14,
    "start_time": "2021-07-08T09:04:58.512Z"
   },
   {
    "duration": 9,
    "start_time": "2021-07-08T09:05:10.988Z"
   },
   {
    "duration": 11,
    "start_time": "2021-07-08T09:05:11.743Z"
   },
   {
    "duration": 7,
    "start_time": "2021-07-08T09:05:25.677Z"
   },
   {
    "duration": 13,
    "start_time": "2021-07-08T09:05:47.189Z"
   },
   {
    "duration": 13,
    "start_time": "2021-07-08T09:05:54.755Z"
   },
   {
    "duration": 4,
    "start_time": "2021-07-08T09:06:29.189Z"
   },
   {
    "duration": 244,
    "start_time": "2021-07-08T09:06:29.195Z"
   },
   {
    "duration": 91,
    "start_time": "2021-07-08T09:06:29.441Z"
   },
   {
    "duration": 4,
    "start_time": "2021-07-08T09:06:29.534Z"
   },
   {
    "duration": 28,
    "start_time": "2021-07-08T09:06:29.540Z"
   },
   {
    "duration": 6,
    "start_time": "2021-07-08T09:06:29.570Z"
   },
   {
    "duration": 18,
    "start_time": "2021-07-08T09:06:29.578Z"
   },
   {
    "duration": 5,
    "start_time": "2021-07-08T09:06:29.597Z"
   },
   {
    "duration": 13,
    "start_time": "2021-07-08T09:06:29.605Z"
   },
   {
    "duration": 8,
    "start_time": "2021-07-08T09:06:29.620Z"
   },
   {
    "duration": 7,
    "start_time": "2021-07-08T09:06:29.630Z"
   },
   {
    "duration": 63,
    "start_time": "2021-07-08T09:06:29.639Z"
   },
   {
    "duration": 17,
    "start_time": "2021-07-08T09:06:29.704Z"
   },
   {
    "duration": 20,
    "start_time": "2021-07-08T09:06:29.723Z"
   },
   {
    "duration": 6,
    "start_time": "2021-07-08T09:06:29.745Z"
   },
   {
    "duration": 3,
    "start_time": "2021-07-08T09:06:29.752Z"
   },
   {
    "duration": 7,
    "start_time": "2021-07-08T09:06:29.785Z"
   },
   {
    "duration": 11,
    "start_time": "2021-07-08T09:06:29.794Z"
   },
   {
    "duration": 15,
    "start_time": "2021-07-08T09:06:29.807Z"
   },
   {
    "duration": 8,
    "start_time": "2021-07-08T09:06:29.823Z"
   },
   {
    "duration": 70,
    "start_time": "2021-07-08T09:06:29.832Z"
   },
   {
    "duration": 17,
    "start_time": "2021-07-08T09:06:29.903Z"
   },
   {
    "duration": 9,
    "start_time": "2021-07-08T09:06:29.921Z"
   },
   {
    "duration": 9,
    "start_time": "2021-07-08T09:06:29.932Z"
   },
   {
    "duration": 57,
    "start_time": "2021-07-08T09:06:29.942Z"
   },
   {
    "duration": 11,
    "start_time": "2021-07-08T09:06:30.001Z"
   },
   {
    "duration": 19,
    "start_time": "2021-07-08T09:06:30.016Z"
   },
   {
    "duration": 217,
    "start_time": "2021-07-08T09:06:30.037Z"
   },
   {
    "duration": 6,
    "start_time": "2021-07-08T09:06:30.255Z"
   },
   {
    "duration": 205,
    "start_time": "2021-07-08T09:06:30.263Z"
   },
   {
    "duration": 27,
    "start_time": "2021-07-08T09:06:30.470Z"
   },
   {
    "duration": 11,
    "start_time": "2021-07-08T09:06:30.500Z"
   },
   {
    "duration": 31,
    "start_time": "2021-07-08T09:06:30.513Z"
   },
   {
    "duration": 18,
    "start_time": "2021-07-08T09:06:30.546Z"
   },
   {
    "duration": 11,
    "start_time": "2021-07-08T09:06:30.566Z"
   },
   {
    "duration": 19,
    "start_time": "2021-07-08T09:06:30.579Z"
   },
   {
    "duration": 20,
    "start_time": "2021-07-08T09:06:49.466Z"
   },
   {
    "duration": 9,
    "start_time": "2021-07-08T09:06:51.994Z"
   },
   {
    "duration": 20,
    "start_time": "2021-07-08T09:06:52.273Z"
   },
   {
    "duration": 246,
    "start_time": "2021-07-08T09:10:21.272Z"
   },
   {
    "duration": 84,
    "start_time": "2021-07-08T09:10:21.436Z"
   },
   {
    "duration": 7,
    "start_time": "2021-07-08T09:10:37.608Z"
   },
   {
    "duration": 189,
    "start_time": "2021-07-08T09:10:38.573Z"
   },
   {
    "duration": 185,
    "start_time": "2021-07-08T09:10:53.181Z"
   },
   {
    "duration": 11,
    "start_time": "2021-07-08T09:10:59.549Z"
   },
   {
    "duration": 42,
    "start_time": "2021-07-08T09:10:59.709Z"
   },
   {
    "duration": 12,
    "start_time": "2021-07-08T09:11:02.857Z"
   },
   {
    "duration": 28,
    "start_time": "2021-07-08T09:11:10.062Z"
   },
   {
    "duration": 249,
    "start_time": "2021-07-08T09:11:37.388Z"
   },
   {
    "duration": 232,
    "start_time": "2021-07-08T09:11:49.485Z"
   },
   {
    "duration": 453,
    "start_time": "2021-07-08T09:12:01.546Z"
   },
   {
    "duration": 440,
    "start_time": "2021-07-08T09:12:12.347Z"
   },
   {
    "duration": 213,
    "start_time": "2021-07-08T09:13:32.196Z"
   },
   {
    "duration": 172,
    "start_time": "2021-07-08T09:14:07.400Z"
   },
   {
    "duration": 185,
    "start_time": "2021-07-08T09:14:14.905Z"
   },
   {
    "duration": 209,
    "start_time": "2021-07-08T09:14:40.109Z"
   },
   {
    "duration": 201,
    "start_time": "2021-07-08T09:14:54.506Z"
   },
   {
    "duration": 622,
    "start_time": "2021-07-08T09:18:14.497Z"
   },
   {
    "duration": 220,
    "start_time": "2021-07-08T09:18:15.121Z"
   },
   {
    "duration": 79,
    "start_time": "2021-07-08T09:18:15.343Z"
   },
   {
    "duration": 4,
    "start_time": "2021-07-08T09:18:15.425Z"
   },
   {
    "duration": 24,
    "start_time": "2021-07-08T09:18:15.431Z"
   },
   {
    "duration": 8,
    "start_time": "2021-07-08T09:18:15.457Z"
   },
   {
    "duration": 16,
    "start_time": "2021-07-08T09:18:15.466Z"
   },
   {
    "duration": 5,
    "start_time": "2021-07-08T09:18:15.484Z"
   },
   {
    "duration": 10,
    "start_time": "2021-07-08T09:18:15.493Z"
   },
   {
    "duration": 8,
    "start_time": "2021-07-08T09:18:15.504Z"
   },
   {
    "duration": 7,
    "start_time": "2021-07-08T09:18:15.513Z"
   },
   {
    "duration": 26,
    "start_time": "2021-07-08T09:18:15.522Z"
   },
   {
    "duration": 49,
    "start_time": "2021-07-08T09:18:15.550Z"
   },
   {
    "duration": 21,
    "start_time": "2021-07-08T09:18:15.601Z"
   },
   {
    "duration": 8,
    "start_time": "2021-07-08T09:18:15.624Z"
   },
   {
    "duration": 3,
    "start_time": "2021-07-08T09:18:15.634Z"
   },
   {
    "duration": 8,
    "start_time": "2021-07-08T09:18:15.639Z"
   },
   {
    "duration": 45,
    "start_time": "2021-07-08T09:18:15.649Z"
   },
   {
    "duration": 13,
    "start_time": "2021-07-08T09:18:15.696Z"
   },
   {
    "duration": 10,
    "start_time": "2021-07-08T09:18:15.711Z"
   },
   {
    "duration": 64,
    "start_time": "2021-07-08T09:18:15.722Z"
   },
   {
    "duration": 19,
    "start_time": "2021-07-08T09:18:15.788Z"
   },
   {
    "duration": 9,
    "start_time": "2021-07-08T09:18:15.809Z"
   },
   {
    "duration": 9,
    "start_time": "2021-07-08T09:18:15.820Z"
   },
   {
    "duration": 18,
    "start_time": "2021-07-08T09:18:15.831Z"
   },
   {
    "duration": 43,
    "start_time": "2021-07-08T09:18:15.851Z"
   },
   {
    "duration": 12,
    "start_time": "2021-07-08T09:18:15.897Z"
   },
   {
    "duration": 219,
    "start_time": "2021-07-08T09:18:15.911Z"
   },
   {
    "duration": 8,
    "start_time": "2021-07-08T09:18:16.132Z"
   },
   {
    "duration": 199,
    "start_time": "2021-07-08T09:18:16.141Z"
   },
   {
    "duration": 18,
    "start_time": "2021-07-08T09:18:16.341Z"
   },
   {
    "duration": 24,
    "start_time": "2021-07-08T09:18:16.361Z"
   },
   {
    "duration": 24,
    "start_time": "2021-07-08T09:18:16.387Z"
   },
   {
    "duration": 211,
    "start_time": "2021-07-08T09:18:16.413Z"
   },
   {
    "duration": 18,
    "start_time": "2021-07-08T09:18:16.626Z"
   },
   {
    "duration": 596,
    "start_time": "2021-07-08T10:06:33.623Z"
   },
   {
    "duration": 181,
    "start_time": "2021-07-08T10:06:34.221Z"
   },
   {
    "duration": 176,
    "start_time": "2021-07-08T10:06:34.635Z"
   },
   {
    "duration": 239,
    "start_time": "2021-07-08T10:06:55.572Z"
   },
   {
    "duration": 6,
    "start_time": "2021-07-08T10:06:57.687Z"
   },
   {
    "duration": 4,
    "start_time": "2021-07-08T10:07:03.956Z"
   },
   {
    "duration": 4,
    "start_time": "2021-07-08T10:07:10.376Z"
   },
   {
    "duration": 4,
    "start_time": "2021-07-08T10:17:19.889Z"
   },
   {
    "duration": 3,
    "start_time": "2021-07-08T10:19:19.407Z"
   },
   {
    "duration": 197,
    "start_time": "2021-07-08T10:19:19.412Z"
   },
   {
    "duration": 127,
    "start_time": "2021-07-08T10:19:19.611Z"
   },
   {
    "duration": 4,
    "start_time": "2021-07-08T10:19:19.740Z"
   },
   {
    "duration": 27,
    "start_time": "2021-07-08T10:19:19.746Z"
   },
   {
    "duration": 7,
    "start_time": "2021-07-08T10:19:19.775Z"
   },
   {
    "duration": 30,
    "start_time": "2021-07-08T10:19:19.784Z"
   },
   {
    "duration": 7,
    "start_time": "2021-07-08T10:19:19.817Z"
   },
   {
    "duration": 26,
    "start_time": "2021-07-08T10:19:19.826Z"
   },
   {
    "duration": 18,
    "start_time": "2021-07-08T10:19:19.854Z"
   },
   {
    "duration": 14,
    "start_time": "2021-07-08T10:19:19.874Z"
   },
   {
    "duration": 48,
    "start_time": "2021-07-08T10:19:19.890Z"
   },
   {
    "duration": 17,
    "start_time": "2021-07-08T10:19:19.940Z"
   },
   {
    "duration": 38,
    "start_time": "2021-07-08T10:19:19.959Z"
   },
   {
    "duration": 8,
    "start_time": "2021-07-08T10:19:19.999Z"
   },
   {
    "duration": 15,
    "start_time": "2021-07-08T10:19:20.009Z"
   },
   {
    "duration": 22,
    "start_time": "2021-07-08T10:19:20.026Z"
   },
   {
    "duration": 10,
    "start_time": "2021-07-08T10:19:20.050Z"
   },
   {
    "duration": 10,
    "start_time": "2021-07-08T10:19:20.062Z"
   },
   {
    "duration": 20,
    "start_time": "2021-07-08T10:19:20.073Z"
   },
   {
    "duration": 29,
    "start_time": "2021-07-08T10:19:20.095Z"
   },
   {
    "duration": 17,
    "start_time": "2021-07-08T10:19:20.126Z"
   },
   {
    "duration": 40,
    "start_time": "2021-07-08T10:19:20.146Z"
   },
   {
    "duration": 15,
    "start_time": "2021-07-08T10:19:20.189Z"
   },
   {
    "duration": 19,
    "start_time": "2021-07-08T10:19:20.206Z"
   },
   {
    "duration": 10,
    "start_time": "2021-07-08T10:19:20.226Z"
   },
   {
    "duration": 11,
    "start_time": "2021-07-08T10:19:20.238Z"
   },
   {
    "duration": 297,
    "start_time": "2021-07-08T10:19:20.250Z"
   },
   {
    "duration": 6,
    "start_time": "2021-07-08T10:19:20.549Z"
   },
   {
    "duration": 191,
    "start_time": "2021-07-08T10:19:20.557Z"
   },
   {
    "duration": 19,
    "start_time": "2021-07-08T10:19:20.750Z"
   },
   {
    "duration": 20,
    "start_time": "2021-07-08T10:19:20.771Z"
   },
   {
    "duration": 15,
    "start_time": "2021-07-08T10:19:20.793Z"
   },
   {
    "duration": 222,
    "start_time": "2021-07-08T10:19:20.809Z"
   },
   {
    "duration": 20,
    "start_time": "2021-07-08T10:19:21.033Z"
   },
   {
    "duration": 27,
    "start_time": "2021-07-08T10:45:04.055Z"
   },
   {
    "duration": 8,
    "start_time": "2021-07-08T10:45:08.478Z"
   },
   {
    "duration": 8,
    "start_time": "2021-07-08T10:45:31.982Z"
   },
   {
    "duration": 10,
    "start_time": "2021-07-08T10:46:01.221Z"
   },
   {
    "duration": 17,
    "start_time": "2021-07-08T10:46:40.011Z"
   },
   {
    "duration": 193,
    "start_time": "2021-07-08T10:48:19.471Z"
   },
   {
    "duration": 225,
    "start_time": "2021-07-08T10:49:26.480Z"
   },
   {
    "duration": 204,
    "start_time": "2021-07-08T10:49:59.992Z"
   },
   {
    "duration": 435,
    "start_time": "2021-07-08T10:50:06.779Z"
   },
   {
    "duration": 199,
    "start_time": "2021-07-08T10:50:14.891Z"
   },
   {
    "duration": 204,
    "start_time": "2021-07-08T10:50:18.501Z"
   },
   {
    "duration": 244,
    "start_time": "2021-07-08T10:50:23.359Z"
   },
   {
    "duration": 192,
    "start_time": "2021-07-08T10:50:29.135Z"
   },
   {
    "duration": 218,
    "start_time": "2021-07-08T10:50:33.092Z"
   },
   {
    "duration": 207,
    "start_time": "2021-07-08T10:52:45.381Z"
   },
   {
    "duration": 5,
    "start_time": "2021-07-08T10:53:34.641Z"
   },
   {
    "duration": 196,
    "start_time": "2021-07-08T10:53:41.478Z"
   },
   {
    "duration": 43,
    "start_time": "2021-07-08T10:53:50.335Z"
   },
   {
    "duration": 32,
    "start_time": "2021-07-08T10:53:55.294Z"
   },
   {
    "duration": 55,
    "start_time": "2021-07-08T10:54:09.675Z"
   },
   {
    "duration": 16,
    "start_time": "2021-07-08T10:54:12.260Z"
   },
   {
    "duration": 15,
    "start_time": "2021-07-08T10:54:49.150Z"
   },
   {
    "duration": 20,
    "start_time": "2021-07-08T10:56:07.596Z"
   },
   {
    "duration": 16,
    "start_time": "2021-07-08T10:58:26.276Z"
   },
   {
    "duration": 22,
    "start_time": "2021-07-08T10:59:00.486Z"
   },
   {
    "duration": 18,
    "start_time": "2021-07-08T11:02:09.653Z"
   },
   {
    "duration": 10,
    "start_time": "2021-07-08T11:03:44.331Z"
   },
   {
    "duration": 10,
    "start_time": "2021-07-08T11:03:54.055Z"
   },
   {
    "duration": 12,
    "start_time": "2021-07-08T11:04:41.967Z"
   },
   {
    "duration": 24,
    "start_time": "2021-07-08T11:07:30.732Z"
   },
   {
    "duration": 6,
    "start_time": "2021-07-08T11:07:37.364Z"
   },
   {
    "duration": 16,
    "start_time": "2021-07-08T11:08:01.819Z"
   },
   {
    "duration": 17,
    "start_time": "2021-07-08T11:09:47.488Z"
   },
   {
    "duration": 246,
    "start_time": "2021-07-08T11:10:00.830Z"
   },
   {
    "duration": 18,
    "start_time": "2021-07-08T11:13:55.195Z"
   },
   {
    "duration": 204,
    "start_time": "2021-07-08T11:14:04.951Z"
   },
   {
    "duration": 19,
    "start_time": "2021-07-08T11:15:10.613Z"
   },
   {
    "duration": 680,
    "start_time": "2021-07-08T11:16:25.793Z"
   },
   {
    "duration": 451,
    "start_time": "2021-07-08T11:16:40.313Z"
   },
   {
    "duration": 469,
    "start_time": "2021-07-08T11:17:21.286Z"
   },
   {
    "duration": 20,
    "start_time": "2021-07-08T11:19:12.554Z"
   },
   {
    "duration": 35,
    "start_time": "2021-07-08T11:20:05.484Z"
   },
   {
    "duration": 53,
    "start_time": "2021-07-08T11:21:40.050Z"
   },
   {
    "duration": 13,
    "start_time": "2021-07-08T11:22:26.059Z"
   },
   {
    "duration": 19,
    "start_time": "2021-07-08T11:22:47.419Z"
   },
   {
    "duration": 25,
    "start_time": "2021-07-08T11:23:19.958Z"
   },
   {
    "duration": 29,
    "start_time": "2021-07-08T11:23:25.415Z"
   },
   {
    "duration": 10,
    "start_time": "2021-07-08T11:24:45.138Z"
   },
   {
    "duration": 19,
    "start_time": "2021-07-08T11:24:54.498Z"
   },
   {
    "duration": 12,
    "start_time": "2021-07-08T11:25:32.225Z"
   },
   {
    "duration": 19,
    "start_time": "2021-07-08T11:25:37.092Z"
   },
   {
    "duration": 17,
    "start_time": "2021-07-08T11:25:58.116Z"
   },
   {
    "duration": 15,
    "start_time": "2021-07-08T11:26:02.258Z"
   },
   {
    "duration": 8,
    "start_time": "2021-07-08T11:26:59.682Z"
   },
   {
    "duration": 184,
    "start_time": "2021-07-08T11:27:21.894Z"
   },
   {
    "duration": 8,
    "start_time": "2021-07-08T11:27:23.824Z"
   },
   {
    "duration": 202,
    "start_time": "2021-07-08T11:27:23.962Z"
   },
   {
    "duration": 360,
    "start_time": "2021-07-08T11:28:33.215Z"
   },
   {
    "duration": 231,
    "start_time": "2021-07-08T11:32:05.542Z"
   },
   {
    "duration": 607,
    "start_time": "2021-07-08T11:36:27.854Z"
   },
   {
    "duration": 241,
    "start_time": "2021-07-08T11:36:28.463Z"
   },
   {
    "duration": 67,
    "start_time": "2021-07-08T11:36:28.709Z"
   },
   {
    "duration": 5,
    "start_time": "2021-07-08T11:36:28.778Z"
   },
   {
    "duration": 32,
    "start_time": "2021-07-08T11:36:28.784Z"
   },
   {
    "duration": 11,
    "start_time": "2021-07-08T11:36:28.819Z"
   },
   {
    "duration": 20,
    "start_time": "2021-07-08T11:36:28.834Z"
   },
   {
    "duration": 36,
    "start_time": "2021-07-08T11:36:28.857Z"
   },
   {
    "duration": 16,
    "start_time": "2021-07-08T11:36:28.895Z"
   },
   {
    "duration": 14,
    "start_time": "2021-07-08T11:36:28.913Z"
   },
   {
    "duration": 9,
    "start_time": "2021-07-08T11:36:28.930Z"
   },
   {
    "duration": 55,
    "start_time": "2021-07-08T11:36:28.941Z"
   },
   {
    "duration": 27,
    "start_time": "2021-07-08T11:36:28.999Z"
   },
   {
    "duration": 30,
    "start_time": "2021-07-08T11:36:29.028Z"
   },
   {
    "duration": 31,
    "start_time": "2021-07-08T11:36:29.060Z"
   },
   {
    "duration": 3,
    "start_time": "2021-07-08T11:36:29.093Z"
   },
   {
    "duration": 12,
    "start_time": "2021-07-08T11:36:29.099Z"
   },
   {
    "duration": 11,
    "start_time": "2021-07-08T11:36:29.112Z"
   },
   {
    "duration": 12,
    "start_time": "2021-07-08T11:36:29.125Z"
   },
   {
    "duration": 9,
    "start_time": "2021-07-08T11:36:29.139Z"
   },
   {
    "duration": 31,
    "start_time": "2021-07-08T11:36:29.191Z"
   },
   {
    "duration": 17,
    "start_time": "2021-07-08T11:36:29.226Z"
   },
   {
    "duration": 7,
    "start_time": "2021-07-08T11:36:29.245Z"
   },
   {
    "duration": 10,
    "start_time": "2021-07-08T11:36:29.254Z"
   },
   {
    "duration": 30,
    "start_time": "2021-07-08T11:36:29.292Z"
   },
   {
    "duration": 11,
    "start_time": "2021-07-08T11:36:29.324Z"
   },
   {
    "duration": 11,
    "start_time": "2021-07-08T11:36:29.337Z"
   },
   {
    "duration": 230,
    "start_time": "2021-07-08T11:36:29.349Z"
   },
   {
    "duration": 13,
    "start_time": "2021-07-08T11:36:29.588Z"
   },
   {
    "duration": 205,
    "start_time": "2021-07-08T11:36:29.603Z"
   },
   {
    "duration": 20,
    "start_time": "2021-07-08T11:36:29.810Z"
   },
   {
    "duration": 9,
    "start_time": "2021-07-08T11:36:29.832Z"
   },
   {
    "duration": 16,
    "start_time": "2021-07-08T11:36:29.843Z"
   },
   {
    "duration": 283,
    "start_time": "2021-07-08T11:36:29.861Z"
   },
   {
    "duration": 50,
    "start_time": "2021-07-08T11:36:30.146Z"
   },
   {
    "duration": 14,
    "start_time": "2021-07-08T11:36:30.198Z"
   },
   {
    "duration": 11,
    "start_time": "2021-07-08T11:36:30.214Z"
   },
   {
    "duration": 245,
    "start_time": "2021-07-08T11:36:30.227Z"
   },
   {
    "duration": 439,
    "start_time": "2021-07-08T11:36:30.474Z"
   },
   {
    "duration": 210,
    "start_time": "2021-07-08T11:36:30.915Z"
   },
   {
    "duration": 15,
    "start_time": "2021-07-08T11:36:31.127Z"
   },
   {
    "duration": 17,
    "start_time": "2021-07-08T11:38:20.451Z"
   },
   {
    "duration": 642,
    "start_time": "2021-07-08T11:46:17.881Z"
   },
   {
    "duration": 210,
    "start_time": "2021-07-08T11:46:18.525Z"
   },
   {
    "duration": 104,
    "start_time": "2021-07-08T11:46:18.741Z"
   },
   {
    "duration": 8,
    "start_time": "2021-07-08T11:46:18.847Z"
   },
   {
    "duration": 25,
    "start_time": "2021-07-08T11:46:18.857Z"
   },
   {
    "duration": 14,
    "start_time": "2021-07-08T11:46:18.884Z"
   },
   {
    "duration": 22,
    "start_time": "2021-07-08T11:46:18.900Z"
   },
   {
    "duration": 5,
    "start_time": "2021-07-08T11:46:18.924Z"
   },
   {
    "duration": 13,
    "start_time": "2021-07-08T11:46:18.931Z"
   },
   {
    "duration": 45,
    "start_time": "2021-07-08T11:46:18.946Z"
   },
   {
    "duration": 12,
    "start_time": "2021-07-08T11:46:18.993Z"
   },
   {
    "duration": 38,
    "start_time": "2021-07-08T11:46:19.006Z"
   },
   {
    "duration": 50,
    "start_time": "2021-07-08T11:46:19.046Z"
   },
   {
    "duration": 29,
    "start_time": "2021-07-08T11:46:19.099Z"
   },
   {
    "duration": 7,
    "start_time": "2021-07-08T11:46:19.130Z"
   },
   {
    "duration": 3,
    "start_time": "2021-07-08T11:46:19.139Z"
   },
   {
    "duration": 11,
    "start_time": "2021-07-08T11:46:19.144Z"
   },
   {
    "duration": 40,
    "start_time": "2021-07-08T11:46:19.157Z"
   },
   {
    "duration": 15,
    "start_time": "2021-07-08T11:46:19.199Z"
   },
   {
    "duration": 10,
    "start_time": "2021-07-08T11:46:19.217Z"
   },
   {
    "duration": 68,
    "start_time": "2021-07-08T11:46:19.230Z"
   },
   {
    "duration": 17,
    "start_time": "2021-07-08T11:46:19.301Z"
   },
   {
    "duration": 7,
    "start_time": "2021-07-08T11:46:19.321Z"
   },
   {
    "duration": 11,
    "start_time": "2021-07-08T11:46:19.330Z"
   },
   {
    "duration": 59,
    "start_time": "2021-07-08T11:46:19.343Z"
   },
   {
    "duration": 17,
    "start_time": "2021-07-08T11:46:19.405Z"
   },
   {
    "duration": 16,
    "start_time": "2021-07-08T11:46:19.424Z"
   },
   {
    "duration": 252,
    "start_time": "2021-07-08T11:46:19.443Z"
   },
   {
    "duration": 9,
    "start_time": "2021-07-08T11:46:19.697Z"
   },
   {
    "duration": 224,
    "start_time": "2021-07-08T11:46:19.708Z"
   },
   {
    "duration": 21,
    "start_time": "2021-07-08T11:46:19.934Z"
   },
   {
    "duration": 9,
    "start_time": "2021-07-08T11:46:19.956Z"
   },
   {
    "duration": 32,
    "start_time": "2021-07-08T11:46:19.967Z"
   },
   {
    "duration": 288,
    "start_time": "2021-07-08T11:46:20.004Z"
   },
   {
    "duration": 23,
    "start_time": "2021-07-08T11:46:20.300Z"
   },
   {
    "duration": 11,
    "start_time": "2021-07-08T11:46:20.325Z"
   },
   {
    "duration": 11,
    "start_time": "2021-07-08T11:46:20.339Z"
   },
   {
    "duration": 259,
    "start_time": "2021-07-08T11:46:20.352Z"
   },
   {
    "duration": 438,
    "start_time": "2021-07-08T11:46:20.613Z"
   },
   {
    "duration": 207,
    "start_time": "2021-07-08T11:46:21.054Z"
   },
   {
    "duration": 27,
    "start_time": "2021-07-08T11:46:21.262Z"
   },
   {
    "duration": 19,
    "start_time": "2021-07-08T11:46:21.291Z"
   },
   {
    "duration": 820,
    "start_time": "2021-07-08T11:49:01.655Z"
   },
   {
    "duration": 372,
    "start_time": "2021-07-08T11:49:02.478Z"
   },
   {
    "duration": 98,
    "start_time": "2021-07-08T11:49:02.853Z"
   },
   {
    "duration": 6,
    "start_time": "2021-07-08T11:49:02.953Z"
   },
   {
    "duration": 39,
    "start_time": "2021-07-08T11:49:02.960Z"
   },
   {
    "duration": 9,
    "start_time": "2021-07-08T11:49:03.003Z"
   },
   {
    "duration": 23,
    "start_time": "2021-07-08T11:49:03.014Z"
   },
   {
    "duration": 6,
    "start_time": "2021-07-08T11:49:03.041Z"
   },
   {
    "duration": 20,
    "start_time": "2021-07-08T11:49:03.049Z"
   },
   {
    "duration": 18,
    "start_time": "2021-07-08T11:49:03.084Z"
   },
   {
    "duration": 14,
    "start_time": "2021-07-08T11:49:03.104Z"
   },
   {
    "duration": 39,
    "start_time": "2021-07-08T11:49:03.119Z"
   },
   {
    "duration": 38,
    "start_time": "2021-07-08T11:49:03.160Z"
   },
   {
    "duration": 26,
    "start_time": "2021-07-08T11:49:03.200Z"
   },
   {
    "duration": 7,
    "start_time": "2021-07-08T11:49:03.227Z"
   },
   {
    "duration": 4,
    "start_time": "2021-07-08T11:49:03.236Z"
   },
   {
    "duration": 15,
    "start_time": "2021-07-08T11:49:03.243Z"
   },
   {
    "duration": 21,
    "start_time": "2021-07-08T11:49:03.285Z"
   },
   {
    "duration": 17,
    "start_time": "2021-07-08T11:49:03.309Z"
   },
   {
    "duration": 10,
    "start_time": "2021-07-08T11:49:03.328Z"
   },
   {
    "duration": 65,
    "start_time": "2021-07-08T11:49:03.340Z"
   },
   {
    "duration": 18,
    "start_time": "2021-07-08T11:49:03.407Z"
   },
   {
    "duration": 8,
    "start_time": "2021-07-08T11:49:03.428Z"
   },
   {
    "duration": 15,
    "start_time": "2021-07-08T11:49:03.438Z"
   },
   {
    "duration": 40,
    "start_time": "2021-07-08T11:49:03.455Z"
   },
   {
    "duration": 12,
    "start_time": "2021-07-08T11:49:03.497Z"
   },
   {
    "duration": 29,
    "start_time": "2021-07-08T11:49:03.511Z"
   },
   {
    "duration": 285,
    "start_time": "2021-07-08T11:49:03.542Z"
   },
   {
    "duration": 8,
    "start_time": "2021-07-08T11:49:03.829Z"
   },
   {
    "duration": 227,
    "start_time": "2021-07-08T11:49:03.838Z"
   },
   {
    "duration": 40,
    "start_time": "2021-07-08T11:49:04.066Z"
   },
   {
    "duration": 10,
    "start_time": "2021-07-08T11:49:04.108Z"
   },
   {
    "duration": 26,
    "start_time": "2021-07-08T11:49:04.121Z"
   },
   {
    "duration": 290,
    "start_time": "2021-07-08T11:49:04.149Z"
   },
   {
    "duration": 26,
    "start_time": "2021-07-08T11:49:04.441Z"
   },
   {
    "duration": 31,
    "start_time": "2021-07-08T11:49:04.470Z"
   },
   {
    "duration": 14,
    "start_time": "2021-07-08T11:49:04.503Z"
   },
   {
    "duration": 259,
    "start_time": "2021-07-08T11:49:04.521Z"
   },
   {
    "duration": 480,
    "start_time": "2021-07-08T11:49:04.782Z"
   },
   {
    "duration": 225,
    "start_time": "2021-07-08T11:49:05.264Z"
   },
   {
    "duration": 22,
    "start_time": "2021-07-08T11:49:05.491Z"
   },
   {
    "duration": 24,
    "start_time": "2021-07-08T11:49:05.515Z"
   },
   {
    "duration": 634,
    "start_time": "2021-07-08T11:52:24.960Z"
   },
   {
    "duration": 199,
    "start_time": "2021-07-08T11:52:25.599Z"
   },
   {
    "duration": 106,
    "start_time": "2021-07-08T11:52:25.803Z"
   },
   {
    "duration": 7,
    "start_time": "2021-07-08T11:52:25.911Z"
   },
   {
    "duration": 29,
    "start_time": "2021-07-08T11:52:25.920Z"
   },
   {
    "duration": 7,
    "start_time": "2021-07-08T11:52:25.951Z"
   },
   {
    "duration": 26,
    "start_time": "2021-07-08T11:52:25.961Z"
   },
   {
    "duration": 11,
    "start_time": "2021-07-08T11:52:25.990Z"
   },
   {
    "duration": 29,
    "start_time": "2021-07-08T11:52:26.005Z"
   },
   {
    "duration": 9,
    "start_time": "2021-07-08T11:52:26.036Z"
   },
   {
    "duration": 8,
    "start_time": "2021-07-08T11:52:26.047Z"
   },
   {
    "duration": 63,
    "start_time": "2021-07-08T11:52:26.057Z"
   },
   {
    "duration": 17,
    "start_time": "2021-07-08T11:52:26.122Z"
   },
   {
    "duration": 43,
    "start_time": "2021-07-08T11:52:26.142Z"
   },
   {
    "duration": 17,
    "start_time": "2021-07-08T11:52:26.187Z"
   },
   {
    "duration": 5,
    "start_time": "2021-07-08T11:52:26.206Z"
   },
   {
    "duration": 12,
    "start_time": "2021-07-08T11:52:26.212Z"
   },
   {
    "duration": 11,
    "start_time": "2021-07-08T11:52:26.226Z"
   },
   {
    "duration": 12,
    "start_time": "2021-07-08T11:52:26.238Z"
   },
   {
    "duration": 38,
    "start_time": "2021-07-08T11:52:26.252Z"
   },
   {
    "duration": 40,
    "start_time": "2021-07-08T11:52:26.292Z"
   },
   {
    "duration": 17,
    "start_time": "2021-07-08T11:52:26.336Z"
   },
   {
    "duration": 39,
    "start_time": "2021-07-08T11:52:26.355Z"
   },
   {
    "duration": 11,
    "start_time": "2021-07-08T11:52:26.395Z"
   },
   {
    "duration": 23,
    "start_time": "2021-07-08T11:52:26.408Z"
   },
   {
    "duration": 12,
    "start_time": "2021-07-08T11:52:26.432Z"
   },
   {
    "duration": 41,
    "start_time": "2021-07-08T11:52:26.446Z"
   },
   {
    "duration": 215,
    "start_time": "2021-07-08T11:52:26.493Z"
   },
   {
    "duration": 8,
    "start_time": "2021-07-08T11:52:26.710Z"
   },
   {
    "duration": 228,
    "start_time": "2021-07-08T11:52:26.720Z"
   },
   {
    "duration": 18,
    "start_time": "2021-07-08T11:52:26.950Z"
   },
   {
    "duration": 35,
    "start_time": "2021-07-08T11:52:26.969Z"
   },
   {
    "duration": 23,
    "start_time": "2021-07-08T11:52:27.006Z"
   },
   {
    "duration": 258,
    "start_time": "2021-07-08T11:52:27.030Z"
   },
   {
    "duration": 24,
    "start_time": "2021-07-08T11:52:27.290Z"
   },
   {
    "duration": 12,
    "start_time": "2021-07-08T11:52:27.316Z"
   },
   {
    "duration": 10,
    "start_time": "2021-07-08T11:52:27.329Z"
   },
   {
    "duration": 298,
    "start_time": "2021-07-08T11:52:27.341Z"
   },
   {
    "duration": 436,
    "start_time": "2021-07-08T11:52:27.641Z"
   },
   {
    "duration": 216,
    "start_time": "2021-07-08T11:52:28.079Z"
   },
   {
    "duration": 20,
    "start_time": "2021-07-08T11:52:28.297Z"
   },
   {
    "duration": 17,
    "start_time": "2021-07-08T11:52:28.319Z"
   },
   {
    "duration": 1140,
    "start_time": "2022-10-15T09:49:41.942Z"
   },
   {
    "duration": 165,
    "start_time": "2022-10-15T09:55:12.339Z"
   },
   {
    "duration": 82,
    "start_time": "2022-10-15T09:55:20.857Z"
   },
   {
    "duration": 76,
    "start_time": "2022-10-15T09:55:48.753Z"
   },
   {
    "duration": 75,
    "start_time": "2022-10-15T09:56:05.660Z"
   },
   {
    "duration": 92,
    "start_time": "2022-10-15T10:06:26.432Z"
   },
   {
    "duration": 117,
    "start_time": "2022-10-15T10:08:25.450Z"
   },
   {
    "duration": 119,
    "start_time": "2022-10-15T10:08:41.053Z"
   },
   {
    "duration": 103,
    "start_time": "2022-10-15T10:21:52.303Z"
   },
   {
    "duration": 98,
    "start_time": "2022-10-15T10:22:14.636Z"
   },
   {
    "duration": 18,
    "start_time": "2022-10-15T11:18:41.722Z"
   },
   {
    "duration": 25,
    "start_time": "2022-10-15T11:19:05.323Z"
   },
   {
    "duration": 6,
    "start_time": "2022-10-15T11:28:32.610Z"
   },
   {
    "duration": 11,
    "start_time": "2022-10-15T11:28:53.594Z"
   },
   {
    "duration": 12,
    "start_time": "2022-10-15T11:30:08.622Z"
   },
   {
    "duration": 12,
    "start_time": "2022-10-15T11:30:58.618Z"
   },
   {
    "duration": 10,
    "start_time": "2022-10-15T11:31:50.183Z"
   },
   {
    "duration": 36,
    "start_time": "2022-10-15T11:31:56.896Z"
   },
   {
    "duration": 10,
    "start_time": "2022-10-15T11:32:08.877Z"
   },
   {
    "duration": 9,
    "start_time": "2022-10-15T11:32:26.184Z"
   },
   {
    "duration": 5,
    "start_time": "2022-10-15T11:32:29.323Z"
   },
   {
    "duration": 5,
    "start_time": "2022-10-15T11:32:42.867Z"
   },
   {
    "duration": 5,
    "start_time": "2022-10-15T11:33:08.963Z"
   },
   {
    "duration": 7,
    "start_time": "2022-10-15T11:33:16.923Z"
   },
   {
    "duration": 12,
    "start_time": "2022-10-15T11:38:47.326Z"
   },
   {
    "duration": 14,
    "start_time": "2022-10-15T11:39:22.736Z"
   },
   {
    "duration": 5,
    "start_time": "2022-10-15T11:39:45.868Z"
   },
   {
    "duration": 4,
    "start_time": "2022-10-15T11:46:14.331Z"
   },
   {
    "duration": 26,
    "start_time": "2022-10-15T11:46:56.385Z"
   },
   {
    "duration": 16,
    "start_time": "2022-10-15T11:47:22.986Z"
   },
   {
    "duration": 15,
    "start_time": "2022-10-15T11:48:01.103Z"
   },
   {
    "duration": 16,
    "start_time": "2022-10-15T11:48:05.922Z"
   },
   {
    "duration": 6,
    "start_time": "2022-10-15T11:48:48.473Z"
   },
   {
    "duration": 12,
    "start_time": "2022-10-15T11:48:51.982Z"
   },
   {
    "duration": 18,
    "start_time": "2022-10-15T11:48:54.472Z"
   },
   {
    "duration": 5,
    "start_time": "2022-10-15T11:49:49.143Z"
   },
   {
    "duration": 43,
    "start_time": "2022-10-15T11:49:56.142Z"
   },
   {
    "duration": 5,
    "start_time": "2022-10-15T11:50:03.722Z"
   },
   {
    "duration": 3,
    "start_time": "2022-10-15T12:01:08.254Z"
   },
   {
    "duration": 110,
    "start_time": "2022-10-15T12:01:08.259Z"
   },
   {
    "duration": 17,
    "start_time": "2022-10-15T12:01:08.371Z"
   },
   {
    "duration": 9,
    "start_time": "2022-10-15T12:01:08.390Z"
   },
   {
    "duration": 13,
    "start_time": "2022-10-15T12:01:08.402Z"
   },
   {
    "duration": 18,
    "start_time": "2022-10-15T12:01:08.416Z"
   },
   {
    "duration": 10,
    "start_time": "2022-10-15T12:01:08.435Z"
   },
   {
    "duration": 12,
    "start_time": "2022-10-15T12:01:08.446Z"
   },
   {
    "duration": 22,
    "start_time": "2022-10-15T12:05:23.458Z"
   },
   {
    "duration": 18,
    "start_time": "2022-10-15T12:05:34.077Z"
   },
   {
    "duration": 6,
    "start_time": "2022-10-15T12:16:10.303Z"
   },
   {
    "duration": 6,
    "start_time": "2022-10-15T12:16:55.799Z"
   },
   {
    "duration": 8,
    "start_time": "2022-10-15T12:32:45.830Z"
   },
   {
    "duration": 50,
    "start_time": "2022-10-15T12:34:07.098Z"
   },
   {
    "duration": 41,
    "start_time": "2022-10-15T12:34:30.297Z"
   },
   {
    "duration": 8,
    "start_time": "2022-10-15T12:34:38.329Z"
   },
   {
    "duration": 8,
    "start_time": "2022-10-15T12:36:37.927Z"
   },
   {
    "duration": 40,
    "start_time": "2022-10-15T12:40:31.652Z"
   },
   {
    "duration": 8,
    "start_time": "2022-10-15T12:40:39.359Z"
   },
   {
    "duration": 8,
    "start_time": "2022-10-15T13:35:03.549Z"
   },
   {
    "duration": 10,
    "start_time": "2022-10-15T13:35:39.146Z"
   },
   {
    "duration": 2,
    "start_time": "2022-10-15T13:36:27.264Z"
   },
   {
    "duration": 4,
    "start_time": "2022-10-15T13:36:30.876Z"
   },
   {
    "duration": 4,
    "start_time": "2022-10-15T13:37:04.912Z"
   },
   {
    "duration": 5,
    "start_time": "2022-10-15T13:38:08.660Z"
   },
   {
    "duration": 3,
    "start_time": "2022-10-15T13:39:01.835Z"
   },
   {
    "duration": 152,
    "start_time": "2022-10-15T13:39:01.839Z"
   },
   {
    "duration": 19,
    "start_time": "2022-10-15T13:39:01.993Z"
   },
   {
    "duration": 9,
    "start_time": "2022-10-15T13:39:02.015Z"
   },
   {
    "duration": 22,
    "start_time": "2022-10-15T13:39:02.026Z"
   },
   {
    "duration": 12,
    "start_time": "2022-10-15T13:39:02.050Z"
   },
   {
    "duration": 20,
    "start_time": "2022-10-15T13:39:02.064Z"
   },
   {
    "duration": 37,
    "start_time": "2022-10-15T13:39:02.086Z"
   },
   {
    "duration": 34,
    "start_time": "2022-10-15T13:39:02.126Z"
   },
   {
    "duration": 46,
    "start_time": "2022-10-15T13:39:02.161Z"
   },
   {
    "duration": 10,
    "start_time": "2022-10-15T13:39:02.208Z"
   },
   {
    "duration": 22,
    "start_time": "2022-10-15T13:39:02.219Z"
   },
   {
    "duration": 12,
    "start_time": "2022-10-15T13:39:02.242Z"
   },
   {
    "duration": 33,
    "start_time": "2022-10-15T13:39:02.255Z"
   },
   {
    "duration": 13,
    "start_time": "2022-10-15T13:40:12.959Z"
   },
   {
    "duration": 4,
    "start_time": "2022-10-15T13:40:39.078Z"
   },
   {
    "duration": 12,
    "start_time": "2022-10-15T13:40:42.160Z"
   },
   {
    "duration": 2,
    "start_time": "2022-10-15T13:46:24.878Z"
   },
   {
    "duration": 111,
    "start_time": "2022-10-15T13:46:24.882Z"
   },
   {
    "duration": 18,
    "start_time": "2022-10-15T13:46:24.995Z"
   },
   {
    "duration": 8,
    "start_time": "2022-10-15T13:46:25.015Z"
   },
   {
    "duration": 13,
    "start_time": "2022-10-15T13:46:25.024Z"
   },
   {
    "duration": 26,
    "start_time": "2022-10-15T13:46:25.038Z"
   },
   {
    "duration": 12,
    "start_time": "2022-10-15T13:46:25.065Z"
   },
   {
    "duration": 11,
    "start_time": "2022-10-15T13:46:25.079Z"
   },
   {
    "duration": 36,
    "start_time": "2022-10-15T13:46:25.091Z"
   },
   {
    "duration": 4,
    "start_time": "2022-10-15T13:46:25.129Z"
   },
   {
    "duration": 9,
    "start_time": "2022-10-15T13:46:25.135Z"
   },
   {
    "duration": 9,
    "start_time": "2022-10-15T13:46:25.145Z"
   },
   {
    "duration": 7,
    "start_time": "2022-10-15T13:46:25.156Z"
   },
   {
    "duration": 15,
    "start_time": "2022-10-15T13:46:25.164Z"
   },
   {
    "duration": 3,
    "start_time": "2022-10-15T13:47:25.739Z"
   },
   {
    "duration": 105,
    "start_time": "2022-10-15T13:47:25.744Z"
   },
   {
    "duration": 17,
    "start_time": "2022-10-15T13:47:25.851Z"
   },
   {
    "duration": 7,
    "start_time": "2022-10-15T13:47:25.870Z"
   },
   {
    "duration": 11,
    "start_time": "2022-10-15T13:47:25.879Z"
   },
   {
    "duration": 12,
    "start_time": "2022-10-15T13:47:25.891Z"
   },
   {
    "duration": 14,
    "start_time": "2022-10-15T13:47:25.904Z"
   },
   {
    "duration": 12,
    "start_time": "2022-10-15T13:47:25.919Z"
   },
   {
    "duration": 5,
    "start_time": "2022-10-15T13:47:25.932Z"
   },
   {
    "duration": 12,
    "start_time": "2022-10-15T13:47:25.938Z"
   },
   {
    "duration": 10,
    "start_time": "2022-10-15T13:47:25.952Z"
   },
   {
    "duration": 8,
    "start_time": "2022-10-15T13:47:25.963Z"
   },
   {
    "duration": 7,
    "start_time": "2022-10-15T13:47:25.972Z"
   },
   {
    "duration": 21,
    "start_time": "2022-10-15T13:47:25.981Z"
   },
   {
    "duration": 5,
    "start_time": "2022-10-15T13:48:34.243Z"
   },
   {
    "duration": 8,
    "start_time": "2022-10-15T13:57:57.318Z"
   },
   {
    "duration": 6,
    "start_time": "2022-10-15T13:59:11.343Z"
   },
   {
    "duration": 22,
    "start_time": "2022-10-15T14:00:30.132Z"
   },
   {
    "duration": 17,
    "start_time": "2022-10-15T14:14:01.374Z"
   },
   {
    "duration": 4,
    "start_time": "2022-10-15T14:16:34.032Z"
   },
   {
    "duration": 2,
    "start_time": "2022-10-15T14:16:50.747Z"
   },
   {
    "duration": 112,
    "start_time": "2022-10-15T14:16:50.751Z"
   },
   {
    "duration": 18,
    "start_time": "2022-10-15T14:16:50.865Z"
   },
   {
    "duration": 9,
    "start_time": "2022-10-15T14:16:50.884Z"
   },
   {
    "duration": 14,
    "start_time": "2022-10-15T14:16:50.895Z"
   },
   {
    "duration": 17,
    "start_time": "2022-10-15T14:16:50.910Z"
   },
   {
    "duration": 16,
    "start_time": "2022-10-15T14:16:50.928Z"
   },
   {
    "duration": 12,
    "start_time": "2022-10-15T14:16:50.945Z"
   },
   {
    "duration": 5,
    "start_time": "2022-10-15T14:16:50.958Z"
   },
   {
    "duration": 5,
    "start_time": "2022-10-15T14:16:50.964Z"
   },
   {
    "duration": 7,
    "start_time": "2022-10-15T14:16:50.970Z"
   },
   {
    "duration": 14,
    "start_time": "2022-10-15T14:16:50.978Z"
   },
   {
    "duration": 9,
    "start_time": "2022-10-15T14:16:50.994Z"
   },
   {
    "duration": 14,
    "start_time": "2022-10-15T14:16:51.004Z"
   },
   {
    "duration": 8,
    "start_time": "2022-10-15T14:16:51.019Z"
   },
   {
    "duration": 26,
    "start_time": "2022-10-15T14:16:51.028Z"
   },
   {
    "duration": 14,
    "start_time": "2022-10-15T14:16:51.056Z"
   },
   {
    "duration": 8,
    "start_time": "2022-10-15T14:16:51.072Z"
   },
   {
    "duration": 5,
    "start_time": "2022-10-15T14:34:51.592Z"
   },
   {
    "duration": 6,
    "start_time": "2022-10-15T14:35:13.734Z"
   },
   {
    "duration": 7,
    "start_time": "2022-10-15T14:35:52.865Z"
   },
   {
    "duration": 6,
    "start_time": "2022-10-15T14:43:03.318Z"
   },
   {
    "duration": 6,
    "start_time": "2022-10-15T14:55:21.443Z"
   },
   {
    "duration": 13,
    "start_time": "2022-10-15T14:55:40.500Z"
   },
   {
    "duration": 27,
    "start_time": "2022-10-15T15:00:05.747Z"
   },
   {
    "duration": 27,
    "start_time": "2022-10-15T15:00:31.455Z"
   },
   {
    "duration": 7,
    "start_time": "2022-10-15T15:00:56.304Z"
   },
   {
    "duration": 6,
    "start_time": "2022-10-15T15:01:34.127Z"
   },
   {
    "duration": 60,
    "start_time": "2022-10-15T15:03:50.469Z"
   },
   {
    "duration": 41,
    "start_time": "2022-10-15T15:05:59.711Z"
   },
   {
    "duration": 25,
    "start_time": "2022-10-15T15:06:12.457Z"
   },
   {
    "duration": 12,
    "start_time": "2022-10-15T15:09:20.255Z"
   },
   {
    "duration": 21,
    "start_time": "2022-10-15T15:09:45.992Z"
   },
   {
    "duration": 5,
    "start_time": "2022-10-15T15:13:26.946Z"
   },
   {
    "duration": 5,
    "start_time": "2022-10-15T15:14:37.012Z"
   },
   {
    "duration": 9,
    "start_time": "2022-10-15T15:15:07.341Z"
   },
   {
    "duration": 64,
    "start_time": "2022-10-15T15:15:17.815Z"
   },
   {
    "duration": 13,
    "start_time": "2022-10-15T15:15:25.103Z"
   },
   {
    "duration": 11,
    "start_time": "2022-10-15T15:19:31.312Z"
   },
   {
    "duration": 4,
    "start_time": "2022-10-15T15:20:41.224Z"
   },
   {
    "duration": 28,
    "start_time": "2022-10-15T15:27:33.738Z"
   },
   {
    "duration": 11,
    "start_time": "2022-10-15T15:28:43.188Z"
   },
   {
    "duration": 12,
    "start_time": "2022-10-15T15:29:23.696Z"
   },
   {
    "duration": 2,
    "start_time": "2022-10-15T15:36:36.475Z"
   },
   {
    "duration": 4,
    "start_time": "2022-10-15T15:36:59.195Z"
   },
   {
    "duration": 13,
    "start_time": "2022-10-15T15:37:12.016Z"
   },
   {
    "duration": 13,
    "start_time": "2022-10-15T15:38:27.502Z"
   },
   {
    "duration": 2,
    "start_time": "2022-10-15T15:44:24.794Z"
   },
   {
    "duration": 6,
    "start_time": "2022-10-15T15:45:21.167Z"
   },
   {
    "duration": 12,
    "start_time": "2022-10-15T15:45:32.171Z"
   },
   {
    "duration": 3,
    "start_time": "2022-10-15T15:45:47.048Z"
   },
   {
    "duration": 11,
    "start_time": "2022-10-15T15:45:49.486Z"
   },
   {
    "duration": 10,
    "start_time": "2022-10-15T15:46:35.129Z"
   },
   {
    "duration": 26,
    "start_time": "2022-10-15T16:01:39.875Z"
   },
   {
    "duration": 9,
    "start_time": "2022-10-15T16:04:57.508Z"
   },
   {
    "duration": 10,
    "start_time": "2022-10-15T16:06:05.858Z"
   },
   {
    "duration": 35,
    "start_time": "2022-10-15T16:06:54.835Z"
   },
   {
    "duration": 15,
    "start_time": "2022-10-15T16:07:05.735Z"
   },
   {
    "duration": 26,
    "start_time": "2022-10-15T16:07:20.793Z"
   },
   {
    "duration": 17,
    "start_time": "2022-10-15T16:08:10.503Z"
   },
   {
    "duration": 77,
    "start_time": "2022-10-16T14:38:24.089Z"
   },
   {
    "duration": 1507,
    "start_time": "2022-10-16T14:38:29.466Z"
   },
   {
    "duration": 469,
    "start_time": "2022-10-16T14:38:30.976Z"
   },
   {
    "duration": 23,
    "start_time": "2022-10-16T14:38:31.447Z"
   },
   {
    "duration": 20,
    "start_time": "2022-10-16T14:38:31.472Z"
   },
   {
    "duration": 18,
    "start_time": "2022-10-16T14:38:31.494Z"
   },
   {
    "duration": 25,
    "start_time": "2022-10-16T14:38:31.514Z"
   },
   {
    "duration": 25,
    "start_time": "2022-10-16T14:38:31.541Z"
   },
   {
    "duration": 33,
    "start_time": "2022-10-16T14:38:31.568Z"
   },
   {
    "duration": 6,
    "start_time": "2022-10-16T14:38:31.604Z"
   },
   {
    "duration": 15,
    "start_time": "2022-10-16T14:38:31.612Z"
   },
   {
    "duration": 19,
    "start_time": "2022-10-16T14:38:31.630Z"
   },
   {
    "duration": 21,
    "start_time": "2022-10-16T14:38:31.651Z"
   },
   {
    "duration": 6,
    "start_time": "2022-10-16T14:38:31.674Z"
   },
   {
    "duration": 18,
    "start_time": "2022-10-16T14:38:31.683Z"
   },
   {
    "duration": 12,
    "start_time": "2022-10-16T14:38:31.704Z"
   },
   {
    "duration": 31,
    "start_time": "2022-10-16T14:38:31.717Z"
   },
   {
    "duration": 46,
    "start_time": "2022-10-16T14:38:31.750Z"
   },
   {
    "duration": 13,
    "start_time": "2022-10-16T14:38:31.798Z"
   },
   {
    "duration": 27,
    "start_time": "2022-10-16T14:38:31.813Z"
   },
   {
    "duration": 22,
    "start_time": "2022-10-16T14:38:31.842Z"
   },
   {
    "duration": 13,
    "start_time": "2022-10-16T14:38:31.866Z"
   },
   {
    "duration": 20,
    "start_time": "2022-10-16T14:38:31.881Z"
   },
   {
    "duration": 18,
    "start_time": "2022-10-16T14:38:31.904Z"
   },
   {
    "duration": 28,
    "start_time": "2022-10-16T14:38:31.925Z"
   },
   {
    "duration": 31,
    "start_time": "2022-10-16T14:38:31.956Z"
   },
   {
    "duration": 10,
    "start_time": "2022-10-16T14:38:31.989Z"
   },
   {
    "duration": 30,
    "start_time": "2022-10-16T14:38:32.001Z"
   },
   {
    "duration": 33,
    "start_time": "2022-10-16T14:38:32.034Z"
   },
   {
    "duration": 38,
    "start_time": "2022-10-16T14:38:32.070Z"
   },
   {
    "duration": 44,
    "start_time": "2022-10-16T14:38:32.110Z"
   },
   {
    "duration": 20,
    "start_time": "2022-10-16T14:38:32.156Z"
   },
   {
    "duration": 10,
    "start_time": "2022-10-16T14:39:31.737Z"
   },
   {
    "duration": 47,
    "start_time": "2022-10-16T14:42:08.770Z"
   },
   {
    "duration": 91,
    "start_time": "2022-10-16T14:43:59.197Z"
   },
   {
    "duration": 33,
    "start_time": "2022-10-16T14:50:33.615Z"
   },
   {
    "duration": 66,
    "start_time": "2022-10-16T14:53:18.086Z"
   },
   {
    "duration": 39,
    "start_time": "2022-10-16T14:53:57.838Z"
   },
   {
    "duration": 4,
    "start_time": "2022-10-16T14:57:25.942Z"
   },
   {
    "duration": 215,
    "start_time": "2022-10-16T14:57:25.948Z"
   },
   {
    "duration": 27,
    "start_time": "2022-10-16T14:57:26.166Z"
   },
   {
    "duration": 14,
    "start_time": "2022-10-16T14:57:26.197Z"
   },
   {
    "duration": 13,
    "start_time": "2022-10-16T14:57:26.214Z"
   },
   {
    "duration": 9,
    "start_time": "2022-10-16T14:57:26.230Z"
   },
   {
    "duration": 19,
    "start_time": "2022-10-16T14:57:26.241Z"
   },
   {
    "duration": 41,
    "start_time": "2022-10-16T14:57:26.262Z"
   },
   {
    "duration": 6,
    "start_time": "2022-10-16T14:57:26.305Z"
   },
   {
    "duration": 10,
    "start_time": "2022-10-16T14:57:26.313Z"
   },
   {
    "duration": 9,
    "start_time": "2022-10-16T14:57:26.326Z"
   },
   {
    "duration": 9,
    "start_time": "2022-10-16T14:57:26.337Z"
   },
   {
    "duration": 6,
    "start_time": "2022-10-16T14:57:26.350Z"
   },
   {
    "duration": 51,
    "start_time": "2022-10-16T14:57:26.358Z"
   },
   {
    "duration": 15,
    "start_time": "2022-10-16T14:57:26.411Z"
   },
   {
    "duration": 63,
    "start_time": "2022-10-16T14:57:26.428Z"
   },
   {
    "duration": 27,
    "start_time": "2022-10-16T14:57:26.493Z"
   },
   {
    "duration": 6,
    "start_time": "2022-10-16T14:57:26.522Z"
   },
   {
    "duration": 9,
    "start_time": "2022-10-16T14:57:26.530Z"
   },
   {
    "duration": 13,
    "start_time": "2022-10-16T14:57:26.541Z"
   },
   {
    "duration": 33,
    "start_time": "2022-10-16T14:57:26.558Z"
   },
   {
    "duration": 11,
    "start_time": "2022-10-16T14:57:26.593Z"
   },
   {
    "duration": 13,
    "start_time": "2022-10-16T14:57:26.606Z"
   },
   {
    "duration": 19,
    "start_time": "2022-10-16T14:57:26.622Z"
   },
   {
    "duration": 14,
    "start_time": "2022-10-16T14:57:26.643Z"
   },
   {
    "duration": 28,
    "start_time": "2022-10-16T14:57:26.703Z"
   },
   {
    "duration": 28,
    "start_time": "2022-10-16T14:57:26.733Z"
   },
   {
    "duration": 29,
    "start_time": "2022-10-16T14:57:26.764Z"
   },
   {
    "duration": 68,
    "start_time": "2022-10-16T14:57:26.795Z"
   },
   {
    "duration": 50,
    "start_time": "2022-10-16T14:57:26.865Z"
   },
   {
    "duration": 23,
    "start_time": "2022-10-16T14:57:26.918Z"
   },
   {
    "duration": 32,
    "start_time": "2022-10-16T15:05:50.333Z"
   },
   {
    "duration": 23,
    "start_time": "2022-10-16T15:09:15.497Z"
   },
   {
    "duration": 32,
    "start_time": "2022-10-16T15:09:56.051Z"
   },
   {
    "duration": 24,
    "start_time": "2022-10-16T15:12:09.390Z"
   },
   {
    "duration": 29,
    "start_time": "2022-10-16T15:12:59.730Z"
   },
   {
    "duration": 3,
    "start_time": "2022-10-16T15:15:56.394Z"
   },
   {
    "duration": 3,
    "start_time": "2022-10-16T15:16:02.280Z"
   },
   {
    "duration": 37,
    "start_time": "2022-10-16T15:16:02.286Z"
   },
   {
    "duration": 190,
    "start_time": "2022-10-16T15:16:02.326Z"
   },
   {
    "duration": 33,
    "start_time": "2022-10-16T15:16:02.519Z"
   },
   {
    "duration": 15,
    "start_time": "2022-10-16T15:16:02.555Z"
   },
   {
    "duration": 37,
    "start_time": "2022-10-16T15:16:02.573Z"
   },
   {
    "duration": 37,
    "start_time": "2022-10-16T15:16:02.612Z"
   },
   {
    "duration": 27,
    "start_time": "2022-10-16T15:16:02.651Z"
   },
   {
    "duration": 19,
    "start_time": "2022-10-16T15:16:02.680Z"
   },
   {
    "duration": 20,
    "start_time": "2022-10-16T15:16:02.701Z"
   },
   {
    "duration": 12,
    "start_time": "2022-10-16T15:16:02.724Z"
   },
   {
    "duration": 24,
    "start_time": "2022-10-16T15:16:02.738Z"
   },
   {
    "duration": 22,
    "start_time": "2022-10-16T15:16:02.766Z"
   },
   {
    "duration": 24,
    "start_time": "2022-10-16T15:16:02.790Z"
   },
   {
    "duration": 30,
    "start_time": "2022-10-16T15:16:02.816Z"
   },
   {
    "duration": 11,
    "start_time": "2022-10-16T15:16:02.848Z"
   },
   {
    "duration": 29,
    "start_time": "2022-10-16T15:16:02.861Z"
   },
   {
    "duration": 23,
    "start_time": "2022-10-16T15:16:02.893Z"
   },
   {
    "duration": 14,
    "start_time": "2022-10-16T15:16:02.918Z"
   },
   {
    "duration": 20,
    "start_time": "2022-10-16T15:16:02.934Z"
   },
   {
    "duration": 13,
    "start_time": "2022-10-16T15:16:02.955Z"
   },
   {
    "duration": 23,
    "start_time": "2022-10-16T15:16:02.970Z"
   },
   {
    "duration": 24,
    "start_time": "2022-10-16T15:16:02.995Z"
   },
   {
    "duration": 24,
    "start_time": "2022-10-16T15:16:03.021Z"
   },
   {
    "duration": 26,
    "start_time": "2022-10-16T15:16:03.046Z"
   },
   {
    "duration": 23,
    "start_time": "2022-10-16T15:16:03.074Z"
   },
   {
    "duration": 27,
    "start_time": "2022-10-16T15:16:03.098Z"
   },
   {
    "duration": 26,
    "start_time": "2022-10-16T15:16:03.127Z"
   },
   {
    "duration": 18,
    "start_time": "2022-10-16T15:16:03.155Z"
   },
   {
    "duration": 66,
    "start_time": "2022-10-16T15:16:03.174Z"
   },
   {
    "duration": 30,
    "start_time": "2022-10-16T15:16:03.243Z"
   },
   {
    "duration": 33,
    "start_time": "2022-10-16T15:16:03.275Z"
   },
   {
    "duration": 38,
    "start_time": "2022-10-16T15:16:03.309Z"
   },
   {
    "duration": 22,
    "start_time": "2022-10-16T15:29:14.502Z"
   },
   {
    "duration": 31,
    "start_time": "2022-10-16T15:30:10.501Z"
   },
   {
    "duration": 17,
    "start_time": "2022-10-16T15:31:37.718Z"
   },
   {
    "duration": 43,
    "start_time": "2022-10-16T15:31:50.350Z"
   },
   {
    "duration": 8,
    "start_time": "2022-10-16T15:34:59.888Z"
   },
   {
    "duration": 7,
    "start_time": "2022-10-16T15:37:07.481Z"
   },
   {
    "duration": 28,
    "start_time": "2022-10-16T15:40:24.933Z"
   },
   {
    "duration": 39,
    "start_time": "2022-10-16T15:40:49.398Z"
   },
   {
    "duration": 7,
    "start_time": "2022-10-16T15:43:09.669Z"
   },
   {
    "duration": 7,
    "start_time": "2022-10-16T15:46:39.676Z"
   },
   {
    "duration": 15,
    "start_time": "2022-10-16T15:47:13.466Z"
   },
   {
    "duration": 6,
    "start_time": "2022-10-16T15:47:22.388Z"
   },
   {
    "duration": 9,
    "start_time": "2022-10-16T15:47:53.328Z"
   },
   {
    "duration": 12,
    "start_time": "2022-10-16T15:47:59.172Z"
   },
   {
    "duration": 8,
    "start_time": "2022-10-16T15:48:06.731Z"
   },
   {
    "duration": 16,
    "start_time": "2022-10-16T15:49:11.617Z"
   },
   {
    "duration": 13,
    "start_time": "2022-10-16T15:50:53.769Z"
   },
   {
    "duration": 14,
    "start_time": "2022-10-16T15:51:36.307Z"
   },
   {
    "duration": 12,
    "start_time": "2022-10-16T15:51:52.228Z"
   },
   {
    "duration": 8,
    "start_time": "2022-10-16T15:52:19.316Z"
   },
   {
    "duration": 10,
    "start_time": "2022-10-16T15:52:29.546Z"
   },
   {
    "duration": 4,
    "start_time": "2022-10-16T15:52:34.204Z"
   },
   {
    "duration": 8,
    "start_time": "2022-10-16T15:52:34.210Z"
   },
   {
    "duration": 208,
    "start_time": "2022-10-16T15:52:34.220Z"
   },
   {
    "duration": 23,
    "start_time": "2022-10-16T15:52:34.430Z"
   },
   {
    "duration": 13,
    "start_time": "2022-10-16T15:52:34.455Z"
   },
   {
    "duration": 7,
    "start_time": "2022-10-16T15:52:34.471Z"
   },
   {
    "duration": 11,
    "start_time": "2022-10-16T15:52:34.480Z"
   },
   {
    "duration": 21,
    "start_time": "2022-10-16T15:52:34.495Z"
   },
   {
    "duration": 20,
    "start_time": "2022-10-16T15:52:34.519Z"
   },
   {
    "duration": 6,
    "start_time": "2022-10-16T15:52:34.541Z"
   },
   {
    "duration": 9,
    "start_time": "2022-10-16T15:52:34.549Z"
   },
   {
    "duration": 12,
    "start_time": "2022-10-16T15:52:34.560Z"
   },
   {
    "duration": 16,
    "start_time": "2022-10-16T15:52:34.574Z"
   },
   {
    "duration": 10,
    "start_time": "2022-10-16T15:52:34.592Z"
   },
   {
    "duration": 26,
    "start_time": "2022-10-16T15:52:34.604Z"
   },
   {
    "duration": 14,
    "start_time": "2022-10-16T15:52:34.633Z"
   },
   {
    "duration": 39,
    "start_time": "2022-10-16T15:52:34.650Z"
   },
   {
    "duration": 23,
    "start_time": "2022-10-16T15:52:34.691Z"
   },
   {
    "duration": 12,
    "start_time": "2022-10-16T15:52:34.715Z"
   },
   {
    "duration": 13,
    "start_time": "2022-10-16T15:52:34.729Z"
   },
   {
    "duration": 16,
    "start_time": "2022-10-16T15:52:34.744Z"
   },
   {
    "duration": 6,
    "start_time": "2022-10-16T15:52:34.762Z"
   },
   {
    "duration": 24,
    "start_time": "2022-10-16T15:52:34.770Z"
   },
   {
    "duration": 13,
    "start_time": "2022-10-16T15:52:34.798Z"
   },
   {
    "duration": 21,
    "start_time": "2022-10-16T15:52:34.813Z"
   },
   {
    "duration": 12,
    "start_time": "2022-10-16T15:52:34.836Z"
   },
   {
    "duration": 7,
    "start_time": "2022-10-16T15:52:34.850Z"
   },
   {
    "duration": 29,
    "start_time": "2022-10-16T15:52:34.860Z"
   },
   {
    "duration": 14,
    "start_time": "2022-10-16T15:52:34.893Z"
   },
   {
    "duration": 80,
    "start_time": "2022-10-16T15:52:34.909Z"
   },
   {
    "duration": 8,
    "start_time": "2022-10-16T15:52:34.991Z"
   },
   {
    "duration": 21,
    "start_time": "2022-10-16T15:52:35.000Z"
   },
   {
    "duration": 36,
    "start_time": "2022-10-16T15:52:35.024Z"
   },
   {
    "duration": 38,
    "start_time": "2022-10-16T15:52:35.063Z"
   },
   {
    "duration": 37,
    "start_time": "2022-10-16T15:52:35.103Z"
   },
   {
    "duration": 17,
    "start_time": "2022-10-16T15:52:35.142Z"
   },
   {
    "duration": 12,
    "start_time": "2022-10-16T15:53:03.189Z"
   },
   {
    "duration": 9,
    "start_time": "2022-10-16T15:53:17.449Z"
   },
   {
    "duration": 11,
    "start_time": "2022-10-16T15:54:37.486Z"
   },
   {
    "duration": 27,
    "start_time": "2022-10-16T15:54:44.346Z"
   },
   {
    "duration": 29,
    "start_time": "2022-10-16T16:02:09.194Z"
   },
   {
    "duration": 52,
    "start_time": "2022-10-16T16:03:26.731Z"
   },
   {
    "duration": 41,
    "start_time": "2022-10-16T16:04:06.278Z"
   },
   {
    "duration": 68,
    "start_time": "2022-10-16T16:05:36.661Z"
   },
   {
    "duration": 22,
    "start_time": "2022-10-16T16:07:56.474Z"
   },
   {
    "duration": 57,
    "start_time": "2022-10-16T16:08:34.464Z"
   },
   {
    "duration": 63,
    "start_time": "2022-10-16T16:08:40.094Z"
   },
   {
    "duration": 14,
    "start_time": "2022-10-16T16:09:07.440Z"
   },
   {
    "duration": 27,
    "start_time": "2022-10-16T16:12:06.792Z"
   },
   {
    "duration": 17,
    "start_time": "2022-10-16T16:12:42.095Z"
   },
   {
    "duration": 25,
    "start_time": "2022-10-16T16:12:53.040Z"
   },
   {
    "duration": 23,
    "start_time": "2022-10-16T16:13:28.604Z"
   },
   {
    "duration": 5,
    "start_time": "2022-10-16T16:13:55.329Z"
   },
   {
    "duration": 17,
    "start_time": "2022-10-16T16:13:55.337Z"
   },
   {
    "duration": 252,
    "start_time": "2022-10-16T16:13:55.357Z"
   },
   {
    "duration": 32,
    "start_time": "2022-10-16T16:13:55.612Z"
   },
   {
    "duration": 14,
    "start_time": "2022-10-16T16:13:55.646Z"
   },
   {
    "duration": 13,
    "start_time": "2022-10-16T16:13:55.662Z"
   },
   {
    "duration": 25,
    "start_time": "2022-10-16T16:13:55.677Z"
   },
   {
    "duration": 18,
    "start_time": "2022-10-16T16:13:55.705Z"
   },
   {
    "duration": 18,
    "start_time": "2022-10-16T16:13:55.726Z"
   },
   {
    "duration": 6,
    "start_time": "2022-10-16T16:13:55.747Z"
   },
   {
    "duration": 12,
    "start_time": "2022-10-16T16:13:55.755Z"
   },
   {
    "duration": 40,
    "start_time": "2022-10-16T16:13:55.769Z"
   },
   {
    "duration": 46,
    "start_time": "2022-10-16T16:13:55.811Z"
   },
   {
    "duration": 26,
    "start_time": "2022-10-16T16:13:55.859Z"
   },
   {
    "duration": 31,
    "start_time": "2022-10-16T16:13:55.887Z"
   },
   {
    "duration": 16,
    "start_time": "2022-10-16T16:13:55.921Z"
   },
   {
    "duration": 40,
    "start_time": "2022-10-16T16:13:55.939Z"
   },
   {
    "duration": 29,
    "start_time": "2022-10-16T16:13:55.981Z"
   },
   {
    "duration": 18,
    "start_time": "2022-10-16T16:13:56.012Z"
   },
   {
    "duration": 14,
    "start_time": "2022-10-16T16:13:56.032Z"
   },
   {
    "duration": 18,
    "start_time": "2022-10-16T16:13:56.048Z"
   },
   {
    "duration": 23,
    "start_time": "2022-10-16T16:13:56.068Z"
   },
   {
    "duration": 38,
    "start_time": "2022-10-16T16:13:56.093Z"
   },
   {
    "duration": 9,
    "start_time": "2022-10-16T16:13:56.135Z"
   },
   {
    "duration": 20,
    "start_time": "2022-10-16T16:13:56.146Z"
   },
   {
    "duration": 26,
    "start_time": "2022-10-16T16:13:56.168Z"
   },
   {
    "duration": 32,
    "start_time": "2022-10-16T16:13:56.196Z"
   },
   {
    "duration": 15,
    "start_time": "2022-10-16T16:13:56.230Z"
   },
   {
    "duration": 19,
    "start_time": "2022-10-16T16:13:56.247Z"
   },
   {
    "duration": 48,
    "start_time": "2022-10-16T16:13:56.268Z"
   },
   {
    "duration": 8,
    "start_time": "2022-10-16T16:13:56.318Z"
   },
   {
    "duration": 28,
    "start_time": "2022-10-16T16:13:56.328Z"
   },
   {
    "duration": 60,
    "start_time": "2022-10-16T16:13:56.358Z"
   },
   {
    "duration": 37,
    "start_time": "2022-10-16T16:13:56.421Z"
   },
   {
    "duration": 42,
    "start_time": "2022-10-16T16:13:56.460Z"
   },
   {
    "duration": 35,
    "start_time": "2022-10-16T16:13:56.503Z"
   },
   {
    "duration": 19,
    "start_time": "2022-10-16T16:13:56.539Z"
   },
   {
    "duration": 21,
    "start_time": "2022-10-16T16:15:18.610Z"
   },
   {
    "duration": 116,
    "start_time": "2022-10-16T16:18:47.898Z"
   },
   {
    "duration": 31,
    "start_time": "2022-10-16T16:19:20.472Z"
   },
   {
    "duration": 31,
    "start_time": "2022-10-16T16:19:48.041Z"
   },
   {
    "duration": 1407,
    "start_time": "2022-10-17T09:06:31.678Z"
   },
   {
    "duration": 4,
    "start_time": "2022-10-17T09:06:33.087Z"
   },
   {
    "duration": 224,
    "start_time": "2022-10-17T09:06:33.092Z"
   },
   {
    "duration": 23,
    "start_time": "2022-10-17T09:06:33.318Z"
   },
   {
    "duration": 13,
    "start_time": "2022-10-17T09:06:33.343Z"
   },
   {
    "duration": 8,
    "start_time": "2022-10-17T09:06:33.357Z"
   },
   {
    "duration": 15,
    "start_time": "2022-10-17T09:06:33.366Z"
   },
   {
    "duration": 15,
    "start_time": "2022-10-17T09:06:33.383Z"
   },
   {
    "duration": 17,
    "start_time": "2022-10-17T09:06:33.399Z"
   },
   {
    "duration": 6,
    "start_time": "2022-10-17T09:06:33.418Z"
   },
   {
    "duration": 28,
    "start_time": "2022-10-17T09:06:33.426Z"
   },
   {
    "duration": 11,
    "start_time": "2022-10-17T09:06:33.457Z"
   },
   {
    "duration": 13,
    "start_time": "2022-10-17T09:06:33.470Z"
   },
   {
    "duration": 6,
    "start_time": "2022-10-17T09:06:33.487Z"
   },
   {
    "duration": 28,
    "start_time": "2022-10-17T09:06:33.496Z"
   },
   {
    "duration": 30,
    "start_time": "2022-10-17T09:06:33.526Z"
   },
   {
    "duration": 40,
    "start_time": "2022-10-17T09:06:33.558Z"
   },
   {
    "duration": 17,
    "start_time": "2022-10-17T09:06:33.600Z"
   },
   {
    "duration": 9,
    "start_time": "2022-10-17T09:06:33.620Z"
   },
   {
    "duration": 6,
    "start_time": "2022-10-17T09:06:33.654Z"
   },
   {
    "duration": 18,
    "start_time": "2022-10-17T09:06:33.663Z"
   },
   {
    "duration": 11,
    "start_time": "2022-10-17T09:06:33.683Z"
   },
   {
    "duration": 22,
    "start_time": "2022-10-17T09:06:33.695Z"
   },
   {
    "duration": 26,
    "start_time": "2022-10-17T09:06:33.720Z"
   },
   {
    "duration": 15,
    "start_time": "2022-10-17T09:06:33.748Z"
   },
   {
    "duration": 17,
    "start_time": "2022-10-17T09:06:33.765Z"
   },
   {
    "duration": 14,
    "start_time": "2022-10-17T09:06:33.784Z"
   },
   {
    "duration": 8,
    "start_time": "2022-10-17T09:06:33.800Z"
   },
   {
    "duration": 13,
    "start_time": "2022-10-17T09:06:33.810Z"
   },
   {
    "duration": 61,
    "start_time": "2022-10-17T09:06:33.825Z"
   },
   {
    "duration": 8,
    "start_time": "2022-10-17T09:06:33.887Z"
   },
   {
    "duration": 23,
    "start_time": "2022-10-17T09:06:33.897Z"
   },
   {
    "duration": 43,
    "start_time": "2022-10-17T09:06:33.921Z"
   },
   {
    "duration": 30,
    "start_time": "2022-10-17T09:06:33.966Z"
   },
   {
    "duration": 18,
    "start_time": "2022-10-17T09:06:33.997Z"
   },
   {
    "duration": 62,
    "start_time": "2022-10-17T09:06:34.016Z"
   },
   {
    "duration": 16,
    "start_time": "2022-10-17T09:06:34.080Z"
   },
   {
    "duration": 106,
    "start_time": "2022-10-17T09:17:22.381Z"
   },
   {
    "duration": 10,
    "start_time": "2022-10-17T09:17:43.615Z"
   },
   {
    "duration": 22,
    "start_time": "2022-10-17T09:20:17.990Z"
   },
   {
    "duration": 3,
    "start_time": "2022-10-17T09:20:32.972Z"
   },
   {
    "duration": 17,
    "start_time": "2022-10-17T09:20:32.977Z"
   },
   {
    "duration": 124,
    "start_time": "2022-10-17T09:20:32.996Z"
   },
   {
    "duration": 21,
    "start_time": "2022-10-17T09:20:33.122Z"
   },
   {
    "duration": 10,
    "start_time": "2022-10-17T09:20:33.145Z"
   },
   {
    "duration": 14,
    "start_time": "2022-10-17T09:20:33.157Z"
   },
   {
    "duration": 9,
    "start_time": "2022-10-17T09:20:33.172Z"
   },
   {
    "duration": 16,
    "start_time": "2022-10-17T09:20:33.182Z"
   },
   {
    "duration": 17,
    "start_time": "2022-10-17T09:20:33.200Z"
   },
   {
    "duration": 5,
    "start_time": "2022-10-17T09:20:33.219Z"
   },
   {
    "duration": 3,
    "start_time": "2022-10-17T09:20:33.227Z"
   },
   {
    "duration": 6,
    "start_time": "2022-10-17T09:20:33.255Z"
   },
   {
    "duration": 7,
    "start_time": "2022-10-17T09:20:33.263Z"
   },
   {
    "duration": 6,
    "start_time": "2022-10-17T09:20:33.273Z"
   },
   {
    "duration": 16,
    "start_time": "2022-10-17T09:20:33.280Z"
   },
   {
    "duration": 12,
    "start_time": "2022-10-17T09:20:33.298Z"
   },
   {
    "duration": 64,
    "start_time": "2022-10-17T09:20:33.312Z"
   },
   {
    "duration": 17,
    "start_time": "2022-10-17T09:20:33.378Z"
   },
   {
    "duration": 12,
    "start_time": "2022-10-17T09:20:33.397Z"
   },
   {
    "duration": 7,
    "start_time": "2022-10-17T09:20:33.411Z"
   },
   {
    "duration": 11,
    "start_time": "2022-10-17T09:20:33.420Z"
   },
   {
    "duration": 23,
    "start_time": "2022-10-17T09:20:33.433Z"
   },
   {
    "duration": 11,
    "start_time": "2022-10-17T09:20:33.458Z"
   },
   {
    "duration": 16,
    "start_time": "2022-10-17T09:20:33.470Z"
   },
   {
    "duration": 16,
    "start_time": "2022-10-17T09:20:33.487Z"
   },
   {
    "duration": 22,
    "start_time": "2022-10-17T09:20:33.505Z"
   },
   {
    "duration": 6,
    "start_time": "2022-10-17T09:20:33.529Z"
   },
   {
    "duration": 19,
    "start_time": "2022-10-17T09:20:33.537Z"
   },
   {
    "duration": 15,
    "start_time": "2022-10-17T09:20:33.558Z"
   },
   {
    "duration": 42,
    "start_time": "2022-10-17T09:20:33.575Z"
   },
   {
    "duration": 7,
    "start_time": "2022-10-17T09:20:33.619Z"
   },
   {
    "duration": 52,
    "start_time": "2022-10-17T09:20:33.628Z"
   },
   {
    "duration": 22,
    "start_time": "2022-10-17T09:20:33.682Z"
   },
   {
    "duration": 28,
    "start_time": "2022-10-17T09:20:33.706Z"
   },
   {
    "duration": 27,
    "start_time": "2022-10-17T09:20:33.753Z"
   },
   {
    "duration": 48,
    "start_time": "2022-10-17T09:20:33.782Z"
   },
   {
    "duration": 39,
    "start_time": "2022-10-17T09:20:33.831Z"
   },
   {
    "duration": 22,
    "start_time": "2022-10-17T09:22:49.519Z"
   },
   {
    "duration": 22,
    "start_time": "2022-10-17T09:22:57.136Z"
   },
   {
    "duration": 217,
    "start_time": "2022-10-17T09:25:18.784Z"
   },
   {
    "duration": 21,
    "start_time": "2022-10-17T09:25:30.302Z"
   },
   {
    "duration": 22,
    "start_time": "2022-10-17T09:25:39.507Z"
   },
   {
    "duration": 23,
    "start_time": "2022-10-17T09:26:35.298Z"
   },
   {
    "duration": 27,
    "start_time": "2022-10-17T09:40:34.486Z"
   },
   {
    "duration": 28,
    "start_time": "2022-10-17T09:43:40.698Z"
   },
   {
    "duration": 28,
    "start_time": "2022-10-17T09:44:55.103Z"
   },
   {
    "duration": 33,
    "start_time": "2022-10-17T09:45:52.478Z"
   },
   {
    "duration": 34,
    "start_time": "2022-10-17T09:48:26.346Z"
   },
   {
    "duration": 12,
    "start_time": "2022-10-17T09:52:17.318Z"
   },
   {
    "duration": 12,
    "start_time": "2022-10-17T09:53:16.866Z"
   },
   {
    "duration": 11,
    "start_time": "2022-10-17T10:25:32.444Z"
   },
   {
    "duration": 3,
    "start_time": "2022-10-17T12:35:49.460Z"
   },
   {
    "duration": 18,
    "start_time": "2022-10-17T12:35:49.465Z"
   },
   {
    "duration": 117,
    "start_time": "2022-10-17T12:35:49.485Z"
   },
   {
    "duration": 22,
    "start_time": "2022-10-17T12:35:49.604Z"
   },
   {
    "duration": 9,
    "start_time": "2022-10-17T12:35:49.628Z"
   },
   {
    "duration": 15,
    "start_time": "2022-10-17T12:35:49.638Z"
   },
   {
    "duration": 13,
    "start_time": "2022-10-17T12:35:49.654Z"
   },
   {
    "duration": 20,
    "start_time": "2022-10-17T12:35:49.668Z"
   },
   {
    "duration": 15,
    "start_time": "2022-10-17T12:35:49.690Z"
   },
   {
    "duration": 5,
    "start_time": "2022-10-17T12:35:49.706Z"
   },
   {
    "duration": 10,
    "start_time": "2022-10-17T12:35:49.712Z"
   },
   {
    "duration": 11,
    "start_time": "2022-10-17T12:35:49.724Z"
   },
   {
    "duration": 17,
    "start_time": "2022-10-17T12:35:49.737Z"
   },
   {
    "duration": 4,
    "start_time": "2022-10-17T12:35:49.758Z"
   },
   {
    "duration": 19,
    "start_time": "2022-10-17T12:35:49.764Z"
   },
   {
    "duration": 10,
    "start_time": "2022-10-17T12:35:49.785Z"
   },
   {
    "duration": 24,
    "start_time": "2022-10-17T12:35:49.797Z"
   },
   {
    "duration": 43,
    "start_time": "2022-10-17T12:35:49.822Z"
   },
   {
    "duration": 6,
    "start_time": "2022-10-17T12:35:49.867Z"
   },
   {
    "duration": 7,
    "start_time": "2022-10-17T12:35:49.875Z"
   },
   {
    "duration": 6,
    "start_time": "2022-10-17T12:35:49.884Z"
   },
   {
    "duration": 13,
    "start_time": "2022-10-17T12:35:49.891Z"
   },
   {
    "duration": 24,
    "start_time": "2022-10-17T12:35:49.905Z"
   },
   {
    "duration": 13,
    "start_time": "2022-10-17T12:35:49.931Z"
   },
   {
    "duration": 24,
    "start_time": "2022-10-17T12:35:49.946Z"
   },
   {
    "duration": 18,
    "start_time": "2022-10-17T12:35:49.972Z"
   },
   {
    "duration": 6,
    "start_time": "2022-10-17T12:35:49.991Z"
   },
   {
    "duration": 16,
    "start_time": "2022-10-17T12:35:49.999Z"
   },
   {
    "duration": 30,
    "start_time": "2022-10-17T12:35:50.017Z"
   },
   {
    "duration": 59,
    "start_time": "2022-10-17T12:35:50.049Z"
   },
   {
    "duration": 7,
    "start_time": "2022-10-17T12:35:50.109Z"
   },
   {
    "duration": 20,
    "start_time": "2022-10-17T12:35:50.117Z"
   },
   {
    "duration": 0,
    "start_time": "2022-10-17T12:35:50.138Z"
   },
   {
    "duration": 0,
    "start_time": "2022-10-17T12:35:50.139Z"
   },
   {
    "duration": 1,
    "start_time": "2022-10-17T12:35:50.140Z"
   },
   {
    "duration": 0,
    "start_time": "2022-10-17T12:35:50.142Z"
   },
   {
    "duration": 0,
    "start_time": "2022-10-17T12:35:50.143Z"
   },
   {
    "duration": 13,
    "start_time": "2022-10-17T12:36:31.726Z"
   },
   {
    "duration": 11,
    "start_time": "2022-10-17T12:36:45.042Z"
   },
   {
    "duration": 23,
    "start_time": "2022-10-17T12:37:38.002Z"
   },
   {
    "duration": 26,
    "start_time": "2022-10-17T12:38:02.647Z"
   },
   {
    "duration": 4,
    "start_time": "2022-10-17T12:38:29.917Z"
   },
   {
    "duration": 7,
    "start_time": "2022-10-17T12:38:29.923Z"
   },
   {
    "duration": 119,
    "start_time": "2022-10-17T12:38:29.932Z"
   },
   {
    "duration": 21,
    "start_time": "2022-10-17T12:38:30.053Z"
   },
   {
    "duration": 19,
    "start_time": "2022-10-17T12:38:30.076Z"
   },
   {
    "duration": 32,
    "start_time": "2022-10-17T12:38:30.097Z"
   },
   {
    "duration": 19,
    "start_time": "2022-10-17T12:38:30.130Z"
   },
   {
    "duration": 19,
    "start_time": "2022-10-17T12:38:30.151Z"
   },
   {
    "duration": 33,
    "start_time": "2022-10-17T12:38:30.172Z"
   },
   {
    "duration": 13,
    "start_time": "2022-10-17T12:38:30.206Z"
   },
   {
    "duration": 23,
    "start_time": "2022-10-17T12:38:30.221Z"
   },
   {
    "duration": 18,
    "start_time": "2022-10-17T12:38:30.246Z"
   },
   {
    "duration": 21,
    "start_time": "2022-10-17T12:38:30.266Z"
   },
   {
    "duration": 32,
    "start_time": "2022-10-17T12:38:30.291Z"
   },
   {
    "duration": 53,
    "start_time": "2022-10-17T12:38:30.325Z"
   },
   {
    "duration": 37,
    "start_time": "2022-10-17T12:38:30.380Z"
   },
   {
    "duration": 51,
    "start_time": "2022-10-17T12:38:30.419Z"
   },
   {
    "duration": 34,
    "start_time": "2022-10-17T12:38:30.472Z"
   },
   {
    "duration": 42,
    "start_time": "2022-10-17T12:38:30.509Z"
   },
   {
    "duration": 48,
    "start_time": "2022-10-17T12:38:30.554Z"
   },
   {
    "duration": 41,
    "start_time": "2022-10-17T12:38:30.604Z"
   },
   {
    "duration": 52,
    "start_time": "2022-10-17T12:38:30.648Z"
   },
   {
    "duration": 64,
    "start_time": "2022-10-17T12:38:30.702Z"
   },
   {
    "duration": 38,
    "start_time": "2022-10-17T12:38:30.767Z"
   },
   {
    "duration": 44,
    "start_time": "2022-10-17T12:38:30.807Z"
   },
   {
    "duration": 49,
    "start_time": "2022-10-17T12:38:30.852Z"
   },
   {
    "duration": 37,
    "start_time": "2022-10-17T12:38:30.903Z"
   },
   {
    "duration": 25,
    "start_time": "2022-10-17T12:38:30.943Z"
   },
   {
    "duration": 65,
    "start_time": "2022-10-17T12:38:30.969Z"
   },
   {
    "duration": 57,
    "start_time": "2022-10-17T12:38:31.035Z"
   },
   {
    "duration": 9,
    "start_time": "2022-10-17T12:38:31.094Z"
   },
   {
    "duration": 44,
    "start_time": "2022-10-17T12:38:31.106Z"
   },
   {
    "duration": 47,
    "start_time": "2022-10-17T12:38:31.151Z"
   },
   {
    "duration": 35,
    "start_time": "2022-10-17T12:38:31.200Z"
   },
   {
    "duration": 19,
    "start_time": "2022-10-17T12:38:31.236Z"
   },
   {
    "duration": 33,
    "start_time": "2022-10-17T12:38:31.257Z"
   },
   {
    "duration": 26,
    "start_time": "2022-10-17T12:38:31.292Z"
   },
   {
    "duration": 47,
    "start_time": "2022-10-17T12:43:30.383Z"
   },
   {
    "duration": 39,
    "start_time": "2022-10-17T12:44:19.403Z"
   },
   {
    "duration": 4,
    "start_time": "2022-10-17T12:49:58.180Z"
   },
   {
    "duration": 5,
    "start_time": "2022-10-17T12:49:58.186Z"
   },
   {
    "duration": 121,
    "start_time": "2022-10-17T12:49:58.193Z"
   },
   {
    "duration": 22,
    "start_time": "2022-10-17T12:49:58.316Z"
   },
   {
    "duration": 12,
    "start_time": "2022-10-17T12:49:58.341Z"
   },
   {
    "duration": 20,
    "start_time": "2022-10-17T12:49:58.354Z"
   },
   {
    "duration": 18,
    "start_time": "2022-10-17T12:49:58.376Z"
   },
   {
    "duration": 17,
    "start_time": "2022-10-17T12:49:58.396Z"
   },
   {
    "duration": 15,
    "start_time": "2022-10-17T12:49:58.415Z"
   },
   {
    "duration": 5,
    "start_time": "2022-10-17T12:49:58.432Z"
   },
   {
    "duration": 12,
    "start_time": "2022-10-17T12:49:58.439Z"
   },
   {
    "duration": 22,
    "start_time": "2022-10-17T12:49:58.455Z"
   },
   {
    "duration": 11,
    "start_time": "2022-10-17T12:49:58.478Z"
   },
   {
    "duration": 11,
    "start_time": "2022-10-17T12:49:58.493Z"
   },
   {
    "duration": 21,
    "start_time": "2022-10-17T12:49:58.505Z"
   },
   {
    "duration": 15,
    "start_time": "2022-10-17T12:49:58.529Z"
   },
   {
    "duration": 39,
    "start_time": "2022-10-17T12:49:58.546Z"
   },
   {
    "duration": 16,
    "start_time": "2022-10-17T12:49:58.588Z"
   },
   {
    "duration": 10,
    "start_time": "2022-10-17T12:49:58.605Z"
   },
   {
    "duration": 23,
    "start_time": "2022-10-17T12:49:58.617Z"
   },
   {
    "duration": 19,
    "start_time": "2022-10-17T12:49:58.642Z"
   },
   {
    "duration": 30,
    "start_time": "2022-10-17T12:49:58.663Z"
   },
   {
    "duration": 28,
    "start_time": "2022-10-17T12:49:58.695Z"
   },
   {
    "duration": 22,
    "start_time": "2022-10-17T12:49:58.724Z"
   },
   {
    "duration": 31,
    "start_time": "2022-10-17T12:49:58.747Z"
   },
   {
    "duration": 25,
    "start_time": "2022-10-17T12:49:58.779Z"
   },
   {
    "duration": 17,
    "start_time": "2022-10-17T12:49:58.806Z"
   },
   {
    "duration": 16,
    "start_time": "2022-10-17T12:49:58.825Z"
   },
   {
    "duration": 18,
    "start_time": "2022-10-17T12:49:58.842Z"
   },
   {
    "duration": 46,
    "start_time": "2022-10-17T12:49:58.861Z"
   },
   {
    "duration": 5,
    "start_time": "2022-10-17T12:49:58.909Z"
   },
   {
    "duration": 41,
    "start_time": "2022-10-17T12:49:58.915Z"
   },
   {
    "duration": 45,
    "start_time": "2022-10-17T12:49:58.957Z"
   },
   {
    "duration": 30,
    "start_time": "2022-10-17T12:49:59.005Z"
   },
   {
    "duration": 35,
    "start_time": "2022-10-17T12:49:59.036Z"
   },
   {
    "duration": 28,
    "start_time": "2022-10-17T12:49:59.073Z"
   },
   {
    "duration": 16,
    "start_time": "2022-10-17T12:49:59.102Z"
   },
   {
    "duration": 25,
    "start_time": "2022-10-17T12:51:32.286Z"
   },
   {
    "duration": 19,
    "start_time": "2022-10-17T12:52:42.785Z"
   },
   {
    "duration": 52,
    "start_time": "2022-10-17T12:53:40.604Z"
   },
   {
    "duration": 4,
    "start_time": "2022-10-17T12:53:51.421Z"
   },
   {
    "duration": 17,
    "start_time": "2022-10-17T12:53:51.427Z"
   },
   {
    "duration": 133,
    "start_time": "2022-10-17T12:53:51.446Z"
   },
   {
    "duration": 21,
    "start_time": "2022-10-17T12:53:51.581Z"
   },
   {
    "duration": 11,
    "start_time": "2022-10-17T12:53:51.605Z"
   },
   {
    "duration": 19,
    "start_time": "2022-10-17T12:53:51.618Z"
   },
   {
    "duration": 16,
    "start_time": "2022-10-17T12:53:51.639Z"
   },
   {
    "duration": 23,
    "start_time": "2022-10-17T12:53:51.657Z"
   },
   {
    "duration": 28,
    "start_time": "2022-10-17T12:53:51.682Z"
   },
   {
    "duration": 7,
    "start_time": "2022-10-17T12:53:51.713Z"
   },
   {
    "duration": 10,
    "start_time": "2022-10-17T12:53:51.722Z"
   },
   {
    "duration": 20,
    "start_time": "2022-10-17T12:53:51.734Z"
   },
   {
    "duration": 27,
    "start_time": "2022-10-17T12:53:51.756Z"
   },
   {
    "duration": 17,
    "start_time": "2022-10-17T12:53:51.787Z"
   },
   {
    "duration": 32,
    "start_time": "2022-10-17T12:53:51.806Z"
   },
   {
    "duration": 12,
    "start_time": "2022-10-17T12:53:51.840Z"
   },
   {
    "duration": 39,
    "start_time": "2022-10-17T12:53:51.853Z"
   },
   {
    "duration": 18,
    "start_time": "2022-10-17T12:53:51.894Z"
   },
   {
    "duration": 15,
    "start_time": "2022-10-17T12:53:51.913Z"
   },
   {
    "duration": 23,
    "start_time": "2022-10-17T12:53:51.930Z"
   },
   {
    "duration": 13,
    "start_time": "2022-10-17T12:53:51.955Z"
   },
   {
    "duration": 12,
    "start_time": "2022-10-17T12:53:51.969Z"
   },
   {
    "duration": 24,
    "start_time": "2022-10-17T12:53:51.983Z"
   },
   {
    "duration": 17,
    "start_time": "2022-10-17T12:53:52.009Z"
   },
   {
    "duration": 17,
    "start_time": "2022-10-17T12:53:52.028Z"
   },
   {
    "duration": 25,
    "start_time": "2022-10-17T12:53:52.047Z"
   },
   {
    "duration": 18,
    "start_time": "2022-10-17T12:53:52.074Z"
   },
   {
    "duration": 20,
    "start_time": "2022-10-17T12:53:52.094Z"
   },
   {
    "duration": 21,
    "start_time": "2022-10-17T12:53:52.116Z"
   },
   {
    "duration": 46,
    "start_time": "2022-10-17T12:53:52.139Z"
   },
   {
    "duration": 6,
    "start_time": "2022-10-17T12:53:52.187Z"
   },
   {
    "duration": 33,
    "start_time": "2022-10-17T12:53:52.195Z"
   },
   {
    "duration": 83,
    "start_time": "2022-10-17T12:53:52.231Z"
   },
   {
    "duration": 53,
    "start_time": "2022-10-17T12:53:52.316Z"
   },
   {
    "duration": 28,
    "start_time": "2022-10-17T12:53:52.371Z"
   },
   {
    "duration": 53,
    "start_time": "2022-10-17T12:53:52.401Z"
   },
   {
    "duration": 22,
    "start_time": "2022-10-17T12:53:52.457Z"
   },
   {
    "duration": 42,
    "start_time": "2022-10-17T13:08:40.100Z"
   },
   {
    "duration": 66,
    "start_time": "2022-10-17T13:12:00.777Z"
   },
   {
    "duration": 51,
    "start_time": "2022-10-17T13:12:12.356Z"
   },
   {
    "duration": 970,
    "start_time": "2022-10-17T13:12:22.236Z"
   },
   {
    "duration": 15,
    "start_time": "2022-10-17T13:12:51.189Z"
   },
   {
    "duration": 17,
    "start_time": "2022-10-17T13:15:14.126Z"
   },
   {
    "duration": 3,
    "start_time": "2022-10-17T13:18:12.535Z"
   },
   {
    "duration": 22,
    "start_time": "2022-10-17T13:18:12.541Z"
   },
   {
    "duration": 131,
    "start_time": "2022-10-17T13:18:12.565Z"
   },
   {
    "duration": 25,
    "start_time": "2022-10-17T13:18:12.697Z"
   },
   {
    "duration": 9,
    "start_time": "2022-10-17T13:18:12.724Z"
   },
   {
    "duration": 19,
    "start_time": "2022-10-17T13:18:12.735Z"
   },
   {
    "duration": 9,
    "start_time": "2022-10-17T13:18:12.757Z"
   },
   {
    "duration": 25,
    "start_time": "2022-10-17T13:18:12.768Z"
   },
   {
    "duration": 16,
    "start_time": "2022-10-17T13:18:12.795Z"
   },
   {
    "duration": 7,
    "start_time": "2022-10-17T13:18:12.813Z"
   },
   {
    "duration": 16,
    "start_time": "2022-10-17T13:18:12.821Z"
   },
   {
    "duration": 14,
    "start_time": "2022-10-17T13:18:12.838Z"
   },
   {
    "duration": 11,
    "start_time": "2022-10-17T13:18:12.854Z"
   },
   {
    "duration": 5,
    "start_time": "2022-10-17T13:18:12.869Z"
   },
   {
    "duration": 26,
    "start_time": "2022-10-17T13:18:12.876Z"
   },
   {
    "duration": 12,
    "start_time": "2022-10-17T13:18:12.904Z"
   },
   {
    "duration": 37,
    "start_time": "2022-10-17T13:18:12.918Z"
   },
   {
    "duration": 16,
    "start_time": "2022-10-17T13:18:12.957Z"
   },
   {
    "duration": 6,
    "start_time": "2022-10-17T13:18:12.975Z"
   },
   {
    "duration": 8,
    "start_time": "2022-10-17T13:18:12.983Z"
   },
   {
    "duration": 9,
    "start_time": "2022-10-17T13:18:12.992Z"
   },
   {
    "duration": 7,
    "start_time": "2022-10-17T13:18:13.003Z"
   },
   {
    "duration": 21,
    "start_time": "2022-10-17T13:18:13.011Z"
   },
   {
    "duration": 30,
    "start_time": "2022-10-17T13:18:13.034Z"
   },
   {
    "duration": 24,
    "start_time": "2022-10-17T13:18:13.066Z"
   },
   {
    "duration": 14,
    "start_time": "2022-10-17T13:18:13.092Z"
   },
   {
    "duration": 6,
    "start_time": "2022-10-17T13:18:13.109Z"
   },
   {
    "duration": 7,
    "start_time": "2022-10-17T13:18:13.117Z"
   },
   {
    "duration": 15,
    "start_time": "2022-10-17T13:18:13.126Z"
   },
   {
    "duration": 57,
    "start_time": "2022-10-17T13:18:13.143Z"
   },
   {
    "duration": 8,
    "start_time": "2022-10-17T13:18:13.202Z"
   },
   {
    "duration": 49,
    "start_time": "2022-10-17T13:18:13.212Z"
   },
   {
    "duration": 49,
    "start_time": "2022-10-17T13:18:13.263Z"
   },
   {
    "duration": 53,
    "start_time": "2022-10-17T13:18:13.314Z"
   },
   {
    "duration": 19,
    "start_time": "2022-10-17T13:18:13.369Z"
   },
   {
    "duration": 37,
    "start_time": "2022-10-17T13:18:13.390Z"
   },
   {
    "duration": 39,
    "start_time": "2022-10-17T13:18:13.429Z"
   },
   {
    "duration": 45,
    "start_time": "2022-10-17T13:19:41.330Z"
   },
   {
    "duration": 44,
    "start_time": "2022-10-17T13:19:49.578Z"
   },
   {
    "duration": 48,
    "start_time": "2022-10-17T13:20:53.068Z"
   },
   {
    "duration": 4,
    "start_time": "2022-10-17T13:21:04.653Z"
   },
   {
    "duration": 19,
    "start_time": "2022-10-17T13:21:04.659Z"
   },
   {
    "duration": 205,
    "start_time": "2022-10-17T13:21:04.680Z"
   },
   {
    "duration": 22,
    "start_time": "2022-10-17T13:21:04.887Z"
   },
   {
    "duration": 12,
    "start_time": "2022-10-17T13:21:04.911Z"
   },
   {
    "duration": 40,
    "start_time": "2022-10-17T13:21:04.925Z"
   },
   {
    "duration": 10,
    "start_time": "2022-10-17T13:21:04.967Z"
   },
   {
    "duration": 15,
    "start_time": "2022-10-17T13:21:04.979Z"
   },
   {
    "duration": 16,
    "start_time": "2022-10-17T13:21:04.996Z"
   },
   {
    "duration": 19,
    "start_time": "2022-10-17T13:21:05.014Z"
   },
   {
    "duration": 34,
    "start_time": "2022-10-17T13:21:05.035Z"
   },
   {
    "duration": 13,
    "start_time": "2022-10-17T13:21:05.072Z"
   },
   {
    "duration": 7,
    "start_time": "2022-10-17T13:21:05.089Z"
   },
   {
    "duration": 9,
    "start_time": "2022-10-17T13:21:05.100Z"
   },
   {
    "duration": 22,
    "start_time": "2022-10-17T13:21:05.111Z"
   },
   {
    "duration": 13,
    "start_time": "2022-10-17T13:21:05.135Z"
   },
   {
    "duration": 21,
    "start_time": "2022-10-17T13:21:05.150Z"
   },
   {
    "duration": 14,
    "start_time": "2022-10-17T13:21:05.173Z"
   },
   {
    "duration": 11,
    "start_time": "2022-10-17T13:21:05.189Z"
   },
   {
    "duration": 13,
    "start_time": "2022-10-17T13:21:05.201Z"
   },
   {
    "duration": 5,
    "start_time": "2022-10-17T13:21:05.216Z"
   },
   {
    "duration": 9,
    "start_time": "2022-10-17T13:21:05.222Z"
   },
   {
    "duration": 31,
    "start_time": "2022-10-17T13:21:05.233Z"
   },
   {
    "duration": 18,
    "start_time": "2022-10-17T13:21:05.265Z"
   },
   {
    "duration": 14,
    "start_time": "2022-10-17T13:21:05.285Z"
   },
   {
    "duration": 13,
    "start_time": "2022-10-17T13:21:05.301Z"
   },
   {
    "duration": 18,
    "start_time": "2022-10-17T13:21:05.316Z"
   },
   {
    "duration": 9,
    "start_time": "2022-10-17T13:21:05.336Z"
   },
   {
    "duration": 15,
    "start_time": "2022-10-17T13:21:05.346Z"
   },
   {
    "duration": 41,
    "start_time": "2022-10-17T13:21:05.363Z"
   },
   {
    "duration": 7,
    "start_time": "2022-10-17T13:21:05.405Z"
   },
   {
    "duration": 41,
    "start_time": "2022-10-17T13:21:05.413Z"
   },
   {
    "duration": 49,
    "start_time": "2022-10-17T13:21:05.456Z"
   },
   {
    "duration": 48,
    "start_time": "2022-10-17T13:21:05.507Z"
   },
   {
    "duration": 19,
    "start_time": "2022-10-17T13:21:05.557Z"
   },
   {
    "duration": 52,
    "start_time": "2022-10-17T13:21:05.578Z"
   },
   {
    "duration": 32,
    "start_time": "2022-10-17T13:21:05.632Z"
   },
   {
    "duration": 3,
    "start_time": "2022-10-17T13:22:02.647Z"
   },
   {
    "duration": 15,
    "start_time": "2022-10-17T13:22:02.652Z"
   },
   {
    "duration": 133,
    "start_time": "2022-10-17T13:22:02.669Z"
   },
   {
    "duration": 23,
    "start_time": "2022-10-17T13:22:02.804Z"
   },
   {
    "duration": 12,
    "start_time": "2022-10-17T13:22:02.829Z"
   },
   {
    "duration": 10,
    "start_time": "2022-10-17T13:22:02.843Z"
   },
   {
    "duration": 16,
    "start_time": "2022-10-17T13:22:02.855Z"
   },
   {
    "duration": 14,
    "start_time": "2022-10-17T13:22:02.872Z"
   },
   {
    "duration": 13,
    "start_time": "2022-10-17T13:22:02.888Z"
   },
   {
    "duration": 4,
    "start_time": "2022-10-17T13:22:02.903Z"
   },
   {
    "duration": 6,
    "start_time": "2022-10-17T13:22:02.909Z"
   },
   {
    "duration": 12,
    "start_time": "2022-10-17T13:22:02.916Z"
   },
   {
    "duration": 10,
    "start_time": "2022-10-17T13:22:02.929Z"
   },
   {
    "duration": 5,
    "start_time": "2022-10-17T13:22:02.953Z"
   },
   {
    "duration": 21,
    "start_time": "2022-10-17T13:22:02.959Z"
   },
   {
    "duration": 10,
    "start_time": "2022-10-17T13:22:02.982Z"
   },
   {
    "duration": 26,
    "start_time": "2022-10-17T13:22:02.993Z"
   },
   {
    "duration": 36,
    "start_time": "2022-10-17T13:22:03.020Z"
   },
   {
    "duration": 8,
    "start_time": "2022-10-17T13:22:03.057Z"
   },
   {
    "duration": 8,
    "start_time": "2022-10-17T13:22:03.068Z"
   },
   {
    "duration": 9,
    "start_time": "2022-10-17T13:22:03.077Z"
   },
   {
    "duration": 9,
    "start_time": "2022-10-17T13:22:03.087Z"
   },
   {
    "duration": 13,
    "start_time": "2022-10-17T13:22:03.098Z"
   },
   {
    "duration": 16,
    "start_time": "2022-10-17T13:22:03.113Z"
   },
   {
    "duration": 30,
    "start_time": "2022-10-17T13:22:03.131Z"
   },
   {
    "duration": 12,
    "start_time": "2022-10-17T13:22:03.163Z"
   },
   {
    "duration": 7,
    "start_time": "2022-10-17T13:22:03.177Z"
   },
   {
    "duration": 7,
    "start_time": "2022-10-17T13:22:03.186Z"
   },
   {
    "duration": 11,
    "start_time": "2022-10-17T13:22:03.194Z"
   },
   {
    "duration": 59,
    "start_time": "2022-10-17T13:22:03.207Z"
   },
   {
    "duration": 6,
    "start_time": "2022-10-17T13:22:03.268Z"
   },
   {
    "duration": 27,
    "start_time": "2022-10-17T13:22:03.276Z"
   },
   {
    "duration": 68,
    "start_time": "2022-10-17T13:22:03.305Z"
   },
   {
    "duration": 28,
    "start_time": "2022-10-17T13:22:03.375Z"
   },
   {
    "duration": 19,
    "start_time": "2022-10-17T13:22:03.405Z"
   },
   {
    "duration": 30,
    "start_time": "2022-10-17T13:22:03.453Z"
   },
   {
    "duration": 19,
    "start_time": "2022-10-17T13:22:03.485Z"
   },
   {
    "duration": 54,
    "start_time": "2022-10-17T13:36:23.920Z"
   },
   {
    "duration": 2,
    "start_time": "2022-10-17T13:36:36.260Z"
   },
   {
    "duration": 14,
    "start_time": "2022-10-17T13:36:36.265Z"
   },
   {
    "duration": 126,
    "start_time": "2022-10-17T13:36:36.280Z"
   },
   {
    "duration": 22,
    "start_time": "2022-10-17T13:36:36.408Z"
   },
   {
    "duration": 10,
    "start_time": "2022-10-17T13:36:36.432Z"
   },
   {
    "duration": 12,
    "start_time": "2022-10-17T13:36:36.444Z"
   },
   {
    "duration": 14,
    "start_time": "2022-10-17T13:36:36.458Z"
   },
   {
    "duration": 15,
    "start_time": "2022-10-17T13:36:36.473Z"
   },
   {
    "duration": 15,
    "start_time": "2022-10-17T13:36:36.489Z"
   },
   {
    "duration": 6,
    "start_time": "2022-10-17T13:36:36.505Z"
   },
   {
    "duration": 9,
    "start_time": "2022-10-17T13:36:36.513Z"
   },
   {
    "duration": 8,
    "start_time": "2022-10-17T13:36:36.523Z"
   },
   {
    "duration": 23,
    "start_time": "2022-10-17T13:36:36.532Z"
   },
   {
    "duration": 9,
    "start_time": "2022-10-17T13:36:36.558Z"
   },
   {
    "duration": 24,
    "start_time": "2022-10-17T13:36:36.569Z"
   },
   {
    "duration": 12,
    "start_time": "2022-10-17T13:36:36.595Z"
   },
   {
    "duration": 24,
    "start_time": "2022-10-17T13:36:36.609Z"
   },
   {
    "duration": 32,
    "start_time": "2022-10-17T13:36:36.635Z"
   },
   {
    "duration": 11,
    "start_time": "2022-10-17T13:36:36.668Z"
   },
   {
    "duration": 8,
    "start_time": "2022-10-17T13:36:36.681Z"
   },
   {
    "duration": 8,
    "start_time": "2022-10-17T13:36:36.691Z"
   },
   {
    "duration": 11,
    "start_time": "2022-10-17T13:36:36.700Z"
   },
   {
    "duration": 13,
    "start_time": "2022-10-17T13:36:36.713Z"
   },
   {
    "duration": 10,
    "start_time": "2022-10-17T13:36:36.728Z"
   },
   {
    "duration": 23,
    "start_time": "2022-10-17T13:36:36.740Z"
   },
   {
    "duration": 11,
    "start_time": "2022-10-17T13:36:36.765Z"
   },
   {
    "duration": 12,
    "start_time": "2022-10-17T13:36:36.778Z"
   },
   {
    "duration": 6,
    "start_time": "2022-10-17T13:36:36.791Z"
   },
   {
    "duration": 14,
    "start_time": "2022-10-17T13:36:36.798Z"
   },
   {
    "duration": 54,
    "start_time": "2022-10-17T13:36:36.814Z"
   },
   {
    "duration": 6,
    "start_time": "2022-10-17T13:36:36.870Z"
   },
   {
    "duration": 29,
    "start_time": "2022-10-17T13:36:36.877Z"
   },
   {
    "duration": 70,
    "start_time": "2022-10-17T13:36:36.907Z"
   },
   {
    "duration": 29,
    "start_time": "2022-10-17T13:36:36.978Z"
   },
   {
    "duration": 19,
    "start_time": "2022-10-17T13:36:37.009Z"
   },
   {
    "duration": 51,
    "start_time": "2022-10-17T13:36:37.030Z"
   },
   {
    "duration": 15,
    "start_time": "2022-10-17T13:36:37.083Z"
   },
   {
    "duration": 11,
    "start_time": "2022-10-17T13:43:59.327Z"
   },
   {
    "duration": 12,
    "start_time": "2022-10-17T13:44:54.069Z"
   },
   {
    "duration": 18,
    "start_time": "2022-10-17T13:46:10.226Z"
   },
   {
    "duration": 6,
    "start_time": "2022-10-17T14:02:29.009Z"
   },
   {
    "duration": 6,
    "start_time": "2022-10-17T14:08:47.881Z"
   },
   {
    "duration": 11,
    "start_time": "2022-10-17T14:09:08.527Z"
   },
   {
    "duration": 5,
    "start_time": "2022-10-17T14:09:16.361Z"
   },
   {
    "duration": 16,
    "start_time": "2022-10-17T14:09:16.369Z"
   },
   {
    "duration": 133,
    "start_time": "2022-10-17T14:09:16.388Z"
   },
   {
    "duration": 23,
    "start_time": "2022-10-17T14:09:16.523Z"
   },
   {
    "duration": 10,
    "start_time": "2022-10-17T14:09:16.548Z"
   },
   {
    "duration": 11,
    "start_time": "2022-10-17T14:09:16.560Z"
   },
   {
    "duration": 9,
    "start_time": "2022-10-17T14:09:16.573Z"
   },
   {
    "duration": 22,
    "start_time": "2022-10-17T14:09:16.583Z"
   },
   {
    "duration": 16,
    "start_time": "2022-10-17T14:09:16.607Z"
   },
   {
    "duration": 30,
    "start_time": "2022-10-17T14:09:16.624Z"
   },
   {
    "duration": 4,
    "start_time": "2022-10-17T14:09:16.656Z"
   },
   {
    "duration": 9,
    "start_time": "2022-10-17T14:09:16.662Z"
   },
   {
    "duration": 14,
    "start_time": "2022-10-17T14:09:16.673Z"
   },
   {
    "duration": 10,
    "start_time": "2022-10-17T14:09:16.691Z"
   },
   {
    "duration": 28,
    "start_time": "2022-10-17T14:09:16.703Z"
   },
   {
    "duration": 23,
    "start_time": "2022-10-17T14:09:16.732Z"
   },
   {
    "duration": 27,
    "start_time": "2022-10-17T14:09:16.757Z"
   },
   {
    "duration": 17,
    "start_time": "2022-10-17T14:09:16.787Z"
   },
   {
    "duration": 7,
    "start_time": "2022-10-17T14:09:16.807Z"
   },
   {
    "duration": 7,
    "start_time": "2022-10-17T14:09:16.816Z"
   },
   {
    "duration": 47,
    "start_time": "2022-10-17T14:09:16.825Z"
   },
   {
    "duration": 12,
    "start_time": "2022-10-17T14:09:16.875Z"
   },
   {
    "duration": 6,
    "start_time": "2022-10-17T14:09:16.890Z"
   },
   {
    "duration": 18,
    "start_time": "2022-10-17T14:09:16.898Z"
   },
   {
    "duration": 37,
    "start_time": "2022-10-17T14:09:16.918Z"
   },
   {
    "duration": 25,
    "start_time": "2022-10-17T14:09:16.957Z"
   },
   {
    "duration": 18,
    "start_time": "2022-10-17T14:09:16.984Z"
   },
   {
    "duration": 9,
    "start_time": "2022-10-17T14:09:17.004Z"
   },
   {
    "duration": 6,
    "start_time": "2022-10-17T14:09:17.015Z"
   },
   {
    "duration": 14,
    "start_time": "2022-10-17T14:09:17.023Z"
   },
   {
    "duration": 56,
    "start_time": "2022-10-17T14:09:17.039Z"
   },
   {
    "duration": 8,
    "start_time": "2022-10-17T14:09:17.097Z"
   },
   {
    "duration": 52,
    "start_time": "2022-10-17T14:09:17.107Z"
   },
   {
    "duration": 63,
    "start_time": "2022-10-17T14:09:17.161Z"
   },
   {
    "duration": 50,
    "start_time": "2022-10-17T14:09:17.225Z"
   },
   {
    "duration": 21,
    "start_time": "2022-10-17T14:09:17.276Z"
   },
   {
    "duration": 31,
    "start_time": "2022-10-17T14:09:17.299Z"
   },
   {
    "duration": 19,
    "start_time": "2022-10-17T14:09:17.354Z"
   },
   {
    "duration": 11,
    "start_time": "2022-10-17T14:09:17.375Z"
   },
   {
    "duration": 931,
    "start_time": "2022-10-17T14:10:16.262Z"
   },
   {
    "duration": 9,
    "start_time": "2022-10-17T14:12:05.070Z"
   },
   {
    "duration": 19,
    "start_time": "2022-10-17T14:12:22.064Z"
   },
   {
    "duration": 3,
    "start_time": "2022-10-17T14:12:54.369Z"
   },
   {
    "duration": 27,
    "start_time": "2022-10-17T14:12:54.374Z"
   },
   {
    "duration": 131,
    "start_time": "2022-10-17T14:12:54.403Z"
   },
   {
    "duration": 20,
    "start_time": "2022-10-17T14:12:54.536Z"
   },
   {
    "duration": 17,
    "start_time": "2022-10-17T14:12:54.559Z"
   },
   {
    "duration": 21,
    "start_time": "2022-10-17T14:12:54.577Z"
   },
   {
    "duration": 19,
    "start_time": "2022-10-17T14:12:54.600Z"
   },
   {
    "duration": 41,
    "start_time": "2022-10-17T14:12:54.621Z"
   },
   {
    "duration": 28,
    "start_time": "2022-10-17T14:12:54.665Z"
   },
   {
    "duration": 10,
    "start_time": "2022-10-17T14:12:54.695Z"
   },
   {
    "duration": 20,
    "start_time": "2022-10-17T14:12:54.706Z"
   },
   {
    "duration": 17,
    "start_time": "2022-10-17T14:12:54.727Z"
   },
   {
    "duration": 15,
    "start_time": "2022-10-17T14:12:54.745Z"
   },
   {
    "duration": 15,
    "start_time": "2022-10-17T14:12:54.764Z"
   },
   {
    "duration": 29,
    "start_time": "2022-10-17T14:12:54.781Z"
   },
   {
    "duration": 22,
    "start_time": "2022-10-17T14:12:54.812Z"
   },
   {
    "duration": 30,
    "start_time": "2022-10-17T14:12:54.836Z"
   },
   {
    "duration": 17,
    "start_time": "2022-10-17T14:12:54.867Z"
   },
   {
    "duration": 28,
    "start_time": "2022-10-17T14:12:54.885Z"
   },
   {
    "duration": 23,
    "start_time": "2022-10-17T14:12:54.915Z"
   },
   {
    "duration": 37,
    "start_time": "2022-10-17T14:12:54.940Z"
   },
   {
    "duration": 25,
    "start_time": "2022-10-17T14:12:54.979Z"
   },
   {
    "duration": 25,
    "start_time": "2022-10-17T14:12:55.005Z"
   },
   {
    "duration": 27,
    "start_time": "2022-10-17T14:12:55.032Z"
   },
   {
    "duration": 46,
    "start_time": "2022-10-17T14:12:55.061Z"
   },
   {
    "duration": 34,
    "start_time": "2022-10-17T14:12:55.109Z"
   },
   {
    "duration": 13,
    "start_time": "2022-10-17T14:12:55.144Z"
   },
   {
    "duration": 40,
    "start_time": "2022-10-17T14:12:55.159Z"
   },
   {
    "duration": 50,
    "start_time": "2022-10-17T14:12:55.201Z"
   },
   {
    "duration": 74,
    "start_time": "2022-10-17T14:12:55.252Z"
   },
   {
    "duration": 11,
    "start_time": "2022-10-17T14:12:55.327Z"
   },
   {
    "duration": 44,
    "start_time": "2022-10-17T14:12:55.340Z"
   },
   {
    "duration": 70,
    "start_time": "2022-10-17T14:12:55.386Z"
   },
   {
    "duration": 32,
    "start_time": "2022-10-17T14:12:55.458Z"
   },
   {
    "duration": 28,
    "start_time": "2022-10-17T14:12:55.493Z"
   },
   {
    "duration": 60,
    "start_time": "2022-10-17T14:12:55.523Z"
   },
   {
    "duration": 48,
    "start_time": "2022-10-17T14:12:55.585Z"
   },
   {
    "duration": 32,
    "start_time": "2022-10-17T14:12:55.636Z"
   },
   {
    "duration": 5,
    "start_time": "2022-10-17T15:37:41.941Z"
   },
   {
    "duration": 10,
    "start_time": "2022-10-17T16:20:39.381Z"
   },
   {
    "duration": 4,
    "start_time": "2022-10-17T16:21:02.838Z"
   },
   {
    "duration": 17,
    "start_time": "2022-10-17T16:21:18.727Z"
   },
   {
    "duration": 3,
    "start_time": "2022-10-17T16:23:09.774Z"
   },
   {
    "duration": 14,
    "start_time": "2022-10-17T16:23:09.779Z"
   },
   {
    "duration": 128,
    "start_time": "2022-10-17T16:23:09.795Z"
   },
   {
    "duration": 19,
    "start_time": "2022-10-17T16:23:09.925Z"
   },
   {
    "duration": 14,
    "start_time": "2022-10-17T16:23:09.947Z"
   },
   {
    "duration": 23,
    "start_time": "2022-10-17T16:23:09.962Z"
   },
   {
    "duration": 21,
    "start_time": "2022-10-17T16:23:09.987Z"
   },
   {
    "duration": 33,
    "start_time": "2022-10-17T16:23:10.010Z"
   },
   {
    "duration": 31,
    "start_time": "2022-10-17T16:23:10.045Z"
   },
   {
    "duration": 27,
    "start_time": "2022-10-17T16:23:10.078Z"
   },
   {
    "duration": 15,
    "start_time": "2022-10-17T16:23:10.107Z"
   },
   {
    "duration": 28,
    "start_time": "2022-10-17T16:23:10.124Z"
   },
   {
    "duration": 9,
    "start_time": "2022-10-17T16:23:10.154Z"
   },
   {
    "duration": 17,
    "start_time": "2022-10-17T16:23:10.166Z"
   },
   {
    "duration": 29,
    "start_time": "2022-10-17T16:23:10.184Z"
   },
   {
    "duration": 21,
    "start_time": "2022-10-17T16:23:10.215Z"
   },
   {
    "duration": 43,
    "start_time": "2022-10-17T16:23:10.237Z"
   },
   {
    "duration": 20,
    "start_time": "2022-10-17T16:23:10.282Z"
   },
   {
    "duration": 24,
    "start_time": "2022-10-17T16:23:10.304Z"
   },
   {
    "duration": 24,
    "start_time": "2022-10-17T16:23:10.330Z"
   },
   {
    "duration": 15,
    "start_time": "2022-10-17T16:23:10.356Z"
   },
   {
    "duration": 23,
    "start_time": "2022-10-17T16:23:10.373Z"
   },
   {
    "duration": 30,
    "start_time": "2022-10-17T16:23:10.398Z"
   },
   {
    "duration": 22,
    "start_time": "2022-10-17T16:23:10.430Z"
   },
   {
    "duration": 27,
    "start_time": "2022-10-17T16:23:10.454Z"
   },
   {
    "duration": 22,
    "start_time": "2022-10-17T16:23:10.483Z"
   },
   {
    "duration": 20,
    "start_time": "2022-10-17T16:23:10.506Z"
   },
   {
    "duration": 15,
    "start_time": "2022-10-17T16:23:10.528Z"
   },
   {
    "duration": 18,
    "start_time": "2022-10-17T16:23:10.545Z"
   },
   {
    "duration": 56,
    "start_time": "2022-10-17T16:23:10.565Z"
   },
   {
    "duration": 6,
    "start_time": "2022-10-17T16:23:10.623Z"
   },
   {
    "duration": 34,
    "start_time": "2022-10-17T16:23:10.631Z"
   },
   {
    "duration": 61,
    "start_time": "2022-10-17T16:23:10.667Z"
   },
   {
    "duration": 43,
    "start_time": "2022-10-17T16:23:10.730Z"
   },
   {
    "duration": 17,
    "start_time": "2022-10-17T16:23:10.774Z"
   },
   {
    "duration": 44,
    "start_time": "2022-10-17T16:23:10.792Z"
   },
   {
    "duration": 39,
    "start_time": "2022-10-17T16:23:10.838Z"
   },
   {
    "duration": 32,
    "start_time": "2022-10-17T16:23:10.878Z"
   },
   {
    "duration": 22,
    "start_time": "2022-10-17T16:23:10.912Z"
   },
   {
    "duration": 28,
    "start_time": "2022-10-17T16:23:10.935Z"
   },
   {
    "duration": 0,
    "start_time": "2022-10-17T16:23:10.965Z"
   },
   {
    "duration": 10,
    "start_time": "2022-10-17T16:44:07.542Z"
   },
   {
    "duration": 15,
    "start_time": "2022-10-17T16:45:02.333Z"
   },
   {
    "duration": 12,
    "start_time": "2022-10-17T16:45:28.436Z"
   },
   {
    "duration": 15,
    "start_time": "2022-10-17T16:46:33.155Z"
   },
   {
    "duration": 19,
    "start_time": "2022-10-17T16:46:40.146Z"
   },
   {
    "duration": 18,
    "start_time": "2022-10-17T16:47:17.065Z"
   },
   {
    "duration": 9,
    "start_time": "2022-10-17T16:47:27.143Z"
   },
   {
    "duration": 109,
    "start_time": "2022-10-17T16:47:43.732Z"
   },
   {
    "duration": 9,
    "start_time": "2022-10-17T16:49:20.256Z"
   },
   {
    "duration": 22,
    "start_time": "2022-10-17T16:50:16.290Z"
   },
   {
    "duration": 38,
    "start_time": "2022-10-17T16:50:44.471Z"
   },
   {
    "duration": 40,
    "start_time": "2022-10-17T16:51:41.056Z"
   },
   {
    "duration": 42,
    "start_time": "2022-10-17T16:51:55.635Z"
   },
   {
    "duration": 41,
    "start_time": "2022-10-17T16:53:04.365Z"
   },
   {
    "duration": 1263,
    "start_time": "2022-10-18T07:40:52.443Z"
   },
   {
    "duration": 3,
    "start_time": "2022-10-18T07:40:53.708Z"
   },
   {
    "duration": 371,
    "start_time": "2022-10-18T07:40:53.713Z"
   },
   {
    "duration": 23,
    "start_time": "2022-10-18T07:40:54.085Z"
   },
   {
    "duration": 13,
    "start_time": "2022-10-18T07:40:54.111Z"
   },
   {
    "duration": 7,
    "start_time": "2022-10-18T07:40:54.125Z"
   },
   {
    "duration": 8,
    "start_time": "2022-10-18T07:40:54.134Z"
   },
   {
    "duration": 11,
    "start_time": "2022-10-18T07:40:54.144Z"
   },
   {
    "duration": 41,
    "start_time": "2022-10-18T07:40:54.157Z"
   },
   {
    "duration": 4,
    "start_time": "2022-10-18T07:40:54.199Z"
   },
   {
    "duration": 6,
    "start_time": "2022-10-18T07:40:54.205Z"
   },
   {
    "duration": 8,
    "start_time": "2022-10-18T07:40:54.212Z"
   },
   {
    "duration": 6,
    "start_time": "2022-10-18T07:40:54.222Z"
   },
   {
    "duration": 8,
    "start_time": "2022-10-18T07:40:54.230Z"
   },
   {
    "duration": 16,
    "start_time": "2022-10-18T07:40:54.240Z"
   },
   {
    "duration": 10,
    "start_time": "2022-10-18T07:40:54.258Z"
   },
   {
    "duration": 45,
    "start_time": "2022-10-18T07:40:54.269Z"
   },
   {
    "duration": 13,
    "start_time": "2022-10-18T07:40:54.316Z"
   },
   {
    "duration": 5,
    "start_time": "2022-10-18T07:40:54.331Z"
   },
   {
    "duration": 6,
    "start_time": "2022-10-18T07:40:54.338Z"
   },
   {
    "duration": 12,
    "start_time": "2022-10-18T07:40:54.346Z"
   },
   {
    "duration": 10,
    "start_time": "2022-10-18T07:40:54.360Z"
   },
   {
    "duration": 27,
    "start_time": "2022-10-18T07:40:54.372Z"
   },
   {
    "duration": 9,
    "start_time": "2022-10-18T07:40:54.400Z"
   },
   {
    "duration": 20,
    "start_time": "2022-10-18T07:40:54.410Z"
   },
   {
    "duration": 12,
    "start_time": "2022-10-18T07:40:54.431Z"
   },
   {
    "duration": 7,
    "start_time": "2022-10-18T07:40:54.445Z"
   },
   {
    "duration": 6,
    "start_time": "2022-10-18T07:40:54.453Z"
   },
   {
    "duration": 12,
    "start_time": "2022-10-18T07:40:54.460Z"
   },
   {
    "duration": 60,
    "start_time": "2022-10-18T07:40:54.474Z"
   },
   {
    "duration": 7,
    "start_time": "2022-10-18T07:40:54.536Z"
   },
   {
    "duration": 25,
    "start_time": "2022-10-18T07:40:54.545Z"
   },
   {
    "duration": 75,
    "start_time": "2022-10-18T07:40:54.571Z"
   },
   {
    "duration": 49,
    "start_time": "2022-10-18T07:40:54.648Z"
   },
   {
    "duration": 15,
    "start_time": "2022-10-18T07:40:54.699Z"
   },
   {
    "duration": 25,
    "start_time": "2022-10-18T07:40:54.716Z"
   },
   {
    "duration": 14,
    "start_time": "2022-10-18T07:40:54.743Z"
   },
   {
    "duration": 5,
    "start_time": "2022-10-18T07:40:54.759Z"
   },
   {
    "duration": 31,
    "start_time": "2022-10-18T07:40:54.766Z"
   },
   {
    "duration": 38,
    "start_time": "2022-10-18T07:40:54.798Z"
   },
   {
    "duration": 108,
    "start_time": "2022-10-18T07:40:54.839Z"
   },
   {
    "duration": 4,
    "start_time": "2022-10-18T07:41:32.248Z"
   },
   {
    "duration": 16,
    "start_time": "2022-10-18T07:41:45.688Z"
   },
   {
    "duration": 24,
    "start_time": "2022-10-18T07:44:05.160Z"
   },
   {
    "duration": 13,
    "start_time": "2022-10-18T07:44:51.495Z"
   },
   {
    "duration": 4,
    "start_time": "2022-10-18T07:44:59.779Z"
   },
   {
    "duration": 12,
    "start_time": "2022-10-18T07:45:05.948Z"
   },
   {
    "duration": 3,
    "start_time": "2022-10-18T07:45:11.028Z"
   },
   {
    "duration": 8,
    "start_time": "2022-10-18T07:45:11.033Z"
   },
   {
    "duration": 147,
    "start_time": "2022-10-18T07:45:11.043Z"
   },
   {
    "duration": 34,
    "start_time": "2022-10-18T07:45:11.191Z"
   },
   {
    "duration": 13,
    "start_time": "2022-10-18T07:45:11.228Z"
   },
   {
    "duration": 9,
    "start_time": "2022-10-18T07:45:11.242Z"
   },
   {
    "duration": 11,
    "start_time": "2022-10-18T07:45:11.253Z"
   },
   {
    "duration": 13,
    "start_time": "2022-10-18T07:45:11.266Z"
   },
   {
    "duration": 22,
    "start_time": "2022-10-18T07:45:11.280Z"
   },
   {
    "duration": 11,
    "start_time": "2022-10-18T07:45:11.303Z"
   },
   {
    "duration": 6,
    "start_time": "2022-10-18T07:45:11.315Z"
   },
   {
    "duration": 6,
    "start_time": "2022-10-18T07:45:11.323Z"
   },
   {
    "duration": 8,
    "start_time": "2022-10-18T07:45:11.331Z"
   },
   {
    "duration": 6,
    "start_time": "2022-10-18T07:45:11.343Z"
   },
   {
    "duration": 24,
    "start_time": "2022-10-18T07:45:11.350Z"
   },
   {
    "duration": 28,
    "start_time": "2022-10-18T07:45:11.376Z"
   },
   {
    "duration": 28,
    "start_time": "2022-10-18T07:45:11.405Z"
   },
   {
    "duration": 15,
    "start_time": "2022-10-18T07:45:11.434Z"
   },
   {
    "duration": 9,
    "start_time": "2022-10-18T07:45:11.451Z"
   },
   {
    "duration": 8,
    "start_time": "2022-10-18T07:45:11.462Z"
   },
   {
    "duration": 9,
    "start_time": "2022-10-18T07:45:11.472Z"
   },
   {
    "duration": 32,
    "start_time": "2022-10-18T07:45:11.482Z"
   },
   {
    "duration": 19,
    "start_time": "2022-10-18T07:45:11.515Z"
   },
   {
    "duration": 15,
    "start_time": "2022-10-18T07:45:11.535Z"
   },
   {
    "duration": 18,
    "start_time": "2022-10-18T07:45:11.552Z"
   },
   {
    "duration": 21,
    "start_time": "2022-10-18T07:45:11.572Z"
   },
   {
    "duration": 23,
    "start_time": "2022-10-18T07:45:11.597Z"
   },
   {
    "duration": 9,
    "start_time": "2022-10-18T07:45:11.622Z"
   },
   {
    "duration": 13,
    "start_time": "2022-10-18T07:45:11.633Z"
   },
   {
    "duration": 45,
    "start_time": "2022-10-18T07:45:11.648Z"
   },
   {
    "duration": 19,
    "start_time": "2022-10-18T07:45:11.695Z"
   },
   {
    "duration": 33,
    "start_time": "2022-10-18T07:45:11.716Z"
   },
   {
    "duration": 70,
    "start_time": "2022-10-18T07:45:11.751Z"
   },
   {
    "duration": 27,
    "start_time": "2022-10-18T07:45:11.822Z"
   },
   {
    "duration": 18,
    "start_time": "2022-10-18T07:45:11.850Z"
   },
   {
    "duration": 55,
    "start_time": "2022-10-18T07:45:11.870Z"
   },
   {
    "duration": 17,
    "start_time": "2022-10-18T07:45:11.927Z"
   },
   {
    "duration": 5,
    "start_time": "2022-10-18T07:45:11.946Z"
   },
   {
    "duration": 11,
    "start_time": "2022-10-18T07:45:11.953Z"
   },
   {
    "duration": 76,
    "start_time": "2022-10-18T07:45:11.966Z"
   },
   {
    "duration": 18,
    "start_time": "2022-10-18T07:45:12.045Z"
   },
   {
    "duration": 19,
    "start_time": "2022-10-18T07:45:12.065Z"
   },
   {
    "duration": 7,
    "start_time": "2022-10-18T07:47:07.194Z"
   },
   {
    "duration": 22,
    "start_time": "2022-10-18T07:47:19.189Z"
   },
   {
    "duration": 20,
    "start_time": "2022-10-18T07:47:32.673Z"
   },
   {
    "duration": 7,
    "start_time": "2022-10-18T07:48:24.556Z"
   },
   {
    "duration": 5,
    "start_time": "2022-10-18T07:48:28.986Z"
   },
   {
    "duration": 13,
    "start_time": "2022-10-18T07:48:31.965Z"
   },
   {
    "duration": 10,
    "start_time": "2022-10-18T07:48:35.287Z"
   },
   {
    "duration": 18,
    "start_time": "2022-10-18T07:48:45.857Z"
   },
   {
    "duration": 17,
    "start_time": "2022-10-18T07:48:58.348Z"
   },
   {
    "duration": 1220,
    "start_time": "2022-10-18T07:50:31.495Z"
   },
   {
    "duration": 1756,
    "start_time": "2022-10-18T07:50:36.102Z"
   },
   {
    "duration": 6,
    "start_time": "2022-10-18T07:50:49.642Z"
   },
   {
    "duration": 3,
    "start_time": "2022-10-18T08:14:51.298Z"
   },
   {
    "duration": 9,
    "start_time": "2022-10-18T08:14:51.303Z"
   },
   {
    "duration": 151,
    "start_time": "2022-10-18T08:14:51.314Z"
   },
   {
    "duration": 21,
    "start_time": "2022-10-18T08:14:51.468Z"
   },
   {
    "duration": 15,
    "start_time": "2022-10-18T08:14:51.491Z"
   },
   {
    "duration": 10,
    "start_time": "2022-10-18T08:14:51.508Z"
   },
   {
    "duration": 13,
    "start_time": "2022-10-18T08:14:51.519Z"
   },
   {
    "duration": 18,
    "start_time": "2022-10-18T08:14:51.534Z"
   },
   {
    "duration": 15,
    "start_time": "2022-10-18T08:14:51.553Z"
   },
   {
    "duration": 5,
    "start_time": "2022-10-18T08:14:51.571Z"
   },
   {
    "duration": 19,
    "start_time": "2022-10-18T08:14:51.578Z"
   },
   {
    "duration": 8,
    "start_time": "2022-10-18T08:14:51.599Z"
   },
   {
    "duration": 7,
    "start_time": "2022-10-18T08:14:51.609Z"
   },
   {
    "duration": 11,
    "start_time": "2022-10-18T08:14:51.618Z"
   },
   {
    "duration": 23,
    "start_time": "2022-10-18T08:14:51.631Z"
   },
   {
    "duration": 16,
    "start_time": "2022-10-18T08:14:51.656Z"
   },
   {
    "duration": 42,
    "start_time": "2022-10-18T08:14:51.673Z"
   },
   {
    "duration": 17,
    "start_time": "2022-10-18T08:14:51.717Z"
   },
   {
    "duration": 9,
    "start_time": "2022-10-18T08:14:51.736Z"
   },
   {
    "duration": 8,
    "start_time": "2022-10-18T08:14:51.747Z"
   },
   {
    "duration": 7,
    "start_time": "2022-10-18T08:14:51.757Z"
   },
   {
    "duration": 32,
    "start_time": "2022-10-18T08:14:51.765Z"
   },
   {
    "duration": 10,
    "start_time": "2022-10-18T08:14:51.798Z"
   },
   {
    "duration": 14,
    "start_time": "2022-10-18T08:14:51.810Z"
   },
   {
    "duration": 15,
    "start_time": "2022-10-18T08:14:51.826Z"
   },
   {
    "duration": 14,
    "start_time": "2022-10-18T08:14:51.842Z"
   },
   {
    "duration": 4,
    "start_time": "2022-10-18T08:14:51.858Z"
   },
   {
    "duration": 32,
    "start_time": "2022-10-18T08:14:51.865Z"
   },
   {
    "duration": 10,
    "start_time": "2022-10-18T08:14:51.899Z"
   },
   {
    "duration": 49,
    "start_time": "2022-10-18T08:14:51.911Z"
   },
   {
    "duration": 6,
    "start_time": "2022-10-18T08:14:51.962Z"
   },
   {
    "duration": 45,
    "start_time": "2022-10-18T08:14:51.970Z"
   },
   {
    "duration": 57,
    "start_time": "2022-10-18T08:14:52.016Z"
   },
   {
    "duration": 44,
    "start_time": "2022-10-18T08:14:52.075Z"
   },
   {
    "duration": 16,
    "start_time": "2022-10-18T08:14:52.121Z"
   },
   {
    "duration": 30,
    "start_time": "2022-10-18T08:14:52.138Z"
   },
   {
    "duration": 40,
    "start_time": "2022-10-18T08:14:52.169Z"
   },
   {
    "duration": 5,
    "start_time": "2022-10-18T08:14:52.210Z"
   },
   {
    "duration": 7,
    "start_time": "2022-10-18T08:14:52.216Z"
   },
   {
    "duration": 111,
    "start_time": "2022-10-18T08:14:52.224Z"
   },
   {
    "duration": 16,
    "start_time": "2022-10-18T08:14:52.337Z"
   },
   {
    "duration": 27,
    "start_time": "2022-10-18T08:14:52.355Z"
   },
   {
    "duration": 15,
    "start_time": "2022-10-18T08:14:52.383Z"
   },
   {
    "duration": 5,
    "start_time": "2022-10-18T08:15:33.164Z"
   },
   {
    "duration": 13,
    "start_time": "2022-10-18T08:16:57.323Z"
   },
   {
    "duration": 3,
    "start_time": "2022-10-18T08:17:05.980Z"
   },
   {
    "duration": 6,
    "start_time": "2022-10-18T08:17:05.986Z"
   },
   {
    "duration": 158,
    "start_time": "2022-10-18T08:17:05.994Z"
   },
   {
    "duration": 21,
    "start_time": "2022-10-18T08:17:06.154Z"
   },
   {
    "duration": 9,
    "start_time": "2022-10-18T08:17:06.177Z"
   },
   {
    "duration": 18,
    "start_time": "2022-10-18T08:17:06.187Z"
   },
   {
    "duration": 14,
    "start_time": "2022-10-18T08:17:06.206Z"
   },
   {
    "duration": 19,
    "start_time": "2022-10-18T08:17:06.222Z"
   },
   {
    "duration": 17,
    "start_time": "2022-10-18T08:17:06.243Z"
   },
   {
    "duration": 6,
    "start_time": "2022-10-18T08:17:06.262Z"
   },
   {
    "duration": 9,
    "start_time": "2022-10-18T08:17:06.269Z"
   },
   {
    "duration": 4,
    "start_time": "2022-10-18T08:17:06.297Z"
   },
   {
    "duration": 16,
    "start_time": "2022-10-18T08:17:06.302Z"
   },
   {
    "duration": 9,
    "start_time": "2022-10-18T08:17:06.320Z"
   },
   {
    "duration": 27,
    "start_time": "2022-10-18T08:17:06.330Z"
   },
   {
    "duration": 10,
    "start_time": "2022-10-18T08:17:06.359Z"
   },
   {
    "duration": 34,
    "start_time": "2022-10-18T08:17:06.370Z"
   },
   {
    "duration": 16,
    "start_time": "2022-10-18T08:17:06.406Z"
   },
   {
    "duration": 13,
    "start_time": "2022-10-18T08:17:06.423Z"
   },
   {
    "duration": 8,
    "start_time": "2022-10-18T08:17:06.437Z"
   },
   {
    "duration": 5,
    "start_time": "2022-10-18T08:17:06.447Z"
   },
   {
    "duration": 43,
    "start_time": "2022-10-18T08:17:06.454Z"
   },
   {
    "duration": 7,
    "start_time": "2022-10-18T08:17:06.498Z"
   },
   {
    "duration": 6,
    "start_time": "2022-10-18T08:17:06.509Z"
   },
   {
    "duration": 12,
    "start_time": "2022-10-18T08:17:06.516Z"
   },
   {
    "duration": 11,
    "start_time": "2022-10-18T08:17:06.530Z"
   },
   {
    "duration": 13,
    "start_time": "2022-10-18T08:17:06.542Z"
   },
   {
    "duration": 40,
    "start_time": "2022-10-18T08:17:06.558Z"
   },
   {
    "duration": 6,
    "start_time": "2022-10-18T08:17:06.599Z"
   },
   {
    "duration": 11,
    "start_time": "2022-10-18T08:17:06.606Z"
   },
   {
    "duration": 17,
    "start_time": "2022-10-18T08:17:06.619Z"
   },
   {
    "duration": 46,
    "start_time": "2022-10-18T08:17:06.638Z"
   },
   {
    "duration": 9,
    "start_time": "2022-10-18T08:17:06.699Z"
   },
   {
    "duration": 26,
    "start_time": "2022-10-18T08:17:06.710Z"
   },
   {
    "duration": 85,
    "start_time": "2022-10-18T08:17:06.738Z"
   },
   {
    "duration": 31,
    "start_time": "2022-10-18T08:17:06.825Z"
   },
   {
    "duration": 39,
    "start_time": "2022-10-18T08:17:06.858Z"
   },
   {
    "duration": 30,
    "start_time": "2022-10-18T08:17:06.899Z"
   },
   {
    "duration": 15,
    "start_time": "2022-10-18T08:17:06.931Z"
   },
   {
    "duration": 9,
    "start_time": "2022-10-18T08:17:06.948Z"
   },
   {
    "duration": 6,
    "start_time": "2022-10-18T08:17:06.959Z"
   },
   {
    "duration": 66,
    "start_time": "2022-10-18T08:17:06.967Z"
   },
   {
    "duration": 20,
    "start_time": "2022-10-18T08:17:07.035Z"
   },
   {
    "duration": 25,
    "start_time": "2022-10-18T08:17:07.057Z"
   },
   {
    "duration": 5,
    "start_time": "2022-10-18T08:17:07.097Z"
   },
   {
    "duration": 4,
    "start_time": "2022-10-18T08:17:45.385Z"
   },
   {
    "duration": 8,
    "start_time": "2022-10-18T08:17:45.391Z"
   },
   {
    "duration": 146,
    "start_time": "2022-10-18T08:17:45.401Z"
   },
   {
    "duration": 20,
    "start_time": "2022-10-18T08:17:45.550Z"
   },
   {
    "duration": 9,
    "start_time": "2022-10-18T08:17:45.572Z"
   },
   {
    "duration": 7,
    "start_time": "2022-10-18T08:17:45.583Z"
   },
   {
    "duration": 8,
    "start_time": "2022-10-18T08:17:45.592Z"
   },
   {
    "duration": 12,
    "start_time": "2022-10-18T08:17:45.601Z"
   },
   {
    "duration": 15,
    "start_time": "2022-10-18T08:17:45.614Z"
   },
   {
    "duration": 4,
    "start_time": "2022-10-18T08:17:45.632Z"
   },
   {
    "duration": 8,
    "start_time": "2022-10-18T08:17:45.638Z"
   },
   {
    "duration": 12,
    "start_time": "2022-10-18T08:17:45.648Z"
   },
   {
    "duration": 9,
    "start_time": "2022-10-18T08:17:45.662Z"
   },
   {
    "duration": 7,
    "start_time": "2022-10-18T08:17:45.696Z"
   },
   {
    "duration": 21,
    "start_time": "2022-10-18T08:17:45.705Z"
   },
   {
    "duration": 11,
    "start_time": "2022-10-18T08:17:45.728Z"
   },
   {
    "duration": 24,
    "start_time": "2022-10-18T08:17:45.740Z"
   },
   {
    "duration": 16,
    "start_time": "2022-10-18T08:17:45.765Z"
   },
   {
    "duration": 5,
    "start_time": "2022-10-18T08:17:45.797Z"
   },
   {
    "duration": 10,
    "start_time": "2022-10-18T08:17:45.804Z"
   },
   {
    "duration": 9,
    "start_time": "2022-10-18T08:17:45.816Z"
   },
   {
    "duration": 30,
    "start_time": "2022-10-18T08:17:45.827Z"
   },
   {
    "duration": 6,
    "start_time": "2022-10-18T08:17:45.858Z"
   },
   {
    "duration": 35,
    "start_time": "2022-10-18T08:17:45.866Z"
   },
   {
    "duration": 18,
    "start_time": "2022-10-18T08:17:45.902Z"
   },
   {
    "duration": 13,
    "start_time": "2022-10-18T08:17:45.922Z"
   },
   {
    "duration": 14,
    "start_time": "2022-10-18T08:17:45.937Z"
   },
   {
    "duration": 25,
    "start_time": "2022-10-18T08:17:45.954Z"
   },
   {
    "duration": 18,
    "start_time": "2022-10-18T08:17:45.982Z"
   },
   {
    "duration": 11,
    "start_time": "2022-10-18T08:17:46.001Z"
   },
   {
    "duration": 18,
    "start_time": "2022-10-18T08:17:46.015Z"
   },
   {
    "duration": 49,
    "start_time": "2022-10-18T08:17:46.034Z"
   },
   {
    "duration": 17,
    "start_time": "2022-10-18T08:17:46.084Z"
   },
   {
    "duration": 24,
    "start_time": "2022-10-18T08:17:46.103Z"
   },
   {
    "duration": 81,
    "start_time": "2022-10-18T08:17:46.129Z"
   },
   {
    "duration": 28,
    "start_time": "2022-10-18T08:17:46.211Z"
   },
   {
    "duration": 18,
    "start_time": "2022-10-18T08:17:46.241Z"
   },
   {
    "duration": 69,
    "start_time": "2022-10-18T08:17:46.261Z"
   },
   {
    "duration": 15,
    "start_time": "2022-10-18T08:17:46.332Z"
   },
   {
    "duration": 15,
    "start_time": "2022-10-18T08:17:46.349Z"
   },
   {
    "duration": 6,
    "start_time": "2022-10-18T08:17:46.365Z"
   },
   {
    "duration": 56,
    "start_time": "2022-10-18T08:17:46.373Z"
   },
   {
    "duration": 20,
    "start_time": "2022-10-18T08:17:46.430Z"
   },
   {
    "duration": 18,
    "start_time": "2022-10-18T08:17:46.451Z"
   },
   {
    "duration": 4,
    "start_time": "2022-10-18T08:17:46.471Z"
   },
   {
    "duration": 17,
    "start_time": "2022-10-18T08:17:46.497Z"
   },
   {
    "duration": 31,
    "start_time": "2022-10-18T08:19:30.724Z"
   },
   {
    "duration": 109,
    "start_time": "2022-10-18T08:20:29.676Z"
   },
   {
    "duration": 14,
    "start_time": "2022-10-18T08:20:50.207Z"
   },
   {
    "duration": 22,
    "start_time": "2022-10-18T08:21:11.824Z"
   },
   {
    "duration": 15,
    "start_time": "2022-10-18T08:21:55.232Z"
   },
   {
    "duration": 12,
    "start_time": "2022-10-18T08:22:02.131Z"
   },
   {
    "duration": 10,
    "start_time": "2022-10-18T08:22:57.920Z"
   },
   {
    "duration": 16,
    "start_time": "2022-10-18T08:26:18.869Z"
   },
   {
    "duration": 3,
    "start_time": "2022-10-18T08:28:16.340Z"
   },
   {
    "duration": 6,
    "start_time": "2022-10-18T08:28:16.345Z"
   },
   {
    "duration": 155,
    "start_time": "2022-10-18T08:28:16.353Z"
   },
   {
    "duration": 20,
    "start_time": "2022-10-18T08:28:16.510Z"
   },
   {
    "duration": 9,
    "start_time": "2022-10-18T08:28:16.532Z"
   },
   {
    "duration": 10,
    "start_time": "2022-10-18T08:28:16.542Z"
   },
   {
    "duration": 12,
    "start_time": "2022-10-18T08:28:16.554Z"
   },
   {
    "duration": 16,
    "start_time": "2022-10-18T08:28:16.567Z"
   },
   {
    "duration": 29,
    "start_time": "2022-10-18T08:28:16.585Z"
   },
   {
    "duration": 6,
    "start_time": "2022-10-18T08:28:16.617Z"
   },
   {
    "duration": 6,
    "start_time": "2022-10-18T08:28:16.624Z"
   },
   {
    "duration": 6,
    "start_time": "2022-10-18T08:28:16.631Z"
   },
   {
    "duration": 8,
    "start_time": "2022-10-18T08:28:16.638Z"
   },
   {
    "duration": 11,
    "start_time": "2022-10-18T08:28:16.648Z"
   },
   {
    "duration": 21,
    "start_time": "2022-10-18T08:28:16.660Z"
   },
   {
    "duration": 31,
    "start_time": "2022-10-18T08:28:16.683Z"
   },
   {
    "duration": 21,
    "start_time": "2022-10-18T08:28:16.716Z"
   },
   {
    "duration": 16,
    "start_time": "2022-10-18T08:28:16.739Z"
   },
   {
    "duration": 6,
    "start_time": "2022-10-18T08:28:16.756Z"
   },
   {
    "duration": 7,
    "start_time": "2022-10-18T08:28:16.763Z"
   },
   {
    "duration": 32,
    "start_time": "2022-10-18T08:28:16.771Z"
   },
   {
    "duration": 6,
    "start_time": "2022-10-18T08:28:16.804Z"
   },
   {
    "duration": 11,
    "start_time": "2022-10-18T08:28:16.812Z"
   },
   {
    "duration": 10,
    "start_time": "2022-10-18T08:28:16.824Z"
   },
   {
    "duration": 12,
    "start_time": "2022-10-18T08:28:16.836Z"
   },
   {
    "duration": 9,
    "start_time": "2022-10-18T08:28:16.850Z"
   },
   {
    "duration": 3,
    "start_time": "2022-10-18T08:28:16.861Z"
   },
   {
    "duration": 4,
    "start_time": "2022-10-18T08:28:16.867Z"
   },
   {
    "duration": 14,
    "start_time": "2022-10-18T08:28:16.904Z"
   },
   {
    "duration": 40,
    "start_time": "2022-10-18T08:28:16.920Z"
   },
   {
    "duration": 5,
    "start_time": "2022-10-18T08:28:16.962Z"
   },
   {
    "duration": 39,
    "start_time": "2022-10-18T08:28:16.968Z"
   },
   {
    "duration": 58,
    "start_time": "2022-10-18T08:28:17.009Z"
   },
   {
    "duration": 43,
    "start_time": "2022-10-18T08:28:17.068Z"
   },
   {
    "duration": 18,
    "start_time": "2022-10-18T08:28:17.113Z"
   },
   {
    "duration": 24,
    "start_time": "2022-10-18T08:28:17.132Z"
   },
   {
    "duration": 15,
    "start_time": "2022-10-18T08:28:17.157Z"
   },
   {
    "duration": 36,
    "start_time": "2022-10-18T08:28:17.173Z"
   },
   {
    "duration": 8,
    "start_time": "2022-10-18T08:28:17.210Z"
   },
   {
    "duration": 43,
    "start_time": "2022-10-18T08:28:17.220Z"
   },
   {
    "duration": 18,
    "start_time": "2022-10-18T08:28:17.265Z"
   },
   {
    "duration": 9,
    "start_time": "2022-10-18T08:28:57.529Z"
   },
   {
    "duration": 3,
    "start_time": "2022-10-18T08:35:01.481Z"
   },
   {
    "duration": 29,
    "start_time": "2022-10-18T08:35:01.486Z"
   },
   {
    "duration": 166,
    "start_time": "2022-10-18T08:35:01.519Z"
   },
   {
    "duration": 32,
    "start_time": "2022-10-18T08:35:01.687Z"
   },
   {
    "duration": 31,
    "start_time": "2022-10-18T08:35:01.721Z"
   },
   {
    "duration": 15,
    "start_time": "2022-10-18T08:35:01.753Z"
   },
   {
    "duration": 20,
    "start_time": "2022-10-18T08:35:01.769Z"
   },
   {
    "duration": 62,
    "start_time": "2022-10-18T08:35:01.790Z"
   },
   {
    "duration": 18,
    "start_time": "2022-10-18T08:35:01.854Z"
   },
   {
    "duration": 7,
    "start_time": "2022-10-18T08:35:01.874Z"
   },
   {
    "duration": 19,
    "start_time": "2022-10-18T08:35:01.882Z"
   },
   {
    "duration": 25,
    "start_time": "2022-10-18T08:35:01.906Z"
   },
   {
    "duration": 10,
    "start_time": "2022-10-18T08:35:01.933Z"
   },
   {
    "duration": 28,
    "start_time": "2022-10-18T08:35:01.945Z"
   },
   {
    "duration": 32,
    "start_time": "2022-10-18T08:35:01.975Z"
   },
   {
    "duration": 35,
    "start_time": "2022-10-18T08:35:02.008Z"
   },
   {
    "duration": 41,
    "start_time": "2022-10-18T08:35:02.045Z"
   },
   {
    "duration": 35,
    "start_time": "2022-10-18T08:35:02.087Z"
   },
   {
    "duration": 18,
    "start_time": "2022-10-18T08:35:02.124Z"
   },
   {
    "duration": 7,
    "start_time": "2022-10-18T08:35:02.144Z"
   },
   {
    "duration": 6,
    "start_time": "2022-10-18T08:35:02.152Z"
   },
   {
    "duration": 4,
    "start_time": "2022-10-18T08:35:02.160Z"
   },
   {
    "duration": 15,
    "start_time": "2022-10-18T08:35:02.165Z"
   },
   {
    "duration": 11,
    "start_time": "2022-10-18T08:35:02.181Z"
   },
   {
    "duration": 39,
    "start_time": "2022-10-18T08:35:02.194Z"
   },
   {
    "duration": 13,
    "start_time": "2022-10-18T08:35:02.235Z"
   },
   {
    "duration": 5,
    "start_time": "2022-10-18T08:35:02.249Z"
   },
   {
    "duration": 9,
    "start_time": "2022-10-18T08:35:02.257Z"
   },
   {
    "duration": 38,
    "start_time": "2022-10-18T08:35:02.268Z"
   },
   {
    "duration": 59,
    "start_time": "2022-10-18T08:35:02.310Z"
   },
   {
    "duration": 7,
    "start_time": "2022-10-18T08:35:02.371Z"
   },
   {
    "duration": 43,
    "start_time": "2022-10-18T08:35:02.380Z"
   },
   {
    "duration": 56,
    "start_time": "2022-10-18T08:35:02.425Z"
   },
   {
    "duration": 46,
    "start_time": "2022-10-18T08:35:02.483Z"
   },
   {
    "duration": 18,
    "start_time": "2022-10-18T08:35:02.531Z"
   },
   {
    "duration": 25,
    "start_time": "2022-10-18T08:35:02.551Z"
   },
   {
    "duration": 48,
    "start_time": "2022-10-18T08:35:02.578Z"
   },
   {
    "duration": 15,
    "start_time": "2022-10-18T08:35:02.628Z"
   },
   {
    "duration": 6,
    "start_time": "2022-10-18T08:35:02.645Z"
   },
   {
    "duration": 130,
    "start_time": "2022-10-18T08:35:02.652Z"
   },
   {
    "duration": 10,
    "start_time": "2022-10-18T08:35:02.783Z"
   },
   {
    "duration": 42,
    "start_time": "2022-10-18T08:35:02.795Z"
   },
   {
    "duration": 13,
    "start_time": "2022-10-18T08:35:45.766Z"
   },
   {
    "duration": 13,
    "start_time": "2022-10-18T08:36:02.823Z"
   },
   {
    "duration": 5,
    "start_time": "2022-10-18T08:38:48.747Z"
   },
   {
    "duration": 5,
    "start_time": "2022-10-18T08:39:12.268Z"
   },
   {
    "duration": 12,
    "start_time": "2022-10-18T08:39:52.224Z"
   },
   {
    "duration": 9,
    "start_time": "2022-10-18T08:40:35.040Z"
   },
   {
    "duration": 7,
    "start_time": "2022-10-18T08:41:06.117Z"
   },
   {
    "duration": 74,
    "start_time": "2022-10-18T08:51:56.310Z"
   },
   {
    "duration": 80,
    "start_time": "2022-10-18T08:52:04.669Z"
   },
   {
    "duration": 7,
    "start_time": "2022-10-18T08:55:52.593Z"
   },
   {
    "duration": 14,
    "start_time": "2022-10-18T08:56:30.963Z"
   },
   {
    "duration": 20,
    "start_time": "2022-10-18T08:56:58.123Z"
   },
   {
    "duration": 1283,
    "start_time": "2022-10-18T08:57:08.276Z"
   },
   {
    "duration": 14,
    "start_time": "2022-10-18T08:57:58.411Z"
   },
   {
    "duration": 13,
    "start_time": "2022-10-18T08:59:07.961Z"
   },
   {
    "duration": 23,
    "start_time": "2022-10-18T08:59:12.821Z"
   },
   {
    "duration": 13,
    "start_time": "2022-10-18T09:04:40.102Z"
   },
   {
    "duration": 12,
    "start_time": "2022-10-18T09:07:00.402Z"
   },
   {
    "duration": 12,
    "start_time": "2022-10-18T09:07:14.811Z"
   },
   {
    "duration": 15,
    "start_time": "2022-10-18T09:08:33.262Z"
   },
   {
    "duration": 15,
    "start_time": "2022-10-18T09:08:40.531Z"
   },
   {
    "duration": 12,
    "start_time": "2022-10-18T09:08:46.395Z"
   },
   {
    "duration": 14,
    "start_time": "2022-10-18T09:08:54.585Z"
   },
   {
    "duration": 14,
    "start_time": "2022-10-18T09:09:00.372Z"
   },
   {
    "duration": 14,
    "start_time": "2022-10-18T09:09:08.845Z"
   },
   {
    "duration": 13,
    "start_time": "2022-10-18T09:11:17.945Z"
   },
   {
    "duration": 12,
    "start_time": "2022-10-18T09:11:25.329Z"
   },
   {
    "duration": 14,
    "start_time": "2022-10-18T09:11:32.452Z"
   },
   {
    "duration": 14,
    "start_time": "2022-10-18T09:11:41.934Z"
   },
   {
    "duration": 12,
    "start_time": "2022-10-18T09:11:54.267Z"
   },
   {
    "duration": 1259,
    "start_time": "2022-10-18T09:12:00.642Z"
   },
   {
    "duration": 12,
    "start_time": "2022-10-18T09:13:42.532Z"
   },
   {
    "duration": 12,
    "start_time": "2022-10-18T09:22:38.864Z"
   },
   {
    "duration": 12,
    "start_time": "2022-10-18T09:22:57.398Z"
   },
   {
    "duration": 1429,
    "start_time": "2022-10-18T09:23:20.813Z"
   },
   {
    "duration": 11,
    "start_time": "2022-10-18T09:23:41.992Z"
   },
   {
    "duration": 13,
    "start_time": "2022-10-18T09:24:10.526Z"
   },
   {
    "duration": 11,
    "start_time": "2022-10-18T09:24:16.958Z"
   },
   {
    "duration": 12,
    "start_time": "2022-10-18T09:24:34.962Z"
   },
   {
    "duration": 11,
    "start_time": "2022-10-18T09:24:46.377Z"
   },
   {
    "duration": 14,
    "start_time": "2022-10-18T09:25:07.583Z"
   },
   {
    "duration": 185,
    "start_time": "2022-10-18T09:25:17.093Z"
   },
   {
    "duration": 164,
    "start_time": "2022-10-18T09:25:42.194Z"
   },
   {
    "duration": 198,
    "start_time": "2022-10-18T09:26:37.398Z"
   },
   {
    "duration": 189,
    "start_time": "2022-10-18T09:36:15.844Z"
   },
   {
    "duration": 151,
    "start_time": "2022-10-18T09:36:32.981Z"
   },
   {
    "duration": 6,
    "start_time": "2022-10-18T09:51:33.811Z"
   },
   {
    "duration": 15,
    "start_time": "2022-10-18T09:51:39.945Z"
   },
   {
    "duration": 5,
    "start_time": "2022-10-18T09:52:12.828Z"
   },
   {
    "duration": 10,
    "start_time": "2022-10-18T09:52:50.419Z"
   },
   {
    "duration": 4,
    "start_time": "2022-10-18T09:52:59.809Z"
   },
   {
    "duration": 9,
    "start_time": "2022-10-18T09:53:46.882Z"
   },
   {
    "duration": 8,
    "start_time": "2022-10-18T09:55:25.768Z"
   },
   {
    "duration": 8,
    "start_time": "2022-10-18T10:04:08.074Z"
   },
   {
    "duration": 7,
    "start_time": "2022-10-18T10:04:32.658Z"
   },
   {
    "duration": 11,
    "start_time": "2022-10-18T10:54:15.001Z"
   },
   {
    "duration": 3,
    "start_time": "2022-10-18T10:54:54.766Z"
   },
   {
    "duration": 9,
    "start_time": "2022-10-18T10:54:54.771Z"
   },
   {
    "duration": 147,
    "start_time": "2022-10-18T10:54:54.782Z"
   },
   {
    "duration": 20,
    "start_time": "2022-10-18T10:54:54.931Z"
   },
   {
    "duration": 10,
    "start_time": "2022-10-18T10:54:54.954Z"
   },
   {
    "duration": 9,
    "start_time": "2022-10-18T10:54:54.965Z"
   },
   {
    "duration": 8,
    "start_time": "2022-10-18T10:54:54.976Z"
   },
   {
    "duration": 13,
    "start_time": "2022-10-18T10:54:54.986Z"
   },
   {
    "duration": 16,
    "start_time": "2022-10-18T10:54:55.001Z"
   },
   {
    "duration": 5,
    "start_time": "2022-10-18T10:54:55.020Z"
   },
   {
    "duration": 18,
    "start_time": "2022-10-18T10:54:55.027Z"
   },
   {
    "duration": 8,
    "start_time": "2022-10-18T10:54:55.047Z"
   },
   {
    "duration": 19,
    "start_time": "2022-10-18T10:54:55.057Z"
   },
   {
    "duration": 16,
    "start_time": "2022-10-18T10:54:55.079Z"
   },
   {
    "duration": 23,
    "start_time": "2022-10-18T10:54:55.097Z"
   },
   {
    "duration": 10,
    "start_time": "2022-10-18T10:54:55.122Z"
   },
   {
    "duration": 35,
    "start_time": "2022-10-18T10:54:55.134Z"
   },
   {
    "duration": 31,
    "start_time": "2022-10-18T10:54:55.171Z"
   },
   {
    "duration": 7,
    "start_time": "2022-10-18T10:54:55.204Z"
   },
   {
    "duration": 9,
    "start_time": "2022-10-18T10:54:55.213Z"
   },
   {
    "duration": 6,
    "start_time": "2022-10-18T10:54:55.224Z"
   },
   {
    "duration": 6,
    "start_time": "2022-10-18T10:54:55.232Z"
   },
   {
    "duration": 20,
    "start_time": "2022-10-18T10:54:55.240Z"
   },
   {
    "duration": 11,
    "start_time": "2022-10-18T10:54:55.261Z"
   },
   {
    "duration": 31,
    "start_time": "2022-10-18T10:54:55.274Z"
   },
   {
    "duration": 13,
    "start_time": "2022-10-18T10:54:55.307Z"
   },
   {
    "duration": 8,
    "start_time": "2022-10-18T10:54:55.322Z"
   },
   {
    "duration": 13,
    "start_time": "2022-10-18T10:54:55.332Z"
   },
   {
    "duration": 14,
    "start_time": "2022-10-18T10:54:55.347Z"
   },
   {
    "duration": 73,
    "start_time": "2022-10-18T10:54:55.363Z"
   },
   {
    "duration": 8,
    "start_time": "2022-10-18T10:54:55.439Z"
   },
   {
    "duration": 33,
    "start_time": "2022-10-18T10:54:55.449Z"
   },
   {
    "duration": 64,
    "start_time": "2022-10-18T10:54:55.498Z"
   },
   {
    "duration": 64,
    "start_time": "2022-10-18T10:54:55.564Z"
   },
   {
    "duration": 19,
    "start_time": "2022-10-18T10:54:55.630Z"
   },
   {
    "duration": 47,
    "start_time": "2022-10-18T10:54:55.651Z"
   },
   {
    "duration": 26,
    "start_time": "2022-10-18T10:54:55.701Z"
   },
   {
    "duration": 17,
    "start_time": "2022-10-18T10:54:55.729Z"
   },
   {
    "duration": 7,
    "start_time": "2022-10-18T10:54:55.748Z"
   },
   {
    "duration": 60,
    "start_time": "2022-10-18T10:54:55.756Z"
   },
   {
    "duration": 9,
    "start_time": "2022-10-18T10:54:55.819Z"
   },
   {
    "duration": 5,
    "start_time": "2022-10-18T10:54:55.830Z"
   },
   {
    "duration": 12,
    "start_time": "2022-10-18T10:54:55.837Z"
   },
   {
    "duration": 200,
    "start_time": "2022-10-18T10:54:55.851Z"
   },
   {
    "duration": 4,
    "start_time": "2022-10-18T10:55:33.875Z"
   },
   {
    "duration": 16,
    "start_time": "2022-10-18T10:55:54.834Z"
   },
   {
    "duration": 16,
    "start_time": "2022-10-18T10:56:04.861Z"
   },
   {
    "duration": 20,
    "start_time": "2022-10-18T10:56:40.196Z"
   },
   {
    "duration": 4,
    "start_time": "2022-10-18T10:58:52.977Z"
   },
   {
    "duration": 153,
    "start_time": "2022-10-18T11:01:45.493Z"
   },
   {
    "duration": 4,
    "start_time": "2022-10-18T11:05:47.281Z"
   },
   {
    "duration": 5,
    "start_time": "2022-10-18T11:07:29.783Z"
   },
   {
    "duration": 6,
    "start_time": "2022-10-18T11:07:43.813Z"
   },
   {
    "duration": 9,
    "start_time": "2022-10-18T11:07:55.065Z"
   },
   {
    "duration": 11,
    "start_time": "2022-10-18T11:11:05.665Z"
   },
   {
    "duration": 12,
    "start_time": "2022-10-18T11:11:25.619Z"
   },
   {
    "duration": 12,
    "start_time": "2022-10-18T11:11:47.076Z"
   },
   {
    "duration": 12,
    "start_time": "2022-10-18T11:12:01.445Z"
   },
   {
    "duration": 10,
    "start_time": "2022-10-18T11:15:42.186Z"
   },
   {
    "duration": 15,
    "start_time": "2022-10-18T11:15:56.378Z"
   },
   {
    "duration": 13,
    "start_time": "2022-10-18T11:17:22.581Z"
   },
   {
    "duration": 284,
    "start_time": "2022-10-18T11:18:08.114Z"
   },
   {
    "duration": 217,
    "start_time": "2022-10-18T11:29:40.449Z"
   },
   {
    "duration": 175,
    "start_time": "2022-10-18T11:29:49.110Z"
   },
   {
    "duration": 163,
    "start_time": "2022-10-18T11:30:41.181Z"
   },
   {
    "duration": 184,
    "start_time": "2022-10-18T11:31:12.628Z"
   },
   {
    "duration": 9,
    "start_time": "2022-10-18T11:32:24.577Z"
   },
   {
    "duration": 16,
    "start_time": "2022-10-18T11:32:45.197Z"
   },
   {
    "duration": 49,
    "start_time": "2022-10-18T14:25:54.650Z"
   },
   {
    "duration": 1408,
    "start_time": "2022-10-18T14:26:00.229Z"
   },
   {
    "duration": 3,
    "start_time": "2022-10-18T14:26:01.639Z"
   },
   {
    "duration": 426,
    "start_time": "2022-10-18T14:26:01.644Z"
   },
   {
    "duration": 30,
    "start_time": "2022-10-18T14:26:02.071Z"
   },
   {
    "duration": 15,
    "start_time": "2022-10-18T14:26:02.104Z"
   },
   {
    "duration": 6,
    "start_time": "2022-10-18T14:26:02.121Z"
   },
   {
    "duration": 16,
    "start_time": "2022-10-18T14:26:02.129Z"
   },
   {
    "duration": 18,
    "start_time": "2022-10-18T14:26:02.147Z"
   },
   {
    "duration": 28,
    "start_time": "2022-10-18T14:26:02.167Z"
   },
   {
    "duration": 5,
    "start_time": "2022-10-18T14:26:02.196Z"
   },
   {
    "duration": 4,
    "start_time": "2022-10-18T14:26:02.203Z"
   },
   {
    "duration": 8,
    "start_time": "2022-10-18T14:26:02.209Z"
   },
   {
    "duration": 7,
    "start_time": "2022-10-18T14:26:02.219Z"
   },
   {
    "duration": 8,
    "start_time": "2022-10-18T14:26:02.230Z"
   },
   {
    "duration": 32,
    "start_time": "2022-10-18T14:26:02.240Z"
   },
   {
    "duration": 34,
    "start_time": "2022-10-18T14:26:02.274Z"
   },
   {
    "duration": 32,
    "start_time": "2022-10-18T14:26:02.310Z"
   },
   {
    "duration": 15,
    "start_time": "2022-10-18T14:26:02.344Z"
   },
   {
    "duration": 15,
    "start_time": "2022-10-18T14:26:02.361Z"
   },
   {
    "duration": 7,
    "start_time": "2022-10-18T14:26:02.395Z"
   },
   {
    "duration": 10,
    "start_time": "2022-10-18T14:26:02.404Z"
   },
   {
    "duration": 4,
    "start_time": "2022-10-18T14:26:02.416Z"
   },
   {
    "duration": 13,
    "start_time": "2022-10-18T14:26:02.422Z"
   },
   {
    "duration": 12,
    "start_time": "2022-10-18T14:26:02.436Z"
   },
   {
    "duration": 13,
    "start_time": "2022-10-18T14:26:02.449Z"
   },
   {
    "duration": 44,
    "start_time": "2022-10-18T14:26:02.464Z"
   },
   {
    "duration": 7,
    "start_time": "2022-10-18T14:26:02.509Z"
   },
   {
    "duration": 5,
    "start_time": "2022-10-18T14:26:02.518Z"
   },
   {
    "duration": 16,
    "start_time": "2022-10-18T14:26:02.524Z"
   },
   {
    "duration": 56,
    "start_time": "2022-10-18T14:26:02.541Z"
   },
   {
    "duration": 6,
    "start_time": "2022-10-18T14:26:02.599Z"
   },
   {
    "duration": 25,
    "start_time": "2022-10-18T14:26:02.606Z"
   },
   {
    "duration": 74,
    "start_time": "2022-10-18T14:26:02.633Z"
   },
   {
    "duration": 28,
    "start_time": "2022-10-18T14:26:02.709Z"
   },
   {
    "duration": 16,
    "start_time": "2022-10-18T14:26:02.740Z"
   },
   {
    "duration": 53,
    "start_time": "2022-10-18T14:26:02.758Z"
   },
   {
    "duration": 17,
    "start_time": "2022-10-18T14:26:02.813Z"
   },
   {
    "duration": 8,
    "start_time": "2022-10-18T14:26:02.832Z"
   },
   {
    "duration": 7,
    "start_time": "2022-10-18T14:26:02.841Z"
   },
   {
    "duration": 58,
    "start_time": "2022-10-18T14:26:02.849Z"
   },
   {
    "duration": 9,
    "start_time": "2022-10-18T14:26:02.911Z"
   },
   {
    "duration": 6,
    "start_time": "2022-10-18T14:26:02.921Z"
   },
   {
    "duration": 214,
    "start_time": "2022-10-18T14:26:02.928Z"
   },
   {
    "duration": 184,
    "start_time": "2022-10-18T14:26:03.144Z"
   },
   {
    "duration": 176,
    "start_time": "2022-10-18T14:26:03.330Z"
   },
   {
    "duration": 17,
    "start_time": "2022-10-18T14:26:03.508Z"
   },
   {
    "duration": 75,
    "start_time": "2022-10-18T14:26:03.527Z"
   },
   {
    "duration": 8,
    "start_time": "2022-10-18T14:26:16.490Z"
   },
   {
    "duration": 21,
    "start_time": "2022-10-18T14:26:27.859Z"
   },
   {
    "duration": 84,
    "start_time": "2022-10-18T14:28:45.485Z"
   },
   {
    "duration": 185,
    "start_time": "2022-10-18T14:28:58.198Z"
   },
   {
    "duration": 177,
    "start_time": "2022-10-18T14:30:19.004Z"
   },
   {
    "duration": 1280,
    "start_time": "2022-10-19T10:58:42.517Z"
   },
   {
    "duration": 9,
    "start_time": "2022-10-19T10:58:43.799Z"
   },
   {
    "duration": 442,
    "start_time": "2022-10-19T10:58:43.810Z"
   },
   {
    "duration": 28,
    "start_time": "2022-10-19T10:58:44.255Z"
   },
   {
    "duration": 15,
    "start_time": "2022-10-19T10:58:44.285Z"
   },
   {
    "duration": 34,
    "start_time": "2022-10-19T10:58:44.302Z"
   },
   {
    "duration": 21,
    "start_time": "2022-10-19T10:58:44.337Z"
   },
   {
    "duration": 21,
    "start_time": "2022-10-19T10:58:44.360Z"
   },
   {
    "duration": 26,
    "start_time": "2022-10-19T10:58:44.383Z"
   },
   {
    "duration": 51,
    "start_time": "2022-10-19T10:58:44.413Z"
   },
   {
    "duration": 8,
    "start_time": "2022-10-19T10:58:44.465Z"
   },
   {
    "duration": 25,
    "start_time": "2022-10-19T10:58:44.475Z"
   },
   {
    "duration": 33,
    "start_time": "2022-10-19T10:58:44.501Z"
   },
   {
    "duration": 17,
    "start_time": "2022-10-19T10:58:44.537Z"
   },
   {
    "duration": 31,
    "start_time": "2022-10-19T10:58:44.556Z"
   },
   {
    "duration": 13,
    "start_time": "2022-10-19T10:58:44.589Z"
   },
   {
    "duration": 56,
    "start_time": "2022-10-19T10:58:44.604Z"
   },
   {
    "duration": 22,
    "start_time": "2022-10-19T10:58:44.662Z"
   },
   {
    "duration": 49,
    "start_time": "2022-10-19T10:58:44.685Z"
   },
   {
    "duration": 21,
    "start_time": "2022-10-19T10:58:44.736Z"
   },
   {
    "duration": 31,
    "start_time": "2022-10-19T10:58:44.759Z"
   },
   {
    "duration": 30,
    "start_time": "2022-10-19T10:58:44.792Z"
   },
   {
    "duration": 31,
    "start_time": "2022-10-19T10:58:44.823Z"
   },
   {
    "duration": 35,
    "start_time": "2022-10-19T10:58:44.856Z"
   },
   {
    "duration": 28,
    "start_time": "2022-10-19T10:58:44.894Z"
   },
   {
    "duration": 22,
    "start_time": "2022-10-19T10:58:44.924Z"
   },
   {
    "duration": 17,
    "start_time": "2022-10-19T10:58:44.948Z"
   },
   {
    "duration": 14,
    "start_time": "2022-10-19T10:58:44.967Z"
   },
   {
    "duration": 50,
    "start_time": "2022-10-19T10:58:44.983Z"
   },
   {
    "duration": 43,
    "start_time": "2022-10-19T10:58:45.034Z"
   },
   {
    "duration": 5,
    "start_time": "2022-10-19T10:58:45.079Z"
   },
   {
    "duration": 56,
    "start_time": "2022-10-19T10:58:45.085Z"
   },
   {
    "duration": 68,
    "start_time": "2022-10-19T10:58:45.143Z"
   },
   {
    "duration": 27,
    "start_time": "2022-10-19T10:58:45.216Z"
   },
   {
    "duration": 31,
    "start_time": "2022-10-19T10:58:45.244Z"
   },
   {
    "duration": 37,
    "start_time": "2022-10-19T10:58:45.276Z"
   },
   {
    "duration": 19,
    "start_time": "2022-10-19T10:58:45.317Z"
   },
   {
    "duration": 7,
    "start_time": "2022-10-19T10:58:45.338Z"
   },
   {
    "duration": 31,
    "start_time": "2022-10-19T10:58:45.347Z"
   },
   {
    "duration": 47,
    "start_time": "2022-10-19T10:58:45.379Z"
   },
   {
    "duration": 11,
    "start_time": "2022-10-19T10:58:45.430Z"
   },
   {
    "duration": 10,
    "start_time": "2022-10-19T10:58:45.443Z"
   },
   {
    "duration": 187,
    "start_time": "2022-10-19T10:58:45.455Z"
   },
   {
    "duration": 181,
    "start_time": "2022-10-19T10:58:45.644Z"
   },
   {
    "duration": 154,
    "start_time": "2022-10-19T10:58:45.826Z"
   },
   {
    "duration": 15,
    "start_time": "2022-10-19T10:58:45.981Z"
   },
   {
    "duration": 183,
    "start_time": "2022-10-19T10:58:46.005Z"
   },
   {
    "duration": 169,
    "start_time": "2022-10-19T11:01:16.936Z"
   },
   {
    "duration": 231,
    "start_time": "2022-10-19T11:06:49.733Z"
   },
   {
    "duration": 199,
    "start_time": "2022-10-19T11:07:01.699Z"
   },
   {
    "duration": 19,
    "start_time": "2022-10-19T11:36:03.661Z"
   },
   {
    "duration": 452,
    "start_time": "2022-10-19T11:36:42.561Z"
   },
   {
    "duration": 11,
    "start_time": "2022-10-19T11:38:49.903Z"
   },
   {
    "duration": 30,
    "start_time": "2022-10-19T11:45:13.208Z"
   },
   {
    "duration": 24,
    "start_time": "2022-10-19T11:54:13.777Z"
   },
   {
    "duration": 28,
    "start_time": "2022-10-19T11:54:27.297Z"
   },
   {
    "duration": 17,
    "start_time": "2022-10-19T11:58:22.409Z"
   },
   {
    "duration": 11,
    "start_time": "2022-10-19T11:58:55.206Z"
   },
   {
    "duration": 14,
    "start_time": "2022-10-19T12:03:44.193Z"
   },
   {
    "duration": 15,
    "start_time": "2022-10-19T12:03:53.226Z"
   },
   {
    "duration": 16,
    "start_time": "2022-10-19T12:05:30.069Z"
   },
   {
    "duration": 29,
    "start_time": "2022-10-19T12:05:47.539Z"
   },
   {
    "duration": 247,
    "start_time": "2022-10-19T12:05:56.691Z"
   },
   {
    "duration": 22,
    "start_time": "2022-10-19T12:07:54.274Z"
   },
   {
    "duration": 13,
    "start_time": "2022-10-19T12:09:14.349Z"
   },
   {
    "duration": 13,
    "start_time": "2022-10-19T12:09:28.953Z"
   },
   {
    "duration": 321,
    "start_time": "2022-10-19T12:09:44.734Z"
   },
   {
    "duration": 22,
    "start_time": "2022-10-19T12:10:34.640Z"
   },
   {
    "duration": 4,
    "start_time": "2022-10-19T12:11:15.819Z"
   },
   {
    "duration": 20,
    "start_time": "2022-10-19T12:11:34.920Z"
   },
   {
    "duration": 12,
    "start_time": "2022-10-19T12:12:20.812Z"
   },
   {
    "duration": 235,
    "start_time": "2022-10-19T12:14:06.429Z"
   },
   {
    "duration": 17,
    "start_time": "2022-10-19T12:17:03.716Z"
   },
   {
    "duration": 19,
    "start_time": "2022-10-19T12:17:38.856Z"
   },
   {
    "duration": 332,
    "start_time": "2022-10-19T12:17:51.335Z"
   },
   {
    "duration": 27,
    "start_time": "2022-10-19T12:22:13.691Z"
   },
   {
    "duration": 23,
    "start_time": "2022-10-19T12:22:18.664Z"
   },
   {
    "duration": 20,
    "start_time": "2022-10-19T12:22:43.537Z"
   },
   {
    "duration": 19,
    "start_time": "2022-10-19T12:24:35.484Z"
   },
   {
    "duration": 21,
    "start_time": "2022-10-19T12:25:29.420Z"
   },
   {
    "duration": 23,
    "start_time": "2022-10-19T12:25:46.774Z"
   },
   {
    "duration": 19,
    "start_time": "2022-10-19T12:26:03.007Z"
   },
   {
    "duration": 17,
    "start_time": "2022-10-19T12:26:19.015Z"
   },
   {
    "duration": 216,
    "start_time": "2022-10-19T12:26:23.225Z"
   },
   {
    "duration": 16,
    "start_time": "2022-10-19T12:27:48.523Z"
   },
   {
    "duration": 108,
    "start_time": "2022-10-19T12:28:05.047Z"
   },
   {
    "duration": 236,
    "start_time": "2022-10-19T12:28:40.600Z"
   },
   {
    "duration": 112,
    "start_time": "2022-10-19T12:30:05.979Z"
   },
   {
    "duration": 17,
    "start_time": "2022-10-19T12:30:24.861Z"
   },
   {
    "duration": 18,
    "start_time": "2022-10-19T13:15:30.375Z"
   },
   {
    "duration": 18,
    "start_time": "2022-10-19T13:15:42.811Z"
   },
   {
    "duration": 261,
    "start_time": "2022-10-19T13:15:48.893Z"
   },
   {
    "duration": 17,
    "start_time": "2022-10-19T13:21:53.818Z"
   },
   {
    "duration": 322,
    "start_time": "2022-10-19T13:21:59.220Z"
   },
   {
    "duration": 279,
    "start_time": "2022-10-19T13:24:54.232Z"
   },
   {
    "duration": 78,
    "start_time": "2022-10-19T13:25:50.298Z"
   },
   {
    "duration": 284,
    "start_time": "2022-10-19T13:26:29.749Z"
   },
   {
    "duration": 264,
    "start_time": "2022-10-19T13:26:40.455Z"
   },
   {
    "duration": 17,
    "start_time": "2022-10-19T13:27:23.926Z"
   },
   {
    "duration": 260,
    "start_time": "2022-10-19T13:28:22.340Z"
   },
   {
    "duration": 334,
    "start_time": "2022-10-19T13:29:11.450Z"
   },
   {
    "duration": 6,
    "start_time": "2022-10-19T13:58:53.016Z"
   },
   {
    "duration": 13,
    "start_time": "2022-10-19T13:59:11.730Z"
   },
   {
    "duration": 3,
    "start_time": "2022-10-19T14:00:23.316Z"
   },
   {
    "duration": 21,
    "start_time": "2022-10-19T14:00:23.321Z"
   },
   {
    "duration": 145,
    "start_time": "2022-10-19T14:00:23.344Z"
   },
   {
    "duration": 29,
    "start_time": "2022-10-19T14:00:23.491Z"
   },
   {
    "duration": 11,
    "start_time": "2022-10-19T14:00:23.522Z"
   },
   {
    "duration": 6,
    "start_time": "2022-10-19T14:00:23.535Z"
   },
   {
    "duration": 8,
    "start_time": "2022-10-19T14:00:23.543Z"
   },
   {
    "duration": 14,
    "start_time": "2022-10-19T14:00:23.553Z"
   },
   {
    "duration": 13,
    "start_time": "2022-10-19T14:00:23.568Z"
   },
   {
    "duration": 6,
    "start_time": "2022-10-19T14:00:23.583Z"
   },
   {
    "duration": 32,
    "start_time": "2022-10-19T14:00:23.590Z"
   },
   {
    "duration": 4,
    "start_time": "2022-10-19T14:00:23.624Z"
   },
   {
    "duration": 11,
    "start_time": "2022-10-19T14:00:23.630Z"
   },
   {
    "duration": 6,
    "start_time": "2022-10-19T14:00:23.644Z"
   },
   {
    "duration": 17,
    "start_time": "2022-10-19T14:00:23.652Z"
   },
   {
    "duration": 9,
    "start_time": "2022-10-19T14:00:23.670Z"
   },
   {
    "duration": 35,
    "start_time": "2022-10-19T14:00:23.681Z"
   },
   {
    "duration": 15,
    "start_time": "2022-10-19T14:00:23.721Z"
   },
   {
    "duration": 6,
    "start_time": "2022-10-19T14:00:23.738Z"
   },
   {
    "duration": 7,
    "start_time": "2022-10-19T14:00:23.746Z"
   },
   {
    "duration": 6,
    "start_time": "2022-10-19T14:00:23.755Z"
   },
   {
    "duration": 10,
    "start_time": "2022-10-19T14:00:23.763Z"
   },
   {
    "duration": 12,
    "start_time": "2022-10-19T14:00:23.775Z"
   },
   {
    "duration": 32,
    "start_time": "2022-10-19T14:00:23.788Z"
   },
   {
    "duration": 18,
    "start_time": "2022-10-19T14:00:23.821Z"
   },
   {
    "duration": 14,
    "start_time": "2022-10-19T14:00:23.841Z"
   },
   {
    "duration": 12,
    "start_time": "2022-10-19T14:00:23.856Z"
   },
   {
    "duration": 8,
    "start_time": "2022-10-19T14:00:23.869Z"
   },
   {
    "duration": 11,
    "start_time": "2022-10-19T14:00:23.878Z"
   },
   {
    "duration": 49,
    "start_time": "2022-10-19T14:00:23.891Z"
   },
   {
    "duration": 5,
    "start_time": "2022-10-19T14:00:23.942Z"
   },
   {
    "duration": 25,
    "start_time": "2022-10-19T14:00:23.949Z"
   },
   {
    "duration": 74,
    "start_time": "2022-10-19T14:00:23.975Z"
   },
   {
    "duration": 24,
    "start_time": "2022-10-19T14:00:24.050Z"
   },
   {
    "duration": 38,
    "start_time": "2022-10-19T14:00:24.076Z"
   },
   {
    "duration": 29,
    "start_time": "2022-10-19T14:00:24.116Z"
   },
   {
    "duration": 14,
    "start_time": "2022-10-19T14:00:24.146Z"
   },
   {
    "duration": 9,
    "start_time": "2022-10-19T14:00:24.161Z"
   },
   {
    "duration": 6,
    "start_time": "2022-10-19T14:00:24.171Z"
   },
   {
    "duration": 59,
    "start_time": "2022-10-19T14:00:24.178Z"
   },
   {
    "duration": 11,
    "start_time": "2022-10-19T14:00:24.241Z"
   },
   {
    "duration": 7,
    "start_time": "2022-10-19T14:00:24.254Z"
   },
   {
    "duration": 211,
    "start_time": "2022-10-19T14:00:24.263Z"
   },
   {
    "duration": 174,
    "start_time": "2022-10-19T14:00:24.476Z"
   },
   {
    "duration": 260,
    "start_time": "2022-10-19T14:00:24.651Z"
   },
   {
    "duration": 14,
    "start_time": "2022-10-19T14:00:24.920Z"
   },
   {
    "duration": 190,
    "start_time": "2022-10-19T14:00:24.935Z"
   },
   {
    "duration": 14,
    "start_time": "2022-10-19T14:00:25.127Z"
   },
   {
    "duration": 16,
    "start_time": "2022-10-19T14:00:25.142Z"
   },
   {
    "duration": 302,
    "start_time": "2022-10-19T14:00:25.160Z"
   },
   {
    "duration": 11,
    "start_time": "2022-10-19T14:00:25.463Z"
   },
   {
    "duration": 0,
    "start_time": "2022-10-19T14:00:25.476Z"
   },
   {
    "duration": 41,
    "start_time": "2022-10-19T14:00:38.123Z"
   },
   {
    "duration": 15,
    "start_time": "2022-10-19T14:08:57.236Z"
   },
   {
    "duration": 9,
    "start_time": "2022-10-19T14:09:11.987Z"
   },
   {
    "duration": 7,
    "start_time": "2022-10-19T14:09:28.711Z"
   },
   {
    "duration": 39,
    "start_time": "2022-10-19T14:22:42.891Z"
   },
   {
    "duration": 9,
    "start_time": "2022-10-19T14:23:32.390Z"
   },
   {
    "duration": 1392,
    "start_time": "2022-10-19T14:29:02.667Z"
   },
   {
    "duration": 20,
    "start_time": "2022-10-19T14:29:37.158Z"
   },
   {
    "duration": 18,
    "start_time": "2022-10-19T14:33:02.880Z"
   },
   {
    "duration": 7,
    "start_time": "2022-10-19T14:34:55.920Z"
   },
   {
    "duration": 25,
    "start_time": "2022-10-19T14:36:02.297Z"
   },
   {
    "duration": 22,
    "start_time": "2022-10-19T14:36:41.179Z"
   },
   {
    "duration": 1327,
    "start_time": "2022-10-20T08:45:08.281Z"
   },
   {
    "duration": 3,
    "start_time": "2022-10-20T08:45:09.611Z"
   },
   {
    "duration": 396,
    "start_time": "2022-10-20T08:45:09.617Z"
   },
   {
    "duration": 22,
    "start_time": "2022-10-20T08:45:10.015Z"
   },
   {
    "duration": 11,
    "start_time": "2022-10-20T08:45:10.040Z"
   },
   {
    "duration": 8,
    "start_time": "2022-10-20T08:45:10.053Z"
   },
   {
    "duration": 8,
    "start_time": "2022-10-20T08:45:10.063Z"
   },
   {
    "duration": 18,
    "start_time": "2022-10-20T08:45:10.073Z"
   },
   {
    "duration": 14,
    "start_time": "2022-10-20T08:45:10.092Z"
   },
   {
    "duration": 4,
    "start_time": "2022-10-20T08:45:10.108Z"
   },
   {
    "duration": 3,
    "start_time": "2022-10-20T08:45:10.114Z"
   },
   {
    "duration": 5,
    "start_time": "2022-10-20T08:45:10.118Z"
   },
   {
    "duration": 6,
    "start_time": "2022-10-20T08:45:10.125Z"
   },
   {
    "duration": 3,
    "start_time": "2022-10-20T08:45:10.134Z"
   },
   {
    "duration": 15,
    "start_time": "2022-10-20T08:45:10.139Z"
   },
   {
    "duration": 42,
    "start_time": "2022-10-20T08:45:10.156Z"
   },
   {
    "duration": 23,
    "start_time": "2022-10-20T08:45:10.200Z"
   },
   {
    "duration": 15,
    "start_time": "2022-10-20T08:45:10.225Z"
   },
   {
    "duration": 5,
    "start_time": "2022-10-20T08:45:10.241Z"
   },
   {
    "duration": 6,
    "start_time": "2022-10-20T08:45:10.247Z"
   },
   {
    "duration": 39,
    "start_time": "2022-10-20T08:45:10.254Z"
   },
   {
    "duration": 5,
    "start_time": "2022-10-20T08:45:10.295Z"
   },
   {
    "duration": 10,
    "start_time": "2022-10-20T08:45:10.302Z"
   },
   {
    "duration": 9,
    "start_time": "2022-10-20T08:45:10.314Z"
   },
   {
    "duration": 15,
    "start_time": "2022-10-20T08:45:10.325Z"
   },
   {
    "duration": 13,
    "start_time": "2022-10-20T08:45:10.341Z"
   },
   {
    "duration": 4,
    "start_time": "2022-10-20T08:45:10.355Z"
   },
   {
    "duration": 30,
    "start_time": "2022-10-20T08:45:10.361Z"
   },
   {
    "duration": 10,
    "start_time": "2022-10-20T08:45:10.393Z"
   },
   {
    "duration": 42,
    "start_time": "2022-10-20T08:45:10.405Z"
   },
   {
    "duration": 6,
    "start_time": "2022-10-20T08:45:10.448Z"
   },
   {
    "duration": 60,
    "start_time": "2022-10-20T08:45:10.456Z"
   },
   {
    "duration": 81,
    "start_time": "2022-10-20T08:45:10.518Z"
   },
   {
    "duration": 34,
    "start_time": "2022-10-20T08:45:10.600Z"
   },
   {
    "duration": 16,
    "start_time": "2022-10-20T08:45:10.635Z"
   },
   {
    "duration": 54,
    "start_time": "2022-10-20T08:45:10.653Z"
   },
   {
    "duration": 19,
    "start_time": "2022-10-20T08:45:10.710Z"
   },
   {
    "duration": 5,
    "start_time": "2022-10-20T08:45:10.731Z"
   },
   {
    "duration": 6,
    "start_time": "2022-10-20T08:45:10.737Z"
   },
   {
    "duration": 64,
    "start_time": "2022-10-20T08:45:10.745Z"
   },
   {
    "duration": 11,
    "start_time": "2022-10-20T08:45:10.813Z"
   },
   {
    "duration": 5,
    "start_time": "2022-10-20T08:45:10.825Z"
   },
   {
    "duration": 229,
    "start_time": "2022-10-20T08:45:10.831Z"
   },
   {
    "duration": 186,
    "start_time": "2022-10-20T08:45:11.063Z"
   },
   {
    "duration": 163,
    "start_time": "2022-10-20T08:45:11.251Z"
   },
   {
    "duration": 16,
    "start_time": "2022-10-20T08:45:11.416Z"
   },
   {
    "duration": 220,
    "start_time": "2022-10-20T08:45:11.434Z"
   },
   {
    "duration": 16,
    "start_time": "2022-10-20T08:45:11.656Z"
   },
   {
    "duration": 32,
    "start_time": "2022-10-20T08:45:11.674Z"
   },
   {
    "duration": 304,
    "start_time": "2022-10-20T08:45:11.708Z"
   },
   {
    "duration": 44,
    "start_time": "2022-10-20T08:45:12.014Z"
   },
   {
    "duration": 5,
    "start_time": "2022-10-20T08:45:12.060Z"
   },
   {
    "duration": 28,
    "start_time": "2022-10-20T08:45:12.066Z"
   },
   {
    "duration": 23,
    "start_time": "2022-10-20T08:45:12.096Z"
   },
   {
    "duration": 23,
    "start_time": "2022-10-20T08:45:12.121Z"
   },
   {
    "duration": 9,
    "start_time": "2022-10-20T08:45:12.146Z"
   },
   {
    "duration": 118,
    "start_time": "2022-10-20T08:45:12.157Z"
   },
   {
    "duration": 29,
    "start_time": "2022-10-20T08:45:12.277Z"
   },
   {
    "duration": 12,
    "start_time": "2022-10-20T08:45:12.308Z"
   },
   {
    "duration": 17,
    "start_time": "2022-10-20T08:45:12.321Z"
   },
   {
    "duration": 118,
    "start_time": "2022-10-20T09:15:09.563Z"
   },
   {
    "duration": 13,
    "start_time": "2022-10-20T09:15:16.863Z"
   },
   {
    "duration": 19,
    "start_time": "2022-10-20T09:15:46.662Z"
   },
   {
    "duration": 24,
    "start_time": "2022-10-20T09:16:08.408Z"
   },
   {
    "duration": 14,
    "start_time": "2022-10-20T09:16:44.322Z"
   },
   {
    "duration": 17,
    "start_time": "2022-10-20T09:17:01.853Z"
   },
   {
    "duration": 23,
    "start_time": "2022-10-20T09:17:07.984Z"
   },
   {
    "duration": 17,
    "start_time": "2022-10-20T09:17:18.208Z"
   },
   {
    "duration": 19,
    "start_time": "2022-10-20T09:17:30.708Z"
   },
   {
    "duration": 18,
    "start_time": "2022-10-20T09:17:39.645Z"
   },
   {
    "duration": 104,
    "start_time": "2022-10-20T09:19:05.505Z"
   },
   {
    "duration": 86,
    "start_time": "2022-10-20T09:19:47.848Z"
   },
   {
    "duration": 439,
    "start_time": "2022-10-20T09:20:03.539Z"
   },
   {
    "duration": 20,
    "start_time": "2022-10-20T09:20:21.026Z"
   },
   {
    "duration": 34,
    "start_time": "2022-10-20T09:20:25.878Z"
   },
   {
    "duration": 127,
    "start_time": "2022-10-20T09:27:58.517Z"
   },
   {
    "duration": 13,
    "start_time": "2022-10-20T09:31:22.356Z"
   },
   {
    "duration": 14,
    "start_time": "2022-10-20T09:34:08.451Z"
   },
   {
    "duration": 1186,
    "start_time": "2022-10-20T09:34:58.126Z"
   },
   {
    "duration": 221,
    "start_time": "2022-10-20T09:44:47.817Z"
   },
   {
    "duration": 146,
    "start_time": "2022-10-20T09:47:03.427Z"
   },
   {
    "duration": 178,
    "start_time": "2022-10-20T09:56:50.558Z"
   },
   {
    "duration": 2928,
    "start_time": "2022-10-20T10:05:01.237Z"
   },
   {
    "duration": 167,
    "start_time": "2022-10-20T10:05:30.731Z"
   },
   {
    "duration": 160,
    "start_time": "2022-10-20T10:11:25.577Z"
   },
   {
    "duration": 20,
    "start_time": "2022-10-20T10:20:20.592Z"
   },
   {
    "duration": 6513,
    "start_time": "2022-10-20T10:21:44.597Z"
   },
   {
    "duration": 15,
    "start_time": "2022-10-20T10:29:51.248Z"
   },
   {
    "duration": 43,
    "start_time": "2022-10-20T17:37:05.949Z"
   },
   {
    "duration": 1039,
    "start_time": "2022-10-20T17:37:12.245Z"
   },
   {
    "duration": 3,
    "start_time": "2022-10-20T17:37:13.285Z"
   },
   {
    "duration": 144,
    "start_time": "2022-10-20T17:37:13.289Z"
   },
   {
    "duration": 19,
    "start_time": "2022-10-20T17:37:13.435Z"
   },
   {
    "duration": 10,
    "start_time": "2022-10-20T17:37:13.455Z"
   },
   {
    "duration": 23,
    "start_time": "2022-10-20T17:37:13.466Z"
   },
   {
    "duration": 20,
    "start_time": "2022-10-20T17:37:13.491Z"
   },
   {
    "duration": 21,
    "start_time": "2022-10-20T17:37:13.512Z"
   },
   {
    "duration": 16,
    "start_time": "2022-10-20T17:37:13.535Z"
   },
   {
    "duration": 18,
    "start_time": "2022-10-20T17:37:13.554Z"
   },
   {
    "duration": 10,
    "start_time": "2022-10-20T17:37:13.574Z"
   },
   {
    "duration": 40,
    "start_time": "2022-10-20T17:37:13.586Z"
   },
   {
    "duration": 13,
    "start_time": "2022-10-20T17:37:13.627Z"
   },
   {
    "duration": 15,
    "start_time": "2022-10-20T17:37:13.641Z"
   },
   {
    "duration": 30,
    "start_time": "2022-10-20T17:37:13.657Z"
   },
   {
    "duration": 8,
    "start_time": "2022-10-20T17:37:13.689Z"
   },
   {
    "duration": 46,
    "start_time": "2022-10-20T17:37:13.698Z"
   },
   {
    "duration": 14,
    "start_time": "2022-10-20T17:37:13.745Z"
   },
   {
    "duration": 26,
    "start_time": "2022-10-20T17:37:13.760Z"
   },
   {
    "duration": 24,
    "start_time": "2022-10-20T17:37:13.787Z"
   },
   {
    "duration": 9,
    "start_time": "2022-10-20T17:37:13.812Z"
   },
   {
    "duration": 29,
    "start_time": "2022-10-20T17:37:13.822Z"
   },
   {
    "duration": 40,
    "start_time": "2022-10-20T17:37:13.852Z"
   },
   {
    "duration": 19,
    "start_time": "2022-10-20T17:37:13.893Z"
   },
   {
    "duration": 22,
    "start_time": "2022-10-20T17:37:13.913Z"
   },
   {
    "duration": 20,
    "start_time": "2022-10-20T17:37:13.936Z"
   },
   {
    "duration": 15,
    "start_time": "2022-10-20T17:37:13.957Z"
   },
   {
    "duration": 14,
    "start_time": "2022-10-20T17:37:13.976Z"
   },
   {
    "duration": 26,
    "start_time": "2022-10-20T17:37:13.992Z"
   },
   {
    "duration": 45,
    "start_time": "2022-10-20T17:37:14.020Z"
   },
   {
    "duration": 5,
    "start_time": "2022-10-20T17:37:14.066Z"
   },
   {
    "duration": 44,
    "start_time": "2022-10-20T17:37:14.072Z"
   },
   {
    "duration": 49,
    "start_time": "2022-10-20T17:37:14.118Z"
   },
   {
    "duration": 38,
    "start_time": "2022-10-20T17:37:14.169Z"
   },
   {
    "duration": 13,
    "start_time": "2022-10-20T17:37:14.209Z"
   },
   {
    "duration": 32,
    "start_time": "2022-10-20T17:37:14.223Z"
   },
   {
    "duration": 25,
    "start_time": "2022-10-20T17:37:14.257Z"
   },
   {
    "duration": 28,
    "start_time": "2022-10-20T17:37:14.283Z"
   },
   {
    "duration": 15,
    "start_time": "2022-10-20T17:37:14.312Z"
   },
   {
    "duration": 47,
    "start_time": "2022-10-20T17:37:14.329Z"
   },
   {
    "duration": 8,
    "start_time": "2022-10-20T17:37:14.378Z"
   },
   {
    "duration": 3,
    "start_time": "2022-10-20T17:37:14.388Z"
   },
   {
    "duration": 170,
    "start_time": "2022-10-20T17:37:14.393Z"
   },
   {
    "duration": 148,
    "start_time": "2022-10-20T17:37:14.565Z"
   },
   {
    "duration": 142,
    "start_time": "2022-10-20T17:37:14.714Z"
   },
   {
    "duration": 14,
    "start_time": "2022-10-20T17:37:14.858Z"
   },
   {
    "duration": 180,
    "start_time": "2022-10-20T17:37:14.873Z"
   },
   {
    "duration": 14,
    "start_time": "2022-10-20T17:37:15.054Z"
   },
   {
    "duration": 15,
    "start_time": "2022-10-20T17:37:15.069Z"
   },
   {
    "duration": 267,
    "start_time": "2022-10-20T17:37:15.086Z"
   },
   {
    "duration": 32,
    "start_time": "2022-10-20T17:37:15.355Z"
   },
   {
    "duration": 18,
    "start_time": "2022-10-20T17:37:15.388Z"
   },
   {
    "duration": 13,
    "start_time": "2022-10-20T17:37:15.407Z"
   },
   {
    "duration": 25,
    "start_time": "2022-10-20T17:37:15.421Z"
   },
   {
    "duration": 81,
    "start_time": "2022-10-20T17:37:15.447Z"
   },
   {
    "duration": 11,
    "start_time": "2022-10-20T17:37:15.530Z"
   },
   {
    "duration": 26,
    "start_time": "2022-10-20T17:37:15.543Z"
   },
   {
    "duration": 21,
    "start_time": "2022-10-20T17:37:15.571Z"
   },
   {
    "duration": 28,
    "start_time": "2022-10-20T17:37:15.593Z"
   },
   {
    "duration": 13,
    "start_time": "2022-10-20T17:37:15.622Z"
   },
   {
    "duration": 925,
    "start_time": "2022-10-20T17:37:15.636Z"
   },
   {
    "duration": 126,
    "start_time": "2022-10-20T17:37:16.563Z"
   },
   {
    "duration": 152,
    "start_time": "2022-10-20T17:37:16.690Z"
   },
   {
    "duration": 138,
    "start_time": "2022-10-20T17:37:16.844Z"
   },
   {
    "duration": 138,
    "start_time": "2022-10-20T17:37:16.983Z"
   },
   {
    "duration": 1074,
    "start_time": "2022-10-20T17:44:41.004Z"
   },
   {
    "duration": 3,
    "start_time": "2022-10-20T17:44:42.080Z"
   },
   {
    "duration": 136,
    "start_time": "2022-10-20T17:44:42.086Z"
   },
   {
    "duration": 19,
    "start_time": "2022-10-20T17:44:42.223Z"
   },
   {
    "duration": 11,
    "start_time": "2022-10-20T17:44:42.243Z"
   },
   {
    "duration": 9,
    "start_time": "2022-10-20T17:44:42.256Z"
   },
   {
    "duration": 10,
    "start_time": "2022-10-20T17:44:42.266Z"
   },
   {
    "duration": 14,
    "start_time": "2022-10-20T17:44:42.278Z"
   },
   {
    "duration": 20,
    "start_time": "2022-10-20T17:44:42.294Z"
   },
   {
    "duration": 4,
    "start_time": "2022-10-20T17:44:42.316Z"
   },
   {
    "duration": 4,
    "start_time": "2022-10-20T17:44:42.321Z"
   },
   {
    "duration": 7,
    "start_time": "2022-10-20T17:44:42.327Z"
   },
   {
    "duration": 5,
    "start_time": "2022-10-20T17:44:42.335Z"
   },
   {
    "duration": 5,
    "start_time": "2022-10-20T17:44:42.342Z"
   },
   {
    "duration": 14,
    "start_time": "2022-10-20T17:44:42.348Z"
   },
   {
    "duration": 9,
    "start_time": "2022-10-20T17:44:42.364Z"
   },
   {
    "duration": 47,
    "start_time": "2022-10-20T17:44:42.374Z"
   },
   {
    "duration": 13,
    "start_time": "2022-10-20T17:44:42.422Z"
   },
   {
    "duration": 7,
    "start_time": "2022-10-20T17:44:42.436Z"
   },
   {
    "duration": 5,
    "start_time": "2022-10-20T17:44:42.445Z"
   },
   {
    "duration": 17,
    "start_time": "2022-10-20T17:44:42.451Z"
   },
   {
    "duration": 9,
    "start_time": "2022-10-20T17:44:42.469Z"
   },
   {
    "duration": 10,
    "start_time": "2022-10-20T17:44:42.479Z"
   },
   {
    "duration": 20,
    "start_time": "2022-10-20T17:44:42.491Z"
   },
   {
    "duration": 15,
    "start_time": "2022-10-20T17:44:42.512Z"
   },
   {
    "duration": 11,
    "start_time": "2022-10-20T17:44:42.528Z"
   },
   {
    "duration": 3,
    "start_time": "2022-10-20T17:44:42.542Z"
   },
   {
    "duration": 6,
    "start_time": "2022-10-20T17:44:42.547Z"
   },
   {
    "duration": 9,
    "start_time": "2022-10-20T17:44:42.555Z"
   },
   {
    "duration": 58,
    "start_time": "2022-10-20T17:44:42.565Z"
   },
   {
    "duration": 5,
    "start_time": "2022-10-20T17:44:42.624Z"
   },
   {
    "duration": 24,
    "start_time": "2022-10-20T17:44:42.631Z"
   },
   {
    "duration": 72,
    "start_time": "2022-10-20T17:44:42.657Z"
   },
   {
    "duration": 29,
    "start_time": "2022-10-20T17:44:42.731Z"
   },
   {
    "duration": 16,
    "start_time": "2022-10-20T17:44:42.761Z"
   },
   {
    "duration": 44,
    "start_time": "2022-10-20T17:44:42.779Z"
   },
   {
    "duration": 17,
    "start_time": "2022-10-20T17:44:42.825Z"
   },
   {
    "duration": 8,
    "start_time": "2022-10-20T17:44:42.844Z"
   },
   {
    "duration": 7,
    "start_time": "2022-10-20T17:44:42.854Z"
   },
   {
    "duration": 55,
    "start_time": "2022-10-20T17:44:42.862Z"
   },
   {
    "duration": 8,
    "start_time": "2022-10-20T17:44:42.919Z"
   },
   {
    "duration": 4,
    "start_time": "2022-10-20T17:44:42.928Z"
   },
   {
    "duration": 173,
    "start_time": "2022-10-20T17:44:42.933Z"
   },
   {
    "duration": 159,
    "start_time": "2022-10-20T17:44:43.108Z"
   },
   {
    "duration": 142,
    "start_time": "2022-10-20T17:44:43.268Z"
   },
   {
    "duration": 14,
    "start_time": "2022-10-20T17:44:43.412Z"
   },
   {
    "duration": 181,
    "start_time": "2022-10-20T17:44:43.427Z"
   },
   {
    "duration": 14,
    "start_time": "2022-10-20T17:44:43.610Z"
   },
   {
    "duration": 15,
    "start_time": "2022-10-20T17:44:43.625Z"
   },
   {
    "duration": 273,
    "start_time": "2022-10-20T17:44:43.641Z"
   },
   {
    "duration": 33,
    "start_time": "2022-10-20T17:44:43.918Z"
   },
   {
    "duration": 4,
    "start_time": "2022-10-20T17:44:43.952Z"
   },
   {
    "duration": 13,
    "start_time": "2022-10-20T17:44:43.958Z"
   },
   {
    "duration": 33,
    "start_time": "2022-10-20T17:44:43.972Z"
   },
   {
    "duration": 82,
    "start_time": "2022-10-20T17:44:44.006Z"
   },
   {
    "duration": 20,
    "start_time": "2022-10-20T17:44:44.089Z"
   },
   {
    "duration": 20,
    "start_time": "2022-10-20T17:44:44.110Z"
   },
   {
    "duration": 19,
    "start_time": "2022-10-20T17:44:44.131Z"
   },
   {
    "duration": 13,
    "start_time": "2022-10-20T17:44:44.151Z"
   },
   {
    "duration": 938,
    "start_time": "2022-10-20T17:44:44.165Z"
   },
   {
    "duration": 133,
    "start_time": "2022-10-20T17:44:45.105Z"
   },
   {
    "duration": 132,
    "start_time": "2022-10-20T17:44:45.240Z"
   },
   {
    "duration": 132,
    "start_time": "2022-10-20T17:44:45.374Z"
   },
   {
    "duration": 161,
    "start_time": "2022-10-20T17:44:45.508Z"
   },
   {
    "duration": 60,
    "start_time": "2022-10-21T09:02:55.521Z"
   },
   {
    "duration": 1576,
    "start_time": "2022-10-21T09:03:10.215Z"
   },
   {
    "duration": 3,
    "start_time": "2022-10-21T09:03:11.794Z"
   },
   {
    "duration": 662,
    "start_time": "2022-10-21T09:03:11.802Z"
   },
   {
    "duration": 33,
    "start_time": "2022-10-21T09:03:12.466Z"
   },
   {
    "duration": 48,
    "start_time": "2022-10-21T09:03:12.503Z"
   },
   {
    "duration": 7,
    "start_time": "2022-10-21T09:03:12.553Z"
   },
   {
    "duration": 11,
    "start_time": "2022-10-21T09:03:12.562Z"
   },
   {
    "duration": 15,
    "start_time": "2022-10-21T09:03:12.575Z"
   },
   {
    "duration": 31,
    "start_time": "2022-10-21T09:03:12.592Z"
   },
   {
    "duration": 29,
    "start_time": "2022-10-21T09:03:12.625Z"
   },
   {
    "duration": 4,
    "start_time": "2022-10-21T09:03:12.656Z"
   },
   {
    "duration": 13,
    "start_time": "2022-10-21T09:03:12.661Z"
   },
   {
    "duration": 8,
    "start_time": "2022-10-21T09:03:12.676Z"
   },
   {
    "duration": 47,
    "start_time": "2022-10-21T09:03:12.696Z"
   },
   {
    "duration": 20,
    "start_time": "2022-10-21T09:03:12.745Z"
   },
   {
    "duration": 11,
    "start_time": "2022-10-21T09:03:12.766Z"
   },
   {
    "duration": 71,
    "start_time": "2022-10-21T09:03:12.778Z"
   },
   {
    "duration": 31,
    "start_time": "2022-10-21T09:03:12.851Z"
   },
   {
    "duration": 56,
    "start_time": "2022-10-21T09:03:12.884Z"
   },
   {
    "duration": 13,
    "start_time": "2022-10-21T09:03:12.942Z"
   },
   {
    "duration": 7,
    "start_time": "2022-10-21T09:03:12.957Z"
   },
   {
    "duration": 10,
    "start_time": "2022-10-21T09:03:12.965Z"
   },
   {
    "duration": 25,
    "start_time": "2022-10-21T09:03:12.977Z"
   },
   {
    "duration": 50,
    "start_time": "2022-10-21T09:03:13.003Z"
   },
   {
    "duration": 22,
    "start_time": "2022-10-21T09:03:13.055Z"
   },
   {
    "duration": 70,
    "start_time": "2022-10-21T09:03:13.078Z"
   },
   {
    "duration": 14,
    "start_time": "2022-10-21T09:03:13.151Z"
   },
   {
    "duration": 12,
    "start_time": "2022-10-21T09:03:13.167Z"
   },
   {
    "duration": 81,
    "start_time": "2022-10-21T09:03:13.181Z"
   },
   {
    "duration": 105,
    "start_time": "2022-10-21T09:03:13.264Z"
   },
   {
    "duration": 17,
    "start_time": "2022-10-21T09:03:13.371Z"
   },
   {
    "duration": 74,
    "start_time": "2022-10-21T09:03:13.390Z"
   },
   {
    "duration": 78,
    "start_time": "2022-10-21T09:03:13.466Z"
   },
   {
    "duration": 26,
    "start_time": "2022-10-21T09:03:13.546Z"
   },
   {
    "duration": 34,
    "start_time": "2022-10-21T09:03:13.592Z"
   },
   {
    "duration": 38,
    "start_time": "2022-10-21T09:03:13.633Z"
   },
   {
    "duration": 26,
    "start_time": "2022-10-21T09:03:13.672Z"
   },
   {
    "duration": 55,
    "start_time": "2022-10-21T09:03:13.700Z"
   },
   {
    "duration": 80,
    "start_time": "2022-10-21T09:03:13.757Z"
   },
   {
    "duration": 98,
    "start_time": "2022-10-21T09:03:13.839Z"
   },
   {
    "duration": 21,
    "start_time": "2022-10-21T09:03:13.944Z"
   },
   {
    "duration": 34,
    "start_time": "2022-10-21T09:03:13.967Z"
   },
   {
    "duration": 254,
    "start_time": "2022-10-21T09:03:14.014Z"
   },
   {
    "duration": 209,
    "start_time": "2022-10-21T09:03:14.270Z"
   },
   {
    "duration": 196,
    "start_time": "2022-10-21T09:03:14.480Z"
   },
   {
    "duration": 29,
    "start_time": "2022-10-21T09:03:14.678Z"
   },
   {
    "duration": 282,
    "start_time": "2022-10-21T09:03:14.714Z"
   },
   {
    "duration": 25,
    "start_time": "2022-10-21T09:03:14.998Z"
   },
   {
    "duration": 48,
    "start_time": "2022-10-21T09:03:15.026Z"
   },
   {
    "duration": 444,
    "start_time": "2022-10-21T09:03:15.076Z"
   },
   {
    "duration": 52,
    "start_time": "2022-10-21T09:03:15.522Z"
   },
   {
    "duration": 13,
    "start_time": "2022-10-21T09:03:15.576Z"
   },
   {
    "duration": 71,
    "start_time": "2022-10-21T09:03:15.591Z"
   },
   {
    "duration": 86,
    "start_time": "2022-10-21T09:03:15.664Z"
   },
   {
    "duration": 58,
    "start_time": "2022-10-21T09:03:15.752Z"
   },
   {
    "duration": 167,
    "start_time": "2022-10-21T09:03:15.812Z"
   },
   {
    "duration": 156,
    "start_time": "2022-10-21T09:03:15.981Z"
   },
   {
    "duration": 30,
    "start_time": "2022-10-21T09:03:16.139Z"
   },
   {
    "duration": 84,
    "start_time": "2022-10-21T09:03:16.170Z"
   },
   {
    "duration": 1464,
    "start_time": "2022-10-21T09:03:16.256Z"
   },
   {
    "duration": 189,
    "start_time": "2022-10-21T09:03:17.723Z"
   },
   {
    "duration": 233,
    "start_time": "2022-10-21T09:03:17.918Z"
   },
   {
    "duration": 182,
    "start_time": "2022-10-21T09:03:18.154Z"
   },
   {
    "duration": 212,
    "start_time": "2022-10-21T09:03:18.337Z"
   },
   {
    "duration": 195,
    "start_time": "2022-10-21T09:04:29.370Z"
   },
   {
    "duration": 330,
    "start_time": "2022-10-21T09:05:08.769Z"
   },
   {
    "duration": 3,
    "start_time": "2022-10-21T09:05:14.541Z"
   },
   {
    "duration": 19,
    "start_time": "2022-10-21T09:05:14.546Z"
   },
   {
    "duration": 272,
    "start_time": "2022-10-21T09:05:14.567Z"
   },
   {
    "duration": 21,
    "start_time": "2022-10-21T09:05:14.840Z"
   },
   {
    "duration": 9,
    "start_time": "2022-10-21T09:05:14.863Z"
   },
   {
    "duration": 11,
    "start_time": "2022-10-21T09:05:14.874Z"
   },
   {
    "duration": 74,
    "start_time": "2022-10-21T09:05:14.886Z"
   },
   {
    "duration": 13,
    "start_time": "2022-10-21T09:05:14.961Z"
   },
   {
    "duration": 17,
    "start_time": "2022-10-21T09:05:14.976Z"
   },
   {
    "duration": 50,
    "start_time": "2022-10-21T09:05:14.995Z"
   },
   {
    "duration": 11,
    "start_time": "2022-10-21T09:05:15.047Z"
   },
   {
    "duration": 17,
    "start_time": "2022-10-21T09:05:15.060Z"
   },
   {
    "duration": 57,
    "start_time": "2022-10-21T09:05:15.079Z"
   },
   {
    "duration": 5,
    "start_time": "2022-10-21T09:05:15.140Z"
   },
   {
    "duration": 18,
    "start_time": "2022-10-21T09:05:15.146Z"
   },
   {
    "duration": 11,
    "start_time": "2022-10-21T09:05:15.165Z"
   },
   {
    "duration": 38,
    "start_time": "2022-10-21T09:05:15.178Z"
   },
   {
    "duration": 31,
    "start_time": "2022-10-21T09:05:15.224Z"
   },
   {
    "duration": 6,
    "start_time": "2022-10-21T09:05:15.257Z"
   },
   {
    "duration": 33,
    "start_time": "2022-10-21T09:05:15.264Z"
   },
   {
    "duration": 23,
    "start_time": "2022-10-21T09:05:15.318Z"
   },
   {
    "duration": 5,
    "start_time": "2022-10-21T09:05:15.343Z"
   },
   {
    "duration": 14,
    "start_time": "2022-10-21T09:05:15.350Z"
   },
   {
    "duration": 11,
    "start_time": "2022-10-21T09:05:15.366Z"
   },
   {
    "duration": 24,
    "start_time": "2022-10-21T09:05:15.379Z"
   },
   {
    "duration": 50,
    "start_time": "2022-10-21T09:05:15.405Z"
   },
   {
    "duration": 7,
    "start_time": "2022-10-21T09:05:15.457Z"
   },
   {
    "duration": 6,
    "start_time": "2022-10-21T09:05:15.466Z"
   },
   {
    "duration": 14,
    "start_time": "2022-10-21T09:05:15.474Z"
   },
   {
    "duration": 91,
    "start_time": "2022-10-21T09:05:15.489Z"
   },
   {
    "duration": 35,
    "start_time": "2022-10-21T09:05:15.582Z"
   },
   {
    "duration": 47,
    "start_time": "2022-10-21T09:05:15.626Z"
   },
   {
    "duration": 90,
    "start_time": "2022-10-21T09:05:15.675Z"
   },
   {
    "duration": 38,
    "start_time": "2022-10-21T09:05:15.767Z"
   },
   {
    "duration": 22,
    "start_time": "2022-10-21T09:05:15.807Z"
   },
   {
    "duration": 61,
    "start_time": "2022-10-21T09:05:15.831Z"
   },
   {
    "duration": 66,
    "start_time": "2022-10-21T09:05:15.894Z"
   },
   {
    "duration": 5,
    "start_time": "2022-10-21T09:05:15.961Z"
   },
   {
    "duration": 7,
    "start_time": "2022-10-21T09:05:15.968Z"
   },
   {
    "duration": 82,
    "start_time": "2022-10-21T09:05:15.977Z"
   },
   {
    "duration": 11,
    "start_time": "2022-10-21T09:05:16.063Z"
   },
   {
    "duration": 5,
    "start_time": "2022-10-21T09:05:16.075Z"
   },
   {
    "duration": 265,
    "start_time": "2022-10-21T09:05:16.082Z"
   },
   {
    "duration": 358,
    "start_time": "2022-10-21T09:05:16.348Z"
   },
   {
    "duration": 201,
    "start_time": "2022-10-21T09:05:16.711Z"
   },
   {
    "duration": 16,
    "start_time": "2022-10-21T09:05:16.914Z"
   },
   {
    "duration": 285,
    "start_time": "2022-10-21T09:05:16.931Z"
   },
   {
    "duration": 25,
    "start_time": "2022-10-21T09:05:17.222Z"
   },
   {
    "duration": 29,
    "start_time": "2022-10-21T09:05:17.253Z"
   },
   {
    "duration": 408,
    "start_time": "2022-10-21T09:05:17.284Z"
   },
   {
    "duration": 60,
    "start_time": "2022-10-21T09:05:17.696Z"
   },
   {
    "duration": 4,
    "start_time": "2022-10-21T09:05:17.759Z"
   },
   {
    "duration": 11,
    "start_time": "2022-10-21T09:05:17.765Z"
   },
   {
    "duration": 43,
    "start_time": "2022-10-21T09:05:17.778Z"
   },
   {
    "duration": 66,
    "start_time": "2022-10-21T09:05:17.826Z"
   },
   {
    "duration": 62,
    "start_time": "2022-10-21T09:05:17.896Z"
   },
   {
    "duration": 23,
    "start_time": "2022-10-21T09:05:17.960Z"
   },
   {
    "duration": 79,
    "start_time": "2022-10-21T09:05:17.984Z"
   },
   {
    "duration": 25,
    "start_time": "2022-10-21T09:05:18.064Z"
   },
   {
    "duration": 1190,
    "start_time": "2022-10-21T09:05:18.090Z"
   },
   {
    "duration": 190,
    "start_time": "2022-10-21T09:05:19.281Z"
   },
   {
    "duration": 192,
    "start_time": "2022-10-21T09:05:19.473Z"
   },
   {
    "duration": 202,
    "start_time": "2022-10-21T09:05:19.667Z"
   },
   {
    "duration": 191,
    "start_time": "2022-10-21T09:05:19.871Z"
   },
   {
    "duration": 17,
    "start_time": "2022-10-21T09:18:35.683Z"
   },
   {
    "duration": 4,
    "start_time": "2022-10-21T09:19:15.777Z"
   },
   {
    "duration": 8,
    "start_time": "2022-10-21T09:19:20.095Z"
   },
   {
    "duration": 110,
    "start_time": "2022-10-21T09:19:20.119Z"
   },
   {
    "duration": 341,
    "start_time": "2022-10-21T09:19:20.231Z"
   },
   {
    "duration": 50,
    "start_time": "2022-10-21T09:19:20.574Z"
   },
   {
    "duration": 38,
    "start_time": "2022-10-21T09:19:20.626Z"
   },
   {
    "duration": 106,
    "start_time": "2022-10-21T09:19:20.667Z"
   },
   {
    "duration": 101,
    "start_time": "2022-10-21T09:19:20.775Z"
   },
   {
    "duration": 54,
    "start_time": "2022-10-21T09:19:20.878Z"
   },
   {
    "duration": 43,
    "start_time": "2022-10-21T09:19:20.933Z"
   },
   {
    "duration": 31,
    "start_time": "2022-10-21T09:19:20.977Z"
   },
   {
    "duration": 110,
    "start_time": "2022-10-21T09:19:21.011Z"
   },
   {
    "duration": 41,
    "start_time": "2022-10-21T09:19:21.126Z"
   },
   {
    "duration": 85,
    "start_time": "2022-10-21T09:19:21.169Z"
   },
   {
    "duration": 23,
    "start_time": "2022-10-21T09:19:21.256Z"
   },
   {
    "duration": 80,
    "start_time": "2022-10-21T09:19:21.281Z"
   },
   {
    "duration": 52,
    "start_time": "2022-10-21T09:19:21.363Z"
   },
   {
    "duration": 99,
    "start_time": "2022-10-21T09:19:21.422Z"
   },
   {
    "duration": 67,
    "start_time": "2022-10-21T09:19:21.523Z"
   },
   {
    "duration": 82,
    "start_time": "2022-10-21T09:19:21.591Z"
   },
   {
    "duration": 60,
    "start_time": "2022-10-21T09:19:21.675Z"
   },
   {
    "duration": 27,
    "start_time": "2022-10-21T09:19:21.740Z"
   },
   {
    "duration": 100,
    "start_time": "2022-10-21T09:19:21.769Z"
   },
   {
    "duration": 87,
    "start_time": "2022-10-21T09:19:21.871Z"
   },
   {
    "duration": 119,
    "start_time": "2022-10-21T09:19:21.959Z"
   },
   {
    "duration": 85,
    "start_time": "2022-10-21T09:19:22.079Z"
   },
   {
    "duration": 111,
    "start_time": "2022-10-21T09:19:22.166Z"
   },
   {
    "duration": 102,
    "start_time": "2022-10-21T09:19:22.278Z"
   },
   {
    "duration": 80,
    "start_time": "2022-10-21T09:19:22.382Z"
   },
   {
    "duration": 78,
    "start_time": "2022-10-21T09:19:22.466Z"
   },
   {
    "duration": 148,
    "start_time": "2022-10-21T09:19:22.553Z"
   },
   {
    "duration": 100,
    "start_time": "2022-10-21T09:19:22.703Z"
   },
   {
    "duration": 64,
    "start_time": "2022-10-21T09:19:22.807Z"
   },
   {
    "duration": 135,
    "start_time": "2022-10-21T09:19:22.873Z"
   },
   {
    "duration": 122,
    "start_time": "2022-10-21T09:19:23.013Z"
   },
   {
    "duration": 139,
    "start_time": "2022-10-21T09:19:23.137Z"
   },
   {
    "duration": 66,
    "start_time": "2022-10-21T09:19:23.278Z"
   },
   {
    "duration": 57,
    "start_time": "2022-10-21T09:19:23.346Z"
   },
   {
    "duration": 93,
    "start_time": "2022-10-21T09:19:23.412Z"
   },
   {
    "duration": 111,
    "start_time": "2022-10-21T09:19:23.509Z"
   },
   {
    "duration": 46,
    "start_time": "2022-10-21T09:19:23.622Z"
   },
   {
    "duration": 228,
    "start_time": "2022-10-21T09:19:23.670Z"
   },
   {
    "duration": 21,
    "start_time": "2022-10-21T09:19:23.900Z"
   },
   {
    "duration": 92,
    "start_time": "2022-10-21T09:19:23.927Z"
   },
   {
    "duration": 350,
    "start_time": "2022-10-21T09:19:24.025Z"
   },
   {
    "duration": 273,
    "start_time": "2022-10-21T09:19:24.378Z"
   },
   {
    "duration": 218,
    "start_time": "2022-10-21T09:19:24.656Z"
   },
   {
    "duration": 38,
    "start_time": "2022-10-21T09:19:24.876Z"
   },
   {
    "duration": 353,
    "start_time": "2022-10-21T09:19:24.922Z"
   },
   {
    "duration": 33,
    "start_time": "2022-10-21T09:19:25.277Z"
   },
   {
    "duration": 157,
    "start_time": "2022-10-21T09:19:25.312Z"
   },
   {
    "duration": 445,
    "start_time": "2022-10-21T09:19:25.472Z"
   },
   {
    "duration": 58,
    "start_time": "2022-10-21T09:19:25.919Z"
   },
   {
    "duration": 60,
    "start_time": "2022-10-21T09:19:25.990Z"
   },
   {
    "duration": 100,
    "start_time": "2022-10-21T09:19:26.055Z"
   },
   {
    "duration": 140,
    "start_time": "2022-10-21T09:19:26.157Z"
   },
   {
    "duration": 70,
    "start_time": "2022-10-21T09:19:26.308Z"
   },
   {
    "duration": 99,
    "start_time": "2022-10-21T09:19:26.380Z"
   },
   {
    "duration": 107,
    "start_time": "2022-10-21T09:19:26.481Z"
   },
   {
    "duration": 111,
    "start_time": "2022-10-21T09:19:26.590Z"
   },
   {
    "duration": 78,
    "start_time": "2022-10-21T09:19:26.703Z"
   },
   {
    "duration": 2722,
    "start_time": "2022-10-21T09:19:26.783Z"
   },
   {
    "duration": 219,
    "start_time": "2022-10-21T09:19:29.507Z"
   },
   {
    "duration": 213,
    "start_time": "2022-10-21T09:19:29.732Z"
   },
   {
    "duration": 197,
    "start_time": "2022-10-21T09:19:29.950Z"
   },
   {
    "duration": 181,
    "start_time": "2022-10-21T09:19:30.152Z"
   },
   {
    "duration": 6,
    "start_time": "2022-10-21T09:22:12.150Z"
   },
   {
    "duration": 9,
    "start_time": "2022-10-21T09:22:30.328Z"
   },
   {
    "duration": 16,
    "start_time": "2022-10-21T09:22:34.280Z"
   },
   {
    "duration": 61,
    "start_time": "2022-10-21T09:22:34.302Z"
   },
   {
    "duration": 492,
    "start_time": "2022-10-21T09:22:34.364Z"
   },
   {
    "duration": 45,
    "start_time": "2022-10-21T09:22:34.870Z"
   },
   {
    "duration": 59,
    "start_time": "2022-10-21T09:22:34.922Z"
   },
   {
    "duration": 57,
    "start_time": "2022-10-21T09:22:34.983Z"
   },
   {
    "duration": 53,
    "start_time": "2022-10-21T09:22:35.050Z"
   },
   {
    "duration": 67,
    "start_time": "2022-10-21T09:22:35.109Z"
   },
   {
    "duration": 59,
    "start_time": "2022-10-21T09:22:35.178Z"
   },
   {
    "duration": 42,
    "start_time": "2022-10-21T09:22:35.241Z"
   },
   {
    "duration": 77,
    "start_time": "2022-10-21T09:22:35.295Z"
   },
   {
    "duration": 89,
    "start_time": "2022-10-21T09:22:35.379Z"
   },
   {
    "duration": 82,
    "start_time": "2022-10-21T09:22:35.477Z"
   },
   {
    "duration": 23,
    "start_time": "2022-10-21T09:22:35.561Z"
   },
   {
    "duration": 70,
    "start_time": "2022-10-21T09:22:35.601Z"
   },
   {
    "duration": 35,
    "start_time": "2022-10-21T09:22:35.673Z"
   },
   {
    "duration": 65,
    "start_time": "2022-10-21T09:22:35.716Z"
   },
   {
    "duration": 117,
    "start_time": "2022-10-21T09:22:35.783Z"
   },
   {
    "duration": 101,
    "start_time": "2022-10-21T09:22:35.906Z"
   },
   {
    "duration": 61,
    "start_time": "2022-10-21T09:22:36.012Z"
   },
   {
    "duration": 90,
    "start_time": "2022-10-21T09:22:36.075Z"
   },
   {
    "duration": 26,
    "start_time": "2022-10-21T09:22:36.168Z"
   },
   {
    "duration": 74,
    "start_time": "2022-10-21T09:22:36.202Z"
   },
   {
    "duration": 49,
    "start_time": "2022-10-21T09:22:36.278Z"
   },
   {
    "duration": 112,
    "start_time": "2022-10-21T09:22:36.328Z"
   },
   {
    "duration": 99,
    "start_time": "2022-10-21T09:22:36.442Z"
   },
   {
    "duration": 152,
    "start_time": "2022-10-21T09:22:36.551Z"
   },
   {
    "duration": 40,
    "start_time": "2022-10-21T09:22:36.715Z"
   },
   {
    "duration": 20,
    "start_time": "2022-10-21T09:22:36.766Z"
   },
   {
    "duration": 114,
    "start_time": "2022-10-21T09:22:36.789Z"
   },
   {
    "duration": 163,
    "start_time": "2022-10-21T09:22:36.910Z"
   },
   {
    "duration": 30,
    "start_time": "2022-10-21T09:22:37.084Z"
   },
   {
    "duration": 97,
    "start_time": "2022-10-21T09:22:37.120Z"
   },
   {
    "duration": 155,
    "start_time": "2022-10-21T09:22:37.223Z"
   },
   {
    "duration": 81,
    "start_time": "2022-10-21T09:22:37.381Z"
   },
   {
    "duration": 115,
    "start_time": "2022-10-21T09:22:37.464Z"
   },
   {
    "duration": 106,
    "start_time": "2022-10-21T09:22:37.582Z"
   },
   {
    "duration": 85,
    "start_time": "2022-10-21T09:22:37.690Z"
   },
   {
    "duration": 172,
    "start_time": "2022-10-21T09:22:37.777Z"
   },
   {
    "duration": 38,
    "start_time": "2022-10-21T09:22:37.951Z"
   },
   {
    "duration": 313,
    "start_time": "2022-10-21T09:22:37.992Z"
   },
   {
    "duration": 27,
    "start_time": "2022-10-21T09:22:38.313Z"
   },
   {
    "duration": 24,
    "start_time": "2022-10-21T09:22:38.351Z"
   },
   {
    "duration": 495,
    "start_time": "2022-10-21T09:22:38.383Z"
   },
   {
    "duration": 334,
    "start_time": "2022-10-21T09:22:38.887Z"
   },
   {
    "duration": 394,
    "start_time": "2022-10-21T09:22:39.227Z"
   },
   {
    "duration": 42,
    "start_time": "2022-10-21T09:22:39.627Z"
   },
   {
    "duration": 403,
    "start_time": "2022-10-21T09:22:39.679Z"
   },
   {
    "duration": 42,
    "start_time": "2022-10-21T09:22:40.083Z"
   },
   {
    "duration": 72,
    "start_time": "2022-10-21T09:22:40.133Z"
   },
   {
    "duration": 476,
    "start_time": "2022-10-21T09:22:40.210Z"
   },
   {
    "duration": 103,
    "start_time": "2022-10-21T09:22:40.702Z"
   },
   {
    "duration": 118,
    "start_time": "2022-10-21T09:22:40.817Z"
   },
   {
    "duration": 33,
    "start_time": "2022-10-21T09:22:40.940Z"
   },
   {
    "duration": 42,
    "start_time": "2022-10-21T09:22:40.976Z"
   },
   {
    "duration": 113,
    "start_time": "2022-10-21T09:22:41.020Z"
   },
   {
    "duration": 129,
    "start_time": "2022-10-21T09:22:41.138Z"
   },
   {
    "duration": 74,
    "start_time": "2022-10-21T09:22:41.271Z"
   },
   {
    "duration": 80,
    "start_time": "2022-10-21T09:22:41.352Z"
   },
   {
    "duration": 48,
    "start_time": "2022-10-21T09:22:41.440Z"
   },
   {
    "duration": 1489,
    "start_time": "2022-10-21T09:22:41.490Z"
   },
   {
    "duration": 237,
    "start_time": "2022-10-21T09:22:42.985Z"
   },
   {
    "duration": 234,
    "start_time": "2022-10-21T09:22:43.228Z"
   },
   {
    "duration": 256,
    "start_time": "2022-10-21T09:22:43.465Z"
   },
   {
    "duration": 261,
    "start_time": "2022-10-21T09:22:43.736Z"
   },
   {
    "duration": 142,
    "start_time": "2022-10-21T09:24:40.475Z"
   },
   {
    "duration": 25,
    "start_time": "2022-10-21T09:24:54.481Z"
   },
   {
    "duration": 7,
    "start_time": "2022-10-21T09:25:05.406Z"
   },
   {
    "duration": 132,
    "start_time": "2022-10-21T09:25:05.415Z"
   },
   {
    "duration": 408,
    "start_time": "2022-10-21T09:25:05.549Z"
   },
   {
    "duration": 43,
    "start_time": "2022-10-21T09:25:05.964Z"
   },
   {
    "duration": 49,
    "start_time": "2022-10-21T09:25:06.012Z"
   },
   {
    "duration": 96,
    "start_time": "2022-10-21T09:25:06.067Z"
   },
   {
    "duration": 16,
    "start_time": "2022-10-21T09:25:06.167Z"
   },
   {
    "duration": 86,
    "start_time": "2022-10-21T09:25:06.190Z"
   },
   {
    "duration": 65,
    "start_time": "2022-10-21T09:25:06.279Z"
   },
   {
    "duration": 95,
    "start_time": "2022-10-21T09:25:06.349Z"
   },
   {
    "duration": 36,
    "start_time": "2022-10-21T09:25:06.446Z"
   },
   {
    "duration": 98,
    "start_time": "2022-10-21T09:25:06.484Z"
   },
   {
    "duration": 70,
    "start_time": "2022-10-21T09:25:06.589Z"
   },
   {
    "duration": 13,
    "start_time": "2022-10-21T09:25:06.664Z"
   },
   {
    "duration": 9,
    "start_time": "2022-10-21T09:25:06.679Z"
   },
   {
    "duration": 84,
    "start_time": "2022-10-21T09:25:06.689Z"
   },
   {
    "duration": 33,
    "start_time": "2022-10-21T09:25:06.775Z"
   },
   {
    "duration": 141,
    "start_time": "2022-10-21T09:25:06.818Z"
   },
   {
    "duration": 83,
    "start_time": "2022-10-21T09:25:06.964Z"
   },
   {
    "duration": 67,
    "start_time": "2022-10-21T09:25:07.054Z"
   },
   {
    "duration": 39,
    "start_time": "2022-10-21T09:25:07.130Z"
   },
   {
    "duration": 99,
    "start_time": "2022-10-21T09:25:07.180Z"
   },
   {
    "duration": 80,
    "start_time": "2022-10-21T09:25:07.282Z"
   },
   {
    "duration": 97,
    "start_time": "2022-10-21T09:25:07.366Z"
   },
   {
    "duration": 60,
    "start_time": "2022-10-21T09:25:07.467Z"
   },
   {
    "duration": 100,
    "start_time": "2022-10-21T09:25:07.529Z"
   },
   {
    "duration": 98,
    "start_time": "2022-10-21T09:25:07.631Z"
   },
   {
    "duration": 114,
    "start_time": "2022-10-21T09:25:07.731Z"
   },
   {
    "duration": 74,
    "start_time": "2022-10-21T09:25:07.847Z"
   },
   {
    "duration": 12,
    "start_time": "2022-10-21T09:25:07.923Z"
   },
   {
    "duration": 34,
    "start_time": "2022-10-21T09:25:07.941Z"
   },
   {
    "duration": 248,
    "start_time": "2022-10-21T09:25:07.978Z"
   },
   {
    "duration": 74,
    "start_time": "2022-10-21T09:25:08.234Z"
   },
   {
    "duration": 92,
    "start_time": "2022-10-21T09:25:08.317Z"
   },
   {
    "duration": 137,
    "start_time": "2022-10-21T09:25:08.412Z"
   },
   {
    "duration": 84,
    "start_time": "2022-10-21T09:25:08.560Z"
   },
   {
    "duration": 159,
    "start_time": "2022-10-21T09:25:08.646Z"
   },
   {
    "duration": 95,
    "start_time": "2022-10-21T09:25:08.817Z"
   },
   {
    "duration": 61,
    "start_time": "2022-10-21T09:25:08.917Z"
   },
   {
    "duration": 40,
    "start_time": "2022-10-21T09:25:08.980Z"
   },
   {
    "duration": 51,
    "start_time": "2022-10-21T09:25:09.024Z"
   },
   {
    "duration": 67,
    "start_time": "2022-10-21T09:25:09.077Z"
   },
   {
    "duration": 11,
    "start_time": "2022-10-21T09:25:09.146Z"
   },
   {
    "duration": 132,
    "start_time": "2022-10-21T09:25:09.159Z"
   },
   {
    "duration": 432,
    "start_time": "2022-10-21T09:25:09.293Z"
   },
   {
    "duration": 299,
    "start_time": "2022-10-21T09:25:09.727Z"
   },
   {
    "duration": 255,
    "start_time": "2022-10-21T09:25:10.033Z"
   },
   {
    "duration": 26,
    "start_time": "2022-10-21T09:25:10.294Z"
   },
   {
    "duration": 436,
    "start_time": "2022-10-21T09:25:10.326Z"
   },
   {
    "duration": 23,
    "start_time": "2022-10-21T09:25:10.768Z"
   },
   {
    "duration": 60,
    "start_time": "2022-10-21T09:25:10.802Z"
   },
   {
    "duration": 429,
    "start_time": "2022-10-21T09:25:10.865Z"
   },
   {
    "duration": 68,
    "start_time": "2022-10-21T09:25:11.296Z"
   },
   {
    "duration": 12,
    "start_time": "2022-10-21T09:25:11.367Z"
   },
   {
    "duration": 99,
    "start_time": "2022-10-21T09:25:11.382Z"
   },
   {
    "duration": 127,
    "start_time": "2022-10-21T09:25:11.483Z"
   },
   {
    "duration": 77,
    "start_time": "2022-10-21T09:25:11.612Z"
   },
   {
    "duration": 83,
    "start_time": "2022-10-21T09:25:11.695Z"
   },
   {
    "duration": 77,
    "start_time": "2022-10-21T09:25:11.780Z"
   },
   {
    "duration": 54,
    "start_time": "2022-10-21T09:25:11.859Z"
   },
   {
    "duration": 102,
    "start_time": "2022-10-21T09:25:11.915Z"
   },
   {
    "duration": 1421,
    "start_time": "2022-10-21T09:25:12.024Z"
   },
   {
    "duration": 189,
    "start_time": "2022-10-21T09:25:13.447Z"
   },
   {
    "duration": 207,
    "start_time": "2022-10-21T09:25:13.648Z"
   },
   {
    "duration": 197,
    "start_time": "2022-10-21T09:25:13.862Z"
   },
   {
    "duration": 197,
    "start_time": "2022-10-21T09:25:14.067Z"
   },
   {
    "duration": 10,
    "start_time": "2022-10-21T09:29:03.125Z"
   },
   {
    "duration": 5,
    "start_time": "2022-10-21T09:29:20.490Z"
   },
   {
    "duration": 46,
    "start_time": "2022-10-21T09:29:20.508Z"
   },
   {
    "duration": 269,
    "start_time": "2022-10-21T09:29:20.557Z"
   },
   {
    "duration": 29,
    "start_time": "2022-10-21T09:29:20.840Z"
   },
   {
    "duration": 11,
    "start_time": "2022-10-21T09:29:20.872Z"
   },
   {
    "duration": 70,
    "start_time": "2022-10-21T09:29:20.884Z"
   },
   {
    "duration": 14,
    "start_time": "2022-10-21T09:29:20.956Z"
   },
   {
    "duration": 29,
    "start_time": "2022-10-21T09:29:20.972Z"
   },
   {
    "duration": 40,
    "start_time": "2022-10-21T09:29:21.011Z"
   },
   {
    "duration": 17,
    "start_time": "2022-10-21T09:29:21.056Z"
   },
   {
    "duration": 12,
    "start_time": "2022-10-21T09:29:21.076Z"
   },
   {
    "duration": 60,
    "start_time": "2022-10-21T09:29:21.089Z"
   },
   {
    "duration": 6,
    "start_time": "2022-10-21T09:29:21.153Z"
   },
   {
    "duration": 17,
    "start_time": "2022-10-21T09:29:21.161Z"
   },
   {
    "duration": 86,
    "start_time": "2022-10-21T09:29:21.180Z"
   },
   {
    "duration": 29,
    "start_time": "2022-10-21T09:29:21.269Z"
   },
   {
    "duration": 66,
    "start_time": "2022-10-21T09:29:21.301Z"
   },
   {
    "duration": 36,
    "start_time": "2022-10-21T09:29:21.369Z"
   },
   {
    "duration": 62,
    "start_time": "2022-10-21T09:29:21.406Z"
   },
   {
    "duration": 8,
    "start_time": "2022-10-21T09:29:21.470Z"
   },
   {
    "duration": 8,
    "start_time": "2022-10-21T09:29:21.480Z"
   },
   {
    "duration": 63,
    "start_time": "2022-10-21T09:29:21.489Z"
   },
   {
    "duration": 6,
    "start_time": "2022-10-21T09:29:21.554Z"
   },
   {
    "duration": 14,
    "start_time": "2022-10-21T09:29:21.562Z"
   },
   {
    "duration": 21,
    "start_time": "2022-10-21T09:29:21.578Z"
   },
   {
    "duration": 60,
    "start_time": "2022-10-21T09:29:21.602Z"
   },
   {
    "duration": 14,
    "start_time": "2022-10-21T09:29:21.663Z"
   },
   {
    "duration": 67,
    "start_time": "2022-10-21T09:29:21.678Z"
   },
   {
    "duration": 14,
    "start_time": "2022-10-21T09:29:21.749Z"
   },
   {
    "duration": 28,
    "start_time": "2022-10-21T09:29:21.765Z"
   },
   {
    "duration": 99,
    "start_time": "2022-10-21T09:29:21.798Z"
   },
   {
    "duration": 6,
    "start_time": "2022-10-21T09:29:21.898Z"
   },
   {
    "duration": 60,
    "start_time": "2022-10-21T09:29:21.906Z"
   },
   {
    "duration": 68,
    "start_time": "2022-10-21T09:29:21.968Z"
   },
   {
    "duration": 28,
    "start_time": "2022-10-21T09:29:22.040Z"
   },
   {
    "duration": 49,
    "start_time": "2022-10-21T09:29:22.070Z"
   },
   {
    "duration": 46,
    "start_time": "2022-10-21T09:29:22.129Z"
   },
   {
    "duration": 36,
    "start_time": "2022-10-21T09:29:22.177Z"
   },
   {
    "duration": 32,
    "start_time": "2022-10-21T09:29:22.220Z"
   },
   {
    "duration": 9,
    "start_time": "2022-10-21T09:29:22.255Z"
   },
   {
    "duration": 66,
    "start_time": "2022-10-21T09:29:22.266Z"
   },
   {
    "duration": 19,
    "start_time": "2022-10-21T09:29:22.334Z"
   },
   {
    "duration": 5,
    "start_time": "2022-10-21T09:29:22.354Z"
   },
   {
    "duration": 243,
    "start_time": "2022-10-21T09:29:22.363Z"
   },
   {
    "duration": 245,
    "start_time": "2022-10-21T09:29:22.608Z"
   },
   {
    "duration": 473,
    "start_time": "2022-10-21T09:29:22.861Z"
   },
   {
    "duration": 23,
    "start_time": "2022-10-21T09:29:23.336Z"
   },
   {
    "duration": 331,
    "start_time": "2022-10-21T09:29:23.361Z"
   },
   {
    "duration": 20,
    "start_time": "2022-10-21T09:29:23.694Z"
   },
   {
    "duration": 64,
    "start_time": "2022-10-21T09:29:23.717Z"
   },
   {
    "duration": 476,
    "start_time": "2022-10-21T09:29:23.783Z"
   },
   {
    "duration": 62,
    "start_time": "2022-10-21T09:29:24.261Z"
   },
   {
    "duration": 6,
    "start_time": "2022-10-21T09:29:24.325Z"
   },
   {
    "duration": 8,
    "start_time": "2022-10-21T09:29:24.333Z"
   },
   {
    "duration": 108,
    "start_time": "2022-10-21T09:29:24.344Z"
   },
   {
    "duration": 33,
    "start_time": "2022-10-21T09:29:24.455Z"
   },
   {
    "duration": 62,
    "start_time": "2022-10-21T09:29:24.490Z"
   },
   {
    "duration": 29,
    "start_time": "2022-10-21T09:29:24.554Z"
   },
   {
    "duration": 35,
    "start_time": "2022-10-21T09:29:24.585Z"
   },
   {
    "duration": 38,
    "start_time": "2022-10-21T09:29:24.626Z"
   },
   {
    "duration": 1151,
    "start_time": "2022-10-21T09:29:24.666Z"
   },
   {
    "duration": 176,
    "start_time": "2022-10-21T09:29:25.818Z"
   },
   {
    "duration": 170,
    "start_time": "2022-10-21T09:29:25.996Z"
   },
   {
    "duration": 183,
    "start_time": "2022-10-21T09:29:26.168Z"
   },
   {
    "duration": 236,
    "start_time": "2022-10-21T09:29:26.355Z"
   },
   {
    "duration": 29,
    "start_time": "2022-10-21T09:29:53.371Z"
   },
   {
    "duration": 12,
    "start_time": "2022-10-21T09:30:13.242Z"
   },
   {
    "duration": 79,
    "start_time": "2022-10-21T09:31:19.248Z"
   },
   {
    "duration": 3,
    "start_time": "2022-10-21T09:31:28.713Z"
   },
   {
    "duration": 43,
    "start_time": "2022-10-21T09:31:28.719Z"
   },
   {
    "duration": 314,
    "start_time": "2022-10-21T09:31:28.764Z"
   },
   {
    "duration": 36,
    "start_time": "2022-10-21T09:31:29.083Z"
   },
   {
    "duration": 71,
    "start_time": "2022-10-21T09:31:29.121Z"
   },
   {
    "duration": 56,
    "start_time": "2022-10-21T09:31:29.196Z"
   },
   {
    "duration": 12,
    "start_time": "2022-10-21T09:31:29.261Z"
   },
   {
    "duration": 33,
    "start_time": "2022-10-21T09:31:29.275Z"
   },
   {
    "duration": 57,
    "start_time": "2022-10-21T09:31:29.315Z"
   },
   {
    "duration": 5,
    "start_time": "2022-10-21T09:31:29.376Z"
   },
   {
    "duration": 71,
    "start_time": "2022-10-21T09:31:29.383Z"
   },
   {
    "duration": 8,
    "start_time": "2022-10-21T09:31:29.456Z"
   },
   {
    "duration": 29,
    "start_time": "2022-10-21T09:31:29.466Z"
   },
   {
    "duration": 0,
    "start_time": "2022-10-21T09:31:29.498Z"
   },
   {
    "duration": 0,
    "start_time": "2022-10-21T09:31:29.499Z"
   },
   {
    "duration": 0,
    "start_time": "2022-10-21T09:31:29.500Z"
   },
   {
    "duration": 0,
    "start_time": "2022-10-21T09:31:29.501Z"
   },
   {
    "duration": 0,
    "start_time": "2022-10-21T09:31:29.502Z"
   },
   {
    "duration": 0,
    "start_time": "2022-10-21T09:31:29.503Z"
   },
   {
    "duration": 0,
    "start_time": "2022-10-21T09:31:29.504Z"
   },
   {
    "duration": 0,
    "start_time": "2022-10-21T09:31:29.507Z"
   },
   {
    "duration": 0,
    "start_time": "2022-10-21T09:31:29.508Z"
   },
   {
    "duration": 0,
    "start_time": "2022-10-21T09:31:29.509Z"
   },
   {
    "duration": 0,
    "start_time": "2022-10-21T09:31:29.510Z"
   },
   {
    "duration": 0,
    "start_time": "2022-10-21T09:31:29.512Z"
   },
   {
    "duration": 0,
    "start_time": "2022-10-21T09:31:29.513Z"
   },
   {
    "duration": 0,
    "start_time": "2022-10-21T09:31:29.514Z"
   },
   {
    "duration": 0,
    "start_time": "2022-10-21T09:31:29.516Z"
   },
   {
    "duration": 0,
    "start_time": "2022-10-21T09:31:29.517Z"
   },
   {
    "duration": 0,
    "start_time": "2022-10-21T09:31:29.520Z"
   },
   {
    "duration": 0,
    "start_time": "2022-10-21T09:31:29.521Z"
   },
   {
    "duration": 0,
    "start_time": "2022-10-21T09:31:29.523Z"
   },
   {
    "duration": 0,
    "start_time": "2022-10-21T09:31:29.524Z"
   },
   {
    "duration": 0,
    "start_time": "2022-10-21T09:31:29.525Z"
   },
   {
    "duration": 0,
    "start_time": "2022-10-21T09:31:29.526Z"
   },
   {
    "duration": 0,
    "start_time": "2022-10-21T09:31:29.529Z"
   },
   {
    "duration": 0,
    "start_time": "2022-10-21T09:31:29.531Z"
   },
   {
    "duration": 0,
    "start_time": "2022-10-21T09:31:29.532Z"
   },
   {
    "duration": 0,
    "start_time": "2022-10-21T09:31:29.535Z"
   },
   {
    "duration": 0,
    "start_time": "2022-10-21T09:31:29.536Z"
   },
   {
    "duration": 0,
    "start_time": "2022-10-21T09:31:29.537Z"
   },
   {
    "duration": 0,
    "start_time": "2022-10-21T09:31:29.539Z"
   },
   {
    "duration": 0,
    "start_time": "2022-10-21T09:31:29.540Z"
   },
   {
    "duration": 0,
    "start_time": "2022-10-21T09:31:29.544Z"
   },
   {
    "duration": 0,
    "start_time": "2022-10-21T09:31:29.545Z"
   },
   {
    "duration": 0,
    "start_time": "2022-10-21T09:31:29.546Z"
   },
   {
    "duration": 0,
    "start_time": "2022-10-21T09:31:29.547Z"
   },
   {
    "duration": 0,
    "start_time": "2022-10-21T09:31:29.549Z"
   },
   {
    "duration": 0,
    "start_time": "2022-10-21T09:31:29.550Z"
   },
   {
    "duration": 0,
    "start_time": "2022-10-21T09:31:29.551Z"
   },
   {
    "duration": 0,
    "start_time": "2022-10-21T09:31:29.552Z"
   },
   {
    "duration": 0,
    "start_time": "2022-10-21T09:31:29.586Z"
   },
   {
    "duration": 0,
    "start_time": "2022-10-21T09:31:29.594Z"
   },
   {
    "duration": 0,
    "start_time": "2022-10-21T09:31:29.595Z"
   },
   {
    "duration": 0,
    "start_time": "2022-10-21T09:31:29.600Z"
   },
   {
    "duration": 0,
    "start_time": "2022-10-21T09:31:29.602Z"
   },
   {
    "duration": 0,
    "start_time": "2022-10-21T09:31:29.603Z"
   },
   {
    "duration": 0,
    "start_time": "2022-10-21T09:31:29.617Z"
   },
   {
    "duration": 0,
    "start_time": "2022-10-21T09:31:29.618Z"
   },
   {
    "duration": 0,
    "start_time": "2022-10-21T09:31:29.619Z"
   },
   {
    "duration": 0,
    "start_time": "2022-10-21T09:31:29.620Z"
   },
   {
    "duration": 0,
    "start_time": "2022-10-21T09:31:29.621Z"
   },
   {
    "duration": 0,
    "start_time": "2022-10-21T09:31:29.622Z"
   },
   {
    "duration": 0,
    "start_time": "2022-10-21T09:31:29.623Z"
   },
   {
    "duration": 0,
    "start_time": "2022-10-21T09:31:29.623Z"
   },
   {
    "duration": 0,
    "start_time": "2022-10-21T09:31:29.624Z"
   },
   {
    "duration": 12,
    "start_time": "2022-10-21T09:31:59.011Z"
   },
   {
    "duration": 11,
    "start_time": "2022-10-21T09:32:47.506Z"
   },
   {
    "duration": 7,
    "start_time": "2022-10-21T09:33:48.309Z"
   },
   {
    "duration": 30,
    "start_time": "2022-10-21T09:33:48.319Z"
   },
   {
    "duration": 319,
    "start_time": "2022-10-21T09:33:48.351Z"
   },
   {
    "duration": 29,
    "start_time": "2022-10-21T09:33:48.672Z"
   },
   {
    "duration": 49,
    "start_time": "2022-10-21T09:33:48.704Z"
   },
   {
    "duration": 9,
    "start_time": "2022-10-21T09:33:48.755Z"
   },
   {
    "duration": 11,
    "start_time": "2022-10-21T09:33:48.766Z"
   },
   {
    "duration": 30,
    "start_time": "2022-10-21T09:33:48.779Z"
   },
   {
    "duration": 48,
    "start_time": "2022-10-21T09:33:48.811Z"
   },
   {
    "duration": 7,
    "start_time": "2022-10-21T09:33:48.861Z"
   },
   {
    "duration": 23,
    "start_time": "2022-10-21T09:33:48.870Z"
   },
   {
    "duration": 81,
    "start_time": "2022-10-21T09:33:48.900Z"
   },
   {
    "duration": 53,
    "start_time": "2022-10-21T09:33:48.983Z"
   },
   {
    "duration": 6,
    "start_time": "2022-10-21T09:33:49.041Z"
   },
   {
    "duration": 13,
    "start_time": "2022-10-21T09:33:49.048Z"
   },
   {
    "duration": 10,
    "start_time": "2022-10-21T09:33:49.063Z"
   },
   {
    "duration": 30,
    "start_time": "2022-10-21T09:33:49.075Z"
   },
   {
    "duration": 32,
    "start_time": "2022-10-21T09:33:49.110Z"
   },
   {
    "duration": 31,
    "start_time": "2022-10-21T09:33:49.145Z"
   },
   {
    "duration": 26,
    "start_time": "2022-10-21T09:33:49.178Z"
   },
   {
    "duration": 24,
    "start_time": "2022-10-21T09:33:49.215Z"
   },
   {
    "duration": 26,
    "start_time": "2022-10-21T09:33:49.241Z"
   },
   {
    "duration": 8,
    "start_time": "2022-10-21T09:33:49.269Z"
   },
   {
    "duration": 55,
    "start_time": "2022-10-21T09:33:49.280Z"
   },
   {
    "duration": 16,
    "start_time": "2022-10-21T09:33:49.337Z"
   },
   {
    "duration": 16,
    "start_time": "2022-10-21T09:33:49.355Z"
   },
   {
    "duration": 24,
    "start_time": "2022-10-21T09:33:49.379Z"
   },
   {
    "duration": 39,
    "start_time": "2022-10-21T09:33:49.406Z"
   },
   {
    "duration": 6,
    "start_time": "2022-10-21T09:33:49.447Z"
   },
   {
    "duration": 7,
    "start_time": "2022-10-21T09:33:49.455Z"
   },
   {
    "duration": 16,
    "start_time": "2022-10-21T09:33:49.464Z"
   },
   {
    "duration": 61,
    "start_time": "2022-10-21T09:33:49.482Z"
   },
   {
    "duration": 6,
    "start_time": "2022-10-21T09:33:49.545Z"
   },
   {
    "duration": 46,
    "start_time": "2022-10-21T09:33:49.553Z"
   },
   {
    "duration": 72,
    "start_time": "2022-10-21T09:33:49.606Z"
   },
   {
    "duration": 35,
    "start_time": "2022-10-21T09:33:49.680Z"
   },
   {
    "duration": 43,
    "start_time": "2022-10-21T09:33:49.716Z"
   },
   {
    "duration": 56,
    "start_time": "2022-10-21T09:33:49.761Z"
   },
   {
    "duration": 26,
    "start_time": "2022-10-21T09:33:49.820Z"
   },
   {
    "duration": 16,
    "start_time": "2022-10-21T09:33:49.849Z"
   },
   {
    "duration": 6,
    "start_time": "2022-10-21T09:33:49.872Z"
   },
   {
    "duration": 77,
    "start_time": "2022-10-21T09:33:49.880Z"
   },
   {
    "duration": 10,
    "start_time": "2022-10-21T09:33:49.960Z"
   },
   {
    "duration": 22,
    "start_time": "2022-10-21T09:33:49.972Z"
   },
   {
    "duration": 245,
    "start_time": "2022-10-21T09:33:49.995Z"
   },
   {
    "duration": 213,
    "start_time": "2022-10-21T09:33:50.242Z"
   },
   {
    "duration": 206,
    "start_time": "2022-10-21T09:33:50.457Z"
   },
   {
    "duration": 25,
    "start_time": "2022-10-21T09:33:50.666Z"
   },
   {
    "duration": 315,
    "start_time": "2022-10-21T09:33:50.693Z"
   },
   {
    "duration": 27,
    "start_time": "2022-10-21T09:33:51.010Z"
   },
   {
    "duration": 23,
    "start_time": "2022-10-21T09:33:51.040Z"
   },
   {
    "duration": 377,
    "start_time": "2022-10-21T09:33:51.066Z"
   },
   {
    "duration": 80,
    "start_time": "2022-10-21T09:33:51.445Z"
   },
   {
    "duration": 7,
    "start_time": "2022-10-21T09:33:51.527Z"
   },
   {
    "duration": 13,
    "start_time": "2022-10-21T09:33:51.535Z"
   },
   {
    "duration": 38,
    "start_time": "2022-10-21T09:33:51.550Z"
   },
   {
    "duration": 39,
    "start_time": "2022-10-21T09:33:51.600Z"
   },
   {
    "duration": 21,
    "start_time": "2022-10-21T09:33:51.641Z"
   },
   {
    "duration": 273,
    "start_time": "2022-10-21T09:33:51.664Z"
   },
   {
    "duration": 26,
    "start_time": "2022-10-21T09:33:51.938Z"
   },
   {
    "duration": 37,
    "start_time": "2022-10-21T09:33:51.969Z"
   },
   {
    "duration": 1227,
    "start_time": "2022-10-21T09:33:52.008Z"
   },
   {
    "duration": 169,
    "start_time": "2022-10-21T09:33:53.237Z"
   },
   {
    "duration": 210,
    "start_time": "2022-10-21T09:33:53.416Z"
   },
   {
    "duration": 174,
    "start_time": "2022-10-21T09:33:53.627Z"
   },
   {
    "duration": 214,
    "start_time": "2022-10-21T09:33:53.803Z"
   },
   {
    "duration": 10,
    "start_time": "2022-10-21T09:34:37.883Z"
   },
   {
    "duration": 8,
    "start_time": "2022-10-21T09:35:00.118Z"
   },
   {
    "duration": 12,
    "start_time": "2022-10-21T09:35:08.987Z"
   },
   {
    "duration": 17,
    "start_time": "2022-10-21T09:35:21.798Z"
   },
   {
    "duration": 3,
    "start_time": "2022-10-21T09:35:32.973Z"
   },
   {
    "duration": 97,
    "start_time": "2022-10-21T09:35:32.979Z"
   },
   {
    "duration": 342,
    "start_time": "2022-10-21T09:35:33.078Z"
   },
   {
    "duration": 26,
    "start_time": "2022-10-21T09:35:33.425Z"
   },
   {
    "duration": 38,
    "start_time": "2022-10-21T09:35:33.454Z"
   },
   {
    "duration": 73,
    "start_time": "2022-10-21T09:35:33.495Z"
   },
   {
    "duration": 95,
    "start_time": "2022-10-21T09:35:33.571Z"
   },
   {
    "duration": 82,
    "start_time": "2022-10-21T09:35:33.668Z"
   },
   {
    "duration": 98,
    "start_time": "2022-10-21T09:35:33.752Z"
   },
   {
    "duration": 27,
    "start_time": "2022-10-21T09:35:33.853Z"
   },
   {
    "duration": 98,
    "start_time": "2022-10-21T09:35:33.882Z"
   },
   {
    "duration": 79,
    "start_time": "2022-10-21T09:35:33.981Z"
   },
   {
    "duration": 69,
    "start_time": "2022-10-21T09:35:34.062Z"
   },
   {
    "duration": 43,
    "start_time": "2022-10-21T09:35:34.134Z"
   },
   {
    "duration": 88,
    "start_time": "2022-10-21T09:35:34.179Z"
   },
   {
    "duration": 69,
    "start_time": "2022-10-21T09:35:34.269Z"
   },
   {
    "duration": 44,
    "start_time": "2022-10-21T09:35:34.340Z"
   },
   {
    "duration": 60,
    "start_time": "2022-10-21T09:35:34.385Z"
   },
   {
    "duration": 55,
    "start_time": "2022-10-21T09:35:34.447Z"
   },
   {
    "duration": 98,
    "start_time": "2022-10-21T09:35:34.504Z"
   },
   {
    "duration": 69,
    "start_time": "2022-10-21T09:35:34.608Z"
   },
   {
    "duration": 103,
    "start_time": "2022-10-21T09:35:34.680Z"
   },
   {
    "duration": 83,
    "start_time": "2022-10-21T09:35:34.786Z"
   },
   {
    "duration": 87,
    "start_time": "2022-10-21T09:35:34.871Z"
   },
   {
    "duration": 101,
    "start_time": "2022-10-21T09:35:34.960Z"
   },
   {
    "duration": 93,
    "start_time": "2022-10-21T09:35:35.063Z"
   },
   {
    "duration": 46,
    "start_time": "2022-10-21T09:35:35.158Z"
   },
   {
    "duration": 122,
    "start_time": "2022-10-21T09:35:35.208Z"
   },
   {
    "duration": 103,
    "start_time": "2022-10-21T09:35:35.332Z"
   },
   {
    "duration": 43,
    "start_time": "2022-10-21T09:35:35.437Z"
   },
   {
    "duration": 73,
    "start_time": "2022-10-21T09:35:35.482Z"
   },
   {
    "duration": 113,
    "start_time": "2022-10-21T09:35:35.557Z"
   },
   {
    "duration": 16,
    "start_time": "2022-10-21T09:35:35.672Z"
   },
   {
    "duration": 85,
    "start_time": "2022-10-21T09:35:35.690Z"
   },
   {
    "duration": 91,
    "start_time": "2022-10-21T09:35:35.777Z"
   },
   {
    "duration": 83,
    "start_time": "2022-10-21T09:35:35.870Z"
   },
   {
    "duration": 46,
    "start_time": "2022-10-21T09:35:35.955Z"
   },
   {
    "duration": 124,
    "start_time": "2022-10-21T09:35:36.003Z"
   },
   {
    "duration": 64,
    "start_time": "2022-10-21T09:35:36.131Z"
   },
   {
    "duration": 66,
    "start_time": "2022-10-21T09:35:36.198Z"
   },
   {
    "duration": 65,
    "start_time": "2022-10-21T09:35:36.270Z"
   },
   {
    "duration": 149,
    "start_time": "2022-10-21T09:35:36.338Z"
   },
   {
    "duration": 107,
    "start_time": "2022-10-21T09:35:36.489Z"
   },
   {
    "duration": 42,
    "start_time": "2022-10-21T09:35:36.598Z"
   },
   {
    "duration": 241,
    "start_time": "2022-10-21T09:35:36.642Z"
   },
   {
    "duration": 205,
    "start_time": "2022-10-21T09:35:36.889Z"
   },
   {
    "duration": 204,
    "start_time": "2022-10-21T09:35:37.096Z"
   },
   {
    "duration": 20,
    "start_time": "2022-10-21T09:35:37.302Z"
   },
   {
    "duration": 263,
    "start_time": "2022-10-21T09:35:37.324Z"
   },
   {
    "duration": 20,
    "start_time": "2022-10-21T09:35:37.588Z"
   },
   {
    "duration": 61,
    "start_time": "2022-10-21T09:35:37.609Z"
   },
   {
    "duration": 321,
    "start_time": "2022-10-21T09:35:37.672Z"
   },
   {
    "duration": 44,
    "start_time": "2022-10-21T09:35:37.999Z"
   },
   {
    "duration": 7,
    "start_time": "2022-10-21T09:35:38.046Z"
   },
   {
    "duration": 15,
    "start_time": "2022-10-21T09:35:38.055Z"
   },
   {
    "duration": 104,
    "start_time": "2022-10-21T09:35:38.072Z"
   },
   {
    "duration": 84,
    "start_time": "2022-10-21T09:35:38.177Z"
   },
   {
    "duration": 66,
    "start_time": "2022-10-21T09:35:38.262Z"
   },
   {
    "duration": 92,
    "start_time": "2022-10-21T09:35:38.331Z"
   },
   {
    "duration": 80,
    "start_time": "2022-10-21T09:35:38.432Z"
   },
   {
    "duration": 52,
    "start_time": "2022-10-21T09:35:38.513Z"
   },
   {
    "duration": 1293,
    "start_time": "2022-10-21T09:35:38.568Z"
   },
   {
    "duration": 184,
    "start_time": "2022-10-21T09:35:39.863Z"
   },
   {
    "duration": 168,
    "start_time": "2022-10-21T09:35:40.049Z"
   },
   {
    "duration": 175,
    "start_time": "2022-10-21T09:35:40.221Z"
   },
   {
    "duration": 167,
    "start_time": "2022-10-21T09:35:40.406Z"
   },
   {
    "duration": 125,
    "start_time": "2022-10-21T09:45:45.123Z"
   },
   {
    "duration": 7,
    "start_time": "2022-10-21T09:52:12.503Z"
   },
   {
    "duration": 4,
    "start_time": "2022-10-21T09:52:19.430Z"
   },
   {
    "duration": 39,
    "start_time": "2022-10-21T09:52:19.437Z"
   },
   {
    "duration": 644,
    "start_time": "2022-10-21T09:52:19.478Z"
   },
   {
    "duration": 38,
    "start_time": "2022-10-21T09:52:20.124Z"
   },
   {
    "duration": 82,
    "start_time": "2022-10-21T09:52:20.165Z"
   },
   {
    "duration": 32,
    "start_time": "2022-10-21T09:52:20.251Z"
   },
   {
    "duration": 72,
    "start_time": "2022-10-21T09:52:20.294Z"
   },
   {
    "duration": 101,
    "start_time": "2022-10-21T09:52:20.369Z"
   },
   {
    "duration": 38,
    "start_time": "2022-10-21T09:52:20.472Z"
   },
   {
    "duration": 54,
    "start_time": "2022-10-21T09:52:20.515Z"
   },
   {
    "duration": 81,
    "start_time": "2022-10-21T09:52:20.572Z"
   },
   {
    "duration": 90,
    "start_time": "2022-10-21T09:52:20.655Z"
   },
   {
    "duration": 41,
    "start_time": "2022-10-21T09:52:20.750Z"
   },
   {
    "duration": 77,
    "start_time": "2022-10-21T09:52:20.793Z"
   },
   {
    "duration": 86,
    "start_time": "2022-10-21T09:52:20.872Z"
   },
   {
    "duration": 108,
    "start_time": "2022-10-21T09:52:20.960Z"
   },
   {
    "duration": 95,
    "start_time": "2022-10-21T09:52:21.070Z"
   },
   {
    "duration": 115,
    "start_time": "2022-10-21T09:52:21.167Z"
   },
   {
    "duration": 113,
    "start_time": "2022-10-21T09:52:21.284Z"
   },
   {
    "duration": 59,
    "start_time": "2022-10-21T09:52:21.404Z"
   },
   {
    "duration": 86,
    "start_time": "2022-10-21T09:52:21.465Z"
   },
   {
    "duration": 44,
    "start_time": "2022-10-21T09:52:21.552Z"
   },
   {
    "duration": 167,
    "start_time": "2022-10-21T09:52:21.598Z"
   },
   {
    "duration": 87,
    "start_time": "2022-10-21T09:52:21.768Z"
   },
   {
    "duration": 77,
    "start_time": "2022-10-21T09:52:21.858Z"
   },
   {
    "duration": 69,
    "start_time": "2022-10-21T09:52:21.936Z"
   },
   {
    "duration": 93,
    "start_time": "2022-10-21T09:52:22.006Z"
   },
   {
    "duration": 76,
    "start_time": "2022-10-21T09:52:22.101Z"
   },
   {
    "duration": 140,
    "start_time": "2022-10-21T09:52:22.179Z"
   },
   {
    "duration": 130,
    "start_time": "2022-10-21T09:52:22.321Z"
   },
   {
    "duration": 119,
    "start_time": "2022-10-21T09:52:22.452Z"
   },
   {
    "duration": 11,
    "start_time": "2022-10-21T09:52:22.573Z"
   },
   {
    "duration": 101,
    "start_time": "2022-10-21T09:52:22.598Z"
   },
   {
    "duration": 72,
    "start_time": "2022-10-21T09:52:22.701Z"
   },
   {
    "duration": 125,
    "start_time": "2022-10-21T09:52:22.776Z"
   },
   {
    "duration": 57,
    "start_time": "2022-10-21T09:52:22.903Z"
   },
   {
    "duration": 65,
    "start_time": "2022-10-21T09:52:22.967Z"
   },
   {
    "duration": 31,
    "start_time": "2022-10-21T09:52:23.037Z"
   },
   {
    "duration": 87,
    "start_time": "2022-10-21T09:52:23.070Z"
   },
   {
    "duration": 74,
    "start_time": "2022-10-21T09:52:23.159Z"
   },
   {
    "duration": 98,
    "start_time": "2022-10-21T09:52:23.235Z"
   },
   {
    "duration": 99,
    "start_time": "2022-10-21T09:52:23.338Z"
   },
   {
    "duration": 33,
    "start_time": "2022-10-21T09:52:23.442Z"
   },
   {
    "duration": 305,
    "start_time": "2022-10-21T09:52:23.477Z"
   },
   {
    "duration": 251,
    "start_time": "2022-10-21T09:52:23.794Z"
   },
   {
    "duration": 201,
    "start_time": "2022-10-21T09:52:24.051Z"
   },
   {
    "duration": 19,
    "start_time": "2022-10-21T09:52:24.257Z"
   },
   {
    "duration": 288,
    "start_time": "2022-10-21T09:52:24.279Z"
   },
   {
    "duration": 39,
    "start_time": "2022-10-21T09:52:24.572Z"
   },
   {
    "duration": 63,
    "start_time": "2022-10-21T09:52:24.616Z"
   },
   {
    "duration": 517,
    "start_time": "2022-10-21T09:52:24.681Z"
   },
   {
    "duration": 59,
    "start_time": "2022-10-21T09:52:25.200Z"
   },
   {
    "duration": 26,
    "start_time": "2022-10-21T09:52:25.261Z"
   },
   {
    "duration": 162,
    "start_time": "2022-10-21T09:52:25.289Z"
   },
   {
    "duration": 100,
    "start_time": "2022-10-21T09:52:25.453Z"
   },
   {
    "duration": 115,
    "start_time": "2022-10-21T09:52:25.555Z"
   },
   {
    "duration": 10,
    "start_time": "2022-10-21T09:52:25.673Z"
   },
   {
    "duration": 47,
    "start_time": "2022-10-21T09:52:25.685Z"
   },
   {
    "duration": 40,
    "start_time": "2022-10-21T09:52:25.743Z"
   },
   {
    "duration": 84,
    "start_time": "2022-10-21T09:52:25.789Z"
   },
   {
    "duration": 1396,
    "start_time": "2022-10-21T09:52:25.876Z"
   },
   {
    "duration": 210,
    "start_time": "2022-10-21T09:52:27.274Z"
   },
   {
    "duration": 192,
    "start_time": "2022-10-21T09:52:27.491Z"
   },
   {
    "duration": 227,
    "start_time": "2022-10-21T09:52:27.685Z"
   },
   {
    "duration": 212,
    "start_time": "2022-10-21T09:52:27.918Z"
   },
   {
    "duration": 23,
    "start_time": "2022-10-21T09:59:25.903Z"
   },
   {
    "duration": 22,
    "start_time": "2022-10-21T09:59:51.759Z"
   },
   {
    "duration": 20,
    "start_time": "2022-10-21T10:00:14.695Z"
   },
   {
    "duration": 22,
    "start_time": "2022-10-21T10:00:36.536Z"
   }
  ],
  "colab": {
   "name": "DA+. Сборный проект 1. Шаблон (1).ipynb",
   "provenance": []
  },
  "kernelspec": {
   "display_name": "Python 3 (ipykernel)",
   "language": "python",
   "name": "python3"
  },
  "language_info": {
   "codemirror_mode": {
    "name": "ipython",
    "version": 3
   },
   "file_extension": ".py",
   "mimetype": "text/x-python",
   "name": "python",
   "nbconvert_exporter": "python",
   "pygments_lexer": "ipython3",
   "version": "3.9.13"
  },
  "toc": {
   "base_numbering": 1,
   "nav_menu": {
    "height": "336px",
    "width": "605px"
   },
   "number_sections": true,
   "sideBar": true,
   "skip_h1_title": true,
   "title_cell": "Table of Contents",
   "title_sidebar": "Contents",
   "toc_cell": false,
   "toc_position": {
    "height": "calc(100% - 180px)",
    "left": "10px",
    "top": "150px",
    "width": "375.375px"
   },
   "toc_section_display": true,
   "toc_window_display": true
  }
 },
 "nbformat": 4,
 "nbformat_minor": 1
}
