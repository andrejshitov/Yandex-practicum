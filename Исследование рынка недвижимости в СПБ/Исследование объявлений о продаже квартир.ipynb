{
 "cells": [
  {
   "cell_type": "markdown",
   "id": "d82faf7e",
   "metadata": {},
   "source": [
    "# Исследование объявлений о продаже квартир"
   ]
  },
  {
   "cell_type": "markdown",
   "id": "9eb62c91",
   "metadata": {},
   "source": [
    "В нашем распоряжении данные сервиса Яндекс.Недвижимость — архив объявлений о продаже квартир в Санкт-Петербурге и соседних населённых пунктов за несколько лет. Нужно определить рыночную стоимость объектов недвижимости. Задача — установить параметры. Это позволит построить автоматизированную систему: она отследит аномалии и мошенническую деятельность.\n",
    "\n",
    "По каждой квартире на продажу доступны два вида данных. Первые вписаны пользователем, вторые — получены автоматически на основе картографических данных. Например, расстояние до центра, аэропорта, ближайшего парка и водоёма."
   ]
  },
  {
   "cell_type": "markdown",
   "id": "198002f6",
   "metadata": {},
   "source": [
    "## 1. Изучение данных"
   ]
  },
  {
   "cell_type": "code",
   "execution_count": 52,
   "id": "5c7ed77f",
   "metadata": {},
   "outputs": [],
   "source": [
    "import pandas as pd\n",
    "import matplotlib as mpl\n",
    "import seaborn as sns\n",
    "import matplotlib.pyplot as plt"
   ]
  },
  {
   "cell_type": "code",
   "execution_count": 53,
   "id": "c3e43867",
   "metadata": {},
   "outputs": [
    {
     "data": {
      "text/html": [
       "<div>\n",
       "<style scoped>\n",
       "    .dataframe tbody tr th:only-of-type {\n",
       "        vertical-align: middle;\n",
       "    }\n",
       "\n",
       "    .dataframe tbody tr th {\n",
       "        vertical-align: top;\n",
       "    }\n",
       "\n",
       "    .dataframe thead th {\n",
       "        text-align: right;\n",
       "    }\n",
       "</style>\n",
       "<table border=\"1\" class=\"dataframe\">\n",
       "  <thead>\n",
       "    <tr style=\"text-align: right;\">\n",
       "      <th></th>\n",
       "      <th>total_images</th>\n",
       "      <th>last_price</th>\n",
       "      <th>total_area</th>\n",
       "      <th>first_day_exposition</th>\n",
       "      <th>rooms</th>\n",
       "      <th>ceiling_height</th>\n",
       "      <th>floors_total</th>\n",
       "      <th>living_area</th>\n",
       "      <th>floor</th>\n",
       "      <th>is_apartment</th>\n",
       "      <th>...</th>\n",
       "      <th>kitchen_area</th>\n",
       "      <th>balcony</th>\n",
       "      <th>locality_name</th>\n",
       "      <th>airports_nearest</th>\n",
       "      <th>cityCenters_nearest</th>\n",
       "      <th>parks_around3000</th>\n",
       "      <th>parks_nearest</th>\n",
       "      <th>ponds_around3000</th>\n",
       "      <th>ponds_nearest</th>\n",
       "      <th>days_exposition</th>\n",
       "    </tr>\n",
       "  </thead>\n",
       "  <tbody>\n",
       "    <tr>\n",
       "      <th>0</th>\n",
       "      <td>20</td>\n",
       "      <td>13000000.0</td>\n",
       "      <td>108.0</td>\n",
       "      <td>2019-03-07T00:00:00</td>\n",
       "      <td>3</td>\n",
       "      <td>2.70</td>\n",
       "      <td>16.0</td>\n",
       "      <td>51.0</td>\n",
       "      <td>8</td>\n",
       "      <td>NaN</td>\n",
       "      <td>...</td>\n",
       "      <td>25.0</td>\n",
       "      <td>NaN</td>\n",
       "      <td>Санкт-Петербург</td>\n",
       "      <td>18863.0</td>\n",
       "      <td>16028.0</td>\n",
       "      <td>1.0</td>\n",
       "      <td>482.0</td>\n",
       "      <td>2.0</td>\n",
       "      <td>755.0</td>\n",
       "      <td>NaN</td>\n",
       "    </tr>\n",
       "    <tr>\n",
       "      <th>1</th>\n",
       "      <td>7</td>\n",
       "      <td>3350000.0</td>\n",
       "      <td>40.4</td>\n",
       "      <td>2018-12-04T00:00:00</td>\n",
       "      <td>1</td>\n",
       "      <td>NaN</td>\n",
       "      <td>11.0</td>\n",
       "      <td>18.6</td>\n",
       "      <td>1</td>\n",
       "      <td>NaN</td>\n",
       "      <td>...</td>\n",
       "      <td>11.0</td>\n",
       "      <td>2.0</td>\n",
       "      <td>посёлок Шушары</td>\n",
       "      <td>12817.0</td>\n",
       "      <td>18603.0</td>\n",
       "      <td>0.0</td>\n",
       "      <td>NaN</td>\n",
       "      <td>0.0</td>\n",
       "      <td>NaN</td>\n",
       "      <td>81.0</td>\n",
       "    </tr>\n",
       "    <tr>\n",
       "      <th>2</th>\n",
       "      <td>10</td>\n",
       "      <td>5196000.0</td>\n",
       "      <td>56.0</td>\n",
       "      <td>2015-08-20T00:00:00</td>\n",
       "      <td>2</td>\n",
       "      <td>NaN</td>\n",
       "      <td>5.0</td>\n",
       "      <td>34.3</td>\n",
       "      <td>4</td>\n",
       "      <td>NaN</td>\n",
       "      <td>...</td>\n",
       "      <td>8.3</td>\n",
       "      <td>0.0</td>\n",
       "      <td>Санкт-Петербург</td>\n",
       "      <td>21741.0</td>\n",
       "      <td>13933.0</td>\n",
       "      <td>1.0</td>\n",
       "      <td>90.0</td>\n",
       "      <td>2.0</td>\n",
       "      <td>574.0</td>\n",
       "      <td>558.0</td>\n",
       "    </tr>\n",
       "    <tr>\n",
       "      <th>3</th>\n",
       "      <td>0</td>\n",
       "      <td>64900000.0</td>\n",
       "      <td>159.0</td>\n",
       "      <td>2015-07-24T00:00:00</td>\n",
       "      <td>3</td>\n",
       "      <td>NaN</td>\n",
       "      <td>14.0</td>\n",
       "      <td>NaN</td>\n",
       "      <td>9</td>\n",
       "      <td>NaN</td>\n",
       "      <td>...</td>\n",
       "      <td>NaN</td>\n",
       "      <td>0.0</td>\n",
       "      <td>Санкт-Петербург</td>\n",
       "      <td>28098.0</td>\n",
       "      <td>6800.0</td>\n",
       "      <td>2.0</td>\n",
       "      <td>84.0</td>\n",
       "      <td>3.0</td>\n",
       "      <td>234.0</td>\n",
       "      <td>424.0</td>\n",
       "    </tr>\n",
       "    <tr>\n",
       "      <th>4</th>\n",
       "      <td>2</td>\n",
       "      <td>10000000.0</td>\n",
       "      <td>100.0</td>\n",
       "      <td>2018-06-19T00:00:00</td>\n",
       "      <td>2</td>\n",
       "      <td>3.03</td>\n",
       "      <td>14.0</td>\n",
       "      <td>32.0</td>\n",
       "      <td>13</td>\n",
       "      <td>NaN</td>\n",
       "      <td>...</td>\n",
       "      <td>41.0</td>\n",
       "      <td>NaN</td>\n",
       "      <td>Санкт-Петербург</td>\n",
       "      <td>31856.0</td>\n",
       "      <td>8098.0</td>\n",
       "      <td>2.0</td>\n",
       "      <td>112.0</td>\n",
       "      <td>1.0</td>\n",
       "      <td>48.0</td>\n",
       "      <td>121.0</td>\n",
       "    </tr>\n",
       "  </tbody>\n",
       "</table>\n",
       "<p>5 rows × 22 columns</p>\n",
       "</div>"
      ],
      "text/plain": [
       "   total_images  last_price  total_area first_day_exposition  rooms  \\\n",
       "0            20  13000000.0       108.0  2019-03-07T00:00:00      3   \n",
       "1             7   3350000.0        40.4  2018-12-04T00:00:00      1   \n",
       "2            10   5196000.0        56.0  2015-08-20T00:00:00      2   \n",
       "3             0  64900000.0       159.0  2015-07-24T00:00:00      3   \n",
       "4             2  10000000.0       100.0  2018-06-19T00:00:00      2   \n",
       "\n",
       "   ceiling_height  floors_total  living_area  floor is_apartment  ...  \\\n",
       "0            2.70          16.0         51.0      8          NaN  ...   \n",
       "1             NaN          11.0         18.6      1          NaN  ...   \n",
       "2             NaN           5.0         34.3      4          NaN  ...   \n",
       "3             NaN          14.0          NaN      9          NaN  ...   \n",
       "4            3.03          14.0         32.0     13          NaN  ...   \n",
       "\n",
       "   kitchen_area  balcony    locality_name  airports_nearest  \\\n",
       "0          25.0      NaN  Санкт-Петербург           18863.0   \n",
       "1          11.0      2.0   посёлок Шушары           12817.0   \n",
       "2           8.3      0.0  Санкт-Петербург           21741.0   \n",
       "3           NaN      0.0  Санкт-Петербург           28098.0   \n",
       "4          41.0      NaN  Санкт-Петербург           31856.0   \n",
       "\n",
       "  cityCenters_nearest  parks_around3000  parks_nearest  ponds_around3000  \\\n",
       "0             16028.0               1.0          482.0               2.0   \n",
       "1             18603.0               0.0            NaN               0.0   \n",
       "2             13933.0               1.0           90.0               2.0   \n",
       "3              6800.0               2.0           84.0               3.0   \n",
       "4              8098.0               2.0          112.0               1.0   \n",
       "\n",
       "   ponds_nearest  days_exposition  \n",
       "0          755.0              NaN  \n",
       "1            NaN             81.0  \n",
       "2          574.0            558.0  \n",
       "3          234.0            424.0  \n",
       "4           48.0            121.0  \n",
       "\n",
       "[5 rows x 22 columns]"
      ]
     },
     "execution_count": 53,
     "metadata": {},
     "output_type": "execute_result"
    }
   ],
   "source": [
    "data = pd.read_csv('real_estate_data.csv', sep= '\\t', decimal='.')\n",
    "data.head(5)"
   ]
  },
  {
   "cell_type": "code",
   "execution_count": 54,
   "id": "40aca156",
   "metadata": {},
   "outputs": [
    {
     "name": "stdout",
     "output_type": "stream",
     "text": [
      "<class 'pandas.core.frame.DataFrame'>\n",
      "RangeIndex: 23699 entries, 0 to 23698\n",
      "Data columns (total 22 columns):\n",
      " #   Column                Non-Null Count  Dtype  \n",
      "---  ------                --------------  -----  \n",
      " 0   total_images          23699 non-null  int64  \n",
      " 1   last_price            23699 non-null  float64\n",
      " 2   total_area            23699 non-null  float64\n",
      " 3   first_day_exposition  23699 non-null  object \n",
      " 4   rooms                 23699 non-null  int64  \n",
      " 5   ceiling_height        14504 non-null  float64\n",
      " 6   floors_total          23613 non-null  float64\n",
      " 7   living_area           21796 non-null  float64\n",
      " 8   floor                 23699 non-null  int64  \n",
      " 9   is_apartment          2775 non-null   object \n",
      " 10  studio                23699 non-null  bool   \n",
      " 11  open_plan             23699 non-null  bool   \n",
      " 12  kitchen_area          21421 non-null  float64\n",
      " 13  balcony               12180 non-null  float64\n",
      " 14  locality_name         23650 non-null  object \n",
      " 15  airports_nearest      18157 non-null  float64\n",
      " 16  cityCenters_nearest   18180 non-null  float64\n",
      " 17  parks_around3000      18181 non-null  float64\n",
      " 18  parks_nearest         8079 non-null   float64\n",
      " 19  ponds_around3000      18181 non-null  float64\n",
      " 20  ponds_nearest         9110 non-null   float64\n",
      " 21  days_exposition       20518 non-null  float64\n",
      "dtypes: bool(2), float64(14), int64(3), object(3)\n",
      "memory usage: 3.7+ MB\n"
     ]
    }
   ],
   "source": [
    "data.info()"
   ]
  },
  {
   "cell_type": "code",
   "execution_count": 55,
   "id": "2caf8c76",
   "metadata": {},
   "outputs": [],
   "source": [
    "data['first_day_exposition'] = pd.to_datetime(data['first_day_exposition'], format= '%Y-%m-%d')"
   ]
  },
  {
   "cell_type": "code",
   "execution_count": 56,
   "id": "343fff8c",
   "metadata": {},
   "outputs": [
    {
     "name": "stdout",
     "output_type": "stream",
     "text": [
      "<class 'pandas.core.frame.DataFrame'>\n",
      "RangeIndex: 23699 entries, 0 to 23698\n",
      "Data columns (total 22 columns):\n",
      " #   Column                Non-Null Count  Dtype         \n",
      "---  ------                --------------  -----         \n",
      " 0   total_images          23699 non-null  int64         \n",
      " 1   last_price            23699 non-null  float64       \n",
      " 2   total_area            23699 non-null  float64       \n",
      " 3   first_day_exposition  23699 non-null  datetime64[ns]\n",
      " 4   rooms                 23699 non-null  int64         \n",
      " 5   ceiling_height        14504 non-null  float64       \n",
      " 6   floors_total          23613 non-null  float64       \n",
      " 7   living_area           21796 non-null  float64       \n",
      " 8   floor                 23699 non-null  int64         \n",
      " 9   is_apartment          2775 non-null   object        \n",
      " 10  studio                23699 non-null  bool          \n",
      " 11  open_plan             23699 non-null  bool          \n",
      " 12  kitchen_area          21421 non-null  float64       \n",
      " 13  balcony               12180 non-null  float64       \n",
      " 14  locality_name         23650 non-null  object        \n",
      " 15  airports_nearest      18157 non-null  float64       \n",
      " 16  cityCenters_nearest   18180 non-null  float64       \n",
      " 17  parks_around3000      18181 non-null  float64       \n",
      " 18  parks_nearest         8079 non-null   float64       \n",
      " 19  ponds_around3000      18181 non-null  float64       \n",
      " 20  ponds_nearest         9110 non-null   float64       \n",
      " 21  days_exposition       20518 non-null  float64       \n",
      "dtypes: bool(2), datetime64[ns](1), float64(14), int64(3), object(2)\n",
      "memory usage: 3.7+ MB\n"
     ]
    }
   ],
   "source": [
    "data.info()"
   ]
  },
  {
   "cell_type": "code",
   "execution_count": 57,
   "id": "94231d24",
   "metadata": {},
   "outputs": [
    {
     "data": {
      "text/plain": [
       "total_images                0\n",
       "last_price                  0\n",
       "total_area                  0\n",
       "first_day_exposition        0\n",
       "rooms                       0\n",
       "ceiling_height           9195\n",
       "floors_total               86\n",
       "living_area              1903\n",
       "floor                       0\n",
       "is_apartment            20924\n",
       "studio                      0\n",
       "open_plan                   0\n",
       "kitchen_area             2278\n",
       "balcony                 11519\n",
       "locality_name              49\n",
       "airports_nearest         5542\n",
       "cityCenters_nearest      5519\n",
       "parks_around3000         5518\n",
       "parks_nearest           15620\n",
       "ponds_around3000         5518\n",
       "ponds_nearest           14589\n",
       "days_exposition          3181\n",
       "dtype: int64"
      ]
     },
     "execution_count": 57,
     "metadata": {},
     "output_type": "execute_result"
    }
   ],
   "source": [
    "data.isna().sum()"
   ]
  },
  {
   "cell_type": "code",
   "execution_count": 58,
   "id": "bb485f53",
   "metadata": {},
   "outputs": [
    {
     "data": {
      "text/html": [
       "<style type=\"text/css\">\n",
       "#T_2a84a_row0_col0 {\n",
       "  background-color: #b40426;\n",
       "  color: #f1f1f1;\n",
       "}\n",
       "#T_2a84a_row1_col0 {\n",
       "  background-color: #f49a7b;\n",
       "  color: #000000;\n",
       "}\n",
       "#T_2a84a_row2_col0 {\n",
       "  background-color: #f7ad90;\n",
       "  color: #000000;\n",
       "}\n",
       "#T_2a84a_row3_col0 {\n",
       "  background-color: #e9d5cb;\n",
       "  color: #000000;\n",
       "}\n",
       "#T_2a84a_row4_col0 {\n",
       "  background-color: #ccd9ed;\n",
       "  color: #000000;\n",
       "}\n",
       "#T_2a84a_row5_col0, #T_2a84a_row6_col0, #T_2a84a_row7_col0, #T_2a84a_row8_col0 {\n",
       "  background-color: #92b4fe;\n",
       "  color: #000000;\n",
       "}\n",
       "#T_2a84a_row9_col0 {\n",
       "  background-color: #6a8bef;\n",
       "  color: #f1f1f1;\n",
       "}\n",
       "#T_2a84a_row10_col0 {\n",
       "  background-color: #5b7ae5;\n",
       "  color: #f1f1f1;\n",
       "}\n",
       "#T_2a84a_row11_col0 {\n",
       "  background-color: #5673e0;\n",
       "  color: #f1f1f1;\n",
       "}\n",
       "#T_2a84a_row12_col0 {\n",
       "  background-color: #3c4ec2;\n",
       "  color: #f1f1f1;\n",
       "}\n",
       "#T_2a84a_row13_col0, #T_2a84a_row14_col0, #T_2a84a_row15_col0, #T_2a84a_row16_col0, #T_2a84a_row17_col0, #T_2a84a_row18_col0, #T_2a84a_row19_col0, #T_2a84a_row20_col0, #T_2a84a_row21_col0 {\n",
       "  background-color: #3b4cc0;\n",
       "  color: #f1f1f1;\n",
       "}\n",
       "</style>\n",
       "<table id=\"T_2a84a\">\n",
       "  <thead>\n",
       "    <tr>\n",
       "      <th class=\"blank level0\" >&nbsp;</th>\n",
       "      <th id=\"T_2a84a_level0_col0\" class=\"col_heading level0 col0\" >0</th>\n",
       "    </tr>\n",
       "  </thead>\n",
       "  <tbody>\n",
       "    <tr>\n",
       "      <th id=\"T_2a84a_level0_row0\" class=\"row_heading level0 row0\" >is_apartment</th>\n",
       "      <td id=\"T_2a84a_row0_col0\" class=\"data row0 col0\" >88.290645</td>\n",
       "    </tr>\n",
       "    <tr>\n",
       "      <th id=\"T_2a84a_level0_row1\" class=\"row_heading level0 row1\" >parks_nearest</th>\n",
       "      <td id=\"T_2a84a_row1_col0\" class=\"data row1 col0\" >65.909954</td>\n",
       "    </tr>\n",
       "    <tr>\n",
       "      <th id=\"T_2a84a_level0_row2\" class=\"row_heading level0 row2\" >ponds_nearest</th>\n",
       "      <td id=\"T_2a84a_row2_col0\" class=\"data row2 col0\" >61.559559</td>\n",
       "    </tr>\n",
       "    <tr>\n",
       "      <th id=\"T_2a84a_level0_row3\" class=\"row_heading level0 row3\" >balcony</th>\n",
       "      <td id=\"T_2a84a_row3_col0\" class=\"data row3 col0\" >48.605426</td>\n",
       "    </tr>\n",
       "    <tr>\n",
       "      <th id=\"T_2a84a_level0_row4\" class=\"row_heading level0 row4\" >ceiling_height</th>\n",
       "      <td id=\"T_2a84a_row4_col0\" class=\"data row4 col0\" >38.799105</td>\n",
       "    </tr>\n",
       "    <tr>\n",
       "      <th id=\"T_2a84a_level0_row5\" class=\"row_heading level0 row5\" >airports_nearest</th>\n",
       "      <td id=\"T_2a84a_row5_col0\" class=\"data row5 col0\" >23.384953</td>\n",
       "    </tr>\n",
       "    <tr>\n",
       "      <th id=\"T_2a84a_level0_row6\" class=\"row_heading level0 row6\" >cityCenters_nearest</th>\n",
       "      <td id=\"T_2a84a_row6_col0\" class=\"data row6 col0\" >23.287902</td>\n",
       "    </tr>\n",
       "    <tr>\n",
       "      <th id=\"T_2a84a_level0_row7\" class=\"row_heading level0 row7\" >parks_around3000</th>\n",
       "      <td id=\"T_2a84a_row7_col0\" class=\"data row7 col0\" >23.283683</td>\n",
       "    </tr>\n",
       "    <tr>\n",
       "      <th id=\"T_2a84a_level0_row8\" class=\"row_heading level0 row8\" >ponds_around3000</th>\n",
       "      <td id=\"T_2a84a_row8_col0\" class=\"data row8 col0\" >23.283683</td>\n",
       "    </tr>\n",
       "    <tr>\n",
       "      <th id=\"T_2a84a_level0_row9\" class=\"row_heading level0 row9\" >days_exposition</th>\n",
       "      <td id=\"T_2a84a_row9_col0\" class=\"data row9 col0\" >13.422507</td>\n",
       "    </tr>\n",
       "    <tr>\n",
       "      <th id=\"T_2a84a_level0_row10\" class=\"row_heading level0 row10\" >kitchen_area</th>\n",
       "      <td id=\"T_2a84a_row10_col0\" class=\"data row10 col0\" >9.612220</td>\n",
       "    </tr>\n",
       "    <tr>\n",
       "      <th id=\"T_2a84a_level0_row11\" class=\"row_heading level0 row11\" >living_area</th>\n",
       "      <td id=\"T_2a84a_row11_col0\" class=\"data row11 col0\" >8.029875</td>\n",
       "    </tr>\n",
       "    <tr>\n",
       "      <th id=\"T_2a84a_level0_row12\" class=\"row_heading level0 row12\" >floors_total</th>\n",
       "      <td id=\"T_2a84a_row12_col0\" class=\"data row12 col0\" >0.362885</td>\n",
       "    </tr>\n",
       "    <tr>\n",
       "      <th id=\"T_2a84a_level0_row13\" class=\"row_heading level0 row13\" >locality_name</th>\n",
       "      <td id=\"T_2a84a_row13_col0\" class=\"data row13 col0\" >0.206760</td>\n",
       "    </tr>\n",
       "    <tr>\n",
       "      <th id=\"T_2a84a_level0_row14\" class=\"row_heading level0 row14\" >first_day_exposition</th>\n",
       "      <td id=\"T_2a84a_row14_col0\" class=\"data row14 col0\" >0.000000</td>\n",
       "    </tr>\n",
       "    <tr>\n",
       "      <th id=\"T_2a84a_level0_row15\" class=\"row_heading level0 row15\" >last_price</th>\n",
       "      <td id=\"T_2a84a_row15_col0\" class=\"data row15 col0\" >0.000000</td>\n",
       "    </tr>\n",
       "    <tr>\n",
       "      <th id=\"T_2a84a_level0_row16\" class=\"row_heading level0 row16\" >total_area</th>\n",
       "      <td id=\"T_2a84a_row16_col0\" class=\"data row16 col0\" >0.000000</td>\n",
       "    </tr>\n",
       "    <tr>\n",
       "      <th id=\"T_2a84a_level0_row17\" class=\"row_heading level0 row17\" >studio</th>\n",
       "      <td id=\"T_2a84a_row17_col0\" class=\"data row17 col0\" >0.000000</td>\n",
       "    </tr>\n",
       "    <tr>\n",
       "      <th id=\"T_2a84a_level0_row18\" class=\"row_heading level0 row18\" >rooms</th>\n",
       "      <td id=\"T_2a84a_row18_col0\" class=\"data row18 col0\" >0.000000</td>\n",
       "    </tr>\n",
       "    <tr>\n",
       "      <th id=\"T_2a84a_level0_row19\" class=\"row_heading level0 row19\" >floor</th>\n",
       "      <td id=\"T_2a84a_row19_col0\" class=\"data row19 col0\" >0.000000</td>\n",
       "    </tr>\n",
       "    <tr>\n",
       "      <th id=\"T_2a84a_level0_row20\" class=\"row_heading level0 row20\" >open_plan</th>\n",
       "      <td id=\"T_2a84a_row20_col0\" class=\"data row20 col0\" >0.000000</td>\n",
       "    </tr>\n",
       "    <tr>\n",
       "      <th id=\"T_2a84a_level0_row21\" class=\"row_heading level0 row21\" >total_images</th>\n",
       "      <td id=\"T_2a84a_row21_col0\" class=\"data row21 col0\" >0.000000</td>\n",
       "    </tr>\n",
       "  </tbody>\n",
       "</table>\n"
      ],
      "text/plain": [
       "<pandas.io.formats.style.Styler at 0x244bd8f3220>"
      ]
     },
     "execution_count": 58,
     "metadata": {},
     "output_type": "execute_result"
    }
   ],
   "source": [
    "pd.DataFrame(data.isna().mean()*100).sort_values(by=0)[::-1].style.background_gradient('coolwarm')"
   ]
  },
  {
   "cell_type": "markdown",
   "id": "87d6e273",
   "metadata": {},
   "source": [
    "###### Вывод: Файл содержит данные по 23699 объявлениям, каждое описывается 22 признаками (17 количественных, 3 булевых, 1 категориальный и 1 временной). 13 признаков имеют пропущенные значения."
   ]
  },
  {
   "cell_type": "markdown",
   "id": "707a8ae4",
   "metadata": {},
   "source": [
    "## 2. Предобработка данных"
   ]
  },
  {
   "cell_type": "markdown",
   "id": "868578ce",
   "metadata": {},
   "source": [
    "### 2.1  Высота потолков"
   ]
  },
  {
   "cell_type": "code",
   "execution_count": 59,
   "id": "8000e4ca",
   "metadata": {},
   "outputs": [
    {
     "data": {
      "text/plain": [
       "0.38799105447487237"
      ]
     },
     "execution_count": 59,
     "metadata": {},
     "output_type": "execute_result"
    }
   ],
   "source": [
    "# определяем долю пропущеных значений\n",
    "data['ceiling_height'].isna().value_counts()[1]/len(data)"
   ]
  },
  {
   "cell_type": "code",
   "execution_count": 60,
   "id": "8bed3c8d",
   "metadata": {},
   "outputs": [
    {
     "data": {
      "text/plain": [
       "count    14504.000000\n",
       "mean         2.771499\n",
       "std          1.261056\n",
       "min          1.000000\n",
       "25%          2.520000\n",
       "50%          2.650000\n",
       "75%          2.800000\n",
       "max        100.000000\n",
       "Name: ceiling_height, dtype: float64"
      ]
     },
     "execution_count": 60,
     "metadata": {},
     "output_type": "execute_result"
    }
   ],
   "source": [
    "# Выводим описание признака\n",
    "data['ceiling_height'].describe()"
   ]
  },
  {
   "cell_type": "code",
   "execution_count": 61,
   "id": "aa9be70c",
   "metadata": {},
   "outputs": [
    {
     "data": {
      "text/plain": [
       "<AxesSubplot:xlabel='floors_total', ylabel='ceiling_height'>"
      ]
     },
     "execution_count": 61,
     "metadata": {},
     "output_type": "execute_result"
    },
    {
     "data": {
      "image/png": "[encoded data removed]",
      "text/plain": [
       "<Figure size 640x480 with 1 Axes>"
      ]
     },
     "metadata": {},
     "output_type": "display_data"
    }
   ],
   "source": [
    "# Визуализируем данные\n",
    "data.plot(x= 'floors_total', y= 'ceiling_height', kind= 'scatter')"
   ]
  },
  {
   "cell_type": "markdown",
   "id": "d8405ca2",
   "metadata": {},
   "source": [
    "###### Высота потолков: Всего в данном признаке пропущено 38% значений.Среднее значение 2.77. Есть не правдоподобные значения, например значения 1м и 100м. По графику можно увидеть, что высота потолков от этажности зданий не зависит. Очевидно, что все значения выше или ниже стандартного отклонения нужно заменить на медиану."
   ]
  },
  {
   "cell_type": "code",
   "execution_count": 62,
   "id": "7a3e32a0",
   "metadata": {},
   "outputs": [
    {
     "name": "stdout",
     "output_type": "stream",
     "text": [
      "Доля значений превышающих стандартное отклонение: 0.034347440820287775\n",
      "Доля значений меньше стандартного отклонения: 0.0005907422254103549\n"
     ]
    }
   ],
   "source": [
    "# Считаем стандартное отклонение параметра\n",
    "IQR_celling = data['ceiling_height'].describe()[6] - data['ceiling_height'].describe()[4]\n",
    "standard_deviation_celling_up = data['ceiling_height'].describe()[6] + 1.5 * IQR_celling\n",
    "standard_deviation_celling_down = data['ceiling_height'].describe()[4] - 1.5 * IQR_celling\n",
    "print('Доля значений превышающих стандартное отклонение:', data.query('ceiling_height > @standard_deviation_celling_up')['ceiling_height'].count()/len(data))\n",
    "print('Доля значений меньше стандартного отклонения:', data.query('ceiling_height < @standard_deviation_celling_down')['ceiling_height'].count()/len(data))"
   ]
  },
  {
   "cell_type": "code",
   "execution_count": 63,
   "id": "b3ec4c69",
   "metadata": {},
   "outputs": [
    {
     "data": {
      "text/plain": [
       "<AxesSubplot:xlabel='floors_total', ylabel='ceiling_height'>"
      ]
     },
     "execution_count": 63,
     "metadata": {},
     "output_type": "execute_result"
    },
    {
     "data": {
      "image/png": "[encoded data removed]",
      "text/plain": [
       "<Figure size 640x480 with 1 Axes>"
      ]
     },
     "metadata": {},
     "output_type": "display_data"
    }
   ],
   "source": [
    "# Меняем значения превышающее стандартное оклонение\n",
    "data['ceiling_height'] = (\n",
    "    data['ceiling_height']\n",
    "    .where(data['ceiling_height'] > standard_deviation_celling_down,\n",
    "           data['ceiling_height'].describe()[5])\n",
    ")\n",
    "data['ceiling_height'] = (\n",
    "    data['ceiling_height']\n",
    "    .where(data['ceiling_height'] < standard_deviation_celling_up, \n",
    "           data['ceiling_height'].describe()[5])\n",
    ")\n",
    "data.plot(x= 'floors_total', y= 'ceiling_height', kind= 'scatter')"
   ]
  },
  {
   "cell_type": "code",
   "execution_count": 64,
   "id": "aa858ad1",
   "metadata": {},
   "outputs": [
    {
     "data": {
      "text/plain": [
       "count    23699.000000\n",
       "mean         2.667321\n",
       "std          0.140632\n",
       "min          2.200000\n",
       "25%          2.600000\n",
       "50%          2.650000\n",
       "75%          2.700000\n",
       "max          3.210000\n",
       "Name: ceiling_height, dtype: float64"
      ]
     },
     "execution_count": 64,
     "metadata": {},
     "output_type": "execute_result"
    }
   ],
   "source": [
    "data['ceiling_height'].describe()"
   ]
  },
  {
   "cell_type": "markdown",
   "id": "280cb9c2",
   "metadata": {},
   "source": [
    "###### Заменили все пустые значения признака, высота потолков, и значения больше стандартного отклонения на медиану. Медианное значение высоты потолков получилось 2.6м. Среднее так же 2.6."
   ]
  },
  {
   "cell_type": "markdown",
   "id": "298db9af",
   "metadata": {},
   "source": [
    "### 2.2  Количество этажей в доме"
   ]
  },
  {
   "cell_type": "code",
   "execution_count": 65,
   "id": "cb94cb0c",
   "metadata": {},
   "outputs": [
    {
     "data": {
      "text/plain": [
       "0.0036288450989493226"
      ]
     },
     "execution_count": 65,
     "metadata": {},
     "output_type": "execute_result"
    }
   ],
   "source": [
    "# определяем долю пропущеных значений\n",
    "data['floors_total'].isna().value_counts()[1]/len(data)"
   ]
  },
  {
   "cell_type": "code",
   "execution_count": 66,
   "id": "8f50033d",
   "metadata": {},
   "outputs": [
    {
     "data": {
      "text/plain": [
       "count    23613.000000\n",
       "mean        10.673824\n",
       "std          6.597173\n",
       "min          1.000000\n",
       "25%          5.000000\n",
       "50%          9.000000\n",
       "75%         16.000000\n",
       "max         60.000000\n",
       "Name: floors_total, dtype: float64"
      ]
     },
     "execution_count": 66,
     "metadata": {},
     "output_type": "execute_result"
    }
   ],
   "source": [
    "# Выводим описание признака\n",
    "data['floors_total'].describe()"
   ]
  },
  {
   "cell_type": "markdown",
   "id": "40731ca6",
   "metadata": {},
   "source": [
    "###### Количество этажей: пропущено значений 0,4%. Минимальное значение - 1, максимальное - 60. Неправдопообных данных не наблюдается. Прошущенные значения заменять ничем не требуется"
   ]
  },
  {
   "cell_type": "markdown",
   "id": "a06b10e2",
   "metadata": {},
   "source": [
    "### 2.3  Жилая площадь"
   ]
  },
  {
   "cell_type": "code",
   "execution_count": 67,
   "id": "61d89153",
   "metadata": {},
   "outputs": [
    {
     "data": {
      "text/plain": [
       "0.08029874678256467"
      ]
     },
     "execution_count": 67,
     "metadata": {},
     "output_type": "execute_result"
    }
   ],
   "source": [
    "# определяем долю пропущеных значений\n",
    "data['living_area'].isna().value_counts()[1]/len(data)"
   ]
  },
  {
   "cell_type": "code",
   "execution_count": 68,
   "id": "cf5841dc",
   "metadata": {},
   "outputs": [
    {
     "data": {
      "text/plain": [
       "count    21796.000000\n",
       "mean        34.457852\n",
       "std         22.030445\n",
       "min          2.000000\n",
       "25%         18.600000\n",
       "50%         30.000000\n",
       "75%         42.300000\n",
       "max        409.700000\n",
       "Name: living_area, dtype: float64"
      ]
     },
     "execution_count": 68,
     "metadata": {},
     "output_type": "execute_result"
    }
   ],
   "source": [
    "# Выводим описание признака\n",
    "data['living_area'].describe()"
   ]
  },
  {
   "cell_type": "code",
   "execution_count": 69,
   "id": "72c32d6f",
   "metadata": {},
   "outputs": [
    {
     "data": {
      "text/plain": [
       "<AxesSubplot:xlabel='total_area', ylabel='living_area'>"
      ]
     },
     "execution_count": 69,
     "metadata": {},
     "output_type": "execute_result"
    },
    {
     "data": {
      "image/png": "[encoded data removed]",
      "text/plain": [
       "<Figure size 640x480 with 1 Axes>"
      ]
     },
     "metadata": {},
     "output_type": "display_data"
    }
   ],
   "source": [
    "# Визуализируем данные\n",
    "data.plot(x= 'total_area', y= 'living_area', kind= 'scatter')"
   ]
  },
  {
   "cell_type": "code",
   "execution_count": 70,
   "id": "4c94ad2b",
   "metadata": {},
   "outputs": [
    {
     "data": {
      "text/plain": [
       "count    23699.000000\n",
       "mean        34.624296\n",
       "std         22.381873\n",
       "min          2.000000\n",
       "25%         19.000000\n",
       "50%         30.000000\n",
       "75%         42.173077\n",
       "max        409.700000\n",
       "Name: living_area, dtype: float64"
      ]
     },
     "execution_count": 70,
     "metadata": {},
     "output_type": "execute_result"
    }
   ],
   "source": [
    "# Считаем среднюю долю жилой площади и заполняем пропуски\n",
    "living_area_ratio = data['living_area'].median()/data['total_area'].median()\n",
    "data.loc[data['living_area'].isna(),'living_area'] = data['total_area'] * living_area_ratio\n",
    "data['living_area'].describe()"
   ]
  },
  {
   "cell_type": "markdown",
   "id": "b133b4ef",
   "metadata": {},
   "source": [
    "###### Жилая площадь: пропущено значений 8%. Минимальное значение - 2, максимальное - 409.7 . Из графика наблюдается линейная зависимость жилой площади от общей площади. Значений жилой площади больше общей - нет. Соответсвенно неправдопообных данных не наблюдается. Расчитаем средний коэфициент жилой площади от общей и заполним пропущенные значения значением общей площади умноженным на коэффициент"
   ]
  },
  {
   "cell_type": "markdown",
   "id": "e359aee5",
   "metadata": {},
   "source": [
    "### 2.4  Площадь кухни"
   ]
  },
  {
   "cell_type": "code",
   "execution_count": 71,
   "id": "dbd49cfc",
   "metadata": {},
   "outputs": [
    {
     "data": {
      "text/plain": [
       "0.09612219924891345"
      ]
     },
     "execution_count": 71,
     "metadata": {},
     "output_type": "execute_result"
    }
   ],
   "source": [
    "# определяем долю пропущеных значений\n",
    "data['kitchen_area'].isna().value_counts()[1]/len(data)"
   ]
  },
  {
   "cell_type": "code",
   "execution_count": 72,
   "id": "fa082f3f",
   "metadata": {},
   "outputs": [
    {
     "data": {
      "text/plain": [
       "count    21421.000000\n",
       "mean        10.569807\n",
       "std          5.905438\n",
       "min          1.300000\n",
       "25%          7.000000\n",
       "50%          9.100000\n",
       "75%         12.000000\n",
       "max        112.000000\n",
       "Name: kitchen_area, dtype: float64"
      ]
     },
     "execution_count": 72,
     "metadata": {},
     "output_type": "execute_result"
    }
   ],
   "source": [
    "# Выводим описание признака\n",
    "data['kitchen_area'].describe()"
   ]
  },
  {
   "cell_type": "code",
   "execution_count": 73,
   "id": "30237b30",
   "metadata": {},
   "outputs": [
    {
     "data": {
      "text/plain": [
       "count    23699.000000\n",
       "mean        10.465817\n",
       "std          6.071440\n",
       "min          0.000000\n",
       "25%          7.000000\n",
       "50%          9.000000\n",
       "75%         12.000000\n",
       "max        112.000000\n",
       "Name: kitchen_area, dtype: float64"
      ]
     },
     "execution_count": 73,
     "metadata": {},
     "output_type": "execute_result"
    }
   ],
   "source": [
    "# Заменим площадь кухни студий на 0\n",
    "data.loc[data['studio'] == True,'kitchen_area'] = 0\n",
    "# Заполним остальные пропущенные значения аналогично как заполняли жилую площадь\n",
    "kitchen_area_ratio = data['kitchen_area'].median()/data['total_area'].median()\n",
    "data.loc[data['kitchen_area'].isna(),'kitchen_area'] = data['total_area'] * kitchen_area_ratio\n",
    "data['kitchen_area'].describe()"
   ]
  },
  {
   "cell_type": "code",
   "execution_count": 74,
   "id": "1d0bd4da",
   "metadata": {},
   "outputs": [
    {
     "data": {
      "text/plain": [
       "<AxesSubplot:xlabel='total_area', ylabel='kitchen_area'>"
      ]
     },
     "execution_count": 74,
     "metadata": {},
     "output_type": "execute_result"
    },
    {
     "data": {
      "image/png": "[encoded data removed]",
      "text/plain": [
       "<Figure size 640x480 with 1 Axes>"
      ]
     },
     "metadata": {},
     "output_type": "display_data"
    }
   ],
   "source": [
    "# Визуализируем данные\n",
    "data.plot(x= 'total_area', y= 'kitchen_area', kind= 'scatter')"
   ]
  },
  {
   "cell_type": "markdown",
   "id": "3b9299dc",
   "metadata": {},
   "source": [
    "###### Площадь кухни: пропущено значений 10%. Минимальное значение - 1.3, максимальное - 112 . Из графика наблюдается линейная зависимость площади кухни от общей площади, но не такая сильная как у жилой площади. Значений площади кухни больше общей - нет. Соответсвенно неправдопообных данных не наблюдается. Заменим площадь кухни в квартирах студиях на ноль. Расчитаем средний коэфициент площади кухни от общей и заполним пропущенные значения значением общей площади умноженным на коэффициент."
   ]
  },
  {
   "cell_type": "markdown",
   "id": "1053b5ee",
   "metadata": {},
   "source": [
    "### 2.5  Количество балконов"
   ]
  },
  {
   "cell_type": "code",
   "execution_count": 75,
   "id": "adccb3fd",
   "metadata": {},
   "outputs": [
    {
     "data": {
      "text/plain": [
       "0.4860542638929913"
      ]
     },
     "execution_count": 75,
     "metadata": {},
     "output_type": "execute_result"
    }
   ],
   "source": [
    "# определяем долю пропущеных значений\n",
    "data['balcony'].isna().value_counts()[1]/len(data)"
   ]
  },
  {
   "cell_type": "code",
   "execution_count": 76,
   "id": "3f705cb7",
   "metadata": {},
   "outputs": [
    {
     "data": {
      "text/plain": [
       "count    12180.000000\n",
       "mean         1.150082\n",
       "std          1.071300\n",
       "min          0.000000\n",
       "25%          0.000000\n",
       "50%          1.000000\n",
       "75%          2.000000\n",
       "max          5.000000\n",
       "Name: balcony, dtype: float64"
      ]
     },
     "execution_count": 76,
     "metadata": {},
     "output_type": "execute_result"
    }
   ],
   "source": [
    "# Выводим описание признака\n",
    "data['balcony'].describe()"
   ]
  },
  {
   "cell_type": "code",
   "execution_count": 77,
   "id": "db6e4a42",
   "metadata": {},
   "outputs": [
    {
     "data": {
      "text/plain": [
       "False    23699\n",
       "Name: balcony, dtype: int64"
      ]
     },
     "execution_count": 77,
     "metadata": {},
     "output_type": "execute_result"
    }
   ],
   "source": [
    "# Заменяем пропуски на ноль \n",
    "data['balcony'] = data['balcony'].fillna(0)\n",
    "data['balcony'].isna().value_counts()"
   ]
  },
  {
   "cell_type": "markdown",
   "id": "901775f1",
   "metadata": {},
   "source": [
    "###### Количество балконов: пропущено значений 48%. Неправдопообных данных не наблюдается. Заполним пропущенные значения нулями."
   ]
  },
  {
   "cell_type": "markdown",
   "id": "4b51e5fe",
   "metadata": {},
   "source": [
    "###### 2.6  Название населенного пункта"
   ]
  },
  {
   "cell_type": "code",
   "execution_count": 78,
   "id": "feaf02aa",
   "metadata": {},
   "outputs": [
    {
     "data": {
      "text/plain": [
       "0.002067597788936242"
      ]
     },
     "execution_count": 78,
     "metadata": {},
     "output_type": "execute_result"
    }
   ],
   "source": [
    "# определяем долю пропущеных значений\n",
    "data['locality_name'].isna().value_counts()[1]/len(data)"
   ]
  },
  {
   "cell_type": "code",
   "execution_count": 79,
   "id": "3260d5b4",
   "metadata": {},
   "outputs": [],
   "source": [
    "# Удаляем пропуски\n",
    "data.dropna(subset=['locality_name'], inplace=True)"
   ]
  },
  {
   "cell_type": "code",
   "execution_count": 80,
   "id": "92e3175d",
   "metadata": {},
   "outputs": [
    {
     "data": {
      "text/plain": [
       "array(['Санкт-Петербург', 'посёлок Шушары', 'городской посёлок Янино-1',\n",
       "       'посёлок Парголово', 'посёлок Мурино', 'Ломоносов', 'Сертолово',\n",
       "       'Петергоф', 'Пушкин', 'деревня Кудрово', 'Коммунар', 'Колпино',\n",
       "       'поселок городского типа Красный Бор', 'Гатчина', 'поселок Мурино',\n",
       "       'деревня Фёдоровское', 'Выборг', 'Кронштадт', 'Кировск',\n",
       "       'деревня Новое Девяткино', 'посёлок Металлострой',\n",
       "       'посёлок городского типа Лебяжье',\n",
       "       'посёлок городского типа Сиверский', 'поселок Молодцово',\n",
       "       'поселок городского типа Кузьмоловский',\n",
       "       'садовое товарищество Новая Ропша', 'Павловск',\n",
       "       'деревня Пикколово', 'Всеволожск', 'Волхов', 'Кингисепп',\n",
       "       'Приозерск', 'Сестрорецк', 'деревня Куттузи', 'посёлок Аннино',\n",
       "       'поселок городского типа Ефимовский', 'посёлок Плодовое',\n",
       "       'деревня Заклинье', 'поселок Торковичи', 'поселок Первомайское',\n",
       "       'Красное Село', 'посёлок Понтонный', 'Сясьстрой', 'деревня Старая',\n",
       "       'деревня Лесколово', 'посёлок Новый Свет', 'Сланцы',\n",
       "       'село Путилово', 'Ивангород', 'Мурино', 'Шлиссельбург',\n",
       "       'Никольское', 'Зеленогорск', 'Сосновый Бор', 'поселок Новый Свет',\n",
       "       'деревня Оржицы', 'деревня Кальтино', 'Кудрово',\n",
       "       'поселок Романовка', 'посёлок Бугры', 'поселок Бугры',\n",
       "       'поселок городского типа Рощино', 'Кириши', 'Луга', 'Волосово',\n",
       "       'Отрадное', 'село Павлово', 'поселок Оредеж', 'село Копорье',\n",
       "       'посёлок городского типа Красный Бор', 'посёлок Молодёжное',\n",
       "       'Тихвин', 'посёлок Победа', 'деревня Нурма',\n",
       "       'поселок городского типа Синявино', 'Тосно',\n",
       "       'посёлок городского типа Кузьмоловский', 'посёлок Стрельна',\n",
       "       'Бокситогорск', 'посёлок Александровская', 'деревня Лопухинка',\n",
       "       'Пикалёво', 'поселок Терволово',\n",
       "       'поселок городского типа Советский', 'Подпорожье',\n",
       "       'посёлок Петровское', 'посёлок городского типа Токсово',\n",
       "       'поселок Сельцо', 'посёлок городского типа Вырица',\n",
       "       'деревня Кипень', 'деревня Келози', 'деревня Вартемяги',\n",
       "       'посёлок Тельмана', 'поселок Севастьяново',\n",
       "       'городской поселок Большая Ижора', 'городской посёлок Павлово',\n",
       "       'деревня Агалатово', 'посёлок Новогорелово',\n",
       "       'городской посёлок Лесогорский', 'деревня Лаголово',\n",
       "       'поселок Цвелодубово', 'поселок городского типа Рахья',\n",
       "       'поселок городского типа Вырица', 'деревня Белогорка',\n",
       "       'поселок Заводской', 'городской посёлок Новоселье',\n",
       "       'деревня Большие Колпаны', 'деревня Горбунки', 'деревня Батово',\n",
       "       'деревня Заневка', 'деревня Иссад', 'Приморск',\n",
       "       'городской посёлок Фёдоровское', 'деревня Мистолово',\n",
       "       'Новая Ладога', 'поселок Зимитицы', 'поселок Барышево',\n",
       "       'деревня Разметелево', 'поселок городского типа имени Свердлова',\n",
       "       'деревня Пеники', 'поселок Рябово', 'деревня Пудомяги',\n",
       "       'поселок станции Корнево', 'деревня Низино', 'деревня Бегуницы',\n",
       "       'посёлок Поляны', 'городской посёлок Мга', 'поселок Елизаветино',\n",
       "       'посёлок городского типа Кузнечное', 'деревня Колтуши',\n",
       "       'поселок Запорожское', 'посёлок городского типа Рощино',\n",
       "       'деревня Гостилицы', 'деревня Малое Карлино',\n",
       "       'посёлок Мичуринское', 'посёлок городского типа имени Морозова',\n",
       "       'посёлок Песочный', 'посёлок Сосново', 'деревня Аро',\n",
       "       'поселок Ильичёво', 'посёлок городского типа Тайцы',\n",
       "       'деревня Малое Верево', 'деревня Извара', 'поселок станции Вещево',\n",
       "       'село Паша', 'деревня Калитино',\n",
       "       'посёлок городского типа Ульяновка', 'деревня Чудской Бор',\n",
       "       'поселок городского типа Дубровка', 'деревня Мины',\n",
       "       'поселок Войсковицы', 'посёлок городского типа имени Свердлова',\n",
       "       'деревня Коркино', 'посёлок Ропша',\n",
       "       'поселок городского типа Приладожский', 'посёлок Щеглово',\n",
       "       'посёлок Гаврилово', 'Лодейное Поле', 'деревня Рабитицы',\n",
       "       'поселок городского типа Никольский', 'деревня Кузьмолово',\n",
       "       'деревня Малые Колпаны', 'поселок Тельмана',\n",
       "       'посёлок Петро-Славянка', 'городской посёлок Назия',\n",
       "       'посёлок Репино', 'посёлок Ильичёво', 'поселок Углово',\n",
       "       'поселок Старая Малукса', 'садовое товарищество Рахья',\n",
       "       'поселок Аннино', 'поселок Победа', 'деревня Меньково',\n",
       "       'деревня Старые Бегуницы', 'посёлок Сапёрный', 'поселок Семрино',\n",
       "       'поселок Гаврилово', 'поселок Глажево', 'поселок Кобринское',\n",
       "       'деревня Гарболово', 'деревня Юкки',\n",
       "       'поселок станции Приветнинское', 'деревня Мануйлово',\n",
       "       'деревня Пчева', 'поселок Поляны', 'поселок Цвылёво',\n",
       "       'поселок Мельниково', 'посёлок Пудость', 'посёлок Усть-Луга',\n",
       "       'Светогорск', 'Любань', 'поселок Селезнёво',\n",
       "       'поселок городского типа Рябово', 'Каменногорск', 'деревня Кривко',\n",
       "       'поселок Глебычево', 'деревня Парицы', 'поселок Жилпосёлок',\n",
       "       'посёлок городского типа Мга', 'городской поселок Янино-1',\n",
       "       'посёлок Войскорово', 'село Никольское', 'посёлок Терволово',\n",
       "       'поселок Стеклянный', 'посёлок городского типа Важины',\n",
       "       'посёлок Мыза-Ивановка', 'село Русско-Высоцкое',\n",
       "       'поселок городского типа Лебяжье',\n",
       "       'поселок городского типа Форносово', 'село Старая Ладога',\n",
       "       'поселок Житково', 'городской посёлок Виллози', 'деревня Лампово',\n",
       "       'деревня Шпаньково', 'деревня Лаврики', 'посёлок Сумино',\n",
       "       'посёлок Возрождение', 'деревня Старосиверская',\n",
       "       'посёлок Кикерино', 'поселок Возрождение',\n",
       "       'деревня Старое Хинколово', 'посёлок Пригородный',\n",
       "       'посёлок Торфяное', 'городской посёлок Будогощь',\n",
       "       'поселок Суходолье', 'поселок Красная Долина', 'деревня Хапо-Ое',\n",
       "       'поселок городского типа Дружная Горка', 'поселок Лисий Нос',\n",
       "       'деревня Яльгелево', 'посёлок Стеклянный', 'село Рождествено',\n",
       "       'деревня Старополье', 'посёлок Левашово', 'деревня Сяськелево',\n",
       "       'деревня Камышовка',\n",
       "       'садоводческое некоммерческое товарищество Лесная Поляна',\n",
       "       'деревня Хязельки', 'поселок Жилгородок',\n",
       "       'посёлок городского типа Павлово', 'деревня Ялгино',\n",
       "       'поселок Новый Учхоз', 'городской посёлок Рощино',\n",
       "       'поселок Гончарово', 'поселок Почап', 'посёлок Сапёрное',\n",
       "       'посёлок Платформа 69-й километр', 'поселок Каложицы',\n",
       "       'деревня Фалилеево', 'деревня Пельгора',\n",
       "       'поселок городского типа Лесогорский', 'деревня Торошковичи',\n",
       "       'посёлок Белоостров', 'посёлок Алексеевка', 'поселок Серебрянский',\n",
       "       'поселок Лукаши', 'поселок Петровское', 'деревня Щеглово',\n",
       "       'поселок Мичуринское', 'деревня Тарасово', 'поселок Кингисеппский',\n",
       "       'посёлок при железнодорожной станции Вещево', 'поселок Ушаки',\n",
       "       'деревня Котлы', 'деревня Сижно', 'деревня Торосово',\n",
       "       'посёлок Форт Красная Горка', 'поселок городского типа Токсово',\n",
       "       'деревня Новолисино', 'посёлок станции Громово', 'деревня Глинка',\n",
       "       'посёлок Мельниково', 'поселок городского типа Назия',\n",
       "       'деревня Старая Пустошь', 'поселок Коммунары', 'поселок Починок',\n",
       "       'посёлок городского типа Вознесенье', 'деревня Разбегаево',\n",
       "       'посёлок городского типа Рябово', 'поселок Гладкое',\n",
       "       'посёлок при железнодорожной станции Приветнинское',\n",
       "       'поселок Тёсово-4', 'посёлок Жилгородок', 'деревня Бор',\n",
       "       'посёлок Коробицыно', 'деревня Большая Вруда', 'деревня Курковицы',\n",
       "       'посёлок Лисий Нос', 'городской посёлок Советский',\n",
       "       'посёлок Кобралово', 'деревня Суоранда', 'поселок Кобралово',\n",
       "       'поселок городского типа Кондратьево',\n",
       "       'коттеджный поселок Счастье', 'поселок Любань', 'деревня Реброво',\n",
       "       'деревня Зимитицы', 'деревня Тойворово', 'поселок Семиозерье',\n",
       "       'поселок Лесное', 'поселок Совхозный', 'поселок Усть-Луга',\n",
       "       'посёлок Ленинское', 'посёлок Суйда',\n",
       "       'посёлок городского типа Форносово', 'деревня Нижние Осельки',\n",
       "       'посёлок станции Свирь', 'поселок Перово', 'Высоцк',\n",
       "       'поселок Гарболово', 'село Шум', 'поселок Котельский',\n",
       "       'поселок станции Лужайка', 'деревня Большая Пустомержа',\n",
       "       'поселок Красносельское', 'деревня Вахнова Кара', 'деревня Пижма',\n",
       "       'коттеджный поселок Кивеннапа Север', 'поселок Коробицыно',\n",
       "       'поселок Ромашки', 'посёлок Перово', 'деревня Каськово',\n",
       "       'деревня Куровицы', 'посёлок Плоское', 'поселок Сумино',\n",
       "       'поселок городского типа Большая Ижора', 'поселок Кирпичное',\n",
       "       'деревня Ям-Тесово', 'деревня Раздолье', 'деревня Терпилицы',\n",
       "       'посёлок Шугозеро', 'деревня Ваганово', 'поселок Пушное',\n",
       "       'садовое товарищество Садко', 'посёлок Усть-Ижора',\n",
       "       'деревня Выскатка', 'городской посёлок Свирьстрой',\n",
       "       'поселок Громово', 'деревня Кисельня', 'посёлок Старая Малукса',\n",
       "       'деревня Трубников Бор', 'поселок Калитино',\n",
       "       'посёлок Высокоключевой', 'садовое товарищество Приладожский',\n",
       "       'посёлок Пансионат Зелёный Бор', 'деревня Ненимяки',\n",
       "       'поселок Пансионат Зелёный Бор', 'деревня Снегирёвка',\n",
       "       'деревня Рапполово', 'деревня Пустынка', 'поселок Рабитицы',\n",
       "       'деревня Большой Сабск', 'деревня Русско', 'деревня Лупполово',\n",
       "       'деревня Большое Рейзино', 'деревня Малая Романовка',\n",
       "       'поселок Дружноселье', 'поселок Пчевжа', 'поселок Володарское',\n",
       "       'деревня Нижняя', 'коттеджный посёлок Лесное', 'деревня Тихковицы',\n",
       "       'деревня Борисова Грива', 'посёлок Дзержинского'], dtype=object)"
      ]
     },
     "execution_count": 80,
     "metadata": {},
     "output_type": "execute_result"
    }
   ],
   "source": [
    "data['locality_name'].unique()"
   ]
  },
  {
   "cell_type": "code",
   "execution_count": 81,
   "id": "bd3d5a82",
   "metadata": {},
   "outputs": [
    {
     "data": {
      "text/plain": [
       "array(['Санкт-Петербург', 'Шушары', 'Янино-1', 'Парголово', 'Мурино',\n",
       "       'Ломоносов', 'Сертолово', 'Петергоф', 'Пушкин', 'Кудрово',\n",
       "       'Коммунар', 'Колпино', 'Красный Бор', 'Гатчина', 'Фёдоровское',\n",
       "       'Выборг', 'Кронштадт', 'Кировск', 'Новое Девяткино',\n",
       "       'Металлострой', 'Лебяжье', 'Сиверский', 'Молодцово',\n",
       "       'Кузьмоловский', 'Новая Ропша', 'Павловск', 'Пикколово',\n",
       "       'Всеволожск', 'Волхов', 'Кингисепп', 'Приозерск', 'Сестрорецк',\n",
       "       'Куттузи', 'Аннино', 'Ефимовский', 'Плодовое', 'Заклинье',\n",
       "       'Торковичи', 'Первомайское', 'Красное Село', 'Понтонный',\n",
       "       'Сясьстрой', 'Старая', 'Лесколово', 'Новый Свет', 'Сланцы',\n",
       "       'Путилово', 'Ивангород', 'Шлиссельбург', 'Никольское',\n",
       "       'Зеленогорск', 'Сосновый Бор', 'Оржицы', 'Кальтино', 'Романовка',\n",
       "       'Бугры', 'Рощино', 'Кириши', 'Луга', 'Волосово', 'Отрадное',\n",
       "       'Павлово', 'Оредеж', 'Копорье', 'Молодёжное', 'Тихвин', 'Победа',\n",
       "       'Нурма', 'Синявино', 'Тосно', 'Стрельна', 'Бокситогорск',\n",
       "       'Александровская', 'Лопухинка', 'Пикалёво', 'Терволово',\n",
       "       'Советский', 'Подпорожье', 'Петровское', 'Токсово', 'Сельцо',\n",
       "       'Вырица', 'Кипень', 'Келози', 'Вартемяги', 'Тельмана',\n",
       "       'Севастьяново', 'Большая Ижора', 'Агалатово', 'Новогорелово',\n",
       "       'Лесогорский', 'Лаголово', 'Цвелодубово', 'Рахья', 'Белогорка',\n",
       "       'Заводской', 'Новоселье', 'Большие Колпаны', 'Горбунки', 'Батово',\n",
       "       'Заневка', 'Иссад', 'Приморск', 'Мистолово', 'Новая Ладога',\n",
       "       'Зимитицы', 'Барышево', 'Разметелево', 'Свердлова', 'Пеники',\n",
       "       'Рябово', 'Пудомяги', 'Корнево', 'Низино', 'Бегуницы', 'Поляны',\n",
       "       'Мга', 'Елизаветино', 'Кузнечное', 'Колтуши', 'Запорожское',\n",
       "       'Гостилицы', 'Малое Карлино', 'Мичуринское', 'Морозова',\n",
       "       'Песочный', 'Сосново', 'Аро', 'Ильичёво', 'Тайцы', 'Малое Верево',\n",
       "       'Извара', 'Вещево', 'Паша', 'Калитино', 'Ульяновка', 'Чудской Бор',\n",
       "       'Дубровка', 'Мины', 'Войсковицы', 'Коркино', 'Ропша',\n",
       "       'Приладожский', 'Щеглово', 'Гаврилово', 'Лодейное Поле',\n",
       "       'Рабитицы', 'Никольский', 'Кузьмолово', 'Малые Колпаны',\n",
       "       'Петро-Славянка', 'Назия', 'Репино', 'Углово', 'Старая Малукса',\n",
       "       'Меньково', 'Старые Бегуницы', 'Сапёрный', 'Семрино', 'Глажево',\n",
       "       'Кобринское', 'Гарболово', 'Юкки', 'Приветнинское', 'Мануйлово',\n",
       "       'Пчева', 'Цвылёво', 'Мельниково', 'Пудость', 'Усть-Луга',\n",
       "       'Светогорск', 'Любань', 'Селезнёво', 'Каменногорск', 'Кривко',\n",
       "       'Глебычево', 'Парицы', 'Жил', 'Войскорово', 'Стеклянный', 'Важины',\n",
       "       'Мыза-Ивановка', 'Русско-Высоцкое', 'Форносово', 'Старая Ладога',\n",
       "       'Житково', 'Виллози', 'Лампово', 'Шпаньково', 'Лаврики', 'Сумино',\n",
       "       'Возрождение', 'Старосиверская', 'Кикерино', 'Старое Хинколово',\n",
       "       'Пригородный', 'Торфяное', 'Будогощь', 'Суходолье',\n",
       "       'Красная Долина', 'Хапо-Ое', 'Дружная Горка', 'Лисий Нос',\n",
       "       'Яльгелево', 'Рождествено', 'Старополье', 'Левашово', 'Сяськелево',\n",
       "       'Камышовка', 'Лесная Поляна', 'Хязельки', 'Жилгородок', 'Ялгино',\n",
       "       'Новый Учхоз', 'Гончарово', 'Почап', 'Сапёрное',\n",
       "       'Платформа 69-й километр', 'Каложицы', 'Фалилеево', 'Пельгора',\n",
       "       'Торошковичи', 'Белоостров', 'Алексеевка', 'Серебрянский',\n",
       "       'Лукаши', 'Тарасово', 'Кингисеппский',\n",
       "       'при железнодорожной  Вещево', 'Ушаки', 'Котлы', 'Сижно',\n",
       "       'Торосово', 'Форт Красная Горка', 'Новолисино', 'Громово',\n",
       "       'Глинка', 'Старая Пустошь', 'Коммунары', 'Починок', 'Вознесенье',\n",
       "       'Разбегаево', 'Гладкое', 'при железнодорожной  Приветнинское',\n",
       "       'Тёсово-4', 'Бор', 'Коробицыно', 'Большая Вруда', 'Курковицы',\n",
       "       'Кобралово', 'Суоранда', 'Кондратьево', 'Счастье', 'Реброво',\n",
       "       'Тойворово', 'Семиозерье', 'Лесное', 'Совхозный', 'Ленинское',\n",
       "       'Суйда', 'Нижние Осельки', 'Свирь', 'Перово', 'Высоцк', 'Шум',\n",
       "       'Котельский', 'Лужайка', 'Большая Пустомержа', 'Красносельское',\n",
       "       'Вахнова Кара', 'Пижма', 'Кивеннапа Север', 'Ромашки', 'Каськово',\n",
       "       'Куровицы', 'Плоское', 'Кирпичное', 'Ям-Тесово', 'Раздолье',\n",
       "       'Терпилицы', 'Шугозеро', 'Ваганово', 'Пушное', 'Садко',\n",
       "       'Усть-Ижора', 'Выскатка', 'Свирьстрой', 'Кисельня',\n",
       "       'Трубников Бор', 'Высокоключевой', 'Пансионат Зелёный Бор',\n",
       "       'Ненимяки', 'Снегирёвка', 'Рапполово', 'Пустынка', 'Большой Сабск',\n",
       "       'Русско', 'Лупполово', 'Большое Рейзино', 'Малая Романовка',\n",
       "       'Дружноселье', 'Пчевжа', 'Володарское', 'Нижняя', 'Тихковицы',\n",
       "       'Борисова Грива', 'Дзержинского'], dtype=object)"
      ]
     },
     "execution_count": 81,
     "metadata": {},
     "output_type": "execute_result"
    }
   ],
   "source": [
    "# обрабатываем не явные дубликаты\n",
    "data['locality_name'] = data['locality_name'].str.replace('городской','')\n",
    "data['locality_name'] = data['locality_name'].str.replace('посёлок','')\n",
    "data['locality_name'] = data['locality_name'].str.replace('поселок','')\n",
    "data['locality_name'] = data['locality_name'].str.replace('городского типа','')\n",
    "data['locality_name'] = data['locality_name'].str.replace('деревня','')\n",
    "data['locality_name'] = data['locality_name'].str.replace('садовое товарищество','')\n",
    "data['locality_name'] = data['locality_name'].str.replace('коттеджный','')\n",
    "data['locality_name'] = data['locality_name'].str.replace('село','')\n",
    "data['locality_name'] = data['locality_name'].str.replace('станции','')\n",
    "data['locality_name'] = data['locality_name'].str.replace('садоводческое некоммерческое товарищество','')\n",
    "data['locality_name'] = data['locality_name'].str.replace('имени','')\n",
    "data['locality_name'] = data['locality_name'].str.lstrip()\n",
    "data['locality_name'].unique()"
   ]
  },
  {
   "cell_type": "markdown",
   "id": "99bef6be",
   "metadata": {},
   "source": [
    "###### Название населенных пунктов: пропущено значений 0,2%. Удалили строки с пропущенными значениями. Обработали неявные дубликаты в названиях населенных пунктов."
   ]
  },
  {
   "cell_type": "markdown",
   "id": "635a9750",
   "metadata": {},
   "source": [
    "### 2.7  Расстояние до центра города"
   ]
  },
  {
   "cell_type": "code",
   "execution_count": 82,
   "id": "c459d1f1",
   "metadata": {},
   "outputs": [
    {
     "data": {
      "text/plain": [
       "0.2330232558139535"
      ]
     },
     "execution_count": 82,
     "metadata": {},
     "output_type": "execute_result"
    }
   ],
   "source": [
    "# определяем долю пропущеных значений\n",
    "data['cityCenters_nearest'].isna().value_counts()[1]/len(data)"
   ]
  },
  {
   "cell_type": "code",
   "execution_count": 83,
   "id": "e7c48b7f",
   "metadata": {},
   "outputs": [
    {
     "data": {
      "text/plain": [
       "0.002579281183932347"
      ]
     },
     "execution_count": 83,
     "metadata": {},
     "output_type": "execute_result"
    }
   ],
   "source": [
    "# определяем долю пропущеных значений в Санкт-Петербурге\n",
    "data.query('locality_name == \"Санкт-Петербург\"')['cityCenters_nearest'].isna().value_counts()[1]/len(data)"
   ]
  },
  {
   "cell_type": "markdown",
   "id": "ad1baba5",
   "metadata": {},
   "source": [
    "###### Расстояние до центра города: всего пропущеных значений 23%. Но в самом городе пропущеных значений 0.25%. Основные значения пропущены в области. Скорее всего в области цена не сильно корелирует с расстоянием до центра города. И ввиду сложности заполнения данных значений, оставим их пустыми."
   ]
  },
  {
   "cell_type": "markdown",
   "id": "4a51f8ea",
   "metadata": {},
   "source": [
    "### 2.8  Аппартаменты"
   ]
  },
  {
   "cell_type": "code",
   "execution_count": 84,
   "id": "9950e1c2",
   "metadata": {},
   "outputs": [],
   "source": [
    "data['is_apartment'] = data['is_apartment'].fillna(value=False)"
   ]
  },
  {
   "cell_type": "markdown",
   "id": "95e2d2d2",
   "metadata": {},
   "source": [
    "###### Признак - Аппартаменты, это булево значение. Соответственно пропуски мы заменим на False."
   ]
  },
  {
   "cell_type": "markdown",
   "id": "00b24b6a",
   "metadata": {},
   "source": [
    "### 2.9  Время показа объявления"
   ]
  },
  {
   "cell_type": "code",
   "execution_count": 85,
   "id": "db29c82c",
   "metadata": {},
   "outputs": [
    {
     "data": {
      "text/plain": [
       "0.13446088794926003"
      ]
     },
     "execution_count": 85,
     "metadata": {},
     "output_type": "execute_result"
    }
   ],
   "source": [
    "# определяем долю пропущеных значений\n",
    "data['days_exposition'].isna().value_counts()[1]/len(data)"
   ]
  },
  {
   "cell_type": "code",
   "execution_count": 86,
   "id": "a1021ba7",
   "metadata": {},
   "outputs": [
    {
     "data": {
      "text/plain": [
       "count    23650.000000\n",
       "mean       290.775391\n",
       "std        346.021678\n",
       "min          1.000000\n",
       "25%         45.000000\n",
       "50%        124.000000\n",
       "75%        390.000000\n",
       "max       1580.000000\n",
       "Name: days_exposition, dtype: float64"
      ]
     },
     "execution_count": 86,
     "metadata": {},
     "output_type": "execute_result"
    }
   ],
   "source": [
    "# Заменяем пропуски на 999 и меняем тип данных\n",
    "data.loc[data['days_exposition'].isna(),'days_exposition'] = 999\n",
    "data['days_exposition'] = data['days_exposition'].astype('int')\n",
    "data['days_exposition'].describe()"
   ]
  },
  {
   "cell_type": "code",
   "execution_count": 87,
   "id": "ca5ba257",
   "metadata": {},
   "outputs": [
    {
     "data": {
      "text/plain": [
       "{'whiskers': [<matplotlib.lines.Line2D at 0x244c061b9d0>,\n",
       "  <matplotlib.lines.Line2D at 0x244c061bca0>],\n",
       " 'caps': [<matplotlib.lines.Line2D at 0x244c061bf70>,\n",
       "  <matplotlib.lines.Line2D at 0x244c0909280>],\n",
       " 'boxes': [<matplotlib.lines.Line2D at 0x244c061b700>],\n",
       " 'medians': [<matplotlib.lines.Line2D at 0x244c0909550>],\n",
       " 'fliers': [<matplotlib.lines.Line2D at 0x244c0909820>],\n",
       " 'means': []}"
      ]
     },
     "execution_count": 87,
     "metadata": {},
     "output_type": "execute_result"
    },
    {
     "data": {
      "image/png": "[encoded data removed]",
      "text/plain": [
       "<Figure size 640x480 with 1 Axes>"
      ]
     },
     "metadata": {},
     "output_type": "display_data"
    }
   ],
   "source": [
    "# Визуализируем данные\n",
    "mpl.pyplot.boxplot(data['days_exposition'])"
   ]
  },
  {
   "cell_type": "code",
   "execution_count": 88,
   "id": "f82380e7",
   "metadata": {},
   "outputs": [
    {
     "data": {
      "text/plain": [
       "0"
      ]
     },
     "execution_count": 88,
     "metadata": {},
     "output_type": "execute_result"
    }
   ],
   "source": [
    "# Проверяем нулевые значения\n",
    "data.query('days_exposition == 0')['days_exposition'].count()"
   ]
  },
  {
   "cell_type": "code",
   "execution_count": 89,
   "id": "c6796807",
   "metadata": {},
   "outputs": [
    {
     "data": {
      "text/plain": [
       "0.15137420718816066"
      ]
     },
     "execution_count": 89,
     "metadata": {},
     "output_type": "execute_result"
    }
   ],
   "source": [
    "# Считаем долю значений превышающих стандартное отклонение\n",
    "IQR = data['days_exposition'].describe()[6] - data['days_exposition'].describe()[4]\n",
    "standard_deviation = data['days_exposition'].describe()[6] + 1.5 * IQR\n",
    "data.query('days_exposition > @standard_deviation')['days_exposition'].count()/len(data)"
   ]
  },
  {
   "cell_type": "code",
   "execution_count": 90,
   "id": "b2142205",
   "metadata": {},
   "outputs": [
    {
     "data": {
      "text/plain": [
       "count    20070.000000\n",
       "mean       162.392427\n",
       "std        177.658640\n",
       "min          1.000000\n",
       "25%         44.000000\n",
       "50%         92.000000\n",
       "75%        217.000000\n",
       "max        907.000000\n",
       "Name: days_exposition, dtype: float64"
      ]
     },
     "execution_count": 90,
     "metadata": {},
     "output_type": "execute_result"
    }
   ],
   "source": [
    "# Выводим описание признака без учета значений превышающих стандартное отклонение\n",
    "data.query('days_exposition < @standard_deviation')['days_exposition'].describe()"
   ]
  },
  {
   "cell_type": "markdown",
   "id": "cc8164f1",
   "metadata": {},
   "source": [
    "###### Время показа объявления: Пропущенных значений 13%. Пропущенные значения заполним значением 999 и переведем в целочисленный тип. Проверка нулевых значений - таковых не выявила. Изучив диаграмму размаха, видим, что имеется 15% значений превышающих стандартное отклонение. Эти данные выглядят не правдоподобными и в будущих расчетах их учитывать не будем. Очистив данные от вбросов получаем: медианное значение - 92 дня, среднее - 162, первая квартиль - 44, третья квартиль - 217."
   ]
  },
  {
   "cell_type": "markdown",
   "id": "a15671ee",
   "metadata": {},
   "source": [
    "###### 2.10  Общяя цена объекта"
   ]
  },
  {
   "cell_type": "code",
   "execution_count": 91,
   "id": "ac5f0449",
   "metadata": {},
   "outputs": [
    {
     "data": {
      "text/html": [
       "<div>\n",
       "<style scoped>\n",
       "    .dataframe tbody tr th:only-of-type {\n",
       "        vertical-align: middle;\n",
       "    }\n",
       "\n",
       "    .dataframe tbody tr th {\n",
       "        vertical-align: top;\n",
       "    }\n",
       "\n",
       "    .dataframe thead th {\n",
       "        text-align: right;\n",
       "    }\n",
       "</style>\n",
       "<table border=\"1\" class=\"dataframe\">\n",
       "  <thead>\n",
       "    <tr style=\"text-align: right;\">\n",
       "      <th></th>\n",
       "      <th>total_images</th>\n",
       "      <th>last_price</th>\n",
       "      <th>total_area</th>\n",
       "      <th>first_day_exposition</th>\n",
       "      <th>rooms</th>\n",
       "      <th>ceiling_height</th>\n",
       "      <th>floors_total</th>\n",
       "      <th>living_area</th>\n",
       "      <th>floor</th>\n",
       "      <th>is_apartment</th>\n",
       "      <th>...</th>\n",
       "      <th>kitchen_area</th>\n",
       "      <th>balcony</th>\n",
       "      <th>locality_name</th>\n",
       "      <th>airports_nearest</th>\n",
       "      <th>cityCenters_nearest</th>\n",
       "      <th>parks_around3000</th>\n",
       "      <th>parks_nearest</th>\n",
       "      <th>ponds_around3000</th>\n",
       "      <th>ponds_nearest</th>\n",
       "      <th>days_exposition</th>\n",
       "    </tr>\n",
       "  </thead>\n",
       "  <tbody>\n",
       "    <tr>\n",
       "      <th>8900</th>\n",
       "      <td>13</td>\n",
       "      <td>190870000.0</td>\n",
       "      <td>268.0</td>\n",
       "      <td>2016-03-25</td>\n",
       "      <td>3</td>\n",
       "      <td>2.65</td>\n",
       "      <td>8.0</td>\n",
       "      <td>132.000000</td>\n",
       "      <td>7</td>\n",
       "      <td>False</td>\n",
       "      <td>...</td>\n",
       "      <td>40.000000</td>\n",
       "      <td>0.0</td>\n",
       "      <td>Санкт-Петербург</td>\n",
       "      <td>32440.0</td>\n",
       "      <td>5297.0</td>\n",
       "      <td>0.0</td>\n",
       "      <td>NaN</td>\n",
       "      <td>2.0</td>\n",
       "      <td>198.0</td>\n",
       "      <td>901</td>\n",
       "    </tr>\n",
       "    <tr>\n",
       "      <th>5893</th>\n",
       "      <td>3</td>\n",
       "      <td>230000000.0</td>\n",
       "      <td>500.0</td>\n",
       "      <td>2017-05-31</td>\n",
       "      <td>6</td>\n",
       "      <td>2.65</td>\n",
       "      <td>7.0</td>\n",
       "      <td>288.461538</td>\n",
       "      <td>7</td>\n",
       "      <td>False</td>\n",
       "      <td>...</td>\n",
       "      <td>40.000000</td>\n",
       "      <td>0.0</td>\n",
       "      <td>Санкт-Петербург</td>\n",
       "      <td>32440.0</td>\n",
       "      <td>5297.0</td>\n",
       "      <td>0.0</td>\n",
       "      <td>NaN</td>\n",
       "      <td>2.0</td>\n",
       "      <td>198.0</td>\n",
       "      <td>50</td>\n",
       "    </tr>\n",
       "    <tr>\n",
       "      <th>13749</th>\n",
       "      <td>7</td>\n",
       "      <td>240000000.0</td>\n",
       "      <td>410.0</td>\n",
       "      <td>2017-04-01</td>\n",
       "      <td>6</td>\n",
       "      <td>2.65</td>\n",
       "      <td>7.0</td>\n",
       "      <td>218.000000</td>\n",
       "      <td>7</td>\n",
       "      <td>False</td>\n",
       "      <td>...</td>\n",
       "      <td>40.000000</td>\n",
       "      <td>0.0</td>\n",
       "      <td>Санкт-Петербург</td>\n",
       "      <td>32440.0</td>\n",
       "      <td>5297.0</td>\n",
       "      <td>0.0</td>\n",
       "      <td>NaN</td>\n",
       "      <td>2.0</td>\n",
       "      <td>198.0</td>\n",
       "      <td>199</td>\n",
       "    </tr>\n",
       "    <tr>\n",
       "      <th>16461</th>\n",
       "      <td>17</td>\n",
       "      <td>245000000.0</td>\n",
       "      <td>285.7</td>\n",
       "      <td>2017-04-10</td>\n",
       "      <td>6</td>\n",
       "      <td>2.65</td>\n",
       "      <td>7.0</td>\n",
       "      <td>182.800000</td>\n",
       "      <td>4</td>\n",
       "      <td>False</td>\n",
       "      <td>...</td>\n",
       "      <td>29.800000</td>\n",
       "      <td>0.0</td>\n",
       "      <td>Санкт-Петербург</td>\n",
       "      <td>33143.0</td>\n",
       "      <td>6235.0</td>\n",
       "      <td>3.0</td>\n",
       "      <td>400.0</td>\n",
       "      <td>3.0</td>\n",
       "      <td>140.0</td>\n",
       "      <td>249</td>\n",
       "    </tr>\n",
       "    <tr>\n",
       "      <th>22831</th>\n",
       "      <td>18</td>\n",
       "      <td>289238400.0</td>\n",
       "      <td>187.5</td>\n",
       "      <td>2019-03-19</td>\n",
       "      <td>2</td>\n",
       "      <td>2.65</td>\n",
       "      <td>6.0</td>\n",
       "      <td>63.700000</td>\n",
       "      <td>6</td>\n",
       "      <td>False</td>\n",
       "      <td>...</td>\n",
       "      <td>30.200000</td>\n",
       "      <td>0.0</td>\n",
       "      <td>Санкт-Петербург</td>\n",
       "      <td>22494.0</td>\n",
       "      <td>1073.0</td>\n",
       "      <td>3.0</td>\n",
       "      <td>386.0</td>\n",
       "      <td>3.0</td>\n",
       "      <td>188.0</td>\n",
       "      <td>999</td>\n",
       "    </tr>\n",
       "    <tr>\n",
       "      <th>15651</th>\n",
       "      <td>20</td>\n",
       "      <td>300000000.0</td>\n",
       "      <td>618.0</td>\n",
       "      <td>2017-12-18</td>\n",
       "      <td>7</td>\n",
       "      <td>2.65</td>\n",
       "      <td>7.0</td>\n",
       "      <td>258.000000</td>\n",
       "      <td>5</td>\n",
       "      <td>False</td>\n",
       "      <td>...</td>\n",
       "      <td>70.000000</td>\n",
       "      <td>0.0</td>\n",
       "      <td>Санкт-Петербург</td>\n",
       "      <td>32440.0</td>\n",
       "      <td>5297.0</td>\n",
       "      <td>0.0</td>\n",
       "      <td>NaN</td>\n",
       "      <td>2.0</td>\n",
       "      <td>198.0</td>\n",
       "      <td>111</td>\n",
       "    </tr>\n",
       "    <tr>\n",
       "      <th>1436</th>\n",
       "      <td>19</td>\n",
       "      <td>330000000.0</td>\n",
       "      <td>190.0</td>\n",
       "      <td>2018-04-04</td>\n",
       "      <td>3</td>\n",
       "      <td>2.65</td>\n",
       "      <td>7.0</td>\n",
       "      <td>95.000000</td>\n",
       "      <td>5</td>\n",
       "      <td>False</td>\n",
       "      <td>...</td>\n",
       "      <td>40.000000</td>\n",
       "      <td>0.0</td>\n",
       "      <td>Санкт-Петербург</td>\n",
       "      <td>23011.0</td>\n",
       "      <td>1197.0</td>\n",
       "      <td>3.0</td>\n",
       "      <td>519.0</td>\n",
       "      <td>3.0</td>\n",
       "      <td>285.0</td>\n",
       "      <td>233</td>\n",
       "    </tr>\n",
       "    <tr>\n",
       "      <th>14706</th>\n",
       "      <td>15</td>\n",
       "      <td>401300000.0</td>\n",
       "      <td>401.0</td>\n",
       "      <td>2016-02-20</td>\n",
       "      <td>5</td>\n",
       "      <td>2.65</td>\n",
       "      <td>9.0</td>\n",
       "      <td>204.000000</td>\n",
       "      <td>9</td>\n",
       "      <td>False</td>\n",
       "      <td>...</td>\n",
       "      <td>24.000000</td>\n",
       "      <td>3.0</td>\n",
       "      <td>Санкт-Петербург</td>\n",
       "      <td>21912.0</td>\n",
       "      <td>2389.0</td>\n",
       "      <td>1.0</td>\n",
       "      <td>545.0</td>\n",
       "      <td>1.0</td>\n",
       "      <td>478.0</td>\n",
       "      <td>393</td>\n",
       "    </tr>\n",
       "    <tr>\n",
       "      <th>19540</th>\n",
       "      <td>8</td>\n",
       "      <td>420000000.0</td>\n",
       "      <td>900.0</td>\n",
       "      <td>2017-12-06</td>\n",
       "      <td>12</td>\n",
       "      <td>2.80</td>\n",
       "      <td>25.0</td>\n",
       "      <td>409.700000</td>\n",
       "      <td>25</td>\n",
       "      <td>False</td>\n",
       "      <td>...</td>\n",
       "      <td>112.000000</td>\n",
       "      <td>0.0</td>\n",
       "      <td>Санкт-Петербург</td>\n",
       "      <td>30706.0</td>\n",
       "      <td>7877.0</td>\n",
       "      <td>0.0</td>\n",
       "      <td>NaN</td>\n",
       "      <td>2.0</td>\n",
       "      <td>318.0</td>\n",
       "      <td>106</td>\n",
       "    </tr>\n",
       "    <tr>\n",
       "      <th>12971</th>\n",
       "      <td>19</td>\n",
       "      <td>763000000.0</td>\n",
       "      <td>400.0</td>\n",
       "      <td>2017-09-30</td>\n",
       "      <td>7</td>\n",
       "      <td>2.65</td>\n",
       "      <td>10.0</td>\n",
       "      <td>250.000000</td>\n",
       "      <td>10</td>\n",
       "      <td>False</td>\n",
       "      <td>...</td>\n",
       "      <td>69.307692</td>\n",
       "      <td>2.0</td>\n",
       "      <td>Санкт-Петербург</td>\n",
       "      <td>25108.0</td>\n",
       "      <td>3956.0</td>\n",
       "      <td>1.0</td>\n",
       "      <td>530.0</td>\n",
       "      <td>3.0</td>\n",
       "      <td>756.0</td>\n",
       "      <td>33</td>\n",
       "    </tr>\n",
       "  </tbody>\n",
       "</table>\n",
       "<p>10 rows × 22 columns</p>\n",
       "</div>"
      ],
      "text/plain": [
       "       total_images   last_price  total_area first_day_exposition  rooms  \\\n",
       "8900             13  190870000.0       268.0           2016-03-25      3   \n",
       "5893              3  230000000.0       500.0           2017-05-31      6   \n",
       "13749             7  240000000.0       410.0           2017-04-01      6   \n",
       "16461            17  245000000.0       285.7           2017-04-10      6   \n",
       "22831            18  289238400.0       187.5           2019-03-19      2   \n",
       "15651            20  300000000.0       618.0           2017-12-18      7   \n",
       "1436             19  330000000.0       190.0           2018-04-04      3   \n",
       "14706            15  401300000.0       401.0           2016-02-20      5   \n",
       "19540             8  420000000.0       900.0           2017-12-06     12   \n",
       "12971            19  763000000.0       400.0           2017-09-30      7   \n",
       "\n",
       "       ceiling_height  floors_total  living_area  floor  is_apartment  ...  \\\n",
       "8900             2.65           8.0   132.000000      7         False  ...   \n",
       "5893             2.65           7.0   288.461538      7         False  ...   \n",
       "13749            2.65           7.0   218.000000      7         False  ...   \n",
       "16461            2.65           7.0   182.800000      4         False  ...   \n",
       "22831            2.65           6.0    63.700000      6         False  ...   \n",
       "15651            2.65           7.0   258.000000      5         False  ...   \n",
       "1436             2.65           7.0    95.000000      5         False  ...   \n",
       "14706            2.65           9.0   204.000000      9         False  ...   \n",
       "19540            2.80          25.0   409.700000     25         False  ...   \n",
       "12971            2.65          10.0   250.000000     10         False  ...   \n",
       "\n",
       "       kitchen_area  balcony    locality_name  airports_nearest  \\\n",
       "8900      40.000000      0.0  Санкт-Петербург           32440.0   \n",
       "5893      40.000000      0.0  Санкт-Петербург           32440.0   \n",
       "13749     40.000000      0.0  Санкт-Петербург           32440.0   \n",
       "16461     29.800000      0.0  Санкт-Петербург           33143.0   \n",
       "22831     30.200000      0.0  Санкт-Петербург           22494.0   \n",
       "15651     70.000000      0.0  Санкт-Петербург           32440.0   \n",
       "1436      40.000000      0.0  Санкт-Петербург           23011.0   \n",
       "14706     24.000000      3.0  Санкт-Петербург           21912.0   \n",
       "19540    112.000000      0.0  Санкт-Петербург           30706.0   \n",
       "12971     69.307692      2.0  Санкт-Петербург           25108.0   \n",
       "\n",
       "      cityCenters_nearest  parks_around3000  parks_nearest  ponds_around3000  \\\n",
       "8900               5297.0               0.0            NaN               2.0   \n",
       "5893               5297.0               0.0            NaN               2.0   \n",
       "13749              5297.0               0.0            NaN               2.0   \n",
       "16461              6235.0               3.0          400.0               3.0   \n",
       "22831              1073.0               3.0          386.0               3.0   \n",
       "15651              5297.0               0.0            NaN               2.0   \n",
       "1436               1197.0               3.0          519.0               3.0   \n",
       "14706              2389.0               1.0          545.0               1.0   \n",
       "19540              7877.0               0.0            NaN               2.0   \n",
       "12971              3956.0               1.0          530.0               3.0   \n",
       "\n",
       "       ponds_nearest  days_exposition  \n",
       "8900           198.0              901  \n",
       "5893           198.0               50  \n",
       "13749          198.0              199  \n",
       "16461          140.0              249  \n",
       "22831          188.0              999  \n",
       "15651          198.0              111  \n",
       "1436           285.0              233  \n",
       "14706          478.0              393  \n",
       "19540          318.0              106  \n",
       "12971          756.0               33  \n",
       "\n",
       "[10 rows x 22 columns]"
      ]
     },
     "execution_count": 91,
     "metadata": {},
     "output_type": "execute_result"
    }
   ],
   "source": [
    "# Посмотрим на самые дорогие объявления\n",
    "data.sort_values(by = 'last_price').tail(10)"
   ]
  },
  {
   "cell_type": "markdown",
   "id": "2630e85b",
   "metadata": {},
   "source": [
    "###### Видим, что самое дорогое объявление почти в 2 раза дороже ближайшего соседа, хотя квадратура помещения даже меньше. Это безусловно сильно повлияет на показатели дальнейшего исследования. Удалим данное объявление, для корректности исследования"
   ]
  },
  {
   "cell_type": "code",
   "execution_count": 92,
   "id": "40433a80",
   "metadata": {},
   "outputs": [
    {
     "data": {
      "text/html": [
       "<div>\n",
       "<style scoped>\n",
       "    .dataframe tbody tr th:only-of-type {\n",
       "        vertical-align: middle;\n",
       "    }\n",
       "\n",
       "    .dataframe tbody tr th {\n",
       "        vertical-align: top;\n",
       "    }\n",
       "\n",
       "    .dataframe thead th {\n",
       "        text-align: right;\n",
       "    }\n",
       "</style>\n",
       "<table border=\"1\" class=\"dataframe\">\n",
       "  <thead>\n",
       "    <tr style=\"text-align: right;\">\n",
       "      <th></th>\n",
       "      <th>total_images</th>\n",
       "      <th>last_price</th>\n",
       "      <th>total_area</th>\n",
       "      <th>first_day_exposition</th>\n",
       "      <th>rooms</th>\n",
       "      <th>ceiling_height</th>\n",
       "      <th>floors_total</th>\n",
       "      <th>living_area</th>\n",
       "      <th>floor</th>\n",
       "      <th>is_apartment</th>\n",
       "      <th>...</th>\n",
       "      <th>kitchen_area</th>\n",
       "      <th>balcony</th>\n",
       "      <th>locality_name</th>\n",
       "      <th>airports_nearest</th>\n",
       "      <th>cityCenters_nearest</th>\n",
       "      <th>parks_around3000</th>\n",
       "      <th>parks_nearest</th>\n",
       "      <th>ponds_around3000</th>\n",
       "      <th>ponds_nearest</th>\n",
       "      <th>days_exposition</th>\n",
       "    </tr>\n",
       "  </thead>\n",
       "  <tbody>\n",
       "    <tr>\n",
       "      <th>19865</th>\n",
       "      <td>20</td>\n",
       "      <td>180000000.0</td>\n",
       "      <td>347.0</td>\n",
       "      <td>2015-01-21</td>\n",
       "      <td>8</td>\n",
       "      <td>2.65</td>\n",
       "      <td>6.0</td>\n",
       "      <td>260.000000</td>\n",
       "      <td>3</td>\n",
       "      <td>False</td>\n",
       "      <td>...</td>\n",
       "      <td>45.0</td>\n",
       "      <td>0.0</td>\n",
       "      <td>Санкт-Петербург</td>\n",
       "      <td>23962.0</td>\n",
       "      <td>3794.0</td>\n",
       "      <td>2.0</td>\n",
       "      <td>537.0</td>\n",
       "      <td>3.0</td>\n",
       "      <td>501.0</td>\n",
       "      <td>834</td>\n",
       "    </tr>\n",
       "    <tr>\n",
       "      <th>8900</th>\n",
       "      <td>13</td>\n",
       "      <td>190870000.0</td>\n",
       "      <td>268.0</td>\n",
       "      <td>2016-03-25</td>\n",
       "      <td>3</td>\n",
       "      <td>2.65</td>\n",
       "      <td>8.0</td>\n",
       "      <td>132.000000</td>\n",
       "      <td>7</td>\n",
       "      <td>False</td>\n",
       "      <td>...</td>\n",
       "      <td>40.0</td>\n",
       "      <td>0.0</td>\n",
       "      <td>Санкт-Петербург</td>\n",
       "      <td>32440.0</td>\n",
       "      <td>5297.0</td>\n",
       "      <td>0.0</td>\n",
       "      <td>NaN</td>\n",
       "      <td>2.0</td>\n",
       "      <td>198.0</td>\n",
       "      <td>901</td>\n",
       "    </tr>\n",
       "    <tr>\n",
       "      <th>5893</th>\n",
       "      <td>3</td>\n",
       "      <td>230000000.0</td>\n",
       "      <td>500.0</td>\n",
       "      <td>2017-05-31</td>\n",
       "      <td>6</td>\n",
       "      <td>2.65</td>\n",
       "      <td>7.0</td>\n",
       "      <td>288.461538</td>\n",
       "      <td>7</td>\n",
       "      <td>False</td>\n",
       "      <td>...</td>\n",
       "      <td>40.0</td>\n",
       "      <td>0.0</td>\n",
       "      <td>Санкт-Петербург</td>\n",
       "      <td>32440.0</td>\n",
       "      <td>5297.0</td>\n",
       "      <td>0.0</td>\n",
       "      <td>NaN</td>\n",
       "      <td>2.0</td>\n",
       "      <td>198.0</td>\n",
       "      <td>50</td>\n",
       "    </tr>\n",
       "    <tr>\n",
       "      <th>13749</th>\n",
       "      <td>7</td>\n",
       "      <td>240000000.0</td>\n",
       "      <td>410.0</td>\n",
       "      <td>2017-04-01</td>\n",
       "      <td>6</td>\n",
       "      <td>2.65</td>\n",
       "      <td>7.0</td>\n",
       "      <td>218.000000</td>\n",
       "      <td>7</td>\n",
       "      <td>False</td>\n",
       "      <td>...</td>\n",
       "      <td>40.0</td>\n",
       "      <td>0.0</td>\n",
       "      <td>Санкт-Петербург</td>\n",
       "      <td>32440.0</td>\n",
       "      <td>5297.0</td>\n",
       "      <td>0.0</td>\n",
       "      <td>NaN</td>\n",
       "      <td>2.0</td>\n",
       "      <td>198.0</td>\n",
       "      <td>199</td>\n",
       "    </tr>\n",
       "    <tr>\n",
       "      <th>16461</th>\n",
       "      <td>17</td>\n",
       "      <td>245000000.0</td>\n",
       "      <td>285.7</td>\n",
       "      <td>2017-04-10</td>\n",
       "      <td>6</td>\n",
       "      <td>2.65</td>\n",
       "      <td>7.0</td>\n",
       "      <td>182.800000</td>\n",
       "      <td>4</td>\n",
       "      <td>False</td>\n",
       "      <td>...</td>\n",
       "      <td>29.8</td>\n",
       "      <td>0.0</td>\n",
       "      <td>Санкт-Петербург</td>\n",
       "      <td>33143.0</td>\n",
       "      <td>6235.0</td>\n",
       "      <td>3.0</td>\n",
       "      <td>400.0</td>\n",
       "      <td>3.0</td>\n",
       "      <td>140.0</td>\n",
       "      <td>249</td>\n",
       "    </tr>\n",
       "    <tr>\n",
       "      <th>22831</th>\n",
       "      <td>18</td>\n",
       "      <td>289238400.0</td>\n",
       "      <td>187.5</td>\n",
       "      <td>2019-03-19</td>\n",
       "      <td>2</td>\n",
       "      <td>2.65</td>\n",
       "      <td>6.0</td>\n",
       "      <td>63.700000</td>\n",
       "      <td>6</td>\n",
       "      <td>False</td>\n",
       "      <td>...</td>\n",
       "      <td>30.2</td>\n",
       "      <td>0.0</td>\n",
       "      <td>Санкт-Петербург</td>\n",
       "      <td>22494.0</td>\n",
       "      <td>1073.0</td>\n",
       "      <td>3.0</td>\n",
       "      <td>386.0</td>\n",
       "      <td>3.0</td>\n",
       "      <td>188.0</td>\n",
       "      <td>999</td>\n",
       "    </tr>\n",
       "    <tr>\n",
       "      <th>15651</th>\n",
       "      <td>20</td>\n",
       "      <td>300000000.0</td>\n",
       "      <td>618.0</td>\n",
       "      <td>2017-12-18</td>\n",
       "      <td>7</td>\n",
       "      <td>2.65</td>\n",
       "      <td>7.0</td>\n",
       "      <td>258.000000</td>\n",
       "      <td>5</td>\n",
       "      <td>False</td>\n",
       "      <td>...</td>\n",
       "      <td>70.0</td>\n",
       "      <td>0.0</td>\n",
       "      <td>Санкт-Петербург</td>\n",
       "      <td>32440.0</td>\n",
       "      <td>5297.0</td>\n",
       "      <td>0.0</td>\n",
       "      <td>NaN</td>\n",
       "      <td>2.0</td>\n",
       "      <td>198.0</td>\n",
       "      <td>111</td>\n",
       "    </tr>\n",
       "    <tr>\n",
       "      <th>1436</th>\n",
       "      <td>19</td>\n",
       "      <td>330000000.0</td>\n",
       "      <td>190.0</td>\n",
       "      <td>2018-04-04</td>\n",
       "      <td>3</td>\n",
       "      <td>2.65</td>\n",
       "      <td>7.0</td>\n",
       "      <td>95.000000</td>\n",
       "      <td>5</td>\n",
       "      <td>False</td>\n",
       "      <td>...</td>\n",
       "      <td>40.0</td>\n",
       "      <td>0.0</td>\n",
       "      <td>Санкт-Петербург</td>\n",
       "      <td>23011.0</td>\n",
       "      <td>1197.0</td>\n",
       "      <td>3.0</td>\n",
       "      <td>519.0</td>\n",
       "      <td>3.0</td>\n",
       "      <td>285.0</td>\n",
       "      <td>233</td>\n",
       "    </tr>\n",
       "    <tr>\n",
       "      <th>14706</th>\n",
       "      <td>15</td>\n",
       "      <td>401300000.0</td>\n",
       "      <td>401.0</td>\n",
       "      <td>2016-02-20</td>\n",
       "      <td>5</td>\n",
       "      <td>2.65</td>\n",
       "      <td>9.0</td>\n",
       "      <td>204.000000</td>\n",
       "      <td>9</td>\n",
       "      <td>False</td>\n",
       "      <td>...</td>\n",
       "      <td>24.0</td>\n",
       "      <td>3.0</td>\n",
       "      <td>Санкт-Петербург</td>\n",
       "      <td>21912.0</td>\n",
       "      <td>2389.0</td>\n",
       "      <td>1.0</td>\n",
       "      <td>545.0</td>\n",
       "      <td>1.0</td>\n",
       "      <td>478.0</td>\n",
       "      <td>393</td>\n",
       "    </tr>\n",
       "    <tr>\n",
       "      <th>19540</th>\n",
       "      <td>8</td>\n",
       "      <td>420000000.0</td>\n",
       "      <td>900.0</td>\n",
       "      <td>2017-12-06</td>\n",
       "      <td>12</td>\n",
       "      <td>2.80</td>\n",
       "      <td>25.0</td>\n",
       "      <td>409.700000</td>\n",
       "      <td>25</td>\n",
       "      <td>False</td>\n",
       "      <td>...</td>\n",
       "      <td>112.0</td>\n",
       "      <td>0.0</td>\n",
       "      <td>Санкт-Петербург</td>\n",
       "      <td>30706.0</td>\n",
       "      <td>7877.0</td>\n",
       "      <td>0.0</td>\n",
       "      <td>NaN</td>\n",
       "      <td>2.0</td>\n",
       "      <td>318.0</td>\n",
       "      <td>106</td>\n",
       "    </tr>\n",
       "  </tbody>\n",
       "</table>\n",
       "<p>10 rows × 22 columns</p>\n",
       "</div>"
      ],
      "text/plain": [
       "       total_images   last_price  total_area first_day_exposition  rooms  \\\n",
       "19865            20  180000000.0       347.0           2015-01-21      8   \n",
       "8900             13  190870000.0       268.0           2016-03-25      3   \n",
       "5893              3  230000000.0       500.0           2017-05-31      6   \n",
       "13749             7  240000000.0       410.0           2017-04-01      6   \n",
       "16461            17  245000000.0       285.7           2017-04-10      6   \n",
       "22831            18  289238400.0       187.5           2019-03-19      2   \n",
       "15651            20  300000000.0       618.0           2017-12-18      7   \n",
       "1436             19  330000000.0       190.0           2018-04-04      3   \n",
       "14706            15  401300000.0       401.0           2016-02-20      5   \n",
       "19540             8  420000000.0       900.0           2017-12-06     12   \n",
       "\n",
       "       ceiling_height  floors_total  living_area  floor  is_apartment  ...  \\\n",
       "19865            2.65           6.0   260.000000      3         False  ...   \n",
       "8900             2.65           8.0   132.000000      7         False  ...   \n",
       "5893             2.65           7.0   288.461538      7         False  ...   \n",
       "13749            2.65           7.0   218.000000      7         False  ...   \n",
       "16461            2.65           7.0   182.800000      4         False  ...   \n",
       "22831            2.65           6.0    63.700000      6         False  ...   \n",
       "15651            2.65           7.0   258.000000      5         False  ...   \n",
       "1436             2.65           7.0    95.000000      5         False  ...   \n",
       "14706            2.65           9.0   204.000000      9         False  ...   \n",
       "19540            2.80          25.0   409.700000     25         False  ...   \n",
       "\n",
       "       kitchen_area  balcony    locality_name  airports_nearest  \\\n",
       "19865          45.0      0.0  Санкт-Петербург           23962.0   \n",
       "8900           40.0      0.0  Санкт-Петербург           32440.0   \n",
       "5893           40.0      0.0  Санкт-Петербург           32440.0   \n",
       "13749          40.0      0.0  Санкт-Петербург           32440.0   \n",
       "16461          29.8      0.0  Санкт-Петербург           33143.0   \n",
       "22831          30.2      0.0  Санкт-Петербург           22494.0   \n",
       "15651          70.0      0.0  Санкт-Петербург           32440.0   \n",
       "1436           40.0      0.0  Санкт-Петербург           23011.0   \n",
       "14706          24.0      3.0  Санкт-Петербург           21912.0   \n",
       "19540         112.0      0.0  Санкт-Петербург           30706.0   \n",
       "\n",
       "      cityCenters_nearest  parks_around3000  parks_nearest  ponds_around3000  \\\n",
       "19865              3794.0               2.0          537.0               3.0   \n",
       "8900               5297.0               0.0            NaN               2.0   \n",
       "5893               5297.0               0.0            NaN               2.0   \n",
       "13749              5297.0               0.0            NaN               2.0   \n",
       "16461              6235.0               3.0          400.0               3.0   \n",
       "22831              1073.0               3.0          386.0               3.0   \n",
       "15651              5297.0               0.0            NaN               2.0   \n",
       "1436               1197.0               3.0          519.0               3.0   \n",
       "14706              2389.0               1.0          545.0               1.0   \n",
       "19540              7877.0               0.0            NaN               2.0   \n",
       "\n",
       "       ponds_nearest  days_exposition  \n",
       "19865          501.0              834  \n",
       "8900           198.0              901  \n",
       "5893           198.0               50  \n",
       "13749          198.0              199  \n",
       "16461          140.0              249  \n",
       "22831          188.0              999  \n",
       "15651          198.0              111  \n",
       "1436           285.0              233  \n",
       "14706          478.0              393  \n",
       "19540          318.0              106  \n",
       "\n",
       "[10 rows x 22 columns]"
      ]
     },
     "execution_count": 92,
     "metadata": {},
     "output_type": "execute_result"
    }
   ],
   "source": [
    "data = data.sort_values(by = 'last_price').drop(12971)\n",
    "data.sort_values(by = 'last_price').tail(10)"
   ]
  },
  {
   "cell_type": "code",
   "execution_count": 93,
   "id": "debff542",
   "metadata": {},
   "outputs": [
    {
     "data": {
      "text/html": [
       "<div>\n",
       "<style scoped>\n",
       "    .dataframe tbody tr th:only-of-type {\n",
       "        vertical-align: middle;\n",
       "    }\n",
       "\n",
       "    .dataframe tbody tr th {\n",
       "        vertical-align: top;\n",
       "    }\n",
       "\n",
       "    .dataframe thead th {\n",
       "        text-align: right;\n",
       "    }\n",
       "</style>\n",
       "<table border=\"1\" class=\"dataframe\">\n",
       "  <thead>\n",
       "    <tr style=\"text-align: right;\">\n",
       "      <th></th>\n",
       "      <th>total_images</th>\n",
       "      <th>last_price</th>\n",
       "      <th>total_area</th>\n",
       "      <th>first_day_exposition</th>\n",
       "      <th>rooms</th>\n",
       "      <th>ceiling_height</th>\n",
       "      <th>floors_total</th>\n",
       "      <th>living_area</th>\n",
       "      <th>floor</th>\n",
       "      <th>is_apartment</th>\n",
       "      <th>...</th>\n",
       "      <th>kitchen_area</th>\n",
       "      <th>balcony</th>\n",
       "      <th>locality_name</th>\n",
       "      <th>airports_nearest</th>\n",
       "      <th>cityCenters_nearest</th>\n",
       "      <th>parks_around3000</th>\n",
       "      <th>parks_nearest</th>\n",
       "      <th>ponds_around3000</th>\n",
       "      <th>ponds_nearest</th>\n",
       "      <th>days_exposition</th>\n",
       "    </tr>\n",
       "  </thead>\n",
       "  <tbody>\n",
       "    <tr>\n",
       "      <th>8793</th>\n",
       "      <td>7</td>\n",
       "      <td>12190.0</td>\n",
       "      <td>109.0</td>\n",
       "      <td>2019-03-20</td>\n",
       "      <td>2</td>\n",
       "      <td>2.75</td>\n",
       "      <td>25.0</td>\n",
       "      <td>32.000000</td>\n",
       "      <td>25</td>\n",
       "      <td>False</td>\n",
       "      <td>...</td>\n",
       "      <td>40.500000</td>\n",
       "      <td>0.0</td>\n",
       "      <td>Санкт-Петербург</td>\n",
       "      <td>36421.0</td>\n",
       "      <td>9176.0</td>\n",
       "      <td>1.0</td>\n",
       "      <td>805.0</td>\n",
       "      <td>0.0</td>\n",
       "      <td>NaN</td>\n",
       "      <td>8</td>\n",
       "    </tr>\n",
       "    <tr>\n",
       "      <th>17456</th>\n",
       "      <td>7</td>\n",
       "      <td>430000.0</td>\n",
       "      <td>30.4</td>\n",
       "      <td>2019-04-22</td>\n",
       "      <td>1</td>\n",
       "      <td>2.65</td>\n",
       "      <td>2.0</td>\n",
       "      <td>16.000000</td>\n",
       "      <td>1</td>\n",
       "      <td>False</td>\n",
       "      <td>...</td>\n",
       "      <td>6.000000</td>\n",
       "      <td>0.0</td>\n",
       "      <td>Сланцы</td>\n",
       "      <td>NaN</td>\n",
       "      <td>NaN</td>\n",
       "      <td>NaN</td>\n",
       "      <td>NaN</td>\n",
       "      <td>NaN</td>\n",
       "      <td>NaN</td>\n",
       "      <td>999</td>\n",
       "    </tr>\n",
       "    <tr>\n",
       "      <th>14911</th>\n",
       "      <td>5</td>\n",
       "      <td>430000.0</td>\n",
       "      <td>54.0</td>\n",
       "      <td>2018-06-26</td>\n",
       "      <td>2</td>\n",
       "      <td>2.65</td>\n",
       "      <td>3.0</td>\n",
       "      <td>31.153846</td>\n",
       "      <td>3</td>\n",
       "      <td>False</td>\n",
       "      <td>...</td>\n",
       "      <td>9.356538</td>\n",
       "      <td>0.0</td>\n",
       "      <td>Свирь</td>\n",
       "      <td>NaN</td>\n",
       "      <td>NaN</td>\n",
       "      <td>NaN</td>\n",
       "      <td>NaN</td>\n",
       "      <td>NaN</td>\n",
       "      <td>NaN</td>\n",
       "      <td>44</td>\n",
       "    </tr>\n",
       "    <tr>\n",
       "      <th>16274</th>\n",
       "      <td>18</td>\n",
       "      <td>440000.0</td>\n",
       "      <td>40.0</td>\n",
       "      <td>2018-07-10</td>\n",
       "      <td>1</td>\n",
       "      <td>2.65</td>\n",
       "      <td>5.0</td>\n",
       "      <td>23.076923</td>\n",
       "      <td>1</td>\n",
       "      <td>False</td>\n",
       "      <td>...</td>\n",
       "      <td>6.930769</td>\n",
       "      <td>0.0</td>\n",
       "      <td>Старополье</td>\n",
       "      <td>NaN</td>\n",
       "      <td>NaN</td>\n",
       "      <td>NaN</td>\n",
       "      <td>NaN</td>\n",
       "      <td>NaN</td>\n",
       "      <td>NaN</td>\n",
       "      <td>45</td>\n",
       "    </tr>\n",
       "    <tr>\n",
       "      <th>17676</th>\n",
       "      <td>0</td>\n",
       "      <td>450000.0</td>\n",
       "      <td>36.5</td>\n",
       "      <td>2018-02-01</td>\n",
       "      <td>1</td>\n",
       "      <td>2.65</td>\n",
       "      <td>5.0</td>\n",
       "      <td>17.300000</td>\n",
       "      <td>4</td>\n",
       "      <td>False</td>\n",
       "      <td>...</td>\n",
       "      <td>8.500000</td>\n",
       "      <td>1.0</td>\n",
       "      <td>Ям-Тесово</td>\n",
       "      <td>NaN</td>\n",
       "      <td>NaN</td>\n",
       "      <td>NaN</td>\n",
       "      <td>NaN</td>\n",
       "      <td>NaN</td>\n",
       "      <td>NaN</td>\n",
       "      <td>120</td>\n",
       "    </tr>\n",
       "    <tr>\n",
       "      <th>9581</th>\n",
       "      <td>7</td>\n",
       "      <td>450000.0</td>\n",
       "      <td>43.4</td>\n",
       "      <td>2018-08-31</td>\n",
       "      <td>2</td>\n",
       "      <td>2.65</td>\n",
       "      <td>5.0</td>\n",
       "      <td>30.300000</td>\n",
       "      <td>3</td>\n",
       "      <td>False</td>\n",
       "      <td>...</td>\n",
       "      <td>5.500000</td>\n",
       "      <td>0.0</td>\n",
       "      <td>Старополье</td>\n",
       "      <td>NaN</td>\n",
       "      <td>NaN</td>\n",
       "      <td>NaN</td>\n",
       "      <td>NaN</td>\n",
       "      <td>NaN</td>\n",
       "      <td>NaN</td>\n",
       "      <td>96</td>\n",
       "    </tr>\n",
       "    <tr>\n",
       "      <th>5698</th>\n",
       "      <td>7</td>\n",
       "      <td>450000.0</td>\n",
       "      <td>42.0</td>\n",
       "      <td>2017-07-31</td>\n",
       "      <td>2</td>\n",
       "      <td>2.65</td>\n",
       "      <td>1.0</td>\n",
       "      <td>23.000000</td>\n",
       "      <td>1</td>\n",
       "      <td>False</td>\n",
       "      <td>...</td>\n",
       "      <td>5.800000</td>\n",
       "      <td>0.0</td>\n",
       "      <td>Будогощь</td>\n",
       "      <td>NaN</td>\n",
       "      <td>NaN</td>\n",
       "      <td>NaN</td>\n",
       "      <td>NaN</td>\n",
       "      <td>NaN</td>\n",
       "      <td>NaN</td>\n",
       "      <td>233</td>\n",
       "    </tr>\n",
       "    <tr>\n",
       "      <th>16219</th>\n",
       "      <td>14</td>\n",
       "      <td>450000.0</td>\n",
       "      <td>38.5</td>\n",
       "      <td>2018-07-11</td>\n",
       "      <td>2</td>\n",
       "      <td>2.65</td>\n",
       "      <td>2.0</td>\n",
       "      <td>22.211538</td>\n",
       "      <td>1</td>\n",
       "      <td>False</td>\n",
       "      <td>...</td>\n",
       "      <td>6.670865</td>\n",
       "      <td>0.0</td>\n",
       "      <td>Вахнова Кара</td>\n",
       "      <td>NaN</td>\n",
       "      <td>NaN</td>\n",
       "      <td>NaN</td>\n",
       "      <td>NaN</td>\n",
       "      <td>NaN</td>\n",
       "      <td>NaN</td>\n",
       "      <td>45</td>\n",
       "    </tr>\n",
       "    <tr>\n",
       "      <th>18867</th>\n",
       "      <td>1</td>\n",
       "      <td>470000.0</td>\n",
       "      <td>41.0</td>\n",
       "      <td>2018-02-11</td>\n",
       "      <td>1</td>\n",
       "      <td>2.65</td>\n",
       "      <td>5.0</td>\n",
       "      <td>32.000000</td>\n",
       "      <td>3</td>\n",
       "      <td>False</td>\n",
       "      <td>...</td>\n",
       "      <td>9.000000</td>\n",
       "      <td>0.0</td>\n",
       "      <td>Выскатка</td>\n",
       "      <td>NaN</td>\n",
       "      <td>NaN</td>\n",
       "      <td>NaN</td>\n",
       "      <td>NaN</td>\n",
       "      <td>NaN</td>\n",
       "      <td>NaN</td>\n",
       "      <td>46</td>\n",
       "    </tr>\n",
       "    <tr>\n",
       "      <th>21912</th>\n",
       "      <td>0</td>\n",
       "      <td>470000.0</td>\n",
       "      <td>37.0</td>\n",
       "      <td>2018-02-18</td>\n",
       "      <td>1</td>\n",
       "      <td>2.65</td>\n",
       "      <td>3.0</td>\n",
       "      <td>21.346154</td>\n",
       "      <td>3</td>\n",
       "      <td>False</td>\n",
       "      <td>...</td>\n",
       "      <td>6.410962</td>\n",
       "      <td>0.0</td>\n",
       "      <td>Совхозный</td>\n",
       "      <td>NaN</td>\n",
       "      <td>NaN</td>\n",
       "      <td>NaN</td>\n",
       "      <td>NaN</td>\n",
       "      <td>NaN</td>\n",
       "      <td>NaN</td>\n",
       "      <td>45</td>\n",
       "    </tr>\n",
       "  </tbody>\n",
       "</table>\n",
       "<p>10 rows × 22 columns</p>\n",
       "</div>"
      ],
      "text/plain": [
       "       total_images  last_price  total_area first_day_exposition  rooms  \\\n",
       "8793              7     12190.0       109.0           2019-03-20      2   \n",
       "17456             7    430000.0        30.4           2019-04-22      1   \n",
       "14911             5    430000.0        54.0           2018-06-26      2   \n",
       "16274            18    440000.0        40.0           2018-07-10      1   \n",
       "17676             0    450000.0        36.5           2018-02-01      1   \n",
       "9581              7    450000.0        43.4           2018-08-31      2   \n",
       "5698              7    450000.0        42.0           2017-07-31      2   \n",
       "16219            14    450000.0        38.5           2018-07-11      2   \n",
       "18867             1    470000.0        41.0           2018-02-11      1   \n",
       "21912             0    470000.0        37.0           2018-02-18      1   \n",
       "\n",
       "       ceiling_height  floors_total  living_area  floor  is_apartment  ...  \\\n",
       "8793             2.75          25.0    32.000000     25         False  ...   \n",
       "17456            2.65           2.0    16.000000      1         False  ...   \n",
       "14911            2.65           3.0    31.153846      3         False  ...   \n",
       "16274            2.65           5.0    23.076923      1         False  ...   \n",
       "17676            2.65           5.0    17.300000      4         False  ...   \n",
       "9581             2.65           5.0    30.300000      3         False  ...   \n",
       "5698             2.65           1.0    23.000000      1         False  ...   \n",
       "16219            2.65           2.0    22.211538      1         False  ...   \n",
       "18867            2.65           5.0    32.000000      3         False  ...   \n",
       "21912            2.65           3.0    21.346154      3         False  ...   \n",
       "\n",
       "       kitchen_area  balcony    locality_name  airports_nearest  \\\n",
       "8793      40.500000      0.0  Санкт-Петербург           36421.0   \n",
       "17456      6.000000      0.0           Сланцы               NaN   \n",
       "14911      9.356538      0.0            Свирь               NaN   \n",
       "16274      6.930769      0.0       Старополье               NaN   \n",
       "17676      8.500000      1.0        Ям-Тесово               NaN   \n",
       "9581       5.500000      0.0       Старополье               NaN   \n",
       "5698       5.800000      0.0         Будогощь               NaN   \n",
       "16219      6.670865      0.0     Вахнова Кара               NaN   \n",
       "18867      9.000000      0.0         Выскатка               NaN   \n",
       "21912      6.410962      0.0        Совхозный               NaN   \n",
       "\n",
       "      cityCenters_nearest  parks_around3000  parks_nearest  ponds_around3000  \\\n",
       "8793               9176.0               1.0          805.0               0.0   \n",
       "17456                 NaN               NaN            NaN               NaN   \n",
       "14911                 NaN               NaN            NaN               NaN   \n",
       "16274                 NaN               NaN            NaN               NaN   \n",
       "17676                 NaN               NaN            NaN               NaN   \n",
       "9581                  NaN               NaN            NaN               NaN   \n",
       "5698                  NaN               NaN            NaN               NaN   \n",
       "16219                 NaN               NaN            NaN               NaN   \n",
       "18867                 NaN               NaN            NaN               NaN   \n",
       "21912                 NaN               NaN            NaN               NaN   \n",
       "\n",
       "       ponds_nearest  days_exposition  \n",
       "8793             NaN                8  \n",
       "17456            NaN              999  \n",
       "14911            NaN               44  \n",
       "16274            NaN               45  \n",
       "17676            NaN              120  \n",
       "9581             NaN               96  \n",
       "5698             NaN              233  \n",
       "16219            NaN               45  \n",
       "18867            NaN               46  \n",
       "21912            NaN               45  \n",
       "\n",
       "[10 rows x 22 columns]"
      ]
     },
     "execution_count": 93,
     "metadata": {},
     "output_type": "execute_result"
    }
   ],
   "source": [
    "# Посмотрим на дешевые объявления.\n",
    "data.sort_values(by = 'last_price').head(10)"
   ]
  },
  {
   "cell_type": "markdown",
   "id": "b354bc60",
   "metadata": {},
   "source": [
    "###### Посмотрим на дешевые варианты. Первое объявление явный вброс. Удалим его так же как и дорогое."
   ]
  },
  {
   "cell_type": "code",
   "execution_count": 94,
   "id": "2025a55c",
   "metadata": {},
   "outputs": [
    {
     "data": {
      "text/html": [
       "<div>\n",
       "<style scoped>\n",
       "    .dataframe tbody tr th:only-of-type {\n",
       "        vertical-align: middle;\n",
       "    }\n",
       "\n",
       "    .dataframe tbody tr th {\n",
       "        vertical-align: top;\n",
       "    }\n",
       "\n",
       "    .dataframe thead th {\n",
       "        text-align: right;\n",
       "    }\n",
       "</style>\n",
       "<table border=\"1\" class=\"dataframe\">\n",
       "  <thead>\n",
       "    <tr style=\"text-align: right;\">\n",
       "      <th></th>\n",
       "      <th>total_images</th>\n",
       "      <th>last_price</th>\n",
       "      <th>total_area</th>\n",
       "      <th>first_day_exposition</th>\n",
       "      <th>rooms</th>\n",
       "      <th>ceiling_height</th>\n",
       "      <th>floors_total</th>\n",
       "      <th>living_area</th>\n",
       "      <th>floor</th>\n",
       "      <th>is_apartment</th>\n",
       "      <th>...</th>\n",
       "      <th>kitchen_area</th>\n",
       "      <th>balcony</th>\n",
       "      <th>locality_name</th>\n",
       "      <th>airports_nearest</th>\n",
       "      <th>cityCenters_nearest</th>\n",
       "      <th>parks_around3000</th>\n",
       "      <th>parks_nearest</th>\n",
       "      <th>ponds_around3000</th>\n",
       "      <th>ponds_nearest</th>\n",
       "      <th>days_exposition</th>\n",
       "    </tr>\n",
       "  </thead>\n",
       "  <tbody>\n",
       "    <tr>\n",
       "      <th>17456</th>\n",
       "      <td>7</td>\n",
       "      <td>430000.0</td>\n",
       "      <td>30.4</td>\n",
       "      <td>2019-04-22</td>\n",
       "      <td>1</td>\n",
       "      <td>2.65</td>\n",
       "      <td>2.0</td>\n",
       "      <td>16.000000</td>\n",
       "      <td>1</td>\n",
       "      <td>False</td>\n",
       "      <td>...</td>\n",
       "      <td>6.000000</td>\n",
       "      <td>0.0</td>\n",
       "      <td>Сланцы</td>\n",
       "      <td>NaN</td>\n",
       "      <td>NaN</td>\n",
       "      <td>NaN</td>\n",
       "      <td>NaN</td>\n",
       "      <td>NaN</td>\n",
       "      <td>NaN</td>\n",
       "      <td>999</td>\n",
       "    </tr>\n",
       "    <tr>\n",
       "      <th>14911</th>\n",
       "      <td>5</td>\n",
       "      <td>430000.0</td>\n",
       "      <td>54.0</td>\n",
       "      <td>2018-06-26</td>\n",
       "      <td>2</td>\n",
       "      <td>2.65</td>\n",
       "      <td>3.0</td>\n",
       "      <td>31.153846</td>\n",
       "      <td>3</td>\n",
       "      <td>False</td>\n",
       "      <td>...</td>\n",
       "      <td>9.356538</td>\n",
       "      <td>0.0</td>\n",
       "      <td>Свирь</td>\n",
       "      <td>NaN</td>\n",
       "      <td>NaN</td>\n",
       "      <td>NaN</td>\n",
       "      <td>NaN</td>\n",
       "      <td>NaN</td>\n",
       "      <td>NaN</td>\n",
       "      <td>44</td>\n",
       "    </tr>\n",
       "    <tr>\n",
       "      <th>16274</th>\n",
       "      <td>18</td>\n",
       "      <td>440000.0</td>\n",
       "      <td>40.0</td>\n",
       "      <td>2018-07-10</td>\n",
       "      <td>1</td>\n",
       "      <td>2.65</td>\n",
       "      <td>5.0</td>\n",
       "      <td>23.076923</td>\n",
       "      <td>1</td>\n",
       "      <td>False</td>\n",
       "      <td>...</td>\n",
       "      <td>6.930769</td>\n",
       "      <td>0.0</td>\n",
       "      <td>Старополье</td>\n",
       "      <td>NaN</td>\n",
       "      <td>NaN</td>\n",
       "      <td>NaN</td>\n",
       "      <td>NaN</td>\n",
       "      <td>NaN</td>\n",
       "      <td>NaN</td>\n",
       "      <td>45</td>\n",
       "    </tr>\n",
       "    <tr>\n",
       "      <th>17676</th>\n",
       "      <td>0</td>\n",
       "      <td>450000.0</td>\n",
       "      <td>36.5</td>\n",
       "      <td>2018-02-01</td>\n",
       "      <td>1</td>\n",
       "      <td>2.65</td>\n",
       "      <td>5.0</td>\n",
       "      <td>17.300000</td>\n",
       "      <td>4</td>\n",
       "      <td>False</td>\n",
       "      <td>...</td>\n",
       "      <td>8.500000</td>\n",
       "      <td>1.0</td>\n",
       "      <td>Ям-Тесово</td>\n",
       "      <td>NaN</td>\n",
       "      <td>NaN</td>\n",
       "      <td>NaN</td>\n",
       "      <td>NaN</td>\n",
       "      <td>NaN</td>\n",
       "      <td>NaN</td>\n",
       "      <td>120</td>\n",
       "    </tr>\n",
       "    <tr>\n",
       "      <th>9581</th>\n",
       "      <td>7</td>\n",
       "      <td>450000.0</td>\n",
       "      <td>43.4</td>\n",
       "      <td>2018-08-31</td>\n",
       "      <td>2</td>\n",
       "      <td>2.65</td>\n",
       "      <td>5.0</td>\n",
       "      <td>30.300000</td>\n",
       "      <td>3</td>\n",
       "      <td>False</td>\n",
       "      <td>...</td>\n",
       "      <td>5.500000</td>\n",
       "      <td>0.0</td>\n",
       "      <td>Старополье</td>\n",
       "      <td>NaN</td>\n",
       "      <td>NaN</td>\n",
       "      <td>NaN</td>\n",
       "      <td>NaN</td>\n",
       "      <td>NaN</td>\n",
       "      <td>NaN</td>\n",
       "      <td>96</td>\n",
       "    </tr>\n",
       "    <tr>\n",
       "      <th>5698</th>\n",
       "      <td>7</td>\n",
       "      <td>450000.0</td>\n",
       "      <td>42.0</td>\n",
       "      <td>2017-07-31</td>\n",
       "      <td>2</td>\n",
       "      <td>2.65</td>\n",
       "      <td>1.0</td>\n",
       "      <td>23.000000</td>\n",
       "      <td>1</td>\n",
       "      <td>False</td>\n",
       "      <td>...</td>\n",
       "      <td>5.800000</td>\n",
       "      <td>0.0</td>\n",
       "      <td>Будогощь</td>\n",
       "      <td>NaN</td>\n",
       "      <td>NaN</td>\n",
       "      <td>NaN</td>\n",
       "      <td>NaN</td>\n",
       "      <td>NaN</td>\n",
       "      <td>NaN</td>\n",
       "      <td>233</td>\n",
       "    </tr>\n",
       "    <tr>\n",
       "      <th>16219</th>\n",
       "      <td>14</td>\n",
       "      <td>450000.0</td>\n",
       "      <td>38.5</td>\n",
       "      <td>2018-07-11</td>\n",
       "      <td>2</td>\n",
       "      <td>2.65</td>\n",
       "      <td>2.0</td>\n",
       "      <td>22.211538</td>\n",
       "      <td>1</td>\n",
       "      <td>False</td>\n",
       "      <td>...</td>\n",
       "      <td>6.670865</td>\n",
       "      <td>0.0</td>\n",
       "      <td>Вахнова Кара</td>\n",
       "      <td>NaN</td>\n",
       "      <td>NaN</td>\n",
       "      <td>NaN</td>\n",
       "      <td>NaN</td>\n",
       "      <td>NaN</td>\n",
       "      <td>NaN</td>\n",
       "      <td>45</td>\n",
       "    </tr>\n",
       "    <tr>\n",
       "      <th>18867</th>\n",
       "      <td>1</td>\n",
       "      <td>470000.0</td>\n",
       "      <td>41.0</td>\n",
       "      <td>2018-02-11</td>\n",
       "      <td>1</td>\n",
       "      <td>2.65</td>\n",
       "      <td>5.0</td>\n",
       "      <td>32.000000</td>\n",
       "      <td>3</td>\n",
       "      <td>False</td>\n",
       "      <td>...</td>\n",
       "      <td>9.000000</td>\n",
       "      <td>0.0</td>\n",
       "      <td>Выскатка</td>\n",
       "      <td>NaN</td>\n",
       "      <td>NaN</td>\n",
       "      <td>NaN</td>\n",
       "      <td>NaN</td>\n",
       "      <td>NaN</td>\n",
       "      <td>NaN</td>\n",
       "      <td>46</td>\n",
       "    </tr>\n",
       "    <tr>\n",
       "      <th>21912</th>\n",
       "      <td>0</td>\n",
       "      <td>470000.0</td>\n",
       "      <td>37.0</td>\n",
       "      <td>2018-02-18</td>\n",
       "      <td>1</td>\n",
       "      <td>2.65</td>\n",
       "      <td>3.0</td>\n",
       "      <td>21.346154</td>\n",
       "      <td>3</td>\n",
       "      <td>False</td>\n",
       "      <td>...</td>\n",
       "      <td>6.410962</td>\n",
       "      <td>0.0</td>\n",
       "      <td>Совхозный</td>\n",
       "      <td>NaN</td>\n",
       "      <td>NaN</td>\n",
       "      <td>NaN</td>\n",
       "      <td>NaN</td>\n",
       "      <td>NaN</td>\n",
       "      <td>NaN</td>\n",
       "      <td>45</td>\n",
       "    </tr>\n",
       "    <tr>\n",
       "      <th>23484</th>\n",
       "      <td>11</td>\n",
       "      <td>470000.0</td>\n",
       "      <td>44.5</td>\n",
       "      <td>2018-07-02</td>\n",
       "      <td>2</td>\n",
       "      <td>2.65</td>\n",
       "      <td>2.0</td>\n",
       "      <td>28.000000</td>\n",
       "      <td>2</td>\n",
       "      <td>False</td>\n",
       "      <td>...</td>\n",
       "      <td>7.500000</td>\n",
       "      <td>0.0</td>\n",
       "      <td>Сланцы</td>\n",
       "      <td>NaN</td>\n",
       "      <td>NaN</td>\n",
       "      <td>NaN</td>\n",
       "      <td>NaN</td>\n",
       "      <td>NaN</td>\n",
       "      <td>NaN</td>\n",
       "      <td>298</td>\n",
       "    </tr>\n",
       "  </tbody>\n",
       "</table>\n",
       "<p>10 rows × 22 columns</p>\n",
       "</div>"
      ],
      "text/plain": [
       "       total_images  last_price  total_area first_day_exposition  rooms  \\\n",
       "17456             7    430000.0        30.4           2019-04-22      1   \n",
       "14911             5    430000.0        54.0           2018-06-26      2   \n",
       "16274            18    440000.0        40.0           2018-07-10      1   \n",
       "17676             0    450000.0        36.5           2018-02-01      1   \n",
       "9581              7    450000.0        43.4           2018-08-31      2   \n",
       "5698              7    450000.0        42.0           2017-07-31      2   \n",
       "16219            14    450000.0        38.5           2018-07-11      2   \n",
       "18867             1    470000.0        41.0           2018-02-11      1   \n",
       "21912             0    470000.0        37.0           2018-02-18      1   \n",
       "23484            11    470000.0        44.5           2018-07-02      2   \n",
       "\n",
       "       ceiling_height  floors_total  living_area  floor  is_apartment  ...  \\\n",
       "17456            2.65           2.0    16.000000      1         False  ...   \n",
       "14911            2.65           3.0    31.153846      3         False  ...   \n",
       "16274            2.65           5.0    23.076923      1         False  ...   \n",
       "17676            2.65           5.0    17.300000      4         False  ...   \n",
       "9581             2.65           5.0    30.300000      3         False  ...   \n",
       "5698             2.65           1.0    23.000000      1         False  ...   \n",
       "16219            2.65           2.0    22.211538      1         False  ...   \n",
       "18867            2.65           5.0    32.000000      3         False  ...   \n",
       "21912            2.65           3.0    21.346154      3         False  ...   \n",
       "23484            2.65           2.0    28.000000      2         False  ...   \n",
       "\n",
       "       kitchen_area  balcony  locality_name  airports_nearest  \\\n",
       "17456      6.000000      0.0         Сланцы               NaN   \n",
       "14911      9.356538      0.0          Свирь               NaN   \n",
       "16274      6.930769      0.0     Старополье               NaN   \n",
       "17676      8.500000      1.0      Ям-Тесово               NaN   \n",
       "9581       5.500000      0.0     Старополье               NaN   \n",
       "5698       5.800000      0.0       Будогощь               NaN   \n",
       "16219      6.670865      0.0   Вахнова Кара               NaN   \n",
       "18867      9.000000      0.0       Выскатка               NaN   \n",
       "21912      6.410962      0.0      Совхозный               NaN   \n",
       "23484      7.500000      0.0         Сланцы               NaN   \n",
       "\n",
       "      cityCenters_nearest  parks_around3000  parks_nearest  ponds_around3000  \\\n",
       "17456                 NaN               NaN            NaN               NaN   \n",
       "14911                 NaN               NaN            NaN               NaN   \n",
       "16274                 NaN               NaN            NaN               NaN   \n",
       "17676                 NaN               NaN            NaN               NaN   \n",
       "9581                  NaN               NaN            NaN               NaN   \n",
       "5698                  NaN               NaN            NaN               NaN   \n",
       "16219                 NaN               NaN            NaN               NaN   \n",
       "18867                 NaN               NaN            NaN               NaN   \n",
       "21912                 NaN               NaN            NaN               NaN   \n",
       "23484                 NaN               NaN            NaN               NaN   \n",
       "\n",
       "       ponds_nearest  days_exposition  \n",
       "17456            NaN              999  \n",
       "14911            NaN               44  \n",
       "16274            NaN               45  \n",
       "17676            NaN              120  \n",
       "9581             NaN               96  \n",
       "5698             NaN              233  \n",
       "16219            NaN               45  \n",
       "18867            NaN               46  \n",
       "21912            NaN               45  \n",
       "23484            NaN              298  \n",
       "\n",
       "[10 rows x 22 columns]"
      ]
     },
     "execution_count": 94,
     "metadata": {},
     "output_type": "execute_result"
    }
   ],
   "source": [
    "data = data.sort_values(by = 'last_price').drop(8793)\n",
    "data.sort_values(by = 'last_price').head(10)"
   ]
  },
  {
   "cell_type": "markdown",
   "id": "b0433773",
   "metadata": {},
   "source": [
    "###### Теперь с ценами все в порядке."
   ]
  },
  {
   "cell_type": "markdown",
   "id": "667113ec",
   "metadata": {},
   "source": [
    "### 2.11  Общая площадь"
   ]
  },
  {
   "cell_type": "code",
   "execution_count": 95,
   "id": "ca7ae6d8",
   "metadata": {},
   "outputs": [
    {
     "data": {
      "text/html": [
       "<div>\n",
       "<style scoped>\n",
       "    .dataframe tbody tr th:only-of-type {\n",
       "        vertical-align: middle;\n",
       "    }\n",
       "\n",
       "    .dataframe tbody tr th {\n",
       "        vertical-align: top;\n",
       "    }\n",
       "\n",
       "    .dataframe thead th {\n",
       "        text-align: right;\n",
       "    }\n",
       "</style>\n",
       "<table border=\"1\" class=\"dataframe\">\n",
       "  <thead>\n",
       "    <tr style=\"text-align: right;\">\n",
       "      <th></th>\n",
       "      <th>total_images</th>\n",
       "      <th>last_price</th>\n",
       "      <th>total_area</th>\n",
       "      <th>first_day_exposition</th>\n",
       "      <th>rooms</th>\n",
       "      <th>ceiling_height</th>\n",
       "      <th>floors_total</th>\n",
       "      <th>living_area</th>\n",
       "      <th>floor</th>\n",
       "      <th>is_apartment</th>\n",
       "      <th>...</th>\n",
       "      <th>kitchen_area</th>\n",
       "      <th>balcony</th>\n",
       "      <th>locality_name</th>\n",
       "      <th>airports_nearest</th>\n",
       "      <th>cityCenters_nearest</th>\n",
       "      <th>parks_around3000</th>\n",
       "      <th>parks_nearest</th>\n",
       "      <th>ponds_around3000</th>\n",
       "      <th>ponds_nearest</th>\n",
       "      <th>days_exposition</th>\n",
       "    </tr>\n",
       "  </thead>\n",
       "  <tbody>\n",
       "    <tr>\n",
       "      <th>19904</th>\n",
       "      <td>4</td>\n",
       "      <td>2400000.0</td>\n",
       "      <td>12.0</td>\n",
       "      <td>2017-07-19</td>\n",
       "      <td>1</td>\n",
       "      <td>2.55</td>\n",
       "      <td>5.0</td>\n",
       "      <td>10.000000</td>\n",
       "      <td>2</td>\n",
       "      <td>False</td>\n",
       "      <td>...</td>\n",
       "      <td>2.079231</td>\n",
       "      <td>0.0</td>\n",
       "      <td>Санкт-Петербург</td>\n",
       "      <td>21314.0</td>\n",
       "      <td>964.0</td>\n",
       "      <td>1.0</td>\n",
       "      <td>886.0</td>\n",
       "      <td>2.0</td>\n",
       "      <td>45.0</td>\n",
       "      <td>200</td>\n",
       "    </tr>\n",
       "    <tr>\n",
       "      <th>19807</th>\n",
       "      <td>0</td>\n",
       "      <td>3800000.0</td>\n",
       "      <td>13.0</td>\n",
       "      <td>2018-07-04</td>\n",
       "      <td>1</td>\n",
       "      <td>2.65</td>\n",
       "      <td>5.0</td>\n",
       "      <td>10.000000</td>\n",
       "      <td>3</td>\n",
       "      <td>False</td>\n",
       "      <td>...</td>\n",
       "      <td>2.252500</td>\n",
       "      <td>0.0</td>\n",
       "      <td>Санкт-Петербург</td>\n",
       "      <td>21302.0</td>\n",
       "      <td>1242.0</td>\n",
       "      <td>1.0</td>\n",
       "      <td>592.0</td>\n",
       "      <td>3.0</td>\n",
       "      <td>27.0</td>\n",
       "      <td>9</td>\n",
       "    </tr>\n",
       "    <tr>\n",
       "      <th>19546</th>\n",
       "      <td>3</td>\n",
       "      <td>1850000.0</td>\n",
       "      <td>13.0</td>\n",
       "      <td>2019-03-11</td>\n",
       "      <td>1</td>\n",
       "      <td>2.65</td>\n",
       "      <td>5.0</td>\n",
       "      <td>7.500000</td>\n",
       "      <td>2</td>\n",
       "      <td>False</td>\n",
       "      <td>...</td>\n",
       "      <td>2.252500</td>\n",
       "      <td>0.0</td>\n",
       "      <td>Санкт-Петербург</td>\n",
       "      <td>24915.0</td>\n",
       "      <td>5483.0</td>\n",
       "      <td>1.0</td>\n",
       "      <td>644.0</td>\n",
       "      <td>0.0</td>\n",
       "      <td>NaN</td>\n",
       "      <td>24</td>\n",
       "    </tr>\n",
       "    <tr>\n",
       "      <th>17961</th>\n",
       "      <td>3</td>\n",
       "      <td>1400000.0</td>\n",
       "      <td>13.0</td>\n",
       "      <td>2017-12-03</td>\n",
       "      <td>1</td>\n",
       "      <td>2.60</td>\n",
       "      <td>9.0</td>\n",
       "      <td>7.500000</td>\n",
       "      <td>1</td>\n",
       "      <td>False</td>\n",
       "      <td>...</td>\n",
       "      <td>2.252500</td>\n",
       "      <td>0.0</td>\n",
       "      <td>Санкт-Петербург</td>\n",
       "      <td>14350.0</td>\n",
       "      <td>15945.0</td>\n",
       "      <td>0.0</td>\n",
       "      <td>NaN</td>\n",
       "      <td>1.0</td>\n",
       "      <td>185.0</td>\n",
       "      <td>410</td>\n",
       "    </tr>\n",
       "    <tr>\n",
       "      <th>19558</th>\n",
       "      <td>2</td>\n",
       "      <td>1686000.0</td>\n",
       "      <td>13.2</td>\n",
       "      <td>2018-12-17</td>\n",
       "      <td>1</td>\n",
       "      <td>2.65</td>\n",
       "      <td>5.0</td>\n",
       "      <td>7.615385</td>\n",
       "      <td>1</td>\n",
       "      <td>False</td>\n",
       "      <td>...</td>\n",
       "      <td>2.287154</td>\n",
       "      <td>0.0</td>\n",
       "      <td>Санкт-Петербург</td>\n",
       "      <td>19891.0</td>\n",
       "      <td>4165.0</td>\n",
       "      <td>1.0</td>\n",
       "      <td>361.0</td>\n",
       "      <td>1.0</td>\n",
       "      <td>155.0</td>\n",
       "      <td>19</td>\n",
       "    </tr>\n",
       "    <tr>\n",
       "      <th>19642</th>\n",
       "      <td>5</td>\n",
       "      <td>1190000.0</td>\n",
       "      <td>14.0</td>\n",
       "      <td>2018-07-29</td>\n",
       "      <td>1</td>\n",
       "      <td>2.65</td>\n",
       "      <td>5.0</td>\n",
       "      <td>11.000000</td>\n",
       "      <td>1</td>\n",
       "      <td>False</td>\n",
       "      <td>...</td>\n",
       "      <td>2.000000</td>\n",
       "      <td>0.0</td>\n",
       "      <td>Санкт-Петербург</td>\n",
       "      <td>9898.0</td>\n",
       "      <td>11122.0</td>\n",
       "      <td>0.0</td>\n",
       "      <td>NaN</td>\n",
       "      <td>0.0</td>\n",
       "      <td>NaN</td>\n",
       "      <td>4</td>\n",
       "    </tr>\n",
       "    <tr>\n",
       "      <th>12040</th>\n",
       "      <td>5</td>\n",
       "      <td>1900000.0</td>\n",
       "      <td>15.0</td>\n",
       "      <td>2018-06-27</td>\n",
       "      <td>1</td>\n",
       "      <td>2.50</td>\n",
       "      <td>5.0</td>\n",
       "      <td>8.653846</td>\n",
       "      <td>1</td>\n",
       "      <td>False</td>\n",
       "      <td>...</td>\n",
       "      <td>2.599038</td>\n",
       "      <td>0.0</td>\n",
       "      <td>Сосновый Бор</td>\n",
       "      <td>NaN</td>\n",
       "      <td>NaN</td>\n",
       "      <td>NaN</td>\n",
       "      <td>NaN</td>\n",
       "      <td>NaN</td>\n",
       "      <td>NaN</td>\n",
       "      <td>45</td>\n",
       "    </tr>\n",
       "    <tr>\n",
       "      <th>16949</th>\n",
       "      <td>9</td>\n",
       "      <td>1550000.0</td>\n",
       "      <td>15.0</td>\n",
       "      <td>2018-08-21</td>\n",
       "      <td>1</td>\n",
       "      <td>2.70</td>\n",
       "      <td>9.0</td>\n",
       "      <td>8.653846</td>\n",
       "      <td>1</td>\n",
       "      <td>False</td>\n",
       "      <td>...</td>\n",
       "      <td>2.599038</td>\n",
       "      <td>0.0</td>\n",
       "      <td>Санкт-Петербург</td>\n",
       "      <td>51048.0</td>\n",
       "      <td>16376.0</td>\n",
       "      <td>0.0</td>\n",
       "      <td>NaN</td>\n",
       "      <td>1.0</td>\n",
       "      <td>1079.0</td>\n",
       "      <td>42</td>\n",
       "    </tr>\n",
       "    <tr>\n",
       "      <th>8886</th>\n",
       "      <td>10</td>\n",
       "      <td>2450000.0</td>\n",
       "      <td>15.5</td>\n",
       "      <td>2018-08-22</td>\n",
       "      <td>0</td>\n",
       "      <td>2.65</td>\n",
       "      <td>5.0</td>\n",
       "      <td>10.000000</td>\n",
       "      <td>2</td>\n",
       "      <td>False</td>\n",
       "      <td>...</td>\n",
       "      <td>0.000000</td>\n",
       "      <td>0.0</td>\n",
       "      <td>Санкт-Петербург</td>\n",
       "      <td>24326.0</td>\n",
       "      <td>4589.0</td>\n",
       "      <td>0.0</td>\n",
       "      <td>NaN</td>\n",
       "      <td>1.0</td>\n",
       "      <td>446.0</td>\n",
       "      <td>27</td>\n",
       "    </tr>\n",
       "    <tr>\n",
       "      <th>9412</th>\n",
       "      <td>5</td>\n",
       "      <td>2100000.0</td>\n",
       "      <td>16.0</td>\n",
       "      <td>2017-12-10</td>\n",
       "      <td>0</td>\n",
       "      <td>2.65</td>\n",
       "      <td>6.0</td>\n",
       "      <td>13.000000</td>\n",
       "      <td>1</td>\n",
       "      <td>False</td>\n",
       "      <td>...</td>\n",
       "      <td>2.772308</td>\n",
       "      <td>0.0</td>\n",
       "      <td>Санкт-Петербург</td>\n",
       "      <td>20735.0</td>\n",
       "      <td>2111.0</td>\n",
       "      <td>2.0</td>\n",
       "      <td>228.0</td>\n",
       "      <td>3.0</td>\n",
       "      <td>72.0</td>\n",
       "      <td>3</td>\n",
       "    </tr>\n",
       "  </tbody>\n",
       "</table>\n",
       "<p>10 rows × 22 columns</p>\n",
       "</div>"
      ],
      "text/plain": [
       "       total_images  last_price  total_area first_day_exposition  rooms  \\\n",
       "19904             4   2400000.0        12.0           2017-07-19      1   \n",
       "19807             0   3800000.0        13.0           2018-07-04      1   \n",
       "19546             3   1850000.0        13.0           2019-03-11      1   \n",
       "17961             3   1400000.0        13.0           2017-12-03      1   \n",
       "19558             2   1686000.0        13.2           2018-12-17      1   \n",
       "19642             5   1190000.0        14.0           2018-07-29      1   \n",
       "12040             5   1900000.0        15.0           2018-06-27      1   \n",
       "16949             9   1550000.0        15.0           2018-08-21      1   \n",
       "8886             10   2450000.0        15.5           2018-08-22      0   \n",
       "9412              5   2100000.0        16.0           2017-12-10      0   \n",
       "\n",
       "       ceiling_height  floors_total  living_area  floor  is_apartment  ...  \\\n",
       "19904            2.55           5.0    10.000000      2         False  ...   \n",
       "19807            2.65           5.0    10.000000      3         False  ...   \n",
       "19546            2.65           5.0     7.500000      2         False  ...   \n",
       "17961            2.60           9.0     7.500000      1         False  ...   \n",
       "19558            2.65           5.0     7.615385      1         False  ...   \n",
       "19642            2.65           5.0    11.000000      1         False  ...   \n",
       "12040            2.50           5.0     8.653846      1         False  ...   \n",
       "16949            2.70           9.0     8.653846      1         False  ...   \n",
       "8886             2.65           5.0    10.000000      2         False  ...   \n",
       "9412             2.65           6.0    13.000000      1         False  ...   \n",
       "\n",
       "       kitchen_area  balcony    locality_name  airports_nearest  \\\n",
       "19904      2.079231      0.0  Санкт-Петербург           21314.0   \n",
       "19807      2.252500      0.0  Санкт-Петербург           21302.0   \n",
       "19546      2.252500      0.0  Санкт-Петербург           24915.0   \n",
       "17961      2.252500      0.0  Санкт-Петербург           14350.0   \n",
       "19558      2.287154      0.0  Санкт-Петербург           19891.0   \n",
       "19642      2.000000      0.0  Санкт-Петербург            9898.0   \n",
       "12040      2.599038      0.0     Сосновый Бор               NaN   \n",
       "16949      2.599038      0.0  Санкт-Петербург           51048.0   \n",
       "8886       0.000000      0.0  Санкт-Петербург           24326.0   \n",
       "9412       2.772308      0.0  Санкт-Петербург           20735.0   \n",
       "\n",
       "      cityCenters_nearest  parks_around3000  parks_nearest  ponds_around3000  \\\n",
       "19904               964.0               1.0          886.0               2.0   \n",
       "19807              1242.0               1.0          592.0               3.0   \n",
       "19546              5483.0               1.0          644.0               0.0   \n",
       "17961             15945.0               0.0            NaN               1.0   \n",
       "19558              4165.0               1.0          361.0               1.0   \n",
       "19642             11122.0               0.0            NaN               0.0   \n",
       "12040                 NaN               NaN            NaN               NaN   \n",
       "16949             16376.0               0.0            NaN               1.0   \n",
       "8886               4589.0               0.0            NaN               1.0   \n",
       "9412               2111.0               2.0          228.0               3.0   \n",
       "\n",
       "       ponds_nearest  days_exposition  \n",
       "19904           45.0              200  \n",
       "19807           27.0                9  \n",
       "19546            NaN               24  \n",
       "17961          185.0              410  \n",
       "19558          155.0               19  \n",
       "19642            NaN                4  \n",
       "12040            NaN               45  \n",
       "16949         1079.0               42  \n",
       "8886           446.0               27  \n",
       "9412            72.0                3  \n",
       "\n",
       "[10 rows x 22 columns]"
      ]
     },
     "execution_count": 95,
     "metadata": {},
     "output_type": "execute_result"
    }
   ],
   "source": [
    "# Посмотрим на маленькие квартиры.\n",
    "data.sort_values(by = 'total_area').head(10)"
   ]
  },
  {
   "cell_type": "code",
   "execution_count": 96,
   "id": "dfeb864e",
   "metadata": {},
   "outputs": [
    {
     "data": {
      "text/html": [
       "<div>\n",
       "<style scoped>\n",
       "    .dataframe tbody tr th:only-of-type {\n",
       "        vertical-align: middle;\n",
       "    }\n",
       "\n",
       "    .dataframe tbody tr th {\n",
       "        vertical-align: top;\n",
       "    }\n",
       "\n",
       "    .dataframe thead th {\n",
       "        text-align: right;\n",
       "    }\n",
       "</style>\n",
       "<table border=\"1\" class=\"dataframe\">\n",
       "  <thead>\n",
       "    <tr style=\"text-align: right;\">\n",
       "      <th></th>\n",
       "      <th>total_images</th>\n",
       "      <th>last_price</th>\n",
       "      <th>total_area</th>\n",
       "      <th>first_day_exposition</th>\n",
       "      <th>rooms</th>\n",
       "      <th>ceiling_height</th>\n",
       "      <th>floors_total</th>\n",
       "      <th>living_area</th>\n",
       "      <th>floor</th>\n",
       "      <th>is_apartment</th>\n",
       "      <th>...</th>\n",
       "      <th>kitchen_area</th>\n",
       "      <th>balcony</th>\n",
       "      <th>locality_name</th>\n",
       "      <th>airports_nearest</th>\n",
       "      <th>cityCenters_nearest</th>\n",
       "      <th>parks_around3000</th>\n",
       "      <th>parks_nearest</th>\n",
       "      <th>ponds_around3000</th>\n",
       "      <th>ponds_nearest</th>\n",
       "      <th>days_exposition</th>\n",
       "    </tr>\n",
       "  </thead>\n",
       "  <tbody>\n",
       "    <tr>\n",
       "      <th>12401</th>\n",
       "      <td>20</td>\n",
       "      <td>91500000.0</td>\n",
       "      <td>495.0</td>\n",
       "      <td>2017-06-19</td>\n",
       "      <td>7</td>\n",
       "      <td>2.65</td>\n",
       "      <td>7.0</td>\n",
       "      <td>347.500000</td>\n",
       "      <td>7</td>\n",
       "      <td>False</td>\n",
       "      <td>...</td>\n",
       "      <td>25.000000</td>\n",
       "      <td>0.0</td>\n",
       "      <td>Санкт-Петербург</td>\n",
       "      <td>NaN</td>\n",
       "      <td>5735.0</td>\n",
       "      <td>2.0</td>\n",
       "      <td>110.0</td>\n",
       "      <td>0.0</td>\n",
       "      <td>NaN</td>\n",
       "      <td>14</td>\n",
       "    </tr>\n",
       "    <tr>\n",
       "      <th>5893</th>\n",
       "      <td>3</td>\n",
       "      <td>230000000.0</td>\n",
       "      <td>500.0</td>\n",
       "      <td>2017-05-31</td>\n",
       "      <td>6</td>\n",
       "      <td>2.65</td>\n",
       "      <td>7.0</td>\n",
       "      <td>288.461538</td>\n",
       "      <td>7</td>\n",
       "      <td>False</td>\n",
       "      <td>...</td>\n",
       "      <td>40.000000</td>\n",
       "      <td>0.0</td>\n",
       "      <td>Санкт-Петербург</td>\n",
       "      <td>32440.0</td>\n",
       "      <td>5297.0</td>\n",
       "      <td>0.0</td>\n",
       "      <td>NaN</td>\n",
       "      <td>2.0</td>\n",
       "      <td>198.0</td>\n",
       "      <td>50</td>\n",
       "    </tr>\n",
       "    <tr>\n",
       "      <th>15016</th>\n",
       "      <td>8</td>\n",
       "      <td>150000000.0</td>\n",
       "      <td>500.0</td>\n",
       "      <td>2016-01-13</td>\n",
       "      <td>4</td>\n",
       "      <td>3.20</td>\n",
       "      <td>7.0</td>\n",
       "      <td>288.461538</td>\n",
       "      <td>7</td>\n",
       "      <td>False</td>\n",
       "      <td>...</td>\n",
       "      <td>86.634615</td>\n",
       "      <td>0.0</td>\n",
       "      <td>Санкт-Петербург</td>\n",
       "      <td>33058.0</td>\n",
       "      <td>6150.0</td>\n",
       "      <td>3.0</td>\n",
       "      <td>209.0</td>\n",
       "      <td>3.0</td>\n",
       "      <td>531.0</td>\n",
       "      <td>303</td>\n",
       "    </tr>\n",
       "    <tr>\n",
       "      <th>8018</th>\n",
       "      <td>20</td>\n",
       "      <td>84000000.0</td>\n",
       "      <td>507.0</td>\n",
       "      <td>2015-12-17</td>\n",
       "      <td>5</td>\n",
       "      <td>2.65</td>\n",
       "      <td>7.0</td>\n",
       "      <td>301.500000</td>\n",
       "      <td>7</td>\n",
       "      <td>True</td>\n",
       "      <td>...</td>\n",
       "      <td>45.500000</td>\n",
       "      <td>1.0</td>\n",
       "      <td>Санкт-Петербург</td>\n",
       "      <td>NaN</td>\n",
       "      <td>5735.0</td>\n",
       "      <td>2.0</td>\n",
       "      <td>110.0</td>\n",
       "      <td>0.0</td>\n",
       "      <td>NaN</td>\n",
       "      <td>1078</td>\n",
       "    </tr>\n",
       "    <tr>\n",
       "      <th>4237</th>\n",
       "      <td>1</td>\n",
       "      <td>50000000.0</td>\n",
       "      <td>517.0</td>\n",
       "      <td>2017-10-14</td>\n",
       "      <td>7</td>\n",
       "      <td>2.65</td>\n",
       "      <td>4.0</td>\n",
       "      <td>332.000000</td>\n",
       "      <td>3</td>\n",
       "      <td>False</td>\n",
       "      <td>...</td>\n",
       "      <td>22.000000</td>\n",
       "      <td>0.0</td>\n",
       "      <td>Санкт-Петербург</td>\n",
       "      <td>22835.0</td>\n",
       "      <td>1847.0</td>\n",
       "      <td>2.0</td>\n",
       "      <td>477.0</td>\n",
       "      <td>2.0</td>\n",
       "      <td>540.0</td>\n",
       "      <td>999</td>\n",
       "    </tr>\n",
       "    <tr>\n",
       "      <th>5358</th>\n",
       "      <td>20</td>\n",
       "      <td>65000000.0</td>\n",
       "      <td>590.0</td>\n",
       "      <td>2019-02-14</td>\n",
       "      <td>15</td>\n",
       "      <td>2.65</td>\n",
       "      <td>6.0</td>\n",
       "      <td>409.000000</td>\n",
       "      <td>3</td>\n",
       "      <td>False</td>\n",
       "      <td>...</td>\n",
       "      <td>100.000000</td>\n",
       "      <td>0.0</td>\n",
       "      <td>Санкт-Петербург</td>\n",
       "      <td>24447.0</td>\n",
       "      <td>4666.0</td>\n",
       "      <td>1.0</td>\n",
       "      <td>767.0</td>\n",
       "      <td>0.0</td>\n",
       "      <td>NaN</td>\n",
       "      <td>14</td>\n",
       "    </tr>\n",
       "    <tr>\n",
       "      <th>15651</th>\n",
       "      <td>20</td>\n",
       "      <td>300000000.0</td>\n",
       "      <td>618.0</td>\n",
       "      <td>2017-12-18</td>\n",
       "      <td>7</td>\n",
       "      <td>2.65</td>\n",
       "      <td>7.0</td>\n",
       "      <td>258.000000</td>\n",
       "      <td>5</td>\n",
       "      <td>False</td>\n",
       "      <td>...</td>\n",
       "      <td>70.000000</td>\n",
       "      <td>0.0</td>\n",
       "      <td>Санкт-Петербург</td>\n",
       "      <td>32440.0</td>\n",
       "      <td>5297.0</td>\n",
       "      <td>0.0</td>\n",
       "      <td>NaN</td>\n",
       "      <td>2.0</td>\n",
       "      <td>198.0</td>\n",
       "      <td>111</td>\n",
       "    </tr>\n",
       "    <tr>\n",
       "      <th>3117</th>\n",
       "      <td>19</td>\n",
       "      <td>140000000.0</td>\n",
       "      <td>631.0</td>\n",
       "      <td>2019-03-30</td>\n",
       "      <td>7</td>\n",
       "      <td>2.65</td>\n",
       "      <td>5.0</td>\n",
       "      <td>364.038462</td>\n",
       "      <td>5</td>\n",
       "      <td>False</td>\n",
       "      <td>...</td>\n",
       "      <td>60.000000</td>\n",
       "      <td>0.0</td>\n",
       "      <td>Санкт-Петербург</td>\n",
       "      <td>25707.0</td>\n",
       "      <td>4972.0</td>\n",
       "      <td>0.0</td>\n",
       "      <td>NaN</td>\n",
       "      <td>2.0</td>\n",
       "      <td>210.0</td>\n",
       "      <td>999</td>\n",
       "    </tr>\n",
       "    <tr>\n",
       "      <th>12859</th>\n",
       "      <td>20</td>\n",
       "      <td>140000000.0</td>\n",
       "      <td>631.2</td>\n",
       "      <td>2019-04-09</td>\n",
       "      <td>7</td>\n",
       "      <td>2.65</td>\n",
       "      <td>4.0</td>\n",
       "      <td>322.300000</td>\n",
       "      <td>4</td>\n",
       "      <td>False</td>\n",
       "      <td>...</td>\n",
       "      <td>19.500000</td>\n",
       "      <td>1.0</td>\n",
       "      <td>Санкт-Петербург</td>\n",
       "      <td>25707.0</td>\n",
       "      <td>4972.0</td>\n",
       "      <td>0.0</td>\n",
       "      <td>NaN</td>\n",
       "      <td>2.0</td>\n",
       "      <td>210.0</td>\n",
       "      <td>999</td>\n",
       "    </tr>\n",
       "    <tr>\n",
       "      <th>19540</th>\n",
       "      <td>8</td>\n",
       "      <td>420000000.0</td>\n",
       "      <td>900.0</td>\n",
       "      <td>2017-12-06</td>\n",
       "      <td>12</td>\n",
       "      <td>2.80</td>\n",
       "      <td>25.0</td>\n",
       "      <td>409.700000</td>\n",
       "      <td>25</td>\n",
       "      <td>False</td>\n",
       "      <td>...</td>\n",
       "      <td>112.000000</td>\n",
       "      <td>0.0</td>\n",
       "      <td>Санкт-Петербург</td>\n",
       "      <td>30706.0</td>\n",
       "      <td>7877.0</td>\n",
       "      <td>0.0</td>\n",
       "      <td>NaN</td>\n",
       "      <td>2.0</td>\n",
       "      <td>318.0</td>\n",
       "      <td>106</td>\n",
       "    </tr>\n",
       "  </tbody>\n",
       "</table>\n",
       "<p>10 rows × 22 columns</p>\n",
       "</div>"
      ],
      "text/plain": [
       "       total_images   last_price  total_area first_day_exposition  rooms  \\\n",
       "12401            20   91500000.0       495.0           2017-06-19      7   \n",
       "5893              3  230000000.0       500.0           2017-05-31      6   \n",
       "15016             8  150000000.0       500.0           2016-01-13      4   \n",
       "8018             20   84000000.0       507.0           2015-12-17      5   \n",
       "4237              1   50000000.0       517.0           2017-10-14      7   \n",
       "5358             20   65000000.0       590.0           2019-02-14     15   \n",
       "15651            20  300000000.0       618.0           2017-12-18      7   \n",
       "3117             19  140000000.0       631.0           2019-03-30      7   \n",
       "12859            20  140000000.0       631.2           2019-04-09      7   \n",
       "19540             8  420000000.0       900.0           2017-12-06     12   \n",
       "\n",
       "       ceiling_height  floors_total  living_area  floor  is_apartment  ...  \\\n",
       "12401            2.65           7.0   347.500000      7         False  ...   \n",
       "5893             2.65           7.0   288.461538      7         False  ...   \n",
       "15016            3.20           7.0   288.461538      7         False  ...   \n",
       "8018             2.65           7.0   301.500000      7          True  ...   \n",
       "4237             2.65           4.0   332.000000      3         False  ...   \n",
       "5358             2.65           6.0   409.000000      3         False  ...   \n",
       "15651            2.65           7.0   258.000000      5         False  ...   \n",
       "3117             2.65           5.0   364.038462      5         False  ...   \n",
       "12859            2.65           4.0   322.300000      4         False  ...   \n",
       "19540            2.80          25.0   409.700000     25         False  ...   \n",
       "\n",
       "       kitchen_area  balcony    locality_name  airports_nearest  \\\n",
       "12401     25.000000      0.0  Санкт-Петербург               NaN   \n",
       "5893      40.000000      0.0  Санкт-Петербург           32440.0   \n",
       "15016     86.634615      0.0  Санкт-Петербург           33058.0   \n",
       "8018      45.500000      1.0  Санкт-Петербург               NaN   \n",
       "4237      22.000000      0.0  Санкт-Петербург           22835.0   \n",
       "5358     100.000000      0.0  Санкт-Петербург           24447.0   \n",
       "15651     70.000000      0.0  Санкт-Петербург           32440.0   \n",
       "3117      60.000000      0.0  Санкт-Петербург           25707.0   \n",
       "12859     19.500000      1.0  Санкт-Петербург           25707.0   \n",
       "19540    112.000000      0.0  Санкт-Петербург           30706.0   \n",
       "\n",
       "      cityCenters_nearest  parks_around3000  parks_nearest  ponds_around3000  \\\n",
       "12401              5735.0               2.0          110.0               0.0   \n",
       "5893               5297.0               0.0            NaN               2.0   \n",
       "15016              6150.0               3.0          209.0               3.0   \n",
       "8018               5735.0               2.0          110.0               0.0   \n",
       "4237               1847.0               2.0          477.0               2.0   \n",
       "5358               4666.0               1.0          767.0               0.0   \n",
       "15651              5297.0               0.0            NaN               2.0   \n",
       "3117               4972.0               0.0            NaN               2.0   \n",
       "12859              4972.0               0.0            NaN               2.0   \n",
       "19540              7877.0               0.0            NaN               2.0   \n",
       "\n",
       "       ponds_nearest  days_exposition  \n",
       "12401            NaN               14  \n",
       "5893           198.0               50  \n",
       "15016          531.0              303  \n",
       "8018             NaN             1078  \n",
       "4237           540.0              999  \n",
       "5358             NaN               14  \n",
       "15651          198.0              111  \n",
       "3117           210.0              999  \n",
       "12859          210.0              999  \n",
       "19540          318.0              106  \n",
       "\n",
       "[10 rows x 22 columns]"
      ]
     },
     "execution_count": 96,
     "metadata": {},
     "output_type": "execute_result"
    }
   ],
   "source": [
    "# Посмотрим на большие квартиры.\n",
    "data.sort_values(by = 'total_area').tail(10)"
   ]
  },
  {
   "cell_type": "code",
   "execution_count": 97,
   "id": "3c3931ce",
   "metadata": {},
   "outputs": [
    {
     "data": {
      "text/plain": [
       "226"
      ]
     },
     "execution_count": 97,
     "metadata": {},
     "output_type": "execute_result"
    }
   ],
   "source": [
    "# Количество объявлений, с площадью более 200м\n",
    "len(data.query('total_area > 200'))"
   ]
  },
  {
   "cell_type": "code",
   "execution_count": 98,
   "id": "c3c987cd",
   "metadata": {},
   "outputs": [],
   "source": [
    "# 169 штук не превысит 10% - удаляем\n",
    "data = data.drop(index= data.loc[(data['total_area'] > 200)].index)"
   ]
  },
  {
   "cell_type": "code",
   "execution_count": 99,
   "id": "c75ee611",
   "metadata": {},
   "outputs": [
    {
     "data": {
      "text/plain": [
       "50"
      ]
     },
     "execution_count": 99,
     "metadata": {},
     "output_type": "execute_result"
    }
   ],
   "source": [
    "# количество объявлений, с ценой более 50и млн.\n",
    "len(data.query('last_price > 50000000'))"
   ]
  },
  {
   "cell_type": "code",
   "execution_count": 100,
   "id": "c11dc7d5",
   "metadata": {},
   "outputs": [],
   "source": [
    "# Удаляем\n",
    "data = data.drop(index= data.loc[(data['last_price'] > 50000000)].index)"
   ]
  },
  {
   "cell_type": "markdown",
   "id": "3a56c906",
   "metadata": {},
   "source": [
    "###### Самая большая квартира в полтора раза больше чем ближайший сосед. И не смотря на адекватную цену такую квартиру лучше удалить из выборки так как она утянет параметры исследования в большую сторону"
   ]
  },
  {
   "cell_type": "markdown",
   "id": "3ea147a0",
   "metadata": {},
   "source": [
    "### 2.12  Число комнат"
   ]
  },
  {
   "cell_type": "code",
   "execution_count": 101,
   "id": "627d3cb7",
   "metadata": {},
   "outputs": [
    {
     "data": {
      "text/html": [
       "<div>\n",
       "<style scoped>\n",
       "    .dataframe tbody tr th:only-of-type {\n",
       "        vertical-align: middle;\n",
       "    }\n",
       "\n",
       "    .dataframe tbody tr th {\n",
       "        vertical-align: top;\n",
       "    }\n",
       "\n",
       "    .dataframe thead th {\n",
       "        text-align: right;\n",
       "    }\n",
       "</style>\n",
       "<table border=\"1\" class=\"dataframe\">\n",
       "  <thead>\n",
       "    <tr style=\"text-align: right;\">\n",
       "      <th></th>\n",
       "      <th>total_images</th>\n",
       "      <th>last_price</th>\n",
       "      <th>total_area</th>\n",
       "      <th>first_day_exposition</th>\n",
       "      <th>rooms</th>\n",
       "      <th>ceiling_height</th>\n",
       "      <th>floors_total</th>\n",
       "      <th>living_area</th>\n",
       "      <th>floor</th>\n",
       "      <th>is_apartment</th>\n",
       "      <th>...</th>\n",
       "      <th>kitchen_area</th>\n",
       "      <th>balcony</th>\n",
       "      <th>locality_name</th>\n",
       "      <th>airports_nearest</th>\n",
       "      <th>cityCenters_nearest</th>\n",
       "      <th>parks_around3000</th>\n",
       "      <th>parks_nearest</th>\n",
       "      <th>ponds_around3000</th>\n",
       "      <th>ponds_nearest</th>\n",
       "      <th>days_exposition</th>\n",
       "    </tr>\n",
       "  </thead>\n",
       "  <tbody>\n",
       "    <tr>\n",
       "      <th>22420</th>\n",
       "      <td>12</td>\n",
       "      <td>25000000.0</td>\n",
       "      <td>196.0</td>\n",
       "      <td>2016-11-04</td>\n",
       "      <td>7</td>\n",
       "      <td>2.65</td>\n",
       "      <td>6.0</td>\n",
       "      <td>145.000000</td>\n",
       "      <td>5</td>\n",
       "      <td>False</td>\n",
       "      <td>...</td>\n",
       "      <td>17.000000</td>\n",
       "      <td>1.0</td>\n",
       "      <td>Санкт-Петербург</td>\n",
       "      <td>25083.0</td>\n",
       "      <td>3658.0</td>\n",
       "      <td>1.0</td>\n",
       "      <td>552.0</td>\n",
       "      <td>0.0</td>\n",
       "      <td>NaN</td>\n",
       "      <td>999</td>\n",
       "    </tr>\n",
       "    <tr>\n",
       "      <th>17350</th>\n",
       "      <td>18</td>\n",
       "      <td>25000000.0</td>\n",
       "      <td>134.0</td>\n",
       "      <td>2016-12-01</td>\n",
       "      <td>7</td>\n",
       "      <td>2.65</td>\n",
       "      <td>6.0</td>\n",
       "      <td>104.000000</td>\n",
       "      <td>2</td>\n",
       "      <td>False</td>\n",
       "      <td>...</td>\n",
       "      <td>11.200000</td>\n",
       "      <td>0.0</td>\n",
       "      <td>Санкт-Петербург</td>\n",
       "      <td>25257.0</td>\n",
       "      <td>6060.0</td>\n",
       "      <td>1.0</td>\n",
       "      <td>761.0</td>\n",
       "      <td>1.0</td>\n",
       "      <td>584.0</td>\n",
       "      <td>278</td>\n",
       "    </tr>\n",
       "    <tr>\n",
       "      <th>14603</th>\n",
       "      <td>12</td>\n",
       "      <td>13490000.0</td>\n",
       "      <td>100.6</td>\n",
       "      <td>2018-07-31</td>\n",
       "      <td>7</td>\n",
       "      <td>2.65</td>\n",
       "      <td>4.0</td>\n",
       "      <td>58.038462</td>\n",
       "      <td>2</td>\n",
       "      <td>True</td>\n",
       "      <td>...</td>\n",
       "      <td>17.430885</td>\n",
       "      <td>0.0</td>\n",
       "      <td>Санкт-Петербург</td>\n",
       "      <td>24309.0</td>\n",
       "      <td>3876.0</td>\n",
       "      <td>3.0</td>\n",
       "      <td>574.0</td>\n",
       "      <td>3.0</td>\n",
       "      <td>325.0</td>\n",
       "      <td>50</td>\n",
       "    </tr>\n",
       "    <tr>\n",
       "      <th>2261</th>\n",
       "      <td>15</td>\n",
       "      <td>17800000.0</td>\n",
       "      <td>164.0</td>\n",
       "      <td>2019-02-12</td>\n",
       "      <td>7</td>\n",
       "      <td>2.65</td>\n",
       "      <td>7.0</td>\n",
       "      <td>125.900000</td>\n",
       "      <td>7</td>\n",
       "      <td>False</td>\n",
       "      <td>...</td>\n",
       "      <td>12.000000</td>\n",
       "      <td>0.0</td>\n",
       "      <td>Санкт-Петербург</td>\n",
       "      <td>20139.0</td>\n",
       "      <td>2670.0</td>\n",
       "      <td>2.0</td>\n",
       "      <td>41.0</td>\n",
       "      <td>3.0</td>\n",
       "      <td>397.0</td>\n",
       "      <td>999</td>\n",
       "    </tr>\n",
       "    <tr>\n",
       "      <th>23555</th>\n",
       "      <td>5</td>\n",
       "      <td>15350000.0</td>\n",
       "      <td>158.5</td>\n",
       "      <td>2019-03-07</td>\n",
       "      <td>7</td>\n",
       "      <td>2.95</td>\n",
       "      <td>7.0</td>\n",
       "      <td>57.400000</td>\n",
       "      <td>7</td>\n",
       "      <td>False</td>\n",
       "      <td>...</td>\n",
       "      <td>12.400000</td>\n",
       "      <td>1.0</td>\n",
       "      <td>Санкт-Петербург</td>\n",
       "      <td>23546.0</td>\n",
       "      <td>3088.0</td>\n",
       "      <td>1.0</td>\n",
       "      <td>347.0</td>\n",
       "      <td>0.0</td>\n",
       "      <td>NaN</td>\n",
       "      <td>999</td>\n",
       "    </tr>\n",
       "    <tr>\n",
       "      <th>750</th>\n",
       "      <td>9</td>\n",
       "      <td>29500000.0</td>\n",
       "      <td>188.8</td>\n",
       "      <td>2017-03-04</td>\n",
       "      <td>7</td>\n",
       "      <td>2.70</td>\n",
       "      <td>2.0</td>\n",
       "      <td>119.300000</td>\n",
       "      <td>1</td>\n",
       "      <td>False</td>\n",
       "      <td>...</td>\n",
       "      <td>10.200000</td>\n",
       "      <td>0.0</td>\n",
       "      <td>Санкт-Петербург</td>\n",
       "      <td>20965.0</td>\n",
       "      <td>814.0</td>\n",
       "      <td>0.0</td>\n",
       "      <td>NaN</td>\n",
       "      <td>2.0</td>\n",
       "      <td>267.0</td>\n",
       "      <td>246</td>\n",
       "    </tr>\n",
       "    <tr>\n",
       "      <th>4435</th>\n",
       "      <td>13</td>\n",
       "      <td>22190000.0</td>\n",
       "      <td>191.2</td>\n",
       "      <td>2017-12-05</td>\n",
       "      <td>8</td>\n",
       "      <td>2.90</td>\n",
       "      <td>6.0</td>\n",
       "      <td>115.800000</td>\n",
       "      <td>1</td>\n",
       "      <td>False</td>\n",
       "      <td>...</td>\n",
       "      <td>5.000000</td>\n",
       "      <td>0.0</td>\n",
       "      <td>Санкт-Петербург</td>\n",
       "      <td>21589.0</td>\n",
       "      <td>1152.0</td>\n",
       "      <td>1.0</td>\n",
       "      <td>587.0</td>\n",
       "      <td>2.0</td>\n",
       "      <td>155.0</td>\n",
       "      <td>115</td>\n",
       "    </tr>\n",
       "    <tr>\n",
       "      <th>8758</th>\n",
       "      <td>5</td>\n",
       "      <td>16100000.0</td>\n",
       "      <td>150.0</td>\n",
       "      <td>2018-07-10</td>\n",
       "      <td>8</td>\n",
       "      <td>2.92</td>\n",
       "      <td>5.0</td>\n",
       "      <td>107.000000</td>\n",
       "      <td>1</td>\n",
       "      <td>False</td>\n",
       "      <td>...</td>\n",
       "      <td>7.200000</td>\n",
       "      <td>0.0</td>\n",
       "      <td>Санкт-Петербург</td>\n",
       "      <td>26080.0</td>\n",
       "      <td>4782.0</td>\n",
       "      <td>2.0</td>\n",
       "      <td>473.0</td>\n",
       "      <td>0.0</td>\n",
       "      <td>NaN</td>\n",
       "      <td>999</td>\n",
       "    </tr>\n",
       "    <tr>\n",
       "      <th>9688</th>\n",
       "      <td>8</td>\n",
       "      <td>33000000.0</td>\n",
       "      <td>194.1</td>\n",
       "      <td>2017-02-07</td>\n",
       "      <td>11</td>\n",
       "      <td>2.65</td>\n",
       "      <td>5.0</td>\n",
       "      <td>129.000000</td>\n",
       "      <td>2</td>\n",
       "      <td>False</td>\n",
       "      <td>...</td>\n",
       "      <td>11.900000</td>\n",
       "      <td>0.0</td>\n",
       "      <td>Санкт-Петербург</td>\n",
       "      <td>21469.0</td>\n",
       "      <td>1015.0</td>\n",
       "      <td>1.0</td>\n",
       "      <td>686.0</td>\n",
       "      <td>2.0</td>\n",
       "      <td>66.0</td>\n",
       "      <td>813</td>\n",
       "    </tr>\n",
       "    <tr>\n",
       "      <th>648</th>\n",
       "      <td>3</td>\n",
       "      <td>17500000.0</td>\n",
       "      <td>183.7</td>\n",
       "      <td>2018-07-01</td>\n",
       "      <td>11</td>\n",
       "      <td>2.65</td>\n",
       "      <td>7.0</td>\n",
       "      <td>138.800000</td>\n",
       "      <td>7</td>\n",
       "      <td>False</td>\n",
       "      <td>...</td>\n",
       "      <td>13.300000</td>\n",
       "      <td>0.0</td>\n",
       "      <td>Санкт-Петербург</td>\n",
       "      <td>23606.0</td>\n",
       "      <td>3148.0</td>\n",
       "      <td>0.0</td>\n",
       "      <td>NaN</td>\n",
       "      <td>0.0</td>\n",
       "      <td>NaN</td>\n",
       "      <td>999</td>\n",
       "    </tr>\n",
       "  </tbody>\n",
       "</table>\n",
       "<p>10 rows × 22 columns</p>\n",
       "</div>"
      ],
      "text/plain": [
       "       total_images  last_price  total_area first_day_exposition  rooms  \\\n",
       "22420            12  25000000.0       196.0           2016-11-04      7   \n",
       "17350            18  25000000.0       134.0           2016-12-01      7   \n",
       "14603            12  13490000.0       100.6           2018-07-31      7   \n",
       "2261             15  17800000.0       164.0           2019-02-12      7   \n",
       "23555             5  15350000.0       158.5           2019-03-07      7   \n",
       "750               9  29500000.0       188.8           2017-03-04      7   \n",
       "4435             13  22190000.0       191.2           2017-12-05      8   \n",
       "8758              5  16100000.0       150.0           2018-07-10      8   \n",
       "9688              8  33000000.0       194.1           2017-02-07     11   \n",
       "648               3  17500000.0       183.7           2018-07-01     11   \n",
       "\n",
       "       ceiling_height  floors_total  living_area  floor  is_apartment  ...  \\\n",
       "22420            2.65           6.0   145.000000      5         False  ...   \n",
       "17350            2.65           6.0   104.000000      2         False  ...   \n",
       "14603            2.65           4.0    58.038462      2          True  ...   \n",
       "2261             2.65           7.0   125.900000      7         False  ...   \n",
       "23555            2.95           7.0    57.400000      7         False  ...   \n",
       "750              2.70           2.0   119.300000      1         False  ...   \n",
       "4435             2.90           6.0   115.800000      1         False  ...   \n",
       "8758             2.92           5.0   107.000000      1         False  ...   \n",
       "9688             2.65           5.0   129.000000      2         False  ...   \n",
       "648              2.65           7.0   138.800000      7         False  ...   \n",
       "\n",
       "       kitchen_area  balcony    locality_name  airports_nearest  \\\n",
       "22420     17.000000      1.0  Санкт-Петербург           25083.0   \n",
       "17350     11.200000      0.0  Санкт-Петербург           25257.0   \n",
       "14603     17.430885      0.0  Санкт-Петербург           24309.0   \n",
       "2261      12.000000      0.0  Санкт-Петербург           20139.0   \n",
       "23555     12.400000      1.0  Санкт-Петербург           23546.0   \n",
       "750       10.200000      0.0  Санкт-Петербург           20965.0   \n",
       "4435       5.000000      0.0  Санкт-Петербург           21589.0   \n",
       "8758       7.200000      0.0  Санкт-Петербург           26080.0   \n",
       "9688      11.900000      0.0  Санкт-Петербург           21469.0   \n",
       "648       13.300000      0.0  Санкт-Петербург           23606.0   \n",
       "\n",
       "      cityCenters_nearest  parks_around3000  parks_nearest  ponds_around3000  \\\n",
       "22420              3658.0               1.0          552.0               0.0   \n",
       "17350              6060.0               1.0          761.0               1.0   \n",
       "14603              3876.0               3.0          574.0               3.0   \n",
       "2261               2670.0               2.0           41.0               3.0   \n",
       "23555              3088.0               1.0          347.0               0.0   \n",
       "750                 814.0               0.0            NaN               2.0   \n",
       "4435               1152.0               1.0          587.0               2.0   \n",
       "8758               4782.0               2.0          473.0               0.0   \n",
       "9688               1015.0               1.0          686.0               2.0   \n",
       "648                3148.0               0.0            NaN               0.0   \n",
       "\n",
       "       ponds_nearest  days_exposition  \n",
       "22420            NaN              999  \n",
       "17350          584.0              278  \n",
       "14603          325.0               50  \n",
       "2261           397.0              999  \n",
       "23555            NaN              999  \n",
       "750            267.0              246  \n",
       "4435           155.0              115  \n",
       "8758             NaN              999  \n",
       "9688            66.0              813  \n",
       "648              NaN              999  \n",
       "\n",
       "[10 rows x 22 columns]"
      ]
     },
     "execution_count": 101,
     "metadata": {},
     "output_type": "execute_result"
    }
   ],
   "source": [
    "# Посмотрим на многокомнатные варианты\n",
    "data.sort_values(by = 'rooms').tail(10)"
   ]
  },
  {
   "cell_type": "markdown",
   "id": "1fab801a",
   "metadata": {},
   "source": [
    "###### Данные выглядят адекватно. Так как последний вариант выбивается не сильно и вместе с числом комнат линейно растет площадь и цена"
   ]
  },
  {
   "cell_type": "code",
   "execution_count": 102,
   "id": "13217831",
   "metadata": {},
   "outputs": [],
   "source": [
    "# Посмотрим на варианты с 0 комнат. В квартирах студиях заменим параметр на 1. Остальное удалим.\n",
    "data.loc[(data['rooms'] == 0) & (data['studio'] == True), 'rooms'] = 1\n",
    "data = data.drop(index= data.loc[(data['rooms'] == 0)].index)"
   ]
  },
  {
   "cell_type": "markdown",
   "id": "9ce180e1",
   "metadata": {},
   "source": [
    "### 2.13  Кухни"
   ]
  },
  {
   "cell_type": "code",
   "execution_count": 103,
   "id": "b2523eb9",
   "metadata": {},
   "outputs": [],
   "source": [
    "# Удалим большие кухни (> 40м:2). \n",
    "data = data.drop(index= data.loc[(data['kitchen_area'] > 40)].index)"
   ]
  },
  {
   "cell_type": "markdown",
   "id": "24808fad",
   "metadata": {},
   "source": [
    "###### В квартирах студиях заменим параметр на 1. Остальное удалим"
   ]
  },
  {
   "cell_type": "code",
   "execution_count": 104,
   "id": "b15b4bd5",
   "metadata": {
    "scrolled": true
   },
   "outputs": [
    {
     "name": "stdout",
     "output_type": "stream",
     "text": [
      "<class 'pandas.core.frame.DataFrame'>\n",
      "Int64Index: 23229 entries, 17456 to 4910\n",
      "Data columns (total 22 columns):\n",
      " #   Column                Non-Null Count  Dtype         \n",
      "---  ------                --------------  -----         \n",
      " 0   total_images          23229 non-null  int64         \n",
      " 1   last_price            23229 non-null  float64       \n",
      " 2   total_area            23229 non-null  float64       \n",
      " 3   first_day_exposition  23229 non-null  datetime64[ns]\n",
      " 4   rooms                 23229 non-null  int64         \n",
      " 5   ceiling_height        23229 non-null  float64       \n",
      " 6   floors_total          23145 non-null  float64       \n",
      " 7   living_area           23229 non-null  float64       \n",
      " 8   floor                 23229 non-null  int64         \n",
      " 9   is_apartment          23229 non-null  bool          \n",
      " 10  studio                23229 non-null  bool          \n",
      " 11  open_plan             23229 non-null  bool          \n",
      " 12  kitchen_area          23229 non-null  float64       \n",
      " 13  balcony               23229 non-null  float64       \n",
      " 14  locality_name         23229 non-null  object        \n",
      " 15  airports_nearest      17734 non-null  float64       \n",
      " 16  cityCenters_nearest   17754 non-null  float64       \n",
      " 17  parks_around3000      17755 non-null  float64       \n",
      " 18  parks_nearest         7819 non-null   float64       \n",
      " 19  ponds_around3000      17755 non-null  float64       \n",
      " 20  ponds_nearest         8817 non-null   float64       \n",
      " 21  days_exposition       23229 non-null  int32         \n",
      "dtypes: bool(3), datetime64[ns](1), float64(13), int32(1), int64(3), object(1)\n",
      "memory usage: 3.5+ MB\n"
     ]
    }
   ],
   "source": [
    "# Убираем явные дубликаты\n",
    "data = data.drop_duplicates()\n",
    "data.info()"
   ]
  },
  {
   "cell_type": "code",
   "execution_count": 105,
   "id": "dfe6533d",
   "metadata": {},
   "outputs": [
    {
     "data": {
      "text/html": [
       "<div>\n",
       "<style scoped>\n",
       "    .dataframe tbody tr th:only-of-type {\n",
       "        vertical-align: middle;\n",
       "    }\n",
       "\n",
       "    .dataframe tbody tr th {\n",
       "        vertical-align: top;\n",
       "    }\n",
       "\n",
       "    .dataframe thead th {\n",
       "        text-align: right;\n",
       "    }\n",
       "</style>\n",
       "<table border=\"1\" class=\"dataframe\">\n",
       "  <thead>\n",
       "    <tr style=\"text-align: right;\">\n",
       "      <th></th>\n",
       "      <th>total_images</th>\n",
       "      <th>last_price</th>\n",
       "      <th>total_area</th>\n",
       "      <th>rooms</th>\n",
       "      <th>ceiling_height</th>\n",
       "      <th>floors_total</th>\n",
       "      <th>living_area</th>\n",
       "      <th>floor</th>\n",
       "      <th>kitchen_area</th>\n",
       "      <th>balcony</th>\n",
       "      <th>airports_nearest</th>\n",
       "      <th>cityCenters_nearest</th>\n",
       "      <th>parks_around3000</th>\n",
       "      <th>parks_nearest</th>\n",
       "      <th>ponds_around3000</th>\n",
       "      <th>ponds_nearest</th>\n",
       "      <th>days_exposition</th>\n",
       "    </tr>\n",
       "  </thead>\n",
       "  <tbody>\n",
       "    <tr>\n",
       "      <th>count</th>\n",
       "      <td>23229.000000</td>\n",
       "      <td>2.322900e+04</td>\n",
       "      <td>23229.000000</td>\n",
       "      <td>23229.000000</td>\n",
       "      <td>23229.000000</td>\n",
       "      <td>23145.000000</td>\n",
       "      <td>23229.000000</td>\n",
       "      <td>23229.000000</td>\n",
       "      <td>23229.000000</td>\n",
       "      <td>23229.000000</td>\n",
       "      <td>17734.000000</td>\n",
       "      <td>17754.000000</td>\n",
       "      <td>17755.000000</td>\n",
       "      <td>7819.000000</td>\n",
       "      <td>17755.000000</td>\n",
       "      <td>8817.000000</td>\n",
       "      <td>23229.000000</td>\n",
       "    </tr>\n",
       "    <tr>\n",
       "      <th>mean</th>\n",
       "      <td>9.827931</td>\n",
       "      <td>5.813005e+06</td>\n",
       "      <td>57.760010</td>\n",
       "      <td>2.039089</td>\n",
       "      <td>2.665811</td>\n",
       "      <td>10.710521</td>\n",
       "      <td>33.170191</td>\n",
       "      <td>5.893667</td>\n",
       "      <td>10.076779</td>\n",
       "      <td>0.592148</td>\n",
       "      <td>28833.356096</td>\n",
       "      <td>14333.509012</td>\n",
       "      <td>0.599324</td>\n",
       "      <td>492.743062</td>\n",
       "      <td>0.757477</td>\n",
       "      <td>521.591471</td>\n",
       "      <td>288.344397</td>\n",
       "    </tr>\n",
       "    <tr>\n",
       "      <th>std</th>\n",
       "      <td>5.658160</td>\n",
       "      <td>4.493314e+06</td>\n",
       "      <td>25.742761</td>\n",
       "      <td>0.980051</td>\n",
       "      <td>0.139501</td>\n",
       "      <td>6.599849</td>\n",
       "      <td>17.052711</td>\n",
       "      <td>4.885997</td>\n",
       "      <td>4.677008</td>\n",
       "      <td>0.959307</td>\n",
       "      <td>12710.937918</td>\n",
       "      <td>8597.413614</td>\n",
       "      <td>0.789976</td>\n",
       "      <td>342.495756</td>\n",
       "      <td>0.929281</td>\n",
       "      <td>277.694602</td>\n",
       "      <td>344.480930</td>\n",
       "    </tr>\n",
       "    <tr>\n",
       "      <th>min</th>\n",
       "      <td>0.000000</td>\n",
       "      <td>4.300000e+05</td>\n",
       "      <td>12.000000</td>\n",
       "      <td>1.000000</td>\n",
       "      <td>2.200000</td>\n",
       "      <td>1.000000</td>\n",
       "      <td>2.000000</td>\n",
       "      <td>1.000000</td>\n",
       "      <td>0.000000</td>\n",
       "      <td>0.000000</td>\n",
       "      <td>0.000000</td>\n",
       "      <td>181.000000</td>\n",
       "      <td>0.000000</td>\n",
       "      <td>1.000000</td>\n",
       "      <td>0.000000</td>\n",
       "      <td>13.000000</td>\n",
       "      <td>1.000000</td>\n",
       "    </tr>\n",
       "    <tr>\n",
       "      <th>25%</th>\n",
       "      <td>6.000000</td>\n",
       "      <td>3.400000e+06</td>\n",
       "      <td>40.000000</td>\n",
       "      <td>1.000000</td>\n",
       "      <td>2.600000</td>\n",
       "      <td>5.000000</td>\n",
       "      <td>19.000000</td>\n",
       "      <td>2.000000</td>\n",
       "      <td>7.000000</td>\n",
       "      <td>0.000000</td>\n",
       "      <td>18488.500000</td>\n",
       "      <td>9508.500000</td>\n",
       "      <td>0.000000</td>\n",
       "      <td>288.000000</td>\n",
       "      <td>0.000000</td>\n",
       "      <td>299.000000</td>\n",
       "      <td>45.000000</td>\n",
       "    </tr>\n",
       "    <tr>\n",
       "      <th>50%</th>\n",
       "      <td>9.000000</td>\n",
       "      <td>4.600000e+06</td>\n",
       "      <td>51.500000</td>\n",
       "      <td>2.000000</td>\n",
       "      <td>2.650000</td>\n",
       "      <td>9.000000</td>\n",
       "      <td>30.000000</td>\n",
       "      <td>4.000000</td>\n",
       "      <td>9.000000</td>\n",
       "      <td>0.000000</td>\n",
       "      <td>26815.000000</td>\n",
       "      <td>13188.000000</td>\n",
       "      <td>0.000000</td>\n",
       "      <td>456.000000</td>\n",
       "      <td>0.000000</td>\n",
       "      <td>505.000000</td>\n",
       "      <td>123.000000</td>\n",
       "    </tr>\n",
       "    <tr>\n",
       "      <th>75%</th>\n",
       "      <td>14.000000</td>\n",
       "      <td>6.628500e+06</td>\n",
       "      <td>68.100000</td>\n",
       "      <td>3.000000</td>\n",
       "      <td>2.700000</td>\n",
       "      <td>16.000000</td>\n",
       "      <td>42.000000</td>\n",
       "      <td>8.000000</td>\n",
       "      <td>11.700000</td>\n",
       "      <td>1.000000</td>\n",
       "      <td>37407.000000</td>\n",
       "      <td>16365.500000</td>\n",
       "      <td>1.000000</td>\n",
       "      <td>613.000000</td>\n",
       "      <td>1.000000</td>\n",
       "      <td>733.000000</td>\n",
       "      <td>385.000000</td>\n",
       "    </tr>\n",
       "    <tr>\n",
       "      <th>max</th>\n",
       "      <td>50.000000</td>\n",
       "      <td>5.000000e+07</td>\n",
       "      <td>200.000000</td>\n",
       "      <td>11.000000</td>\n",
       "      <td>3.210000</td>\n",
       "      <td>60.000000</td>\n",
       "      <td>164.700000</td>\n",
       "      <td>33.000000</td>\n",
       "      <td>40.000000</td>\n",
       "      <td>5.000000</td>\n",
       "      <td>84869.000000</td>\n",
       "      <td>65968.000000</td>\n",
       "      <td>3.000000</td>\n",
       "      <td>3190.000000</td>\n",
       "      <td>3.000000</td>\n",
       "      <td>1344.000000</td>\n",
       "      <td>1580.000000</td>\n",
       "    </tr>\n",
       "  </tbody>\n",
       "</table>\n",
       "</div>"
      ],
      "text/plain": [
       "       total_images    last_price    total_area         rooms  ceiling_height  \\\n",
       "count  23229.000000  2.322900e+04  23229.000000  23229.000000    23229.000000   \n",
       "mean       9.827931  5.813005e+06     57.760010      2.039089        2.665811   \n",
       "std        5.658160  4.493314e+06     25.742761      0.980051        0.139501   \n",
       "min        0.000000  4.300000e+05     12.000000      1.000000        2.200000   \n",
       "25%        6.000000  3.400000e+06     40.000000      1.000000        2.600000   \n",
       "50%        9.000000  4.600000e+06     51.500000      2.000000        2.650000   \n",
       "75%       14.000000  6.628500e+06     68.100000      3.000000        2.700000   \n",
       "max       50.000000  5.000000e+07    200.000000     11.000000        3.210000   \n",
       "\n",
       "       floors_total   living_area         floor  kitchen_area       balcony  \\\n",
       "count  23145.000000  23229.000000  23229.000000  23229.000000  23229.000000   \n",
       "mean      10.710521     33.170191      5.893667     10.076779      0.592148   \n",
       "std        6.599849     17.052711      4.885997      4.677008      0.959307   \n",
       "min        1.000000      2.000000      1.000000      0.000000      0.000000   \n",
       "25%        5.000000     19.000000      2.000000      7.000000      0.000000   \n",
       "50%        9.000000     30.000000      4.000000      9.000000      0.000000   \n",
       "75%       16.000000     42.000000      8.000000     11.700000      1.000000   \n",
       "max       60.000000    164.700000     33.000000     40.000000      5.000000   \n",
       "\n",
       "       airports_nearest  cityCenters_nearest  parks_around3000  parks_nearest  \\\n",
       "count      17734.000000         17754.000000      17755.000000    7819.000000   \n",
       "mean       28833.356096         14333.509012          0.599324     492.743062   \n",
       "std        12710.937918          8597.413614          0.789976     342.495756   \n",
       "min            0.000000           181.000000          0.000000       1.000000   \n",
       "25%        18488.500000          9508.500000          0.000000     288.000000   \n",
       "50%        26815.000000         13188.000000          0.000000     456.000000   \n",
       "75%        37407.000000         16365.500000          1.000000     613.000000   \n",
       "max        84869.000000         65968.000000          3.000000    3190.000000   \n",
       "\n",
       "       ponds_around3000  ponds_nearest  days_exposition  \n",
       "count      17755.000000    8817.000000     23229.000000  \n",
       "mean           0.757477     521.591471       288.344397  \n",
       "std            0.929281     277.694602       344.480930  \n",
       "min            0.000000      13.000000         1.000000  \n",
       "25%            0.000000     299.000000        45.000000  \n",
       "50%            0.000000     505.000000       123.000000  \n",
       "75%            1.000000     733.000000       385.000000  \n",
       "max            3.000000    1344.000000      1580.000000  "
      ]
     },
     "execution_count": 105,
     "metadata": {},
     "output_type": "execute_result"
    }
   ],
   "source": [
    "# Проверяем обработанную таблицу\n",
    "data.describe()"
   ]
  },
  {
   "cell_type": "code",
   "execution_count": 106,
   "id": "82e05fa2",
   "metadata": {},
   "outputs": [
    {
     "data": {
      "text/plain": [
       "0.019832060424490486"
      ]
     },
     "execution_count": 106,
     "metadata": {},
     "output_type": "execute_result"
    }
   ],
   "source": [
    "# Проверка процента удаленных данных \n",
    "(len(pd.read_csv('real_estate_data.csv', sep= '\\t', decimal='.')) - len(data)) / (len(pd.read_csv('real_estate_data.csv', sep= '\\t', decimal='.')))"
   ]
  },
  {
   "cell_type": "markdown",
   "id": "5a14af8b",
   "metadata": {},
   "source": [
    "###### Общий вывод часть 2: Была проведена предоброботка данных. Были удалены явные и не явные дубликаты. Были обработаны пропуски и не правдоподобные значения в девяти признаках. Были оставлены пропуски в семи признаках: общее количество этажей, расстояние до аэропорта, расстояние до центра (так как данные трудно заменить. необходимо указать на это разработчикам). И признаки, расстояния до парков, и прудов так же не трогали, так как они не будут участвовать в дальнейшем исследовании."
   ]
  },
  {
   "cell_type": "markdown",
   "id": "f6b705b4",
   "metadata": {},
   "source": [
    "## 3. Посчитаем и добавим в таблицу новые столбцы"
   ]
  },
  {
   "cell_type": "code",
   "execution_count": 109,
   "id": "99134511",
   "metadata": {},
   "outputs": [],
   "source": [
    "# добавление столбца с ценой квадратного метра\n",
    "data['sqm_price'] = (data['last_price'] / data['total_area']).astype(int)"
   ]
  },
  {
   "cell_type": "code",
   "execution_count": 110,
   "id": "5927cc00",
   "metadata": {},
   "outputs": [],
   "source": [
    "# Добавляем столбцы дня недели, месяца и года\n",
    "data['weekday'] = data['first_day_exposition'].dt.weekday\n",
    "data['month'] = data['first_day_exposition'].dt.month\n",
    "data['year'] = data['first_day_exposition'].dt.year"
   ]
  },
  {
   "cell_type": "code",
   "execution_count": 111,
   "id": "0483f616",
   "metadata": {},
   "outputs": [],
   "source": [
    "# Добавляем столбец с типом этажа\n",
    "data.loc[data['floor'] == 1,'floor_type'] = 'первый'\n",
    "data.loc[data['floor'] == data['floors_total'],'floor_type'] = 'последний'\n",
    "data.loc[data['floor_type'].isna(),'floor_type'] = 'другой'\n"
   ]
  },
  {
   "cell_type": "code",
   "execution_count": 113,
   "id": "60fccd4f",
   "metadata": {},
   "outputs": [],
   "source": [
    "# Перевели расстояние до центра в километры и сделали значения целочисленными. заполнили нулями пропущенные значения\n",
    "data['cityCenters_nearest'] = (data['cityCenters_nearest'] / 1000).fillna(value=0).astype(int)"
   ]
  },
  {
   "cell_type": "markdown",
   "id": "521d7f91",
   "metadata": {},
   "source": [
    "### 4. Исследовательский анализ данных"
   ]
  },
  {
   "cell_type": "markdown",
   "id": "b6ffcdb9",
   "metadata": {},
   "source": [
    "### 4.1  Общая площадь."
   ]
  },
  {
   "cell_type": "code",
   "execution_count": 114,
   "id": "73372b37",
   "metadata": {},
   "outputs": [
    {
     "name": "stdout",
     "output_type": "stream",
     "text": [
      "            count\n",
      "total_area       \n",
      "12.0            1\n",
      "13.0            3\n",
      "13.2            1\n",
      "14.0            1\n",
      "15.0            2\n",
      "...           ...\n",
      "198.0           2\n",
      "198.1           1\n",
      "198.9           1\n",
      "199.2           1\n",
      "200.0           3\n",
      "\n",
      "[1992 rows x 1 columns]\n"
     ]
    },
    {
     "data": {
      "text/plain": [
       "count    23229.000000\n",
       "mean        57.760010\n",
       "std         25.742761\n",
       "min         12.000000\n",
       "25%         40.000000\n",
       "50%         51.500000\n",
       "75%         68.100000\n",
       "max        200.000000\n",
       "Name: total_area, dtype: float64"
      ]
     },
     "execution_count": 114,
     "metadata": {},
     "output_type": "execute_result"
    },
    {
     "data": {
      "image/png": "[encoded data removed]",
      "text/plain": [
       "<Figure size 640x480 with 1 Axes>"
      ]
     },
     "metadata": {},
     "output_type": "display_data"
    }
   ],
   "source": [
    "# Построим гимтограмму и сводную таблицу\n",
    "data.hist('total_area', bins=30, range=(10,200))\n",
    "plt.title('Общая площадь')\n",
    "plt.xlabel('площадь квартир')\n",
    "plt.ylabel('Кол-во квартир')\n",
    "print(data.pivot_table(index= 'total_area', values= 'floor_type', aggfunc= 'count').sort_values(by = 'total_area').rename(columns= {'floor_type': 'count'}))\n",
    "data['total_area'].describe()"
   ]
  },
  {
   "cell_type": "markdown",
   "id": "c9133095",
   "metadata": {},
   "source": [
    "###### Наблюдения: Наименьшая по площади продаваемая квартира 12м^2. Наибольшая по площади продаваемая квартира 200м^2. Больше всего объявлений с квартирами 45м^2. Большинство продаваемых квартир менее 100м^2. График напоминает нормальное распределение."
   ]
  },
  {
   "cell_type": "markdown",
   "id": "aeedc766",
   "metadata": {},
   "source": [
    "###### 4.2  Жилая площадь."
   ]
  },
  {
   "cell_type": "code",
   "execution_count": 115,
   "id": "9ce216aa",
   "metadata": {},
   "outputs": [
    {
     "name": "stdout",
     "output_type": "stream",
     "text": [
      "             count\n",
      "living_area       \n",
      "164.700000       1\n",
      "30.080000        1\n",
      "30.057692        1\n",
      "30.050000        1\n",
      "56.120000        1\n",
      "...            ...\n",
      "20.000000      474\n",
      "16.000000      484\n",
      "30.000000      598\n",
      "17.000000      669\n",
      "18.000000      871\n",
      "\n",
      "[2255 rows x 1 columns]\n"
     ]
    },
    {
     "data": {
      "text/plain": [
       "count    23229.000000\n",
       "mean        33.170191\n",
       "std         17.052711\n",
       "min          2.000000\n",
       "25%         19.000000\n",
       "50%         30.000000\n",
       "75%         42.000000\n",
       "max        164.700000\n",
       "Name: living_area, dtype: float64"
      ]
     },
     "execution_count": 115,
     "metadata": {},
     "output_type": "execute_result"
    },
    {
     "data": {
      "image/png": "[encoded data removed]",
      "text/plain": [
       "<Figure size 640x480 with 1 Axes>"
      ]
     },
     "metadata": {},
     "output_type": "display_data"
    }
   ],
   "source": [
    "# Построим гимтограмму и сводную таблицу\n",
    "data.hist('living_area', bins=30, range=(10,200))\n",
    "print(data.pivot_table(index= 'living_area', values= 'floor_type', aggfunc= 'count').rename(columns= {'floor_type': 'count'}).sort_values(by = 'count'))\n",
    "data['living_area'].describe()"
   ]
  },
  {
   "cell_type": "markdown",
   "id": "e0e0a7ab",
   "metadata": {},
   "source": [
    "###### Наблюдения: Наименьшая по жилой площади продаваемая квартира 2м^2. Наибольшая по жилой площади продаваемая квартира 164м^2. В большинстве продаваемых квартир жилая площадь менее 75 м^2. На графике видны 2 всплеска: больше всего продается квартир с жилой площадью 15-20м^2 и 30м^2. Но при этом квартир с жилой площадью 25м:2 продается гораздо меньше."
   ]
  },
  {
   "cell_type": "markdown",
   "id": "ed776f49",
   "metadata": {},
   "source": [
    "###### 4.3  Площадь кухни"
   ]
  },
  {
   "cell_type": "code",
   "execution_count": 116,
   "id": "f64f9b85",
   "metadata": {},
   "outputs": [
    {
     "name": "stdout",
     "output_type": "stream",
     "text": [
      "              count\n",
      "kitchen_area       \n",
      "10.89             1\n",
      "11.37             1\n",
      "11.39             1\n",
      "25.90             1\n",
      "11.42             1\n",
      "...             ...\n",
      "7.00           1062\n",
      "9.00           1100\n",
      "8.00           1108\n",
      "10.00          1255\n",
      "6.00           1298\n",
      "\n",
      "[1529 rows x 1 columns]\n"
     ]
    },
    {
     "data": {
      "text/plain": [
       "count    23229.000000\n",
       "mean        10.076779\n",
       "std          4.677008\n",
       "min          0.000000\n",
       "25%          7.000000\n",
       "50%          9.000000\n",
       "75%         11.700000\n",
       "max         40.000000\n",
       "Name: kitchen_area, dtype: float64"
      ]
     },
     "execution_count": 116,
     "metadata": {},
     "output_type": "execute_result"
    },
    {
     "data": {
      "image/png": "[encoded data removed]",
      "text/plain": [
       "<Figure size 640x480 with 1 Axes>"
      ]
     },
     "metadata": {},
     "output_type": "display_data"
    }
   ],
   "source": [
    "# Построим гимтограмму и сводную таблицу\n",
    "data.hist('kitchen_area', bins=20, range=(10,40))\n",
    "print(data.pivot_table(index= 'kitchen_area', values= 'floor_type', aggfunc= 'count').rename(columns= {'floor_type': 'count'}).sort_values(by = 'count'))\n",
    "data['kitchen_area'].describe()"
   ]
  },
  {
   "cell_type": "markdown",
   "id": "10293834",
   "metadata": {},
   "source": [
    "###### Наблюдения: Наименьшая по площади кухни продаваемая квартира 0м^2. Это как мы выяснили ранее квартиры студии Наибольшая по площади кухни продаваемая квартира 40м^2. В подавляющем большинстве продаваемых квартир площадь кухни от 6 до 15м^2. График напоминает нормальное распределение"
   ]
  },
  {
   "cell_type": "markdown",
   "id": "c1e86f53",
   "metadata": {},
   "source": [
    "### 4.4 Цена объекта"
   ]
  },
  {
   "cell_type": "code",
   "execution_count": 117,
   "id": "3fb4527c",
   "metadata": {},
   "outputs": [
    {
     "name": "stdout",
     "output_type": "stream",
     "text": [
      "            count\n",
      "last_price       \n",
      "430000.0        2\n",
      "440000.0        1\n",
      "450000.0        4\n",
      "470000.0        3\n",
      "480000.0        1\n",
      "...           ...\n",
      "48000000.0      2\n",
      "48763000.0      1\n",
      "49000000.0      1\n",
      "49900000.0      2\n",
      "50000000.0      5\n",
      "\n",
      "[2806 rows x 1 columns]\n"
     ]
    },
    {
     "data": {
      "text/plain": [
       "count    2.322900e+04\n",
       "mean     5.813005e+06\n",
       "std      4.493314e+06\n",
       "min      4.300000e+05\n",
       "25%      3.400000e+06\n",
       "50%      4.600000e+06\n",
       "75%      6.628500e+06\n",
       "max      5.000000e+07\n",
       "Name: last_price, dtype: float64"
      ]
     },
     "execution_count": 117,
     "metadata": {},
     "output_type": "execute_result"
    },
    {
     "data": {
      "image/png": "[encoded data removed]",
      "text/plain": [
       "<Figure size 640x480 with 1 Axes>"
      ]
     },
     "metadata": {},
     "output_type": "display_data"
    }
   ],
   "source": [
    "# Построим гимтограмму и сводную таблицу\n",
    "data.hist('last_price', bins=20, range=(10,20000000))\n",
    "print(data.pivot_table(index= 'last_price', values= 'floor_type', aggfunc= 'count').rename(columns= {'floor_type': 'count'}).sort_values(by = 'last_price'))\n",
    "data['last_price'].describe()"
   ]
  },
  {
   "cell_type": "markdown",
   "id": "4927c6a0",
   "metadata": {},
   "source": [
    "###### Наблюдения: Наименьшая по цене продаваемая квартира 430т. руб. Эта цена выглядит нормальной для минимума. Наибольшая по цене продаваемая квартира 50млн. руб. В основном квартиры продают по цене от 1 до 10и млн руб. График напоминает нормальное распределение"
   ]
  },
  {
   "cell_type": "markdown",
   "id": "644c8d31",
   "metadata": {},
   "source": [
    "### 4.4  Количество комнат"
   ]
  },
  {
   "cell_type": "code",
   "execution_count": 118,
   "id": "8ab894ce",
   "metadata": {},
   "outputs": [
    {
     "name": "stdout",
     "output_type": "stream",
     "text": [
      "       count\n",
      "rooms       \n",
      "1       8170\n",
      "2       7892\n",
      "3       5719\n",
      "4       1104\n",
      "5        259\n",
      "6         61\n",
      "7         20\n",
      "8          2\n",
      "11         2\n"
     ]
    },
    {
     "data": {
      "text/plain": [
       "count    23229.000000\n",
       "mean         2.039089\n",
       "std          0.980051\n",
       "min          1.000000\n",
       "25%          1.000000\n",
       "50%          2.000000\n",
       "75%          3.000000\n",
       "max         11.000000\n",
       "Name: rooms, dtype: float64"
      ]
     },
     "execution_count": 118,
     "metadata": {},
     "output_type": "execute_result"
    },
    {
     "data": {
      "image/png": "[encoded data removed]",
      "text/plain": [
       "<Figure size 640x480 with 1 Axes>"
      ]
     },
     "metadata": {},
     "output_type": "display_data"
    }
   ],
   "source": [
    "# Построим гимтограмму и сводную таблицу\n",
    "data.hist('rooms', bins=20, range=(0,10))\n",
    "print(data.pivot_table(index= 'rooms', values= 'floor_type', aggfunc= 'count').rename(columns= {'floor_type': 'count'}).sort_values(by = 'rooms'))\n",
    "data['rooms'].describe()"
   ]
  },
  {
   "cell_type": "markdown",
   "id": "44828945",
   "metadata": {},
   "source": [
    "###### Наблюдения: Менее всего комнат в квартирах студиях. Больше всего комнат в продаваемой квартире - 11. Больше всего продают 1-2 комнатные квартиры по 8000 объявлений. 3х комнатных меньше их около 6000."
   ]
  },
  {
   "cell_type": "markdown",
   "id": "9eff1a00",
   "metadata": {},
   "source": [
    "### 4.5  Высота потолков"
   ]
  },
  {
   "cell_type": "code",
   "execution_count": 119,
   "id": "5c4aa37a",
   "metadata": {},
   "outputs": [
    {
     "name": "stdout",
     "output_type": "stream",
     "text": [
      "                count\n",
      "ceiling_height       \n",
      "2.20                1\n",
      "2.25                1\n",
      "2.34                1\n",
      "2.99                1\n",
      "2.49                1\n",
      "...               ...\n",
      "3.00             1065\n",
      "2.70             1564\n",
      "2.60             1643\n",
      "2.50             3512\n",
      "2.65            10371\n",
      "\n",
      "[81 rows x 1 columns]\n"
     ]
    },
    {
     "data": {
      "text/plain": [
       "count    23229.000000\n",
       "mean         2.665811\n",
       "std          0.139501\n",
       "min          2.200000\n",
       "25%          2.600000\n",
       "50%          2.650000\n",
       "75%          2.700000\n",
       "max          3.210000\n",
       "Name: ceiling_height, dtype: float64"
      ]
     },
     "execution_count": 119,
     "metadata": {},
     "output_type": "execute_result"
    },
    {
     "data": {
      "image/png": "[encoded data removed]",
      "text/plain": [
       "<Figure size 640x480 with 1 Axes>"
      ]
     },
     "metadata": {},
     "output_type": "display_data"
    }
   ],
   "source": [
    "# Построим гимтограмму и сводную таблицу\n",
    "data.hist('ceiling_height', bins=50, range=(2.25,3.5))\n",
    "print(data.pivot_table(index= 'ceiling_height', values= 'floor_type', aggfunc= 'count').rename(columns= {'floor_type': 'count'}).sort_values(by = 'count'))\n",
    "data['ceiling_height'].describe()"
   ]
  },
  {
   "cell_type": "markdown",
   "id": "33e6dc89",
   "metadata": {},
   "source": [
    "###### Наблюдения: Данный признак уже предобработан. Вбросы и не корректные значения исправлены. Наименьшее значение высоты потолков - 2.2м. Наибольшее - 3.2м. Есть два пика на графике: около 4000 квартир продаются с потолкам 2.5м и более 10000 с потолками 2.65м."
   ]
  },
  {
   "cell_type": "markdown",
   "id": "bf357b02",
   "metadata": {},
   "source": [
    "### 4.6  Этаж квартиры"
   ]
  },
  {
   "cell_type": "code",
   "execution_count": 120,
   "id": "c492f9b5",
   "metadata": {},
   "outputs": [
    {
     "name": "stdout",
     "output_type": "stream",
     "text": [
      "       count\n",
      "floor       \n",
      "1       2890\n",
      "2       3293\n",
      "3       3006\n",
      "4       2724\n",
      "5       2562\n",
      "6       1271\n",
      "7       1187\n",
      "8       1068\n",
      "9       1039\n",
      "10       679\n",
      "11       515\n",
      "12       518\n",
      "13       374\n",
      "14       334\n",
      "15       339\n",
      "16       308\n",
      "17       221\n",
      "18       175\n",
      "19       143\n",
      "20       109\n",
      "21       122\n",
      "22       111\n",
      "23        98\n",
      "24        61\n",
      "25        43\n",
      "26        23\n",
      "27        10\n",
      "28         1\n",
      "29         1\n",
      "30         1\n",
      "31         1\n",
      "32         1\n",
      "33         1\n"
     ]
    },
    {
     "data": {
      "text/plain": [
       "count    23229.000000\n",
       "mean         5.893667\n",
       "std          4.885997\n",
       "min          1.000000\n",
       "25%          2.000000\n",
       "50%          4.000000\n",
       "75%          8.000000\n",
       "max         33.000000\n",
       "Name: floor, dtype: float64"
      ]
     },
     "execution_count": 120,
     "metadata": {},
     "output_type": "execute_result"
    },
    {
     "data": {
      "image/png": "[encoded data removed]",
      "text/plain": [
       "<Figure size 640x480 with 1 Axes>"
      ]
     },
     "metadata": {},
     "output_type": "display_data"
    }
   ],
   "source": [
    "# Построим гимтограмму и сводную таблицу\n",
    "data.hist('floor', bins=50, range=(0,33))\n",
    "print(data.pivot_table(index= 'floor', values= 'floor_type', aggfunc= 'count').rename(columns= {'floor_type': 'count'}).sort_values(by = 'floor'))\n",
    "data['floor'].describe()"
   ]
  },
  {
   "cell_type": "markdown",
   "id": "d002e900",
   "metadata": {},
   "source": [
    "###### Наблюдения: Менее всего вартир продается на высоких этажах от 22 и выше. Видимо связано это с тем что высотных зданий не так много. Большинство квартир продается на этажах с 1 по 10."
   ]
  },
  {
   "cell_type": "markdown",
   "id": "02f72b2c",
   "metadata": {},
   "source": [
    "### 4.7  Тип этажа квартиры"
   ]
  },
  {
   "cell_type": "code",
   "execution_count": 121,
   "id": "63dcde6c",
   "metadata": {},
   "outputs": [
    {
     "data": {
      "text/html": [
       "<div>\n",
       "<style scoped>\n",
       "    .dataframe tbody tr th:only-of-type {\n",
       "        vertical-align: middle;\n",
       "    }\n",
       "\n",
       "    .dataframe tbody tr th {\n",
       "        vertical-align: top;\n",
       "    }\n",
       "\n",
       "    .dataframe thead th {\n",
       "        text-align: right;\n",
       "    }\n",
       "</style>\n",
       "<table border=\"1\" class=\"dataframe\">\n",
       "  <thead>\n",
       "    <tr style=\"text-align: right;\">\n",
       "      <th></th>\n",
       "      <th>count</th>\n",
       "    </tr>\n",
       "    <tr>\n",
       "      <th>floor_type</th>\n",
       "      <th></th>\n",
       "    </tr>\n",
       "  </thead>\n",
       "  <tbody>\n",
       "    <tr>\n",
       "      <th>другой</th>\n",
       "      <td>17110</td>\n",
       "    </tr>\n",
       "    <tr>\n",
       "      <th>первый</th>\n",
       "      <td>2865</td>\n",
       "    </tr>\n",
       "    <tr>\n",
       "      <th>последний</th>\n",
       "      <td>3254</td>\n",
       "    </tr>\n",
       "  </tbody>\n",
       "</table>\n",
       "</div>"
      ],
      "text/plain": [
       "            count\n",
       "floor_type       \n",
       "другой      17110\n",
       "первый       2865\n",
       "последний    3254"
      ]
     },
     "execution_count": 121,
     "metadata": {},
     "output_type": "execute_result"
    }
   ],
   "source": [
    "# Построим гимтограмму и сводную таблицу\n",
    "data.pivot_table(index= 'floor_type', values= 'locality_name', aggfunc= 'count').rename(columns= {'locality_name': 'count'})"
   ]
  },
  {
   "cell_type": "markdown",
   "id": "5eb1a7bb",
   "metadata": {},
   "source": [
    "###### Наблюдения: Наибольшее количество продаваемых квартир находятся не на первом и не на последнем этажах. Первый и последний этажи расположились примерно поровну(по 3000 объявлений)"
   ]
  },
  {
   "cell_type": "markdown",
   "id": "fe24bc00",
   "metadata": {},
   "source": [
    "### 4.8  Общее количество этажей в доме"
   ]
  },
  {
   "cell_type": "code",
   "execution_count": 122,
   "id": "087df1e6",
   "metadata": {},
   "outputs": [
    {
     "name": "stdout",
     "output_type": "stream",
     "text": [
      "              count\n",
      "floors_total       \n",
      "1.0              25\n",
      "2.0             374\n",
      "3.0             649\n",
      "4.0            1150\n",
      "5.0            5681\n",
      "6.0             848\n",
      "7.0             560\n",
      "8.0             354\n",
      "9.0            3734\n",
      "10.0           1164\n",
      "11.0            199\n",
      "12.0           1348\n",
      "13.0            224\n",
      "14.0            545\n",
      "15.0            364\n",
      "16.0           1364\n",
      "17.0            825\n",
      "18.0            498\n",
      "19.0            336\n",
      "20.0            260\n",
      "21.0            156\n",
      "22.0            283\n",
      "23.0            348\n",
      "24.0            456\n",
      "25.0           1061\n",
      "26.0            123\n",
      "27.0            163\n",
      "28.0             21\n",
      "29.0              1\n",
      "33.0              1\n",
      "34.0              1\n",
      "35.0             23\n",
      "36.0              3\n",
      "37.0              1\n",
      "52.0              1\n",
      "60.0              1\n"
     ]
    },
    {
     "data": {
      "text/plain": [
       "count    23145.000000\n",
       "mean        10.710521\n",
       "std          6.599849\n",
       "min          1.000000\n",
       "25%          5.000000\n",
       "50%          9.000000\n",
       "75%         16.000000\n",
       "max         60.000000\n",
       "Name: floors_total, dtype: float64"
      ]
     },
     "execution_count": 122,
     "metadata": {},
     "output_type": "execute_result"
    },
    {
     "data": {
      "image/png": "[encoded data removed]",
      "text/plain": [
       "<Figure size 640x480 with 1 Axes>"
      ]
     },
     "metadata": {},
     "output_type": "display_data"
    }
   ],
   "source": [
    "# Построим гимтограмму и сводную таблицу\n",
    "data.hist('floors_total', bins=100, range=(0,33))\n",
    "print(data.pivot_table(index= 'floors_total', values= 'floor_type', aggfunc= 'count').rename(columns= {'floor_type': 'count'}).sort_values(by = 'floors_total'))\n",
    "data['floors_total'].describe()"
   ]
  },
  {
   "cell_type": "markdown",
   "id": "e16d0f43",
   "metadata": {},
   "source": [
    "###### Наблюдения: Как и ожидалось, большинство квартир продается в пяти, девяти и двенадцати этажных домах. Но так же есть всплески 16 и 25 этажных домов. Если первые относятся к советскому стандарту домостроения. То последние - это популярный современный формат."
   ]
  },
  {
   "cell_type": "markdown",
   "id": "cf3ab7c7",
   "metadata": {},
   "source": [
    "### 4.9  Расстояние до центра города в метрах"
   ]
  },
  {
   "cell_type": "code",
   "execution_count": 123,
   "id": "513f35af",
   "metadata": {},
   "outputs": [
    {
     "name": "stdout",
     "output_type": "stream",
     "text": [
      "                     count\n",
      "cityCenters_nearest       \n",
      "38                       1\n",
      "61                       1\n",
      "60                       1\n",
      "56                       1\n",
      "64                       1\n",
      "...                    ...\n",
      "13                    1390\n",
      "11                    1408\n",
      "14                    1496\n",
      "12                    1506\n",
      "0                     5548\n",
      "\n",
      "[61 rows x 1 columns]\n"
     ]
    },
    {
     "data": {
      "text/plain": [
       "count    23229.000000\n",
       "mean        10.575832\n",
       "std          9.540583\n",
       "min          0.000000\n",
       "25%          2.000000\n",
       "50%         11.000000\n",
       "75%         15.000000\n",
       "max         65.000000\n",
       "Name: cityCenters_nearest, dtype: float64"
      ]
     },
     "execution_count": 123,
     "metadata": {},
     "output_type": "execute_result"
    },
    {
     "data": {
      "image/png": "[encoded data removed]",
      "text/plain": [
       "<Figure size 640x480 with 1 Axes>"
      ]
     },
     "metadata": {},
     "output_type": "display_data"
    }
   ],
   "source": [
    "# Построим гимтограмму и сводную таблицу\n",
    "data.hist('cityCenters_nearest', bins=100, range=(0,50))\n",
    "print(data.pivot_table(index= 'cityCenters_nearest', values= 'floor_type', aggfunc= 'count').rename(columns= {'floor_type': 'count'}).sort_values(by = 'count'))\n",
    "data['cityCenters_nearest'].describe()"
   ]
  },
  {
   "cell_type": "markdown",
   "id": "b55be423",
   "metadata": {},
   "source": [
    "###### Наблюдения: Большое количество значений параметра равно нулю, но как выяснилось ранее это пропущенные значения которые вовсе не относятся к городу. Наибольшее количество квартир продаются на расстоянии от 3 до 16и километров от цетнтра. Наибольшее расстояне - 65километров."
   ]
  },
  {
   "cell_type": "markdown",
   "id": "bb77c4d4",
   "metadata": {},
   "source": [
    "### 4.10  Расстояние до ближайшего аэропорта"
   ]
  },
  {
   "cell_type": "code",
   "execution_count": 124,
   "id": "c69e96c2",
   "metadata": {},
   "outputs": [
    {
     "name": "stdout",
     "output_type": "stream",
     "text": [
      "                  count\n",
      "airports_nearest       \n",
      "62                    1\n",
      "78                    1\n",
      "75                    1\n",
      "83                    1\n",
      "70                    2\n",
      "...                 ...\n",
      "14                  568\n",
      "13                  584\n",
      "24                  625\n",
      "18                  647\n",
      "0                  5496\n",
      "\n",
      "[73 rows x 1 columns]\n"
     ]
    },
    {
     "data": {
      "text/plain": [
       "count    23229.000000\n",
       "mean        21.620130\n",
       "std         16.379962\n",
       "min          0.000000\n",
       "25%         10.000000\n",
       "50%         21.000000\n",
       "75%         34.000000\n",
       "max         84.000000\n",
       "Name: airports_nearest, dtype: float64"
      ]
     },
     "execution_count": 124,
     "metadata": {},
     "output_type": "execute_result"
    },
    {
     "data": {
      "image/png": "[encoded data removed]",
      "text/plain": [
       "<Figure size 640x480 with 1 Axes>"
      ]
     },
     "metadata": {},
     "output_type": "display_data"
    }
   ],
   "source": [
    "# переведем метры в километры. Построим гимтограмму и сводную таблицу\n",
    "data['airports_nearest'] = (data['airports_nearest'] / 1000).fillna(value=0).astype(int)\n",
    "data.hist('airports_nearest', bins=100, range=(0,50))\n",
    "print(data.pivot_table(index= 'airports_nearest', values= 'floor_type', aggfunc= 'count').rename(columns= {'floor_type': 'count'}).sort_values(by = 'count'))\n",
    "data['airports_nearest'].describe()"
   ]
  },
  {
   "cell_type": "markdown",
   "id": "9de615af",
   "metadata": {},
   "source": [
    "###### Наблюдения: Большое количество значений параметра равно нулю, но как выяснилось ранее это пропущенные значения. Наибольшее количество квартир продаются на расстоянии от 3 до 45и километров от цетнтра. Наибольшее расстояне - 84километра."
   ]
  },
  {
   "cell_type": "markdown",
   "id": "ed34f002",
   "metadata": {},
   "source": [
    "### 4.11  Расстояние до ближайшего парка"
   ]
  },
  {
   "cell_type": "code",
   "execution_count": 125,
   "id": "95508896",
   "metadata": {},
   "outputs": [
    {
     "name": "stdout",
     "output_type": "stream",
     "text": [
      "               count\n",
      "parks_nearest       \n",
      "1.0                1\n",
      "116.0              1\n",
      "941.0              1\n",
      "932.0              1\n",
      "929.0              1\n",
      "...              ...\n",
      "471.0             31\n",
      "456.0             39\n",
      "173.0             40\n",
      "392.0             41\n",
      "441.0             67\n",
      "\n",
      "[989 rows x 1 columns]\n"
     ]
    },
    {
     "data": {
      "text/plain": [
       "count    7819.000000\n",
       "mean      492.743062\n",
       "std       342.495756\n",
       "min         1.000000\n",
       "25%       288.000000\n",
       "50%       456.000000\n",
       "75%       613.000000\n",
       "max      3190.000000\n",
       "Name: parks_nearest, dtype: float64"
      ]
     },
     "execution_count": 125,
     "metadata": {},
     "output_type": "execute_result"
    },
    {
     "data": {
      "image/png": "[encoded data removed]",
      "text/plain": [
       "<Figure size 640x480 with 1 Axes>"
      ]
     },
     "metadata": {},
     "output_type": "display_data"
    }
   ],
   "source": [
    "data.hist('parks_nearest', bins=50, range=(0,3000))\n",
    "print(data.pivot_table(index= 'parks_nearest', values= 'floor_type', aggfunc= 'count').rename(columns= {'floor_type': 'count'}).sort_values(by = 'count'))\n",
    "data['parks_nearest'].describe()"
   ]
  },
  {
   "cell_type": "markdown",
   "id": "97917b36",
   "metadata": {},
   "source": [
    "###### Наблюдения: Наибольшее количество квартир публикуются в будние дни со вторника по пятницу, примерно по 4тысячи . В понедельник немного меньше 3500. В выходные наблюдается спад - менее 2000"
   ]
  },
  {
   "cell_type": "markdown",
   "id": "0e628ef7",
   "metadata": {},
   "source": [
    "### 4.12  Как быстро продавались квартиры"
   ]
  },
  {
   "cell_type": "code",
   "execution_count": 126,
   "id": "22a9f3ac",
   "metadata": {},
   "outputs": [
    {
     "data": {
      "text/plain": [
       "array([[<AxesSubplot:title={'center':'days_exposition'}>]], dtype=object)"
      ]
     },
     "execution_count": 126,
     "metadata": {},
     "output_type": "execute_result"
    },
    {
     "data": {
      "image/png": "[encoded data removed]",
      "text/plain": [
       "<Figure size 640x480 with 1 Axes>"
      ]
     },
     "metadata": {},
     "output_type": "display_data"
    }
   ],
   "source": [
    "#Построим гистограмму\n",
    "data.hist('days_exposition', bins=100, range=(1,1500))"
   ]
  },
  {
   "cell_type": "markdown",
   "id": "a399679b",
   "metadata": {},
   "source": [
    "###### На графике виден вброс. Но это мы заменили нулевые значения на 999. Но есть данные и выше 1000 дней, они выглядят не правдоподобно. Поэтому отбросим данные выше Q3+1.5IQR(расчитали на этапе предобработки)"
   ]
  },
  {
   "cell_type": "code",
   "execution_count": 127,
   "id": "b6d57954",
   "metadata": {},
   "outputs": [
    {
     "data": {
      "text/plain": [
       "count    19756.000000\n",
       "mean       161.460113\n",
       "std        176.734423\n",
       "min          1.000000\n",
       "25%         44.000000\n",
       "50%         92.000000\n",
       "75%        216.000000\n",
       "max        906.000000\n",
       "Name: days_exposition, dtype: float64"
      ]
     },
     "execution_count": 127,
     "metadata": {},
     "output_type": "execute_result"
    }
   ],
   "source": [
    "# Выведем описание столбца с учетом отброшенных данных\n",
    "data.query('days_exposition < @standard_deviation')['days_exposition'].describe()"
   ]
  },
  {
   "cell_type": "markdown",
   "id": "7386bdd2",
   "metadata": {},
   "source": [
    "###### Медианное значение срока продажи - 92 дня, среднее - 162, первая квартиль - 44, третья квартиль - 216. Быстрой продажей можно считать срок менее первой квартили (<44 дней). Медленной можно считать выше третьей(> 216 дней)."
   ]
  },
  {
   "cell_type": "markdown",
   "id": "4469c57c",
   "metadata": {},
   "source": [
    "### 4.13  Какие факторы больше всего влияют на общую (полную) стоимость объекта"
   ]
  },
  {
   "cell_type": "code",
   "execution_count": 128,
   "id": "4bc6b235",
   "metadata": {},
   "outputs": [
    {
     "data": {
      "text/plain": [
       "0.7624208327537897"
      ]
     },
     "execution_count": 128,
     "metadata": {},
     "output_type": "execute_result"
    },
    {
     "data": {
      "image/png": "[encoded data removed]",
      "text/plain": [
       "<Figure size 640x480 with 1 Axes>"
      ]
     },
     "metadata": {},
     "output_type": "display_data"
    }
   ],
   "source": [
    "# зависимость цены от общей площади\n",
    "data.plot(x= 'total_area', y= 'last_price', kind= 'scatter', grid = True)\n",
    "data['total_area'].corr(data['last_price'])"
   ]
  },
  {
   "cell_type": "markdown",
   "id": "c2e63c39",
   "metadata": {},
   "source": [
    "###### Зависимость цены от общей площади: Коэффициент кореляции Пирсона - 0.76. Это означает что существует прямая зависимость цены от площади. То же подтверждается и графиком."
   ]
  },
  {
   "cell_type": "code",
   "execution_count": 129,
   "id": "a1408f9e",
   "metadata": {},
   "outputs": [
    {
     "data": {
      "text/plain": [
       "0.665971089299828"
      ]
     },
     "execution_count": 129,
     "metadata": {},
     "output_type": "execute_result"
    },
    {
     "data": {
      "image/png": "[encoded data removed]",
      "text/plain": [
       "<Figure size 640x480 with 1 Axes>"
      ]
     },
     "metadata": {},
     "output_type": "display_data"
    }
   ],
   "source": [
    "# зависимость цены от жилой площади\n",
    "data.plot(x= 'living_area', y= 'last_price', kind= 'scatter', grid = True)\n",
    "data['living_area'].corr(data['last_price'])"
   ]
  },
  {
   "cell_type": "markdown",
   "id": "bf2e2e69",
   "metadata": {},
   "source": [
    "###### Зависимость цены от жилой площади так же существует, хотя коэффициент кореляции Пирсона меньше чем у общей площади - 0,66. В целом график похож на тот, что мы строили для общей площади."
   ]
  },
  {
   "cell_type": "code",
   "execution_count": 130,
   "id": "a7e021da",
   "metadata": {},
   "outputs": [
    {
     "data": {
      "text/plain": [
       "0.5856405699499172"
      ]
     },
     "execution_count": 130,
     "metadata": {},
     "output_type": "execute_result"
    },
    {
     "data": {
      "image/png": "[encoded data removed]",
      "text/plain": [
       "<Figure size 640x480 with 1 Axes>"
      ]
     },
     "metadata": {},
     "output_type": "display_data"
    }
   ],
   "source": [
    "#зависимость цены от площади кухни\n",
    "data.plot(x= 'kitchen_area', y= 'last_price', kind= 'scatter', grid = True)\n",
    "data['kitchen_area'].corr(data['last_price'])"
   ]
  },
  {
   "cell_type": "markdown",
   "id": "2334e446",
   "metadata": {},
   "source": [
    "###### Зависимость цены от площади кухни меньше чем зависимость от общей и жилой площадей. Коэффициент кореляции Пирсона - 0,58. График так же подтверждает это."
   ]
  },
  {
   "cell_type": "code",
   "execution_count": 131,
   "id": "390ae625",
   "metadata": {},
   "outputs": [
    {
     "data": {
      "text/plain": [
       "0.47400934751276314"
      ]
     },
     "execution_count": 131,
     "metadata": {},
     "output_type": "execute_result"
    },
    {
     "data": {
      "image/png": "[encoded data removed]",
      "text/plain": [
       "<Figure size 500x500 with 1 Axes>"
      ]
     },
     "metadata": {},
     "output_type": "display_data"
    }
   ],
   "source": [
    "#зависимость цены от количества комнат\n",
    "data.pivot_table(index='rooms', values='last_price').plot(grid=True, style='o-', figsize=(5, 5))\n",
    "data['rooms'].corr(data['last_price'])"
   ]
  },
  {
   "cell_type": "markdown",
   "id": "a07edaf9",
   "metadata": {},
   "source": [
    "###### Зависимость цены от количества комнаттак же существует. Коэффициент кореляции Пирсона - 0,47. На графике так же прослеживается линейная зависимость. Чем больше комнат, тем больше цена."
   ]
  },
  {
   "cell_type": "code",
   "execution_count": 132,
   "id": "381425f9",
   "metadata": {},
   "outputs": [
    {
     "data": {
      "text/plain": [
       "<AxesSubplot:xlabel='floor_type'>"
      ]
     },
     "execution_count": 132,
     "metadata": {},
     "output_type": "execute_result"
    },
    {
     "data": {
      "image/png": "[encoded data removed]",
      "text/plain": [
       "<Figure size 500x500 with 1 Axes>"
      ]
     },
     "metadata": {},
     "output_type": "display_data"
    }
   ],
   "source": [
    "#зависимость цены от этажа, на котором расположена квартира\n",
    "data.pivot_table(index='floor_type', values='last_price').plot(grid=True, style='o-', figsize=(5, 5))"
   ]
  },
  {
   "cell_type": "markdown",
   "id": "509e73af",
   "metadata": {},
   "source": [
    "###### Зависимость цены от этажа, на котором расположена квартира: На графике наблюдается прямая зависимость цены от этажа. Первый этаж самый дешевый. Последний - дороже первого. И самые дорогие расположились посередине."
   ]
  },
  {
   "cell_type": "code",
   "execution_count": 133,
   "id": "ab668b37",
   "metadata": {},
   "outputs": [
    {
     "data": {
      "text/plain": [
       "<AxesSubplot:xlabel='year'>"
      ]
     },
     "execution_count": 133,
     "metadata": {},
     "output_type": "execute_result"
    },
    {
     "data": {
      "image/png": "[encoded data removed]",
      "text/plain": [
       "<Figure size 500x500 with 1 Axes>"
      ]
     },
     "metadata": {},
     "output_type": "display_data"
    },
    {
     "data": {
      "image/png": "[encoded data removed]",
      "text/plain": [
       "<Figure size 1000x500 with 1 Axes>"
      ]
     },
     "metadata": {},
     "output_type": "display_data"
    },
    {
     "data": {
      "image/png": "[encoded data removed]",
      "text/plain": [
       "<Figure size 500x500 with 1 Axes>"
      ]
     },
     "metadata": {},
     "output_type": "display_data"
    }
   ],
   "source": [
    "# Зависимость от дня размещения\n",
    "data.pivot_table(index='weekday', values='last_price').plot(grid=True, style='o-', figsize=(5, 5))\n",
    "\n",
    "# Зависимость от месяца размещения\n",
    "data.pivot_table(index='month', values='last_price').plot(grid=True, style='o-', xlim=(1,12), figsize=(10, 5))\n",
    "\n",
    "# Зависимость от года размещения\n",
    "data.pivot_table(index='year', values='last_price').plot(grid=True, style='o-', figsize=(5, 5))"
   ]
  },
  {
   "cell_type": "markdown",
   "id": "fded247b",
   "metadata": {},
   "source": [
    "###### День недели: Определенной зависимости цены от дня недели не прослеживается. Самые дорогие опубликованы в середине недели, самые дешевые - в конце.\n",
    "###### Месяц: По году колебания цен расположились следущим образом: Месяцы с дорогими объявлениями - Февраль, Май, Сентябрь. С дешевыми - Февраль, Март, Июнь, Октябрь. Вероятно это связано с общей деловой активностью, которая в начале года и летом находится на низком уровне.\n",
    "###### Год: Квартиры очень сильно подешевели в 2015-2018 годах, что, вероятно, вызвано некоторым кризисом 2014-2015 годов. В 2019 году цены снова стали повышаться, так как регуляторная политика ЦБ в этот момент была достаточно мягкая."
   ]
  },
  {
   "cell_type": "markdown",
   "id": "f3d04a5c",
   "metadata": {},
   "source": [
    "### 5.1  Расчет средней цены одного квадратного метра в 10 населённых пунктах с наибольшим числом объявлений"
   ]
  },
  {
   "cell_type": "code",
   "execution_count": 135,
   "id": "095cd6f6",
   "metadata": {},
   "outputs": [
    {
     "data": {
      "text/html": [
       "<div>\n",
       "<style scoped>\n",
       "    .dataframe tbody tr th:only-of-type {\n",
       "        vertical-align: middle;\n",
       "    }\n",
       "\n",
       "    .dataframe tbody tr th {\n",
       "        vertical-align: top;\n",
       "    }\n",
       "\n",
       "    .dataframe thead th {\n",
       "        text-align: right;\n",
       "    }\n",
       "</style>\n",
       "<table border=\"1\" class=\"dataframe\">\n",
       "  <thead>\n",
       "    <tr style=\"text-align: right;\">\n",
       "      <th></th>\n",
       "      <th>sqm_price</th>\n",
       "    </tr>\n",
       "    <tr>\n",
       "      <th>locality_name</th>\n",
       "      <th></th>\n",
       "    </tr>\n",
       "  </thead>\n",
       "  <tbody>\n",
       "    <tr>\n",
       "      <th>Санкт-Петербург</th>\n",
       "      <td>111926</td>\n",
       "    </tr>\n",
       "    <tr>\n",
       "      <th>Пушкин</th>\n",
       "      <td>102901</td>\n",
       "    </tr>\n",
       "    <tr>\n",
       "      <th>Кудрово</th>\n",
       "      <td>95298</td>\n",
       "    </tr>\n",
       "    <tr>\n",
       "      <th>Парголово</th>\n",
       "      <td>90348</td>\n",
       "    </tr>\n",
       "    <tr>\n",
       "      <th>Мурино</th>\n",
       "      <td>85923</td>\n",
       "    </tr>\n",
       "    <tr>\n",
       "      <th>Шушары</th>\n",
       "      <td>78702</td>\n",
       "    </tr>\n",
       "    <tr>\n",
       "      <th>Колпино</th>\n",
       "      <td>75332</td>\n",
       "    </tr>\n",
       "    <tr>\n",
       "      <th>Гатчина</th>\n",
       "      <td>68745</td>\n",
       "    </tr>\n",
       "    <tr>\n",
       "      <th>Всеволожск</th>\n",
       "      <td>68654</td>\n",
       "    </tr>\n",
       "    <tr>\n",
       "      <th>Выборг</th>\n",
       "      <td>58141</td>\n",
       "    </tr>\n",
       "  </tbody>\n",
       "</table>\n",
       "</div>"
      ],
      "text/plain": [
       "                 sqm_price\n",
       "locality_name             \n",
       "Санкт-Петербург     111926\n",
       "Пушкин              102901\n",
       "Кудрово              95298\n",
       "Парголово            90348\n",
       "Мурино               85923\n",
       "Шушары               78702\n",
       "Колпино              75332\n",
       "Гатчина              68745\n",
       "Всеволожск           68654\n",
       "Выборг               58141"
      ]
     },
     "execution_count": 135,
     "metadata": {},
     "output_type": "execute_result"
    }
   ],
   "source": [
    "# Сравниваем среднюю стоимость квадратного метра в топ-10 городов по числу объявлений\n",
    "city_top_ten = data['locality_name'].value_counts().head(10)\n",
    "city_top_ten_sqm_price = (\n",
    "    data.query('locality_name in (@city_top_ten.index)')\n",
    "    .pivot_table(index='locality_name', values='sqm_price')\n",
    "    .sort_values('sqm_price', ascending=False)\n",
    "    .astype(int)\n",
    ")\n",
    "city_top_ten_sqm_price"
   ]
  },
  {
   "cell_type": "markdown",
   "id": "08a29e0b",
   "metadata": {},
   "source": [
    "###### Вывод: Наибольшая средняя стоимость квадратного метра, как и ожидалось, в Санкт-Петербурге. На втором месте раположился Пушкин. Скорее всего это связано с исторической привлекательностью данного города, и большого потока туристов. Далее идут города, фактически являющиеся частью Санкт-Петербурга. Наименьшая стоимость квадратного метра у Выборга, который значително удален от столицы региона."
   ]
  },
  {
   "cell_type": "markdown",
   "id": "2a7ade85",
   "metadata": {},
   "source": [
    "### 5.2  Оценка изменения стоимости объектов в зависимости от расстояния до центра города"
   ]
  },
  {
   "cell_type": "code",
   "execution_count": 136,
   "id": "0981f505",
   "metadata": {},
   "outputs": [
    {
     "data": {
      "text/plain": [
       "<AxesSubplot:xlabel='cityCenters_nearest'>"
      ]
     },
     "execution_count": 136,
     "metadata": {},
     "output_type": "execute_result"
    },
    {
     "data": {
      "image/png": "[encoded data removed]",
      "text/plain": [
       "<Figure size 1000x500 with 1 Axes>"
      ]
     },
     "metadata": {},
     "output_type": "display_data"
    }
   ],
   "source": [
    "(\n",
    "    data.query('locality_name == \"Санкт-Петербург\"')\n",
    "    .pivot_table(index='cityCenters_nearest', values='sqm_price')\n",
    "    .sort_values('cityCenters_nearest')\n",
    "    .plot(grid=True, style='o-', xlim=(0,15), figsize=(10, 5))\n",
    ")"
   ]
  },
  {
   "cell_type": "markdown",
   "id": "e827f15c",
   "metadata": {},
   "source": [
    "###### Вывод: Как и ожидалось цена квадратного метра имеет обратную зависимость от расстояния до центра города. Самый дорогой квадратный метр в центре города, более 150 тысяч рублей. Далее стоимость метра пропорционально падает, и на границе города составляет 100 тысяч рублей. Существует локальный всплеск стоимости на 6м километре. Возможно там расположился район с элитной недвижимостью."
   ]
  },
  {
   "cell_type": "markdown",
   "id": "584b1c61",
   "metadata": {},
   "source": [
    "# Общий вывод"
   ]
  },
  {
   "cell_type": "markdown",
   "id": "77113d01",
   "metadata": {},
   "source": [
    "##### В данной работе был проведен исследовательский анализ данных объявлений о продаже недвижимости в г. Санкт-Петербург. Были проанализированы 23440 объявлений. Проведена предобработка данных. Были удалены явные и не явные дубликаты, обработаны пропуски и не правдоподобные значения в тринадцати признаках.\n",
    "##### Посчитаны дополнительные признаки, cтоимость квадратного метра, тип этажа квартиры. Медианные значания продаваемых квартир: площадь 52м^2, цена - 4,6млн, количество комнат - 2, высота полтолков -2,65, стоимость квадратного метра -94т.р.\n",
    "##### Был проведен исследовательский анализ данных. Определены сроки продажи квартир: Чаще всего квартиры продают за 92 дня, быстрой продажей можно считать срок менее 44 дней, медленной - больше 217 дней. Медианное значение срока продажи - 92 дня.\n",
    "##### Изучили факторы, наиболее влияющие на общую стоимость квартир. Выяснилось, что на стоимость квартир больше всего влияет площадь квартир и этаж, на котором она расположена. Количество комнат так же имеет линейную звисимость.\n",
    "##### Посчитали среднюю стоимость квадратного метра по городам. Как и ожидалось самая большая в Санкт-Петербурге(>113т.р.) и прилегающих к нему городах(> 75 т.р.). Оценили изменение стоимости квадратного метра по удалению от центра города. Как и ожидалось цена квадратного метра имеет обратную зависимость от расстояния до центра города. Самый дорогой квадратный метр в центре - более 160 тысяч рублей, и на границе города составляет 100 тысяч рублей."
   ]
  }
 ],
 "metadata": {
  "kernelspec": {
   "display_name": "Python 3 (ipykernel)",
   "language": "python",
   "name": "python3"
  },
  "language_info": {
   "codemirror_mode": {
    "name": "ipython",
    "version": 3
   },
   "file_extension": ".py",
   "mimetype": "text/x-python",
   "name": "python",
   "nbconvert_exporter": "python",
   "pygments_lexer": "ipython3",
   "version": "3.9.13"
  }
 },
 "nbformat": 4,
 "nbformat_minor": 5
}
